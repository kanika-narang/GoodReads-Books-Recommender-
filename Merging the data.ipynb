{
 "cells": [
  {
   "cell_type": "code",
   "execution_count": 4,
   "metadata": {},
   "outputs": [],
   "source": [
    "import csv\n",
    "import pandas as pd\n",
    "#\n",
    "#\n"
   ]
  },
  {
   "cell_type": "code",
   "execution_count": 5,
   "metadata": {
    "collapsed": true
   },
   "outputs": [],
   "source": [
    "newdata = pd.read_csv('/home/kanika/Documents/3rdsem/Machine Learning/Scraping/tutorial/datafull.csv', sep=',')"
   ]
  },
  {
   "cell_type": "code",
   "execution_count": 7,
   "metadata": {},
   "outputs": [],
   "source": [
    "realdata = pd.read_csv('/home/kanika/Documents/3rdsem/Machine Learning/project/goodbooks-10k/books.csv',sep=',')"
   ]
  },
  {
   "cell_type": "code",
   "execution_count": 9,
   "metadata": {},
   "outputs": [
    {
     "data": {
      "text/html": [
       "<div>\n",
       "<style>\n",
       "    .dataframe thead tr:only-child th {\n",
       "        text-align: right;\n",
       "    }\n",
       "\n",
       "    .dataframe thead th {\n",
       "        text-align: left;\n",
       "    }\n",
       "\n",
       "    .dataframe tbody tr th {\n",
       "        vertical-align: top;\n",
       "    }\n",
       "</style>\n",
       "<table border=\"1\" class=\"dataframe\">\n",
       "  <thead>\n",
       "    <tr style=\"text-align: right;\">\n",
       "      <th></th>\n",
       "      <th>book_id</th>\n",
       "      <th>goodreads_title</th>\n",
       "      <th>goodreads_book_id</th>\n",
       "      <th>goodreads_work_id</th>\n",
       "    </tr>\n",
       "  </thead>\n",
       "  <tbody>\n",
       "    <tr>\n",
       "      <th>0</th>\n",
       "      <td>1</td>\n",
       "      <td>The Hunger Games (The Hunger Games, #1)</td>\n",
       "      <td>2767052</td>\n",
       "      <td>2792775</td>\n",
       "    </tr>\n",
       "    <tr>\n",
       "      <th>1</th>\n",
       "      <td>2</td>\n",
       "      <td>Harry Potter and the Sorcerer's Stone (Harry P...</td>\n",
       "      <td>3</td>\n",
       "      <td>4640799</td>\n",
       "    </tr>\n",
       "    <tr>\n",
       "      <th>2</th>\n",
       "      <td>3</td>\n",
       "      <td>Twilight (Twilight, #1)</td>\n",
       "      <td>41865</td>\n",
       "      <td>3212258</td>\n",
       "    </tr>\n",
       "    <tr>\n",
       "      <th>3</th>\n",
       "      <td>4</td>\n",
       "      <td>To Kill a Mockingbird (To Kill a Mockingbird #1)</td>\n",
       "      <td>2657</td>\n",
       "      <td>3275794</td>\n",
       "    </tr>\n",
       "    <tr>\n",
       "      <th>4</th>\n",
       "      <td>5</td>\n",
       "      <td>The Great Gatsby</td>\n",
       "      <td>4671</td>\n",
       "      <td>245494</td>\n",
       "    </tr>\n",
       "  </tbody>\n",
       "</table>\n",
       "</div>"
      ],
      "text/plain": [
       "   book_id                                    goodreads_title  \\\n",
       "0        1            The Hunger Games (The Hunger Games, #1)   \n",
       "1        2  Harry Potter and the Sorcerer's Stone (Harry P...   \n",
       "2        3                            Twilight (Twilight, #1)   \n",
       "3        4   To Kill a Mockingbird (To Kill a Mockingbird #1)   \n",
       "4        5                                   The Great Gatsby   \n",
       "\n",
       "   goodreads_book_id  goodreads_work_id  \n",
       "0            2767052            2792775  \n",
       "1                  3            4640799  \n",
       "2              41865            3212258  \n",
       "3               2657            3275794  \n",
       "4               4671             245494  "
      ]
     },
     "execution_count": 9,
     "metadata": {},
     "output_type": "execute_result"
    }
   ],
   "source": [
    "realdata.head()"
   ]
  },
  {
   "cell_type": "code",
   "execution_count": 10,
   "metadata": {},
   "outputs": [
    {
     "data": {
      "text/html": [
       "<div>\n",
       "<style>\n",
       "    .dataframe thead tr:only-child th {\n",
       "        text-align: right;\n",
       "    }\n",
       "\n",
       "    .dataframe thead th {\n",
       "        text-align: left;\n",
       "    }\n",
       "\n",
       "    .dataframe tbody tr th {\n",
       "        vertical-align: top;\n",
       "    }\n",
       "</style>\n",
       "<table border=\"1\" class=\"dataframe\">\n",
       "  <thead>\n",
       "    <tr style=\"text-align: right;\">\n",
       "      <th></th>\n",
       "      <th>Language</th>\n",
       "      <th>id</th>\n",
       "      <th>title</th>\n",
       "      <th>GoodReadAverageRating</th>\n",
       "      <th>description</th>\n",
       "      <th>author</th>\n",
       "      <th>NumberofRatings</th>\n",
       "    </tr>\n",
       "  </thead>\n",
       "  <tbody>\n",
       "    <tr>\n",
       "      <th>0</th>\n",
       "      <td>English</td>\n",
       "      <td>1885</td>\n",
       "      <td>Pride and Prejudice</td>\n",
       "      <td>4.24</td>\n",
       "      <td>“It is a truth universally acknowledged, that ...</td>\n",
       "      <td>Jane Austen</td>\n",
       "      <td>2212893</td>\n",
       "    </tr>\n",
       "    <tr>\n",
       "      <th>1</th>\n",
       "      <td>English</td>\n",
       "      <td>13335037</td>\n",
       "      <td>Divergent</td>\n",
       "      <td>4.24</td>\n",
       "      <td>playlist, faction manifestos, and more!</td>\n",
       "      <td>Veronica Roth</td>\n",
       "      <td>2241943</td>\n",
       "    </tr>\n",
       "    <tr>\n",
       "      <th>2</th>\n",
       "      <td>English</td>\n",
       "      <td>77203</td>\n",
       "      <td>The Kite Runner</td>\n",
       "      <td>4.26</td>\n",
       "      <td>Amir is the son of a wealthy Kabul merchant, a...</td>\n",
       "      <td>Khaled Hosseini</td>\n",
       "      <td>1892163</td>\n",
       "    </tr>\n",
       "    <tr>\n",
       "      <th>3</th>\n",
       "      <td>English</td>\n",
       "      <td>960</td>\n",
       "      <td>Angels &amp; Demons</td>\n",
       "      <td>3.86</td>\n",
       "      <td>A devastating new weapon of destruction.</td>\n",
       "      <td>Dan Brown</td>\n",
       "      <td>2094460</td>\n",
       "    </tr>\n",
       "    <tr>\n",
       "      <th>4</th>\n",
       "      <td>English</td>\n",
       "      <td>5907</td>\n",
       "      <td>The Hobbit : or There and Back Again</td>\n",
       "      <td>4.25</td>\n",
       "      <td>met with instant critical acclaim when it was...</td>\n",
       "      <td>J.R.R. Tolkien</td>\n",
       "      <td>2210347</td>\n",
       "    </tr>\n",
       "  </tbody>\n",
       "</table>\n",
       "</div>"
      ],
      "text/plain": [
       "  Language        id                                 title  \\\n",
       "0  English      1885                   Pride and Prejudice   \n",
       "1  English  13335037                             Divergent   \n",
       "2  English     77203                      The Kite Runner    \n",
       "3  English       960                      Angels & Demons    \n",
       "4  English      5907  The Hobbit : or There and Back Again   \n",
       "\n",
       "   GoodReadAverageRating                                        description  \\\n",
       "0                   4.24  “It is a truth universally acknowledged, that ...   \n",
       "1                   4.24            playlist, faction manifestos, and more!   \n",
       "2                   4.26  Amir is the son of a wealthy Kabul merchant, a...   \n",
       "3                   3.86           A devastating new weapon of destruction.   \n",
       "4                   4.25   met with instant critical acclaim when it was...   \n",
       "\n",
       "            author  NumberofRatings  \n",
       "0      Jane Austen          2212893  \n",
       "1    Veronica Roth          2241943  \n",
       "2  Khaled Hosseini          1892163  \n",
       "3        Dan Brown          2094460  \n",
       "4   J.R.R. Tolkien          2210347  "
      ]
     },
     "execution_count": 10,
     "metadata": {},
     "output_type": "execute_result"
    }
   ],
   "source": [
    "newdata.head()"
   ]
  },
  {
   "cell_type": "code",
   "execution_count": 14,
   "metadata": {},
   "outputs": [],
   "source": [
    "mergerdata =newdata.merge(realdata,left_on='id', right_on='goodreads_book_id')"
   ]
  },
  {
   "cell_type": "code",
   "execution_count": 16,
   "metadata": {},
   "outputs": [
    {
     "data": {
      "text/html": [
       "<div>\n",
       "<style>\n",
       "    .dataframe thead tr:only-child th {\n",
       "        text-align: right;\n",
       "    }\n",
       "\n",
       "    .dataframe thead th {\n",
       "        text-align: left;\n",
       "    }\n",
       "\n",
       "    .dataframe tbody tr th {\n",
       "        vertical-align: top;\n",
       "    }\n",
       "</style>\n",
       "<table border=\"1\" class=\"dataframe\">\n",
       "  <thead>\n",
       "    <tr style=\"text-align: right;\">\n",
       "      <th></th>\n",
       "      <th>Language</th>\n",
       "      <th>id</th>\n",
       "      <th>title</th>\n",
       "      <th>GoodReadAverageRating</th>\n",
       "      <th>description</th>\n",
       "      <th>author</th>\n",
       "      <th>NumberofRatings</th>\n",
       "      <th>book_id</th>\n",
       "      <th>goodreads_title</th>\n",
       "      <th>goodreads_book_id</th>\n",
       "      <th>goodreads_work_id</th>\n",
       "    </tr>\n",
       "  </thead>\n",
       "  <tbody>\n",
       "    <tr>\n",
       "      <th>0</th>\n",
       "      <td>English</td>\n",
       "      <td>1885</td>\n",
       "      <td>Pride and Prejudice</td>\n",
       "      <td>4.24</td>\n",
       "      <td>“It is a truth universally acknowledged, that ...</td>\n",
       "      <td>Jane Austen</td>\n",
       "      <td>2212893</td>\n",
       "      <td>10</td>\n",
       "      <td>Pride and Prejudice</td>\n",
       "      <td>1885</td>\n",
       "      <td>3060926</td>\n",
       "    </tr>\n",
       "    <tr>\n",
       "      <th>1</th>\n",
       "      <td>English</td>\n",
       "      <td>13335037</td>\n",
       "      <td>Divergent</td>\n",
       "      <td>4.24</td>\n",
       "      <td>playlist, faction manifestos, and more!</td>\n",
       "      <td>Veronica Roth</td>\n",
       "      <td>2241943</td>\n",
       "      <td>12</td>\n",
       "      <td>Divergent (Divergent, #1)</td>\n",
       "      <td>13335037</td>\n",
       "      <td>13155899</td>\n",
       "    </tr>\n",
       "    <tr>\n",
       "      <th>2</th>\n",
       "      <td>English</td>\n",
       "      <td>77203</td>\n",
       "      <td>The Kite Runner</td>\n",
       "      <td>4.26</td>\n",
       "      <td>Amir is the son of a wealthy Kabul merchant, a...</td>\n",
       "      <td>Khaled Hosseini</td>\n",
       "      <td>1892163</td>\n",
       "      <td>11</td>\n",
       "      <td>The Kite Runner</td>\n",
       "      <td>77203</td>\n",
       "      <td>3295919</td>\n",
       "    </tr>\n",
       "    <tr>\n",
       "      <th>3</th>\n",
       "      <td>English</td>\n",
       "      <td>960</td>\n",
       "      <td>Angels &amp; Demons</td>\n",
       "      <td>3.86</td>\n",
       "      <td>A devastating new weapon of destruction.</td>\n",
       "      <td>Dan Brown</td>\n",
       "      <td>2094460</td>\n",
       "      <td>9</td>\n",
       "      <td>Angels &amp; Demons  (Robert Langdon, #1)</td>\n",
       "      <td>960</td>\n",
       "      <td>3338963</td>\n",
       "    </tr>\n",
       "    <tr>\n",
       "      <th>4</th>\n",
       "      <td>English</td>\n",
       "      <td>5907</td>\n",
       "      <td>The Hobbit : or There and Back Again</td>\n",
       "      <td>4.25</td>\n",
       "      <td>met with instant critical acclaim when it was...</td>\n",
       "      <td>J.R.R. Tolkien</td>\n",
       "      <td>2210347</td>\n",
       "      <td>7</td>\n",
       "      <td>The Hobbit</td>\n",
       "      <td>5907</td>\n",
       "      <td>1540236</td>\n",
       "    </tr>\n",
       "  </tbody>\n",
       "</table>\n",
       "</div>"
      ],
      "text/plain": [
       "  Language        id                                 title  \\\n",
       "0  English      1885                   Pride and Prejudice   \n",
       "1  English  13335037                             Divergent   \n",
       "2  English     77203                      The Kite Runner    \n",
       "3  English       960                      Angels & Demons    \n",
       "4  English      5907  The Hobbit : or There and Back Again   \n",
       "\n",
       "   GoodReadAverageRating                                        description  \\\n",
       "0                   4.24  “It is a truth universally acknowledged, that ...   \n",
       "1                   4.24            playlist, faction manifestos, and more!   \n",
       "2                   4.26  Amir is the son of a wealthy Kabul merchant, a...   \n",
       "3                   3.86           A devastating new weapon of destruction.   \n",
       "4                   4.25   met with instant critical acclaim when it was...   \n",
       "\n",
       "            author  NumberofRatings  book_id  \\\n",
       "0      Jane Austen          2212893       10   \n",
       "1    Veronica Roth          2241943       12   \n",
       "2  Khaled Hosseini          1892163       11   \n",
       "3        Dan Brown          2094460        9   \n",
       "4   J.R.R. Tolkien          2210347        7   \n",
       "\n",
       "                         goodreads_title  goodreads_book_id  goodreads_work_id  \n",
       "0                    Pride and Prejudice               1885            3060926  \n",
       "1              Divergent (Divergent, #1)           13335037           13155899  \n",
       "2                        The Kite Runner              77203            3295919  \n",
       "3  Angels & Demons  (Robert Langdon, #1)                960            3338963  \n",
       "4                             The Hobbit               5907            1540236  "
      ]
     },
     "execution_count": 16,
     "metadata": {},
     "output_type": "execute_result"
    }
   ],
   "source": [
    "mergerdata.head()"
   ]
  },
  {
   "cell_type": "code",
   "execution_count": 17,
   "metadata": {},
   "outputs": [
    {
     "data": {
      "text/plain": [
       "9594"
      ]
     },
     "execution_count": 17,
     "metadata": {},
     "output_type": "execute_result"
    }
   ],
   "source": [
    "len(mergerdata)"
   ]
  },
  {
   "cell_type": "code",
   "execution_count": 18,
   "metadata": {
    "collapsed": true
   },
   "outputs": [],
   "source": [
    "mergerdata.to_csv('mergedata.csv',sep=',')"
   ]
  },
  {
   "cell_type": "code",
   "execution_count": null,
   "metadata": {
    "collapsed": true
   },
   "outputs": [],
   "source": []
  }
 ],
 "metadata": {
  "kernelspec": {
   "display_name": "Python 3",
   "language": "python",
   "name": "python3"
  },
  "language_info": {
   "codemirror_mode": {
    "name": "ipython",
    "version": 3
   },
   "file_extension": ".py",
   "mimetype": "text/x-python",
   "name": "python",
   "nbconvert_exporter": "python",
   "pygments_lexer": "ipython3",
   "version": "3.5.2"
  }
 },
 "nbformat": 4,
 "nbformat_minor": 2
}
