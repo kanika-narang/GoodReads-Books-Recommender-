{
 "cells": [
  {
   "cell_type": "code",
   "execution_count": 2,
   "metadata": {
    "collapsed": true
   },
   "outputs": [],
   "source": [
    "import graphlab"
   ]
  },
  {
   "cell_type": "code",
   "execution_count": 3,
   "metadata": {
    "collapsed": true
   },
   "outputs": [],
   "source": [
    "import csv\n",
    "import pandas as pd"
   ]
  },
  {
   "cell_type": "code",
   "execution_count": 4,
   "metadata": {
    "collapsed": false
   },
   "outputs": [],
   "source": [
    "totaldata = pd.read_csv('C:/Users/SONY/Desktop/3rdsem/Machine Learning/project/DATA/mergefullnewdata.csv', sep=',')"
   ]
  },
  {
   "cell_type": "code",
   "execution_count": 5,
   "metadata": {
    "collapsed": true
   },
   "outputs": [],
   "source": [
    "train_csv_data= pd.read_csv('C:/Users/SONY/Desktop/3rdsem/Machine Learning/project/DATA/training_data.csv', sep=',')"
   ]
  },
  {
   "cell_type": "code",
   "execution_count": 6,
   "metadata": {
    "collapsed": false
   },
   "outputs": [
    {
     "data": {
      "text/html": [
       "<div>\n",
       "<table border=\"1\" class=\"dataframe\">\n",
       "  <thead>\n",
       "    <tr style=\"text-align: right;\">\n",
       "      <th></th>\n",
       "      <th>Unnamed: 0</th>\n",
       "      <th>book_id</th>\n",
       "      <th>user_id</th>\n",
       "      <th>rating</th>\n",
       "    </tr>\n",
       "  </thead>\n",
       "  <tbody>\n",
       "    <tr>\n",
       "      <th>0</th>\n",
       "      <td>538033</td>\n",
       "      <td>5398</td>\n",
       "      <td>20090</td>\n",
       "      <td>4</td>\n",
       "    </tr>\n",
       "    <tr>\n",
       "      <th>1</th>\n",
       "      <td>369903</td>\n",
       "      <td>3704</td>\n",
       "      <td>37939</td>\n",
       "      <td>5</td>\n",
       "    </tr>\n",
       "    <tr>\n",
       "      <th>2</th>\n",
       "      <td>545218</td>\n",
       "      <td>5471</td>\n",
       "      <td>10588</td>\n",
       "      <td>3</td>\n",
       "    </tr>\n",
       "    <tr>\n",
       "      <th>3</th>\n",
       "      <td>388528</td>\n",
       "      <td>3891</td>\n",
       "      <td>19618</td>\n",
       "      <td>3</td>\n",
       "    </tr>\n",
       "    <tr>\n",
       "      <th>4</th>\n",
       "      <td>175980</td>\n",
       "      <td>1761</td>\n",
       "      <td>1713</td>\n",
       "      <td>4</td>\n",
       "    </tr>\n",
       "  </tbody>\n",
       "</table>\n",
       "</div>"
      ],
      "text/plain": [
       "   Unnamed: 0  book_id  user_id  rating\n",
       "0      538033     5398    20090       4\n",
       "1      369903     3704    37939       5\n",
       "2      545218     5471    10588       3\n",
       "3      388528     3891    19618       3\n",
       "4      175980     1761     1713       4"
      ]
     },
     "execution_count": 6,
     "metadata": {},
     "output_type": "execute_result"
    }
   ],
   "source": [
    "train_csv_data.head()"
   ]
  },
  {
   "cell_type": "code",
   "execution_count": 7,
   "metadata": {
    "collapsed": true
   },
   "outputs": [],
   "source": [
    "test_csv_data=pd.read_csv('C:/Users/SONY/Desktop/3rdsem/Machine Learning/project/DATA/test_data.csv', sep=',')"
   ]
  },
  {
   "cell_type": "code",
   "execution_count": 8,
   "metadata": {
    "collapsed": false
   },
   "outputs": [
    {
     "name": "stdout",
     "output_type": "stream",
     "text": [
      "This non-commercial license of GraphLab Create for academic use is assigned to kanika.narang@iiitb.org and will expire on October 13, 2018.\n"
     ]
    },
    {
     "name": "stderr",
     "output_type": "stream",
     "text": [
      "[INFO] graphlab.cython.cy_server: GraphLab Create v2.1 started. Logging: C:\\Users\\SONY\\AppData\\Local\\Temp\\graphlab_server_1508827875.log.0\n"
     ]
    }
   ],
   "source": [
    "train_data = graphlab.SFrame(train_csv_data)"
   ]
  },
  {
   "cell_type": "code",
   "execution_count": 9,
   "metadata": {
    "collapsed": true
   },
   "outputs": [],
   "source": [
    "test_data= graphlab.SFrame(test_csv_data)"
   ]
  },
  {
   "cell_type": "code",
   "execution_count": 10,
   "metadata": {
    "collapsed": true
   },
   "outputs": [],
   "source": [
    "train_data=train_data['book_id','user_id','rating']\n",
    "test_data=test_data['book_id','user_id','rating']"
   ]
  },
  {
   "cell_type": "code",
   "execution_count": 11,
   "metadata": {
    "collapsed": false
   },
   "outputs": [
    {
     "data": {
      "text/html": [
       "<pre>Recsys training: model = popularity</pre>"
      ],
      "text/plain": [
       "Recsys training: model = popularity"
      ]
     },
     "metadata": {},
     "output_type": "display_data"
    },
    {
     "data": {
      "text/html": [
       "<pre>Preparing data set.</pre>"
      ],
      "text/plain": [
       "Preparing data set."
      ]
     },
     "metadata": {},
     "output_type": "display_data"
    },
    {
     "data": {
      "text/html": [
       "<pre>    Data has 736317 observations with 52792 users and 10000 items.</pre>"
      ],
      "text/plain": [
       "    Data has 736317 observations with 52792 users and 10000 items."
      ]
     },
     "metadata": {},
     "output_type": "display_data"
    },
    {
     "data": {
      "text/html": [
       "<pre>    Data prepared in: 1.0764s</pre>"
      ],
      "text/plain": [
       "    Data prepared in: 1.0764s"
      ]
     },
     "metadata": {},
     "output_type": "display_data"
    },
    {
     "data": {
      "text/html": [
       "<pre>736317 observations to process; with 10000 unique items.</pre>"
      ],
      "text/plain": [
       "736317 observations to process; with 10000 unique items."
      ]
     },
     "metadata": {},
     "output_type": "display_data"
    }
   ],
   "source": [
    "popularity_model = graphlab.popularity_recommender.create(train_data, user_id='user_id', item_id='book_id', target='rating')"
   ]
  },
  {
   "cell_type": "code",
   "execution_count": 12,
   "metadata": {
    "collapsed": false
   },
   "outputs": [
    {
     "data": {
      "text/plain": [
       "Class                            : PopularityRecommender\n",
       "\n",
       "Schema\n",
       "------\n",
       "User ID                          : user_id\n",
       "Item ID                          : book_id\n",
       "Target                           : rating\n",
       "Additional observation features  : 0\n",
       "User side features               : []\n",
       "Item side features               : []\n",
       "\n",
       "Statistics\n",
       "----------\n",
       "Number of observations           : 736317\n",
       "Number of users                  : 52792\n",
       "Number of items                  : 10000\n",
       "\n",
       "Training summary\n",
       "----------------\n",
       "Training time                    : 0.1092\n",
       "\n",
       "Model Parameters\n",
       "----------------\n",
       "Model class                      : PopularityRecommender"
      ]
     },
     "execution_count": 12,
     "metadata": {},
     "output_type": "execute_result"
    }
   ],
   "source": [
    "popularity_model"
   ]
  },
  {
   "cell_type": "markdown",
   "metadata": {},
   "source": [
    "<strong>Here we are finding the most popular books<br> all the users have same recommendation based on the most popular choices. </strong>\n",
    "#Get recommendations for first 5 users and print them\n",
    "#users = range(1,6) specifies user ID of first 5 users\n",
    "#k=5 specifies top 5 recommendations to be given"
   ]
  },
  {
   "cell_type": "code",
   "execution_count": 13,
   "metadata": {
    "collapsed": true
   },
   "outputs": [],
   "source": [
    "popularity_recomm = popularity_model.recommend(users=range(1,6),k=5)"
   ]
  },
  {
   "cell_type": "code",
   "execution_count": 14,
   "metadata": {
    "collapsed": false
   },
   "outputs": [
    {
     "name": "stdout",
     "output_type": "stream",
     "text": [
      "+---------+---------+---------------+------+\n",
      "| user_id | book_id |     score     | rank |\n",
      "+---------+---------+---------------+------+\n",
      "|    1    |   7947  | 4.84615384615 |  1   |\n",
      "|    1    |   3275  | 4.78571428571 |  2   |\n",
      "|    1    |   5580  | 4.78481012658 |  3   |\n",
      "|    1    |   6361  | 4.78082191781 |  4   |\n",
      "|    1    |   3628  |     4.775     |  5   |\n",
      "|    2    |   7947  | 4.84615384615 |  1   |\n",
      "|    2    |   3275  | 4.78571428571 |  2   |\n",
      "|    2    |   5580  | 4.78481012658 |  3   |\n",
      "|    2    |   6361  | 4.78082191781 |  4   |\n",
      "|    2    |   3628  |     4.775     |  5   |\n",
      "|    3    |   7947  | 4.84615384615 |  1   |\n",
      "|    3    |   3275  | 4.78571428571 |  2   |\n",
      "|    3    |   5580  | 4.78481012658 |  3   |\n",
      "|    3    |   6361  | 4.78082191781 |  4   |\n",
      "|    3    |   3628  |     4.775     |  5   |\n",
      "|    4    |   7947  | 4.84615384615 |  1   |\n",
      "|    4    |   3275  | 4.78571428571 |  2   |\n",
      "|    4    |   5580  | 4.78481012658 |  3   |\n",
      "|    4    |   6361  | 4.78082191781 |  4   |\n",
      "|    4    |   3628  |     4.775     |  5   |\n",
      "|    5    |   7947  | 4.84615384615 |  1   |\n",
      "|    5    |   3275  | 4.78571428571 |  2   |\n",
      "|    5    |   5580  | 4.78481012658 |  3   |\n",
      "|    5    |   6361  | 4.78082191781 |  4   |\n",
      "|    5    |   3628  |     4.775     |  5   |\n",
      "+---------+---------+---------------+------+\n",
      "[25 rows x 4 columns]\n",
      "\n"
     ]
    }
   ],
   "source": [
    "popularity_recomm.print_rows(num_rows=25)"
   ]
  },
  {
   "cell_type": "code",
   "execution_count": 15,
   "metadata": {
    "collapsed": false
   },
   "outputs": [
    {
     "data": {
      "text/plain": [
       "book_id\n",
       "7947    4.846154\n",
       "3275    4.785714\n",
       "5580    4.784810\n",
       "6361    4.780822\n",
       "3628    4.775000\n",
       "8978    4.767123\n",
       "6920    4.760000\n",
       "6590    4.753623\n",
       "9566    4.753425\n",
       "8946    4.742857\n",
       "3753    4.737500\n",
       "4483    4.736842\n",
       "5207    4.728571\n",
       "1904    4.697368\n",
       "1308    4.693333\n",
       "7883    4.685714\n",
       "6642    4.685714\n",
       "8109    4.681159\n",
       "4868    4.678571\n",
       "9141    4.675325\n",
       "Name: rating, dtype: float64"
      ]
     },
     "execution_count": 15,
     "metadata": {},
     "output_type": "execute_result"
    }
   ],
   "source": [
    "train_csv_data.groupby(by='book_id')['rating'].mean().sort_values(ascending=False).head(20)"
   ]
  },
  {
   "cell_type": "markdown",
   "metadata": {},
   "source": [
    "verified by checking the books with highest mean recommendations in our ratings_base data set:This confirms that all the recommended books have an average rating of 5, i.e. all the users who read the book gave a top rating. Thus we can see that our popularity system works as expected. "
   ]
  },
  {
   "cell_type": "markdown",
   "metadata": {},
   "source": [
    "Reference: https://www.analyticsvidhya.com/blog/2016/06/quick-guide-build-recommendation-engine-python/"
   ]
  },
  {
   "cell_type": "code",
   "execution_count": 12,
   "metadata": {
    "collapsed": false
   },
   "outputs": [],
   "source": [
    "popularity_model.save('C:/Users/SONY/Desktop/3rdsem/Machine Learning/project/Models/Popularity')"
   ]
  },
  {
   "cell_type": "code",
   "execution_count": null,
   "metadata": {
    "collapsed": true
   },
   "outputs": [],
   "source": []
  },
  {
   "cell_type": "code",
   "execution_count": null,
   "metadata": {
    "collapsed": true
   },
   "outputs": [],
   "source": []
  }
 ],
 "metadata": {
  "kernelspec": {
   "display_name": "Python 2",
   "language": "python",
   "name": "python2"
  }
 },
 "nbformat": 4,
 "nbformat_minor": 0
}
