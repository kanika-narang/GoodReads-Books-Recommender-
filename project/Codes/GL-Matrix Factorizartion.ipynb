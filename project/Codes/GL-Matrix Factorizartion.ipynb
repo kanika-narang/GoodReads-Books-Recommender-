{
 "cells": [
  {
   "cell_type": "code",
   "execution_count": 17,
   "metadata": {
    "collapsed": false,
    "scrolled": true
   },
   "outputs": [],
   "source": [
    "import graphlab\n",
    "import csv\n",
    "import pandas as pd\n",
    "train_csv_data= pd.read_csv('C:/Users/SONY/Desktop/3rdsem/Machine Learning/project/DATA/training_data.csv', sep=',')\n",
    "test_csv_data=pd.read_csv('C:/Users/SONY/Desktop/3rdsem/Machine Learning/project/DATA/test_data.csv', sep=',')\n",
    "Bookdata_csv = pd.read_csv('C:/Users/SONY/Desktop/3rdsem/Machine Learning/project/DATA/mergefullnewdata.csv', sep=',')\n",
    "train_data = graphlab.SFrame(train_csv_data)\n",
    "test_data= graphlab.SFrame(test_csv_data)\n",
    "book_data= graphlab.SFrame(Bookdata_csv)"
   ]
  },
  {
   "cell_type": "code",
   "execution_count": null,
   "metadata": {
    "collapsed": false
   },
   "outputs": [
    {
     "name": "stdout",
     "output_type": "stream",
     "text": [
      "\n",
      "By running this function, you agree to the following licenses.\n",
      "\n",
      "* libstdc++: https://gcc.gnu.org/onlinedocs/libstdc++/manual/license.html\n",
      "* xz: http://git.tukaani.org/?p=xz.git;a=blob;f=COPYING\n",
      "    \n",
      "Downloading xz.\n"
     ]
    }
   ],
   "source": [
    "graphlab.get_dependencies()"
   ]
  },
  {
   "cell_type": "code",
   "execution_count": 7,
   "metadata": {
    "collapsed": false
   },
   "outputs": [
    {
     "data": {
      "text/html": [
       "<pre>Recsys training: model = ranking_factorization_recommender</pre>"
      ],
      "text/plain": [
       "Recsys training: model = ranking_factorization_recommender"
      ]
     },
     "metadata": {},
     "output_type": "display_data"
    },
    {
     "data": {
      "text/html": [
       "<pre>Preparing data set.</pre>"
      ],
      "text/plain": [
       "Preparing data set."
      ]
     },
     "metadata": {},
     "output_type": "display_data"
    },
    {
     "data": {
      "text/html": [
       "<pre>    Data has 736317 observations with 52792 users and 18799 items.</pre>"
      ],
      "text/plain": [
       "    Data has 736317 observations with 52792 users and 18799 items."
      ]
     },
     "metadata": {},
     "output_type": "display_data"
    },
    {
     "data": {
      "text/html": [
       "<pre>    Data prepared in: 1.9032s</pre>"
      ],
      "text/plain": [
       "    Data prepared in: 1.9032s"
      ]
     },
     "metadata": {},
     "output_type": "display_data"
    },
    {
     "data": {
      "text/html": [
       "<pre>Training ranking_factorization_recommender for recommendations.</pre>"
      ],
      "text/plain": [
       "Training ranking_factorization_recommender for recommendations."
      ]
     },
     "metadata": {},
     "output_type": "display_data"
    },
    {
     "data": {
      "text/html": [
       "<pre>+--------------------------------+--------------------------------------------------+----------+</pre>"
      ],
      "text/plain": [
       "+--------------------------------+--------------------------------------------------+----------+"
      ]
     },
     "metadata": {},
     "output_type": "display_data"
    },
    {
     "data": {
      "text/html": [
       "<pre>| Parameter                      | Description                                      | Value    |</pre>"
      ],
      "text/plain": [
       "| Parameter                      | Description                                      | Value    |"
      ]
     },
     "metadata": {},
     "output_type": "display_data"
    },
    {
     "data": {
      "text/html": [
       "<pre>+--------------------------------+--------------------------------------------------+----------+</pre>"
      ],
      "text/plain": [
       "+--------------------------------+--------------------------------------------------+----------+"
      ]
     },
     "metadata": {},
     "output_type": "display_data"
    },
    {
     "data": {
      "text/html": [
       "<pre>| num_factors                    | Factor Dimension                                 | 32       |</pre>"
      ],
      "text/plain": [
       "| num_factors                    | Factor Dimension                                 | 32       |"
      ]
     },
     "metadata": {},
     "output_type": "display_data"
    },
    {
     "data": {
      "text/html": [
       "<pre>| regularization                 | L2 Regularization on Factors                     | 1e-009   |</pre>"
      ],
      "text/plain": [
       "| regularization                 | L2 Regularization on Factors                     | 1e-009   |"
      ]
     },
     "metadata": {},
     "output_type": "display_data"
    },
    {
     "data": {
      "text/html": [
       "<pre>| solver                         | Solver used for training                         | adagrad  |</pre>"
      ],
      "text/plain": [
       "| solver                         | Solver used for training                         | adagrad  |"
      ]
     },
     "metadata": {},
     "output_type": "display_data"
    },
    {
     "data": {
      "text/html": [
       "<pre>| linear_regularization          | L2 Regularization on Linear Coefficients         | 1e-009   |</pre>"
      ],
      "text/plain": [
       "| linear_regularization          | L2 Regularization on Linear Coefficients         | 1e-009   |"
      ]
     },
     "metadata": {},
     "output_type": "display_data"
    },
    {
     "data": {
      "text/html": [
       "<pre>| ranking_regularization         | Rank-based Regularization Weight                 | 0.25     |</pre>"
      ],
      "text/plain": [
       "| ranking_regularization         | Rank-based Regularization Weight                 | 0.25     |"
      ]
     },
     "metadata": {},
     "output_type": "display_data"
    },
    {
     "data": {
      "text/html": [
       "<pre>| side_data_factorization        | Assign Factors for Side Data                     | True     |</pre>"
      ],
      "text/plain": [
       "| side_data_factorization        | Assign Factors for Side Data                     | True     |"
      ]
     },
     "metadata": {},
     "output_type": "display_data"
    },
    {
     "data": {
      "text/html": [
       "<pre>| max_iterations                 | Maximum Number of Iterations                     | 25       |</pre>"
      ],
      "text/plain": [
       "| max_iterations                 | Maximum Number of Iterations                     | 25       |"
      ]
     },
     "metadata": {},
     "output_type": "display_data"
    },
    {
     "data": {
      "text/html": [
       "<pre>+--------------------------------+--------------------------------------------------+----------+</pre>"
      ],
      "text/plain": [
       "+--------------------------------+--------------------------------------------------+----------+"
      ]
     },
     "metadata": {},
     "output_type": "display_data"
    },
    {
     "data": {
      "text/html": [
       "<pre>  Optimizing model using SGD; tuning step size.</pre>"
      ],
      "text/plain": [
       "  Optimizing model using SGD; tuning step size."
      ]
     },
     "metadata": {},
     "output_type": "display_data"
    },
    {
     "data": {
      "text/html": [
       "<pre>  Using 92039 / 736317 points for tuning the step size.</pre>"
      ],
      "text/plain": [
       "  Using 92039 / 736317 points for tuning the step size."
      ]
     },
     "metadata": {},
     "output_type": "display_data"
    },
    {
     "data": {
      "text/html": [
       "<pre>+---------+-------------------+------------------------------------------+</pre>"
      ],
      "text/plain": [
       "+---------+-------------------+------------------------------------------+"
      ]
     },
     "metadata": {},
     "output_type": "display_data"
    },
    {
     "data": {
      "text/html": [
       "<pre>| Attempt | Initial Step Size | Estimated Objective Value                |</pre>"
      ],
      "text/plain": [
       "| Attempt | Initial Step Size | Estimated Objective Value                |"
      ]
     },
     "metadata": {},
     "output_type": "display_data"
    },
    {
     "data": {
      "text/html": [
       "<pre>+---------+-------------------+------------------------------------------+</pre>"
      ],
      "text/plain": [
       "+---------+-------------------+------------------------------------------+"
      ]
     },
     "metadata": {},
     "output_type": "display_data"
    },
    {
     "data": {
      "text/html": [
       "<pre>| 0       | 3.33333           | Not Viable                               |</pre>"
      ],
      "text/plain": [
       "| 0       | 3.33333           | Not Viable                               |"
      ]
     },
     "metadata": {},
     "output_type": "display_data"
    },
    {
     "data": {
      "text/html": [
       "<pre>| 1       | 0.833333          | Not Viable                               |</pre>"
      ],
      "text/plain": [
       "| 1       | 0.833333          | Not Viable                               |"
      ]
     },
     "metadata": {},
     "output_type": "display_data"
    },
    {
     "data": {
      "text/html": [
       "<pre>| 2       | 0.208333          | Not Viable                               |</pre>"
      ],
      "text/plain": [
       "| 2       | 0.208333          | Not Viable                               |"
      ]
     },
     "metadata": {},
     "output_type": "display_data"
    },
    {
     "data": {
      "text/html": [
       "<pre>| 3       | 0.0520833         | Not Viable                               |</pre>"
      ],
      "text/plain": [
       "| 3       | 0.0520833         | Not Viable                               |"
      ]
     },
     "metadata": {},
     "output_type": "display_data"
    },
    {
     "data": {
      "text/html": [
       "<pre>| 4       | 0.0130208         | Not Viable                               |</pre>"
      ],
      "text/plain": [
       "| 4       | 0.0130208         | Not Viable                               |"
      ]
     },
     "metadata": {},
     "output_type": "display_data"
    },
    {
     "data": {
      "text/html": [
       "<pre>| 5       | 0.00325521        | No Decrease (1.90457 >= 1.90317)         |</pre>"
      ],
      "text/plain": [
       "| 5       | 0.00325521        | No Decrease (1.90457 >= 1.90317)         |"
      ]
     },
     "metadata": {},
     "output_type": "display_data"
    },
    {
     "data": {
      "text/html": [
       "<pre>| 6       | 0.000813802       | 1.87946                                  |</pre>"
      ],
      "text/plain": [
       "| 6       | 0.000813802       | 1.87946                                  |"
      ]
     },
     "metadata": {},
     "output_type": "display_data"
    },
    {
     "data": {
      "text/html": [
       "<pre>| 7       | 0.000406901       | 1.89097                                  |</pre>"
      ],
      "text/plain": [
       "| 7       | 0.000406901       | 1.89097                                  |"
      ]
     },
     "metadata": {},
     "output_type": "display_data"
    },
    {
     "data": {
      "text/html": [
       "<pre>| 8       | 0.000203451       | 1.89695                                  |</pre>"
      ],
      "text/plain": [
       "| 8       | 0.000203451       | 1.89695                                  |"
      ]
     },
     "metadata": {},
     "output_type": "display_data"
    },
    {
     "data": {
      "text/html": [
       "<pre>| 9       | 0.000101725       | 1.89976                                  |</pre>"
      ],
      "text/plain": [
       "| 9       | 0.000101725       | 1.89976                                  |"
      ]
     },
     "metadata": {},
     "output_type": "display_data"
    },
    {
     "data": {
      "text/html": [
       "<pre>+---------+-------------------+------------------------------------------+</pre>"
      ],
      "text/plain": [
       "+---------+-------------------+------------------------------------------+"
      ]
     },
     "metadata": {},
     "output_type": "display_data"
    },
    {
     "data": {
      "text/html": [
       "<pre>| Final   | 0.000813802       | 1.87946                                  |</pre>"
      ],
      "text/plain": [
       "| Final   | 0.000813802       | 1.87946                                  |"
      ]
     },
     "metadata": {},
     "output_type": "display_data"
    },
    {
     "data": {
      "text/html": [
       "<pre>+---------+-------------------+------------------------------------------+</pre>"
      ],
      "text/plain": [
       "+---------+-------------------+------------------------------------------+"
      ]
     },
     "metadata": {},
     "output_type": "display_data"
    },
    {
     "data": {
      "text/html": [
       "<pre>Starting Optimization.</pre>"
      ],
      "text/plain": [
       "Starting Optimization."
      ]
     },
     "metadata": {},
     "output_type": "display_data"
    },
    {
     "data": {
      "text/html": [
       "<pre>+---------+--------------+-------------------+-----------------------+-------------+</pre>"
      ],
      "text/plain": [
       "+---------+--------------+-------------------+-----------------------+-------------+"
      ]
     },
     "metadata": {},
     "output_type": "display_data"
    },
    {
     "data": {
      "text/html": [
       "<pre>| Iter.   | Elapsed Time | Approx. Objective | Approx. Training RMSE | Step Size   |</pre>"
      ],
      "text/plain": [
       "| Iter.   | Elapsed Time | Approx. Objective | Approx. Training RMSE | Step Size   |"
      ]
     },
     "metadata": {},
     "output_type": "display_data"
    },
    {
     "data": {
      "text/html": [
       "<pre>+---------+--------------+-------------------+-----------------------+-------------+</pre>"
      ],
      "text/plain": [
       "+---------+--------------+-------------------+-----------------------+-------------+"
      ]
     },
     "metadata": {},
     "output_type": "display_data"
    },
    {
     "data": {
      "text/html": [
       "<pre>| Initial | 0us          | 1.9016            | 0.984748              |             |</pre>"
      ],
      "text/plain": [
       "| Initial | 0us          | 1.9016            | 0.984748              |             |"
      ]
     },
     "metadata": {},
     "output_type": "display_data"
    },
    {
     "data": {
      "text/html": [
       "<pre>+---------+--------------+-------------------+-----------------------+-------------+</pre>"
      ],
      "text/plain": [
       "+---------+--------------+-------------------+-----------------------+-------------+"
      ]
     },
     "metadata": {},
     "output_type": "display_data"
    },
    {
     "data": {
      "text/html": [
       "<pre>| 1       | 3.91s        | 1.88612           | 0.983641              | 0.000813802 |</pre>"
      ],
      "text/plain": [
       "| 1       | 3.91s        | 1.88612           | 0.983641              | 0.000813802 |"
      ]
     },
     "metadata": {},
     "output_type": "display_data"
    },
    {
     "data": {
      "text/html": [
       "<pre>| 2       | 6.87s        | 1.87298           | 0.980954              | 0.000813802 |</pre>"
      ],
      "text/plain": [
       "| 2       | 6.87s        | 1.87298           | 0.980954              | 0.000813802 |"
      ]
     },
     "metadata": {},
     "output_type": "display_data"
    },
    {
     "data": {
      "text/html": [
       "<pre>| 3       | 10.73s       | 1.86417           | 0.979691              | 0.000813802 |</pre>"
      ],
      "text/plain": [
       "| 3       | 10.73s       | 1.86417           | 0.979691              | 0.000813802 |"
      ]
     },
     "metadata": {},
     "output_type": "display_data"
    },
    {
     "data": {
      "text/html": [
       "<pre>| 4       | 14.32s       | 1.85748           | 0.978759              | 0.000813802 |</pre>"
      ],
      "text/plain": [
       "| 4       | 14.32s       | 1.85748           | 0.978759              | 0.000813802 |"
      ]
     },
     "metadata": {},
     "output_type": "display_data"
    },
    {
     "data": {
      "text/html": [
       "<pre>| 5       | 17.45s       | 1.85187           | 0.978024              | 0.000813802 |</pre>"
      ],
      "text/plain": [
       "| 5       | 17.45s       | 1.85187           | 0.978024              | 0.000813802 |"
      ]
     },
     "metadata": {},
     "output_type": "display_data"
    },
    {
     "data": {
      "text/html": [
       "<pre>| 6       | 20.68s       | 1.84689           | 0.977407              | 0.000813802 |</pre>"
      ],
      "text/plain": [
       "| 6       | 20.68s       | 1.84689           | 0.977407              | 0.000813802 |"
      ]
     },
     "metadata": {},
     "output_type": "display_data"
    },
    {
     "data": {
      "text/html": [
       "<pre>| 7       | 24.19s       | 1.843             | 0.976908              | 0.000813802 |</pre>"
      ],
      "text/plain": [
       "| 7       | 24.19s       | 1.843             | 0.976908              | 0.000813802 |"
      ]
     },
     "metadata": {},
     "output_type": "display_data"
    },
    {
     "data": {
      "text/html": [
       "<pre>| 8       | 27.30s       | 1.83965           | 0.976537              | 0.000813802 |</pre>"
      ],
      "text/plain": [
       "| 8       | 27.30s       | 1.83965           | 0.976537              | 0.000813802 |"
      ]
     },
     "metadata": {},
     "output_type": "display_data"
    },
    {
     "data": {
      "text/html": [
       "<pre>| 9       | 30.24s       | 1.83693           | 0.976266              | 0.000813802 |</pre>"
      ],
      "text/plain": [
       "| 9       | 30.24s       | 1.83693           | 0.976266              | 0.000813802 |"
      ]
     },
     "metadata": {},
     "output_type": "display_data"
    },
    {
     "data": {
      "text/html": [
       "<pre>| 10      | 33.25s       | 1.83496           | 0.976088              | 0.000813802 |</pre>"
      ],
      "text/plain": [
       "| 10      | 33.25s       | 1.83496           | 0.976088              | 0.000813802 |"
      ]
     },
     "metadata": {},
     "output_type": "display_data"
    },
    {
     "data": {
      "text/html": [
       "<pre>| 11      | 37.23s       | 1.83323           | 0.975947              | 0.000813802 |</pre>"
      ],
      "text/plain": [
       "| 11      | 37.23s       | 1.83323           | 0.975947              | 0.000813802 |"
      ]
     },
     "metadata": {},
     "output_type": "display_data"
    },
    {
     "data": {
      "text/html": [
       "<pre>| 12      | 40.99s       | 1.83131           | 0.975838              | 0.000813802 |</pre>"
      ],
      "text/plain": [
       "| 12      | 40.99s       | 1.83131           | 0.975838              | 0.000813802 |"
      ]
     },
     "metadata": {},
     "output_type": "display_data"
    },
    {
     "data": {
      "text/html": [
       "<pre>| 13      | 44.41s       | 1.83008           | 0.975712              | 0.000813802 |</pre>"
      ],
      "text/plain": [
       "| 13      | 44.41s       | 1.83008           | 0.975712              | 0.000813802 |"
      ]
     },
     "metadata": {},
     "output_type": "display_data"
    },
    {
     "data": {
      "text/html": [
       "<pre>| 14      | 47.92s       | 1.82889           | 0.975516              | 0.000813802 |</pre>"
      ],
      "text/plain": [
       "| 14      | 47.92s       | 1.82889           | 0.975516              | 0.000813802 |"
      ]
     },
     "metadata": {},
     "output_type": "display_data"
    },
    {
     "data": {
      "text/html": [
       "<pre>| 15      | 52.15s       | 1.82852           | 0.975349              | 0.000813802 |</pre>"
      ],
      "text/plain": [
       "| 15      | 52.15s       | 1.82852           | 0.975349              | 0.000813802 |"
      ]
     },
     "metadata": {},
     "output_type": "display_data"
    },
    {
     "data": {
      "text/html": [
       "<pre>| 16      | 56.23s       | 1.82788           | 0.975255              | 0.000813802 |</pre>"
      ],
      "text/plain": [
       "| 16      | 56.23s       | 1.82788           | 0.975255              | 0.000813802 |"
      ]
     },
     "metadata": {},
     "output_type": "display_data"
    },
    {
     "data": {
      "text/html": [
       "<pre>| 17      | 59.63s       | 1.8271            | 0.974994              | 0.000813802 |</pre>"
      ],
      "text/plain": [
       "| 17      | 59.63s       | 1.8271            | 0.974994              | 0.000813802 |"
      ]
     },
     "metadata": {},
     "output_type": "display_data"
    },
    {
     "data": {
      "text/html": [
       "<pre>| 18      | 1m 2s        | 1.82667           | 0.97473               | 0.000813802 |</pre>"
      ],
      "text/plain": [
       "| 18      | 1m 2s        | 1.82667           | 0.97473               | 0.000813802 |"
      ]
     },
     "metadata": {},
     "output_type": "display_data"
    },
    {
     "data": {
      "text/html": [
       "<pre>| 19      | 1m 5s        | 1.82741           | 0.974503              | 0.000813802 |</pre>"
      ],
      "text/plain": [
       "| 19      | 1m 5s        | 1.82741           | 0.974503              | 0.000813802 |"
      ]
     },
     "metadata": {},
     "output_type": "display_data"
    },
    {
     "data": {
      "text/html": [
       "<pre>| 20      | 1m 8s        | 1.82776           | 0.974286              | 0.000813802 |</pre>"
      ],
      "text/plain": [
       "| 20      | 1m 8s        | 1.82776           | 0.974286              | 0.000813802 |"
      ]
     },
     "metadata": {},
     "output_type": "display_data"
    },
    {
     "data": {
      "text/html": [
       "<pre>| 21      | 1m 12s       | 1.82858           | 0.973925              | 0.000813802 |</pre>"
      ],
      "text/plain": [
       "| 21      | 1m 12s       | 1.82858           | 0.973925              | 0.000813802 |"
      ]
     },
     "metadata": {},
     "output_type": "display_data"
    },
    {
     "data": {
      "text/html": [
       "<pre>| 22      | 1m 15s       | 1.83017           | 0.973588              | 0.000813802 |</pre>"
      ],
      "text/plain": [
       "| 22      | 1m 15s       | 1.83017           | 0.973588              | 0.000813802 |"
      ]
     },
     "metadata": {},
     "output_type": "display_data"
    },
    {
     "data": {
      "text/html": [
       "<pre>| 23      | 1m 18s       | 1.83071           | 0.973387              | 0.000813802 |</pre>"
      ],
      "text/plain": [
       "| 23      | 1m 18s       | 1.83071           | 0.973387              | 0.000813802 |"
      ]
     },
     "metadata": {},
     "output_type": "display_data"
    },
    {
     "data": {
      "text/html": [
       "<pre>| 24      | 1m 22s       | 1.83194           | 0.972923              | 0.000813802 |</pre>"
      ],
      "text/plain": [
       "| 24      | 1m 22s       | 1.83194           | 0.972923              | 0.000813802 |"
      ]
     },
     "metadata": {},
     "output_type": "display_data"
    },
    {
     "data": {
      "text/html": [
       "<pre>| 25      | 1m 25s       | 1.8346            | 0.972381              | 0.000813802 |</pre>"
      ],
      "text/plain": [
       "| 25      | 1m 25s       | 1.8346            | 0.972381              | 0.000813802 |"
      ]
     },
     "metadata": {},
     "output_type": "display_data"
    },
    {
     "data": {
      "text/html": [
       "<pre>+---------+--------------+-------------------+-----------------------+-------------+</pre>"
      ],
      "text/plain": [
       "+---------+--------------+-------------------+-----------------------+-------------+"
      ]
     },
     "metadata": {},
     "output_type": "display_data"
    },
    {
     "data": {
      "text/html": [
       "<pre>Optimization Complete: Maximum number of passes through the data reached.</pre>"
      ],
      "text/plain": [
       "Optimization Complete: Maximum number of passes through the data reached."
      ]
     },
     "metadata": {},
     "output_type": "display_data"
    },
    {
     "data": {
      "text/html": [
       "<pre>Computing final objective value and training RMSE.</pre>"
      ],
      "text/plain": [
       "Computing final objective value and training RMSE."
      ]
     },
     "metadata": {},
     "output_type": "display_data"
    },
    {
     "data": {
      "text/html": [
       "<pre>       Final objective value: 1.83638</pre>"
      ],
      "text/plain": [
       "       Final objective value: 1.83638"
      ]
     },
     "metadata": {},
     "output_type": "display_data"
    },
    {
     "data": {
      "text/html": [
       "<pre>       Final training RMSE: 0.972701</pre>"
      ],
      "text/plain": [
       "       Final training RMSE: 0.972701"
      ]
     },
     "metadata": {},
     "output_type": "display_data"
    }
   ],
   "source": [
    "#from graphlab.recommender import ranking_factorization_recommender\n",
    "m1 = graphlab.ranking_factorization_recommender.create(train_data,user_id='user_id',item_id='book_id', target='rating',item_data=book_data)"
   ]
  },
  {
   "cell_type": "code",
   "execution_count": 11,
   "metadata": {
    "collapsed": false
   },
   "outputs": [
    {
     "data": {
      "text/html": [
       "<pre>recommendations finished on 1000/43154 queries. users per second: 115.708</pre>"
      ],
      "text/plain": [
       "recommendations finished on 1000/43154 queries. users per second: 115.708"
      ]
     },
     "metadata": {},
     "output_type": "display_data"
    },
    {
     "data": {
      "text/html": [
       "<pre>recommendations finished on 2000/43154 queries. users per second: 116.444</pre>"
      ],
      "text/plain": [
       "recommendations finished on 2000/43154 queries. users per second: 116.444"
      ]
     },
     "metadata": {},
     "output_type": "display_data"
    },
    {
     "data": {
      "text/html": [
       "<pre>recommendations finished on 3000/43154 queries. users per second: 116.833</pre>"
      ],
      "text/plain": [
       "recommendations finished on 3000/43154 queries. users per second: 116.833"
      ]
     },
     "metadata": {},
     "output_type": "display_data"
    },
    {
     "data": {
      "text/html": [
       "<pre>recommendations finished on 4000/43154 queries. users per second: 117.404</pre>"
      ],
      "text/plain": [
       "recommendations finished on 4000/43154 queries. users per second: 117.404"
      ]
     },
     "metadata": {},
     "output_type": "display_data"
    },
    {
     "data": {
      "text/html": [
       "<pre>recommendations finished on 5000/43154 queries. users per second: 117.447</pre>"
      ],
      "text/plain": [
       "recommendations finished on 5000/43154 queries. users per second: 117.447"
      ]
     },
     "metadata": {},
     "output_type": "display_data"
    },
    {
     "data": {
      "text/html": [
       "<pre>recommendations finished on 6000/43154 queries. users per second: 117.619</pre>"
      ],
      "text/plain": [
       "recommendations finished on 6000/43154 queries. users per second: 117.619"
      ]
     },
     "metadata": {},
     "output_type": "display_data"
    },
    {
     "data": {
      "text/html": [
       "<pre>recommendations finished on 7000/43154 queries. users per second: 117.619</pre>"
      ],
      "text/plain": [
       "recommendations finished on 7000/43154 queries. users per second: 117.619"
      ]
     },
     "metadata": {},
     "output_type": "display_data"
    },
    {
     "data": {
      "text/html": [
       "<pre>recommendations finished on 8000/43154 queries. users per second: 117.944</pre>"
      ],
      "text/plain": [
       "recommendations finished on 8000/43154 queries. users per second: 117.944"
      ]
     },
     "metadata": {},
     "output_type": "display_data"
    },
    {
     "data": {
      "text/html": [
       "<pre>recommendations finished on 9000/43154 queries. users per second: 118.246</pre>"
      ],
      "text/plain": [
       "recommendations finished on 9000/43154 queries. users per second: 118.246"
      ]
     },
     "metadata": {},
     "output_type": "display_data"
    },
    {
     "data": {
      "text/html": [
       "<pre>recommendations finished on 10000/43154 queries. users per second: 118.467</pre>"
      ],
      "text/plain": [
       "recommendations finished on 10000/43154 queries. users per second: 118.467"
      ]
     },
     "metadata": {},
     "output_type": "display_data"
    },
    {
     "data": {
      "text/html": [
       "<pre>recommendations finished on 11000/43154 queries. users per second: 118.688</pre>"
      ],
      "text/plain": [
       "recommendations finished on 11000/43154 queries. users per second: 118.688"
      ]
     },
     "metadata": {},
     "output_type": "display_data"
    },
    {
     "data": {
      "text/html": [
       "<pre>recommendations finished on 12000/43154 queries. users per second: 118.837</pre>"
      ],
      "text/plain": [
       "recommendations finished on 12000/43154 queries. users per second: 118.837"
      ]
     },
     "metadata": {},
     "output_type": "display_data"
    },
    {
     "data": {
      "text/html": [
       "<pre>recommendations finished on 13000/43154 queries. users per second: 118.996</pre>"
      ],
      "text/plain": [
       "recommendations finished on 13000/43154 queries. users per second: 118.996"
      ]
     },
     "metadata": {},
     "output_type": "display_data"
    },
    {
     "data": {
      "text/html": [
       "<pre>recommendations finished on 14000/43154 queries. users per second: 118.944</pre>"
      ],
      "text/plain": [
       "recommendations finished on 14000/43154 queries. users per second: 118.944"
      ]
     },
     "metadata": {},
     "output_type": "display_data"
    },
    {
     "data": {
      "text/html": [
       "<pre>recommendations finished on 15000/43154 queries. users per second: 119.061</pre>"
      ],
      "text/plain": [
       "recommendations finished on 15000/43154 queries. users per second: 119.061"
      ]
     },
     "metadata": {},
     "output_type": "display_data"
    },
    {
     "data": {
      "text/html": [
       "<pre>recommendations finished on 16000/43154 queries. users per second: 119.469</pre>"
      ],
      "text/plain": [
       "recommendations finished on 16000/43154 queries. users per second: 119.469"
      ]
     },
     "metadata": {},
     "output_type": "display_data"
    },
    {
     "data": {
      "text/html": [
       "<pre>recommendations finished on 17000/43154 queries. users per second: 120.042</pre>"
      ],
      "text/plain": [
       "recommendations finished on 17000/43154 queries. users per second: 120.042"
      ]
     },
     "metadata": {},
     "output_type": "display_data"
    },
    {
     "data": {
      "text/html": [
       "<pre>recommendations finished on 18000/43154 queries. users per second: 121.33</pre>"
      ],
      "text/plain": [
       "recommendations finished on 18000/43154 queries. users per second: 121.33"
      ]
     },
     "metadata": {},
     "output_type": "display_data"
    },
    {
     "data": {
      "text/html": [
       "<pre>recommendations finished on 19000/43154 queries. users per second: 122.542</pre>"
      ],
      "text/plain": [
       "recommendations finished on 19000/43154 queries. users per second: 122.542"
      ]
     },
     "metadata": {},
     "output_type": "display_data"
    },
    {
     "data": {
      "text/html": [
       "<pre>recommendations finished on 20000/43154 queries. users per second: 123.642</pre>"
      ],
      "text/plain": [
       "recommendations finished on 20000/43154 queries. users per second: 123.642"
      ]
     },
     "metadata": {},
     "output_type": "display_data"
    },
    {
     "data": {
      "text/html": [
       "<pre>recommendations finished on 21000/43154 queries. users per second: 124.621</pre>"
      ],
      "text/plain": [
       "recommendations finished on 21000/43154 queries. users per second: 124.621"
      ]
     },
     "metadata": {},
     "output_type": "display_data"
    },
    {
     "data": {
      "text/html": [
       "<pre>recommendations finished on 22000/43154 queries. users per second: 125.467</pre>"
      ],
      "text/plain": [
       "recommendations finished on 22000/43154 queries. users per second: 125.467"
      ]
     },
     "metadata": {},
     "output_type": "display_data"
    },
    {
     "data": {
      "text/html": [
       "<pre>recommendations finished on 23000/43154 queries. users per second: 126.316</pre>"
      ],
      "text/plain": [
       "recommendations finished on 23000/43154 queries. users per second: 126.316"
      ]
     },
     "metadata": {},
     "output_type": "display_data"
    },
    {
     "data": {
      "text/html": [
       "<pre>recommendations finished on 24000/43154 queries. users per second: 127.082</pre>"
      ],
      "text/plain": [
       "recommendations finished on 24000/43154 queries. users per second: 127.082"
      ]
     },
     "metadata": {},
     "output_type": "display_data"
    },
    {
     "data": {
      "text/html": [
       "<pre>recommendations finished on 25000/43154 queries. users per second: 127.827</pre>"
      ],
      "text/plain": [
       "recommendations finished on 25000/43154 queries. users per second: 127.827"
      ]
     },
     "metadata": {},
     "output_type": "display_data"
    },
    {
     "data": {
      "text/html": [
       "<pre>recommendations finished on 26000/43154 queries. users per second: 128.511</pre>"
      ],
      "text/plain": [
       "recommendations finished on 26000/43154 queries. users per second: 128.511"
      ]
     },
     "metadata": {},
     "output_type": "display_data"
    },
    {
     "data": {
      "text/html": [
       "<pre>recommendations finished on 27000/43154 queries. users per second: 129.2</pre>"
      ],
      "text/plain": [
       "recommendations finished on 27000/43154 queries. users per second: 129.2"
      ]
     },
     "metadata": {},
     "output_type": "display_data"
    },
    {
     "data": {
      "text/html": [
       "<pre>recommendations finished on 28000/43154 queries. users per second: 129.8</pre>"
      ],
      "text/plain": [
       "recommendations finished on 28000/43154 queries. users per second: 129.8"
      ]
     },
     "metadata": {},
     "output_type": "display_data"
    },
    {
     "data": {
      "text/html": [
       "<pre>recommendations finished on 29000/43154 queries. users per second: 130.335</pre>"
      ],
      "text/plain": [
       "recommendations finished on 29000/43154 queries. users per second: 130.335"
      ]
     },
     "metadata": {},
     "output_type": "display_data"
    },
    {
     "data": {
      "text/html": [
       "<pre>recommendations finished on 30000/43154 queries. users per second: 130.237</pre>"
      ],
      "text/plain": [
       "recommendations finished on 30000/43154 queries. users per second: 130.237"
      ]
     },
     "metadata": {},
     "output_type": "display_data"
    },
    {
     "data": {
      "text/html": [
       "<pre>recommendations finished on 31000/43154 queries. users per second: 130.102</pre>"
      ],
      "text/plain": [
       "recommendations finished on 31000/43154 queries. users per second: 130.102"
      ]
     },
     "metadata": {},
     "output_type": "display_data"
    },
    {
     "data": {
      "text/html": [
       "<pre>recommendations finished on 32000/43154 queries. users per second: 130.009</pre>"
      ],
      "text/plain": [
       "recommendations finished on 32000/43154 queries. users per second: 130.009"
      ]
     },
     "metadata": {},
     "output_type": "display_data"
    },
    {
     "data": {
      "text/html": [
       "<pre>recommendations finished on 33000/43154 queries. users per second: 129.913</pre>"
      ],
      "text/plain": [
       "recommendations finished on 33000/43154 queries. users per second: 129.913"
      ]
     },
     "metadata": {},
     "output_type": "display_data"
    },
    {
     "data": {
      "text/html": [
       "<pre>recommendations finished on 34000/43154 queries. users per second: 129.731</pre>"
      ],
      "text/plain": [
       "recommendations finished on 34000/43154 queries. users per second: 129.731"
      ]
     },
     "metadata": {},
     "output_type": "display_data"
    },
    {
     "data": {
      "text/html": [
       "<pre>recommendations finished on 35000/43154 queries. users per second: 129.53</pre>"
      ],
      "text/plain": [
       "recommendations finished on 35000/43154 queries. users per second: 129.53"
      ]
     },
     "metadata": {},
     "output_type": "display_data"
    },
    {
     "data": {
      "text/html": [
       "<pre>recommendations finished on 36000/43154 queries. users per second: 129.398</pre>"
      ],
      "text/plain": [
       "recommendations finished on 36000/43154 queries. users per second: 129.398"
      ]
     },
     "metadata": {},
     "output_type": "display_data"
    },
    {
     "data": {
      "text/html": [
       "<pre>recommendations finished on 37000/43154 queries. users per second: 129.281</pre>"
      ],
      "text/plain": [
       "recommendations finished on 37000/43154 queries. users per second: 129.281"
      ]
     },
     "metadata": {},
     "output_type": "display_data"
    },
    {
     "data": {
      "text/html": [
       "<pre>recommendations finished on 38000/43154 queries. users per second: 129.184</pre>"
      ],
      "text/plain": [
       "recommendations finished on 38000/43154 queries. users per second: 129.184"
      ]
     },
     "metadata": {},
     "output_type": "display_data"
    },
    {
     "data": {
      "text/html": [
       "<pre>recommendations finished on 39000/43154 queries. users per second: 129.065</pre>"
      ],
      "text/plain": [
       "recommendations finished on 39000/43154 queries. users per second: 129.065"
      ]
     },
     "metadata": {},
     "output_type": "display_data"
    },
    {
     "data": {
      "text/html": [
       "<pre>recommendations finished on 40000/43154 queries. users per second: 129.031</pre>"
      ],
      "text/plain": [
       "recommendations finished on 40000/43154 queries. users per second: 129.031"
      ]
     },
     "metadata": {},
     "output_type": "display_data"
    },
    {
     "data": {
      "text/html": [
       "<pre>recommendations finished on 41000/43154 queries. users per second: 128.953</pre>"
      ],
      "text/plain": [
       "recommendations finished on 41000/43154 queries. users per second: 128.953"
      ]
     },
     "metadata": {},
     "output_type": "display_data"
    },
    {
     "data": {
      "text/html": [
       "<pre>recommendations finished on 42000/43154 queries. users per second: 128.849</pre>"
      ],
      "text/plain": [
       "recommendations finished on 42000/43154 queries. users per second: 128.849"
      ]
     },
     "metadata": {},
     "output_type": "display_data"
    },
    {
     "data": {
      "text/html": [
       "<pre>recommendations finished on 43000/43154 queries. users per second: 128.474</pre>"
      ],
      "text/plain": [
       "recommendations finished on 43000/43154 queries. users per second: 128.474"
      ]
     },
     "metadata": {},
     "output_type": "display_data"
    },
    {
     "name": "stdout",
     "output_type": "stream",
     "text": [
      "\n",
      "Precision and recall summary statistics by cutoff\n",
      "+--------+-------------------+-------------------+\n",
      "| cutoff |   mean_precision  |    mean_recall    |\n",
      "+--------+-------------------+-------------------+\n",
      "|   1    | 0.000602493395745 | 0.000131804626921 |\n",
      "|   2    | 0.000590906984289 | 0.000148757990071 |\n",
      "|   3    | 0.000556147749919 | 0.000166380938441 |\n",
      "|   4    | 0.000509802104092 | 0.000181507677304 |\n",
      "|   5    | 0.000509802104092 | 0.000201043112154 |\n",
      "|   6    | 0.000529112789853 | 0.000230686909481 |\n",
      "|   7    | 0.000503181297546 |  0.00024451578379 |\n",
      "|   8    | 0.000527181721277 | 0.000324790864207 |\n",
      "|   9    | 0.000509802104092 | 0.000334630801566 |\n",
      "|   10   | 0.000516753950966 | 0.000355468499492 |\n",
      "+--------+-------------------+-------------------+\n",
      "[10 rows x 3 columns]\n",
      "\n",
      "('\\nOverall RMSE: ', 0.9738099666237439)\n",
      "\n",
      "Per User RMSE (best)\n",
      "+---------+-------+------------------+\n",
      "| user_id | count |       rmse       |\n",
      "+---------+-------+------------------+\n",
      "|   708   |   1   | 0.00158899075328 |\n",
      "+---------+-------+------------------+\n",
      "[1 rows x 3 columns]\n",
      "\n",
      "\n",
      "Per User RMSE (worst)\n",
      "+---------+-------+---------------+\n",
      "| user_id | count |      rmse     |\n",
      "+---------+-------+---------------+\n",
      "|   2767  |   1   | 3.04984325132 |\n",
      "+---------+-------+---------------+\n",
      "[1 rows x 3 columns]\n",
      "\n",
      "\n",
      "Per Item RMSE (best)\n",
      "+---------+-------+----------------+\n",
      "| book_id | count |      rmse      |\n",
      "+---------+-------+----------------+\n",
      "|   2617  |   22  | 0.457365272688 |\n",
      "+---------+-------+----------------+\n",
      "[1 rows x 3 columns]\n",
      "\n",
      "\n",
      "Per Item RMSE (worst)\n",
      "+---------+-------+---------------+\n",
      "| book_id | count |      rmse     |\n",
      "+---------+-------+---------------+\n",
      "|    3    |   22  | 4.68021430349 |\n",
      "+---------+-------+---------------+\n",
      "[1 rows x 3 columns]\n",
      "\n"
     ]
    },
    {
     "data": {
      "text/plain": [
       "{'precision_recall_by_user': Columns:\n",
       " \tuser_id\tint\n",
       " \tcutoff\tint\n",
       " \tprecision\tfloat\n",
       " \trecall\tfloat\n",
       " \tcount\tint\n",
       " \n",
       " Rows: 776772\n",
       " \n",
       " Data:\n",
       " +---------+--------+-----------+--------+-------+\n",
       " | user_id | cutoff | precision | recall | count |\n",
       " +---------+--------+-----------+--------+-------+\n",
       " |    1    |   1    |    0.0    |  0.0   |   1   |\n",
       " |    1    |   2    |    0.0    |  0.0   |   1   |\n",
       " |    1    |   3    |    0.0    |  0.0   |   1   |\n",
       " |    1    |   4    |    0.0    |  0.0   |   1   |\n",
       " |    1    |   5    |    0.0    |  0.0   |   1   |\n",
       " |    1    |   6    |    0.0    |  0.0   |   1   |\n",
       " |    1    |   7    |    0.0    |  0.0   |   1   |\n",
       " |    1    |   8    |    0.0    |  0.0   |   1   |\n",
       " |    1    |   9    |    0.0    |  0.0   |   1   |\n",
       " |    1    |   10   |    0.0    |  0.0   |   1   |\n",
       " +---------+--------+-----------+--------+-------+\n",
       " [776772 rows x 5 columns]\n",
       " Note: Only the head of the SFrame is printed.\n",
       " You can use print_rows(num_rows=m, num_columns=n) to print more rows and columns.,\n",
       " 'precision_recall_overall': Columns:\n",
       " \tcutoff\tint\n",
       " \tprecision\tfloat\n",
       " \trecall\tfloat\n",
       " \n",
       " Rows: 18\n",
       " \n",
       " Data:\n",
       " +--------+-------------------+-------------------+\n",
       " | cutoff |     precision     |       recall      |\n",
       " +--------+-------------------+-------------------+\n",
       " |   1    | 0.000602493395745 | 0.000131804626921 |\n",
       " |   2    | 0.000590906984289 | 0.000148757990071 |\n",
       " |   3    | 0.000556147749919 | 0.000166380938441 |\n",
       " |   4    | 0.000509802104092 | 0.000181507677304 |\n",
       " |   5    | 0.000509802104092 | 0.000201043112154 |\n",
       " |   6    | 0.000529112789853 | 0.000230686909481 |\n",
       " |   7    | 0.000503181297546 |  0.00024451578379 |\n",
       " |   8    | 0.000527181721277 | 0.000324790864207 |\n",
       " |   9    | 0.000509802104092 | 0.000334630801566 |\n",
       " |   10   | 0.000516753950966 | 0.000355468499492 |\n",
       " +--------+-------------------+-------------------+\n",
       " [18 rows x 3 columns]\n",
       " Note: Only the head of the SFrame is printed.\n",
       " You can use print_rows(num_rows=m, num_columns=n) to print more rows and columns.,\n",
       " 'rmse_by_item': Columns:\n",
       " \tbook_id\tint\n",
       " \tcount\tint\n",
       " \trmse\tfloat\n",
       " \n",
       " Rows: 9999\n",
       " \n",
       " Data:\n",
       " +---------+-------+----------------+\n",
       " | book_id | count |      rmse      |\n",
       " +---------+-------+----------------+\n",
       " |   7899  |   27  | 0.906316403523 |\n",
       " |   5288  |   22  | 0.729235616897 |\n",
       " |   3143  |   27  | 0.904629068753 |\n",
       " |   6769  |   26  | 0.918568975609 |\n",
       " |   5684  |   28  | 0.961845589243 |\n",
       " |   2779  |   23  | 0.854385404037 |\n",
       " |   8455  |   24  | 1.03186923678  |\n",
       " |   118   |   26  | 0.93582198505  |\n",
       " |   3988  |   25  | 0.992872454573 |\n",
       " |   5783  |   30  | 1.04698416983  |\n",
       " +---------+-------+----------------+\n",
       " [9999 rows x 3 columns]\n",
       " Note: Only the head of the SFrame is printed.\n",
       " You can use print_rows(num_rows=m, num_columns=n) to print more rows and columns.,\n",
       " 'rmse_by_user': Columns:\n",
       " \tuser_id\tint\n",
       " \tcount\tint\n",
       " \trmse\tfloat\n",
       " \n",
       " Rows: 43154\n",
       " \n",
       " Data:\n",
       " +---------+-------+----------------+\n",
       " | user_id | count |      rmse      |\n",
       " +---------+-------+----------------+\n",
       " |  21855  |   11  | 0.972582124589 |\n",
       " |   7899  |   1   | 0.835372264604 |\n",
       " |  30621  |   1   | 0.809125686949 |\n",
       " |  43116  |   1   | 0.185744099853 |\n",
       " |  27112  |   3   | 0.843776831972 |\n",
       " |  26319  |   2   | 1.16123086566  |\n",
       " |  26439  |   3   | 1.14315854447  |\n",
       " |   5288  |   3   | 1.21544854636  |\n",
       " |  19584  |   2   | 1.16620110499  |\n",
       " |  22098  |   27  | 0.906059659137 |\n",
       " +---------+-------+----------------+\n",
       " [43154 rows x 3 columns]\n",
       " Note: Only the head of the SFrame is printed.\n",
       " You can use print_rows(num_rows=m, num_columns=n) to print more rows and columns.,\n",
       " 'rmse_overall': 0.9738099666237439}"
      ]
     },
     "execution_count": 11,
     "metadata": {},
     "output_type": "execute_result"
    }
   ],
   "source": [
    "m1.evaluate(test_data)"
   ]
  },
  {
   "cell_type": "code",
   "execution_count": 12,
   "metadata": {
    "collapsed": false
   },
   "outputs": [
    {
     "data": {
      "text/plain": [
       "dtype: float\n",
       "Rows: 245439\n",
       "[3.7631769309263245, 3.793836244987049, 3.7993484581530765, 3.3005621060095667, 3.812656667728189, 3.9398359591673153, 3.7690037801085587, 3.809382610833037, 3.815862115362876, 3.8031801940078056, 3.807246620942914, 3.76368257765131, 3.8007039641607765, 3.888892530982382, 3.2080548701915195, 3.805919733567613, 3.781002609212452, 3.815517443568286, 3.7980802211247977, 3.7968671284155615, 3.814237220618856, 3.801306808099618, 3.80863865054446, 3.807789623676228, 3.7873143799047857, 3.880669522600304, 3.830892310442787, 3.7979502705861794, 3.841702089582591, 3.7883321245497696, 3.815846880192478, 3.8081346312629867, 3.8445490810566825, 3.789218217034542, 3.7950010573673527, 3.805481858002051, 3.842196885437934, 3.826436770043172, 3.7594409824944344, 3.8130705458111764, 3.826984719157373, 3.780910418537805, 3.789234435737718, 3.779153333723559, 3.8094250132130205, 3.8278599917365135, 3.4935832332979357, 3.8080121326457617, 3.801982172293367, 3.823968418844949, 3.255713321968415, 3.8203404702298926, 3.8760075150276254, 3.8162188333079374, 3.794176508239737, 3.280161449231577, 3.832613784628724, 3.7884520769206493, 3.8199963551853924, 3.7904603736167015, 3.82844483948653, 3.8219645224145804, 3.811945830067998, 3.790028703978727, 3.838810262219053, 3.7805398029897876, 3.8119162752884996, 3.829817887212494, 3.771403980175606, 3.839970010720275, 3.831551853902545, 3.7566762236716587, 3.818569180796997, 3.814080304084314, 3.810716401365412, 3.844912214529268, 3.811289334533894, 3.8087381434078167, 3.7957891174866587, 3.836205138451386, 3.8092556134796753, 3.8262321075232855, 3.755242726086391, 3.8109461947216166, 3.830241451927119, 3.8156903698661786, 3.776952601150306, 3.7849245018329873, 3.8200827069608057, 3.8147699089935205, 3.8210680028616335, 3.794106336662364, 3.831183277332834, 3.8239892212247137, 3.742031073971157, 3.7696065216466073, 3.8556923354839805, 3.781667275557747, 3.8054034717559047, 3.6381156635416416, ... ]"
      ]
     },
     "execution_count": 12,
     "metadata": {},
     "output_type": "execute_result"
    }
   ],
   "source": [
    "m1.predict(test_data)"
   ]
  },
  {
   "cell_type": "code",
   "execution_count": 14,
   "metadata": {
    "collapsed": false
   },
   "outputs": [
    {
     "data": {
      "text/html": [
       "<pre>recommendations finished on 1000/52792 queries. users per second: 122.802</pre>"
      ],
      "text/plain": [
       "recommendations finished on 1000/52792 queries. users per second: 122.802"
      ]
     },
     "metadata": {},
     "output_type": "display_data"
    },
    {
     "data": {
      "text/html": [
       "<pre>recommendations finished on 2000/52792 queries. users per second: 122.333</pre>"
      ],
      "text/plain": [
       "recommendations finished on 2000/52792 queries. users per second: 122.333"
      ]
     },
     "metadata": {},
     "output_type": "display_data"
    },
    {
     "data": {
      "text/html": [
       "<pre>recommendations finished on 3000/52792 queries. users per second: 122.411</pre>"
      ],
      "text/plain": [
       "recommendations finished on 3000/52792 queries. users per second: 122.411"
      ]
     },
     "metadata": {},
     "output_type": "display_data"
    },
    {
     "data": {
      "text/html": [
       "<pre>recommendations finished on 4000/52792 queries. users per second: 122.45</pre>"
      ],
      "text/plain": [
       "recommendations finished on 4000/52792 queries. users per second: 122.45"
      ]
     },
     "metadata": {},
     "output_type": "display_data"
    },
    {
     "data": {
      "text/html": [
       "<pre>recommendations finished on 5000/52792 queries. users per second: 122.473</pre>"
      ],
      "text/plain": [
       "recommendations finished on 5000/52792 queries. users per second: 122.473"
      ]
     },
     "metadata": {},
     "output_type": "display_data"
    },
    {
     "data": {
      "text/html": [
       "<pre>recommendations finished on 6000/52792 queries. users per second: 122.606</pre>"
      ],
      "text/plain": [
       "recommendations finished on 6000/52792 queries. users per second: 122.606"
      ]
     },
     "metadata": {},
     "output_type": "display_data"
    },
    {
     "data": {
      "text/html": [
       "<pre>recommendations finished on 7000/52792 queries. users per second: 122.6</pre>"
      ],
      "text/plain": [
       "recommendations finished on 7000/52792 queries. users per second: 122.6"
      ]
     },
     "metadata": {},
     "output_type": "display_data"
    },
    {
     "data": {
      "text/html": [
       "<pre>recommendations finished on 8000/52792 queries. users per second: 122.567</pre>"
      ],
      "text/plain": [
       "recommendations finished on 8000/52792 queries. users per second: 122.567"
      ]
     },
     "metadata": {},
     "output_type": "display_data"
    },
    {
     "data": {
      "text/html": [
       "<pre>recommendations finished on 9000/52792 queries. users per second: 122.619</pre>"
      ],
      "text/plain": [
       "recommendations finished on 9000/52792 queries. users per second: 122.619"
      ]
     },
     "metadata": {},
     "output_type": "display_data"
    },
    {
     "data": {
      "text/html": [
       "<pre>recommendations finished on 10000/52792 queries. users per second: 122.59</pre>"
      ],
      "text/plain": [
       "recommendations finished on 10000/52792 queries. users per second: 122.59"
      ]
     },
     "metadata": {},
     "output_type": "display_data"
    },
    {
     "data": {
      "text/html": [
       "<pre>recommendations finished on 11000/52792 queries. users per second: 122.546</pre>"
      ],
      "text/plain": [
       "recommendations finished on 11000/52792 queries. users per second: 122.546"
      ]
     },
     "metadata": {},
     "output_type": "display_data"
    },
    {
     "data": {
      "text/html": [
       "<pre>recommendations finished on 12000/52792 queries. users per second: 122.469</pre>"
      ],
      "text/plain": [
       "recommendations finished on 12000/52792 queries. users per second: 122.469"
      ]
     },
     "metadata": {},
     "output_type": "display_data"
    },
    {
     "data": {
      "text/html": [
       "<pre>recommendations finished on 13000/52792 queries. users per second: 122.477</pre>"
      ],
      "text/plain": [
       "recommendations finished on 13000/52792 queries. users per second: 122.477"
      ]
     },
     "metadata": {},
     "output_type": "display_data"
    },
    {
     "data": {
      "text/html": [
       "<pre>recommendations finished on 14000/52792 queries. users per second: 122.5</pre>"
      ],
      "text/plain": [
       "recommendations finished on 14000/52792 queries. users per second: 122.5"
      ]
     },
     "metadata": {},
     "output_type": "display_data"
    },
    {
     "data": {
      "text/html": [
       "<pre>recommendations finished on 15000/52792 queries. users per second: 122.489</pre>"
      ],
      "text/plain": [
       "recommendations finished on 15000/52792 queries. users per second: 122.489"
      ]
     },
     "metadata": {},
     "output_type": "display_data"
    },
    {
     "data": {
      "text/html": [
       "<pre>recommendations finished on 16000/52792 queries. users per second: 122.45</pre>"
      ],
      "text/plain": [
       "recommendations finished on 16000/52792 queries. users per second: 122.45"
      ]
     },
     "metadata": {},
     "output_type": "display_data"
    },
    {
     "data": {
      "text/html": [
       "<pre>recommendations finished on 17000/52792 queries. users per second: 122.484</pre>"
      ],
      "text/plain": [
       "recommendations finished on 17000/52792 queries. users per second: 122.484"
      ]
     },
     "metadata": {},
     "output_type": "display_data"
    },
    {
     "data": {
      "text/html": [
       "<pre>recommendations finished on 18000/52792 queries. users per second: 122.502</pre>"
      ],
      "text/plain": [
       "recommendations finished on 18000/52792 queries. users per second: 122.502"
      ]
     },
     "metadata": {},
     "output_type": "display_data"
    },
    {
     "data": {
      "text/html": [
       "<pre>recommendations finished on 19000/52792 queries. users per second: 122.542</pre>"
      ],
      "text/plain": [
       "recommendations finished on 19000/52792 queries. users per second: 122.542"
      ]
     },
     "metadata": {},
     "output_type": "display_data"
    },
    {
     "data": {
      "text/html": [
       "<pre>recommendations finished on 20000/52792 queries. users per second: 122.543</pre>"
      ],
      "text/plain": [
       "recommendations finished on 20000/52792 queries. users per second: 122.543"
      ]
     },
     "metadata": {},
     "output_type": "display_data"
    },
    {
     "data": {
      "text/html": [
       "<pre>recommendations finished on 21000/52792 queries. users per second: 122.556</pre>"
      ],
      "text/plain": [
       "recommendations finished on 21000/52792 queries. users per second: 122.556"
      ]
     },
     "metadata": {},
     "output_type": "display_data"
    },
    {
     "data": {
      "text/html": [
       "<pre>recommendations finished on 22000/52792 queries. users per second: 122.556</pre>"
      ],
      "text/plain": [
       "recommendations finished on 22000/52792 queries. users per second: 122.556"
      ]
     },
     "metadata": {},
     "output_type": "display_data"
    },
    {
     "data": {
      "text/html": [
       "<pre>recommendations finished on 23000/52792 queries. users per second: 122.557</pre>"
      ],
      "text/plain": [
       "recommendations finished on 23000/52792 queries. users per second: 122.557"
      ]
     },
     "metadata": {},
     "output_type": "display_data"
    },
    {
     "data": {
      "text/html": [
       "<pre>recommendations finished on 24000/52792 queries. users per second: 122.577</pre>"
      ],
      "text/plain": [
       "recommendations finished on 24000/52792 queries. users per second: 122.577"
      ]
     },
     "metadata": {},
     "output_type": "display_data"
    },
    {
     "data": {
      "text/html": [
       "<pre>recommendations finished on 25000/52792 queries. users per second: 122.586</pre>"
      ],
      "text/plain": [
       "recommendations finished on 25000/52792 queries. users per second: 122.586"
      ]
     },
     "metadata": {},
     "output_type": "display_data"
    },
    {
     "data": {
      "text/html": [
       "<pre>recommendations finished on 26000/52792 queries. users per second: 122.594</pre>"
      ],
      "text/plain": [
       "recommendations finished on 26000/52792 queries. users per second: 122.594"
      ]
     },
     "metadata": {},
     "output_type": "display_data"
    },
    {
     "data": {
      "text/html": [
       "<pre>recommendations finished on 27000/52792 queries. users per second: 122.619</pre>"
      ],
      "text/plain": [
       "recommendations finished on 27000/52792 queries. users per second: 122.619"
      ]
     },
     "metadata": {},
     "output_type": "display_data"
    },
    {
     "data": {
      "text/html": [
       "<pre>recommendations finished on 28000/52792 queries. users per second: 122.6</pre>"
      ],
      "text/plain": [
       "recommendations finished on 28000/52792 queries. users per second: 122.6"
      ]
     },
     "metadata": {},
     "output_type": "display_data"
    },
    {
     "data": {
      "text/html": [
       "<pre>recommendations finished on 29000/52792 queries. users per second: 122.615</pre>"
      ],
      "text/plain": [
       "recommendations finished on 29000/52792 queries. users per second: 122.615"
      ]
     },
     "metadata": {},
     "output_type": "display_data"
    },
    {
     "data": {
      "text/html": [
       "<pre>recommendations finished on 30000/52792 queries. users per second: 122.622</pre>"
      ],
      "text/plain": [
       "recommendations finished on 30000/52792 queries. users per second: 122.622"
      ]
     },
     "metadata": {},
     "output_type": "display_data"
    },
    {
     "data": {
      "text/html": [
       "<pre>recommendations finished on 31000/52792 queries. users per second: 122.612</pre>"
      ],
      "text/plain": [
       "recommendations finished on 31000/52792 queries. users per second: 122.612"
      ]
     },
     "metadata": {},
     "output_type": "display_data"
    },
    {
     "data": {
      "text/html": [
       "<pre>recommendations finished on 32000/52792 queries. users per second: 122.596</pre>"
      ],
      "text/plain": [
       "recommendations finished on 32000/52792 queries. users per second: 122.596"
      ]
     },
     "metadata": {},
     "output_type": "display_data"
    },
    {
     "data": {
      "text/html": [
       "<pre>recommendations finished on 33000/52792 queries. users per second: 122.602</pre>"
      ],
      "text/plain": [
       "recommendations finished on 33000/52792 queries. users per second: 122.602"
      ]
     },
     "metadata": {},
     "output_type": "display_data"
    },
    {
     "data": {
      "text/html": [
       "<pre>recommendations finished on 34000/52792 queries. users per second: 122.581</pre>"
      ],
      "text/plain": [
       "recommendations finished on 34000/52792 queries. users per second: 122.581"
      ]
     },
     "metadata": {},
     "output_type": "display_data"
    },
    {
     "data": {
      "text/html": [
       "<pre>recommendations finished on 35000/52792 queries. users per second: 122.52</pre>"
      ],
      "text/plain": [
       "recommendations finished on 35000/52792 queries. users per second: 122.52"
      ]
     },
     "metadata": {},
     "output_type": "display_data"
    },
    {
     "data": {
      "text/html": [
       "<pre>recommendations finished on 36000/52792 queries. users per second: 122.385</pre>"
      ],
      "text/plain": [
       "recommendations finished on 36000/52792 queries. users per second: 122.385"
      ]
     },
     "metadata": {},
     "output_type": "display_data"
    },
    {
     "data": {
      "text/html": [
       "<pre>recommendations finished on 37000/52792 queries. users per second: 122.27</pre>"
      ],
      "text/plain": [
       "recommendations finished on 37000/52792 queries. users per second: 122.27"
      ]
     },
     "metadata": {},
     "output_type": "display_data"
    },
    {
     "data": {
      "text/html": [
       "<pre>recommendations finished on 38000/52792 queries. users per second: 122.131</pre>"
      ],
      "text/plain": [
       "recommendations finished on 38000/52792 queries. users per second: 122.131"
      ]
     },
     "metadata": {},
     "output_type": "display_data"
    },
    {
     "data": {
      "text/html": [
       "<pre>recommendations finished on 39000/52792 queries. users per second: 122.13</pre>"
      ],
      "text/plain": [
       "recommendations finished on 39000/52792 queries. users per second: 122.13"
      ]
     },
     "metadata": {},
     "output_type": "display_data"
    },
    {
     "data": {
      "text/html": [
       "<pre>recommendations finished on 40000/52792 queries. users per second: 121.74</pre>"
      ],
      "text/plain": [
       "recommendations finished on 40000/52792 queries. users per second: 121.74"
      ]
     },
     "metadata": {},
     "output_type": "display_data"
    },
    {
     "data": {
      "text/html": [
       "<pre>recommendations finished on 41000/52792 queries. users per second: 121.043</pre>"
      ],
      "text/plain": [
       "recommendations finished on 41000/52792 queries. users per second: 121.043"
      ]
     },
     "metadata": {},
     "output_type": "display_data"
    },
    {
     "data": {
      "text/html": [
       "<pre>recommendations finished on 42000/52792 queries. users per second: 120.461</pre>"
      ],
      "text/plain": [
       "recommendations finished on 42000/52792 queries. users per second: 120.461"
      ]
     },
     "metadata": {},
     "output_type": "display_data"
    },
    {
     "data": {
      "text/html": [
       "<pre>recommendations finished on 43000/52792 queries. users per second: 119.875</pre>"
      ],
      "text/plain": [
       "recommendations finished on 43000/52792 queries. users per second: 119.875"
      ]
     },
     "metadata": {},
     "output_type": "display_data"
    },
    {
     "data": {
      "text/html": [
       "<pre>recommendations finished on 44000/52792 queries. users per second: 119.306</pre>"
      ],
      "text/plain": [
       "recommendations finished on 44000/52792 queries. users per second: 119.306"
      ]
     },
     "metadata": {},
     "output_type": "display_data"
    },
    {
     "data": {
      "text/html": [
       "<pre>recommendations finished on 45000/52792 queries. users per second: 118.762</pre>"
      ],
      "text/plain": [
       "recommendations finished on 45000/52792 queries. users per second: 118.762"
      ]
     },
     "metadata": {},
     "output_type": "display_data"
    },
    {
     "data": {
      "text/html": [
       "<pre>recommendations finished on 46000/52792 queries. users per second: 118.28</pre>"
      ],
      "text/plain": [
       "recommendations finished on 46000/52792 queries. users per second: 118.28"
      ]
     },
     "metadata": {},
     "output_type": "display_data"
    },
    {
     "data": {
      "text/html": [
       "<pre>recommendations finished on 47000/52792 queries. users per second: 117.826</pre>"
      ],
      "text/plain": [
       "recommendations finished on 47000/52792 queries. users per second: 117.826"
      ]
     },
     "metadata": {},
     "output_type": "display_data"
    },
    {
     "data": {
      "text/html": [
       "<pre>recommendations finished on 48000/52792 queries. users per second: 117.194</pre>"
      ],
      "text/plain": [
       "recommendations finished on 48000/52792 queries. users per second: 117.194"
      ]
     },
     "metadata": {},
     "output_type": "display_data"
    },
    {
     "data": {
      "text/html": [
       "<pre>recommendations finished on 49000/52792 queries. users per second: 116.55</pre>"
      ],
      "text/plain": [
       "recommendations finished on 49000/52792 queries. users per second: 116.55"
      ]
     },
     "metadata": {},
     "output_type": "display_data"
    },
    {
     "data": {
      "text/html": [
       "<pre>recommendations finished on 50000/52792 queries. users per second: 116.186</pre>"
      ],
      "text/plain": [
       "recommendations finished on 50000/52792 queries. users per second: 116.186"
      ]
     },
     "metadata": {},
     "output_type": "display_data"
    },
    {
     "data": {
      "text/html": [
       "<pre>recommendations finished on 51000/52792 queries. users per second: 115.823</pre>"
      ],
      "text/plain": [
       "recommendations finished on 51000/52792 queries. users per second: 115.823"
      ]
     },
     "metadata": {},
     "output_type": "display_data"
    },
    {
     "data": {
      "text/html": [
       "<pre>recommendations finished on 52000/52792 queries. users per second: 115.408</pre>"
      ],
      "text/plain": [
       "recommendations finished on 52000/52792 queries. users per second: 115.408"
      ]
     },
     "metadata": {},
     "output_type": "display_data"
    },
    {
     "name": "stdout",
     "output_type": "stream",
     "text": [
      "+---------+---------+---------------+------+\n",
      "| user_id | book_id |     score     | rank |\n",
      "+---------+---------+---------------+------+\n",
      "|  20090  |   2743  | 4.18987298183 |  1   |\n",
      "|  20090  |   231   | 4.17888177674 |  2   |\n",
      "|  20090  |   998   |  4.1512511696 |  3   |\n",
      "|  20090  |   1274  | 4.14974789546 |  4   |\n",
      "|  20090  |   250   | 4.11528097569 |  5   |\n",
      "|  20090  |   900   | 4.10820730723 |  6   |\n",
      "|  20090  |   976   | 4.08368324848 |  7   |\n",
      "|  20090  |   4708  |  4.0786214134 |  8   |\n",
      "|  20090  |    50   | 4.06602975586 |  9   |\n",
      "|  20090  |   446   |  4.061234977  |  10  |\n",
      "|  37939  |   2743  | 4.36356873329 |  1   |\n",
      "|  37939  |   231   |  4.3512941182 |  2   |\n",
      "|  37939  |   1274  | 4.32735997104 |  3   |\n",
      "|  37939  |   998   | 4.32279093073 |  4   |\n",
      "|  37939  |   250   | 4.28414927154 |  5   |\n",
      "|  37939  |   900   | 4.27768736187 |  6   |\n",
      "|  37939  |   976   | 4.25227024394 |  7   |\n",
      "|  37939  |   4708  | 4.24552891248 |  8   |\n",
      "|  37939  |    50   | 4.23899641866 |  9   |\n",
      "|  37939  |   446   | 4.22976339227 |  10  |\n",
      "|  10588  |   2743  | 4.25305342251 |  1   |\n",
      "|  10588  |   231   | 4.24168162431 |  2   |\n",
      "|  10588  |   1274  | 4.21453987717 |  3   |\n",
      "|  10588  |   998   | 4.21400446624 |  4   |\n",
      "|  10588  |   250   |  4.1771883529 |  5   |\n",
      "|  10588  |   900   | 4.17023107369 |  6   |\n",
      "|  10588  |   976   |  4.1454356365 |  7   |\n",
      "|  10588  |   4708  | 4.13972003288 |  8   |\n",
      "|  10588  |    50   | 4.12926927174 |  9   |\n",
      "|  10588  |   446   | 4.12293959254 |  10  |\n",
      "|  19618  |   2743  | 4.25027181286 |  1   |\n",
      "|  19618  |   231   | 4.23887288546 |  2   |\n",
      "|  19618  |   1274  | 4.21158350903 |  3   |\n",
      "|  19618  |   998   | 4.21118616125 |  4   |\n",
      "|  19618  |   250   |  4.1743367029 |  5   |\n",
      "|  19618  |   900   | 4.16746490478 |  6   |\n",
      "|  19618  |   976   | 4.14238072349 |  7   |\n",
      "|  19618  |   4708  | 4.13676160861 |  8   |\n",
      "|  19618  |    50   | 4.12632095243 |  9   |\n",
      "|  19618  |   446   | 4.12004763694 |  10  |\n",
      "|   1713  |   2743  | 4.16147606525 |  1   |\n",
      "|   1713  |   231   | 4.15110776689 |  2   |\n",
      "|   1713  |   998   | 4.12477970401 |  3   |\n",
      "|   1713  |   1274  | 4.12138585971 |  4   |\n",
      "|   1713  |   250   | 4.08987577922 |  5   |\n",
      "|   1713  |   900   | 4.08215851285 |  6   |\n",
      "|   1713  |   976   | 4.05890780488 |  7   |\n",
      "|   1713  |   4708  | 4.05378058677 |  8   |\n",
      "|   1713  |    50   | 4.03941210313 |  9   |\n",
      "|   1713  |   446   | 4.03582754536 |  10  |\n",
      "+---------+---------+---------------+------+\n",
      "[527920 rows x 4 columns]\n",
      "\n"
     ]
    }
   ],
   "source": [
    "recom=m1.recommend()\n",
    "recom.print_rows(num_rows=50)"
   ]
  },
  {
   "cell_type": "code",
   "execution_count": 16,
   "metadata": {
    "collapsed": false
   },
   "outputs": [],
   "source": [
    "m1.save('C:/Users/SONY/Desktop/3rdsem/Machine Learning/project/Models/Matrix Facorization')"
   ]
  },
  {
   "cell_type": "code",
   "execution_count": null,
   "metadata": {
    "collapsed": true
   },
   "outputs": [],
   "source": []
  }
 ],
 "metadata": {
  "kernelspec": {
   "display_name": "Python 2",
   "language": "python",
   "name": "python2"
  },
  "language_info": {
   "codemirror_mode": {
    "name": "ipython",
    "version": 2
   },
   "file_extension": ".py",
   "mimetype": "text/x-python",
   "name": "python",
   "nbconvert_exporter": "python",
   "pygments_lexer": "ipython2",
   "version": "2.7.13"
  }
 },
 "nbformat": 4,
 "nbformat_minor": 0
}
