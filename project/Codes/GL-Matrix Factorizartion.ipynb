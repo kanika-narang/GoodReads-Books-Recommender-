{
 "cells": [
  {
   "cell_type": "code",
   "execution_count": null,
   "metadata": {
    "collapsed": false,
    "scrolled": true
   },
   "outputs": [],
   "source": [
    "import graphlab\n",
    "import csv\n",
    "import pandas as pd\n",
    "train_csv_data= pd.read_csv('C:/Users/SONY/Desktop/3rdsem/Machine Learning/project/DATA/training_data.csv', sep=',')\n",
    "test_csv_data=pd.read_csv('C:/Users/SONY/Desktop/3rdsem/Machine Learning/project/DATA/test_data.csv', sep=',')\n",
    "Bookdata_csv = pd.read_csv('C:/Users/SONY/Desktop/3rdsem/Machine Learning/project/DATA/mergefullnewdata.csv', sep=',')\n",
    "train_data = graphlab.SFrame(train_csv_data)\n",
    "test_data= graphlab.SFrame(test_csv_data)\n",
    "book_data= graphlab.SFrame(Bookdata_csv)"
   ]
  },
  {
   "cell_type": "code",
   "execution_count": null,
   "metadata": {
    "collapsed": false
   },
   "outputs": [],
   "source": [
    "train_data=train_data['book_id','user_id','rating']\n",
    "test_data=test_data['book_id','user_id','rating']"
   ]
  },
  {
   "cell_type": "code",
   "execution_count": null,
   "metadata": {
    "collapsed": false
   },
   "outputs": [],
   "source": [
    "train_data.head()"
   ]
  },
  {
   "cell_type": "code",
   "execution_count": null,
   "metadata": {
    "collapsed": false
   },
   "outputs": [],
   "source": [
    "graphlab.get_dependencies()"
   ]
  },
  {
   "cell_type": "code",
   "execution_count": null,
   "metadata": {
    "collapsed": false
   },
   "outputs": [],
   "source": [
    "#from graphlab.recommender import ranking_factorization_recommender\n",
    "m1 = graphlab.ranking_factorization_recommender.create(train_data,user_id='user_id',item_id='book_id', target='rating',item_data=book_data)"
   ]
  },
  {
   "cell_type": "code",
   "execution_count": null,
   "metadata": {
    "collapsed": false
   },
   "outputs": [],
   "source": [
    "m1.evaluate(test_data)"
   ]
  },
  {
   "cell_type": "code",
   "execution_count": null,
   "metadata": {
    "collapsed": false
   },
   "outputs": [],
   "source": [
    "m1.predict(test_data)"
   ]
  },
  {
   "cell_type": "code",
   "execution_count": null,
   "metadata": {
    "collapsed": false
   },
   "outputs": [],
   "source": [
    "recom=m1.recommend()\n",
    "recom.print_rows(num_rows=50)"
   ]
  },
  {
   "cell_type": "code",
   "execution_count": null,
   "metadata": {
    "collapsed": false
   },
   "outputs": [],
   "source": [
    "m1.save('C:/Users/SONY/Desktop/3rdsem/Machine Learning/project/Models/Matrix Facorization')"
   ]
  },
  {
   "cell_type": "code",
   "execution_count": null,
   "metadata": {
    "collapsed": true
   },
   "outputs": [],
   "source": []
  }
 ],
 "metadata": {
  "kernelspec": {
   "display_name": "Python 2",
   "language": "python",
   "name": "python2"
  },
  "language_info": {
   "codemirror_mode": {
    "name": "ipython",
    "version": 2
   },
   "file_extension": ".py",
   "mimetype": "text/x-python",
   "name": "python",
   "nbconvert_exporter": "python",
   "pygments_lexer": "ipython2",
   "version": "2.7.13"
  }
 },
 "nbformat": 4,
 "nbformat_minor": 0
}
