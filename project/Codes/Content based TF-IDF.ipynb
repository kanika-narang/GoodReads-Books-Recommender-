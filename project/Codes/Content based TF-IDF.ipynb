{
 "cells": [
  {
   "cell_type": "code",
   "execution_count": 2,
   "metadata": {},
   "outputs": [],
   "source": [
    "import pandas as pd\n",
    "import redis\n",
    "from sklearn.feature_extraction.text import TfidfVectorizer\n",
    "from sklearn.metrics.pairwise import linear_kernel"
   ]
  },
  {
   "cell_type": "code",
   "execution_count": 3,
   "metadata": {
    "collapsed": true
   },
   "outputs": [],
   "source": [
    "totaldata = pd.read_csv('/home/kanika/Documents/3rdsem/Machine Learning/project/DATA/mergefullnewdata.csv', sep=',')"
   ]
  },
  {
   "cell_type": "code",
   "execution_count": 4,
   "metadata": {},
   "outputs": [
    {
     "data": {
      "text/html": [
       "<div>\n",
       "<style>\n",
       "    .dataframe thead tr:only-child th {\n",
       "        text-align: right;\n",
       "    }\n",
       "\n",
       "    .dataframe thead th {\n",
       "        text-align: left;\n",
       "    }\n",
       "\n",
       "    .dataframe tbody tr th {\n",
       "        vertical-align: top;\n",
       "    }\n",
       "</style>\n",
       "<table border=\"1\" class=\"dataframe\">\n",
       "  <thead>\n",
       "    <tr style=\"text-align: right;\">\n",
       "      <th></th>\n",
       "      <th>Unnamed: 0</th>\n",
       "      <th>author</th>\n",
       "      <th>description0</th>\n",
       "      <th>Language</th>\n",
       "      <th>NumberofRatings</th>\n",
       "      <th>GoodReadAverageRating</th>\n",
       "      <th>id</th>\n",
       "      <th>description1</th>\n",
       "      <th>title</th>\n",
       "      <th>book_id</th>\n",
       "      <th>goodreads_title</th>\n",
       "      <th>goodreads_book_id</th>\n",
       "      <th>goodreads_work_id</th>\n",
       "    </tr>\n",
       "  </thead>\n",
       "  <tbody>\n",
       "    <tr>\n",
       "      <th>0</th>\n",
       "      <td>0</td>\n",
       "      <td>J.K. Rowling</td>\n",
       "      <td>Harry Potter's life is miserable. His parents ...</td>\n",
       "      <td>English</td>\n",
       "      <td>4879247</td>\n",
       "      <td>4.44</td>\n",
       "      <td>3</td>\n",
       "      <td>Harry Potter's life is miserable. His parents ...</td>\n",
       "      <td>Harry Potter and the Philosopher's Stone</td>\n",
       "      <td>2</td>\n",
       "      <td>Harry Potter and the Sorcerer's Stone (Harry P...</td>\n",
       "      <td>3</td>\n",
       "      <td>4640799</td>\n",
       "    </tr>\n",
       "    <tr>\n",
       "      <th>1</th>\n",
       "      <td>1</td>\n",
       "      <td>Harper Lee</td>\n",
       "      <td>The unforgettable novel of a childhood in a sl...</td>\n",
       "      <td>English</td>\n",
       "      <td>3368077</td>\n",
       "      <td>4.26</td>\n",
       "      <td>2657</td>\n",
       "      <td>Compassionate, dramatic, and deepl</td>\n",
       "      <td>To Kill a Mockingbird</td>\n",
       "      <td>4</td>\n",
       "      <td>To Kill a Mockingbird (To Kill a Mockingbird #1)</td>\n",
       "      <td>2657</td>\n",
       "      <td>3275794</td>\n",
       "    </tr>\n",
       "    <tr>\n",
       "      <th>2</th>\n",
       "      <td>2</td>\n",
       "      <td>F. Scott Fitzgerald</td>\n",
       "      <td>, F. Scott Fitzgerald’s third book, stands as ...</td>\n",
       "      <td>English</td>\n",
       "      <td>2807803</td>\n",
       "      <td>3.89</td>\n",
       "      <td>4671</td>\n",
       "      <td>, F. Scott Fitzgerald’s third book, stands as ...</td>\n",
       "      <td>The Great Gatsby</td>\n",
       "      <td>5</td>\n",
       "      <td>The Great Gatsby</td>\n",
       "      <td>4671</td>\n",
       "      <td>245494</td>\n",
       "    </tr>\n",
       "    <tr>\n",
       "      <th>3</th>\n",
       "      <td>3</td>\n",
       "      <td>Stephenie Meyer</td>\n",
       "      <td>In the first book of the Twilight Saga, intern...</td>\n",
       "      <td>English</td>\n",
       "      <td>3951638</td>\n",
       "      <td>3.57</td>\n",
       "      <td>41865</td>\n",
       "      <td>In the first book of the Twilight Saga, intern...</td>\n",
       "      <td>Twilight</td>\n",
       "      <td>3</td>\n",
       "      <td>Twilight (Twilight, #1)</td>\n",
       "      <td>41865</td>\n",
       "      <td>3212258</td>\n",
       "    </tr>\n",
       "    <tr>\n",
       "      <th>4</th>\n",
       "      <td>4</td>\n",
       "      <td>John Green</td>\n",
       "      <td>\"I fell in love the way you fall asleep: slowl...</td>\n",
       "      <td>English</td>\n",
       "      <td>2518520</td>\n",
       "      <td>4.26</td>\n",
       "      <td>11870085</td>\n",
       "      <td>Despite the tumor-shrinking medical miracle th...</td>\n",
       "      <td>The Fault in Our Stars</td>\n",
       "      <td>6</td>\n",
       "      <td>The Fault in Our Stars</td>\n",
       "      <td>11870085</td>\n",
       "      <td>16827462</td>\n",
       "    </tr>\n",
       "  </tbody>\n",
       "</table>\n",
       "</div>"
      ],
      "text/plain": [
       "   Unnamed: 0               author  \\\n",
       "0           0         J.K. Rowling   \n",
       "1           1           Harper Lee   \n",
       "2           2  F. Scott Fitzgerald   \n",
       "3           3      Stephenie Meyer   \n",
       "4           4           John Green   \n",
       "\n",
       "                                        description0 Language  \\\n",
       "0  Harry Potter's life is miserable. His parents ...  English   \n",
       "1  The unforgettable novel of a childhood in a sl...  English   \n",
       "2  , F. Scott Fitzgerald’s third book, stands as ...  English   \n",
       "3  In the first book of the Twilight Saga, intern...  English   \n",
       "4  \"I fell in love the way you fall asleep: slowl...  English   \n",
       "\n",
       "   NumberofRatings  GoodReadAverageRating        id  \\\n",
       "0          4879247                   4.44         3   \n",
       "1          3368077                   4.26      2657   \n",
       "2          2807803                   3.89      4671   \n",
       "3          3951638                   3.57     41865   \n",
       "4          2518520                   4.26  11870085   \n",
       "\n",
       "                                        description1  \\\n",
       "0  Harry Potter's life is miserable. His parents ...   \n",
       "1                 Compassionate, dramatic, and deepl   \n",
       "2  , F. Scott Fitzgerald’s third book, stands as ...   \n",
       "3  In the first book of the Twilight Saga, intern...   \n",
       "4  Despite the tumor-shrinking medical miracle th...   \n",
       "\n",
       "                                      title  book_id  \\\n",
       "0  Harry Potter and the Philosopher's Stone        2   \n",
       "1                     To Kill a Mockingbird        4   \n",
       "2                          The Great Gatsby        5   \n",
       "3                                  Twilight        3   \n",
       "4                    The Fault in Our Stars        6   \n",
       "\n",
       "                                     goodreads_title  goodreads_book_id  \\\n",
       "0  Harry Potter and the Sorcerer's Stone (Harry P...                  3   \n",
       "1   To Kill a Mockingbird (To Kill a Mockingbird #1)               2657   \n",
       "2                                   The Great Gatsby               4671   \n",
       "3                            Twilight (Twilight, #1)              41865   \n",
       "4                             The Fault in Our Stars           11870085   \n",
       "\n",
       "   goodreads_work_id  \n",
       "0            4640799  \n",
       "1            3275794  \n",
       "2             245494  \n",
       "3            3212258  \n",
       "4           16827462  "
      ]
     },
     "execution_count": 4,
     "metadata": {},
     "output_type": "execute_result"
    }
   ],
   "source": [
    "totaldata.head()"
   ]
  },
  {
   "cell_type": "code",
   "execution_count": 6,
   "metadata": {},
   "outputs": [],
   "source": [
    "tf = TfidfVectorizer(analyzer='word',\n",
    "                             ngram_range=(1, 3),\n",
    "                             min_df=0,\n",
    "                             stop_words='english')\n",
    "tfidf_matrix = tf.fit_transform(totaldata['description0'])\n"
   ]
  },
  {
   "cell_type": "code",
   "execution_count": 31,
   "metadata": {},
   "outputs": [
    {
     "data": {
      "text/plain": [
       "(9593, 378078)"
      ]
     },
     "execution_count": 31,
     "metadata": {},
     "output_type": "execute_result"
    }
   ],
   "source": [
    "tfidf_matrix.shape"
   ]
  },
  {
   "cell_type": "markdown",
   "metadata": {},
   "source": [
    "tfidf_matrix is the matrix where each row is the feature vector of the book in ezch row of totaldata."
   ]
  },
  {
   "cell_type": "code",
   "execution_count": 7,
   "metadata": {
    "collapsed": true
   },
   "outputs": [],
   "source": [
    "cosine_similarities = linear_kernel(tfidf_matrix, tfidf_matrix)"
   ]
  },
  {
   "cell_type": "code",
   "execution_count": 40,
   "metadata": {
    "collapsed": true
   },
   "outputs": [],
   "source": [
    "SIMKEY = 'p:smlr:%s'\n",
    "dics={}"
   ]
  },
  {
   "cell_type": "code",
   "execution_count": 43,
   "metadata": {},
   "outputs": [],
   "source": [
    "for idx, row in totaldata.iterrows():\n",
    "            similar_indices = cosine_similarities[idx].argsort()[:-100:-1]\n",
    "            similar_items = [(cosine_similarities[idx][i], totaldata['id'][i])\n",
    "                             for i in similar_indices]\n",
    "            flattened = sum(similar_items[1:], ())\n",
    "            x=SIMKEY%row['id']\n",
    "            dics[x]=flattened\n"
   ]
  },
  {
   "cell_type": "code",
   "execution_count": 44,
   "metadata": {},
   "outputs": [
    {
     "name": "stderr",
     "output_type": "stream",
     "text": [
      "IOPub data rate exceeded.\n",
      "The notebook server will temporarily stop sending output\n",
      "to the client in order to avoid crashing it.\n",
      "To change this limit, set the config variable\n",
      "`--NotebookApp.iopub_data_rate_limit`.\n"
     ]
    }
   ],
   "source": [
    "dics  "
   ]
  },
  {
   "cell_type": "code",
   "execution_count": 46,
   "metadata": {},
   "outputs": [
    {
     "ename": "AttributeError",
     "evalue": "'dict' object has no attribute 'Spawner'",
     "output_type": "error",
     "traceback": [
      "\u001b[0;31m---------------------------------------------------------------------------\u001b[0m",
      "\u001b[0;31mAttributeError\u001b[0m                            Traceback (most recent call last)",
      "\u001b[0;32m<ipython-input-46-61e2921e5d78>\u001b[0m in \u001b[0;36m<module>\u001b[0;34m()\u001b[0m\n\u001b[0;32m----> 1\u001b[0;31m \u001b[0mdics\u001b[0m\u001b[0;34m.\u001b[0m\u001b[0mSpawner\u001b[0m\u001b[0;34m.\u001b[0m\u001b[0margs\u001b[0m \u001b[0;34m=\u001b[0m \u001b[0;34m[\u001b[0m\u001b[0;34m'--NotebookApp.iopub_data_rate_limit=1000000000'\u001b[0m\u001b[0;34m]\u001b[0m\u001b[0;34m\u001b[0m\u001b[0m\n\u001b[0m",
      "\u001b[0;31mAttributeError\u001b[0m: 'dict' object has no attribute 'Spawner'"
     ]
    }
   ],
   "source": [
    "dics.Spawner.args = ['--NotebookApp.iopub_data_rate_limit=1000000000']"
   ]
  },
  {
   "cell_type": "code",
   "execution_count": 33,
   "metadata": {},
   "outputs": [],
   "source": [
    "SIMKEY = 'p:smlr:%s'"
   ]
  },
  {
   "cell_type": "code",
   "execution_count": null,
   "metadata": {
    "collapsed": true
   },
   "outputs": [],
   "source": [
    "\n"
   ]
  }
 ],
 "metadata": {
  "kernelspec": {
   "display_name": "Python 3",
   "language": "python",
   "name": "python3"
  },
  "language_info": {
   "codemirror_mode": {
    "name": "ipython",
    "version": 3
   },
   "file_extension": ".py",
   "mimetype": "text/x-python",
   "name": "python",
   "nbconvert_exporter": "python",
   "pygments_lexer": "ipython3",
   "version": "3.5.2"
  }
 },
 "nbformat": 4,
 "nbformat_minor": 1
}
