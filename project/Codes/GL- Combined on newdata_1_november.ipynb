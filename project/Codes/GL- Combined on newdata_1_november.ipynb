{
 "cells": [
  {
   "cell_type": "code",
   "execution_count": null,
   "metadata": {
    "collapsed": true
   },
   "outputs": [],
   "source": [
    "import graphlab\n",
    "import csv\n",
    "import pandas as pd\n",
    "import pickle"
   ]
  },
  {
   "cell_type": "code",
   "execution_count": null,
   "metadata": {
    "collapsed": false
   },
   "outputs": [],
   "source": [
    "# loading total rating data\n",
    "from sklearn import cross_validation as cv\n",
    "total_rating_csv_data= pd.read_csv('https://raw.githubusercontent.com/zygmuntz/goodbooks-10k/master/ratings.csv', sep=',')"
   ]
  },
  {
   "cell_type": "code",
   "execution_count": null,
   "metadata": {
    "collapsed": false
   },
   "outputs": [],
   "source": [
    "#splitting data into training and testing \n",
    "from sklearn import cross_validation as cv\n",
    "train_data, test_data = cv.train_test_split(total_rating_csv_data, test_size=0.30)"
   ]
  },
  {
   "cell_type": "code",
   "execution_count": null,
   "metadata": {
    "collapsed": true
   },
   "outputs": [],
   "source": [
    "#loading total books data\n",
    "total_Bookdata_csv = pd.read_csv('C:/Users/IIITB/Desktop/project/DATA/mergefullnewdata.csv', sep=',')"
   ]
  },
  {
   "cell_type": "code",
   "execution_count": null,
   "metadata": {
    "collapsed": false
   },
   "outputs": [],
   "source": [
    "#Converting them to SFrame\n",
    "rating_data=graphlab.SFrame(total_rating_csv_data)\n",
    "book_data= graphlab.SFrame(total_Bookdata_csv)"
   ]
  },
  {
   "cell_type": "code",
   "execution_count": null,
   "metadata": {
    "collapsed": false
   },
   "outputs": [],
   "source": [
    "#Converting them to SFrame\n",
    "train=graphlab.SFrame(train_data)\n",
    "test=graphlab.SFrame(test_data)\n",
    "book_data= graphlab.SFrame(total_Bookdata_csv)"
   ]
  },
  {
   "cell_type": "code",
   "execution_count": null,
   "metadata": {
    "collapsed": false
   },
   "outputs": [],
   "source": [
    "#creating collaborative model\n",
    "item_sim_model = graphlab.item_similarity_recommender.create(train, user_id='user_id', item_id='book_id', target='rating', similarity_type='pearson')"
   ]
  },
  {
   "cell_type": "code",
   "execution_count": null,
   "metadata": {
    "collapsed": true
   },
   "outputs": [],
   "source": [
    "#to save the model\n",
    "item_sim_model.save('C:/Users/IIITB/Desktop/project/tehreem_Model/Collaborative')"
   ]
  },
  {
   "cell_type": "code",
   "execution_count": null,
   "metadata": {
    "collapsed": false
   },
   "outputs": [],
   "source": [
    "view_collab_overview = item_sim_model.views.overview(\n",
    "        validation_set=test)\n",
    "view_collab_overview.show()"
   ]
  },
  {
   "cell_type": "code",
   "execution_count": null,
   "metadata": {
    "collapsed": false
   },
   "outputs": [],
   "source": [
    "#Creating Content based Model\n",
    "content_based_model=graphlab.recommender.item_content_recommender.create(book_data,item_id='book_id',observation_data=train,user_id='user_id',target='rating',similarity_metrics='pearson')"
   ]
  },
  {
   "cell_type": "code",
   "execution_count": null,
   "metadata": {
    "collapsed": false
   },
   "outputs": [],
   "source": [
    "view_content_overview = content_based_model.views.overview(\n",
    "        validation_set=test)\n",
    "view_content_overview.show()"
   ]
  },
  {
   "cell_type": "code",
   "execution_count": null,
   "metadata": {
    "collapsed": false
   },
   "outputs": [],
   "source": [
    "# Creating Matrix Factorization model\n",
    "matrix_factorization = graphlab.ranking_factorization_recommender.create(train,user_id='user_id',item_id='book_id', target='rating',item_data=book_data)"
   ]
  },
  {
   "cell_type": "code",
   "execution_count": null,
   "metadata": {
    "collapsed": false
   },
   "outputs": [],
   "source": [
    "# Creating Matrix Factorization model\n",
    "modified_matrix_factorization = graphlab.ranking_factorization_recommender.create(train,user_id='user_id',item_id='book_id', target='rating',item_data=book_data,ranking_regularization = 0.1,unobserved_rating_value = 1)"
   ]
  },
  {
   "cell_type": "code",
   "execution_count": null,
   "metadata": {
    "collapsed": false
   },
   "outputs": [],
   "source": [
    "view_matrix_overview = modified_matrix_factorization.views.overview(\n",
    "        validation_set=test)\n",
    "view_matrix_overview.show()"
   ]
  },
  {
   "cell_type": "code",
   "execution_count": null,
   "metadata": {
    "collapsed": false
   },
   "outputs": [],
   "source": [
    "view_matrix_overview = matrix_factorization.views.overview(\n",
    "        validation_set=test)\n",
    "view_matrix_overview.show()"
   ]
  },
  {
   "cell_type": "code",
   "execution_count": null,
   "metadata": {
    "collapsed": true
   },
   "outputs": [],
   "source": [
    "#To save the model\n",
    "content_based_model.save('C:/Users/IIITB/Desktop/project/tehreem_Model/Content based')"
   ]
  },
  {
   "cell_type": "code",
   "execution_count": null,
   "metadata": {
    "collapsed": true
   },
   "outputs": [],
   "source": [
    "#saving the model\n",
    "matrix_factorization.save('C:/Users/IIITB/Desktop/project/tehreem_Model/Matrix Facorization')"
   ]
  },
  {
   "cell_type": "code",
   "execution_count": null,
   "metadata": {
    "collapsed": false
   },
   "outputs": [],
   "source": [
    "model_performance = graphlab.compare(test_data, [content_based_model,matrix_factorization,\n",
    "                                            modified_matrix_factorization,item_sim_model])"
   ]
  },
  {
   "cell_type": "code",
   "execution_count": null,
   "metadata": {
    "collapsed": true
   },
   "outputs": [],
   "source": [
    "graphlab.show_comparison(model_performance,[content_based_model,matrix_factorization,\n",
    "                                            modified_matrix_factorization,item_sim_model])"
   ]
  },
  {
   "cell_type": "code",
   "execution_count": null,
   "metadata": {
    "collapsed": true
   },
   "outputs": [],
   "source": [
    "content_based_model"
   ]
  },
  {
   "cell_type": "code",
   "execution_count": null,
   "metadata": {
    "collapsed": true
   },
   "outputs": [],
   "source": [
    "matrix_factorization"
   ]
  },
  {
   "cell_type": "code",
   "execution_count": null,
   "metadata": {
    "collapsed": true
   },
   "outputs": [],
   "source": [
    "modified_matrix_factorization"
   ]
  },
  {
   "cell_type": "code",
   "execution_count": null,
   "metadata": {
    "collapsed": true
   },
   "outputs": [],
   "source": [
    "item_sim_model"
   ]
  },
  {
   "cell_type": "code",
   "execution_count": null,
   "metadata": {
    "collapsed": true
   },
   "outputs": [],
   "source": [
    "evaluate()\n",
    "evaluate_rmse()"
   ]
  }
 ],
 "metadata": {
  "kernelspec": {
   "display_name": "Python 2",
   "language": "python",
   "name": "python2"
  },
  "language_info": {
   "codemirror_mode": {
    "name": "ipython",
    "version": 2
   },
   "file_extension": ".py",
   "mimetype": "text/x-python",
   "name": "python",
   "nbconvert_exporter": "python",
   "pygments_lexer": "ipython2",
   "version": "2.7.13"
  }
 },
 "nbformat": 4,
 "nbformat_minor": 0
}
