{
 "cells": [
  {
   "cell_type": "code",
   "execution_count": 1,
   "metadata": {
    "collapsed": true
   },
   "outputs": [],
   "source": [
    "import graphlab\n",
    "import csv\n",
    "import pandas as pd"
   ]
  },
  {
   "cell_type": "markdown",
   "metadata": {},
   "source": [
    "Loading testing data"
   ]
  },
  {
   "cell_type": "code",
   "execution_count": 7,
   "metadata": {
    "collapsed": true
   },
   "outputs": [],
   "source": [
    "test_csv_data= pd.read_csv('C:/Users/SONY/Desktop/3rdsem/Machine Learning/project/DATA/test datas/test1.csv', sep=',')"
   ]
  },
  {
   "cell_type": "code",
   "execution_count": 8,
   "metadata": {
    "collapsed": false
   },
   "outputs": [
    {
     "data": {
      "text/html": [
       "<div>\n",
       "<table border=\"1\" class=\"dataframe\">\n",
       "  <thead>\n",
       "    <tr style=\"text-align: right;\">\n",
       "      <th></th>\n",
       "      <th>book_id</th>\n",
       "      <th>user_id</th>\n",
       "      <th>rating</th>\n",
       "    </tr>\n",
       "  </thead>\n",
       "  <tbody>\n",
       "    <tr>\n",
       "      <th>0</th>\n",
       "      <td>314</td>\n",
       "      <td>1234</td>\n",
       "      <td>5</td>\n",
       "    </tr>\n",
       "    <tr>\n",
       "      <th>1</th>\n",
       "      <td>244</td>\n",
       "      <td>1234</td>\n",
       "      <td>4</td>\n",
       "    </tr>\n",
       "    <tr>\n",
       "      <th>2</th>\n",
       "      <td>1234</td>\n",
       "      <td>1234</td>\n",
       "      <td>3</td>\n",
       "    </tr>\n",
       "    <tr>\n",
       "      <th>3</th>\n",
       "      <td>5342</td>\n",
       "      <td>1234</td>\n",
       "      <td>5</td>\n",
       "    </tr>\n",
       "    <tr>\n",
       "      <th>4</th>\n",
       "      <td>12</td>\n",
       "      <td>1234</td>\n",
       "      <td>4</td>\n",
       "    </tr>\n",
       "  </tbody>\n",
       "</table>\n",
       "</div>"
      ],
      "text/plain": [
       "   book_id  user_id  rating\n",
       "0      314     1234       5\n",
       "1      244     1234       4\n",
       "2     1234     1234       3\n",
       "3     5342     1234       5\n",
       "4       12     1234       4"
      ]
     },
     "execution_count": 8,
     "metadata": {},
     "output_type": "execute_result"
    }
   ],
   "source": [
    "test_csv_data.head()"
   ]
  },
  {
   "cell_type": "code",
   "execution_count": 3,
   "metadata": {
    "collapsed": false
   },
   "outputs": [
    {
     "name": "stdout",
     "output_type": "stream",
     "text": [
      "This non-commercial license of GraphLab Create for academic use is assigned to kanika.narang@iiitb.org and will expire on October 13, 2018.\n"
     ]
    },
    {
     "name": "stderr",
     "output_type": "stream",
     "text": [
      "[INFO] graphlab.cython.cy_server: GraphLab Create v2.1 started. Logging: C:\\Users\\SONY\\AppData\\Local\\Temp\\graphlab_server_1508757446.log.0\n"
     ]
    }
   ],
   "source": [
    "test_data= graphlab.SFrame(test_csv_data)"
   ]
  },
  {
   "cell_type": "markdown",
   "metadata": {},
   "source": [
    "Loading Collaborative model"
   ]
  },
  {
   "cell_type": "code",
   "execution_count": 4,
   "metadata": {
    "collapsed": true
   },
   "outputs": [],
   "source": [
    "Collaborative=graphlab.load_model('C:/Users/SONY/Desktop/3rdsem/Machine Learning/project/Models/Collaborative')"
   ]
  },
  {
   "cell_type": "markdown",
   "metadata": {},
   "source": [
    "Predicting and recommending on the test data"
   ]
  },
  {
   "cell_type": "code",
   "execution_count": 6,
   "metadata": {
    "collapsed": false
   },
   "outputs": [
    {
     "data": {
      "text/html": [
       "<pre>recommendations finished on 1000/52792 queries. users per second: 8402.87</pre>"
      ],
      "text/plain": [
       "recommendations finished on 1000/52792 queries. users per second: 8402.87"
      ]
     },
     "metadata": {},
     "output_type": "display_data"
    },
    {
     "data": {
      "text/html": [
       "<pre>recommendations finished on 2000/52792 queries. users per second: 9568.83</pre>"
      ],
      "text/plain": [
       "recommendations finished on 2000/52792 queries. users per second: 9568.83"
      ]
     },
     "metadata": {},
     "output_type": "display_data"
    },
    {
     "data": {
      "text/html": [
       "<pre>recommendations finished on 3000/52792 queries. users per second: 9933.22</pre>"
      ],
      "text/plain": [
       "recommendations finished on 3000/52792 queries. users per second: 9933.22"
      ]
     },
     "metadata": {},
     "output_type": "display_data"
    },
    {
     "data": {
      "text/html": [
       "<pre>recommendations finished on 4000/52792 queries. users per second: 10255.8</pre>"
      ],
      "text/plain": [
       "recommendations finished on 4000/52792 queries. users per second: 10255.8"
      ]
     },
     "metadata": {},
     "output_type": "display_data"
    },
    {
     "data": {
      "text/html": [
       "<pre>recommendations finished on 5000/52792 queries. users per second: 10547.9</pre>"
      ],
      "text/plain": [
       "recommendations finished on 5000/52792 queries. users per second: 10547.9"
      ]
     },
     "metadata": {},
     "output_type": "display_data"
    },
    {
     "data": {
      "text/html": [
       "<pre>recommendations finished on 6000/52792 queries. users per second: 10752.1</pre>"
      ],
      "text/plain": [
       "recommendations finished on 6000/52792 queries. users per second: 10752.1"
      ]
     },
     "metadata": {},
     "output_type": "display_data"
    },
    {
     "data": {
      "text/html": [
       "<pre>recommendations finished on 7000/52792 queries. users per second: 10885.8</pre>"
      ],
      "text/plain": [
       "recommendations finished on 7000/52792 queries. users per second: 10885.8"
      ]
     },
     "metadata": {},
     "output_type": "display_data"
    },
    {
     "data": {
      "text/html": [
       "<pre>recommendations finished on 8000/52792 queries. users per second: 11003.5</pre>"
      ],
      "text/plain": [
       "recommendations finished on 8000/52792 queries. users per second: 11003.5"
      ]
     },
     "metadata": {},
     "output_type": "display_data"
    },
    {
     "data": {
      "text/html": [
       "<pre>recommendations finished on 9000/52792 queries. users per second: 10935</pre>"
      ],
      "text/plain": [
       "recommendations finished on 9000/52792 queries. users per second: 10935"
      ]
     },
     "metadata": {},
     "output_type": "display_data"
    },
    {
     "data": {
      "text/html": [
       "<pre>recommendations finished on 10000/52792 queries. users per second: 10940.3</pre>"
      ],
      "text/plain": [
       "recommendations finished on 10000/52792 queries. users per second: 10940.3"
      ]
     },
     "metadata": {},
     "output_type": "display_data"
    },
    {
     "data": {
      "text/html": [
       "<pre>recommendations finished on 11000/52792 queries. users per second: 11032.5</pre>"
      ],
      "text/plain": [
       "recommendations finished on 11000/52792 queries. users per second: 11032.5"
      ]
     },
     "metadata": {},
     "output_type": "display_data"
    },
    {
     "data": {
      "text/html": [
       "<pre>recommendations finished on 12000/52792 queries. users per second: 11018.7</pre>"
      ],
      "text/plain": [
       "recommendations finished on 12000/52792 queries. users per second: 11018.7"
      ]
     },
     "metadata": {},
     "output_type": "display_data"
    },
    {
     "data": {
      "text/html": [
       "<pre>recommendations finished on 13000/52792 queries. users per second: 10969.8</pre>"
      ],
      "text/plain": [
       "recommendations finished on 13000/52792 queries. users per second: 10969.8"
      ]
     },
     "metadata": {},
     "output_type": "display_data"
    },
    {
     "data": {
      "text/html": [
       "<pre>recommendations finished on 14000/52792 queries. users per second: 10936.9</pre>"
      ],
      "text/plain": [
       "recommendations finished on 14000/52792 queries. users per second: 10936.9"
      ]
     },
     "metadata": {},
     "output_type": "display_data"
    },
    {
     "data": {
      "text/html": [
       "<pre>recommendations finished on 15000/52792 queries. users per second: 10908.5</pre>"
      ],
      "text/plain": [
       "recommendations finished on 15000/52792 queries. users per second: 10908.5"
      ]
     },
     "metadata": {},
     "output_type": "display_data"
    },
    {
     "data": {
      "text/html": [
       "<pre>recommendations finished on 16000/52792 queries. users per second: 10891.1</pre>"
      ],
      "text/plain": [
       "recommendations finished on 16000/52792 queries. users per second: 10891.1"
      ]
     },
     "metadata": {},
     "output_type": "display_data"
    },
    {
     "data": {
      "text/html": [
       "<pre>recommendations finished on 17000/52792 queries. users per second: 10841.2</pre>"
      ],
      "text/plain": [
       "recommendations finished on 17000/52792 queries. users per second: 10841.2"
      ]
     },
     "metadata": {},
     "output_type": "display_data"
    },
    {
     "data": {
      "text/html": [
       "<pre>recommendations finished on 18000/52792 queries. users per second: 10739.2</pre>"
      ],
      "text/plain": [
       "recommendations finished on 18000/52792 queries. users per second: 10739.2"
      ]
     },
     "metadata": {},
     "output_type": "display_data"
    },
    {
     "data": {
      "text/html": [
       "<pre>recommendations finished on 19000/52792 queries. users per second: 10794.8</pre>"
      ],
      "text/plain": [
       "recommendations finished on 19000/52792 queries. users per second: 10794.8"
      ]
     },
     "metadata": {},
     "output_type": "display_data"
    },
    {
     "data": {
      "text/html": [
       "<pre>recommendations finished on 20000/52792 queries. users per second: 10821.9</pre>"
      ],
      "text/plain": [
       "recommendations finished on 20000/52792 queries. users per second: 10821.9"
      ]
     },
     "metadata": {},
     "output_type": "display_data"
    },
    {
     "data": {
      "text/html": [
       "<pre>recommendations finished on 21000/52792 queries. users per second: 10779.7</pre>"
      ],
      "text/plain": [
       "recommendations finished on 21000/52792 queries. users per second: 10779.7"
      ]
     },
     "metadata": {},
     "output_type": "display_data"
    },
    {
     "data": {
      "text/html": [
       "<pre>recommendations finished on 22000/52792 queries. users per second: 10715.4</pre>"
      ],
      "text/plain": [
       "recommendations finished on 22000/52792 queries. users per second: 10715.4"
      ]
     },
     "metadata": {},
     "output_type": "display_data"
    },
    {
     "data": {
      "text/html": [
       "<pre>recommendations finished on 23000/52792 queries. users per second: 10712</pre>"
      ],
      "text/plain": [
       "recommendations finished on 23000/52792 queries. users per second: 10712"
      ]
     },
     "metadata": {},
     "output_type": "display_data"
    },
    {
     "data": {
      "text/html": [
       "<pre>recommendations finished on 24000/52792 queries. users per second: 10666.1</pre>"
      ],
      "text/plain": [
       "recommendations finished on 24000/52792 queries. users per second: 10666.1"
      ]
     },
     "metadata": {},
     "output_type": "display_data"
    },
    {
     "data": {
      "text/html": [
       "<pre>recommendations finished on 25000/52792 queries. users per second: 10655.8</pre>"
      ],
      "text/plain": [
       "recommendations finished on 25000/52792 queries. users per second: 10655.8"
      ]
     },
     "metadata": {},
     "output_type": "display_data"
    },
    {
     "data": {
      "text/html": [
       "<pre>recommendations finished on 26000/52792 queries. users per second: 10577.1</pre>"
      ],
      "text/plain": [
       "recommendations finished on 26000/52792 queries. users per second: 10577.1"
      ]
     },
     "metadata": {},
     "output_type": "display_data"
    },
    {
     "data": {
      "text/html": [
       "<pre>recommendations finished on 27000/52792 queries. users per second: 10529.8</pre>"
      ],
      "text/plain": [
       "recommendations finished on 27000/52792 queries. users per second: 10529.8"
      ]
     },
     "metadata": {},
     "output_type": "display_data"
    },
    {
     "data": {
      "text/html": [
       "<pre>recommendations finished on 28000/52792 queries. users per second: 10521.8</pre>"
      ],
      "text/plain": [
       "recommendations finished on 28000/52792 queries. users per second: 10521.8"
      ]
     },
     "metadata": {},
     "output_type": "display_data"
    },
    {
     "data": {
      "text/html": [
       "<pre>recommendations finished on 29000/52792 queries. users per second: 10564.1</pre>"
      ],
      "text/plain": [
       "recommendations finished on 29000/52792 queries. users per second: 10564.1"
      ]
     },
     "metadata": {},
     "output_type": "display_data"
    },
    {
     "data": {
      "text/html": [
       "<pre>recommendations finished on 30000/52792 queries. users per second: 10622.6</pre>"
      ],
      "text/plain": [
       "recommendations finished on 30000/52792 queries. users per second: 10622.6"
      ]
     },
     "metadata": {},
     "output_type": "display_data"
    },
    {
     "data": {
      "text/html": [
       "<pre>recommendations finished on 31000/52792 queries. users per second: 10619.5</pre>"
      ],
      "text/plain": [
       "recommendations finished on 31000/52792 queries. users per second: 10619.5"
      ]
     },
     "metadata": {},
     "output_type": "display_data"
    },
    {
     "data": {
      "text/html": [
       "<pre>recommendations finished on 32000/52792 queries. users per second: 10627.1</pre>"
      ],
      "text/plain": [
       "recommendations finished on 32000/52792 queries. users per second: 10627.1"
      ]
     },
     "metadata": {},
     "output_type": "display_data"
    },
    {
     "data": {
      "text/html": [
       "<pre>recommendations finished on 33000/52792 queries. users per second: 10634.3</pre>"
      ],
      "text/plain": [
       "recommendations finished on 33000/52792 queries. users per second: 10634.3"
      ]
     },
     "metadata": {},
     "output_type": "display_data"
    },
    {
     "data": {
      "text/html": [
       "<pre>recommendations finished on 34000/52792 queries. users per second: 10657.7</pre>"
      ],
      "text/plain": [
       "recommendations finished on 34000/52792 queries. users per second: 10657.7"
      ]
     },
     "metadata": {},
     "output_type": "display_data"
    },
    {
     "data": {
      "text/html": [
       "<pre>recommendations finished on 35000/52792 queries. users per second: 10670.1</pre>"
      ],
      "text/plain": [
       "recommendations finished on 35000/52792 queries. users per second: 10670.1"
      ]
     },
     "metadata": {},
     "output_type": "display_data"
    },
    {
     "data": {
      "text/html": [
       "<pre>recommendations finished on 36000/52792 queries. users per second: 10678.7</pre>"
      ],
      "text/plain": [
       "recommendations finished on 36000/52792 queries. users per second: 10678.7"
      ]
     },
     "metadata": {},
     "output_type": "display_data"
    },
    {
     "data": {
      "text/html": [
       "<pre>recommendations finished on 37000/52792 queries. users per second: 10665.3</pre>"
      ],
      "text/plain": [
       "recommendations finished on 37000/52792 queries. users per second: 10665.3"
      ]
     },
     "metadata": {},
     "output_type": "display_data"
    },
    {
     "data": {
      "text/html": [
       "<pre>recommendations finished on 38000/52792 queries. users per second: 10661.6</pre>"
      ],
      "text/plain": [
       "recommendations finished on 38000/52792 queries. users per second: 10661.6"
      ]
     },
     "metadata": {},
     "output_type": "display_data"
    },
    {
     "data": {
      "text/html": [
       "<pre>recommendations finished on 39000/52792 queries. users per second: 10614.5</pre>"
      ],
      "text/plain": [
       "recommendations finished on 39000/52792 queries. users per second: 10614.5"
      ]
     },
     "metadata": {},
     "output_type": "display_data"
    },
    {
     "data": {
      "text/html": [
       "<pre>recommendations finished on 40000/52792 queries. users per second: 10567.4</pre>"
      ],
      "text/plain": [
       "recommendations finished on 40000/52792 queries. users per second: 10567.4"
      ]
     },
     "metadata": {},
     "output_type": "display_data"
    },
    {
     "data": {
      "text/html": [
       "<pre>recommendations finished on 41000/52792 queries. users per second: 10563.7</pre>"
      ],
      "text/plain": [
       "recommendations finished on 41000/52792 queries. users per second: 10563.7"
      ]
     },
     "metadata": {},
     "output_type": "display_data"
    },
    {
     "data": {
      "text/html": [
       "<pre>recommendations finished on 42000/52792 queries. users per second: 10544.2</pre>"
      ],
      "text/plain": [
       "recommendations finished on 42000/52792 queries. users per second: 10544.2"
      ]
     },
     "metadata": {},
     "output_type": "display_data"
    },
    {
     "data": {
      "text/html": [
       "<pre>recommendations finished on 43000/52792 queries. users per second: 10530.9</pre>"
      ],
      "text/plain": [
       "recommendations finished on 43000/52792 queries. users per second: 10530.9"
      ]
     },
     "metadata": {},
     "output_type": "display_data"
    },
    {
     "data": {
      "text/html": [
       "<pre>recommendations finished on 44000/52792 queries. users per second: 10518.2</pre>"
      ],
      "text/plain": [
       "recommendations finished on 44000/52792 queries. users per second: 10518.2"
      ]
     },
     "metadata": {},
     "output_type": "display_data"
    },
    {
     "data": {
      "text/html": [
       "<pre>recommendations finished on 45000/52792 queries. users per second: 10503.6</pre>"
      ],
      "text/plain": [
       "recommendations finished on 45000/52792 queries. users per second: 10503.6"
      ]
     },
     "metadata": {},
     "output_type": "display_data"
    },
    {
     "data": {
      "text/html": [
       "<pre>recommendations finished on 46000/52792 queries. users per second: 10451.6</pre>"
      ],
      "text/plain": [
       "recommendations finished on 46000/52792 queries. users per second: 10451.6"
      ]
     },
     "metadata": {},
     "output_type": "display_data"
    },
    {
     "data": {
      "text/html": [
       "<pre>recommendations finished on 47000/52792 queries. users per second: 10351.8</pre>"
      ],
      "text/plain": [
       "recommendations finished on 47000/52792 queries. users per second: 10351.8"
      ]
     },
     "metadata": {},
     "output_type": "display_data"
    },
    {
     "data": {
      "text/html": [
       "<pre>recommendations finished on 48000/52792 queries. users per second: 10264.6</pre>"
      ],
      "text/plain": [
       "recommendations finished on 48000/52792 queries. users per second: 10264.6"
      ]
     },
     "metadata": {},
     "output_type": "display_data"
    },
    {
     "data": {
      "text/html": [
       "<pre>recommendations finished on 49000/52792 queries. users per second: 10173.8</pre>"
      ],
      "text/plain": [
       "recommendations finished on 49000/52792 queries. users per second: 10173.8"
      ]
     },
     "metadata": {},
     "output_type": "display_data"
    },
    {
     "data": {
      "text/html": [
       "<pre>recommendations finished on 50000/52792 queries. users per second: 10090.2</pre>"
      ],
      "text/plain": [
       "recommendations finished on 50000/52792 queries. users per second: 10090.2"
      ]
     },
     "metadata": {},
     "output_type": "display_data"
    },
    {
     "data": {
      "text/html": [
       "<pre>recommendations finished on 51000/52792 queries. users per second: 9942.89</pre>"
      ],
      "text/plain": [
       "recommendations finished on 51000/52792 queries. users per second: 9942.89"
      ]
     },
     "metadata": {},
     "output_type": "display_data"
    },
    {
     "data": {
      "text/html": [
       "<pre>recommendations finished on 52000/52792 queries. users per second: 9663.08</pre>"
      ],
      "text/plain": [
       "recommendations finished on 52000/52792 queries. users per second: 9663.08"
      ]
     },
     "metadata": {},
     "output_type": "display_data"
    },
    {
     "name": "stdout",
     "output_type": "stream",
     "text": [
      "+---------+---------+---------------+------+\n",
      "| user_id | book_id |     score     | rank |\n",
      "+---------+---------+---------------+------+\n",
      "|  20090  |   7947  | 4.84126984127 |  1   |\n",
      "|  20090  |   3275  | 4.78571428571 |  2   |\n",
      "|  20090  |   5580  | 4.78514383998 |  3   |\n",
      "|  20090  |   6361  | 4.78150926448 |  4   |\n",
      "|  20090  |   8978  | 4.76712328767 |  5   |\n",
      "|  20090  |   6920  |      4.76     |  6   |\n",
      "|  20090  |   6590  | 4.75362318841 |  7   |\n",
      "|  20090  |   9566  | 4.75342465753 |  8   |\n",
      "|  20090  |   3753  |     4.7375    |  9   |\n",
      "|  20090  |   4483  | 4.73740863549 |  10  |\n",
      "+---------+---------+---------------+------+\n",
      "[527920 rows x 4 columns]\n",
      "\n"
     ]
    }
   ],
   "source": [
    "Collaborative.predict(test_data)\n",
    "recom=Collaborative.recommend()\n",
    "recom.print_rows()"
   ]
  },
  {
   "cell_type": "code",
   "execution_count": 9,
   "metadata": {
    "collapsed": true
   },
   "outputs": [],
   "source": [
    "r = Collaborative.recommend(users=[1234],new_user_data=test_data)"
   ]
  },
  {
   "cell_type": "code",
   "execution_count": 10,
   "metadata": {
    "collapsed": false
   },
   "outputs": [
    {
     "data": {
      "text/html": [
       "<div style=\"max-height:1000px;max-width:1500px;overflow:auto;\"><table frame=\"box\" rules=\"cols\">\n",
       "    <tr>\n",
       "        <th style=\"padding-left: 1em; padding-right: 1em; text-align: center\">user_id</th>\n",
       "        <th style=\"padding-left: 1em; padding-right: 1em; text-align: center\">book_id</th>\n",
       "        <th style=\"padding-left: 1em; padding-right: 1em; text-align: center\">score</th>\n",
       "        <th style=\"padding-left: 1em; padding-right: 1em; text-align: center\">rank</th>\n",
       "    </tr>\n",
       "    <tr>\n",
       "        <td style=\"padding-left: 1em; padding-right: 1em; text-align: center; vertical-align: top\">1234</td>\n",
       "        <td style=\"padding-left: 1em; padding-right: 1em; text-align: center; vertical-align: top\">7947</td>\n",
       "        <td style=\"padding-left: 1em; padding-right: 1em; text-align: center; vertical-align: top\">4.84126984127</td>\n",
       "        <td style=\"padding-left: 1em; padding-right: 1em; text-align: center; vertical-align: top\">1</td>\n",
       "    </tr>\n",
       "    <tr>\n",
       "        <td style=\"padding-left: 1em; padding-right: 1em; text-align: center; vertical-align: top\">1234</td>\n",
       "        <td style=\"padding-left: 1em; padding-right: 1em; text-align: center; vertical-align: top\">3275</td>\n",
       "        <td style=\"padding-left: 1em; padding-right: 1em; text-align: center; vertical-align: top\">4.78571428571</td>\n",
       "        <td style=\"padding-left: 1em; padding-right: 1em; text-align: center; vertical-align: top\">2</td>\n",
       "    </tr>\n",
       "    <tr>\n",
       "        <td style=\"padding-left: 1em; padding-right: 1em; text-align: center; vertical-align: top\">1234</td>\n",
       "        <td style=\"padding-left: 1em; padding-right: 1em; text-align: center; vertical-align: top\">5580</td>\n",
       "        <td style=\"padding-left: 1em; padding-right: 1em; text-align: center; vertical-align: top\">4.78481012658</td>\n",
       "        <td style=\"padding-left: 1em; padding-right: 1em; text-align: center; vertical-align: top\">3</td>\n",
       "    </tr>\n",
       "    <tr>\n",
       "        <td style=\"padding-left: 1em; padding-right: 1em; text-align: center; vertical-align: top\">1234</td>\n",
       "        <td style=\"padding-left: 1em; padding-right: 1em; text-align: center; vertical-align: top\">6361</td>\n",
       "        <td style=\"padding-left: 1em; padding-right: 1em; text-align: center; vertical-align: top\">4.78082191781</td>\n",
       "        <td style=\"padding-left: 1em; padding-right: 1em; text-align: center; vertical-align: top\">4</td>\n",
       "    </tr>\n",
       "    <tr>\n",
       "        <td style=\"padding-left: 1em; padding-right: 1em; text-align: center; vertical-align: top\">1234</td>\n",
       "        <td style=\"padding-left: 1em; padding-right: 1em; text-align: center; vertical-align: top\">3628</td>\n",
       "        <td style=\"padding-left: 1em; padding-right: 1em; text-align: center; vertical-align: top\">4.775</td>\n",
       "        <td style=\"padding-left: 1em; padding-right: 1em; text-align: center; vertical-align: top\">5</td>\n",
       "    </tr>\n",
       "    <tr>\n",
       "        <td style=\"padding-left: 1em; padding-right: 1em; text-align: center; vertical-align: top\">1234</td>\n",
       "        <td style=\"padding-left: 1em; padding-right: 1em; text-align: center; vertical-align: top\">8978</td>\n",
       "        <td style=\"padding-left: 1em; padding-right: 1em; text-align: center; vertical-align: top\">4.76712328767</td>\n",
       "        <td style=\"padding-left: 1em; padding-right: 1em; text-align: center; vertical-align: top\">6</td>\n",
       "    </tr>\n",
       "    <tr>\n",
       "        <td style=\"padding-left: 1em; padding-right: 1em; text-align: center; vertical-align: top\">1234</td>\n",
       "        <td style=\"padding-left: 1em; padding-right: 1em; text-align: center; vertical-align: top\">6920</td>\n",
       "        <td style=\"padding-left: 1em; padding-right: 1em; text-align: center; vertical-align: top\">4.76</td>\n",
       "        <td style=\"padding-left: 1em; padding-right: 1em; text-align: center; vertical-align: top\">7</td>\n",
       "    </tr>\n",
       "    <tr>\n",
       "        <td style=\"padding-left: 1em; padding-right: 1em; text-align: center; vertical-align: top\">1234</td>\n",
       "        <td style=\"padding-left: 1em; padding-right: 1em; text-align: center; vertical-align: top\">6590</td>\n",
       "        <td style=\"padding-left: 1em; padding-right: 1em; text-align: center; vertical-align: top\">4.75362318841</td>\n",
       "        <td style=\"padding-left: 1em; padding-right: 1em; text-align: center; vertical-align: top\">8</td>\n",
       "    </tr>\n",
       "    <tr>\n",
       "        <td style=\"padding-left: 1em; padding-right: 1em; text-align: center; vertical-align: top\">1234</td>\n",
       "        <td style=\"padding-left: 1em; padding-right: 1em; text-align: center; vertical-align: top\">9566</td>\n",
       "        <td style=\"padding-left: 1em; padding-right: 1em; text-align: center; vertical-align: top\">4.75342465753</td>\n",
       "        <td style=\"padding-left: 1em; padding-right: 1em; text-align: center; vertical-align: top\">9</td>\n",
       "    </tr>\n",
       "    <tr>\n",
       "        <td style=\"padding-left: 1em; padding-right: 1em; text-align: center; vertical-align: top\">1234</td>\n",
       "        <td style=\"padding-left: 1em; padding-right: 1em; text-align: center; vertical-align: top\">3753</td>\n",
       "        <td style=\"padding-left: 1em; padding-right: 1em; text-align: center; vertical-align: top\">4.7375</td>\n",
       "        <td style=\"padding-left: 1em; padding-right: 1em; text-align: center; vertical-align: top\">10</td>\n",
       "    </tr>\n",
       "</table>\n",
       "[10 rows x 4 columns]<br/>\n",
       "</div>"
      ],
      "text/plain": [
       "Columns:\n",
       "\tuser_id\tint\n",
       "\tbook_id\tint\n",
       "\tscore\tfloat\n",
       "\trank\tint\n",
       "\n",
       "Rows: 10\n",
       "\n",
       "Data:\n",
       "+---------+---------+---------------+------+\n",
       "| user_id | book_id |     score     | rank |\n",
       "+---------+---------+---------------+------+\n",
       "|   1234  |   7947  | 4.84126984127 |  1   |\n",
       "|   1234  |   3275  | 4.78571428571 |  2   |\n",
       "|   1234  |   5580  | 4.78481012658 |  3   |\n",
       "|   1234  |   6361  | 4.78082191781 |  4   |\n",
       "|   1234  |   3628  |     4.775     |  5   |\n",
       "|   1234  |   8978  | 4.76712328767 |  6   |\n",
       "|   1234  |   6920  |      4.76     |  7   |\n",
       "|   1234  |   6590  | 4.75362318841 |  8   |\n",
       "|   1234  |   9566  | 4.75342465753 |  9   |\n",
       "|   1234  |   3753  |     4.7375    |  10  |\n",
       "+---------+---------+---------------+------+\n",
       "[10 rows x 4 columns]"
      ]
     },
     "execution_count": 10,
     "metadata": {},
     "output_type": "execute_result"
    }
   ],
   "source": [
    "r"
   ]
  },
  {
   "cell_type": "code",
   "execution_count": null,
   "metadata": {
    "collapsed": true
   },
   "outputs": [],
   "source": []
  }
 ],
 "metadata": {
  "kernelspec": {
   "display_name": "Python 2",
   "language": "python",
   "name": "python2"
  },
  "language_info": {
   "codemirror_mode": {
    "name": "ipython",
    "version": 2
   },
   "file_extension": ".py",
   "mimetype": "text/x-python",
   "name": "python",
   "nbconvert_exporter": "python",
   "pygments_lexer": "ipython2",
   "version": "2.7.13"
  }
 },
 "nbformat": 4,
 "nbformat_minor": 0
}
