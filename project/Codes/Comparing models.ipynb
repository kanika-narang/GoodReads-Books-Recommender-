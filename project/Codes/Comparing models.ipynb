{
 "cells": [
  {
   "cell_type": "code",
   "execution_count": 5,
   "metadata": {
    "collapsed": true
   },
   "outputs": [],
   "source": [
    "import graphlab\n",
    "import csv\n",
    "import pandas as pd\n",
    "import pickle"
   ]
  },
  {
   "cell_type": "code",
   "execution_count": 2,
   "metadata": {
    "collapsed": false
   },
   "outputs": [
    {
     "name": "stderr",
     "output_type": "stream",
     "text": [
      "[INFO] graphlab.cython.cy_server: GraphLab Create v2.1 started. Logging: C:\\Users\\SONY\\AppData\\Local\\Temp\\graphlab_server_1508655372.log.0\n"
     ]
    },
    {
     "name": "stdout",
     "output_type": "stream",
     "text": [
      "This non-commercial license of GraphLab Create for academic use is assigned to kanika.narang@iiitb.org and will expire on October 13, 2018.\n"
     ]
    }
   ],
   "source": [
    "test_csv_data=pd.read_csv('C:/Users/SONY/Desktop/3rdsem/Machine Learning/project/DATA/test_data.csv', sep=',')\n",
    "test_data= graphlab.SFrame(test_csv_data)"
   ]
  },
  {
   "cell_type": "code",
   "execution_count": 9,
   "metadata": {
    "collapsed": false
   },
   "outputs": [],
   "source": [
    "Context_based=graphlab.load_model('C:/Users/SONY/Desktop/3rdsem/Machine Learning/project/Models/Content based')\n",
    "Collaborative=graphlab.load_model('C:/Users/SONY/Desktop/3rdsem/Machine Learning/project/Models/Collaborative')\n",
    "popularity=graphlab.load_model('C:/Users/SONY/Desktop/3rdsem/Machine Learning/project/Models/Popularity')"
   ]
  },
  {
   "cell_type": "code",
   "execution_count": 10,
   "metadata": {
    "collapsed": false
   },
   "outputs": [
    {
     "name": "stdout",
     "output_type": "stream",
     "text": [
      "PROGRESS: Evaluate model M0\n"
     ]
    },
    {
     "data": {
      "text/html": [
       "<pre>recommendations finished on 1000/43154 queries. users per second: 1563.47</pre>"
      ],
      "text/plain": [
       "recommendations finished on 1000/43154 queries. users per second: 1563.47"
      ]
     },
     "metadata": {},
     "output_type": "display_data"
    },
    {
     "data": {
      "text/html": [
       "<pre>recommendations finished on 2000/43154 queries. users per second: 2418.96</pre>"
      ],
      "text/plain": [
       "recommendations finished on 2000/43154 queries. users per second: 2418.96"
      ]
     },
     "metadata": {},
     "output_type": "display_data"
    },
    {
     "data": {
      "text/html": [
       "<pre>recommendations finished on 3000/43154 queries. users per second: 2958.57</pre>"
      ],
      "text/plain": [
       "recommendations finished on 3000/43154 queries. users per second: 2958.57"
      ]
     },
     "metadata": {},
     "output_type": "display_data"
    },
    {
     "data": {
      "text/html": [
       "<pre>recommendations finished on 4000/43154 queries. users per second: 3373.81</pre>"
      ],
      "text/plain": [
       "recommendations finished on 4000/43154 queries. users per second: 3373.81"
      ]
     },
     "metadata": {},
     "output_type": "display_data"
    },
    {
     "data": {
      "text/html": [
       "<pre>recommendations finished on 5000/43154 queries. users per second: 3642.19</pre>"
      ],
      "text/plain": [
       "recommendations finished on 5000/43154 queries. users per second: 3642.19"
      ]
     },
     "metadata": {},
     "output_type": "display_data"
    },
    {
     "data": {
      "text/html": [
       "<pre>recommendations finished on 6000/43154 queries. users per second: 3846.15</pre>"
      ],
      "text/plain": [
       "recommendations finished on 6000/43154 queries. users per second: 3846.15"
      ]
     },
     "metadata": {},
     "output_type": "display_data"
    },
    {
     "data": {
      "text/html": [
       "<pre>recommendations finished on 7000/43154 queries. users per second: 3936.12</pre>"
      ],
      "text/plain": [
       "recommendations finished on 7000/43154 queries. users per second: 3936.12"
      ]
     },
     "metadata": {},
     "output_type": "display_data"
    },
    {
     "data": {
      "text/html": [
       "<pre>recommendations finished on 8000/43154 queries. users per second: 4037.95</pre>"
      ],
      "text/plain": [
       "recommendations finished on 8000/43154 queries. users per second: 4037.95"
      ]
     },
     "metadata": {},
     "output_type": "display_data"
    },
    {
     "data": {
      "text/html": [
       "<pre>recommendations finished on 9000/43154 queries. users per second: 4120.87</pre>"
      ],
      "text/plain": [
       "recommendations finished on 9000/43154 queries. users per second: 4120.87"
      ]
     },
     "metadata": {},
     "output_type": "display_data"
    },
    {
     "data": {
      "text/html": [
       "<pre>recommendations finished on 10000/43154 queries. users per second: 4082.96</pre>"
      ],
      "text/plain": [
       "recommendations finished on 10000/43154 queries. users per second: 4082.96"
      ]
     },
     "metadata": {},
     "output_type": "display_data"
    },
    {
     "data": {
      "text/html": [
       "<pre>recommendations finished on 11000/43154 queries. users per second: 4197.18</pre>"
      ],
      "text/plain": [
       "recommendations finished on 11000/43154 queries. users per second: 4197.18"
      ]
     },
     "metadata": {},
     "output_type": "display_data"
    },
    {
     "data": {
      "text/html": [
       "<pre>recommendations finished on 12000/43154 queries. users per second: 4249.89</pre>"
      ],
      "text/plain": [
       "recommendations finished on 12000/43154 queries. users per second: 4249.89"
      ]
     },
     "metadata": {},
     "output_type": "display_data"
    },
    {
     "data": {
      "text/html": [
       "<pre>recommendations finished on 13000/43154 queries. users per second: 4295.53</pre>"
      ],
      "text/plain": [
       "recommendations finished on 13000/43154 queries. users per second: 4295.53"
      ]
     },
     "metadata": {},
     "output_type": "display_data"
    },
    {
     "data": {
      "text/html": [
       "<pre>recommendations finished on 14000/43154 queries. users per second: 4356.48</pre>"
      ],
      "text/plain": [
       "recommendations finished on 14000/43154 queries. users per second: 4356.48"
      ]
     },
     "metadata": {},
     "output_type": "display_data"
    },
    {
     "data": {
      "text/html": [
       "<pre>recommendations finished on 15000/43154 queries. users per second: 4431.04</pre>"
      ],
      "text/plain": [
       "recommendations finished on 15000/43154 queries. users per second: 4431.04"
      ]
     },
     "metadata": {},
     "output_type": "display_data"
    },
    {
     "data": {
      "text/html": [
       "<pre>recommendations finished on 16000/43154 queries. users per second: 4498.42</pre>"
      ],
      "text/plain": [
       "recommendations finished on 16000/43154 queries. users per second: 4498.42"
      ]
     },
     "metadata": {},
     "output_type": "display_data"
    },
    {
     "data": {
      "text/html": [
       "<pre>recommendations finished on 17000/43154 queries. users per second: 4559.59</pre>"
      ],
      "text/plain": [
       "recommendations finished on 17000/43154 queries. users per second: 4559.59"
      ]
     },
     "metadata": {},
     "output_type": "display_data"
    },
    {
     "data": {
      "text/html": [
       "<pre>recommendations finished on 18000/43154 queries. users per second: 4596.99</pre>"
      ],
      "text/plain": [
       "recommendations finished on 18000/43154 queries. users per second: 4596.99"
      ]
     },
     "metadata": {},
     "output_type": "display_data"
    },
    {
     "data": {
      "text/html": [
       "<pre>recommendations finished on 19000/43154 queries. users per second: 4613.43</pre>"
      ],
      "text/plain": [
       "recommendations finished on 19000/43154 queries. users per second: 4613.43"
      ]
     },
     "metadata": {},
     "output_type": "display_data"
    },
    {
     "data": {
      "text/html": [
       "<pre>recommendations finished on 20000/43154 queries. users per second: 4273.5</pre>"
      ],
      "text/plain": [
       "recommendations finished on 20000/43154 queries. users per second: 4273.5"
      ]
     },
     "metadata": {},
     "output_type": "display_data"
    },
    {
     "data": {
      "text/html": [
       "<pre>recommendations finished on 21000/43154 queries. users per second: 4328.46</pre>"
      ],
      "text/plain": [
       "recommendations finished on 21000/43154 queries. users per second: 4328.46"
      ]
     },
     "metadata": {},
     "output_type": "display_data"
    },
    {
     "data": {
      "text/html": [
       "<pre>recommendations finished on 22000/43154 queries. users per second: 4379.67</pre>"
      ],
      "text/plain": [
       "recommendations finished on 22000/43154 queries. users per second: 4379.67"
      ]
     },
     "metadata": {},
     "output_type": "display_data"
    },
    {
     "data": {
      "text/html": [
       "<pre>recommendations finished on 23000/43154 queries. users per second: 4414.24</pre>"
      ],
      "text/plain": [
       "recommendations finished on 23000/43154 queries. users per second: 4414.24"
      ]
     },
     "metadata": {},
     "output_type": "display_data"
    },
    {
     "data": {
      "text/html": [
       "<pre>recommendations finished on 24000/43154 queries. users per second: 4446.41</pre>"
      ],
      "text/plain": [
       "recommendations finished on 24000/43154 queries. users per second: 4446.41"
      ]
     },
     "metadata": {},
     "output_type": "display_data"
    },
    {
     "data": {
      "text/html": [
       "<pre>recommendations finished on 25000/43154 queries. users per second: 4451.56</pre>"
      ],
      "text/plain": [
       "recommendations finished on 25000/43154 queries. users per second: 4451.56"
      ]
     },
     "metadata": {},
     "output_type": "display_data"
    },
    {
     "data": {
      "text/html": [
       "<pre>recommendations finished on 26000/43154 queries. users per second: 4468.27</pre>"
      ],
      "text/plain": [
       "recommendations finished on 26000/43154 queries. users per second: 4468.27"
      ]
     },
     "metadata": {},
     "output_type": "display_data"
    },
    {
     "data": {
      "text/html": [
       "<pre>recommendations finished on 27000/43154 queries. users per second: 4472.26</pre>"
      ],
      "text/plain": [
       "recommendations finished on 27000/43154 queries. users per second: 4472.26"
      ]
     },
     "metadata": {},
     "output_type": "display_data"
    },
    {
     "data": {
      "text/html": [
       "<pre>recommendations finished on 28000/43154 queries. users per second: 4464.85</pre>"
      ],
      "text/plain": [
       "recommendations finished on 28000/43154 queries. users per second: 4464.85"
      ]
     },
     "metadata": {},
     "output_type": "display_data"
    },
    {
     "data": {
      "text/html": [
       "<pre>recommendations finished on 29000/43154 queries. users per second: 4501.14</pre>"
      ],
      "text/plain": [
       "recommendations finished on 29000/43154 queries. users per second: 4501.14"
      ]
     },
     "metadata": {},
     "output_type": "display_data"
    },
    {
     "data": {
      "text/html": [
       "<pre>recommendations finished on 30000/43154 queries. users per second: 4524.88</pre>"
      ],
      "text/plain": [
       "recommendations finished on 30000/43154 queries. users per second: 4524.88"
      ]
     },
     "metadata": {},
     "output_type": "display_data"
    },
    {
     "data": {
      "text/html": [
       "<pre>recommendations finished on 31000/43154 queries. users per second: 4536.93</pre>"
      ],
      "text/plain": [
       "recommendations finished on 31000/43154 queries. users per second: 4536.93"
      ]
     },
     "metadata": {},
     "output_type": "display_data"
    },
    {
     "data": {
      "text/html": [
       "<pre>recommendations finished on 32000/43154 queries. users per second: 4558.4</pre>"
      ],
      "text/plain": [
       "recommendations finished on 32000/43154 queries. users per second: 4558.4"
      ]
     },
     "metadata": {},
     "output_type": "display_data"
    },
    {
     "data": {
      "text/html": [
       "<pre>recommendations finished on 33000/43154 queries. users per second: 4588.68</pre>"
      ],
      "text/plain": [
       "recommendations finished on 33000/43154 queries. users per second: 4588.68"
      ]
     },
     "metadata": {},
     "output_type": "display_data"
    },
    {
     "data": {
      "text/html": [
       "<pre>recommendations finished on 34000/43154 queries. users per second: 4617.55</pre>"
      ],
      "text/plain": [
       "recommendations finished on 34000/43154 queries. users per second: 4617.55"
      ]
     },
     "metadata": {},
     "output_type": "display_data"
    },
    {
     "data": {
      "text/html": [
       "<pre>recommendations finished on 35000/43154 queries. users per second: 4635.51</pre>"
      ],
      "text/plain": [
       "recommendations finished on 35000/43154 queries. users per second: 4635.51"
      ]
     },
     "metadata": {},
     "output_type": "display_data"
    },
    {
     "data": {
      "text/html": [
       "<pre>recommendations finished on 36000/43154 queries. users per second: 4643.24</pre>"
      ],
      "text/plain": [
       "recommendations finished on 36000/43154 queries. users per second: 4643.24"
      ]
     },
     "metadata": {},
     "output_type": "display_data"
    },
    {
     "data": {
      "text/html": [
       "<pre>recommendations finished on 37000/43154 queries. users per second: 4650.57</pre>"
      ],
      "text/plain": [
       "recommendations finished on 37000/43154 queries. users per second: 4650.57"
      ]
     },
     "metadata": {},
     "output_type": "display_data"
    },
    {
     "data": {
      "text/html": [
       "<pre>recommendations finished on 38000/43154 queries. users per second: 4684.41</pre>"
      ],
      "text/plain": [
       "recommendations finished on 38000/43154 queries. users per second: 4684.41"
      ]
     },
     "metadata": {},
     "output_type": "display_data"
    },
    {
     "data": {
      "text/html": [
       "<pre>recommendations finished on 39000/43154 queries. users per second: 4699.24</pre>"
      ],
      "text/plain": [
       "recommendations finished on 39000/43154 queries. users per second: 4699.24"
      ]
     },
     "metadata": {},
     "output_type": "display_data"
    },
    {
     "data": {
      "text/html": [
       "<pre>recommendations finished on 40000/43154 queries. users per second: 4704.77</pre>"
      ],
      "text/plain": [
       "recommendations finished on 40000/43154 queries. users per second: 4704.77"
      ]
     },
     "metadata": {},
     "output_type": "display_data"
    },
    {
     "data": {
      "text/html": [
       "<pre>recommendations finished on 41000/43154 queries. users per second: 4684.85</pre>"
      ],
      "text/plain": [
       "recommendations finished on 41000/43154 queries. users per second: 4684.85"
      ]
     },
     "metadata": {},
     "output_type": "display_data"
    },
    {
     "data": {
      "text/html": [
       "<pre>recommendations finished on 42000/43154 queries. users per second: 4657.96</pre>"
      ],
      "text/plain": [
       "recommendations finished on 42000/43154 queries. users per second: 4657.96"
      ]
     },
     "metadata": {},
     "output_type": "display_data"
    },
    {
     "data": {
      "text/html": [
       "<pre>recommendations finished on 43000/43154 queries. users per second: 4548.52</pre>"
      ],
      "text/plain": [
       "recommendations finished on 43000/43154 queries. users per second: 4548.52"
      ]
     },
     "metadata": {},
     "output_type": "display_data"
    },
    {
     "name": "stdout",
     "output_type": "stream",
     "text": [
      "\n",
      "Precision and recall summary statistics by cutoff\n",
      "+--------+-------------------+-------------------+\n",
      "| cutoff |   mean_precision  |    mean_recall    |\n",
      "+--------+-------------------+-------------------+\n",
      "|   1    | 0.000718357510312 | 0.000200967337052 |\n",
      "|   2    | 0.000637252630115 | 0.000249539862666 |\n",
      "|   3    | 0.000602493395745 | 0.000337378424941 |\n",
      "|   4    | 0.000544561338462 | 0.000358247054087 |\n",
      "|   5    | 0.000491263845762 | 0.000371120325228 |\n",
      "|   6    | 0.000475042869722 | 0.000396407552233 |\n",
      "|   7    | 0.000430352425532 | 0.000405479021652 |\n",
      "|   8    | 0.000408421003847 | 0.000417652600107 |\n",
      "|   9    | 0.000381064199019 | 0.000436454795513 |\n",
      "|   10   | 0.000361496037447 | 0.000450333428821 |\n",
      "+--------+-------------------+-------------------+\n",
      "[10 rows x 3 columns]\n",
      "\n",
      "PROGRESS: Evaluate model M1\n"
     ]
    },
    {
     "data": {
      "text/html": [
       "<pre>recommendations finished on 1000/43154 queries. users per second: 471.341</pre>"
      ],
      "text/plain": [
       "recommendations finished on 1000/43154 queries. users per second: 471.341"
      ]
     },
     "metadata": {},
     "output_type": "display_data"
    },
    {
     "data": {
      "text/html": [
       "<pre>recommendations finished on 2000/43154 queries. users per second: 872.142</pre>"
      ],
      "text/plain": [
       "recommendations finished on 2000/43154 queries. users per second: 872.142"
      ]
     },
     "metadata": {},
     "output_type": "display_data"
    },
    {
     "data": {
      "text/html": [
       "<pre>recommendations finished on 3000/43154 queries. users per second: 1224.89</pre>"
      ],
      "text/plain": [
       "recommendations finished on 3000/43154 queries. users per second: 1224.89"
      ]
     },
     "metadata": {},
     "output_type": "display_data"
    },
    {
     "data": {
      "text/html": [
       "<pre>recommendations finished on 4000/43154 queries. users per second: 1335.47</pre>"
      ],
      "text/plain": [
       "recommendations finished on 4000/43154 queries. users per second: 1335.47"
      ]
     },
     "metadata": {},
     "output_type": "display_data"
    },
    {
     "data": {
      "text/html": [
       "<pre>recommendations finished on 5000/43154 queries. users per second: 1586.69</pre>"
      ],
      "text/plain": [
       "recommendations finished on 5000/43154 queries. users per second: 1586.69"
      ]
     },
     "metadata": {},
     "output_type": "display_data"
    },
    {
     "data": {
      "text/html": [
       "<pre>recommendations finished on 6000/43154 queries. users per second: 1814.22</pre>"
      ],
      "text/plain": [
       "recommendations finished on 6000/43154 queries. users per second: 1814.22"
      ]
     },
     "metadata": {},
     "output_type": "display_data"
    },
    {
     "data": {
      "text/html": [
       "<pre>recommendations finished on 7000/43154 queries. users per second: 2012.18</pre>"
      ],
      "text/plain": [
       "recommendations finished on 7000/43154 queries. users per second: 2012.18"
      ]
     },
     "metadata": {},
     "output_type": "display_data"
    },
    {
     "data": {
      "text/html": [
       "<pre>recommendations finished on 8000/43154 queries. users per second: 2210.43</pre>"
      ],
      "text/plain": [
       "recommendations finished on 8000/43154 queries. users per second: 2210.43"
      ]
     },
     "metadata": {},
     "output_type": "display_data"
    },
    {
     "data": {
      "text/html": [
       "<pre>recommendations finished on 9000/43154 queries. users per second: 2280.32</pre>"
      ],
      "text/plain": [
       "recommendations finished on 9000/43154 queries. users per second: 2280.32"
      ]
     },
     "metadata": {},
     "output_type": "display_data"
    },
    {
     "data": {
      "text/html": [
       "<pre>recommendations finished on 10000/43154 queries. users per second: 2382.99</pre>"
      ],
      "text/plain": [
       "recommendations finished on 10000/43154 queries. users per second: 2382.99"
      ]
     },
     "metadata": {},
     "output_type": "display_data"
    },
    {
     "data": {
      "text/html": [
       "<pre>recommendations finished on 11000/43154 queries. users per second: 2509.35</pre>"
      ],
      "text/plain": [
       "recommendations finished on 11000/43154 queries. users per second: 2509.35"
      ]
     },
     "metadata": {},
     "output_type": "display_data"
    },
    {
     "data": {
      "text/html": [
       "<pre>recommendations finished on 12000/43154 queries. users per second: 2652.52</pre>"
      ],
      "text/plain": [
       "recommendations finished on 12000/43154 queries. users per second: 2652.52"
      ]
     },
     "metadata": {},
     "output_type": "display_data"
    },
    {
     "data": {
      "text/html": [
       "<pre>recommendations finished on 13000/43154 queries. users per second: 2787.06</pre>"
      ],
      "text/plain": [
       "recommendations finished on 13000/43154 queries. users per second: 2787.06"
      ]
     },
     "metadata": {},
     "output_type": "display_data"
    },
    {
     "data": {
      "text/html": [
       "<pre>recommendations finished on 14000/43154 queries. users per second: 2885.64</pre>"
      ],
      "text/plain": [
       "recommendations finished on 14000/43154 queries. users per second: 2885.64"
      ]
     },
     "metadata": {},
     "output_type": "display_data"
    },
    {
     "data": {
      "text/html": [
       "<pre>recommendations finished on 15000/43154 queries. users per second: 2967.71</pre>"
      ],
      "text/plain": [
       "recommendations finished on 15000/43154 queries. users per second: 2967.71"
      ]
     },
     "metadata": {},
     "output_type": "display_data"
    },
    {
     "data": {
      "text/html": [
       "<pre>recommendations finished on 16000/43154 queries. users per second: 3080</pre>"
      ],
      "text/plain": [
       "recommendations finished on 16000/43154 queries. users per second: 3080"
      ]
     },
     "metadata": {},
     "output_type": "display_data"
    },
    {
     "data": {
      "text/html": [
       "<pre>recommendations finished on 17000/43154 queries. users per second: 3158.67</pre>"
      ],
      "text/plain": [
       "recommendations finished on 17000/43154 queries. users per second: 3158.67"
      ]
     },
     "metadata": {},
     "output_type": "display_data"
    },
    {
     "data": {
      "text/html": [
       "<pre>recommendations finished on 18000/43154 queries. users per second: 3232.06</pre>"
      ],
      "text/plain": [
       "recommendations finished on 18000/43154 queries. users per second: 3232.06"
      ]
     },
     "metadata": {},
     "output_type": "display_data"
    },
    {
     "data": {
      "text/html": [
       "<pre>recommendations finished on 19000/43154 queries. users per second: 3265.27</pre>"
      ],
      "text/plain": [
       "recommendations finished on 19000/43154 queries. users per second: 3265.27"
      ]
     },
     "metadata": {},
     "output_type": "display_data"
    },
    {
     "data": {
      "text/html": [
       "<pre>recommendations finished on 20000/43154 queries. users per second: 3330</pre>"
      ],
      "text/plain": [
       "recommendations finished on 20000/43154 queries. users per second: 3330"
      ]
     },
     "metadata": {},
     "output_type": "display_data"
    },
    {
     "data": {
      "text/html": [
       "<pre>recommendations finished on 21000/43154 queries. users per second: 3416.63</pre>"
      ],
      "text/plain": [
       "recommendations finished on 21000/43154 queries. users per second: 3416.63"
      ]
     },
     "metadata": {},
     "output_type": "display_data"
    },
    {
     "data": {
      "text/html": [
       "<pre>recommendations finished on 22000/43154 queries. users per second: 3499.39</pre>"
      ],
      "text/plain": [
       "recommendations finished on 22000/43154 queries. users per second: 3499.39"
      ]
     },
     "metadata": {},
     "output_type": "display_data"
    },
    {
     "data": {
      "text/html": [
       "<pre>recommendations finished on 23000/43154 queries. users per second: 3569.87</pre>"
      ],
      "text/plain": [
       "recommendations finished on 23000/43154 queries. users per second: 3569.87"
      ]
     },
     "metadata": {},
     "output_type": "display_data"
    },
    {
     "data": {
      "text/html": [
       "<pre>recommendations finished on 24000/43154 queries. users per second: 3628.44</pre>"
      ],
      "text/plain": [
       "recommendations finished on 24000/43154 queries. users per second: 3628.44"
      ]
     },
     "metadata": {},
     "output_type": "display_data"
    },
    {
     "data": {
      "text/html": [
       "<pre>recommendations finished on 25000/43154 queries. users per second: 3692.54</pre>"
      ],
      "text/plain": [
       "recommendations finished on 25000/43154 queries. users per second: 3692.54"
      ]
     },
     "metadata": {},
     "output_type": "display_data"
    },
    {
     "data": {
      "text/html": [
       "<pre>recommendations finished on 26000/43154 queries. users per second: 3745.31</pre>"
      ],
      "text/plain": [
       "recommendations finished on 26000/43154 queries. users per second: 3745.31"
      ]
     },
     "metadata": {},
     "output_type": "display_data"
    },
    {
     "data": {
      "text/html": [
       "<pre>recommendations finished on 27000/43154 queries. users per second: 3803.88</pre>"
      ],
      "text/plain": [
       "recommendations finished on 27000/43154 queries. users per second: 3803.88"
      ]
     },
     "metadata": {},
     "output_type": "display_data"
    },
    {
     "data": {
      "text/html": [
       "<pre>recommendations finished on 28000/43154 queries. users per second: 3851.65</pre>"
      ],
      "text/plain": [
       "recommendations finished on 28000/43154 queries. users per second: 3851.65"
      ]
     },
     "metadata": {},
     "output_type": "display_data"
    },
    {
     "data": {
      "text/html": [
       "<pre>recommendations finished on 29000/43154 queries. users per second: 3905.4</pre>"
      ],
      "text/plain": [
       "recommendations finished on 29000/43154 queries. users per second: 3905.4"
      ]
     },
     "metadata": {},
     "output_type": "display_data"
    },
    {
     "data": {
      "text/html": [
       "<pre>recommendations finished on 30000/43154 queries. users per second: 3956.94</pre>"
      ],
      "text/plain": [
       "recommendations finished on 30000/43154 queries. users per second: 3956.94"
      ]
     },
     "metadata": {},
     "output_type": "display_data"
    },
    {
     "data": {
      "text/html": [
       "<pre>recommendations finished on 31000/43154 queries. users per second: 4014.5</pre>"
      ],
      "text/plain": [
       "recommendations finished on 31000/43154 queries. users per second: 4014.5"
      ]
     },
     "metadata": {},
     "output_type": "display_data"
    },
    {
     "data": {
      "text/html": [
       "<pre>recommendations finished on 32000/43154 queries. users per second: 4070</pre>"
      ],
      "text/plain": [
       "recommendations finished on 32000/43154 queries. users per second: 4070"
      ]
     },
     "metadata": {},
     "output_type": "display_data"
    },
    {
     "data": {
      "text/html": [
       "<pre>recommendations finished on 33000/43154 queries. users per second: 4115.53</pre>"
      ],
      "text/plain": [
       "recommendations finished on 33000/43154 queries. users per second: 4115.53"
      ]
     },
     "metadata": {},
     "output_type": "display_data"
    },
    {
     "data": {
      "text/html": [
       "<pre>recommendations finished on 34000/43154 queries. users per second: 4167.27</pre>"
      ],
      "text/plain": [
       "recommendations finished on 34000/43154 queries. users per second: 4167.27"
      ]
     },
     "metadata": {},
     "output_type": "display_data"
    },
    {
     "data": {
      "text/html": [
       "<pre>recommendations finished on 35000/43154 queries. users per second: 4209.35</pre>"
      ],
      "text/plain": [
       "recommendations finished on 35000/43154 queries. users per second: 4209.35"
      ]
     },
     "metadata": {},
     "output_type": "display_data"
    },
    {
     "data": {
      "text/html": [
       "<pre>recommendations finished on 36000/43154 queries. users per second: 4257.73</pre>"
      ],
      "text/plain": [
       "recommendations finished on 36000/43154 queries. users per second: 4257.73"
      ]
     },
     "metadata": {},
     "output_type": "display_data"
    },
    {
     "data": {
      "text/html": [
       "<pre>recommendations finished on 37000/43154 queries. users per second: 4288.95</pre>"
      ],
      "text/plain": [
       "recommendations finished on 37000/43154 queries. users per second: 4288.95"
      ]
     },
     "metadata": {},
     "output_type": "display_data"
    },
    {
     "data": {
      "text/html": [
       "<pre>recommendations finished on 38000/43154 queries. users per second: 4318.96</pre>"
      ],
      "text/plain": [
       "recommendations finished on 38000/43154 queries. users per second: 4318.96"
      ]
     },
     "metadata": {},
     "output_type": "display_data"
    },
    {
     "data": {
      "text/html": [
       "<pre>recommendations finished on 39000/43154 queries. users per second: 4355.39</pre>"
      ],
      "text/plain": [
       "recommendations finished on 39000/43154 queries. users per second: 4355.39"
      ]
     },
     "metadata": {},
     "output_type": "display_data"
    },
    {
     "data": {
      "text/html": [
       "<pre>recommendations finished on 40000/43154 queries. users per second: 4383.07</pre>"
      ],
      "text/plain": [
       "recommendations finished on 40000/43154 queries. users per second: 4383.07"
      ]
     },
     "metadata": {},
     "output_type": "display_data"
    },
    {
     "data": {
      "text/html": [
       "<pre>recommendations finished on 41000/43154 queries. users per second: 4394.98</pre>"
      ],
      "text/plain": [
       "recommendations finished on 41000/43154 queries. users per second: 4394.98"
      ]
     },
     "metadata": {},
     "output_type": "display_data"
    },
    {
     "data": {
      "text/html": [
       "<pre>recommendations finished on 42000/43154 queries. users per second: 4399.19</pre>"
      ],
      "text/plain": [
       "recommendations finished on 42000/43154 queries. users per second: 4399.19"
      ]
     },
     "metadata": {},
     "output_type": "display_data"
    },
    {
     "data": {
      "text/html": [
       "<pre>recommendations finished on 43000/43154 queries. users per second: 4396.18</pre>"
      ],
      "text/plain": [
       "recommendations finished on 43000/43154 queries. users per second: 4396.18"
      ]
     },
     "metadata": {},
     "output_type": "display_data"
    },
    {
     "name": "stdout",
     "output_type": "stream",
     "text": [
      "\n",
      "Precision and recall summary statistics by cutoff\n",
      "+--------+-------------------+-------------------+\n",
      "| cutoff |   mean_precision  |    mean_recall    |\n",
      "+--------+-------------------+-------------------+\n",
      "|   1    | 0.000579320572832 | 0.000283969067859 |\n",
      "|   2    | 0.000718357510312 | 0.000526208190846 |\n",
      "|   3    | 0.000641114767268 | 0.000597499410119 |\n",
      "|   4    | 0.000631459424387 | 0.000704736363739 |\n",
      "|   5    | 0.000667377299903 | 0.000788203265847 |\n",
      "|   6    | 0.000668149727333 |  0.00091931006487 |\n",
      "|   7    | 0.000668701461212 |  0.00107001125458 |\n",
      "|   8    | 0.000657528850165 |  0.00120696931768 |\n",
      "|   9    | 0.000646264283471 |  0.00134253035631 |\n",
      "|   10   | 0.000660425453029 |  0.0014967894069  |\n",
      "+--------+-------------------+-------------------+\n",
      "[10 rows x 3 columns]\n",
      "\n",
      "PROGRESS: Evaluate model M2\n"
     ]
    },
    {
     "data": {
      "text/html": [
       "<pre>recommendations finished on 1000/43154 queries. users per second: 1282.05</pre>"
      ],
      "text/plain": [
       "recommendations finished on 1000/43154 queries. users per second: 1282.05"
      ]
     },
     "metadata": {},
     "output_type": "display_data"
    },
    {
     "data": {
      "text/html": [
       "<pre>recommendations finished on 2000/43154 queries. users per second: 2289.37</pre>"
      ],
      "text/plain": [
       "recommendations finished on 2000/43154 queries. users per second: 2289.37"
      ]
     },
     "metadata": {},
     "output_type": "display_data"
    },
    {
     "data": {
      "text/html": [
       "<pre>recommendations finished on 3000/43154 queries. users per second: 3004.8</pre>"
      ],
      "text/plain": [
       "recommendations finished on 3000/43154 queries. users per second: 3004.8"
      ]
     },
     "metadata": {},
     "output_type": "display_data"
    },
    {
     "data": {
      "text/html": [
       "<pre>recommendations finished on 4000/43154 queries. users per second: 3663</pre>"
      ],
      "text/plain": [
       "recommendations finished on 4000/43154 queries. users per second: 3663"
      ]
     },
     "metadata": {},
     "output_type": "display_data"
    },
    {
     "data": {
      "text/html": [
       "<pre>recommendations finished on 5000/43154 queries. users per second: 4109.13</pre>"
      ],
      "text/plain": [
       "recommendations finished on 5000/43154 queries. users per second: 4109.13"
      ]
     },
     "metadata": {},
     "output_type": "display_data"
    },
    {
     "data": {
      "text/html": [
       "<pre>recommendations finished on 6000/43154 queries. users per second: 4524.88</pre>"
      ],
      "text/plain": [
       "recommendations finished on 6000/43154 queries. users per second: 4524.88"
      ]
     },
     "metadata": {},
     "output_type": "display_data"
    },
    {
     "data": {
      "text/html": [
       "<pre>recommendations finished on 7000/43154 queries. users per second: 4930.96</pre>"
      ],
      "text/plain": [
       "recommendations finished on 7000/43154 queries. users per second: 4930.96"
      ]
     },
     "metadata": {},
     "output_type": "display_data"
    },
    {
     "data": {
      "text/html": [
       "<pre>recommendations finished on 8000/43154 queries. users per second: 5232.85</pre>"
      ],
      "text/plain": [
       "recommendations finished on 8000/43154 queries. users per second: 5232.85"
      ]
     },
     "metadata": {},
     "output_type": "display_data"
    },
    {
     "data": {
      "text/html": [
       "<pre>recommendations finished on 9000/43154 queries. users per second: 5547.33</pre>"
      ],
      "text/plain": [
       "recommendations finished on 9000/43154 queries. users per second: 5547.33"
      ]
     },
     "metadata": {},
     "output_type": "display_data"
    },
    {
     "data": {
      "text/html": [
       "<pre>recommendations finished on 10000/43154 queries. users per second: 5723.43</pre>"
      ],
      "text/plain": [
       "recommendations finished on 10000/43154 queries. users per second: 5723.43"
      ]
     },
     "metadata": {},
     "output_type": "display_data"
    },
    {
     "data": {
      "text/html": [
       "<pre>recommendations finished on 11000/43154 queries. users per second: 5876.06</pre>"
      ],
      "text/plain": [
       "recommendations finished on 11000/43154 queries. users per second: 5876.06"
      ]
     },
     "metadata": {},
     "output_type": "display_data"
    },
    {
     "data": {
      "text/html": [
       "<pre>recommendations finished on 12000/43154 queries. users per second: 6056.92</pre>"
      ],
      "text/plain": [
       "recommendations finished on 12000/43154 queries. users per second: 6056.92"
      ]
     },
     "metadata": {},
     "output_type": "display_data"
    },
    {
     "data": {
      "text/html": [
       "<pre>recommendations finished on 13000/43154 queries. users per second: 6265.65</pre>"
      ],
      "text/plain": [
       "recommendations finished on 13000/43154 queries. users per second: 6265.65"
      ]
     },
     "metadata": {},
     "output_type": "display_data"
    },
    {
     "data": {
      "text/html": [
       "<pre>recommendations finished on 14000/43154 queries. users per second: 6410.24</pre>"
      ],
      "text/plain": [
       "recommendations finished on 14000/43154 queries. users per second: 6410.24"
      ]
     },
     "metadata": {},
     "output_type": "display_data"
    },
    {
     "data": {
      "text/html": [
       "<pre>recommendations finished on 15000/43154 queries. users per second: 6585.87</pre>"
      ],
      "text/plain": [
       "recommendations finished on 15000/43154 queries. users per second: 6585.87"
      ]
     },
     "metadata": {},
     "output_type": "display_data"
    },
    {
     "data": {
      "text/html": [
       "<pre>recommendations finished on 16000/43154 queries. users per second: 6747.62</pre>"
      ],
      "text/plain": [
       "recommendations finished on 16000/43154 queries. users per second: 6747.62"
      ]
     },
     "metadata": {},
     "output_type": "display_data"
    },
    {
     "data": {
      "text/html": [
       "<pre>recommendations finished on 17000/43154 queries. users per second: 6897.1</pre>"
      ],
      "text/plain": [
       "recommendations finished on 17000/43154 queries. users per second: 6897.1"
      ]
     },
     "metadata": {},
     "output_type": "display_data"
    },
    {
     "data": {
      "text/html": [
       "<pre>recommendations finished on 18000/43154 queries. users per second: 7035.63</pre>"
      ],
      "text/plain": [
       "recommendations finished on 18000/43154 queries. users per second: 7035.63"
      ]
     },
     "metadata": {},
     "output_type": "display_data"
    },
    {
     "data": {
      "text/html": [
       "<pre>recommendations finished on 19000/43154 queries. users per second: 7164.39</pre>"
      ],
      "text/plain": [
       "recommendations finished on 19000/43154 queries. users per second: 7164.39"
      ]
     },
     "metadata": {},
     "output_type": "display_data"
    },
    {
     "data": {
      "text/html": [
       "<pre>recommendations finished on 20000/43154 queries. users per second: 7162.28</pre>"
      ],
      "text/plain": [
       "recommendations finished on 20000/43154 queries. users per second: 7162.28"
      ]
     },
     "metadata": {},
     "output_type": "display_data"
    },
    {
     "data": {
      "text/html": [
       "<pre>recommendations finished on 21000/43154 queries. users per second: 7198.67</pre>"
      ],
      "text/plain": [
       "recommendations finished on 21000/43154 queries. users per second: 7198.67"
      ]
     },
     "metadata": {},
     "output_type": "display_data"
    },
    {
     "data": {
      "text/html": [
       "<pre>recommendations finished on 22000/43154 queries. users per second: 7269.35</pre>"
      ],
      "text/plain": [
       "recommendations finished on 22000/43154 queries. users per second: 7269.35"
      ]
     },
     "metadata": {},
     "output_type": "display_data"
    },
    {
     "data": {
      "text/html": [
       "<pre>recommendations finished on 23000/43154 queries. users per second: 7335.11</pre>"
      ],
      "text/plain": [
       "recommendations finished on 23000/43154 queries. users per second: 7335.11"
      ]
     },
     "metadata": {},
     "output_type": "display_data"
    },
    {
     "data": {
      "text/html": [
       "<pre>recommendations finished on 24000/43154 queries. users per second: 7361.05</pre>"
      ],
      "text/plain": [
       "recommendations finished on 24000/43154 queries. users per second: 7361.05"
      ]
     },
     "metadata": {},
     "output_type": "display_data"
    },
    {
     "data": {
      "text/html": [
       "<pre>recommendations finished on 25000/43154 queries. users per second: 7453.77</pre>"
      ],
      "text/plain": [
       "recommendations finished on 25000/43154 queries. users per second: 7453.77"
      ]
     },
     "metadata": {},
     "output_type": "display_data"
    },
    {
     "data": {
      "text/html": [
       "<pre>recommendations finished on 26000/43154 queries. users per second: 7541.47</pre>"
      ],
      "text/plain": [
       "recommendations finished on 26000/43154 queries. users per second: 7541.47"
      ]
     },
     "metadata": {},
     "output_type": "display_data"
    },
    {
     "data": {
      "text/html": [
       "<pre>recommendations finished on 27000/43154 queries. users per second: 7591.08</pre>"
      ],
      "text/plain": [
       "recommendations finished on 27000/43154 queries. users per second: 7591.08"
      ]
     },
     "metadata": {},
     "output_type": "display_data"
    },
    {
     "data": {
      "text/html": [
       "<pre>recommendations finished on 28000/43154 queries. users per second: 7637.74</pre>"
      ],
      "text/plain": [
       "recommendations finished on 28000/43154 queries. users per second: 7637.74"
      ]
     },
     "metadata": {},
     "output_type": "display_data"
    },
    {
     "data": {
      "text/html": [
       "<pre>recommendations finished on 29000/43154 queries. users per second: 7650.09</pre>"
      ],
      "text/plain": [
       "recommendations finished on 29000/43154 queries. users per second: 7650.09"
      ]
     },
     "metadata": {},
     "output_type": "display_data"
    },
    {
     "data": {
      "text/html": [
       "<pre>recommendations finished on 30000/43154 queries. users per second: 7692.29</pre>"
      ],
      "text/plain": [
       "recommendations finished on 30000/43154 queries. users per second: 7692.29"
      ]
     },
     "metadata": {},
     "output_type": "display_data"
    },
    {
     "data": {
      "text/html": [
       "<pre>recommendations finished on 31000/43154 queries. users per second: 7672.49</pre>"
      ],
      "text/plain": [
       "recommendations finished on 31000/43154 queries. users per second: 7672.49"
      ]
     },
     "metadata": {},
     "output_type": "display_data"
    },
    {
     "data": {
      "text/html": [
       "<pre>recommendations finished on 32000/43154 queries. users per second: 7711.57</pre>"
      ],
      "text/plain": [
       "recommendations finished on 32000/43154 queries. users per second: 7711.57"
      ]
     },
     "metadata": {},
     "output_type": "display_data"
    },
    {
     "data": {
      "text/html": [
       "<pre>recommendations finished on 33000/43154 queries. users per second: 7609.28</pre>"
      ],
      "text/plain": [
       "recommendations finished on 33000/43154 queries. users per second: 7609.28"
      ]
     },
     "metadata": {},
     "output_type": "display_data"
    },
    {
     "data": {
      "text/html": [
       "<pre>recommendations finished on 34000/43154 queries. users per second: 7567.65</pre>"
      ],
      "text/plain": [
       "recommendations finished on 34000/43154 queries. users per second: 7567.65"
      ]
     },
     "metadata": {},
     "output_type": "display_data"
    },
    {
     "data": {
      "text/html": [
       "<pre>recommendations finished on 35000/43154 queries. users per second: 7554.16</pre>"
      ],
      "text/plain": [
       "recommendations finished on 35000/43154 queries. users per second: 7554.16"
      ]
     },
     "metadata": {},
     "output_type": "display_data"
    },
    {
     "data": {
      "text/html": [
       "<pre>recommendations finished on 36000/43154 queries. users per second: 7566.19</pre>"
      ],
      "text/plain": [
       "recommendations finished on 36000/43154 queries. users per second: 7566.19"
      ]
     },
     "metadata": {},
     "output_type": "display_data"
    },
    {
     "data": {
      "text/html": [
       "<pre>recommendations finished on 37000/43154 queries. users per second: 7577.61</pre>"
      ],
      "text/plain": [
       "recommendations finished on 37000/43154 queries. users per second: 7577.61"
      ]
     },
     "metadata": {},
     "output_type": "display_data"
    },
    {
     "data": {
      "text/html": [
       "<pre>recommendations finished on 38000/43154 queries. users per second: 7588.45</pre>"
      ],
      "text/plain": [
       "recommendations finished on 38000/43154 queries. users per second: 7588.45"
      ]
     },
     "metadata": {},
     "output_type": "display_data"
    },
    {
     "data": {
      "text/html": [
       "<pre>recommendations finished on 39000/43154 queries. users per second: 7598.77</pre>"
      ],
      "text/plain": [
       "recommendations finished on 39000/43154 queries. users per second: 7598.77"
      ]
     },
     "metadata": {},
     "output_type": "display_data"
    },
    {
     "data": {
      "text/html": [
       "<pre>recommendations finished on 40000/43154 queries. users per second: 7586.09</pre>"
      ],
      "text/plain": [
       "recommendations finished on 40000/43154 queries. users per second: 7586.09"
      ]
     },
     "metadata": {},
     "output_type": "display_data"
    },
    {
     "data": {
      "text/html": [
       "<pre>recommendations finished on 41000/43154 queries. users per second: 7552.3</pre>"
      ],
      "text/plain": [
       "recommendations finished on 41000/43154 queries. users per second: 7552.3"
      ]
     },
     "metadata": {},
     "output_type": "display_data"
    },
    {
     "data": {
      "text/html": [
       "<pre>recommendations finished on 42000/43154 queries. users per second: 7356.02</pre>"
      ],
      "text/plain": [
       "recommendations finished on 42000/43154 queries. users per second: 7356.02"
      ]
     },
     "metadata": {},
     "output_type": "display_data"
    },
    {
     "data": {
      "text/html": [
       "<pre>recommendations finished on 43000/43154 queries. users per second: 7159.49</pre>"
      ],
      "text/plain": [
       "recommendations finished on 43000/43154 queries. users per second: 7159.49"
      ]
     },
     "metadata": {},
     "output_type": "display_data"
    },
    {
     "name": "stdout",
     "output_type": "stream",
     "text": [
      "\n",
      "Precision and recall summary statistics by cutoff\n",
      "+--------+-------------------+-------------------+\n",
      "| cutoff |   mean_precision  |    mean_recall    |\n",
      "+--------+-------------------+-------------------+\n",
      "|   1    | 0.000556147749919 | 0.000260796244946 |\n",
      "|   2    | 0.000463456458266 | 0.000325719042232 |\n",
      "|   3    | 0.000556147749919 | 0.000429412847955 |\n",
      "|   4    | 0.000573527367104 | 0.000527464268452 |\n",
      "|   5    | 0.000611762524911 |  0.00059680678326 |\n",
      "|   6    | 0.000633390492963 | 0.000763042053942 |\n",
      "|   7    | 0.000625666218659 | 0.000880090725465 |\n",
      "|   8    | 0.000593803587153 |  0.00098854584385 |\n",
      "|   9    | 0.000581895330934 |  0.00110716987914 |\n",
      "|   10   | 0.000577003290541 |  0.00126929687946 |\n",
      "+--------+-------------------+-------------------+\n",
      "[10 rows x 3 columns]\n",
      "\n",
      "Model compare metric: precision_recall\n"
     ]
    }
   ],
   "source": [
    "model_performance = graphlab.compare(test_data, [Context_based,Collaborative,popularity])"
   ]
  },
  {
   "cell_type": "code",
   "execution_count": 11,
   "metadata": {
    "collapsed": false
   },
   "outputs": [
    {
     "name": "stdout",
     "output_type": "stream",
     "text": [
      "Canvas is accessible via web browser at the URL: http://localhost:53060/index.html\n",
      "Opening Canvas in default web browser.\n"
     ]
    }
   ],
   "source": [
    "graphlab.show_comparison(model_performance,[Context_based,Collaborative,popularity])"
   ]
  },
  {
   "cell_type": "code",
   "execution_count": null,
   "metadata": {
    "collapsed": true
   },
   "outputs": [],
   "source": []
  }
 ],
 "metadata": {
  "kernelspec": {
   "display_name": "Python 2",
   "language": "python",
   "name": "python2"
  },
  "language_info": {
   "codemirror_mode": {
    "name": "ipython",
    "version": 2
   },
   "file_extension": ".py",
   "mimetype": "text/x-python",
   "name": "python",
   "nbconvert_exporter": "python",
   "pygments_lexer": "ipython2",
   "version": "2.7.13"
  }
 },
 "nbformat": 4,
 "nbformat_minor": 0
}
