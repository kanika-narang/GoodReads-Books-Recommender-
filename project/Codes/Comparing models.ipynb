{
 "cells": [
  {
   "cell_type": "code",
   "execution_count": 2,
   "metadata": {
    "collapsed": true
   },
   "outputs": [],
   "source": [
    "import graphlab\n",
    "import csv\n",
    "import pandas as pd\n",
    "import pickle"
   ]
  },
  {
   "cell_type": "code",
   "execution_count": 3,
   "metadata": {
    "collapsed": false
   },
   "outputs": [
    {
     "name": "stdout",
     "output_type": "stream",
     "text": [
      "This non-commercial license of GraphLab Create for academic use is assigned to kanika.narang@iiitb.org and will expire on October 13, 2018.\n"
     ]
    },
    {
     "name": "stderr",
     "output_type": "stream",
     "text": [
      "[INFO] graphlab.cython.cy_server: GraphLab Create v2.1 started. Logging: C:\\Users\\SONY\\AppData\\Local\\Temp\\graphlab_server_1508730621.log.0\n"
     ]
    }
   ],
   "source": [
    "test_csv_data=pd.read_csv('C:/Users/SONY/Desktop/3rdsem/Machine Learning/project/DATA/test_data.csv', sep=',')\n",
    "test_data= graphlab.SFrame(test_csv_data)"
   ]
  },
  {
   "cell_type": "code",
   "execution_count": 5,
   "metadata": {
    "collapsed": false
   },
   "outputs": [],
   "source": [
    "Context_based=graphlab.load_model('C:/Users/SONY/Desktop/3rdsem/Machine Learning/project/Models/Content based')\n",
    "Collaborative=graphlab.load_model('C:/Users/SONY/Desktop/3rdsem/Machine Learning/project/Models/Collaborative')\n",
    "popularity=graphlab.load_model('C:/Users/SONY/Desktop/3rdsem/Machine Learning/project/Models/Popularity')\n",
    "Matrix_factorization=graphlab.load_model('C:/Users/SONY/Desktop/3rdsem/Machine Learning/project/Models/Matrix Facorization')"
   ]
  },
  {
   "cell_type": "code",
   "execution_count": 6,
   "metadata": {
    "collapsed": false
   },
   "outputs": [
    {
     "name": "stdout",
     "output_type": "stream",
     "text": [
      "PROGRESS: Evaluate model M0\n"
     ]
    },
    {
     "data": {
      "text/html": [
       "<pre>recommendations finished on 1000/43154 queries. users per second: 298.151</pre>"
      ],
      "text/plain": [
       "recommendations finished on 1000/43154 queries. users per second: 298.151"
      ]
     },
     "metadata": {},
     "output_type": "display_data"
    },
    {
     "data": {
      "text/html": [
       "<pre>recommendations finished on 2000/43154 queries. users per second: 555</pre>"
      ],
      "text/plain": [
       "recommendations finished on 2000/43154 queries. users per second: 555"
      ]
     },
     "metadata": {},
     "output_type": "display_data"
    },
    {
     "data": {
      "text/html": [
       "<pre>recommendations finished on 3000/43154 queries. users per second: 781.737</pre>"
      ],
      "text/plain": [
       "recommendations finished on 3000/43154 queries. users per second: 781.737"
      ]
     },
     "metadata": {},
     "output_type": "display_data"
    },
    {
     "data": {
      "text/html": [
       "<pre>recommendations finished on 4000/43154 queries. users per second: 986.192</pre>"
      ],
      "text/plain": [
       "recommendations finished on 4000/43154 queries. users per second: 986.192"
      ]
     },
     "metadata": {},
     "output_type": "display_data"
    },
    {
     "data": {
      "text/html": [
       "<pre>recommendations finished on 5000/43154 queries. users per second: 1174.04</pre>"
      ],
      "text/plain": [
       "recommendations finished on 5000/43154 queries. users per second: 1174.04"
      ]
     },
     "metadata": {},
     "output_type": "display_data"
    },
    {
     "data": {
      "text/html": [
       "<pre>recommendations finished on 6000/43154 queries. users per second: 1354.28</pre>"
      ],
      "text/plain": [
       "recommendations finished on 6000/43154 queries. users per second: 1354.28"
      ]
     },
     "metadata": {},
     "output_type": "display_data"
    },
    {
     "data": {
      "text/html": [
       "<pre>recommendations finished on 7000/43154 queries. users per second: 1510.83</pre>"
      ],
      "text/plain": [
       "recommendations finished on 7000/43154 queries. users per second: 1510.83"
      ]
     },
     "metadata": {},
     "output_type": "display_data"
    },
    {
     "data": {
      "text/html": [
       "<pre>recommendations finished on 8000/43154 queries. users per second: 1659.61</pre>"
      ],
      "text/plain": [
       "recommendations finished on 8000/43154 queries. users per second: 1659.61"
      ]
     },
     "metadata": {},
     "output_type": "display_data"
    },
    {
     "data": {
      "text/html": [
       "<pre>recommendations finished on 9000/43154 queries. users per second: 1802.88</pre>"
      ],
      "text/plain": [
       "recommendations finished on 9000/43154 queries. users per second: 1802.88"
      ]
     },
     "metadata": {},
     "output_type": "display_data"
    },
    {
     "data": {
      "text/html": [
       "<pre>recommendations finished on 10000/43154 queries. users per second: 1925</pre>"
      ],
      "text/plain": [
       "recommendations finished on 10000/43154 queries. users per second: 1925"
      ]
     },
     "metadata": {},
     "output_type": "display_data"
    },
    {
     "data": {
      "text/html": [
       "<pre>recommendations finished on 11000/43154 queries. users per second: 2043.85</pre>"
      ],
      "text/plain": [
       "recommendations finished on 11000/43154 queries. users per second: 2043.85"
      ]
     },
     "metadata": {},
     "output_type": "display_data"
    },
    {
     "data": {
      "text/html": [
       "<pre>recommendations finished on 12000/43154 queries. users per second: 2160.76</pre>"
      ],
      "text/plain": [
       "recommendations finished on 12000/43154 queries. users per second: 2160.76"
      ]
     },
     "metadata": {},
     "output_type": "display_data"
    },
    {
     "data": {
      "text/html": [
       "<pre>recommendations finished on 13000/43154 queries. users per second: 2252.25</pre>"
      ],
      "text/plain": [
       "recommendations finished on 13000/43154 queries. users per second: 2252.25"
      ]
     },
     "metadata": {},
     "output_type": "display_data"
    },
    {
     "data": {
      "text/html": [
       "<pre>recommendations finished on 14000/43154 queries. users per second: 2355.47</pre>"
      ],
      "text/plain": [
       "recommendations finished on 14000/43154 queries. users per second: 2355.47"
      ]
     },
     "metadata": {},
     "output_type": "display_data"
    },
    {
     "data": {
      "text/html": [
       "<pre>recommendations finished on 15000/43154 queries. users per second: 2446.66</pre>"
      ],
      "text/plain": [
       "recommendations finished on 15000/43154 queries. users per second: 2446.66"
      ]
     },
     "metadata": {},
     "output_type": "display_data"
    },
    {
     "data": {
      "text/html": [
       "<pre>recommendations finished on 16000/43154 queries. users per second: 2526.21</pre>"
      ],
      "text/plain": [
       "recommendations finished on 16000/43154 queries. users per second: 2526.21"
      ]
     },
     "metadata": {},
     "output_type": "display_data"
    },
    {
     "data": {
      "text/html": [
       "<pre>recommendations finished on 17000/43154 queries. users per second: 2588.46</pre>"
      ],
      "text/plain": [
       "recommendations finished on 17000/43154 queries. users per second: 2588.46"
      ]
     },
     "metadata": {},
     "output_type": "display_data"
    },
    {
     "data": {
      "text/html": [
       "<pre>recommendations finished on 18000/43154 queries. users per second: 2664.77</pre>"
      ],
      "text/plain": [
       "recommendations finished on 18000/43154 queries. users per second: 2664.77"
      ]
     },
     "metadata": {},
     "output_type": "display_data"
    },
    {
     "data": {
      "text/html": [
       "<pre>recommendations finished on 19000/43154 queries. users per second: 2743.12</pre>"
      ],
      "text/plain": [
       "recommendations finished on 19000/43154 queries. users per second: 2743.12"
      ]
     },
     "metadata": {},
     "output_type": "display_data"
    },
    {
     "data": {
      "text/html": [
       "<pre>recommendations finished on 20000/43154 queries. users per second: 2811.51</pre>"
      ],
      "text/plain": [
       "recommendations finished on 20000/43154 queries. users per second: 2811.51"
      ]
     },
     "metadata": {},
     "output_type": "display_data"
    },
    {
     "data": {
      "text/html": [
       "<pre>recommendations finished on 21000/43154 queries. users per second: 2876.39</pre>"
      ],
      "text/plain": [
       "recommendations finished on 21000/43154 queries. users per second: 2876.39"
      ]
     },
     "metadata": {},
     "output_type": "display_data"
    },
    {
     "data": {
      "text/html": [
       "<pre>recommendations finished on 22000/43154 queries. users per second: 2938.03</pre>"
      ],
      "text/plain": [
       "recommendations finished on 22000/43154 queries. users per second: 2938.03"
      ]
     },
     "metadata": {},
     "output_type": "display_data"
    },
    {
     "data": {
      "text/html": [
       "<pre>recommendations finished on 23000/43154 queries. users per second: 2990.58</pre>"
      ],
      "text/plain": [
       "recommendations finished on 23000/43154 queries. users per second: 2990.58"
      ]
     },
     "metadata": {},
     "output_type": "display_data"
    },
    {
     "data": {
      "text/html": [
       "<pre>recommendations finished on 24000/43154 queries. users per second: 3046.45</pre>"
      ],
      "text/plain": [
       "recommendations finished on 24000/43154 queries. users per second: 3046.45"
      ]
     },
     "metadata": {},
     "output_type": "display_data"
    },
    {
     "data": {
      "text/html": [
       "<pre>recommendations finished on 25000/43154 queries. users per second: 3105.74</pre>"
      ],
      "text/plain": [
       "recommendations finished on 25000/43154 queries. users per second: 3105.74"
      ]
     },
     "metadata": {},
     "output_type": "display_data"
    },
    {
     "data": {
      "text/html": [
       "<pre>recommendations finished on 26000/43154 queries. users per second: 3150.59</pre>"
      ],
      "text/plain": [
       "recommendations finished on 26000/43154 queries. users per second: 3150.59"
      ]
     },
     "metadata": {},
     "output_type": "display_data"
    },
    {
     "data": {
      "text/html": [
       "<pre>recommendations finished on 27000/43154 queries. users per second: 3199.2</pre>"
      ],
      "text/plain": [
       "recommendations finished on 27000/43154 queries. users per second: 3199.2"
      ]
     },
     "metadata": {},
     "output_type": "display_data"
    },
    {
     "data": {
      "text/html": [
       "<pre>recommendations finished on 28000/43154 queries. users per second: 3245.69</pre>"
      ],
      "text/plain": [
       "recommendations finished on 28000/43154 queries. users per second: 3245.69"
      ]
     },
     "metadata": {},
     "output_type": "display_data"
    },
    {
     "data": {
      "text/html": [
       "<pre>recommendations finished on 29000/43154 queries. users per second: 3290.21</pre>"
      ],
      "text/plain": [
       "recommendations finished on 29000/43154 queries. users per second: 3290.21"
      ]
     },
     "metadata": {},
     "output_type": "display_data"
    },
    {
     "data": {
      "text/html": [
       "<pre>recommendations finished on 30000/43154 queries. users per second: 3332.88</pre>"
      ],
      "text/plain": [
       "recommendations finished on 30000/43154 queries. users per second: 3332.88"
      ]
     },
     "metadata": {},
     "output_type": "display_data"
    },
    {
     "data": {
      "text/html": [
       "<pre>recommendations finished on 31000/43154 queries. users per second: 3379.55</pre>"
      ],
      "text/plain": [
       "recommendations finished on 31000/43154 queries. users per second: 3379.55"
      ]
     },
     "metadata": {},
     "output_type": "display_data"
    },
    {
     "data": {
      "text/html": [
       "<pre>recommendations finished on 32000/43154 queries. users per second: 3418.8</pre>"
      ],
      "text/plain": [
       "recommendations finished on 32000/43154 queries. users per second: 3418.8"
      ]
     },
     "metadata": {},
     "output_type": "display_data"
    },
    {
     "data": {
      "text/html": [
       "<pre>recommendations finished on 33000/43154 queries. users per second: 3445.25</pre>"
      ],
      "text/plain": [
       "recommendations finished on 33000/43154 queries. users per second: 3445.25"
      ]
     },
     "metadata": {},
     "output_type": "display_data"
    },
    {
     "data": {
      "text/html": [
       "<pre>recommendations finished on 34000/43154 queries. users per second: 3481.6</pre>"
      ],
      "text/plain": [
       "recommendations finished on 34000/43154 queries. users per second: 3481.6"
      ]
     },
     "metadata": {},
     "output_type": "display_data"
    },
    {
     "data": {
      "text/html": [
       "<pre>recommendations finished on 35000/43154 queries. users per second: 3516.59</pre>"
      ],
      "text/plain": [
       "recommendations finished on 35000/43154 queries. users per second: 3516.59"
      ]
     },
     "metadata": {},
     "output_type": "display_data"
    },
    {
     "data": {
      "text/html": [
       "<pre>recommendations finished on 36000/43154 queries. users per second: 3550.29</pre>"
      ],
      "text/plain": [
       "recommendations finished on 36000/43154 queries. users per second: 3550.29"
      ]
     },
     "metadata": {},
     "output_type": "display_data"
    },
    {
     "data": {
      "text/html": [
       "<pre>recommendations finished on 37000/43154 queries. users per second: 3582.77</pre>"
      ],
      "text/plain": [
       "recommendations finished on 37000/43154 queries. users per second: 3582.77"
      ]
     },
     "metadata": {},
     "output_type": "display_data"
    },
    {
     "data": {
      "text/html": [
       "<pre>recommendations finished on 38000/43154 queries. users per second: 3603.39</pre>"
      ],
      "text/plain": [
       "recommendations finished on 38000/43154 queries. users per second: 3603.39"
      ]
     },
     "metadata": {},
     "output_type": "display_data"
    },
    {
     "data": {
      "text/html": [
       "<pre>recommendations finished on 39000/43154 queries. users per second: 3623.18</pre>"
      ],
      "text/plain": [
       "recommendations finished on 39000/43154 queries. users per second: 3623.18"
      ]
     },
     "metadata": {},
     "output_type": "display_data"
    },
    {
     "data": {
      "text/html": [
       "<pre>recommendations finished on 40000/43154 queries. users per second: 3642.18</pre>"
      ],
      "text/plain": [
       "recommendations finished on 40000/43154 queries. users per second: 3642.18"
      ]
     },
     "metadata": {},
     "output_type": "display_data"
    },
    {
     "data": {
      "text/html": [
       "<pre>recommendations finished on 41000/43154 queries. users per second: 3650.28</pre>"
      ],
      "text/plain": [
       "recommendations finished on 41000/43154 queries. users per second: 3650.28"
      ]
     },
     "metadata": {},
     "output_type": "display_data"
    },
    {
     "data": {
      "text/html": [
       "<pre>recommendations finished on 42000/43154 queries. users per second: 3618.69</pre>"
      ],
      "text/plain": [
       "recommendations finished on 42000/43154 queries. users per second: 3618.69"
      ]
     },
     "metadata": {},
     "output_type": "display_data"
    },
    {
     "data": {
      "text/html": [
       "<pre>recommendations finished on 43000/43154 queries. users per second: 3565.85</pre>"
      ],
      "text/plain": [
       "recommendations finished on 43000/43154 queries. users per second: 3565.85"
      ]
     },
     "metadata": {},
     "output_type": "display_data"
    },
    {
     "name": "stdout",
     "output_type": "stream",
     "text": [
      "\n",
      "Precision and recall summary statistics by cutoff\n",
      "+--------+-------------------+-------------------+\n",
      "| cutoff |   mean_precision  |    mean_recall    |\n",
      "+--------+-------------------+-------------------+\n",
      "|   1    | 0.000718357510312 | 0.000200967337052 |\n",
      "|   2    | 0.000637252630115 | 0.000249539862666 |\n",
      "|   3    | 0.000602493395745 | 0.000337378424941 |\n",
      "|   4    | 0.000544561338462 | 0.000358247054087 |\n",
      "|   5    | 0.000491263845762 | 0.000371120325228 |\n",
      "|   6    | 0.000475042869722 | 0.000396407552233 |\n",
      "|   7    | 0.000430352425532 | 0.000405479021652 |\n",
      "|   8    | 0.000408421003847 | 0.000417652600107 |\n",
      "|   9    | 0.000381064199019 | 0.000436454795513 |\n",
      "|   10   | 0.000361496037447 | 0.000450333428821 |\n",
      "+--------+-------------------+-------------------+\n",
      "[10 rows x 3 columns]\n",
      "\n",
      "PROGRESS: Evaluate model M1\n"
     ]
    },
    {
     "data": {
      "text/html": [
       "<pre>recommendations finished on 1000/43154 queries. users per second: 120.948</pre>"
      ],
      "text/plain": [
       "recommendations finished on 1000/43154 queries. users per second: 120.948"
      ]
     },
     "metadata": {},
     "output_type": "display_data"
    },
    {
     "data": {
      "text/html": [
       "<pre>recommendations finished on 2000/43154 queries. users per second: 236.978</pre>"
      ],
      "text/plain": [
       "recommendations finished on 2000/43154 queries. users per second: 236.978"
      ]
     },
     "metadata": {},
     "output_type": "display_data"
    },
    {
     "data": {
      "text/html": [
       "<pre>recommendations finished on 3000/43154 queries. users per second: 349.015</pre>"
      ],
      "text/plain": [
       "recommendations finished on 3000/43154 queries. users per second: 349.015"
      ]
     },
     "metadata": {},
     "output_type": "display_data"
    },
    {
     "data": {
      "text/html": [
       "<pre>recommendations finished on 4000/43154 queries. users per second: 457.058</pre>"
      ],
      "text/plain": [
       "recommendations finished on 4000/43154 queries. users per second: 457.058"
      ]
     },
     "metadata": {},
     "output_type": "display_data"
    },
    {
     "data": {
      "text/html": [
       "<pre>recommendations finished on 5000/43154 queries. users per second: 559.358</pre>"
      ],
      "text/plain": [
       "recommendations finished on 5000/43154 queries. users per second: 559.358"
      ]
     },
     "metadata": {},
     "output_type": "display_data"
    },
    {
     "data": {
      "text/html": [
       "<pre>recommendations finished on 6000/43154 queries. users per second: 659.716</pre>"
      ],
      "text/plain": [
       "recommendations finished on 6000/43154 queries. users per second: 659.716"
      ]
     },
     "metadata": {},
     "output_type": "display_data"
    },
    {
     "data": {
      "text/html": [
       "<pre>recommendations finished on 7000/43154 queries. users per second: 756.69</pre>"
      ],
      "text/plain": [
       "recommendations finished on 7000/43154 queries. users per second: 756.69"
      ]
     },
     "metadata": {},
     "output_type": "display_data"
    },
    {
     "data": {
      "text/html": [
       "<pre>recommendations finished on 8000/43154 queries. users per second: 847.636</pre>"
      ],
      "text/plain": [
       "recommendations finished on 8000/43154 queries. users per second: 847.636"
      ]
     },
     "metadata": {},
     "output_type": "display_data"
    },
    {
     "data": {
      "text/html": [
       "<pre>recommendations finished on 9000/43154 queries. users per second: 939.612</pre>"
      ],
      "text/plain": [
       "recommendations finished on 9000/43154 queries. users per second: 939.612"
      ]
     },
     "metadata": {},
     "output_type": "display_data"
    },
    {
     "data": {
      "text/html": [
       "<pre>recommendations finished on 10000/43154 queries. users per second: 1027.28</pre>"
      ],
      "text/plain": [
       "recommendations finished on 10000/43154 queries. users per second: 1027.28"
      ]
     },
     "metadata": {},
     "output_type": "display_data"
    },
    {
     "data": {
      "text/html": [
       "<pre>recommendations finished on 11000/43154 queries. users per second: 1112.19</pre>"
      ],
      "text/plain": [
       "recommendations finished on 11000/43154 queries. users per second: 1112.19"
      ]
     },
     "metadata": {},
     "output_type": "display_data"
    },
    {
     "data": {
      "text/html": [
       "<pre>recommendations finished on 12000/43154 queries. users per second: 1194.46</pre>"
      ],
      "text/plain": [
       "recommendations finished on 12000/43154 queries. users per second: 1194.46"
      ]
     },
     "metadata": {},
     "output_type": "display_data"
    },
    {
     "data": {
      "text/html": [
       "<pre>recommendations finished on 13000/43154 queries. users per second: 1274.21</pre>"
      ],
      "text/plain": [
       "recommendations finished on 13000/43154 queries. users per second: 1274.21"
      ]
     },
     "metadata": {},
     "output_type": "display_data"
    },
    {
     "data": {
      "text/html": [
       "<pre>recommendations finished on 14000/43154 queries. users per second: 1345.48</pre>"
      ],
      "text/plain": [
       "recommendations finished on 14000/43154 queries. users per second: 1345.48"
      ]
     },
     "metadata": {},
     "output_type": "display_data"
    },
    {
     "data": {
      "text/html": [
       "<pre>recommendations finished on 15000/43154 queries. users per second: 1420.29</pre>"
      ],
      "text/plain": [
       "recommendations finished on 15000/43154 queries. users per second: 1420.29"
      ]
     },
     "metadata": {},
     "output_type": "display_data"
    },
    {
     "data": {
      "text/html": [
       "<pre>recommendations finished on 16000/43154 queries. users per second: 1488.59</pre>"
      ],
      "text/plain": [
       "recommendations finished on 16000/43154 queries. users per second: 1488.59"
      ]
     },
     "metadata": {},
     "output_type": "display_data"
    },
    {
     "data": {
      "text/html": [
       "<pre>recommendations finished on 17000/43154 queries. users per second: 1561.23</pre>"
      ],
      "text/plain": [
       "recommendations finished on 17000/43154 queries. users per second: 1561.23"
      ]
     },
     "metadata": {},
     "output_type": "display_data"
    },
    {
     "data": {
      "text/html": [
       "<pre>recommendations finished on 18000/43154 queries. users per second: 1604.79</pre>"
      ],
      "text/plain": [
       "recommendations finished on 18000/43154 queries. users per second: 1604.79"
      ]
     },
     "metadata": {},
     "output_type": "display_data"
    },
    {
     "data": {
      "text/html": [
       "<pre>recommendations finished on 19000/43154 queries. users per second: 1668.42</pre>"
      ],
      "text/plain": [
       "recommendations finished on 19000/43154 queries. users per second: 1668.42"
      ]
     },
     "metadata": {},
     "output_type": "display_data"
    },
    {
     "data": {
      "text/html": [
       "<pre>recommendations finished on 20000/43154 queries. users per second: 1718.56</pre>"
      ],
      "text/plain": [
       "recommendations finished on 20000/43154 queries. users per second: 1718.56"
      ]
     },
     "metadata": {},
     "output_type": "display_data"
    },
    {
     "data": {
      "text/html": [
       "<pre>recommendations finished on 21000/43154 queries. users per second: 1773.59</pre>"
      ],
      "text/plain": [
       "recommendations finished on 21000/43154 queries. users per second: 1773.59"
      ]
     },
     "metadata": {},
     "output_type": "display_data"
    },
    {
     "data": {
      "text/html": [
       "<pre>recommendations finished on 22000/43154 queries. users per second: 1833.88</pre>"
      ],
      "text/plain": [
       "recommendations finished on 22000/43154 queries. users per second: 1833.88"
      ]
     },
     "metadata": {},
     "output_type": "display_data"
    },
    {
     "data": {
      "text/html": [
       "<pre>recommendations finished on 23000/43154 queries. users per second: 1892.63</pre>"
      ],
      "text/plain": [
       "recommendations finished on 23000/43154 queries. users per second: 1892.63"
      ]
     },
     "metadata": {},
     "output_type": "display_data"
    },
    {
     "data": {
      "text/html": [
       "<pre>recommendations finished on 24000/43154 queries. users per second: 1949.88</pre>"
      ],
      "text/plain": [
       "recommendations finished on 24000/43154 queries. users per second: 1949.88"
      ]
     },
     "metadata": {},
     "output_type": "display_data"
    },
    {
     "data": {
      "text/html": [
       "<pre>recommendations finished on 25000/43154 queries. users per second: 2000.7</pre>"
      ],
      "text/plain": [
       "recommendations finished on 25000/43154 queries. users per second: 2000.7"
      ]
     },
     "metadata": {},
     "output_type": "display_data"
    },
    {
     "data": {
      "text/html": [
       "<pre>recommendations finished on 26000/43154 queries. users per second: 2055.07</pre>"
      ],
      "text/plain": [
       "recommendations finished on 26000/43154 queries. users per second: 2055.07"
      ]
     },
     "metadata": {},
     "output_type": "display_data"
    },
    {
     "data": {
      "text/html": [
       "<pre>recommendations finished on 27000/43154 queries. users per second: 2108.12</pre>"
      ],
      "text/plain": [
       "recommendations finished on 27000/43154 queries. users per second: 2108.12"
      ]
     },
     "metadata": {},
     "output_type": "display_data"
    },
    {
     "data": {
      "text/html": [
       "<pre>recommendations finished on 28000/43154 queries. users per second: 2159.89</pre>"
      ],
      "text/plain": [
       "recommendations finished on 28000/43154 queries. users per second: 2159.89"
      ]
     },
     "metadata": {},
     "output_type": "display_data"
    },
    {
     "data": {
      "text/html": [
       "<pre>recommendations finished on 29000/43154 queries. users per second: 2210.43</pre>"
      ],
      "text/plain": [
       "recommendations finished on 29000/43154 queries. users per second: 2210.43"
      ]
     },
     "metadata": {},
     "output_type": "display_data"
    },
    {
     "data": {
      "text/html": [
       "<pre>recommendations finished on 30000/43154 queries. users per second: 2259.78</pre>"
      ],
      "text/plain": [
       "recommendations finished on 30000/43154 queries. users per second: 2259.78"
      ]
     },
     "metadata": {},
     "output_type": "display_data"
    },
    {
     "data": {
      "text/html": [
       "<pre>recommendations finished on 31000/43154 queries. users per second: 2302.64</pre>"
      ],
      "text/plain": [
       "recommendations finished on 31000/43154 queries. users per second: 2302.64"
      ]
     },
     "metadata": {},
     "output_type": "display_data"
    },
    {
     "data": {
      "text/html": [
       "<pre>recommendations finished on 32000/43154 queries. users per second: 2349.69</pre>"
      ],
      "text/plain": [
       "recommendations finished on 32000/43154 queries. users per second: 2349.69"
      ]
     },
     "metadata": {},
     "output_type": "display_data"
    },
    {
     "data": {
      "text/html": [
       "<pre>recommendations finished on 33000/43154 queries. users per second: 2384.87</pre>"
      ],
      "text/plain": [
       "recommendations finished on 33000/43154 queries. users per second: 2384.87"
      ]
     },
     "metadata": {},
     "output_type": "display_data"
    },
    {
     "data": {
      "text/html": [
       "<pre>recommendations finished on 34000/43154 queries. users per second: 2421.65</pre>"
      ],
      "text/plain": [
       "recommendations finished on 34000/43154 queries. users per second: 2421.65"
      ]
     },
     "metadata": {},
     "output_type": "display_data"
    },
    {
     "data": {
      "text/html": [
       "<pre>recommendations finished on 35000/43154 queries. users per second: 2460.07</pre>"
      ],
      "text/plain": [
       "recommendations finished on 35000/43154 queries. users per second: 2460.07"
      ]
     },
     "metadata": {},
     "output_type": "display_data"
    },
    {
     "data": {
      "text/html": [
       "<pre>recommendations finished on 36000/43154 queries. users per second: 2502.92</pre>"
      ],
      "text/plain": [
       "recommendations finished on 36000/43154 queries. users per second: 2502.92"
      ]
     },
     "metadata": {},
     "output_type": "display_data"
    },
    {
     "data": {
      "text/html": [
       "<pre>recommendations finished on 37000/43154 queries. users per second: 2542.11</pre>"
      ],
      "text/plain": [
       "recommendations finished on 37000/43154 queries. users per second: 2542.11"
      ]
     },
     "metadata": {},
     "output_type": "display_data"
    },
    {
     "data": {
      "text/html": [
       "<pre>recommendations finished on 38000/43154 queries. users per second: 2577.66</pre>"
      ],
      "text/plain": [
       "recommendations finished on 38000/43154 queries. users per second: 2577.66"
      ]
     },
     "metadata": {},
     "output_type": "display_data"
    },
    {
     "data": {
      "text/html": [
       "<pre>recommendations finished on 39000/43154 queries. users per second: 2612.33</pre>"
      ],
      "text/plain": [
       "recommendations finished on 39000/43154 queries. users per second: 2612.33"
      ]
     },
     "metadata": {},
     "output_type": "display_data"
    },
    {
     "data": {
      "text/html": [
       "<pre>recommendations finished on 40000/43154 queries. users per second: 2646.13</pre>"
      ],
      "text/plain": [
       "recommendations finished on 40000/43154 queries. users per second: 2646.13"
      ]
     },
     "metadata": {},
     "output_type": "display_data"
    },
    {
     "data": {
      "text/html": [
       "<pre>recommendations finished on 41000/43154 queries. users per second: 2673.65</pre>"
      ],
      "text/plain": [
       "recommendations finished on 41000/43154 queries. users per second: 2673.65"
      ]
     },
     "metadata": {},
     "output_type": "display_data"
    },
    {
     "data": {
      "text/html": [
       "<pre>recommendations finished on 42000/43154 queries. users per second: 2676.25</pre>"
      ],
      "text/plain": [
       "recommendations finished on 42000/43154 queries. users per second: 2676.25"
      ]
     },
     "metadata": {},
     "output_type": "display_data"
    },
    {
     "data": {
      "text/html": [
       "<pre>recommendations finished on 43000/43154 queries. users per second: 2670.94</pre>"
      ],
      "text/plain": [
       "recommendations finished on 43000/43154 queries. users per second: 2670.94"
      ]
     },
     "metadata": {},
     "output_type": "display_data"
    },
    {
     "name": "stdout",
     "output_type": "stream",
     "text": [
      "\n",
      "Precision and recall summary statistics by cutoff\n",
      "+--------+-------------------+-------------------+\n",
      "| cutoff |   mean_precision  |    mean_recall    |\n",
      "+--------+-------------------+-------------------+\n",
      "|   1    | 0.000579320572832 | 0.000283969067859 |\n",
      "|   2    | 0.000718357510312 | 0.000526208190846 |\n",
      "|   3    | 0.000641114767268 | 0.000597499410119 |\n",
      "|   4    | 0.000631459424387 | 0.000704736363739 |\n",
      "|   5    | 0.000667377299903 | 0.000788203265847 |\n",
      "|   6    | 0.000668149727333 |  0.00091931006487 |\n",
      "|   7    | 0.000668701461212 |  0.00107001125458 |\n",
      "|   8    | 0.000657528850165 |  0.00120696931768 |\n",
      "|   9    | 0.000646264283471 |  0.00134253035631 |\n",
      "|   10   | 0.000660425453029 |  0.0014967894069  |\n",
      "+--------+-------------------+-------------------+\n",
      "[10 rows x 3 columns]\n",
      "\n",
      "PROGRESS: Evaluate model M2\n"
     ]
    },
    {
     "data": {
      "text/html": [
       "<pre>recommendations finished on 1000/43154 queries. users per second: 159.459</pre>"
      ],
      "text/plain": [
       "recommendations finished on 1000/43154 queries. users per second: 159.459"
      ]
     },
     "metadata": {},
     "output_type": "display_data"
    },
    {
     "data": {
      "text/html": [
       "<pre>recommendations finished on 2000/43154 queries. users per second: 314.228</pre>"
      ],
      "text/plain": [
       "recommendations finished on 2000/43154 queries. users per second: 314.228"
      ]
     },
     "metadata": {},
     "output_type": "display_data"
    },
    {
     "data": {
      "text/html": [
       "<pre>recommendations finished on 3000/43154 queries. users per second: 460.065</pre>"
      ],
      "text/plain": [
       "recommendations finished on 3000/43154 queries. users per second: 460.065"
      ]
     },
     "metadata": {},
     "output_type": "display_data"
    },
    {
     "data": {
      "text/html": [
       "<pre>recommendations finished on 4000/43154 queries. users per second: 601.901</pre>"
      ],
      "text/plain": [
       "recommendations finished on 4000/43154 queries. users per second: 601.901"
      ]
     },
     "metadata": {},
     "output_type": "display_data"
    },
    {
     "data": {
      "text/html": [
       "<pre>recommendations finished on 5000/43154 queries. users per second: 735.12</pre>"
      ],
      "text/plain": [
       "recommendations finished on 5000/43154 queries. users per second: 735.12"
      ]
     },
     "metadata": {},
     "output_type": "display_data"
    },
    {
     "data": {
      "text/html": [
       "<pre>recommendations finished on 6000/43154 queries. users per second: 870.169</pre>"
      ],
      "text/plain": [
       "recommendations finished on 6000/43154 queries. users per second: 870.169"
      ]
     },
     "metadata": {},
     "output_type": "display_data"
    },
    {
     "data": {
      "text/html": [
       "<pre>recommendations finished on 7000/43154 queries. users per second: 1001.6</pre>"
      ],
      "text/plain": [
       "recommendations finished on 7000/43154 queries. users per second: 1001.6"
      ]
     },
     "metadata": {},
     "output_type": "display_data"
    },
    {
     "data": {
      "text/html": [
       "<pre>recommendations finished on 8000/43154 queries. users per second: 1124.6</pre>"
      ],
      "text/plain": [
       "recommendations finished on 8000/43154 queries. users per second: 1124.6"
      ]
     },
     "metadata": {},
     "output_type": "display_data"
    },
    {
     "data": {
      "text/html": [
       "<pre>recommendations finished on 9000/43154 queries. users per second: 1240.69</pre>"
      ],
      "text/plain": [
       "recommendations finished on 9000/43154 queries. users per second: 1240.69"
      ]
     },
     "metadata": {},
     "output_type": "display_data"
    },
    {
     "data": {
      "text/html": [
       "<pre>recommendations finished on 10000/43154 queries. users per second: 1358.1</pre>"
      ],
      "text/plain": [
       "recommendations finished on 10000/43154 queries. users per second: 1358.1"
      ]
     },
     "metadata": {},
     "output_type": "display_data"
    },
    {
     "data": {
      "text/html": [
       "<pre>recommendations finished on 11000/43154 queries. users per second: 1430.28</pre>"
      ],
      "text/plain": [
       "recommendations finished on 11000/43154 queries. users per second: 1430.28"
      ]
     },
     "metadata": {},
     "output_type": "display_data"
    },
    {
     "data": {
      "text/html": [
       "<pre>recommendations finished on 12000/43154 queries. users per second: 1529.28</pre>"
      ],
      "text/plain": [
       "recommendations finished on 12000/43154 queries. users per second: 1529.28"
      ]
     },
     "metadata": {},
     "output_type": "display_data"
    },
    {
     "data": {
      "text/html": [
       "<pre>recommendations finished on 13000/43154 queries. users per second: 1633.98</pre>"
      ],
      "text/plain": [
       "recommendations finished on 13000/43154 queries. users per second: 1633.98"
      ]
     },
     "metadata": {},
     "output_type": "display_data"
    },
    {
     "data": {
      "text/html": [
       "<pre>recommendations finished on 14000/43154 queries. users per second: 1735.85</pre>"
      ],
      "text/plain": [
       "recommendations finished on 14000/43154 queries. users per second: 1735.85"
      ]
     },
     "metadata": {},
     "output_type": "display_data"
    },
    {
     "data": {
      "text/html": [
       "<pre>recommendations finished on 15000/43154 queries. users per second: 1838.5</pre>"
      ],
      "text/plain": [
       "recommendations finished on 15000/43154 queries. users per second: 1838.5"
      ]
     },
     "metadata": {},
     "output_type": "display_data"
    },
    {
     "data": {
      "text/html": [
       "<pre>recommendations finished on 16000/43154 queries. users per second: 1931.52</pre>"
      ],
      "text/plain": [
       "recommendations finished on 16000/43154 queries. users per second: 1931.52"
      ]
     },
     "metadata": {},
     "output_type": "display_data"
    },
    {
     "data": {
      "text/html": [
       "<pre>recommendations finished on 17000/43154 queries. users per second: 2021.78</pre>"
      ],
      "text/plain": [
       "recommendations finished on 17000/43154 queries. users per second: 2021.78"
      ]
     },
     "metadata": {},
     "output_type": "display_data"
    },
    {
     "data": {
      "text/html": [
       "<pre>recommendations finished on 18000/43154 queries. users per second: 2101.72</pre>"
      ],
      "text/plain": [
       "recommendations finished on 18000/43154 queries. users per second: 2101.72"
      ]
     },
     "metadata": {},
     "output_type": "display_data"
    },
    {
     "data": {
      "text/html": [
       "<pre>recommendations finished on 19000/43154 queries. users per second: 2182.7</pre>"
      ],
      "text/plain": [
       "recommendations finished on 19000/43154 queries. users per second: 2182.7"
      ]
     },
     "metadata": {},
     "output_type": "display_data"
    },
    {
     "data": {
      "text/html": [
       "<pre>recommendations finished on 20000/43154 queries. users per second: 2273.14</pre>"
      ],
      "text/plain": [
       "recommendations finished on 20000/43154 queries. users per second: 2273.14"
      ]
     },
     "metadata": {},
     "output_type": "display_data"
    },
    {
     "data": {
      "text/html": [
       "<pre>recommendations finished on 21000/43154 queries. users per second: 2357.53</pre>"
      ],
      "text/plain": [
       "recommendations finished on 21000/43154 queries. users per second: 2357.53"
      ]
     },
     "metadata": {},
     "output_type": "display_data"
    },
    {
     "data": {
      "text/html": [
       "<pre>recommendations finished on 22000/43154 queries. users per second: 2435.67</pre>"
      ],
      "text/plain": [
       "recommendations finished on 22000/43154 queries. users per second: 2435.67"
      ]
     },
     "metadata": {},
     "output_type": "display_data"
    },
    {
     "data": {
      "text/html": [
       "<pre>recommendations finished on 23000/43154 queries. users per second: 2515.97</pre>"
      ],
      "text/plain": [
       "recommendations finished on 23000/43154 queries. users per second: 2515.97"
      ]
     },
     "metadata": {},
     "output_type": "display_data"
    },
    {
     "data": {
      "text/html": [
       "<pre>recommendations finished on 24000/43154 queries. users per second: 2576.98</pre>"
      ],
      "text/plain": [
       "recommendations finished on 24000/43154 queries. users per second: 2576.98"
      ]
     },
     "metadata": {},
     "output_type": "display_data"
    },
    {
     "data": {
      "text/html": [
       "<pre>recommendations finished on 25000/43154 queries. users per second: 2648.86</pre>"
      ],
      "text/plain": [
       "recommendations finished on 25000/43154 queries. users per second: 2648.86"
      ]
     },
     "metadata": {},
     "output_type": "display_data"
    },
    {
     "data": {
      "text/html": [
       "<pre>recommendations finished on 26000/43154 queries. users per second: 2714.44</pre>"
      ],
      "text/plain": [
       "recommendations finished on 26000/43154 queries. users per second: 2714.44"
      ]
     },
     "metadata": {},
     "output_type": "display_data"
    },
    {
     "data": {
      "text/html": [
       "<pre>recommendations finished on 27000/43154 queries. users per second: 2787.06</pre>"
      ],
      "text/plain": [
       "recommendations finished on 27000/43154 queries. users per second: 2787.06"
      ]
     },
     "metadata": {},
     "output_type": "display_data"
    },
    {
     "data": {
      "text/html": [
       "<pre>recommendations finished on 28000/43154 queries. users per second: 2853.53</pre>"
      ],
      "text/plain": [
       "recommendations finished on 28000/43154 queries. users per second: 2853.53"
      ]
     },
     "metadata": {},
     "output_type": "display_data"
    },
    {
     "data": {
      "text/html": [
       "<pre>recommendations finished on 29000/43154 queries. users per second: 2904.64</pre>"
      ],
      "text/plain": [
       "recommendations finished on 29000/43154 queries. users per second: 2904.64"
      ]
     },
     "metadata": {},
     "output_type": "display_data"
    },
    {
     "data": {
      "text/html": [
       "<pre>recommendations finished on 30000/43154 queries. users per second: 2958.57</pre>"
      ],
      "text/plain": [
       "recommendations finished on 30000/43154 queries. users per second: 2958.57"
      ]
     },
     "metadata": {},
     "output_type": "display_data"
    },
    {
     "data": {
      "text/html": [
       "<pre>recommendations finished on 31000/43154 queries. users per second: 2988.23</pre>"
      ],
      "text/plain": [
       "recommendations finished on 31000/43154 queries. users per second: 2988.23"
      ]
     },
     "metadata": {},
     "output_type": "display_data"
    },
    {
     "data": {
      "text/html": [
       "<pre>recommendations finished on 32000/43154 queries. users per second: 3047.96</pre>"
      ],
      "text/plain": [
       "recommendations finished on 32000/43154 queries. users per second: 3047.96"
      ]
     },
     "metadata": {},
     "output_type": "display_data"
    },
    {
     "data": {
      "text/html": [
       "<pre>recommendations finished on 33000/43154 queries. users per second: 3101.73</pre>"
      ],
      "text/plain": [
       "recommendations finished on 33000/43154 queries. users per second: 3101.73"
      ]
     },
     "metadata": {},
     "output_type": "display_data"
    },
    {
     "data": {
      "text/html": [
       "<pre>recommendations finished on 34000/43154 queries. users per second: 3149.54</pre>"
      ],
      "text/plain": [
       "recommendations finished on 34000/43154 queries. users per second: 3149.54"
      ]
     },
     "metadata": {},
     "output_type": "display_data"
    },
    {
     "data": {
      "text/html": [
       "<pre>recommendations finished on 35000/43154 queries. users per second: 3200.55</pre>"
      ],
      "text/plain": [
       "recommendations finished on 35000/43154 queries. users per second: 3200.55"
      ]
     },
     "metadata": {},
     "output_type": "display_data"
    },
    {
     "data": {
      "text/html": [
       "<pre>recommendations finished on 36000/43154 queries. users per second: 3245.69</pre>"
      ],
      "text/plain": [
       "recommendations finished on 36000/43154 queries. users per second: 3245.69"
      ]
     },
     "metadata": {},
     "output_type": "display_data"
    },
    {
     "data": {
      "text/html": [
       "<pre>recommendations finished on 37000/43154 queries. users per second: 3298.74</pre>"
      ],
      "text/plain": [
       "recommendations finished on 37000/43154 queries. users per second: 3298.74"
      ]
     },
     "metadata": {},
     "output_type": "display_data"
    },
    {
     "data": {
      "text/html": [
       "<pre>recommendations finished on 38000/43154 queries. users per second: 3350.61</pre>"
      ],
      "text/plain": [
       "recommendations finished on 38000/43154 queries. users per second: 3350.61"
      ]
     },
     "metadata": {},
     "output_type": "display_data"
    },
    {
     "data": {
      "text/html": [
       "<pre>recommendations finished on 39000/43154 queries. users per second: 3405.99</pre>"
      ],
      "text/plain": [
       "recommendations finished on 39000/43154 queries. users per second: 3405.99"
      ]
     },
     "metadata": {},
     "output_type": "display_data"
    },
    {
     "data": {
      "text/html": [
       "<pre>recommendations finished on 40000/43154 queries. users per second: 3465</pre>"
      ],
      "text/plain": [
       "recommendations finished on 40000/43154 queries. users per second: 3465"
      ]
     },
     "metadata": {},
     "output_type": "display_data"
    },
    {
     "data": {
      "text/html": [
       "<pre>recommendations finished on 41000/43154 queries. users per second: 3508.95</pre>"
      ],
      "text/plain": [
       "recommendations finished on 41000/43154 queries. users per second: 3508.95"
      ]
     },
     "metadata": {},
     "output_type": "display_data"
    },
    {
     "data": {
      "text/html": [
       "<pre>recommendations finished on 42000/43154 queries. users per second: 3537.85</pre>"
      ],
      "text/plain": [
       "recommendations finished on 42000/43154 queries. users per second: 3537.85"
      ]
     },
     "metadata": {},
     "output_type": "display_data"
    },
    {
     "data": {
      "text/html": [
       "<pre>recommendations finished on 43000/43154 queries. users per second: 3533.85</pre>"
      ],
      "text/plain": [
       "recommendations finished on 43000/43154 queries. users per second: 3533.85"
      ]
     },
     "metadata": {},
     "output_type": "display_data"
    },
    {
     "name": "stdout",
     "output_type": "stream",
     "text": [
      "\n",
      "Precision and recall summary statistics by cutoff\n",
      "+--------+-------------------+-------------------+\n",
      "| cutoff |   mean_precision  |    mean_recall    |\n",
      "+--------+-------------------+-------------------+\n",
      "|   1    | 0.000556147749919 | 0.000260796244946 |\n",
      "|   2    | 0.000463456458266 | 0.000325719042232 |\n",
      "|   3    | 0.000556147749919 | 0.000429412847955 |\n",
      "|   4    | 0.000573527367104 | 0.000527464268452 |\n",
      "|   5    | 0.000611762524911 |  0.00059680678326 |\n",
      "|   6    | 0.000633390492963 | 0.000763042053942 |\n",
      "|   7    | 0.000625666218659 | 0.000880090725465 |\n",
      "|   8    | 0.000593803587153 |  0.00098854584385 |\n",
      "|   9    | 0.000581895330934 |  0.00110716987914 |\n",
      "|   10   | 0.000577003290541 |  0.00126929687946 |\n",
      "+--------+-------------------+-------------------+\n",
      "[10 rows x 3 columns]\n",
      "\n",
      "PROGRESS: Evaluate model M3\n"
     ]
    },
    {
     "data": {
      "text/html": [
       "<pre>recommendations finished on 1000/43154 queries. users per second: 56.7304</pre>"
      ],
      "text/plain": [
       "recommendations finished on 1000/43154 queries. users per second: 56.7304"
      ]
     },
     "metadata": {},
     "output_type": "display_data"
    },
    {
     "data": {
      "text/html": [
       "<pre>recommendations finished on 2000/43154 queries. users per second: 76.7258</pre>"
      ],
      "text/plain": [
       "recommendations finished on 2000/43154 queries. users per second: 76.7258"
      ]
     },
     "metadata": {},
     "output_type": "display_data"
    },
    {
     "data": {
      "text/html": [
       "<pre>recommendations finished on 3000/43154 queries. users per second: 84.2733</pre>"
      ],
      "text/plain": [
       "recommendations finished on 3000/43154 queries. users per second: 84.2733"
      ]
     },
     "metadata": {},
     "output_type": "display_data"
    },
    {
     "data": {
      "text/html": [
       "<pre>recommendations finished on 4000/43154 queries. users per second: 90.1281</pre>"
      ],
      "text/plain": [
       "recommendations finished on 4000/43154 queries. users per second: 90.1281"
      ]
     },
     "metadata": {},
     "output_type": "display_data"
    },
    {
     "data": {
      "text/html": [
       "<pre>recommendations finished on 5000/43154 queries. users per second: 95.7911</pre>"
      ],
      "text/plain": [
       "recommendations finished on 5000/43154 queries. users per second: 95.7911"
      ]
     },
     "metadata": {},
     "output_type": "display_data"
    },
    {
     "data": {
      "text/html": [
       "<pre>recommendations finished on 6000/43154 queries. users per second: 99.5393</pre>"
      ],
      "text/plain": [
       "recommendations finished on 6000/43154 queries. users per second: 99.5393"
      ]
     },
     "metadata": {},
     "output_type": "display_data"
    },
    {
     "data": {
      "text/html": [
       "<pre>recommendations finished on 7000/43154 queries. users per second: 102.075</pre>"
      ],
      "text/plain": [
       "recommendations finished on 7000/43154 queries. users per second: 102.075"
      ]
     },
     "metadata": {},
     "output_type": "display_data"
    },
    {
     "data": {
      "text/html": [
       "<pre>recommendations finished on 8000/43154 queries. users per second: 104.573</pre>"
      ],
      "text/plain": [
       "recommendations finished on 8000/43154 queries. users per second: 104.573"
      ]
     },
     "metadata": {},
     "output_type": "display_data"
    },
    {
     "data": {
      "text/html": [
       "<pre>recommendations finished on 9000/43154 queries. users per second: 107.315</pre>"
      ],
      "text/plain": [
       "recommendations finished on 9000/43154 queries. users per second: 107.315"
      ]
     },
     "metadata": {},
     "output_type": "display_data"
    },
    {
     "data": {
      "text/html": [
       "<pre>recommendations finished on 10000/43154 queries. users per second: 109.26</pre>"
      ],
      "text/plain": [
       "recommendations finished on 10000/43154 queries. users per second: 109.26"
      ]
     },
     "metadata": {},
     "output_type": "display_data"
    },
    {
     "data": {
      "text/html": [
       "<pre>recommendations finished on 11000/43154 queries. users per second: 111.237</pre>"
      ],
      "text/plain": [
       "recommendations finished on 11000/43154 queries. users per second: 111.237"
      ]
     },
     "metadata": {},
     "output_type": "display_data"
    },
    {
     "data": {
      "text/html": [
       "<pre>recommendations finished on 12000/43154 queries. users per second: 112.924</pre>"
      ],
      "text/plain": [
       "recommendations finished on 12000/43154 queries. users per second: 112.924"
      ]
     },
     "metadata": {},
     "output_type": "display_data"
    },
    {
     "data": {
      "text/html": [
       "<pre>recommendations finished on 13000/43154 queries. users per second: 114.328</pre>"
      ],
      "text/plain": [
       "recommendations finished on 13000/43154 queries. users per second: 114.328"
      ]
     },
     "metadata": {},
     "output_type": "display_data"
    },
    {
     "data": {
      "text/html": [
       "<pre>recommendations finished on 14000/43154 queries. users per second: 115.56</pre>"
      ],
      "text/plain": [
       "recommendations finished on 14000/43154 queries. users per second: 115.56"
      ]
     },
     "metadata": {},
     "output_type": "display_data"
    },
    {
     "data": {
      "text/html": [
       "<pre>recommendations finished on 15000/43154 queries. users per second: 116.706</pre>"
      ],
      "text/plain": [
       "recommendations finished on 15000/43154 queries. users per second: 116.706"
      ]
     },
     "metadata": {},
     "output_type": "display_data"
    },
    {
     "data": {
      "text/html": [
       "<pre>recommendations finished on 16000/43154 queries. users per second: 117.62</pre>"
      ],
      "text/plain": [
       "recommendations finished on 16000/43154 queries. users per second: 117.62"
      ]
     },
     "metadata": {},
     "output_type": "display_data"
    },
    {
     "data": {
      "text/html": [
       "<pre>recommendations finished on 17000/43154 queries. users per second: 118.541</pre>"
      ],
      "text/plain": [
       "recommendations finished on 17000/43154 queries. users per second: 118.541"
      ]
     },
     "metadata": {},
     "output_type": "display_data"
    },
    {
     "data": {
      "text/html": [
       "<pre>recommendations finished on 18000/43154 queries. users per second: 119.36</pre>"
      ],
      "text/plain": [
       "recommendations finished on 18000/43154 queries. users per second: 119.36"
      ]
     },
     "metadata": {},
     "output_type": "display_data"
    },
    {
     "data": {
      "text/html": [
       "<pre>recommendations finished on 19000/43154 queries. users per second: 120.102</pre>"
      ],
      "text/plain": [
       "recommendations finished on 19000/43154 queries. users per second: 120.102"
      ]
     },
     "metadata": {},
     "output_type": "display_data"
    },
    {
     "data": {
      "text/html": [
       "<pre>recommendations finished on 20000/43154 queries. users per second: 120.766</pre>"
      ],
      "text/plain": [
       "recommendations finished on 20000/43154 queries. users per second: 120.766"
      ]
     },
     "metadata": {},
     "output_type": "display_data"
    },
    {
     "data": {
      "text/html": [
       "<pre>recommendations finished on 21000/43154 queries. users per second: 121.385</pre>"
      ],
      "text/plain": [
       "recommendations finished on 21000/43154 queries. users per second: 121.385"
      ]
     },
     "metadata": {},
     "output_type": "display_data"
    },
    {
     "data": {
      "text/html": [
       "<pre>recommendations finished on 22000/43154 queries. users per second: 121.974</pre>"
      ],
      "text/plain": [
       "recommendations finished on 22000/43154 queries. users per second: 121.974"
      ]
     },
     "metadata": {},
     "output_type": "display_data"
    },
    {
     "data": {
      "text/html": [
       "<pre>recommendations finished on 23000/43154 queries. users per second: 122.639</pre>"
      ],
      "text/plain": [
       "recommendations finished on 23000/43154 queries. users per second: 122.639"
      ]
     },
     "metadata": {},
     "output_type": "display_data"
    },
    {
     "data": {
      "text/html": [
       "<pre>recommendations finished on 24000/43154 queries. users per second: 122.528</pre>"
      ],
      "text/plain": [
       "recommendations finished on 24000/43154 queries. users per second: 122.528"
      ]
     },
     "metadata": {},
     "output_type": "display_data"
    },
    {
     "data": {
      "text/html": [
       "<pre>recommendations finished on 25000/43154 queries. users per second: 122.175</pre>"
      ],
      "text/plain": [
       "recommendations finished on 25000/43154 queries. users per second: 122.175"
      ]
     },
     "metadata": {},
     "output_type": "display_data"
    },
    {
     "data": {
      "text/html": [
       "<pre>recommendations finished on 26000/43154 queries. users per second: 122.19</pre>"
      ],
      "text/plain": [
       "recommendations finished on 26000/43154 queries. users per second: 122.19"
      ]
     },
     "metadata": {},
     "output_type": "display_data"
    },
    {
     "data": {
      "text/html": [
       "<pre>recommendations finished on 27000/43154 queries. users per second: 122.645</pre>"
      ],
      "text/plain": [
       "recommendations finished on 27000/43154 queries. users per second: 122.645"
      ]
     },
     "metadata": {},
     "output_type": "display_data"
    },
    {
     "data": {
      "text/html": [
       "<pre>recommendations finished on 28000/43154 queries. users per second: 123.072</pre>"
      ],
      "text/plain": [
       "recommendations finished on 28000/43154 queries. users per second: 123.072"
      ]
     },
     "metadata": {},
     "output_type": "display_data"
    },
    {
     "data": {
      "text/html": [
       "<pre>recommendations finished on 29000/43154 queries. users per second: 123.454</pre>"
      ],
      "text/plain": [
       "recommendations finished on 29000/43154 queries. users per second: 123.454"
      ]
     },
     "metadata": {},
     "output_type": "display_data"
    },
    {
     "data": {
      "text/html": [
       "<pre>recommendations finished on 30000/43154 queries. users per second: 123.726</pre>"
      ],
      "text/plain": [
       "recommendations finished on 30000/43154 queries. users per second: 123.726"
      ]
     },
     "metadata": {},
     "output_type": "display_data"
    },
    {
     "data": {
      "text/html": [
       "<pre>recommendations finished on 31000/43154 queries. users per second: 124.098</pre>"
      ],
      "text/plain": [
       "recommendations finished on 31000/43154 queries. users per second: 124.098"
      ]
     },
     "metadata": {},
     "output_type": "display_data"
    },
    {
     "data": {
      "text/html": [
       "<pre>recommendations finished on 32000/43154 queries. users per second: 124.207</pre>"
      ],
      "text/plain": [
       "recommendations finished on 32000/43154 queries. users per second: 124.207"
      ]
     },
     "metadata": {},
     "output_type": "display_data"
    },
    {
     "data": {
      "text/html": [
       "<pre>recommendations finished on 33000/43154 queries. users per second: 123.881</pre>"
      ],
      "text/plain": [
       "recommendations finished on 33000/43154 queries. users per second: 123.881"
      ]
     },
     "metadata": {},
     "output_type": "display_data"
    },
    {
     "data": {
      "text/html": [
       "<pre>recommendations finished on 34000/43154 queries. users per second: 123.61</pre>"
      ],
      "text/plain": [
       "recommendations finished on 34000/43154 queries. users per second: 123.61"
      ]
     },
     "metadata": {},
     "output_type": "display_data"
    },
    {
     "data": {
      "text/html": [
       "<pre>recommendations finished on 35000/43154 queries. users per second: 123.403</pre>"
      ],
      "text/plain": [
       "recommendations finished on 35000/43154 queries. users per second: 123.403"
      ]
     },
     "metadata": {},
     "output_type": "display_data"
    },
    {
     "data": {
      "text/html": [
       "<pre>recommendations finished on 36000/43154 queries. users per second: 123.195</pre>"
      ],
      "text/plain": [
       "recommendations finished on 36000/43154 queries. users per second: 123.195"
      ]
     },
     "metadata": {},
     "output_type": "display_data"
    },
    {
     "data": {
      "text/html": [
       "<pre>recommendations finished on 37000/43154 queries. users per second: 123.076</pre>"
      ],
      "text/plain": [
       "recommendations finished on 37000/43154 queries. users per second: 123.076"
      ]
     },
     "metadata": {},
     "output_type": "display_data"
    },
    {
     "data": {
      "text/html": [
       "<pre>recommendations finished on 38000/43154 queries. users per second: 122.752</pre>"
      ],
      "text/plain": [
       "recommendations finished on 38000/43154 queries. users per second: 122.752"
      ]
     },
     "metadata": {},
     "output_type": "display_data"
    },
    {
     "data": {
      "text/html": [
       "<pre>recommendations finished on 39000/43154 queries. users per second: 122.489</pre>"
      ],
      "text/plain": [
       "recommendations finished on 39000/43154 queries. users per second: 122.489"
      ]
     },
     "metadata": {},
     "output_type": "display_data"
    },
    {
     "data": {
      "text/html": [
       "<pre>recommendations finished on 40000/43154 queries. users per second: 122.205</pre>"
      ],
      "text/plain": [
       "recommendations finished on 40000/43154 queries. users per second: 122.205"
      ]
     },
     "metadata": {},
     "output_type": "display_data"
    },
    {
     "data": {
      "text/html": [
       "<pre>recommendations finished on 41000/43154 queries. users per second: 121.772</pre>"
      ],
      "text/plain": [
       "recommendations finished on 41000/43154 queries. users per second: 121.772"
      ]
     },
     "metadata": {},
     "output_type": "display_data"
    },
    {
     "data": {
      "text/html": [
       "<pre>recommendations finished on 42000/43154 queries. users per second: 118.646</pre>"
      ],
      "text/plain": [
       "recommendations finished on 42000/43154 queries. users per second: 118.646"
      ]
     },
     "metadata": {},
     "output_type": "display_data"
    },
    {
     "data": {
      "text/html": [
       "<pre>recommendations finished on 43000/43154 queries. users per second: 116.26</pre>"
      ],
      "text/plain": [
       "recommendations finished on 43000/43154 queries. users per second: 116.26"
      ]
     },
     "metadata": {},
     "output_type": "display_data"
    },
    {
     "name": "stdout",
     "output_type": "stream",
     "text": [
      "\n",
      "Precision and recall summary statistics by cutoff\n",
      "+--------+-------------------+-------------------+\n",
      "| cutoff |   mean_precision  |    mean_recall    |\n",
      "+--------+-------------------+-------------------+\n",
      "|   1    | 0.000602493395745 | 0.000131804626921 |\n",
      "|   2    | 0.000590906984289 | 0.000148757990071 |\n",
      "|   3    | 0.000556147749919 | 0.000166380938441 |\n",
      "|   4    | 0.000509802104092 | 0.000181507677304 |\n",
      "|   5    | 0.000509802104092 | 0.000201043112154 |\n",
      "|   6    | 0.000529112789853 | 0.000230686909481 |\n",
      "|   7    | 0.000503181297546 |  0.00024451578379 |\n",
      "|   8    | 0.000527181721277 | 0.000324790864207 |\n",
      "|   9    | 0.000509802104092 | 0.000334630801566 |\n",
      "|   10   | 0.000516753950966 | 0.000355468499492 |\n",
      "+--------+-------------------+-------------------+\n",
      "[10 rows x 3 columns]\n",
      "\n",
      "Model compare metric: precision_recall\n"
     ]
    }
   ],
   "source": [
    "model_performance = graphlab.compare(test_data, [Context_based,Collaborative,popularity,Matrix_factorization])"
   ]
  },
  {
   "cell_type": "code",
   "execution_count": 8,
   "metadata": {
    "collapsed": false
   },
   "outputs": [
    {
     "name": "stdout",
     "output_type": "stream",
     "text": [
      "Canvas is accessible via web browser at the URL: http://localhost:51224/index.html\n",
      "Opening Canvas in default web browser.\n"
     ]
    }
   ],
   "source": [
    "graphlab.show_comparison(model_performance,[Context_based,Collaborative,popularity,Matrix_factorization])"
   ]
  },
  {
   "cell_type": "code",
   "execution_count": null,
   "metadata": {
    "collapsed": true
   },
   "outputs": [],
   "source": []
  }
 ],
 "metadata": {
  "kernelspec": {
   "display_name": "Python 2",
   "language": "python",
   "name": "python2"
  },
  "language_info": {
   "codemirror_mode": {
    "name": "ipython",
    "version": 2
   },
   "file_extension": ".py",
   "mimetype": "text/x-python",
   "name": "python",
   "nbconvert_exporter": "python",
   "pygments_lexer": "ipython2",
   "version": "2.7.13"
  }
 },
 "nbformat": 4,
 "nbformat_minor": 0
}
