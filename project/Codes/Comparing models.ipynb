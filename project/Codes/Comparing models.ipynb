{
 "cells": [
  {
   "cell_type": "code",
   "execution_count": 1,
   "metadata": {
    "collapsed": true
   },
   "outputs": [],
   "source": [
    "import graphlab\n",
    "import csv\n",
    "import pandas as pd\n",
    "import pickle"
   ]
  },
  {
   "cell_type": "code",
   "execution_count": 2,
   "metadata": {
    "collapsed": false
   },
   "outputs": [
    {
     "name": "stdout",
     "output_type": "stream",
     "text": [
      "This non-commercial license of GraphLab Create for academic use is assigned to kanika.narang@iiitb.org and will expire on October 13, 2018.\n"
     ]
    },
    {
     "name": "stderr",
     "output_type": "stream",
     "text": [
      "[INFO] graphlab.cython.cy_server: GraphLab Create v2.1 started. Logging: C:\\Users\\SONY\\AppData\\Local\\Temp\\graphlab_server_1508828075.log.0\n"
     ]
    }
   ],
   "source": [
    "test_csv_data=pd.read_csv('C:/Users/SONY/Desktop/3rdsem/Machine Learning/project/DATA/test_data.csv', sep=',')\n",
    "test_data= graphlab.SFrame(test_csv_data)"
   ]
  },
  {
   "cell_type": "code",
   "execution_count": 3,
   "metadata": {
    "collapsed": false
   },
   "outputs": [],
   "source": [
    "Context_based=graphlab.load_model('C:/Users/SONY/Desktop/3rdsem/Machine Learning/project/Models/Content based')\n",
    "Collaborative=graphlab.load_model('C:/Users/SONY/Desktop/3rdsem/Machine Learning/project/Models/Collaborative')\n",
    "popularity=graphlab.load_model('C:/Users/SONY/Desktop/3rdsem/Machine Learning/project/Models/Popularity')\n",
    "Matrix_factorization=graphlab.load_model('C:/Users/SONY/Desktop/3rdsem/Machine Learning/project/Models/Matrix Facorization')"
   ]
  },
  {
   "cell_type": "code",
   "execution_count": 4,
   "metadata": {
    "collapsed": false
   },
   "outputs": [
    {
     "name": "stdout",
     "output_type": "stream",
     "text": [
      "PROGRESS: Evaluate model M0\n"
     ]
    },
    {
     "data": {
      "text/html": [
       "<pre>recommendations finished on 1000/43154 queries. users per second: 1424.5</pre>"
      ],
      "text/plain": [
       "recommendations finished on 1000/43154 queries. users per second: 1424.5"
      ]
     },
     "metadata": {},
     "output_type": "display_data"
    },
    {
     "data": {
      "text/html": [
       "<pre>recommendations finished on 2000/43154 queries. users per second: 2249.21</pre>"
      ],
      "text/plain": [
       "recommendations finished on 2000/43154 queries. users per second: 2249.21"
      ]
     },
     "metadata": {},
     "output_type": "display_data"
    },
    {
     "data": {
      "text/html": [
       "<pre>recommendations finished on 3000/43154 queries. users per second: 2913.75</pre>"
      ],
      "text/plain": [
       "recommendations finished on 3000/43154 queries. users per second: 2913.75"
      ]
     },
     "metadata": {},
     "output_type": "display_data"
    },
    {
     "data": {
      "text/html": [
       "<pre>recommendations finished on 4000/43154 queries. users per second: 3465</pre>"
      ],
      "text/plain": [
       "recommendations finished on 4000/43154 queries. users per second: 3465"
      ]
     },
     "metadata": {},
     "output_type": "display_data"
    },
    {
     "data": {
      "text/html": [
       "<pre>recommendations finished on 5000/43154 queries. users per second: 3861.59</pre>"
      ],
      "text/plain": [
       "recommendations finished on 5000/43154 queries. users per second: 3861.59"
      ]
     },
     "metadata": {},
     "output_type": "display_data"
    },
    {
     "data": {
      "text/html": [
       "<pre>recommendations finished on 6000/43154 queries. users per second: 4180.59</pre>"
      ],
      "text/plain": [
       "recommendations finished on 6000/43154 queries. users per second: 4180.59"
      ]
     },
     "metadata": {},
     "output_type": "display_data"
    },
    {
     "data": {
      "text/html": [
       "<pre>recommendations finished on 7000/43154 queries. users per second: 4532.5</pre>"
      ],
      "text/plain": [
       "recommendations finished on 7000/43154 queries. users per second: 4532.5"
      ]
     },
     "metadata": {},
     "output_type": "display_data"
    },
    {
     "data": {
      "text/html": [
       "<pre>recommendations finished on 8000/43154 queries. users per second: 4792.71</pre>"
      ],
      "text/plain": [
       "recommendations finished on 8000/43154 queries. users per second: 4792.71"
      ]
     },
     "metadata": {},
     "output_type": "display_data"
    },
    {
     "data": {
      "text/html": [
       "<pre>recommendations finished on 9000/43154 queries. users per second: 4889.17</pre>"
      ],
      "text/plain": [
       "recommendations finished on 9000/43154 queries. users per second: 4889.17"
      ]
     },
     "metadata": {},
     "output_type": "display_data"
    },
    {
     "data": {
      "text/html": [
       "<pre>recommendations finished on 10000/43154 queries. users per second: 4969.18</pre>"
      ],
      "text/plain": [
       "recommendations finished on 10000/43154 queries. users per second: 4969.18"
      ]
     },
     "metadata": {},
     "output_type": "display_data"
    },
    {
     "data": {
      "text/html": [
       "<pre>recommendations finished on 11000/43154 queries. users per second: 5000.9</pre>"
      ],
      "text/plain": [
       "recommendations finished on 11000/43154 queries. users per second: 5000.9"
      ]
     },
     "metadata": {},
     "output_type": "display_data"
    },
    {
     "data": {
      "text/html": [
       "<pre>recommendations finished on 12000/43154 queries. users per second: 5128.2</pre>"
      ],
      "text/plain": [
       "recommendations finished on 12000/43154 queries. users per second: 5128.2"
      ]
     },
     "metadata": {},
     "output_type": "display_data"
    },
    {
     "data": {
      "text/html": [
       "<pre>recommendations finished on 13000/43154 queries. users per second: 5341.87</pre>"
      ],
      "text/plain": [
       "recommendations finished on 13000/43154 queries. users per second: 5341.87"
      ]
     },
     "metadata": {},
     "output_type": "display_data"
    },
    {
     "data": {
      "text/html": [
       "<pre>recommendations finished on 14000/43154 queries. users per second: 5472.16</pre>"
      ],
      "text/plain": [
       "recommendations finished on 14000/43154 queries. users per second: 5472.16"
      ]
     },
     "metadata": {},
     "output_type": "display_data"
    },
    {
     "data": {
      "text/html": [
       "<pre>recommendations finished on 15000/43154 queries. users per second: 5623.02</pre>"
      ],
      "text/plain": [
       "recommendations finished on 15000/43154 queries. users per second: 5623.02"
      ]
     },
     "metadata": {},
     "output_type": "display_data"
    },
    {
     "data": {
      "text/html": [
       "<pre>recommendations finished on 16000/43154 queries. users per second: 5698</pre>"
      ],
      "text/plain": [
       "recommendations finished on 16000/43154 queries. users per second: 5698"
      ]
     },
     "metadata": {},
     "output_type": "display_data"
    },
    {
     "data": {
      "text/html": [
       "<pre>recommendations finished on 17000/43154 queries. users per second: 5796.5</pre>"
      ],
      "text/plain": [
       "recommendations finished on 17000/43154 queries. users per second: 5796.5"
      ]
     },
     "metadata": {},
     "output_type": "display_data"
    },
    {
     "data": {
      "text/html": [
       "<pre>recommendations finished on 18000/43154 queries. users per second: 5740.52</pre>"
      ],
      "text/plain": [
       "recommendations finished on 18000/43154 queries. users per second: 5740.52"
      ]
     },
     "metadata": {},
     "output_type": "display_data"
    },
    {
     "data": {
      "text/html": [
       "<pre>recommendations finished on 19000/43154 queries. users per second: 5855.51</pre>"
      ],
      "text/plain": [
       "recommendations finished on 19000/43154 queries. users per second: 5855.51"
      ]
     },
     "metadata": {},
     "output_type": "display_data"
    },
    {
     "data": {
      "text/html": [
       "<pre>recommendations finished on 20000/43154 queries. users per second: 5963.02</pre>"
      ],
      "text/plain": [
       "recommendations finished on 20000/43154 queries. users per second: 5963.02"
      ]
     },
     "metadata": {},
     "output_type": "display_data"
    },
    {
     "data": {
      "text/html": [
       "<pre>recommendations finished on 21000/43154 queries. users per second: 6009.6</pre>"
      ],
      "text/plain": [
       "recommendations finished on 21000/43154 queries. users per second: 6009.6"
      ]
     },
     "metadata": {},
     "output_type": "display_data"
    },
    {
     "data": {
      "text/html": [
       "<pre>recommendations finished on 22000/43154 queries. users per second: 5803.51</pre>"
      ],
      "text/plain": [
       "recommendations finished on 22000/43154 queries. users per second: 5803.51"
      ]
     },
     "metadata": {},
     "output_type": "display_data"
    },
    {
     "data": {
      "text/html": [
       "<pre>recommendations finished on 23000/43154 queries. users per second: 5827.5</pre>"
      ],
      "text/plain": [
       "recommendations finished on 23000/43154 queries. users per second: 5827.5"
      ]
     },
     "metadata": {},
     "output_type": "display_data"
    },
    {
     "data": {
      "text/html": [
       "<pre>recommendations finished on 24000/43154 queries. users per second: 5849.65</pre>"
      ],
      "text/plain": [
       "recommendations finished on 24000/43154 queries. users per second: 5849.65"
      ]
     },
     "metadata": {},
     "output_type": "display_data"
    },
    {
     "data": {
      "text/html": [
       "<pre>recommendations finished on 25000/43154 queries. users per second: 5913.51</pre>"
      ],
      "text/plain": [
       "recommendations finished on 25000/43154 queries. users per second: 5913.51"
      ]
     },
     "metadata": {},
     "output_type": "display_data"
    },
    {
     "data": {
      "text/html": [
       "<pre>recommendations finished on 26000/43154 queries. users per second: 5952.37</pre>"
      ],
      "text/plain": [
       "recommendations finished on 26000/43154 queries. users per second: 5952.37"
      ]
     },
     "metadata": {},
     "output_type": "display_data"
    },
    {
     "data": {
      "text/html": [
       "<pre>recommendations finished on 27000/43154 queries. users per second: 5988.81</pre>"
      ],
      "text/plain": [
       "recommendations finished on 27000/43154 queries. users per second: 5988.81"
      ]
     },
     "metadata": {},
     "output_type": "display_data"
    },
    {
     "data": {
      "text/html": [
       "<pre>recommendations finished on 28000/43154 queries. users per second: 6063.75</pre>"
      ],
      "text/plain": [
       "recommendations finished on 28000/43154 queries. users per second: 6063.75"
      ]
     },
     "metadata": {},
     "output_type": "display_data"
    },
    {
     "data": {
      "text/html": [
       "<pre>recommendations finished on 29000/43154 queries. users per second: 6115.04</pre>"
      ],
      "text/plain": [
       "recommendations finished on 29000/43154 queries. users per second: 6115.04"
      ]
     },
     "metadata": {},
     "output_type": "display_data"
    },
    {
     "data": {
      "text/html": [
       "<pre>recommendations finished on 30000/43154 queries. users per second: 6144</pre>"
      ],
      "text/plain": [
       "recommendations finished on 30000/43154 queries. users per second: 6144"
      ]
     },
     "metadata": {},
     "output_type": "display_data"
    },
    {
     "data": {
      "text/html": [
       "<pre>recommendations finished on 31000/43154 queries. users per second: 6209.92</pre>"
      ],
      "text/plain": [
       "recommendations finished on 31000/43154 queries. users per second: 6209.92"
      ]
     },
     "metadata": {},
     "output_type": "display_data"
    },
    {
     "data": {
      "text/html": [
       "<pre>recommendations finished on 32000/43154 queries. users per second: 6253.9</pre>"
      ],
      "text/plain": [
       "recommendations finished on 32000/43154 queries. users per second: 6253.9"
      ]
     },
     "metadata": {},
     "output_type": "display_data"
    },
    {
     "data": {
      "text/html": [
       "<pre>recommendations finished on 33000/43154 queries. users per second: 6314.57</pre>"
      ],
      "text/plain": [
       "recommendations finished on 33000/43154 queries. users per second: 6314.57"
      ]
     },
     "metadata": {},
     "output_type": "display_data"
    },
    {
     "data": {
      "text/html": [
       "<pre>recommendations finished on 34000/43154 queries. users per second: 6372.76</pre>"
      ],
      "text/plain": [
       "recommendations finished on 34000/43154 queries. users per second: 6372.76"
      ]
     },
     "metadata": {},
     "output_type": "display_data"
    },
    {
     "data": {
      "text/html": [
       "<pre>recommendations finished on 35000/43154 queries. users per second: 6428.61</pre>"
      ],
      "text/plain": [
       "recommendations finished on 35000/43154 queries. users per second: 6428.61"
      ]
     },
     "metadata": {},
     "output_type": "display_data"
    },
    {
     "data": {
      "text/html": [
       "<pre>recommendations finished on 36000/43154 queries. users per second: 6482.27</pre>"
      ],
      "text/plain": [
       "recommendations finished on 36000/43154 queries. users per second: 6482.27"
      ]
     },
     "metadata": {},
     "output_type": "display_data"
    },
    {
     "data": {
      "text/html": [
       "<pre>recommendations finished on 37000/43154 queries. users per second: 6225.17</pre>"
      ],
      "text/plain": [
       "recommendations finished on 37000/43154 queries. users per second: 6225.17"
      ]
     },
     "metadata": {},
     "output_type": "display_data"
    },
    {
     "data": {
      "text/html": [
       "<pre>recommendations finished on 38000/43154 queries. users per second: 6182.47</pre>"
      ],
      "text/plain": [
       "recommendations finished on 38000/43154 queries. users per second: 6182.47"
      ]
     },
     "metadata": {},
     "output_type": "display_data"
    },
    {
     "data": {
      "text/html": [
       "<pre>recommendations finished on 39000/43154 queries. users per second: 6172.83</pre>"
      ],
      "text/plain": [
       "recommendations finished on 39000/43154 queries. users per second: 6172.83"
      ]
     },
     "metadata": {},
     "output_type": "display_data"
    },
    {
     "data": {
      "text/html": [
       "<pre>recommendations finished on 40000/43154 queries. users per second: 6134.21</pre>"
      ],
      "text/plain": [
       "recommendations finished on 40000/43154 queries. users per second: 6134.21"
      ]
     },
     "metadata": {},
     "output_type": "display_data"
    },
    {
     "data": {
      "text/html": [
       "<pre>recommendations finished on 41000/43154 queries. users per second: 6055.76</pre>"
      ],
      "text/plain": [
       "recommendations finished on 41000/43154 queries. users per second: 6055.76"
      ]
     },
     "metadata": {},
     "output_type": "display_data"
    },
    {
     "data": {
      "text/html": [
       "<pre>recommendations finished on 42000/43154 queries. users per second: 5891.25</pre>"
      ],
      "text/plain": [
       "recommendations finished on 42000/43154 queries. users per second: 5891.25"
      ]
     },
     "metadata": {},
     "output_type": "display_data"
    },
    {
     "data": {
      "text/html": [
       "<pre>recommendations finished on 43000/43154 queries. users per second: 5802.96</pre>"
      ],
      "text/plain": [
       "recommendations finished on 43000/43154 queries. users per second: 5802.96"
      ]
     },
     "metadata": {},
     "output_type": "display_data"
    },
    {
     "name": "stdout",
     "output_type": "stream",
     "text": [
      "\n",
      "Precision and recall summary statistics by cutoff\n",
      "+--------+-----------------+-----------------+\n",
      "| cutoff |  mean_precision |   mean_recall   |\n",
      "+--------+-----------------+-----------------+\n",
      "|   1    |  0.118366779441 | 0.0302650926111 |\n",
      "|   2    |  0.101323168188 | 0.0464297376527 |\n",
      "|   3    | 0.0883270766711 | 0.0571242881502 |\n",
      "|   4    | 0.0794190573296 | 0.0652431018985 |\n",
      "|   5    |  0.072048941002 | 0.0716661112209 |\n",
      "|   6    | 0.0658108170737 | 0.0766555229367 |\n",
      "|   7    | 0.0608981786161 | 0.0808835263101 |\n",
      "|   8    | 0.0568603142235 | 0.0847306174106 |\n",
      "|   9    | 0.0534056325408 | 0.0883350371555 |\n",
      "|   10   | 0.0505074848218 | 0.0916353275755 |\n",
      "+--------+-----------------+-----------------+\n",
      "[10 rows x 3 columns]\n",
      "\n",
      "PROGRESS: Evaluate model M1\n"
     ]
    },
    {
     "data": {
      "text/html": [
       "<pre>recommendations finished on 1000/43154 queries. users per second: 1124.6</pre>"
      ],
      "text/plain": [
       "recommendations finished on 1000/43154 queries. users per second: 1124.6"
      ]
     },
     "metadata": {},
     "output_type": "display_data"
    },
    {
     "data": {
      "text/html": [
       "<pre>recommendations finished on 2000/43154 queries. users per second: 1913.51</pre>"
      ],
      "text/plain": [
       "recommendations finished on 2000/43154 queries. users per second: 1913.51"
      ]
     },
     "metadata": {},
     "output_type": "display_data"
    },
    {
     "data": {
      "text/html": [
       "<pre>recommendations finished on 3000/43154 queries. users per second: 2374.16</pre>"
      ],
      "text/plain": [
       "recommendations finished on 3000/43154 queries. users per second: 2374.16"
      ]
     },
     "metadata": {},
     "output_type": "display_data"
    },
    {
     "data": {
      "text/html": [
       "<pre>recommendations finished on 4000/43154 queries. users per second: 2727.76</pre>"
      ],
      "text/plain": [
       "recommendations finished on 4000/43154 queries. users per second: 2727.76"
      ]
     },
     "metadata": {},
     "output_type": "display_data"
    },
    {
     "data": {
      "text/html": [
       "<pre>recommendations finished on 5000/43154 queries. users per second: 2913.75</pre>"
      ],
      "text/plain": [
       "recommendations finished on 5000/43154 queries. users per second: 2913.75"
      ]
     },
     "metadata": {},
     "output_type": "display_data"
    },
    {
     "data": {
      "text/html": [
       "<pre>recommendations finished on 6000/43154 queries. users per second: 3126.95</pre>"
      ],
      "text/plain": [
       "recommendations finished on 6000/43154 queries. users per second: 3126.95"
      ]
     },
     "metadata": {},
     "output_type": "display_data"
    },
    {
     "data": {
      "text/html": [
       "<pre>recommendations finished on 7000/43154 queries. users per second: 3275.31</pre>"
      ],
      "text/plain": [
       "recommendations finished on 7000/43154 queries. users per second: 3275.31"
      ]
     },
     "metadata": {},
     "output_type": "display_data"
    },
    {
     "data": {
      "text/html": [
       "<pre>recommendations finished on 8000/43154 queries. users per second: 3287.3</pre>"
      ],
      "text/plain": [
       "recommendations finished on 8000/43154 queries. users per second: 3287.3"
      ]
     },
     "metadata": {},
     "output_type": "display_data"
    },
    {
     "data": {
      "text/html": [
       "<pre>recommendations finished on 9000/43154 queries. users per second: 3393.66</pre>"
      ],
      "text/plain": [
       "recommendations finished on 9000/43154 queries. users per second: 3393.66"
      ]
     },
     "metadata": {},
     "output_type": "display_data"
    },
    {
     "data": {
      "text/html": [
       "<pre>recommendations finished on 10000/43154 queries. users per second: 3541.57</pre>"
      ],
      "text/plain": [
       "recommendations finished on 10000/43154 queries. users per second: 3541.57"
      ]
     },
     "metadata": {},
     "output_type": "display_data"
    },
    {
     "data": {
      "text/html": [
       "<pre>recommendations finished on 11000/43154 queries. users per second: 3634.67</pre>"
      ],
      "text/plain": [
       "recommendations finished on 11000/43154 queries. users per second: 3634.67"
      ]
     },
     "metadata": {},
     "output_type": "display_data"
    },
    {
     "data": {
      "text/html": [
       "<pre>recommendations finished on 12000/43154 queries. users per second: 3789.31</pre>"
      ],
      "text/plain": [
       "recommendations finished on 12000/43154 queries. users per second: 3789.31"
      ]
     },
     "metadata": {},
     "output_type": "display_data"
    },
    {
     "data": {
      "text/html": [
       "<pre>recommendations finished on 13000/43154 queries. users per second: 3875.96</pre>"
      ],
      "text/plain": [
       "recommendations finished on 13000/43154 queries. users per second: 3875.96"
      ]
     },
     "metadata": {},
     "output_type": "display_data"
    },
    {
     "data": {
      "text/html": [
       "<pre>recommendations finished on 14000/43154 queries. users per second: 3901.89</pre>"
      ],
      "text/plain": [
       "recommendations finished on 14000/43154 queries. users per second: 3901.89"
      ]
     },
     "metadata": {},
     "output_type": "display_data"
    },
    {
     "data": {
      "text/html": [
       "<pre>recommendations finished on 15000/43154 queries. users per second: 3973.29</pre>"
      ],
      "text/plain": [
       "recommendations finished on 15000/43154 queries. users per second: 3973.29"
      ]
     },
     "metadata": {},
     "output_type": "display_data"
    },
    {
     "data": {
      "text/html": [
       "<pre>recommendations finished on 16000/43154 queries. users per second: 4053.91</pre>"
      ],
      "text/plain": [
       "recommendations finished on 16000/43154 queries. users per second: 4053.91"
      ]
     },
     "metadata": {},
     "output_type": "display_data"
    },
    {
     "data": {
      "text/html": [
       "<pre>recommendations finished on 17000/43154 queries. users per second: 4143.5</pre>"
      ],
      "text/plain": [
       "recommendations finished on 17000/43154 queries. users per second: 4143.5"
      ]
     },
     "metadata": {},
     "output_type": "display_data"
    },
    {
     "data": {
      "text/html": [
       "<pre>recommendations finished on 18000/43154 queries. users per second: 4226.53</pre>"
      ],
      "text/plain": [
       "recommendations finished on 18000/43154 queries. users per second: 4226.53"
      ]
     },
     "metadata": {},
     "output_type": "display_data"
    },
    {
     "data": {
      "text/html": [
       "<pre>recommendations finished on 19000/43154 queries. users per second: 4228.98</pre>"
      ],
      "text/plain": [
       "recommendations finished on 19000/43154 queries. users per second: 4228.98"
      ]
     },
     "metadata": {},
     "output_type": "display_data"
    },
    {
     "data": {
      "text/html": [
       "<pre>recommendations finished on 20000/43154 queries. users per second: 4259.3</pre>"
      ],
      "text/plain": [
       "recommendations finished on 20000/43154 queries. users per second: 4259.3"
      ]
     },
     "metadata": {},
     "output_type": "display_data"
    },
    {
     "data": {
      "text/html": [
       "<pre>recommendations finished on 21000/43154 queries. users per second: 4314.59</pre>"
      ],
      "text/plain": [
       "recommendations finished on 21000/43154 queries. users per second: 4314.59"
      ]
     },
     "metadata": {},
     "output_type": "display_data"
    },
    {
     "data": {
      "text/html": [
       "<pre>recommendations finished on 22000/43154 queries. users per second: 4379.67</pre>"
      ],
      "text/plain": [
       "recommendations finished on 22000/43154 queries. users per second: 4379.67"
      ]
     },
     "metadata": {},
     "output_type": "display_data"
    },
    {
     "data": {
      "text/html": [
       "<pre>recommendations finished on 23000/43154 queries. users per second: 4427.5</pre>"
      ],
      "text/plain": [
       "recommendations finished on 23000/43154 queries. users per second: 4427.5"
      ]
     },
     "metadata": {},
     "output_type": "display_data"
    },
    {
     "data": {
      "text/html": [
       "<pre>recommendations finished on 24000/43154 queries. users per second: 4485.3</pre>"
      ],
      "text/plain": [
       "recommendations finished on 24000/43154 queries. users per second: 4485.3"
      ]
     },
     "metadata": {},
     "output_type": "display_data"
    },
    {
     "data": {
      "text/html": [
       "<pre>recommendations finished on 25000/43154 queries. users per second: 4463.96</pre>"
      ],
      "text/plain": [
       "recommendations finished on 25000/43154 queries. users per second: 4463.96"
      ]
     },
     "metadata": {},
     "output_type": "display_data"
    },
    {
     "data": {
      "text/html": [
       "<pre>recommendations finished on 26000/43154 queries. users per second: 4492.35</pre>"
      ],
      "text/plain": [
       "recommendations finished on 26000/43154 queries. users per second: 4492.35"
      ]
     },
     "metadata": {},
     "output_type": "display_data"
    },
    {
     "data": {
      "text/html": [
       "<pre>recommendations finished on 27000/43154 queries. users per second: 4530.8</pre>"
      ],
      "text/plain": [
       "recommendations finished on 27000/43154 queries. users per second: 4530.8"
      ]
     },
     "metadata": {},
     "output_type": "display_data"
    },
    {
     "data": {
      "text/html": [
       "<pre>recommendations finished on 28000/43154 queries. users per second: 4567.1</pre>"
      ],
      "text/plain": [
       "recommendations finished on 28000/43154 queries. users per second: 4567.1"
      ]
     },
     "metadata": {},
     "output_type": "display_data"
    },
    {
     "data": {
      "text/html": [
       "<pre>recommendations finished on 29000/43154 queries. users per second: 4624.31</pre>"
      ],
      "text/plain": [
       "recommendations finished on 29000/43154 queries. users per second: 4624.31"
      ]
     },
     "metadata": {},
     "output_type": "display_data"
    },
    {
     "data": {
      "text/html": [
       "<pre>recommendations finished on 30000/43154 queries. users per second: 4690.42</pre>"
      ],
      "text/plain": [
       "recommendations finished on 30000/43154 queries. users per second: 4690.42"
      ]
     },
     "metadata": {},
     "output_type": "display_data"
    },
    {
     "data": {
      "text/html": [
       "<pre>recommendations finished on 31000/43154 queries. users per second: 4720.13</pre>"
      ],
      "text/plain": [
       "recommendations finished on 31000/43154 queries. users per second: 4720.13"
      ]
     },
     "metadata": {},
     "output_type": "display_data"
    },
    {
     "data": {
      "text/html": [
       "<pre>recommendations finished on 32000/43154 queries. users per second: 4781.53</pre>"
      ],
      "text/plain": [
       "recommendations finished on 32000/43154 queries. users per second: 4781.53"
      ]
     },
     "metadata": {},
     "output_type": "display_data"
    },
    {
     "data": {
      "text/html": [
       "<pre>recommendations finished on 33000/43154 queries. users per second: 4818.64</pre>"
      ],
      "text/plain": [
       "recommendations finished on 33000/43154 queries. users per second: 4818.64"
      ]
     },
     "metadata": {},
     "output_type": "display_data"
    },
    {
     "data": {
      "text/html": [
       "<pre>recommendations finished on 34000/43154 queries. users per second: 4864.92</pre>"
      ],
      "text/plain": [
       "recommendations finished on 34000/43154 queries. users per second: 4864.92"
      ]
     },
     "metadata": {},
     "output_type": "display_data"
    },
    {
     "data": {
      "text/html": [
       "<pre>recommendations finished on 35000/43154 queries. users per second: 4898.66</pre>"
      ],
      "text/plain": [
       "recommendations finished on 35000/43154 queries. users per second: 4898.66"
      ]
     },
     "metadata": {},
     "output_type": "display_data"
    },
    {
     "data": {
      "text/html": [
       "<pre>recommendations finished on 36000/43154 queries. users per second: 4920.44</pre>"
      ],
      "text/plain": [
       "recommendations finished on 36000/43154 queries. users per second: 4920.44"
      ]
     },
     "metadata": {},
     "output_type": "display_data"
    },
    {
     "data": {
      "text/html": [
       "<pre>recommendations finished on 37000/43154 queries. users per second: 4930.96</pre>"
      ],
      "text/plain": [
       "recommendations finished on 37000/43154 queries. users per second: 4930.96"
      ]
     },
     "metadata": {},
     "output_type": "display_data"
    },
    {
     "data": {
      "text/html": [
       "<pre>recommendations finished on 38000/43154 queries. users per second: 4951</pre>"
      ],
      "text/plain": [
       "recommendations finished on 38000/43154 queries. users per second: 4951"
      ]
     },
     "metadata": {},
     "output_type": "display_data"
    },
    {
     "data": {
      "text/html": [
       "<pre>recommendations finished on 39000/43154 queries. users per second: 4921.25</pre>"
      ],
      "text/plain": [
       "recommendations finished on 39000/43154 queries. users per second: 4921.25"
      ]
     },
     "metadata": {},
     "output_type": "display_data"
    },
    {
     "data": {
      "text/html": [
       "<pre>recommendations finished on 40000/43154 queries. users per second: 4874.71</pre>"
      ],
      "text/plain": [
       "recommendations finished on 40000/43154 queries. users per second: 4874.71"
      ]
     },
     "metadata": {},
     "output_type": "display_data"
    },
    {
     "data": {
      "text/html": [
       "<pre>recommendations finished on 41000/43154 queries. users per second: 4795.99</pre>"
      ],
      "text/plain": [
       "recommendations finished on 41000/43154 queries. users per second: 4795.99"
      ]
     },
     "metadata": {},
     "output_type": "display_data"
    },
    {
     "data": {
      "text/html": [
       "<pre>recommendations finished on 42000/43154 queries. users per second: 4682.27</pre>"
      ],
      "text/plain": [
       "recommendations finished on 42000/43154 queries. users per second: 4682.27"
      ]
     },
     "metadata": {},
     "output_type": "display_data"
    },
    {
     "data": {
      "text/html": [
       "<pre>recommendations finished on 43000/43154 queries. users per second: 4578.75</pre>"
      ],
      "text/plain": [
       "recommendations finished on 43000/43154 queries. users per second: 4578.75"
      ]
     },
     "metadata": {},
     "output_type": "display_data"
    },
    {
     "name": "stdout",
     "output_type": "stream",
     "text": [
      "\n",
      "Precision and recall summary statistics by cutoff\n",
      "+--------+-------------------+-------------------+\n",
      "| cutoff |   mean_precision  |    mean_recall    |\n",
      "+--------+-------------------+-------------------+\n",
      "|   1    | 0.000579320572832 | 0.000283969067859 |\n",
      "|   2    | 0.000718357510312 | 0.000526208190846 |\n",
      "|   3    | 0.000641114767268 | 0.000597499410119 |\n",
      "|   4    | 0.000631459424387 | 0.000704736363739 |\n",
      "|   5    | 0.000667377299903 | 0.000788203265847 |\n",
      "|   6    | 0.000668149727333 |  0.00091931006487 |\n",
      "|   7    | 0.000668701461212 |  0.00107001125458 |\n",
      "|   8    | 0.000657528850165 |  0.00120696931768 |\n",
      "|   9    | 0.000646264283471 |  0.00134253035631 |\n",
      "|   10   | 0.000660425453029 |  0.0014967894069  |\n",
      "+--------+-------------------+-------------------+\n",
      "[10 rows x 3 columns]\n",
      "\n",
      "PROGRESS: Evaluate model M2\n"
     ]
    },
    {
     "data": {
      "text/html": [
       "<pre>recommendations finished on 1000/43154 queries. users per second: 1602.56</pre>"
      ],
      "text/plain": [
       "recommendations finished on 1000/43154 queries. users per second: 1602.56"
      ]
     },
     "metadata": {},
     "output_type": "display_data"
    },
    {
     "data": {
      "text/html": [
       "<pre>recommendations finished on 2000/43154 queries. users per second: 2670.94</pre>"
      ],
      "text/plain": [
       "recommendations finished on 2000/43154 queries. users per second: 2670.94"
      ]
     },
     "metadata": {},
     "output_type": "display_data"
    },
    {
     "data": {
      "text/html": [
       "<pre>recommendations finished on 3000/43154 queries. users per second: 3315.64</pre>"
      ],
      "text/plain": [
       "recommendations finished on 3000/43154 queries. users per second: 3315.64"
      ]
     },
     "metadata": {},
     "output_type": "display_data"
    },
    {
     "data": {
      "text/html": [
       "<pre>recommendations finished on 4000/43154 queries. users per second: 3944.77</pre>"
      ],
      "text/plain": [
       "recommendations finished on 4000/43154 queries. users per second: 3944.77"
      ]
     },
     "metadata": {},
     "output_type": "display_data"
    },
    {
     "data": {
      "text/html": [
       "<pre>recommendations finished on 5000/43154 queries. users per second: 4390.58</pre>"
      ],
      "text/plain": [
       "recommendations finished on 5000/43154 queries. users per second: 4390.58"
      ]
     },
     "metadata": {},
     "output_type": "display_data"
    },
    {
     "data": {
      "text/html": [
       "<pre>recommendations finished on 6000/43154 queries. users per second: 3465</pre>"
      ],
      "text/plain": [
       "recommendations finished on 6000/43154 queries. users per second: 3465"
      ]
     },
     "metadata": {},
     "output_type": "display_data"
    },
    {
     "data": {
      "text/html": [
       "<pre>recommendations finished on 7000/43154 queries. users per second: 3739.31</pre>"
      ],
      "text/plain": [
       "recommendations finished on 7000/43154 queries. users per second: 3739.31"
      ]
     },
     "metadata": {},
     "output_type": "display_data"
    },
    {
     "data": {
      "text/html": [
       "<pre>recommendations finished on 8000/43154 queries. users per second: 4006.4</pre>"
      ],
      "text/plain": [
       "recommendations finished on 8000/43154 queries. users per second: 4006.4"
      ]
     },
     "metadata": {},
     "output_type": "display_data"
    },
    {
     "data": {
      "text/html": [
       "<pre>recommendations finished on 9000/43154 queries. users per second: 4273.5</pre>"
      ],
      "text/plain": [
       "recommendations finished on 9000/43154 queries. users per second: 4273.5"
      ]
     },
     "metadata": {},
     "output_type": "display_data"
    },
    {
     "data": {
      "text/html": [
       "<pre>recommendations finished on 10000/43154 queries. users per second: 4420.86</pre>"
      ],
      "text/plain": [
       "recommendations finished on 10000/43154 queries. users per second: 4420.86"
      ]
     },
     "metadata": {},
     "output_type": "display_data"
    },
    {
     "data": {
      "text/html": [
       "<pre>recommendations finished on 11000/43154 queries. users per second: 4608.67</pre>"
      ],
      "text/plain": [
       "recommendations finished on 11000/43154 queries. users per second: 4608.67"
      ]
     },
     "metadata": {},
     "output_type": "display_data"
    },
    {
     "data": {
      "text/html": [
       "<pre>recommendations finished on 12000/43154 queries. users per second: 4472.26</pre>"
      ],
      "text/plain": [
       "recommendations finished on 12000/43154 queries. users per second: 4472.26"
      ]
     },
     "metadata": {},
     "output_type": "display_data"
    },
    {
     "data": {
      "text/html": [
       "<pre>recommendations finished on 13000/43154 queries. users per second: 4528.98</pre>"
      ],
      "text/plain": [
       "recommendations finished on 13000/43154 queries. users per second: 4528.98"
      ]
     },
     "metadata": {},
     "output_type": "display_data"
    },
    {
     "data": {
      "text/html": [
       "<pre>recommendations finished on 14000/43154 queries. users per second: 4602.23</pre>"
      ],
      "text/plain": [
       "recommendations finished on 14000/43154 queries. users per second: 4602.23"
      ]
     },
     "metadata": {},
     "output_type": "display_data"
    },
    {
     "data": {
      "text/html": [
       "<pre>recommendations finished on 15000/43154 queries. users per second: 4667.65</pre>"
      ],
      "text/plain": [
       "recommendations finished on 15000/43154 queries. users per second: 4667.65"
      ]
     },
     "metadata": {},
     "output_type": "display_data"
    },
    {
     "data": {
      "text/html": [
       "<pre>recommendations finished on 16000/43154 queries. users per second: 4815.21</pre>"
      ],
      "text/plain": [
       "recommendations finished on 16000/43154 queries. users per second: 4815.21"
      ]
     },
     "metadata": {},
     "output_type": "display_data"
    },
    {
     "data": {
      "text/html": [
       "<pre>recommendations finished on 17000/43154 queries. users per second: 4953.37</pre>"
      ],
      "text/plain": [
       "recommendations finished on 17000/43154 queries. users per second: 4953.37"
      ]
     },
     "metadata": {},
     "output_type": "display_data"
    },
    {
     "data": {
      "text/html": [
       "<pre>recommendations finished on 18000/43154 queries. users per second: 5105.51</pre>"
      ],
      "text/plain": [
       "recommendations finished on 18000/43154 queries. users per second: 5105.51"
      ]
     },
     "metadata": {},
     "output_type": "display_data"
    },
    {
     "data": {
      "text/html": [
       "<pre>recommendations finished on 19000/43154 queries. users per second: 5227.24</pre>"
      ],
      "text/plain": [
       "recommendations finished on 19000/43154 queries. users per second: 5227.24"
      ]
     },
     "metadata": {},
     "output_type": "display_data"
    },
    {
     "data": {
      "text/html": [
       "<pre>recommendations finished on 20000/43154 queries. users per second: 5364.22</pre>"
      ],
      "text/plain": [
       "recommendations finished on 20000/43154 queries. users per second: 5364.22"
      ]
     },
     "metadata": {},
     "output_type": "display_data"
    },
    {
     "data": {
      "text/html": [
       "<pre>recommendations finished on 21000/43154 queries. users per second: 5472.16</pre>"
      ],
      "text/plain": [
       "recommendations finished on 21000/43154 queries. users per second: 5472.16"
      ]
     },
     "metadata": {},
     "output_type": "display_data"
    },
    {
     "data": {
      "text/html": [
       "<pre>recommendations finished on 22000/43154 queries. users per second: 5508.8</pre>"
      ],
      "text/plain": [
       "recommendations finished on 22000/43154 queries. users per second: 5508.8"
      ]
     },
     "metadata": {},
     "output_type": "display_data"
    },
    {
     "data": {
      "text/html": [
       "<pre>recommendations finished on 23000/43154 queries. users per second: 5605.92</pre>"
      ],
      "text/plain": [
       "recommendations finished on 23000/43154 queries. users per second: 5605.92"
      ]
     },
     "metadata": {},
     "output_type": "display_data"
    },
    {
     "data": {
      "text/html": [
       "<pre>recommendations finished on 24000/43154 queries. users per second: 5360.48</pre>"
      ],
      "text/plain": [
       "recommendations finished on 24000/43154 queries. users per second: 5360.48"
      ]
     },
     "metadata": {},
     "output_type": "display_data"
    },
    {
     "data": {
      "text/html": [
       "<pre>recommendations finished on 25000/43154 queries. users per second: 5414.06</pre>"
      ],
      "text/plain": [
       "recommendations finished on 25000/43154 queries. users per second: 5414.06"
      ]
     },
     "metadata": {},
     "output_type": "display_data"
    },
    {
     "data": {
      "text/html": [
       "<pre>recommendations finished on 26000/43154 queries. users per second: 5482.45</pre>"
      ],
      "text/plain": [
       "recommendations finished on 26000/43154 queries. users per second: 5482.45"
      ]
     },
     "metadata": {},
     "output_type": "display_data"
    },
    {
     "data": {
      "text/html": [
       "<pre>recommendations finished on 27000/43154 queries. users per second: 5529.6</pre>"
      ],
      "text/plain": [
       "recommendations finished on 27000/43154 queries. users per second: 5529.6"
      ]
     },
     "metadata": {},
     "output_type": "display_data"
    },
    {
     "data": {
      "text/html": [
       "<pre>recommendations finished on 28000/43154 queries. users per second: 5574.13</pre>"
      ],
      "text/plain": [
       "recommendations finished on 28000/43154 queries. users per second: 5574.13"
      ]
     },
     "metadata": {},
     "output_type": "display_data"
    },
    {
     "data": {
      "text/html": [
       "<pre>recommendations finished on 29000/43154 queries. users per second: 5616.23</pre>"
      ],
      "text/plain": [
       "recommendations finished on 29000/43154 queries. users per second: 5616.23"
      ]
     },
     "metadata": {},
     "output_type": "display_data"
    },
    {
     "data": {
      "text/html": [
       "<pre>recommendations finished on 30000/43154 queries. users per second: 5656.1</pre>"
      ],
      "text/plain": [
       "recommendations finished on 30000/43154 queries. users per second: 5656.1"
      ]
     },
     "metadata": {},
     "output_type": "display_data"
    },
    {
     "data": {
      "text/html": [
       "<pre>recommendations finished on 31000/43154 queries. users per second: 5726.73</pre>"
      ],
      "text/plain": [
       "recommendations finished on 31000/43154 queries. users per second: 5726.73"
      ]
     },
     "metadata": {},
     "output_type": "display_data"
    },
    {
     "data": {
      "text/html": [
       "<pre>recommendations finished on 32000/43154 queries. users per second: 5794.57</pre>"
      ],
      "text/plain": [
       "recommendations finished on 32000/43154 queries. users per second: 5794.57"
      ]
     },
     "metadata": {},
     "output_type": "display_data"
    },
    {
     "data": {
      "text/html": [
       "<pre>recommendations finished on 33000/43154 queries. users per second: 5748.32</pre>"
      ],
      "text/plain": [
       "recommendations finished on 33000/43154 queries. users per second: 5748.32"
      ]
     },
     "metadata": {},
     "output_type": "display_data"
    },
    {
     "data": {
      "text/html": [
       "<pre>recommendations finished on 34000/43154 queries. users per second: 5781.12</pre>"
      ],
      "text/plain": [
       "recommendations finished on 34000/43154 queries. users per second: 5781.12"
      ]
     },
     "metadata": {},
     "output_type": "display_data"
    },
    {
     "data": {
      "text/html": [
       "<pre>recommendations finished on 35000/43154 queries. users per second: 5857.93</pre>"
      ],
      "text/plain": [
       "recommendations finished on 35000/43154 queries. users per second: 5857.93"
      ]
     },
     "metadata": {},
     "output_type": "display_data"
    },
    {
     "data": {
      "text/html": [
       "<pre>recommendations finished on 36000/43154 queries. users per second: 5902.02</pre>"
      ],
      "text/plain": [
       "recommendations finished on 36000/43154 queries. users per second: 5902.02"
      ]
     },
     "metadata": {},
     "output_type": "display_data"
    },
    {
     "data": {
      "text/html": [
       "<pre>recommendations finished on 37000/43154 queries. users per second: 5974.28</pre>"
      ],
      "text/plain": [
       "recommendations finished on 37000/43154 queries. users per second: 5974.28"
      ]
     },
     "metadata": {},
     "output_type": "display_data"
    },
    {
     "data": {
      "text/html": [
       "<pre>recommendations finished on 38000/43154 queries. users per second: 6029.44</pre>"
      ],
      "text/plain": [
       "recommendations finished on 38000/43154 queries. users per second: 6029.44"
      ]
     },
     "metadata": {},
     "output_type": "display_data"
    },
    {
     "data": {
      "text/html": [
       "<pre>recommendations finished on 39000/43154 queries. users per second: 6097.55</pre>"
      ],
      "text/plain": [
       "recommendations finished on 39000/43154 queries. users per second: 6097.55"
      ]
     },
     "metadata": {},
     "output_type": "display_data"
    },
    {
     "data": {
      "text/html": [
       "<pre>recommendations finished on 40000/43154 queries. users per second: 6134.21</pre>"
      ],
      "text/plain": [
       "recommendations finished on 40000/43154 queries. users per second: 6134.21"
      ]
     },
     "metadata": {},
     "output_type": "display_data"
    },
    {
     "data": {
      "text/html": [
       "<pre>recommendations finished on 41000/43154 queries. users per second: 6126.34</pre>"
      ],
      "text/plain": [
       "recommendations finished on 41000/43154 queries. users per second: 6126.34"
      ]
     },
     "metadata": {},
     "output_type": "display_data"
    },
    {
     "data": {
      "text/html": [
       "<pre>recommendations finished on 42000/43154 queries. users per second: 6023.05</pre>"
      ],
      "text/plain": [
       "recommendations finished on 42000/43154 queries. users per second: 6023.05"
      ]
     },
     "metadata": {},
     "output_type": "display_data"
    },
    {
     "data": {
      "text/html": [
       "<pre>recommendations finished on 43000/43154 queries. users per second: 5902.37</pre>"
      ],
      "text/plain": [
       "recommendations finished on 43000/43154 queries. users per second: 5902.37"
      ]
     },
     "metadata": {},
     "output_type": "display_data"
    },
    {
     "name": "stdout",
     "output_type": "stream",
     "text": [
      "\n",
      "Precision and recall summary statistics by cutoff\n",
      "+--------+-------------------+-------------------+\n",
      "| cutoff |   mean_precision  |    mean_recall    |\n",
      "+--------+-------------------+-------------------+\n",
      "|   1    | 0.000556147749919 | 0.000260796244946 |\n",
      "|   2    | 0.000463456458266 | 0.000325719042232 |\n",
      "|   3    | 0.000556147749919 | 0.000429412847955 |\n",
      "|   4    | 0.000573527367104 | 0.000527464268452 |\n",
      "|   5    | 0.000611762524911 |  0.00059680678326 |\n",
      "|   6    | 0.000633390492963 | 0.000763042053942 |\n",
      "|   7    | 0.000625666218659 | 0.000880090725465 |\n",
      "|   8    | 0.000593803587153 |  0.00098854584385 |\n",
      "|   9    | 0.000581895330934 |  0.00110716987914 |\n",
      "|   10   | 0.000577003290541 |  0.00126929687946 |\n",
      "+--------+-------------------+-------------------+\n",
      "[10 rows x 3 columns]\n",
      "\n",
      "PROGRESS: Evaluate model M3\n"
     ]
    },
    {
     "data": {
      "text/html": [
       "<pre>recommendations finished on 1000/43154 queries. users per second: 126.685</pre>"
      ],
      "text/plain": [
       "recommendations finished on 1000/43154 queries. users per second: 126.685"
      ]
     },
     "metadata": {},
     "output_type": "display_data"
    },
    {
     "data": {
      "text/html": [
       "<pre>recommendations finished on 2000/43154 queries. users per second: 129.894</pre>"
      ],
      "text/plain": [
       "recommendations finished on 2000/43154 queries. users per second: 129.894"
      ]
     },
     "metadata": {},
     "output_type": "display_data"
    },
    {
     "data": {
      "text/html": [
       "<pre>recommendations finished on 3000/43154 queries. users per second: 132.443</pre>"
      ],
      "text/plain": [
       "recommendations finished on 3000/43154 queries. users per second: 132.443"
      ]
     },
     "metadata": {},
     "output_type": "display_data"
    },
    {
     "data": {
      "text/html": [
       "<pre>recommendations finished on 4000/43154 queries. users per second: 136.679</pre>"
      ],
      "text/plain": [
       "recommendations finished on 4000/43154 queries. users per second: 136.679"
      ]
     },
     "metadata": {},
     "output_type": "display_data"
    },
    {
     "data": {
      "text/html": [
       "<pre>recommendations finished on 5000/43154 queries. users per second: 139.353</pre>"
      ],
      "text/plain": [
       "recommendations finished on 5000/43154 queries. users per second: 139.353"
      ]
     },
     "metadata": {},
     "output_type": "display_data"
    },
    {
     "data": {
      "text/html": [
       "<pre>recommendations finished on 6000/43154 queries. users per second: 141.402</pre>"
      ],
      "text/plain": [
       "recommendations finished on 6000/43154 queries. users per second: 141.402"
      ]
     },
     "metadata": {},
     "output_type": "display_data"
    },
    {
     "data": {
      "text/html": [
       "<pre>recommendations finished on 7000/43154 queries. users per second: 142.089</pre>"
      ],
      "text/plain": [
       "recommendations finished on 7000/43154 queries. users per second: 142.089"
      ]
     },
     "metadata": {},
     "output_type": "display_data"
    },
    {
     "data": {
      "text/html": [
       "<pre>recommendations finished on 8000/43154 queries. users per second: 141.898</pre>"
      ],
      "text/plain": [
       "recommendations finished on 8000/43154 queries. users per second: 141.898"
      ]
     },
     "metadata": {},
     "output_type": "display_data"
    },
    {
     "data": {
      "text/html": [
       "<pre>recommendations finished on 9000/43154 queries. users per second: 143.263</pre>"
      ],
      "text/plain": [
       "recommendations finished on 9000/43154 queries. users per second: 143.263"
      ]
     },
     "metadata": {},
     "output_type": "display_data"
    },
    {
     "data": {
      "text/html": [
       "<pre>recommendations finished on 10000/43154 queries. users per second: 143.054</pre>"
      ],
      "text/plain": [
       "recommendations finished on 10000/43154 queries. users per second: 143.054"
      ]
     },
     "metadata": {},
     "output_type": "display_data"
    },
    {
     "data": {
      "text/html": [
       "<pre>recommendations finished on 11000/43154 queries. users per second: 143.26</pre>"
      ],
      "text/plain": [
       "recommendations finished on 11000/43154 queries. users per second: 143.26"
      ]
     },
     "metadata": {},
     "output_type": "display_data"
    },
    {
     "data": {
      "text/html": [
       "<pre>recommendations finished on 12000/43154 queries. users per second: 143.326</pre>"
      ],
      "text/plain": [
       "recommendations finished on 12000/43154 queries. users per second: 143.326"
      ]
     },
     "metadata": {},
     "output_type": "display_data"
    },
    {
     "data": {
      "text/html": [
       "<pre>recommendations finished on 13000/43154 queries. users per second: 143.628</pre>"
      ],
      "text/plain": [
       "recommendations finished on 13000/43154 queries. users per second: 143.628"
      ]
     },
     "metadata": {},
     "output_type": "display_data"
    },
    {
     "data": {
      "text/html": [
       "<pre>recommendations finished on 14000/43154 queries. users per second: 141.977</pre>"
      ],
      "text/plain": [
       "recommendations finished on 14000/43154 queries. users per second: 141.977"
      ]
     },
     "metadata": {},
     "output_type": "display_data"
    },
    {
     "data": {
      "text/html": [
       "<pre>recommendations finished on 15000/43154 queries. users per second: 142.387</pre>"
      ],
      "text/plain": [
       "recommendations finished on 15000/43154 queries. users per second: 142.387"
      ]
     },
     "metadata": {},
     "output_type": "display_data"
    },
    {
     "data": {
      "text/html": [
       "<pre>recommendations finished on 16000/43154 queries. users per second: 142.787</pre>"
      ],
      "text/plain": [
       "recommendations finished on 16000/43154 queries. users per second: 142.787"
      ]
     },
     "metadata": {},
     "output_type": "display_data"
    },
    {
     "data": {
      "text/html": [
       "<pre>recommendations finished on 17000/43154 queries. users per second: 142.973</pre>"
      ],
      "text/plain": [
       "recommendations finished on 17000/43154 queries. users per second: 142.973"
      ]
     },
     "metadata": {},
     "output_type": "display_data"
    },
    {
     "data": {
      "text/html": [
       "<pre>recommendations finished on 18000/43154 queries. users per second: 143.299</pre>"
      ],
      "text/plain": [
       "recommendations finished on 18000/43154 queries. users per second: 143.299"
      ]
     },
     "metadata": {},
     "output_type": "display_data"
    },
    {
     "data": {
      "text/html": [
       "<pre>recommendations finished on 19000/43154 queries. users per second: 143.592</pre>"
      ],
      "text/plain": [
       "recommendations finished on 19000/43154 queries. users per second: 143.592"
      ]
     },
     "metadata": {},
     "output_type": "display_data"
    },
    {
     "data": {
      "text/html": [
       "<pre>recommendations finished on 20000/43154 queries. users per second: 143.776</pre>"
      ],
      "text/plain": [
       "recommendations finished on 20000/43154 queries. users per second: 143.776"
      ]
     },
     "metadata": {},
     "output_type": "display_data"
    },
    {
     "data": {
      "text/html": [
       "<pre>recommendations finished on 21000/43154 queries. users per second: 143.727</pre>"
      ],
      "text/plain": [
       "recommendations finished on 21000/43154 queries. users per second: 143.727"
      ]
     },
     "metadata": {},
     "output_type": "display_data"
    },
    {
     "data": {
      "text/html": [
       "<pre>recommendations finished on 22000/43154 queries. users per second: 143.992</pre>"
      ],
      "text/plain": [
       "recommendations finished on 22000/43154 queries. users per second: 143.992"
      ]
     },
     "metadata": {},
     "output_type": "display_data"
    },
    {
     "data": {
      "text/html": [
       "<pre>recommendations finished on 23000/43154 queries. users per second: 144.135</pre>"
      ],
      "text/plain": [
       "recommendations finished on 23000/43154 queries. users per second: 144.135"
      ]
     },
     "metadata": {},
     "output_type": "display_data"
    },
    {
     "data": {
      "text/html": [
       "<pre>recommendations finished on 24000/43154 queries. users per second: 144.28</pre>"
      ],
      "text/plain": [
       "recommendations finished on 24000/43154 queries. users per second: 144.28"
      ]
     },
     "metadata": {},
     "output_type": "display_data"
    },
    {
     "data": {
      "text/html": [
       "<pre>recommendations finished on 25000/43154 queries. users per second: 144.453</pre>"
      ],
      "text/plain": [
       "recommendations finished on 25000/43154 queries. users per second: 144.453"
      ]
     },
     "metadata": {},
     "output_type": "display_data"
    },
    {
     "data": {
      "text/html": [
       "<pre>recommendations finished on 26000/43154 queries. users per second: 144.663</pre>"
      ],
      "text/plain": [
       "recommendations finished on 26000/43154 queries. users per second: 144.663"
      ]
     },
     "metadata": {},
     "output_type": "display_data"
    },
    {
     "data": {
      "text/html": [
       "<pre>recommendations finished on 27000/43154 queries. users per second: 144.725</pre>"
      ],
      "text/plain": [
       "recommendations finished on 27000/43154 queries. users per second: 144.725"
      ]
     },
     "metadata": {},
     "output_type": "display_data"
    },
    {
     "data": {
      "text/html": [
       "<pre>recommendations finished on 28000/43154 queries. users per second: 144.806</pre>"
      ],
      "text/plain": [
       "recommendations finished on 28000/43154 queries. users per second: 144.806"
      ]
     },
     "metadata": {},
     "output_type": "display_data"
    },
    {
     "data": {
      "text/html": [
       "<pre>recommendations finished on 29000/43154 queries. users per second: 144.983</pre>"
      ],
      "text/plain": [
       "recommendations finished on 29000/43154 queries. users per second: 144.983"
      ]
     },
     "metadata": {},
     "output_type": "display_data"
    },
    {
     "data": {
      "text/html": [
       "<pre>recommendations finished on 30000/43154 queries. users per second: 145.05</pre>"
      ],
      "text/plain": [
       "recommendations finished on 30000/43154 queries. users per second: 145.05"
      ]
     },
     "metadata": {},
     "output_type": "display_data"
    },
    {
     "data": {
      "text/html": [
       "<pre>recommendations finished on 31000/43154 queries. users per second: 145.113</pre>"
      ],
      "text/plain": [
       "recommendations finished on 31000/43154 queries. users per second: 145.113"
      ]
     },
     "metadata": {},
     "output_type": "display_data"
    },
    {
     "data": {
      "text/html": [
       "<pre>recommendations finished on 32000/43154 queries. users per second: 145.326</pre>"
      ],
      "text/plain": [
       "recommendations finished on 32000/43154 queries. users per second: 145.326"
      ]
     },
     "metadata": {},
     "output_type": "display_data"
    },
    {
     "data": {
      "text/html": [
       "<pre>recommendations finished on 33000/43154 queries. users per second: 145.667</pre>"
      ],
      "text/plain": [
       "recommendations finished on 33000/43154 queries. users per second: 145.667"
      ]
     },
     "metadata": {},
     "output_type": "display_data"
    },
    {
     "data": {
      "text/html": [
       "<pre>recommendations finished on 34000/43154 queries. users per second: 145.785</pre>"
      ],
      "text/plain": [
       "recommendations finished on 34000/43154 queries. users per second: 145.785"
      ]
     },
     "metadata": {},
     "output_type": "display_data"
    },
    {
     "data": {
      "text/html": [
       "<pre>recommendations finished on 35000/43154 queries. users per second: 145.877</pre>"
      ],
      "text/plain": [
       "recommendations finished on 35000/43154 queries. users per second: 145.877"
      ]
     },
     "metadata": {},
     "output_type": "display_data"
    },
    {
     "data": {
      "text/html": [
       "<pre>recommendations finished on 36000/43154 queries. users per second: 145.918</pre>"
      ],
      "text/plain": [
       "recommendations finished on 36000/43154 queries. users per second: 145.918"
      ]
     },
     "metadata": {},
     "output_type": "display_data"
    },
    {
     "data": {
      "text/html": [
       "<pre>recommendations finished on 37000/43154 queries. users per second: 145.339</pre>"
      ],
      "text/plain": [
       "recommendations finished on 37000/43154 queries. users per second: 145.339"
      ]
     },
     "metadata": {},
     "output_type": "display_data"
    },
    {
     "data": {
      "text/html": [
       "<pre>recommendations finished on 38000/43154 queries. users per second: 143.338</pre>"
      ],
      "text/plain": [
       "recommendations finished on 38000/43154 queries. users per second: 143.338"
      ]
     },
     "metadata": {},
     "output_type": "display_data"
    },
    {
     "data": {
      "text/html": [
       "<pre>recommendations finished on 39000/43154 queries. users per second: 141.547</pre>"
      ],
      "text/plain": [
       "recommendations finished on 39000/43154 queries. users per second: 141.547"
      ]
     },
     "metadata": {},
     "output_type": "display_data"
    },
    {
     "data": {
      "text/html": [
       "<pre>recommendations finished on 40000/43154 queries. users per second: 139.84</pre>"
      ],
      "text/plain": [
       "recommendations finished on 40000/43154 queries. users per second: 139.84"
      ]
     },
     "metadata": {},
     "output_type": "display_data"
    },
    {
     "data": {
      "text/html": [
       "<pre>recommendations finished on 41000/43154 queries. users per second: 137.573</pre>"
      ],
      "text/plain": [
       "recommendations finished on 41000/43154 queries. users per second: 137.573"
      ]
     },
     "metadata": {},
     "output_type": "display_data"
    },
    {
     "data": {
      "text/html": [
       "<pre>recommendations finished on 42000/43154 queries. users per second: 133.733</pre>"
      ],
      "text/plain": [
       "recommendations finished on 42000/43154 queries. users per second: 133.733"
      ]
     },
     "metadata": {},
     "output_type": "display_data"
    },
    {
     "data": {
      "text/html": [
       "<pre>recommendations finished on 43000/43154 queries. users per second: 130.271</pre>"
      ],
      "text/plain": [
       "recommendations finished on 43000/43154 queries. users per second: 130.271"
      ]
     },
     "metadata": {},
     "output_type": "display_data"
    },
    {
     "name": "stdout",
     "output_type": "stream",
     "text": [
      "\n",
      "Precision and recall summary statistics by cutoff\n",
      "+--------+-----------------+------------------+\n",
      "| cutoff |  mean_precision |   mean_recall    |\n",
      "+--------+-----------------+------------------+\n",
      "|   1    |  0.028595263475 | 0.00824048853949 |\n",
      "|   2    |  0.026590814293 |  0.014363801424  |\n",
      "|   3    | 0.0251656856838 |  0.019351202458  |\n",
      "|   4    | 0.0242851184131 | 0.0238721467651  |\n",
      "|   5    |  0.023242341382 | 0.0278582179804  |\n",
      "|   6    | 0.0222922556426 | 0.0311842533386  |\n",
      "|   7    | 0.0215507253094 | 0.0344702117112  |\n",
      "|   8    | 0.0209887843537 | 0.0377191445752  |\n",
      "|   9    |  0.020500224004 | 0.0406526342237  |\n",
      "|   10   | 0.0198730129304 | 0.0433705384134  |\n",
      "+--------+-----------------+------------------+\n",
      "[10 rows x 3 columns]\n",
      "\n",
      "Model compare metric: precision_recall\n"
     ]
    }
   ],
   "source": [
    "model_performance = graphlab.compare(test_data, [Context_based,Collaborative,popularity,Matrix_factorization])"
   ]
  },
  {
   "cell_type": "code",
   "execution_count": 8,
   "metadata": {
    "collapsed": false
   },
   "outputs": [
    {
     "name": "stdout",
     "output_type": "stream",
     "text": [
      "Canvas is updated and available in a tab in the default browser.\n"
     ]
    }
   ],
   "source": [
    "graphlab.show_comparison(model_performance,[Context_based,Collaborative,popularity,Matrix_factorization])"
   ]
  },
  {
   "cell_type": "code",
   "execution_count": null,
   "metadata": {
    "collapsed": true
   },
   "outputs": [],
   "source": []
  },
  {
   "cell_type": "code",
   "execution_count": null,
   "metadata": {
    "collapsed": true
   },
   "outputs": [],
   "source": []
  },
  {
   "cell_type": "code",
   "execution_count": null,
   "metadata": {
    "collapsed": true
   },
   "outputs": [],
   "source": []
  }
 ],
 "metadata": {
  "kernelspec": {
   "display_name": "Python 2",
   "language": "python",
   "name": "python2"
  },
  "language_info": {
   "codemirror_mode": {
    "name": "ipython",
    "version": 2
   },
   "file_extension": ".py",
   "mimetype": "text/x-python",
   "name": "python",
   "nbconvert_exporter": "python",
   "pygments_lexer": "ipython2",
   "version": "2.7.13"
  }
 },
 "nbformat": 4,
 "nbformat_minor": 0
}
