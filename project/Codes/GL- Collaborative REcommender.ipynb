{
 "cells": [
  {
   "cell_type": "code",
   "execution_count": 1,
   "metadata": {
    "collapsed": true
   },
   "outputs": [],
   "source": [
    "import graphlab\n",
    "import csv\n",
    "import pandas as pd"
   ]
  },
  {
   "cell_type": "code",
   "execution_count": 2,
   "metadata": {
    "collapsed": true
   },
   "outputs": [],
   "source": [
    "train_csv_data= pd.read_csv('/home/kanika/Documents/3rdsem/Machine Learning/project/DATA/training_data.csv', sep=',')\n",
    "test_csv_data=pd.read_csv('/home/kanika/Documents/3rdsem/Machine Learning/project/DATA/test_data.csv', sep=',')"
   ]
  },
  {
   "cell_type": "code",
   "execution_count": 3,
   "metadata": {
    "collapsed": false
   },
   "outputs": [
    {
     "name": "stdout",
     "output_type": "stream",
     "text": [
      "This non-commercial license of GraphLab Create for academic use is assigned to kanika.narang@iiitb.org and will expire on October 13, 2018.\n"
     ]
    },
    {
     "name": "stderr",
     "output_type": "stream",
     "text": [
      "[INFO] graphlab.cython.cy_server: GraphLab Create v2.1 started. Logging: /tmp/graphlab_server_1508072260.log\n"
     ]
    }
   ],
   "source": [
    "train_data = graphlab.SFrame(train_csv_data)\n",
    "test_data= graphlab.SFrame(test_csv_data)"
   ]
  },
  {
   "cell_type": "code",
   "execution_count": 4,
   "metadata": {
    "collapsed": false
   },
   "outputs": [
    {
     "data": {
      "text/html": [
       "<pre>Recsys training: model = item_similarity</pre>"
      ],
      "text/plain": [
       "Recsys training: model = item_similarity"
      ]
     },
     "metadata": {},
     "output_type": "display_data"
    },
    {
     "data": {
      "text/html": [
       "<pre>Warning: Ignoring columns Unnamed: 0;</pre>"
      ],
      "text/plain": [
       "Warning: Ignoring columns Unnamed: 0;"
      ]
     },
     "metadata": {},
     "output_type": "display_data"
    },
    {
     "data": {
      "text/html": [
       "<pre>    To use these columns in scoring predictions, use a model that allows the use of additional features.</pre>"
      ],
      "text/plain": [
       "    To use these columns in scoring predictions, use a model that allows the use of additional features."
      ]
     },
     "metadata": {},
     "output_type": "display_data"
    },
    {
     "data": {
      "text/html": [
       "<pre>Preparing data set.</pre>"
      ],
      "text/plain": [
       "Preparing data set."
      ]
     },
     "metadata": {},
     "output_type": "display_data"
    },
    {
     "data": {
      "text/html": [
       "<pre>    Data has 736317 observations with 52792 users and 10000 items.</pre>"
      ],
      "text/plain": [
       "    Data has 736317 observations with 52792 users and 10000 items."
      ]
     },
     "metadata": {},
     "output_type": "display_data"
    },
    {
     "data": {
      "text/html": [
       "<pre>    Data prepared in: 1.14504s</pre>"
      ],
      "text/plain": [
       "    Data prepared in: 1.14504s"
      ]
     },
     "metadata": {},
     "output_type": "display_data"
    },
    {
     "data": {
      "text/html": [
       "<pre>Training model from provided data.</pre>"
      ],
      "text/plain": [
       "Training model from provided data."
      ]
     },
     "metadata": {},
     "output_type": "display_data"
    },
    {
     "data": {
      "text/html": [
       "<pre>Gathering per-item and per-user statistics.</pre>"
      ],
      "text/plain": [
       "Gathering per-item and per-user statistics."
      ]
     },
     "metadata": {},
     "output_type": "display_data"
    },
    {
     "data": {
      "text/html": [
       "<pre>+--------------------------------+------------+</pre>"
      ],
      "text/plain": [
       "+--------------------------------+------------+"
      ]
     },
     "metadata": {},
     "output_type": "display_data"
    },
    {
     "data": {
      "text/html": [
       "<pre>| Elapsed Time (Item Statistics) | % Complete |</pre>"
      ],
      "text/plain": [
       "| Elapsed Time (Item Statistics) | % Complete |"
      ]
     },
     "metadata": {},
     "output_type": "display_data"
    },
    {
     "data": {
      "text/html": [
       "<pre>+--------------------------------+------------+</pre>"
      ],
      "text/plain": [
       "+--------------------------------+------------+"
      ]
     },
     "metadata": {},
     "output_type": "display_data"
    },
    {
     "data": {
      "text/html": [
       "<pre>| 32.405ms                       | 1.75       |</pre>"
      ],
      "text/plain": [
       "| 32.405ms                       | 1.75       |"
      ]
     },
     "metadata": {},
     "output_type": "display_data"
    },
    {
     "data": {
      "text/html": [
       "<pre>| 68.497ms                       | 100        |</pre>"
      ],
      "text/plain": [
       "| 68.497ms                       | 100        |"
      ]
     },
     "metadata": {},
     "output_type": "display_data"
    },
    {
     "data": {
      "text/html": [
       "<pre>+--------------------------------+------------+</pre>"
      ],
      "text/plain": [
       "+--------------------------------+------------+"
      ]
     },
     "metadata": {},
     "output_type": "display_data"
    },
    {
     "data": {
      "text/html": [
       "<pre>Setting up lookup tables.</pre>"
      ],
      "text/plain": [
       "Setting up lookup tables."
      ]
     },
     "metadata": {},
     "output_type": "display_data"
    },
    {
     "data": {
      "text/html": [
       "<pre>Processing data in one pass using dense lookup tables.</pre>"
      ],
      "text/plain": [
       "Processing data in one pass using dense lookup tables."
      ]
     },
     "metadata": {},
     "output_type": "display_data"
    },
    {
     "data": {
      "text/html": [
       "<pre>+-------------------------------------+------------------+-----------------+</pre>"
      ],
      "text/plain": [
       "+-------------------------------------+------------------+-----------------+"
      ]
     },
     "metadata": {},
     "output_type": "display_data"
    },
    {
     "data": {
      "text/html": [
       "<pre>| Elapsed Time (Constructing Lookups) | Total % Complete | Items Processed |</pre>"
      ],
      "text/plain": [
       "| Elapsed Time (Constructing Lookups) | Total % Complete | Items Processed |"
      ]
     },
     "metadata": {},
     "output_type": "display_data"
    },
    {
     "data": {
      "text/html": [
       "<pre>+-------------------------------------+------------------+-----------------+</pre>"
      ],
      "text/plain": [
       "+-------------------------------------+------------------+-----------------+"
      ]
     },
     "metadata": {},
     "output_type": "display_data"
    },
    {
     "data": {
      "text/html": [
       "<pre>| 14.22s                              | 17               | 1710            |</pre>"
      ],
      "text/plain": [
       "| 14.22s                              | 17               | 1710            |"
      ]
     },
     "metadata": {},
     "output_type": "display_data"
    },
    {
     "data": {
      "text/html": [
       "<pre>| 16.42s                              | 95               | 9509            |</pre>"
      ],
      "text/plain": [
       "| 16.42s                              | 95               | 9509            |"
      ]
     },
     "metadata": {},
     "output_type": "display_data"
    },
    {
     "data": {
      "text/html": [
       "<pre>| 17.84s                              | 100              | 10000           |</pre>"
      ],
      "text/plain": [
       "| 17.84s                              | 100              | 10000           |"
      ]
     },
     "metadata": {},
     "output_type": "display_data"
    },
    {
     "data": {
      "text/html": [
       "<pre>+-------------------------------------+------------------+-----------------+</pre>"
      ],
      "text/plain": [
       "+-------------------------------------+------------------+-----------------+"
      ]
     },
     "metadata": {},
     "output_type": "display_data"
    },
    {
     "data": {
      "text/html": [
       "<pre>Finalizing lookup tables.</pre>"
      ],
      "text/plain": [
       "Finalizing lookup tables."
      ]
     },
     "metadata": {},
     "output_type": "display_data"
    },
    {
     "data": {
      "text/html": [
       "<pre>Generating candidate set for working with new users.</pre>"
      ],
      "text/plain": [
       "Generating candidate set for working with new users."
      ]
     },
     "metadata": {},
     "output_type": "display_data"
    },
    {
     "data": {
      "text/html": [
       "<pre>Finished training in 21.5552s</pre>"
      ],
      "text/plain": [
       "Finished training in 21.5552s"
      ]
     },
     "metadata": {},
     "output_type": "display_data"
    }
   ],
   "source": [
    "item_sim_model = graphlab.item_similarity_recommender.create(train_data, user_id='user_id', item_id='book_id', \n",
    "                                                             target='rating', similarity_type='pearson')\n"
   ]
  },
  {
   "cell_type": "code",
   "execution_count": 5,
   "metadata": {
    "collapsed": false
   },
   "outputs": [
    {
     "data": {
      "text/plain": [
       "Class                            : ItemSimilarityRecommender\n",
       "\n",
       "Schema\n",
       "------\n",
       "User ID                          : user_id\n",
       "Item ID                          : book_id\n",
       "Target                           : rating\n",
       "Additional observation features  : 0\n",
       "User side features               : []\n",
       "Item side features               : []\n",
       "\n",
       "Statistics\n",
       "----------\n",
       "Number of observations           : 736317\n",
       "Number of users                  : 52792\n",
       "Number of items                  : 10000\n",
       "\n",
       "Training summary\n",
       "----------------\n",
       "Training time                    : 21.5925\n",
       "\n",
       "Model Parameters\n",
       "----------------\n",
       "Model class                      : ItemSimilarityRecommender\n",
       "threshold                        : 0.001\n",
       "similarity_type                  : pearson\n",
       "training_method                  : auto\n",
       "\n",
       "Other Settings\n",
       "--------------\n",
       "degree_approximation_threshold   : 4096\n",
       "sparse_density_estimation_sample_size : 4096\n",
       "max_data_passes                  : 4096\n",
       "target_memory_usage              : 8589934592\n",
       "seed_item_set_size               : 50\n",
       "nearest_neighbors_interaction_proportion_threshold : 0.05\n",
       "max_item_neighborhood_size       : 64"
      ]
     },
     "execution_count": 5,
     "metadata": {},
     "output_type": "execute_result"
    }
   ],
   "source": [
    "item_sim_model"
   ]
  },
  {
   "cell_type": "code",
   "execution_count": 13,
   "metadata": {
    "collapsed": false
   },
   "outputs": [
    {
     "data": {
      "text/html": [
       "<pre>recommendations finished on 1000/52792 queries. users per second: 11449</pre>"
      ],
      "text/plain": [
       "recommendations finished on 1000/52792 queries. users per second: 11449"
      ]
     },
     "metadata": {},
     "output_type": "display_data"
    },
    {
     "data": {
      "text/html": [
       "<pre>recommendations finished on 2000/52792 queries. users per second: 12432.3</pre>"
      ],
      "text/plain": [
       "recommendations finished on 2000/52792 queries. users per second: 12432.3"
      ]
     },
     "metadata": {},
     "output_type": "display_data"
    },
    {
     "data": {
      "text/html": [
       "<pre>recommendations finished on 3000/52792 queries. users per second: 12877.2</pre>"
      ],
      "text/plain": [
       "recommendations finished on 3000/52792 queries. users per second: 12877.2"
      ]
     },
     "metadata": {},
     "output_type": "display_data"
    },
    {
     "data": {
      "text/html": [
       "<pre>recommendations finished on 4000/52792 queries. users per second: 13087.4</pre>"
      ],
      "text/plain": [
       "recommendations finished on 4000/52792 queries. users per second: 13087.4"
      ]
     },
     "metadata": {},
     "output_type": "display_data"
    },
    {
     "data": {
      "text/html": [
       "<pre>recommendations finished on 5000/52792 queries. users per second: 13286.8</pre>"
      ],
      "text/plain": [
       "recommendations finished on 5000/52792 queries. users per second: 13286.8"
      ]
     },
     "metadata": {},
     "output_type": "display_data"
    },
    {
     "data": {
      "text/html": [
       "<pre>recommendations finished on 6000/52792 queries. users per second: 13546.1</pre>"
      ],
      "text/plain": [
       "recommendations finished on 6000/52792 queries. users per second: 13546.1"
      ]
     },
     "metadata": {},
     "output_type": "display_data"
    },
    {
     "data": {
      "text/html": [
       "<pre>recommendations finished on 7000/52792 queries. users per second: 13714.6</pre>"
      ],
      "text/plain": [
       "recommendations finished on 7000/52792 queries. users per second: 13714.6"
      ]
     },
     "metadata": {},
     "output_type": "display_data"
    },
    {
     "data": {
      "text/html": [
       "<pre>recommendations finished on 8000/52792 queries. users per second: 13827.7</pre>"
      ],
      "text/plain": [
       "recommendations finished on 8000/52792 queries. users per second: 13827.7"
      ]
     },
     "metadata": {},
     "output_type": "display_data"
    },
    {
     "data": {
      "text/html": [
       "<pre>recommendations finished on 9000/52792 queries. users per second: 13936.3</pre>"
      ],
      "text/plain": [
       "recommendations finished on 9000/52792 queries. users per second: 13936.3"
      ]
     },
     "metadata": {},
     "output_type": "display_data"
    },
    {
     "data": {
      "text/html": [
       "<pre>recommendations finished on 10000/52792 queries. users per second: 14018.8</pre>"
      ],
      "text/plain": [
       "recommendations finished on 10000/52792 queries. users per second: 14018.8"
      ]
     },
     "metadata": {},
     "output_type": "display_data"
    },
    {
     "data": {
      "text/html": [
       "<pre>recommendations finished on 11000/52792 queries. users per second: 14071.3</pre>"
      ],
      "text/plain": [
       "recommendations finished on 11000/52792 queries. users per second: 14071.3"
      ]
     },
     "metadata": {},
     "output_type": "display_data"
    },
    {
     "data": {
      "text/html": [
       "<pre>recommendations finished on 12000/52792 queries. users per second: 14119.2</pre>"
      ],
      "text/plain": [
       "recommendations finished on 12000/52792 queries. users per second: 14119.2"
      ]
     },
     "metadata": {},
     "output_type": "display_data"
    },
    {
     "data": {
      "text/html": [
       "<pre>recommendations finished on 13000/52792 queries. users per second: 14044</pre>"
      ],
      "text/plain": [
       "recommendations finished on 13000/52792 queries. users per second: 14044"
      ]
     },
     "metadata": {},
     "output_type": "display_data"
    },
    {
     "data": {
      "text/html": [
       "<pre>recommendations finished on 14000/52792 queries. users per second: 14081.9</pre>"
      ],
      "text/plain": [
       "recommendations finished on 14000/52792 queries. users per second: 14081.9"
      ]
     },
     "metadata": {},
     "output_type": "display_data"
    },
    {
     "data": {
      "text/html": [
       "<pre>recommendations finished on 15000/52792 queries. users per second: 14123.1</pre>"
      ],
      "text/plain": [
       "recommendations finished on 15000/52792 queries. users per second: 14123.1"
      ]
     },
     "metadata": {},
     "output_type": "display_data"
    },
    {
     "data": {
      "text/html": [
       "<pre>recommendations finished on 16000/52792 queries. users per second: 14166.3</pre>"
      ],
      "text/plain": [
       "recommendations finished on 16000/52792 queries. users per second: 14166.3"
      ]
     },
     "metadata": {},
     "output_type": "display_data"
    },
    {
     "data": {
      "text/html": [
       "<pre>recommendations finished on 17000/52792 queries. users per second: 14147.5</pre>"
      ],
      "text/plain": [
       "recommendations finished on 17000/52792 queries. users per second: 14147.5"
      ]
     },
     "metadata": {},
     "output_type": "display_data"
    },
    {
     "data": {
      "text/html": [
       "<pre>recommendations finished on 18000/52792 queries. users per second: 14159.1</pre>"
      ],
      "text/plain": [
       "recommendations finished on 18000/52792 queries. users per second: 14159.1"
      ]
     },
     "metadata": {},
     "output_type": "display_data"
    },
    {
     "data": {
      "text/html": [
       "<pre>recommendations finished on 19000/52792 queries. users per second: 14192.6</pre>"
      ],
      "text/plain": [
       "recommendations finished on 19000/52792 queries. users per second: 14192.6"
      ]
     },
     "metadata": {},
     "output_type": "display_data"
    },
    {
     "data": {
      "text/html": [
       "<pre>recommendations finished on 20000/52792 queries. users per second: 14200.1</pre>"
      ],
      "text/plain": [
       "recommendations finished on 20000/52792 queries. users per second: 14200.1"
      ]
     },
     "metadata": {},
     "output_type": "display_data"
    },
    {
     "data": {
      "text/html": [
       "<pre>recommendations finished on 21000/52792 queries. users per second: 14202.3</pre>"
      ],
      "text/plain": [
       "recommendations finished on 21000/52792 queries. users per second: 14202.3"
      ]
     },
     "metadata": {},
     "output_type": "display_data"
    },
    {
     "data": {
      "text/html": [
       "<pre>recommendations finished on 22000/52792 queries. users per second: 14232.7</pre>"
      ],
      "text/plain": [
       "recommendations finished on 22000/52792 queries. users per second: 14232.7"
      ]
     },
     "metadata": {},
     "output_type": "display_data"
    },
    {
     "data": {
      "text/html": [
       "<pre>recommendations finished on 23000/52792 queries. users per second: 14248.5</pre>"
      ],
      "text/plain": [
       "recommendations finished on 23000/52792 queries. users per second: 14248.5"
      ]
     },
     "metadata": {},
     "output_type": "display_data"
    },
    {
     "data": {
      "text/html": [
       "<pre>recommendations finished on 24000/52792 queries. users per second: 14238.2</pre>"
      ],
      "text/plain": [
       "recommendations finished on 24000/52792 queries. users per second: 14238.2"
      ]
     },
     "metadata": {},
     "output_type": "display_data"
    },
    {
     "data": {
      "text/html": [
       "<pre>recommendations finished on 25000/52792 queries. users per second: 14107.2</pre>"
      ],
      "text/plain": [
       "recommendations finished on 25000/52792 queries. users per second: 14107.2"
      ]
     },
     "metadata": {},
     "output_type": "display_data"
    },
    {
     "data": {
      "text/html": [
       "<pre>recommendations finished on 26000/52792 queries. users per second: 14131.5</pre>"
      ],
      "text/plain": [
       "recommendations finished on 26000/52792 queries. users per second: 14131.5"
      ]
     },
     "metadata": {},
     "output_type": "display_data"
    },
    {
     "data": {
      "text/html": [
       "<pre>recommendations finished on 27000/52792 queries. users per second: 14116.5</pre>"
      ],
      "text/plain": [
       "recommendations finished on 27000/52792 queries. users per second: 14116.5"
      ]
     },
     "metadata": {},
     "output_type": "display_data"
    },
    {
     "data": {
      "text/html": [
       "<pre>recommendations finished on 28000/52792 queries. users per second: 14194.1</pre>"
      ],
      "text/plain": [
       "recommendations finished on 28000/52792 queries. users per second: 14194.1"
      ]
     },
     "metadata": {},
     "output_type": "display_data"
    },
    {
     "data": {
      "text/html": [
       "<pre>recommendations finished on 29000/52792 queries. users per second: 14219.1</pre>"
      ],
      "text/plain": [
       "recommendations finished on 29000/52792 queries. users per second: 14219.1"
      ]
     },
     "metadata": {},
     "output_type": "display_data"
    },
    {
     "data": {
      "text/html": [
       "<pre>recommendations finished on 30000/52792 queries. users per second: 14214.8</pre>"
      ],
      "text/plain": [
       "recommendations finished on 30000/52792 queries. users per second: 14214.8"
      ]
     },
     "metadata": {},
     "output_type": "display_data"
    },
    {
     "data": {
      "text/html": [
       "<pre>recommendations finished on 31000/52792 queries. users per second: 14220.3</pre>"
      ],
      "text/plain": [
       "recommendations finished on 31000/52792 queries. users per second: 14220.3"
      ]
     },
     "metadata": {},
     "output_type": "display_data"
    },
    {
     "data": {
      "text/html": [
       "<pre>recommendations finished on 32000/52792 queries. users per second: 14214.9</pre>"
      ],
      "text/plain": [
       "recommendations finished on 32000/52792 queries. users per second: 14214.9"
      ]
     },
     "metadata": {},
     "output_type": "display_data"
    },
    {
     "data": {
      "text/html": [
       "<pre>recommendations finished on 33000/52792 queries. users per second: 14275.1</pre>"
      ],
      "text/plain": [
       "recommendations finished on 33000/52792 queries. users per second: 14275.1"
      ]
     },
     "metadata": {},
     "output_type": "display_data"
    },
    {
     "data": {
      "text/html": [
       "<pre>recommendations finished on 34000/52792 queries. users per second: 14162</pre>"
      ],
      "text/plain": [
       "recommendations finished on 34000/52792 queries. users per second: 14162"
      ]
     },
     "metadata": {},
     "output_type": "display_data"
    },
    {
     "data": {
      "text/html": [
       "<pre>recommendations finished on 35000/52792 queries. users per second: 14097.5</pre>"
      ],
      "text/plain": [
       "recommendations finished on 35000/52792 queries. users per second: 14097.5"
      ]
     },
     "metadata": {},
     "output_type": "display_data"
    },
    {
     "data": {
      "text/html": [
       "<pre>recommendations finished on 36000/52792 queries. users per second: 13980.8</pre>"
      ],
      "text/plain": [
       "recommendations finished on 36000/52792 queries. users per second: 13980.8"
      ]
     },
     "metadata": {},
     "output_type": "display_data"
    },
    {
     "data": {
      "text/html": [
       "<pre>recommendations finished on 37000/52792 queries. users per second: 13921</pre>"
      ],
      "text/plain": [
       "recommendations finished on 37000/52792 queries. users per second: 13921"
      ]
     },
     "metadata": {},
     "output_type": "display_data"
    },
    {
     "data": {
      "text/html": [
       "<pre>recommendations finished on 38000/52792 queries. users per second: 13881.8</pre>"
      ],
      "text/plain": [
       "recommendations finished on 38000/52792 queries. users per second: 13881.8"
      ]
     },
     "metadata": {},
     "output_type": "display_data"
    },
    {
     "data": {
      "text/html": [
       "<pre>recommendations finished on 39000/52792 queries. users per second: 13856.6</pre>"
      ],
      "text/plain": [
       "recommendations finished on 39000/52792 queries. users per second: 13856.6"
      ]
     },
     "metadata": {},
     "output_type": "display_data"
    },
    {
     "data": {
      "text/html": [
       "<pre>recommendations finished on 40000/52792 queries. users per second: 13754</pre>"
      ],
      "text/plain": [
       "recommendations finished on 40000/52792 queries. users per second: 13754"
      ]
     },
     "metadata": {},
     "output_type": "display_data"
    },
    {
     "data": {
      "text/html": [
       "<pre>recommendations finished on 41000/52792 queries. users per second: 13723.9</pre>"
      ],
      "text/plain": [
       "recommendations finished on 41000/52792 queries. users per second: 13723.9"
      ]
     },
     "metadata": {},
     "output_type": "display_data"
    },
    {
     "data": {
      "text/html": [
       "<pre>recommendations finished on 42000/52792 queries. users per second: 13752.5</pre>"
      ],
      "text/plain": [
       "recommendations finished on 42000/52792 queries. users per second: 13752.5"
      ]
     },
     "metadata": {},
     "output_type": "display_data"
    },
    {
     "data": {
      "text/html": [
       "<pre>recommendations finished on 43000/52792 queries. users per second: 13756.8</pre>"
      ],
      "text/plain": [
       "recommendations finished on 43000/52792 queries. users per second: 13756.8"
      ]
     },
     "metadata": {},
     "output_type": "display_data"
    },
    {
     "data": {
      "text/html": [
       "<pre>recommendations finished on 44000/52792 queries. users per second: 13736.2</pre>"
      ],
      "text/plain": [
       "recommendations finished on 44000/52792 queries. users per second: 13736.2"
      ]
     },
     "metadata": {},
     "output_type": "display_data"
    },
    {
     "data": {
      "text/html": [
       "<pre>recommendations finished on 45000/52792 queries. users per second: 13719.3</pre>"
      ],
      "text/plain": [
       "recommendations finished on 45000/52792 queries. users per second: 13719.3"
      ]
     },
     "metadata": {},
     "output_type": "display_data"
    },
    {
     "data": {
      "text/html": [
       "<pre>recommendations finished on 46000/52792 queries. users per second: 13705.6</pre>"
      ],
      "text/plain": [
       "recommendations finished on 46000/52792 queries. users per second: 13705.6"
      ]
     },
     "metadata": {},
     "output_type": "display_data"
    },
    {
     "data": {
      "text/html": [
       "<pre>recommendations finished on 47000/52792 queries. users per second: 13710.3</pre>"
      ],
      "text/plain": [
       "recommendations finished on 47000/52792 queries. users per second: 13710.3"
      ]
     },
     "metadata": {},
     "output_type": "display_data"
    },
    {
     "data": {
      "text/html": [
       "<pre>recommendations finished on 48000/52792 queries. users per second: 13642.4</pre>"
      ],
      "text/plain": [
       "recommendations finished on 48000/52792 queries. users per second: 13642.4"
      ]
     },
     "metadata": {},
     "output_type": "display_data"
    },
    {
     "data": {
      "text/html": [
       "<pre>recommendations finished on 49000/52792 queries. users per second: 13577.3</pre>"
      ],
      "text/plain": [
       "recommendations finished on 49000/52792 queries. users per second: 13577.3"
      ]
     },
     "metadata": {},
     "output_type": "display_data"
    },
    {
     "data": {
      "text/html": [
       "<pre>recommendations finished on 50000/52792 queries. users per second: 13473.4</pre>"
      ],
      "text/plain": [
       "recommendations finished on 50000/52792 queries. users per second: 13473.4"
      ]
     },
     "metadata": {},
     "output_type": "display_data"
    },
    {
     "data": {
      "text/html": [
       "<pre>recommendations finished on 51000/52792 queries. users per second: 13405.4</pre>"
      ],
      "text/plain": [
       "recommendations finished on 51000/52792 queries. users per second: 13405.4"
      ]
     },
     "metadata": {},
     "output_type": "display_data"
    },
    {
     "data": {
      "text/html": [
       "<pre>recommendations finished on 52000/52792 queries. users per second: 13372.8</pre>"
      ],
      "text/plain": [
       "recommendations finished on 52000/52792 queries. users per second: 13372.8"
      ]
     },
     "metadata": {},
     "output_type": "display_data"
    },
    {
     "name": "stdout",
     "output_type": "stream",
     "text": [
      "+---------+---------+---------------+------+\n",
      "| user_id | book_id |     score     | rank |\n",
      "+---------+---------+---------------+------+\n",
      "|  20090  |   7947  | 4.84126984127 |  1   |\n",
      "|  37939  |   7947  | 4.84126984127 |  1   |\n",
      "|  10588  |   7947  | 4.84126984127 |  1   |\n",
      "|  19618  |   7947  | 4.84126984127 |  1   |\n",
      "|   1713  |   7947  | 4.84126984127 |  1   |\n",
      "|  19059  |   7947  | 4.84126984127 |  1   |\n",
      "|  23392  |   7947  | 4.84126984127 |  1   |\n",
      "|  27739  |   7947  | 4.84126984127 |  1   |\n",
      "|  30561  |   7947  | 4.84126984127 |  1   |\n",
      "|  42933  |   7947  | 4.84126984127 |  1   |\n",
      "|  38769  |   7947  | 4.84126984127 |  1   |\n",
      "|   7456  |   7947  | 4.84126984127 |  1   |\n",
      "|  51106  |   7947  | 4.84126984127 |  1   |\n",
      "|  25047  |   7947  | 4.84126984127 |  1   |\n",
      "|  12225  |   7947  | 4.84126984127 |  1   |\n",
      "|   9340  |   7947  | 4.84126984127 |  1   |\n",
      "|  25549  |   7947  | 4.84126984127 |  1   |\n",
      "|  51151  |   7947  | 4.84126984127 |  1   |\n",
      "|  27025  |   7947  | 4.84126984127 |  1   |\n",
      "|  24841  |   7947  | 4.84126984127 |  1   |\n",
      "|  13990  |   7947  | 4.84126984127 |  1   |\n",
      "|  47612  |   7947  | 4.84126984127 |  1   |\n",
      "|  41036  |   7947  | 4.84126984127 |  1   |\n",
      "|  43749  |   7947  | 4.84126984127 |  1   |\n",
      "|  17924  |   7947  | 4.84126984127 |  1   |\n",
      "+---------+---------+---------------+------+\n",
      "[52792 rows x 4 columns]\n",
      "\n"
     ]
    }
   ],
   "source": [
    "#Make Recommendations:\n",
    "item_sim_recomm = item_sim_model.recommend(k=1)\n",
    "item_sim_recomm.print_rows(num_rows=25)"
   ]
  },
  {
   "cell_type": "code",
   "execution_count": 14,
   "metadata": {
    "collapsed": false
   },
   "outputs": [
    {
     "name": "stdout",
     "output_type": "stream",
     "text": [
      "PROGRESS: Evaluate model M0\n"
     ]
    },
    {
     "data": {
      "text/html": [
       "<pre>recommendations finished on 1000/43154 queries. users per second: 5936.48</pre>"
      ],
      "text/plain": [
       "recommendations finished on 1000/43154 queries. users per second: 5936.48"
      ]
     },
     "metadata": {},
     "output_type": "display_data"
    },
    {
     "data": {
      "text/html": [
       "<pre>recommendations finished on 2000/43154 queries. users per second: 5792.37</pre>"
      ],
      "text/plain": [
       "recommendations finished on 2000/43154 queries. users per second: 5792.37"
      ]
     },
     "metadata": {},
     "output_type": "display_data"
    },
    {
     "data": {
      "text/html": [
       "<pre>recommendations finished on 3000/43154 queries. users per second: 5496.58</pre>"
      ],
      "text/plain": [
       "recommendations finished on 3000/43154 queries. users per second: 5496.58"
      ]
     },
     "metadata": {},
     "output_type": "display_data"
    },
    {
     "data": {
      "text/html": [
       "<pre>recommendations finished on 4000/43154 queries. users per second: 5480.56</pre>"
      ],
      "text/plain": [
       "recommendations finished on 4000/43154 queries. users per second: 5480.56"
      ]
     },
     "metadata": {},
     "output_type": "display_data"
    },
    {
     "data": {
      "text/html": [
       "<pre>recommendations finished on 5000/43154 queries. users per second: 5541.63</pre>"
      ],
      "text/plain": [
       "recommendations finished on 5000/43154 queries. users per second: 5541.63"
      ]
     },
     "metadata": {},
     "output_type": "display_data"
    },
    {
     "data": {
      "text/html": [
       "<pre>recommendations finished on 6000/43154 queries. users per second: 5581.51</pre>"
      ],
      "text/plain": [
       "recommendations finished on 6000/43154 queries. users per second: 5581.51"
      ]
     },
     "metadata": {},
     "output_type": "display_data"
    },
    {
     "data": {
      "text/html": [
       "<pre>recommendations finished on 7000/43154 queries. users per second: 5597.55</pre>"
      ],
      "text/plain": [
       "recommendations finished on 7000/43154 queries. users per second: 5597.55"
      ]
     },
     "metadata": {},
     "output_type": "display_data"
    },
    {
     "data": {
      "text/html": [
       "<pre>recommendations finished on 8000/43154 queries. users per second: 5574.48</pre>"
      ],
      "text/plain": [
       "recommendations finished on 8000/43154 queries. users per second: 5574.48"
      ]
     },
     "metadata": {},
     "output_type": "display_data"
    },
    {
     "data": {
      "text/html": [
       "<pre>recommendations finished on 9000/43154 queries. users per second: 5619.85</pre>"
      ],
      "text/plain": [
       "recommendations finished on 9000/43154 queries. users per second: 5619.85"
      ]
     },
     "metadata": {},
     "output_type": "display_data"
    },
    {
     "data": {
      "text/html": [
       "<pre>recommendations finished on 10000/43154 queries. users per second: 5597.37</pre>"
      ],
      "text/plain": [
       "recommendations finished on 10000/43154 queries. users per second: 5597.37"
      ]
     },
     "metadata": {},
     "output_type": "display_data"
    },
    {
     "data": {
      "text/html": [
       "<pre>recommendations finished on 11000/43154 queries. users per second: 5479.66</pre>"
      ],
      "text/plain": [
       "recommendations finished on 11000/43154 queries. users per second: 5479.66"
      ]
     },
     "metadata": {},
     "output_type": "display_data"
    },
    {
     "data": {
      "text/html": [
       "<pre>recommendations finished on 12000/43154 queries. users per second: 5337.83</pre>"
      ],
      "text/plain": [
       "recommendations finished on 12000/43154 queries. users per second: 5337.83"
      ]
     },
     "metadata": {},
     "output_type": "display_data"
    },
    {
     "data": {
      "text/html": [
       "<pre>recommendations finished on 13000/43154 queries. users per second: 5315.06</pre>"
      ],
      "text/plain": [
       "recommendations finished on 13000/43154 queries. users per second: 5315.06"
      ]
     },
     "metadata": {},
     "output_type": "display_data"
    },
    {
     "data": {
      "text/html": [
       "<pre>recommendations finished on 14000/43154 queries. users per second: 5342.55</pre>"
      ],
      "text/plain": [
       "recommendations finished on 14000/43154 queries. users per second: 5342.55"
      ]
     },
     "metadata": {},
     "output_type": "display_data"
    },
    {
     "data": {
      "text/html": [
       "<pre>recommendations finished on 15000/43154 queries. users per second: 5371.2</pre>"
      ],
      "text/plain": [
       "recommendations finished on 15000/43154 queries. users per second: 5371.2"
      ]
     },
     "metadata": {},
     "output_type": "display_data"
    },
    {
     "data": {
      "text/html": [
       "<pre>recommendations finished on 16000/43154 queries. users per second: 5279.74</pre>"
      ],
      "text/plain": [
       "recommendations finished on 16000/43154 queries. users per second: 5279.74"
      ]
     },
     "metadata": {},
     "output_type": "display_data"
    },
    {
     "data": {
      "text/html": [
       "<pre>recommendations finished on 17000/43154 queries. users per second: 5262.3</pre>"
      ],
      "text/plain": [
       "recommendations finished on 17000/43154 queries. users per second: 5262.3"
      ]
     },
     "metadata": {},
     "output_type": "display_data"
    },
    {
     "data": {
      "text/html": [
       "<pre>recommendations finished on 18000/43154 queries. users per second: 5183.41</pre>"
      ],
      "text/plain": [
       "recommendations finished on 18000/43154 queries. users per second: 5183.41"
      ]
     },
     "metadata": {},
     "output_type": "display_data"
    },
    {
     "data": {
      "text/html": [
       "<pre>recommendations finished on 19000/43154 queries. users per second: 5156.32</pre>"
      ],
      "text/plain": [
       "recommendations finished on 19000/43154 queries. users per second: 5156.32"
      ]
     },
     "metadata": {},
     "output_type": "display_data"
    },
    {
     "data": {
      "text/html": [
       "<pre>recommendations finished on 20000/43154 queries. users per second: 5142.97</pre>"
      ],
      "text/plain": [
       "recommendations finished on 20000/43154 queries. users per second: 5142.97"
      ]
     },
     "metadata": {},
     "output_type": "display_data"
    },
    {
     "data": {
      "text/html": [
       "<pre>recommendations finished on 21000/43154 queries. users per second: 5109.13</pre>"
      ],
      "text/plain": [
       "recommendations finished on 21000/43154 queries. users per second: 5109.13"
      ]
     },
     "metadata": {},
     "output_type": "display_data"
    },
    {
     "data": {
      "text/html": [
       "<pre>recommendations finished on 22000/43154 queries. users per second: 5085.86</pre>"
      ],
      "text/plain": [
       "recommendations finished on 22000/43154 queries. users per second: 5085.86"
      ]
     },
     "metadata": {},
     "output_type": "display_data"
    },
    {
     "data": {
      "text/html": [
       "<pre>recommendations finished on 23000/43154 queries. users per second: 5063.12</pre>"
      ],
      "text/plain": [
       "recommendations finished on 23000/43154 queries. users per second: 5063.12"
      ]
     },
     "metadata": {},
     "output_type": "display_data"
    },
    {
     "data": {
      "text/html": [
       "<pre>recommendations finished on 24000/43154 queries. users per second: 5030.58</pre>"
      ],
      "text/plain": [
       "recommendations finished on 24000/43154 queries. users per second: 5030.58"
      ]
     },
     "metadata": {},
     "output_type": "display_data"
    },
    {
     "data": {
      "text/html": [
       "<pre>recommendations finished on 25000/43154 queries. users per second: 4988.93</pre>"
      ],
      "text/plain": [
       "recommendations finished on 25000/43154 queries. users per second: 4988.93"
      ]
     },
     "metadata": {},
     "output_type": "display_data"
    },
    {
     "data": {
      "text/html": [
       "<pre>recommendations finished on 26000/43154 queries. users per second: 4965.97</pre>"
      ],
      "text/plain": [
       "recommendations finished on 26000/43154 queries. users per second: 4965.97"
      ]
     },
     "metadata": {},
     "output_type": "display_data"
    },
    {
     "data": {
      "text/html": [
       "<pre>recommendations finished on 27000/43154 queries. users per second: 4947.33</pre>"
      ],
      "text/plain": [
       "recommendations finished on 27000/43154 queries. users per second: 4947.33"
      ]
     },
     "metadata": {},
     "output_type": "display_data"
    },
    {
     "data": {
      "text/html": [
       "<pre>recommendations finished on 28000/43154 queries. users per second: 4932.91</pre>"
      ],
      "text/plain": [
       "recommendations finished on 28000/43154 queries. users per second: 4932.91"
      ]
     },
     "metadata": {},
     "output_type": "display_data"
    },
    {
     "data": {
      "text/html": [
       "<pre>recommendations finished on 29000/43154 queries. users per second: 4946.76</pre>"
      ],
      "text/plain": [
       "recommendations finished on 29000/43154 queries. users per second: 4946.76"
      ]
     },
     "metadata": {},
     "output_type": "display_data"
    },
    {
     "data": {
      "text/html": [
       "<pre>recommendations finished on 30000/43154 queries. users per second: 4963.09</pre>"
      ],
      "text/plain": [
       "recommendations finished on 30000/43154 queries. users per second: 4963.09"
      ]
     },
     "metadata": {},
     "output_type": "display_data"
    },
    {
     "data": {
      "text/html": [
       "<pre>recommendations finished on 31000/43154 queries. users per second: 4982.36</pre>"
      ],
      "text/plain": [
       "recommendations finished on 31000/43154 queries. users per second: 4982.36"
      ]
     },
     "metadata": {},
     "output_type": "display_data"
    },
    {
     "data": {
      "text/html": [
       "<pre>recommendations finished on 32000/43154 queries. users per second: 4992.25</pre>"
      ],
      "text/plain": [
       "recommendations finished on 32000/43154 queries. users per second: 4992.25"
      ]
     },
     "metadata": {},
     "output_type": "display_data"
    },
    {
     "data": {
      "text/html": [
       "<pre>recommendations finished on 33000/43154 queries. users per second: 5001.56</pre>"
      ],
      "text/plain": [
       "recommendations finished on 33000/43154 queries. users per second: 5001.56"
      ]
     },
     "metadata": {},
     "output_type": "display_data"
    },
    {
     "data": {
      "text/html": [
       "<pre>recommendations finished on 34000/43154 queries. users per second: 5024.94</pre>"
      ],
      "text/plain": [
       "recommendations finished on 34000/43154 queries. users per second: 5024.94"
      ]
     },
     "metadata": {},
     "output_type": "display_data"
    },
    {
     "data": {
      "text/html": [
       "<pre>recommendations finished on 35000/43154 queries. users per second: 5004.83</pre>"
      ],
      "text/plain": [
       "recommendations finished on 35000/43154 queries. users per second: 5004.83"
      ]
     },
     "metadata": {},
     "output_type": "display_data"
    },
    {
     "data": {
      "text/html": [
       "<pre>recommendations finished on 36000/43154 queries. users per second: 4937.74</pre>"
      ],
      "text/plain": [
       "recommendations finished on 36000/43154 queries. users per second: 4937.74"
      ]
     },
     "metadata": {},
     "output_type": "display_data"
    },
    {
     "data": {
      "text/html": [
       "<pre>recommendations finished on 37000/43154 queries. users per second: 4915.01</pre>"
      ],
      "text/plain": [
       "recommendations finished on 37000/43154 queries. users per second: 4915.01"
      ]
     },
     "metadata": {},
     "output_type": "display_data"
    },
    {
     "data": {
      "text/html": [
       "<pre>recommendations finished on 38000/43154 queries. users per second: 4868.88</pre>"
      ],
      "text/plain": [
       "recommendations finished on 38000/43154 queries. users per second: 4868.88"
      ]
     },
     "metadata": {},
     "output_type": "display_data"
    },
    {
     "data": {
      "text/html": [
       "<pre>recommendations finished on 39000/43154 queries. users per second: 4830.76</pre>"
      ],
      "text/plain": [
       "recommendations finished on 39000/43154 queries. users per second: 4830.76"
      ]
     },
     "metadata": {},
     "output_type": "display_data"
    },
    {
     "data": {
      "text/html": [
       "<pre>recommendations finished on 40000/43154 queries. users per second: 4741.42</pre>"
      ],
      "text/plain": [
       "recommendations finished on 40000/43154 queries. users per second: 4741.42"
      ]
     },
     "metadata": {},
     "output_type": "display_data"
    },
    {
     "data": {
      "text/html": [
       "<pre>recommendations finished on 41000/43154 queries. users per second: 4715.07</pre>"
      ],
      "text/plain": [
       "recommendations finished on 41000/43154 queries. users per second: 4715.07"
      ]
     },
     "metadata": {},
     "output_type": "display_data"
    },
    {
     "data": {
      "text/html": [
       "<pre>recommendations finished on 42000/43154 queries. users per second: 4689.68</pre>"
      ],
      "text/plain": [
       "recommendations finished on 42000/43154 queries. users per second: 4689.68"
      ]
     },
     "metadata": {},
     "output_type": "display_data"
    },
    {
     "data": {
      "text/html": [
       "<pre>recommendations finished on 43000/43154 queries. users per second: 4664.35</pre>"
      ],
      "text/plain": [
       "recommendations finished on 43000/43154 queries. users per second: 4664.35"
      ]
     },
     "metadata": {},
     "output_type": "display_data"
    },
    {
     "name": "stdout",
     "output_type": "stream",
     "text": [
      "\n",
      "Precision and recall summary statistics by cutoff\n",
      "+--------+-------------------+-------------------+\n",
      "| cutoff |   mean_precision  |    mean_recall    |\n",
      "+--------+-------------------+-------------------+\n",
      "|   1    | 0.000579320572832 | 0.000283969067859 |\n",
      "|   2    | 0.000718357510312 | 0.000526208190846 |\n",
      "|   3    | 0.000641114767268 | 0.000597499410119 |\n",
      "|   4    | 0.000625666218659 | 0.000703191508878 |\n",
      "|   5    | 0.000667377299903 | 0.000788203265847 |\n",
      "|   6    | 0.000668149727333 |  0.00091931006487 |\n",
      "|   7    | 0.000668701461212 |  0.00107001125458 |\n",
      "|   8    | 0.000663322055893 |  0.00121680021225 |\n",
      "|   9    | 0.000648839041572 |  0.00135025463062 |\n",
      "|   10   |  0.00066274273532 |  0.00150410034211 |\n",
      "+--------+-------------------+-------------------+\n",
      "[10 rows x 3 columns]\n",
      "\n",
      "Model compare metric: precision_recall\n"
     ]
    }
   ],
   "source": [
    "model_performance = graphlab.compare(test_data, [item_sim_model])"
   ]
  },
  {
   "cell_type": "code",
   "execution_count": 15,
   "metadata": {
    "collapsed": false
   },
   "outputs": [
    {
     "name": "stdout",
     "output_type": "stream",
     "text": [
      "Canvas is accessible via web browser at the URL: http://localhost:44703/index.html\n",
      "Opening Canvas in default web browser.\n"
     ]
    }
   ],
   "source": [
    "graphlab.show_comparison(model_performance,[item_sim_model])"
   ]
  },
  {
   "cell_type": "code",
   "execution_count": 16,
   "metadata": {
    "collapsed": false
   },
   "outputs": [
    {
     "ename": "AttributeError",
     "evalue": "'module' object has no attribute 'evaluate'",
     "output_type": "error",
     "traceback": [
      "\u001b[0;31m---------------------------------------------------------------------------\u001b[0m",
      "\u001b[0;31mAttributeError\u001b[0m                            Traceback (most recent call last)",
      "\u001b[0;32m<ipython-input-16-8ef200917aa7>\u001b[0m in \u001b[0;36m<module>\u001b[0;34m()\u001b[0m\n\u001b[0;32m----> 1\u001b[0;31m \u001b[0mgraphlab\u001b[0m\u001b[0;34m.\u001b[0m\u001b[0mitem_similarity_recommender\u001b[0m\u001b[0;34m.\u001b[0m\u001b[0mevaluate\u001b[0m\u001b[0;34m(\u001b[0m\u001b[0mitem_sim_model\u001b[0m\u001b[0;34m)\u001b[0m\u001b[0;34m\u001b[0m\u001b[0m\n\u001b[0m",
      "\u001b[0;31mAttributeError\u001b[0m: 'module' object has no attribute 'evaluate'"
     ]
    }
   ],
   "source": [
    "graphlab.item_similarity_recommender.evalu(item_sim_model)"
   ]
  },
  {
   "cell_type": "code",
   "execution_count": 25,
   "metadata": {
    "collapsed": false
   },
   "outputs": [],
   "source": [
    "ism=graphlab.item_similarity_recommender.ItemSimilarityRecommender(item_sim_model)\n"
   ]
  },
  {
   "cell_type": "code",
   "execution_count": 33,
   "metadata": {
    "collapsed": false
   },
   "outputs": [
    {
     "ename": "TypeError",
     "evalue": "evaluate_rmse() takes exactly 3 arguments (2 given)",
     "output_type": "error",
     "traceback": [
      "\u001b[0;31m---------------------------------------------------------------------------\u001b[0m",
      "\u001b[0;31mTypeError\u001b[0m                                 Traceback (most recent call last)",
      "\u001b[0;32m<ipython-input-33-ca44a9ae8e6a>\u001b[0m in \u001b[0;36m<module>\u001b[0;34m()\u001b[0m\n\u001b[0;32m----> 1\u001b[0;31m \u001b[0mitem_sim_model\u001b[0m\u001b[0;34m.\u001b[0m\u001b[0mevaluate_rmse\u001b[0m\u001b[0;34m(\u001b[0m\u001b[0mtest_data\u001b[0m\u001b[0;34m)\u001b[0m\u001b[0;34m\u001b[0m\u001b[0m\n\u001b[0m",
      "\u001b[0;31mTypeError\u001b[0m: evaluate_rmse() takes exactly 3 arguments (2 given)"
     ]
    }
   ],
   "source": [
    "item_sim_model.evaluate_rmse(test_data)"
   ]
  },
  {
   "cell_type": "code",
   "execution_count": null,
   "metadata": {
    "collapsed": true
   },
   "outputs": [],
   "source": []
  }
 ],
 "metadata": {
  "kernelspec": {
   "display_name": "Python 2",
   "language": "python",
   "name": "python2"
  },
  "language_info": {
   "codemirror_mode": {
    "name": "ipython",
    "version": 2
   },
   "file_extension": ".py",
   "mimetype": "text/x-python",
   "name": "python",
   "nbconvert_exporter": "python",
   "pygments_lexer": "ipython2",
   "version": "2.7.11"
  }
 },
 "nbformat": 4,
 "nbformat_minor": 0
}
