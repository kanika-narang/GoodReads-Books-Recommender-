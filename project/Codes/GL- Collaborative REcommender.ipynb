{
 "cells": [
  {
   "cell_type": "code",
   "execution_count": 1,
   "metadata": {
    "collapsed": false
   },
   "outputs": [],
   "source": [
    "import graphlab\n",
    "import csv\n",
    "import pandas as pd"
   ]
  },
  {
   "cell_type": "code",
   "execution_count": 2,
   "metadata": {
    "collapsed": false
   },
   "outputs": [],
   "source": [
    "train_csv_data= pd.read_csv('C:/Users/SONY/Desktop/3rdsem/Machine Learning/project/DATA/training_data.csv', sep=',')\n",
    "test_csv_data=pd.read_csv('C:/Users/SONY/Desktop/3rdsem/Machine Learning/project/DATA/test_data.csv', sep=',')"
   ]
  },
  {
   "cell_type": "code",
   "execution_count": 3,
   "metadata": {
    "collapsed": false
   },
   "outputs": [
    {
     "ename": "AttributeError",
     "evalue": "'module' object has no attribute 'get_dependencies'",
     "output_type": "error",
     "traceback": [
      "\u001b[1;31m---------------------------------------------------------------------------\u001b[0m",
      "\u001b[1;31mAttributeError\u001b[0m                            Traceback (most recent call last)",
      "\u001b[1;32m<ipython-input-3-9e64085fb919>\u001b[0m in \u001b[0;36m<module>\u001b[1;34m()\u001b[0m\n\u001b[1;32m----> 1\u001b[1;33m \u001b[0mgraphlab\u001b[0m\u001b[1;33m.\u001b[0m\u001b[0mget_dependencies\u001b[0m\u001b[1;33m(\u001b[0m\u001b[1;33m)\u001b[0m\u001b[1;33m\u001b[0m\u001b[0m\n\u001b[0m",
      "\u001b[1;31mAttributeError\u001b[0m: 'module' object has no attribute 'get_dependencies'"
     ]
    }
   ],
   "source": [
    "graphlab.get_dependencies()"
   ]
  },
  {
   "cell_type": "code",
   "execution_count": 4,
   "metadata": {
    "collapsed": false
   },
   "outputs": [
    {
     "name": "stderr",
     "output_type": "stream",
     "text": [
      "[INFO] graphlab.cython.cy_server: GraphLab Create v2.1 started. Logging: C:\\Users\\SONY\\AppData\\Local\\Temp\\graphlab_server_1508654665.log.0\n"
     ]
    },
    {
     "name": "stdout",
     "output_type": "stream",
     "text": [
      "This non-commercial license of GraphLab Create for academic use is assigned to kanika.narang@iiitb.org and will expire on October 13, 2018.\n"
     ]
    }
   ],
   "source": [
    "train_data = graphlab.SFrame(train_csv_data)\n",
    "test_data= graphlab.SFrame(test_csv_data)"
   ]
  },
  {
   "cell_type": "code",
   "execution_count": 5,
   "metadata": {
    "collapsed": false
   },
   "outputs": [
    {
     "data": {
      "text/html": [
       "<pre>Recsys training: model = item_similarity</pre>"
      ],
      "text/plain": [
       "Recsys training: model = item_similarity"
      ]
     },
     "metadata": {},
     "output_type": "display_data"
    },
    {
     "data": {
      "text/html": [
       "<pre>Warning: Ignoring columns Unnamed: 0;</pre>"
      ],
      "text/plain": [
       "Warning: Ignoring columns Unnamed: 0;"
      ]
     },
     "metadata": {},
     "output_type": "display_data"
    },
    {
     "data": {
      "text/html": [
       "<pre>    To use these columns in scoring predictions, use a model that allows the use of additional features.</pre>"
      ],
      "text/plain": [
       "    To use these columns in scoring predictions, use a model that allows the use of additional features."
      ]
     },
     "metadata": {},
     "output_type": "display_data"
    },
    {
     "data": {
      "text/html": [
       "<pre>Preparing data set.</pre>"
      ],
      "text/plain": [
       "Preparing data set."
      ]
     },
     "metadata": {},
     "output_type": "display_data"
    },
    {
     "data": {
      "text/html": [
       "<pre>    Data has 736317 observations with 52792 users and 10000 items.</pre>"
      ],
      "text/plain": [
       "    Data has 736317 observations with 52792 users and 10000 items."
      ]
     },
     "metadata": {},
     "output_type": "display_data"
    },
    {
     "data": {
      "text/html": [
       "<pre>    Data prepared in: 1.1076s</pre>"
      ],
      "text/plain": [
       "    Data prepared in: 1.1076s"
      ]
     },
     "metadata": {},
     "output_type": "display_data"
    },
    {
     "data": {
      "text/html": [
       "<pre>Training model from provided data.</pre>"
      ],
      "text/plain": [
       "Training model from provided data."
      ]
     },
     "metadata": {},
     "output_type": "display_data"
    },
    {
     "data": {
      "text/html": [
       "<pre>Gathering per-item and per-user statistics.</pre>"
      ],
      "text/plain": [
       "Gathering per-item and per-user statistics."
      ]
     },
     "metadata": {},
     "output_type": "display_data"
    },
    {
     "data": {
      "text/html": [
       "<pre>+--------------------------------+------------+</pre>"
      ],
      "text/plain": [
       "+--------------------------------+------------+"
      ]
     },
     "metadata": {},
     "output_type": "display_data"
    },
    {
     "data": {
      "text/html": [
       "<pre>| Elapsed Time (Item Statistics) | % Complete |</pre>"
      ],
      "text/plain": [
       "| Elapsed Time (Item Statistics) | % Complete |"
      ]
     },
     "metadata": {},
     "output_type": "display_data"
    },
    {
     "data": {
      "text/html": [
       "<pre>+--------------------------------+------------+</pre>"
      ],
      "text/plain": [
       "+--------------------------------+------------+"
      ]
     },
     "metadata": {},
     "output_type": "display_data"
    },
    {
     "data": {
      "text/html": [
       "<pre>| 0us                            | 1.75       |</pre>"
      ],
      "text/plain": [
       "| 0us                            | 1.75       |"
      ]
     },
     "metadata": {},
     "output_type": "display_data"
    },
    {
     "data": {
      "text/html": [
       "<pre>| 62.4ms                         | 100        |</pre>"
      ],
      "text/plain": [
       "| 62.4ms                         | 100        |"
      ]
     },
     "metadata": {},
     "output_type": "display_data"
    },
    {
     "data": {
      "text/html": [
       "<pre>+--------------------------------+------------+</pre>"
      ],
      "text/plain": [
       "+--------------------------------+------------+"
      ]
     },
     "metadata": {},
     "output_type": "display_data"
    },
    {
     "data": {
      "text/html": [
       "<pre>Setting up lookup tables.</pre>"
      ],
      "text/plain": [
       "Setting up lookup tables."
      ]
     },
     "metadata": {},
     "output_type": "display_data"
    },
    {
     "data": {
      "text/html": [
       "<pre>Processing data in one pass using dense lookup tables.</pre>"
      ],
      "text/plain": [
       "Processing data in one pass using dense lookup tables."
      ]
     },
     "metadata": {},
     "output_type": "display_data"
    },
    {
     "data": {
      "text/html": [
       "<pre>+-------------------------------------+------------------+-----------------+</pre>"
      ],
      "text/plain": [
       "+-------------------------------------+------------------+-----------------+"
      ]
     },
     "metadata": {},
     "output_type": "display_data"
    },
    {
     "data": {
      "text/html": [
       "<pre>| Elapsed Time (Constructing Lookups) | Total % Complete | Items Processed |</pre>"
      ],
      "text/plain": [
       "| Elapsed Time (Constructing Lookups) | Total % Complete | Items Processed |"
      ]
     },
     "metadata": {},
     "output_type": "display_data"
    },
    {
     "data": {
      "text/html": [
       "<pre>+-------------------------------------+------------------+-----------------+</pre>"
      ],
      "text/plain": [
       "+-------------------------------------+------------------+-----------------+"
      ]
     },
     "metadata": {},
     "output_type": "display_data"
    },
    {
     "data": {
      "text/html": [
       "<pre>| 312.001ms                           | 0                | 0               |</pre>"
      ],
      "text/plain": [
       "| 312.001ms                           | 0                | 0               |"
      ]
     },
     "metadata": {},
     "output_type": "display_data"
    },
    {
     "data": {
      "text/html": [
       "<pre>| 2.74s                               | 100              | 10000           |</pre>"
      ],
      "text/plain": [
       "| 2.74s                               | 100              | 10000           |"
      ]
     },
     "metadata": {},
     "output_type": "display_data"
    },
    {
     "data": {
      "text/html": [
       "<pre>+-------------------------------------+------------------+-----------------+</pre>"
      ],
      "text/plain": [
       "+-------------------------------------+------------------+-----------------+"
      ]
     },
     "metadata": {},
     "output_type": "display_data"
    },
    {
     "data": {
      "text/html": [
       "<pre>Finalizing lookup tables.</pre>"
      ],
      "text/plain": [
       "Finalizing lookup tables."
      ]
     },
     "metadata": {},
     "output_type": "display_data"
    },
    {
     "data": {
      "text/html": [
       "<pre>Generating candidate set for working with new users.</pre>"
      ],
      "text/plain": [
       "Generating candidate set for working with new users."
      ]
     },
     "metadata": {},
     "output_type": "display_data"
    },
    {
     "data": {
      "text/html": [
       "<pre>Finished training in 3.93121s</pre>"
      ],
      "text/plain": [
       "Finished training in 3.93121s"
      ]
     },
     "metadata": {},
     "output_type": "display_data"
    }
   ],
   "source": [
    "#to create the model training_method=auto\n",
    "item_sim_model_auto = graphlab.item_similarity_recommender.create(train_data, user_id='user_id', item_id='book_id', \n",
    "                                                             target='rating', similarity_type='pearson',only_top_k=100,training_method='auto')\n"
   ]
  },
  {
   "cell_type": "code",
   "execution_count": 6,
   "metadata": {
    "collapsed": false
   },
   "outputs": [
    {
     "data": {
      "text/html": [
       "<pre>Recsys training: model = item_similarity</pre>"
      ],
      "text/plain": [
       "Recsys training: model = item_similarity"
      ]
     },
     "metadata": {},
     "output_type": "display_data"
    },
    {
     "data": {
      "text/html": [
       "<pre>Warning: Ignoring columns Unnamed: 0;</pre>"
      ],
      "text/plain": [
       "Warning: Ignoring columns Unnamed: 0;"
      ]
     },
     "metadata": {},
     "output_type": "display_data"
    },
    {
     "data": {
      "text/html": [
       "<pre>    To use these columns in scoring predictions, use a model that allows the use of additional features.</pre>"
      ],
      "text/plain": [
       "    To use these columns in scoring predictions, use a model that allows the use of additional features."
      ]
     },
     "metadata": {},
     "output_type": "display_data"
    },
    {
     "data": {
      "text/html": [
       "<pre>Preparing data set.</pre>"
      ],
      "text/plain": [
       "Preparing data set."
      ]
     },
     "metadata": {},
     "output_type": "display_data"
    },
    {
     "data": {
      "text/html": [
       "<pre>    Data has 736317 observations with 52792 users and 10000 items.</pre>"
      ],
      "text/plain": [
       "    Data has 736317 observations with 52792 users and 10000 items."
      ]
     },
     "metadata": {},
     "output_type": "display_data"
    },
    {
     "data": {
      "text/html": [
       "<pre>    Data prepared in: 0.858002s</pre>"
      ],
      "text/plain": [
       "    Data prepared in: 0.858002s"
      ]
     },
     "metadata": {},
     "output_type": "display_data"
    },
    {
     "data": {
      "text/html": [
       "<pre>Training model from provided data.</pre>"
      ],
      "text/plain": [
       "Training model from provided data."
      ]
     },
     "metadata": {},
     "output_type": "display_data"
    },
    {
     "data": {
      "text/html": [
       "<pre>Gathering per-item and per-user statistics.</pre>"
      ],
      "text/plain": [
       "Gathering per-item and per-user statistics."
      ]
     },
     "metadata": {},
     "output_type": "display_data"
    },
    {
     "data": {
      "text/html": [
       "<pre>+--------------------------------+------------+</pre>"
      ],
      "text/plain": [
       "+--------------------------------+------------+"
      ]
     },
     "metadata": {},
     "output_type": "display_data"
    },
    {
     "data": {
      "text/html": [
       "<pre>| Elapsed Time (Item Statistics) | % Complete |</pre>"
      ],
      "text/plain": [
       "| Elapsed Time (Item Statistics) | % Complete |"
      ]
     },
     "metadata": {},
     "output_type": "display_data"
    },
    {
     "data": {
      "text/html": [
       "<pre>+--------------------------------+------------+</pre>"
      ],
      "text/plain": [
       "+--------------------------------+------------+"
      ]
     },
     "metadata": {},
     "output_type": "display_data"
    },
    {
     "data": {
      "text/html": [
       "<pre>| 0us                            | 3.75       |</pre>"
      ],
      "text/plain": [
       "| 0us                            | 3.75       |"
      ]
     },
     "metadata": {},
     "output_type": "display_data"
    },
    {
     "data": {
      "text/html": [
       "<pre>| 46.8ms                         | 100        |</pre>"
      ],
      "text/plain": [
       "| 46.8ms                         | 100        |"
      ]
     },
     "metadata": {},
     "output_type": "display_data"
    },
    {
     "data": {
      "text/html": [
       "<pre>+--------------------------------+------------+</pre>"
      ],
      "text/plain": [
       "+--------------------------------+------------+"
      ]
     },
     "metadata": {},
     "output_type": "display_data"
    },
    {
     "data": {
      "text/html": [
       "<pre>Setting up lookup tables.</pre>"
      ],
      "text/plain": [
       "Setting up lookup tables."
      ]
     },
     "metadata": {},
     "output_type": "display_data"
    },
    {
     "data": {
      "text/html": [
       "<pre>Processing data in one pass using dense lookup tables.</pre>"
      ],
      "text/plain": [
       "Processing data in one pass using dense lookup tables."
      ]
     },
     "metadata": {},
     "output_type": "display_data"
    },
    {
     "data": {
      "text/html": [
       "<pre>+-------------------------------------+------------------+-----------------+</pre>"
      ],
      "text/plain": [
       "+-------------------------------------+------------------+-----------------+"
      ]
     },
     "metadata": {},
     "output_type": "display_data"
    },
    {
     "data": {
      "text/html": [
       "<pre>| Elapsed Time (Constructing Lookups) | Total % Complete | Items Processed |</pre>"
      ],
      "text/plain": [
       "| Elapsed Time (Constructing Lookups) | Total % Complete | Items Processed |"
      ]
     },
     "metadata": {},
     "output_type": "display_data"
    },
    {
     "data": {
      "text/html": [
       "<pre>+-------------------------------------+------------------+-----------------+</pre>"
      ],
      "text/plain": [
       "+-------------------------------------+------------------+-----------------+"
      ]
     },
     "metadata": {},
     "output_type": "display_data"
    },
    {
     "data": {
      "text/html": [
       "<pre>| 202.8ms                             | 0                | 0               |</pre>"
      ],
      "text/plain": [
       "| 202.8ms                             | 0                | 0               |"
      ]
     },
     "metadata": {},
     "output_type": "display_data"
    },
    {
     "data": {
      "text/html": [
       "<pre>| 1.21s                               | 95.25            | 9542            |</pre>"
      ],
      "text/plain": [
       "| 1.21s                               | 95.25            | 9542            |"
      ]
     },
     "metadata": {},
     "output_type": "display_data"
    },
    {
     "data": {
      "text/html": [
       "<pre>| 2.43s                               | 100              | 10000           |</pre>"
      ],
      "text/plain": [
       "| 2.43s                               | 100              | 10000           |"
      ]
     },
     "metadata": {},
     "output_type": "display_data"
    },
    {
     "data": {
      "text/html": [
       "<pre>+-------------------------------------+------------------+-----------------+</pre>"
      ],
      "text/plain": [
       "+-------------------------------------+------------------+-----------------+"
      ]
     },
     "metadata": {},
     "output_type": "display_data"
    },
    {
     "data": {
      "text/html": [
       "<pre>Finalizing lookup tables.</pre>"
      ],
      "text/plain": [
       "Finalizing lookup tables."
      ]
     },
     "metadata": {},
     "output_type": "display_data"
    },
    {
     "data": {
      "text/html": [
       "<pre>Generating candidate set for working with new users.</pre>"
      ],
      "text/plain": [
       "Generating candidate set for working with new users."
      ]
     },
     "metadata": {},
     "output_type": "display_data"
    },
    {
     "data": {
      "text/html": [
       "<pre>Finished training in 2.496s</pre>"
      ],
      "text/plain": [
       "Finished training in 2.496s"
      ]
     },
     "metadata": {},
     "output_type": "display_data"
    }
   ],
   "source": [
    "#to create the model training_method=dense\n",
    "item_sim_model_dense = graphlab.item_similarity_recommender.create(train_data, user_id='user_id', item_id='book_id', \n",
    "                                                             target='rating', similarity_type='pearson',only_top_k=100,training_method='dense')"
   ]
  },
  {
   "cell_type": "code",
   "execution_count": 7,
   "metadata": {
    "collapsed": false
   },
   "outputs": [
    {
     "data": {
      "text/html": [
       "<pre>Recsys training: model = item_similarity</pre>"
      ],
      "text/plain": [
       "Recsys training: model = item_similarity"
      ]
     },
     "metadata": {},
     "output_type": "display_data"
    },
    {
     "data": {
      "text/html": [
       "<pre>Warning: Ignoring columns Unnamed: 0;</pre>"
      ],
      "text/plain": [
       "Warning: Ignoring columns Unnamed: 0;"
      ]
     },
     "metadata": {},
     "output_type": "display_data"
    },
    {
     "data": {
      "text/html": [
       "<pre>    To use these columns in scoring predictions, use a model that allows the use of additional features.</pre>"
      ],
      "text/plain": [
       "    To use these columns in scoring predictions, use a model that allows the use of additional features."
      ]
     },
     "metadata": {},
     "output_type": "display_data"
    },
    {
     "data": {
      "text/html": [
       "<pre>Preparing data set.</pre>"
      ],
      "text/plain": [
       "Preparing data set."
      ]
     },
     "metadata": {},
     "output_type": "display_data"
    },
    {
     "data": {
      "text/html": [
       "<pre>    Data has 736317 observations with 52792 users and 10000 items.</pre>"
      ],
      "text/plain": [
       "    Data has 736317 observations with 52792 users and 10000 items."
      ]
     },
     "metadata": {},
     "output_type": "display_data"
    },
    {
     "data": {
      "text/html": [
       "<pre>    Data prepared in: 0.889202s</pre>"
      ],
      "text/plain": [
       "    Data prepared in: 0.889202s"
      ]
     },
     "metadata": {},
     "output_type": "display_data"
    },
    {
     "data": {
      "text/html": [
       "<pre>Training model from provided data.</pre>"
      ],
      "text/plain": [
       "Training model from provided data."
      ]
     },
     "metadata": {},
     "output_type": "display_data"
    },
    {
     "data": {
      "text/html": [
       "<pre>Gathering per-item and per-user statistics.</pre>"
      ],
      "text/plain": [
       "Gathering per-item and per-user statistics."
      ]
     },
     "metadata": {},
     "output_type": "display_data"
    },
    {
     "data": {
      "text/html": [
       "<pre>+--------------------------------+------------+</pre>"
      ],
      "text/plain": [
       "+--------------------------------+------------+"
      ]
     },
     "metadata": {},
     "output_type": "display_data"
    },
    {
     "data": {
      "text/html": [
       "<pre>| Elapsed Time (Item Statistics) | % Complete |</pre>"
      ],
      "text/plain": [
       "| Elapsed Time (Item Statistics) | % Complete |"
      ]
     },
     "metadata": {},
     "output_type": "display_data"
    },
    {
     "data": {
      "text/html": [
       "<pre>+--------------------------------+------------+</pre>"
      ],
      "text/plain": [
       "+--------------------------------+------------+"
      ]
     },
     "metadata": {},
     "output_type": "display_data"
    },
    {
     "data": {
      "text/html": [
       "<pre>| 0us                            | 1.75       |</pre>"
      ],
      "text/plain": [
       "| 0us                            | 1.75       |"
      ]
     },
     "metadata": {},
     "output_type": "display_data"
    },
    {
     "data": {
      "text/html": [
       "<pre>| 31.2ms                         | 100        |</pre>"
      ],
      "text/plain": [
       "| 31.2ms                         | 100        |"
      ]
     },
     "metadata": {},
     "output_type": "display_data"
    },
    {
     "data": {
      "text/html": [
       "<pre>+--------------------------------+------------+</pre>"
      ],
      "text/plain": [
       "+--------------------------------+------------+"
      ]
     },
     "metadata": {},
     "output_type": "display_data"
    },
    {
     "data": {
      "text/html": [
       "<pre>Setting up lookup tables.</pre>"
      ],
      "text/plain": [
       "Setting up lookup tables."
      ]
     },
     "metadata": {},
     "output_type": "display_data"
    },
    {
     "data": {
      "text/html": [
       "<pre>Processing data in one pass using sparse lookup tables.</pre>"
      ],
      "text/plain": [
       "Processing data in one pass using sparse lookup tables."
      ]
     },
     "metadata": {},
     "output_type": "display_data"
    },
    {
     "data": {
      "text/html": [
       "<pre>+-------------------------------------+------------------+-----------------+</pre>"
      ],
      "text/plain": [
       "+-------------------------------------+------------------+-----------------+"
      ]
     },
     "metadata": {},
     "output_type": "display_data"
    },
    {
     "data": {
      "text/html": [
       "<pre>| Elapsed Time (Constructing Lookups) | Total % Complete | Items Processed |</pre>"
      ],
      "text/plain": [
       "| Elapsed Time (Constructing Lookups) | Total % Complete | Items Processed |"
      ]
     },
     "metadata": {},
     "output_type": "display_data"
    },
    {
     "data": {
      "text/html": [
       "<pre>+-------------------------------------+------------------+-----------------+</pre>"
      ],
      "text/plain": [
       "+-------------------------------------+------------------+-----------------+"
      ]
     },
     "metadata": {},
     "output_type": "display_data"
    },
    {
     "data": {
      "text/html": [
       "<pre>| 3.32s                               | 0                | 0               |</pre>"
      ],
      "text/plain": [
       "| 3.32s                               | 0                | 0               |"
      ]
     },
     "metadata": {},
     "output_type": "display_data"
    },
    {
     "data": {
      "text/html": [
       "<pre>| 4.33s                               | 49               | 4906            |</pre>"
      ],
      "text/plain": [
       "| 4.33s                               | 49               | 4906            |"
      ]
     },
     "metadata": {},
     "output_type": "display_data"
    },
    {
     "data": {
      "text/html": [
       "<pre>| 5.35s                               | 86.5             | 8650            |</pre>"
      ],
      "text/plain": [
       "| 5.35s                               | 86.5             | 8650            |"
      ]
     },
     "metadata": {},
     "output_type": "display_data"
    },
    {
     "data": {
      "text/html": [
       "<pre>| 6.63s                               | 100              | 10000           |</pre>"
      ],
      "text/plain": [
       "| 6.63s                               | 100              | 10000           |"
      ]
     },
     "metadata": {},
     "output_type": "display_data"
    },
    {
     "data": {
      "text/html": [
       "<pre>+-------------------------------------+------------------+-----------------+</pre>"
      ],
      "text/plain": [
       "+-------------------------------------+------------------+-----------------+"
      ]
     },
     "metadata": {},
     "output_type": "display_data"
    },
    {
     "data": {
      "text/html": [
       "<pre>Finalizing lookup tables.</pre>"
      ],
      "text/plain": [
       "Finalizing lookup tables."
      ]
     },
     "metadata": {},
     "output_type": "display_data"
    },
    {
     "data": {
      "text/html": [
       "<pre>Generating candidate set for working with new users.</pre>"
      ],
      "text/plain": [
       "Generating candidate set for working with new users."
      ]
     },
     "metadata": {},
     "output_type": "display_data"
    },
    {
     "data": {
      "text/html": [
       "<pre>Finished training in 6.72361s</pre>"
      ],
      "text/plain": [
       "Finished training in 6.72361s"
      ]
     },
     "metadata": {},
     "output_type": "display_data"
    }
   ],
   "source": [
    "#to create the model training_method=sparse\n",
    "item_sim_model_sparse = graphlab.item_similarity_recommender.create(train_data, user_id='user_id', item_id='book_id', \n",
    "                                                             target='rating', similarity_type='pearson',only_top_k=100,training_method='sparse')"
   ]
  },
  {
   "cell_type": "code",
   "execution_count": 8,
   "metadata": {
    "collapsed": false
   },
   "outputs": [
    {
     "data": {
      "text/html": [
       "<pre>Recsys training: model = item_similarity</pre>"
      ],
      "text/plain": [
       "Recsys training: model = item_similarity"
      ]
     },
     "metadata": {},
     "output_type": "display_data"
    },
    {
     "data": {
      "text/html": [
       "<pre>Warning: Ignoring columns Unnamed: 0;</pre>"
      ],
      "text/plain": [
       "Warning: Ignoring columns Unnamed: 0;"
      ]
     },
     "metadata": {},
     "output_type": "display_data"
    },
    {
     "data": {
      "text/html": [
       "<pre>    To use these columns in scoring predictions, use a model that allows the use of additional features.</pre>"
      ],
      "text/plain": [
       "    To use these columns in scoring predictions, use a model that allows the use of additional features."
      ]
     },
     "metadata": {},
     "output_type": "display_data"
    },
    {
     "data": {
      "text/html": [
       "<pre>Preparing data set.</pre>"
      ],
      "text/plain": [
       "Preparing data set."
      ]
     },
     "metadata": {},
     "output_type": "display_data"
    },
    {
     "data": {
      "text/html": [
       "<pre>    Data has 736317 observations with 52792 users and 10000 items.</pre>"
      ],
      "text/plain": [
       "    Data has 736317 observations with 52792 users and 10000 items."
      ]
     },
     "metadata": {},
     "output_type": "display_data"
    },
    {
     "data": {
      "text/html": [
       "<pre>    Data prepared in: 0.889201s</pre>"
      ],
      "text/plain": [
       "    Data prepared in: 0.889201s"
      ]
     },
     "metadata": {},
     "output_type": "display_data"
    },
    {
     "data": {
      "text/html": [
       "<pre>Training model from provided data.</pre>"
      ],
      "text/plain": [
       "Training model from provided data."
      ]
     },
     "metadata": {},
     "output_type": "display_data"
    },
    {
     "data": {
      "text/html": [
       "<pre>Gathering per-item and per-user statistics.</pre>"
      ],
      "text/plain": [
       "Gathering per-item and per-user statistics."
      ]
     },
     "metadata": {},
     "output_type": "display_data"
    },
    {
     "data": {
      "text/html": [
       "<pre>+--------------------------------+------------+</pre>"
      ],
      "text/plain": [
       "+--------------------------------+------------+"
      ]
     },
     "metadata": {},
     "output_type": "display_data"
    },
    {
     "data": {
      "text/html": [
       "<pre>| Elapsed Time (Item Statistics) | % Complete |</pre>"
      ],
      "text/plain": [
       "| Elapsed Time (Item Statistics) | % Complete |"
      ]
     },
     "metadata": {},
     "output_type": "display_data"
    },
    {
     "data": {
      "text/html": [
       "<pre>+--------------------------------+------------+</pre>"
      ],
      "text/plain": [
       "+--------------------------------+------------+"
      ]
     },
     "metadata": {},
     "output_type": "display_data"
    },
    {
     "data": {
      "text/html": [
       "<pre>| 0us                            | 3.75       |</pre>"
      ],
      "text/plain": [
       "| 0us                            | 3.75       |"
      ]
     },
     "metadata": {},
     "output_type": "display_data"
    },
    {
     "data": {
      "text/html": [
       "<pre>| 124.801ms                      | 100        |</pre>"
      ],
      "text/plain": [
       "| 124.801ms                      | 100        |"
      ]
     },
     "metadata": {},
     "output_type": "display_data"
    },
    {
     "data": {
      "text/html": [
       "<pre>+--------------------------------+------------+</pre>"
      ],
      "text/plain": [
       "+--------------------------------+------------+"
      ]
     },
     "metadata": {},
     "output_type": "display_data"
    },
    {
     "data": {
      "text/html": [
       "<pre>Setting up lookup tables.</pre>"
      ],
      "text/plain": [
       "Setting up lookup tables."
      ]
     },
     "metadata": {},
     "output_type": "display_data"
    },
    {
     "data": {
      "text/html": [
       "<pre>Processing the 32 most common items by brute force search.</pre>"
      ],
      "text/plain": [
       "Processing the 32 most common items by brute force search."
      ]
     },
     "metadata": {},
     "output_type": "display_data"
    },
    {
     "data": {
      "text/html": [
       "<pre>Transposing user-item lists for use in nearest neighbor search.</pre>"
      ],
      "text/plain": [
       "Transposing user-item lists for use in nearest neighbor search."
      ]
     },
     "metadata": {},
     "output_type": "display_data"
    },
    {
     "data": {
      "text/html": [
       "<pre>+------------------------------------+------------+</pre>"
      ],
      "text/plain": [
       "+------------------------------------+------------+"
      ]
     },
     "metadata": {},
     "output_type": "display_data"
    },
    {
     "data": {
      "text/html": [
       "<pre>| Elapsed Time (Data Transposition)) | % Complete |</pre>"
      ],
      "text/plain": [
       "| Elapsed Time (Data Transposition)) | % Complete |"
      ]
     },
     "metadata": {},
     "output_type": "display_data"
    },
    {
     "data": {
      "text/html": [
       "<pre>+------------------------------------+------------+</pre>"
      ],
      "text/plain": [
       "+------------------------------------+------------+"
      ]
     },
     "metadata": {},
     "output_type": "display_data"
    },
    {
     "data": {
      "text/html": [
       "<pre>| 0us                                | 0          |</pre>"
      ],
      "text/plain": [
       "| 0us                                | 0          |"
      ]
     },
     "metadata": {},
     "output_type": "display_data"
    },
    {
     "data": {
      "text/html": [
       "<pre>| 93.6ms                             | 100        |</pre>"
      ],
      "text/plain": [
       "| 93.6ms                             | 100        |"
      ]
     },
     "metadata": {},
     "output_type": "display_data"
    },
    {
     "data": {
      "text/html": [
       "<pre>+------------------------------------+------------+</pre>"
      ],
      "text/plain": [
       "+------------------------------------+------------+"
      ]
     },
     "metadata": {},
     "output_type": "display_data"
    },
    {
     "data": {
      "text/html": [
       "<pre>+-------------------------------------+------------------+-----------------+</pre>"
      ],
      "text/plain": [
       "+-------------------------------------+------------------+-----------------+"
      ]
     },
     "metadata": {},
     "output_type": "display_data"
    },
    {
     "data": {
      "text/html": [
       "<pre>| Elapsed Time (Constructing Lookups) | Total % Complete | Items Processed |</pre>"
      ],
      "text/plain": [
       "| Elapsed Time (Constructing Lookups) | Total % Complete | Items Processed |"
      ]
     },
     "metadata": {},
     "output_type": "display_data"
    },
    {
     "data": {
      "text/html": [
       "<pre>+-------------------------------------+------------------+-----------------+</pre>"
      ],
      "text/plain": [
       "+-------------------------------------+------------------+-----------------+"
      ]
     },
     "metadata": {},
     "output_type": "display_data"
    },
    {
     "data": {
      "text/html": [
       "<pre>| 265.201ms                           | 0                | 0               |</pre>"
      ],
      "text/plain": [
       "| 265.201ms                           | 0                | 0               |"
      ]
     },
     "metadata": {},
     "output_type": "display_data"
    },
    {
     "data": {
      "text/html": [
       "<pre>+-------------------------------------+------------------+-----------------+</pre>"
      ],
      "text/plain": [
       "+-------------------------------------+------------------+-----------------+"
      ]
     },
     "metadata": {},
     "output_type": "display_data"
    },
    {
     "data": {
      "text/html": [
       "<pre>Processing data in one pass using sparse lookup tables.</pre>"
      ],
      "text/plain": [
       "Processing data in one pass using sparse lookup tables."
      ]
     },
     "metadata": {},
     "output_type": "display_data"
    },
    {
     "data": {
      "text/html": [
       "<pre>+-------------------------------------+------------------+-----------------+</pre>"
      ],
      "text/plain": [
       "+-------------------------------------+------------------+-----------------+"
      ]
     },
     "metadata": {},
     "output_type": "display_data"
    },
    {
     "data": {
      "text/html": [
       "<pre>| Elapsed Time (Constructing Lookups) | Total % Complete | Items Processed |</pre>"
      ],
      "text/plain": [
       "| Elapsed Time (Constructing Lookups) | Total % Complete | Items Processed |"
      ]
     },
     "metadata": {},
     "output_type": "display_data"
    },
    {
     "data": {
      "text/html": [
       "<pre>+-------------------------------------+------------------+-----------------+</pre>"
      ],
      "text/plain": [
       "+-------------------------------------+------------------+-----------------+"
      ]
     },
     "metadata": {},
     "output_type": "display_data"
    },
    {
     "data": {
      "text/html": [
       "<pre>| 3.26s                               | 0.25             | 32              |</pre>"
      ],
      "text/plain": [
       "| 3.26s                               | 0.25             | 32              |"
      ]
     },
     "metadata": {},
     "output_type": "display_data"
    },
    {
     "data": {
      "text/html": [
       "<pre>| 4.25s                               | 40.25            | 4033            |</pre>"
      ],
      "text/plain": [
       "| 4.25s                               | 40.25            | 4033            |"
      ]
     },
     "metadata": {},
     "output_type": "display_data"
    },
    {
     "data": {
      "text/html": [
       "<pre>| 5.27s                               | 76               | 7602            |</pre>"
      ],
      "text/plain": [
       "| 5.27s                               | 76               | 7602            |"
      ]
     },
     "metadata": {},
     "output_type": "display_data"
    },
    {
     "data": {
      "text/html": [
       "<pre>| 6.81s                               | 100              | 10000           |</pre>"
      ],
      "text/plain": [
       "| 6.81s                               | 100              | 10000           |"
      ]
     },
     "metadata": {},
     "output_type": "display_data"
    },
    {
     "data": {
      "text/html": [
       "<pre>+-------------------------------------+------------------+-----------------+</pre>"
      ],
      "text/plain": [
       "+-------------------------------------+------------------+-----------------+"
      ]
     },
     "metadata": {},
     "output_type": "display_data"
    },
    {
     "data": {
      "text/html": [
       "<pre>Finalizing lookup tables.</pre>"
      ],
      "text/plain": [
       "Finalizing lookup tables."
      ]
     },
     "metadata": {},
     "output_type": "display_data"
    },
    {
     "data": {
      "text/html": [
       "<pre>Generating candidate set for working with new users.</pre>"
      ],
      "text/plain": [
       "Generating candidate set for working with new users."
      ]
     },
     "metadata": {},
     "output_type": "display_data"
    },
    {
     "data": {
      "text/html": [
       "<pre>Finished training in 6.91081s</pre>"
      ],
      "text/plain": [
       "Finished training in 6.91081s"
      ]
     },
     "metadata": {},
     "output_type": "display_data"
    }
   ],
   "source": [
    "#to create the model training_method=nnsparse\n",
    "item_sim_model_nnsparse = graphlab.item_similarity_recommender.create(train_data, user_id='user_id', item_id='book_id', \n",
    "                                                             target='rating', similarity_type='pearson',only_top_k=100,training_method='nn:sparse')"
   ]
  },
  {
   "cell_type": "code",
   "execution_count": 9,
   "metadata": {
    "collapsed": false
   },
   "outputs": [
    {
     "data": {
      "text/html": [
       "<pre>Recsys training: model = item_similarity</pre>"
      ],
      "text/plain": [
       "Recsys training: model = item_similarity"
      ]
     },
     "metadata": {},
     "output_type": "display_data"
    },
    {
     "data": {
      "text/html": [
       "<pre>Warning: Ignoring columns Unnamed: 0;</pre>"
      ],
      "text/plain": [
       "Warning: Ignoring columns Unnamed: 0;"
      ]
     },
     "metadata": {},
     "output_type": "display_data"
    },
    {
     "data": {
      "text/html": [
       "<pre>    To use these columns in scoring predictions, use a model that allows the use of additional features.</pre>"
      ],
      "text/plain": [
       "    To use these columns in scoring predictions, use a model that allows the use of additional features."
      ]
     },
     "metadata": {},
     "output_type": "display_data"
    },
    {
     "data": {
      "text/html": [
       "<pre>Preparing data set.</pre>"
      ],
      "text/plain": [
       "Preparing data set."
      ]
     },
     "metadata": {},
     "output_type": "display_data"
    },
    {
     "data": {
      "text/html": [
       "<pre>    Data has 736317 observations with 52792 users and 10000 items.</pre>"
      ],
      "text/plain": [
       "    Data has 736317 observations with 52792 users and 10000 items."
      ]
     },
     "metadata": {},
     "output_type": "display_data"
    },
    {
     "data": {
      "text/html": [
       "<pre>    Data prepared in: 0.920401s</pre>"
      ],
      "text/plain": [
       "    Data prepared in: 0.920401s"
      ]
     },
     "metadata": {},
     "output_type": "display_data"
    },
    {
     "data": {
      "text/html": [
       "<pre>Training model from provided data.</pre>"
      ],
      "text/plain": [
       "Training model from provided data."
      ]
     },
     "metadata": {},
     "output_type": "display_data"
    },
    {
     "data": {
      "text/html": [
       "<pre>Gathering per-item and per-user statistics.</pre>"
      ],
      "text/plain": [
       "Gathering per-item and per-user statistics."
      ]
     },
     "metadata": {},
     "output_type": "display_data"
    },
    {
     "data": {
      "text/html": [
       "<pre>+--------------------------------+------------+</pre>"
      ],
      "text/plain": [
       "+--------------------------------+------------+"
      ]
     },
     "metadata": {},
     "output_type": "display_data"
    },
    {
     "data": {
      "text/html": [
       "<pre>| Elapsed Time (Item Statistics) | % Complete |</pre>"
      ],
      "text/plain": [
       "| Elapsed Time (Item Statistics) | % Complete |"
      ]
     },
     "metadata": {},
     "output_type": "display_data"
    },
    {
     "data": {
      "text/html": [
       "<pre>+--------------------------------+------------+</pre>"
      ],
      "text/plain": [
       "+--------------------------------+------------+"
      ]
     },
     "metadata": {},
     "output_type": "display_data"
    },
    {
     "data": {
      "text/html": [
       "<pre>| 0us                            | 1.75       |</pre>"
      ],
      "text/plain": [
       "| 0us                            | 1.75       |"
      ]
     },
     "metadata": {},
     "output_type": "display_data"
    },
    {
     "data": {
      "text/html": [
       "<pre>| 31.2ms                         | 100        |</pre>"
      ],
      "text/plain": [
       "| 31.2ms                         | 100        |"
      ]
     },
     "metadata": {},
     "output_type": "display_data"
    },
    {
     "data": {
      "text/html": [
       "<pre>+--------------------------------+------------+</pre>"
      ],
      "text/plain": [
       "+--------------------------------+------------+"
      ]
     },
     "metadata": {},
     "output_type": "display_data"
    },
    {
     "data": {
      "text/html": [
       "<pre>Setting up lookup tables.</pre>"
      ],
      "text/plain": [
       "Setting up lookup tables."
      ]
     },
     "metadata": {},
     "output_type": "display_data"
    },
    {
     "data": {
      "text/html": [
       "<pre>Processing the 32 most common items by brute force search.</pre>"
      ],
      "text/plain": [
       "Processing the 32 most common items by brute force search."
      ]
     },
     "metadata": {},
     "output_type": "display_data"
    },
    {
     "data": {
      "text/html": [
       "<pre>Transposing user-item lists for use in nearest neighbor search.</pre>"
      ],
      "text/plain": [
       "Transposing user-item lists for use in nearest neighbor search."
      ]
     },
     "metadata": {},
     "output_type": "display_data"
    },
    {
     "data": {
      "text/html": [
       "<pre>+------------------------------------+------------+</pre>"
      ],
      "text/plain": [
       "+------------------------------------+------------+"
      ]
     },
     "metadata": {},
     "output_type": "display_data"
    },
    {
     "data": {
      "text/html": [
       "<pre>| Elapsed Time (Data Transposition)) | % Complete |</pre>"
      ],
      "text/plain": [
       "| Elapsed Time (Data Transposition)) | % Complete |"
      ]
     },
     "metadata": {},
     "output_type": "display_data"
    },
    {
     "data": {
      "text/html": [
       "<pre>+------------------------------------+------------+</pre>"
      ],
      "text/plain": [
       "+------------------------------------+------------+"
      ]
     },
     "metadata": {},
     "output_type": "display_data"
    },
    {
     "data": {
      "text/html": [
       "<pre>| 0us                                | 0          |</pre>"
      ],
      "text/plain": [
       "| 0us                                | 0          |"
      ]
     },
     "metadata": {},
     "output_type": "display_data"
    },
    {
     "data": {
      "text/html": [
       "<pre>| 93.6ms                             | 100        |</pre>"
      ],
      "text/plain": [
       "| 93.6ms                             | 100        |"
      ]
     },
     "metadata": {},
     "output_type": "display_data"
    },
    {
     "data": {
      "text/html": [
       "<pre>+------------------------------------+------------+</pre>"
      ],
      "text/plain": [
       "+------------------------------------+------------+"
      ]
     },
     "metadata": {},
     "output_type": "display_data"
    },
    {
     "data": {
      "text/html": [
       "<pre>+-------------------------------------+------------------+-----------------+</pre>"
      ],
      "text/plain": [
       "+-------------------------------------+------------------+-----------------+"
      ]
     },
     "metadata": {},
     "output_type": "display_data"
    },
    {
     "data": {
      "text/html": [
       "<pre>| Elapsed Time (Constructing Lookups) | Total % Complete | Items Processed |</pre>"
      ],
      "text/plain": [
       "| Elapsed Time (Constructing Lookups) | Total % Complete | Items Processed |"
      ]
     },
     "metadata": {},
     "output_type": "display_data"
    },
    {
     "data": {
      "text/html": [
       "<pre>+-------------------------------------+------------------+-----------------+</pre>"
      ],
      "text/plain": [
       "+-------------------------------------+------------------+-----------------+"
      ]
     },
     "metadata": {},
     "output_type": "display_data"
    },
    {
     "data": {
      "text/html": [
       "<pre>| 156ms                               | 0                | 0               |</pre>"
      ],
      "text/plain": [
       "| 156ms                               | 0                | 0               |"
      ]
     },
     "metadata": {},
     "output_type": "display_data"
    },
    {
     "data": {
      "text/html": [
       "<pre>+-------------------------------------+------------------+-----------------+</pre>"
      ],
      "text/plain": [
       "+-------------------------------------+------------------+-----------------+"
      ]
     },
     "metadata": {},
     "output_type": "display_data"
    },
    {
     "data": {
      "text/html": [
       "<pre>Processing data in one pass using dense lookup tables.</pre>"
      ],
      "text/plain": [
       "Processing data in one pass using dense lookup tables."
      ]
     },
     "metadata": {},
     "output_type": "display_data"
    },
    {
     "data": {
      "text/html": [
       "<pre>+-------------------------------------+------------------+-----------------+</pre>"
      ],
      "text/plain": [
       "+-------------------------------------+------------------+-----------------+"
      ]
     },
     "metadata": {},
     "output_type": "display_data"
    },
    {
     "data": {
      "text/html": [
       "<pre>| Elapsed Time (Constructing Lookups) | Total % Complete | Items Processed |</pre>"
      ],
      "text/plain": [
       "| Elapsed Time (Constructing Lookups) | Total % Complete | Items Processed |"
      ]
     },
     "metadata": {},
     "output_type": "display_data"
    },
    {
     "data": {
      "text/html": [
       "<pre>+-------------------------------------+------------------+-----------------+</pre>"
      ],
      "text/plain": [
       "+-------------------------------------+------------------+-----------------+"
      ]
     },
     "metadata": {},
     "output_type": "display_data"
    },
    {
     "data": {
      "text/html": [
       "<pre>| 1.17s                               | 91               | 9119            |</pre>"
      ],
      "text/plain": [
       "| 1.17s                               | 91               | 9119            |"
      ]
     },
     "metadata": {},
     "output_type": "display_data"
    },
    {
     "data": {
      "text/html": [
       "<pre>| 2.44s                               | 100              | 10000           |</pre>"
      ],
      "text/plain": [
       "| 2.44s                               | 100              | 10000           |"
      ]
     },
     "metadata": {},
     "output_type": "display_data"
    },
    {
     "data": {
      "text/html": [
       "<pre>+-------------------------------------+------------------+-----------------+</pre>"
      ],
      "text/plain": [
       "+-------------------------------------+------------------+-----------------+"
      ]
     },
     "metadata": {},
     "output_type": "display_data"
    },
    {
     "data": {
      "text/html": [
       "<pre>Finalizing lookup tables.</pre>"
      ],
      "text/plain": [
       "Finalizing lookup tables."
      ]
     },
     "metadata": {},
     "output_type": "display_data"
    },
    {
     "data": {
      "text/html": [
       "<pre>Generating candidate set for working with new users.</pre>"
      ],
      "text/plain": [
       "Generating candidate set for working with new users."
      ]
     },
     "metadata": {},
     "output_type": "display_data"
    },
    {
     "data": {
      "text/html": [
       "<pre>Finished training in 2.5116s</pre>"
      ],
      "text/plain": [
       "Finished training in 2.5116s"
      ]
     },
     "metadata": {},
     "output_type": "display_data"
    }
   ],
   "source": [
    "#to create the model training_method=nndense\n",
    "item_sim_model_nndense = graphlab.item_similarity_recommender.create(train_data, user_id='user_id', item_id='book_id', \n",
    "                                                             target='rating', similarity_type='pearson',only_top_k=100,training_method='nn:dense')"
   ]
  },
  {
   "cell_type": "code",
   "execution_count": 10,
   "metadata": {
    "collapsed": false
   },
   "outputs": [
    {
     "name": "stdout",
     "output_type": "stream",
     "text": [
      "PROGRESS: Evaluate model item_sim_model_auto\n"
     ]
    },
    {
     "data": {
      "text/html": [
       "<pre>recommendations finished on 1000/43154 queries. users per second: 4273.5</pre>"
      ],
      "text/plain": [
       "recommendations finished on 1000/43154 queries. users per second: 4273.5"
      ]
     },
     "metadata": {},
     "output_type": "display_data"
    },
    {
     "data": {
      "text/html": [
       "<pre>recommendations finished on 2000/43154 queries. users per second: 5574.12</pre>"
      ],
      "text/plain": [
       "recommendations finished on 2000/43154 queries. users per second: 5574.12"
      ]
     },
     "metadata": {},
     "output_type": "display_data"
    },
    {
     "data": {
      "text/html": [
       "<pre>recommendations finished on 3000/43154 queries. users per second: 6009.6</pre>"
      ],
      "text/plain": [
       "recommendations finished on 3000/43154 queries. users per second: 6009.6"
      ]
     },
     "metadata": {},
     "output_type": "display_data"
    },
    {
     "data": {
      "text/html": [
       "<pre>recommendations finished on 4000/43154 queries. users per second: 6253.9</pre>"
      ],
      "text/plain": [
       "recommendations finished on 4000/43154 queries. users per second: 6253.9"
      ]
     },
     "metadata": {},
     "output_type": "display_data"
    },
    {
     "data": {
      "text/html": [
       "<pre>recommendations finished on 5000/43154 queries. users per second: 6284.56</pre>"
      ],
      "text/plain": [
       "recommendations finished on 5000/43154 queries. users per second: 6284.56"
      ]
     },
     "metadata": {},
     "output_type": "display_data"
    },
    {
     "data": {
      "text/html": [
       "<pre>recommendations finished on 6000/43154 queries. users per second: 6203.46</pre>"
      ],
      "text/plain": [
       "recommendations finished on 6000/43154 queries. users per second: 6203.46"
      ]
     },
     "metadata": {},
     "output_type": "display_data"
    },
    {
     "data": {
      "text/html": [
       "<pre>recommendations finished on 7000/43154 queries. users per second: 6232.18</pre>"
      ],
      "text/plain": [
       "recommendations finished on 7000/43154 queries. users per second: 6232.18"
      ]
     },
     "metadata": {},
     "output_type": "display_data"
    },
    {
     "data": {
      "text/html": [
       "<pre>recommendations finished on 8000/43154 queries. users per second: 6331.11</pre>"
      ],
      "text/plain": [
       "recommendations finished on 8000/43154 queries. users per second: 6331.11"
      ]
     },
     "metadata": {},
     "output_type": "display_data"
    },
    {
     "data": {
      "text/html": [
       "<pre>recommendations finished on 9000/43154 queries. users per second: 6339.81</pre>"
      ],
      "text/plain": [
       "recommendations finished on 9000/43154 queries. users per second: 6339.81"
      ]
     },
     "metadata": {},
     "output_type": "display_data"
    },
    {
     "data": {
      "text/html": [
       "<pre>recommendations finished on 10000/43154 queries. users per second: 6474.99</pre>"
      ],
      "text/plain": [
       "recommendations finished on 10000/43154 queries. users per second: 6474.99"
      ]
     },
     "metadata": {},
     "output_type": "display_data"
    },
    {
     "data": {
      "text/html": [
       "<pre>recommendations finished on 11000/43154 queries. users per second: 6469.05</pre>"
      ],
      "text/plain": [
       "recommendations finished on 11000/43154 queries. users per second: 6469.05"
      ]
     },
     "metadata": {},
     "output_type": "display_data"
    },
    {
     "data": {
      "text/html": [
       "<pre>recommendations finished on 12000/43154 queries. users per second: 6464.11</pre>"
      ],
      "text/plain": [
       "recommendations finished on 12000/43154 queries. users per second: 6464.11"
      ]
     },
     "metadata": {},
     "output_type": "display_data"
    },
    {
     "data": {
      "text/html": [
       "<pre>recommendations finished on 13000/43154 queries. users per second: 6510.41</pre>"
      ],
      "text/plain": [
       "recommendations finished on 13000/43154 queries. users per second: 6510.41"
      ]
     },
     "metadata": {},
     "output_type": "display_data"
    },
    {
     "data": {
      "text/html": [
       "<pre>recommendations finished on 14000/43154 queries. users per second: 6503.15</pre>"
      ],
      "text/plain": [
       "recommendations finished on 14000/43154 queries. users per second: 6503.15"
      ]
     },
     "metadata": {},
     "output_type": "display_data"
    },
    {
     "data": {
      "text/html": [
       "<pre>recommendations finished on 15000/43154 queries. users per second: 6541.07</pre>"
      ],
      "text/plain": [
       "recommendations finished on 15000/43154 queries. users per second: 6541.07"
      ]
     },
     "metadata": {},
     "output_type": "display_data"
    },
    {
     "data": {
      "text/html": [
       "<pre>recommendations finished on 16000/43154 queries. users per second: 6532.73</pre>"
      ],
      "text/plain": [
       "recommendations finished on 16000/43154 queries. users per second: 6532.73"
      ]
     },
     "metadata": {},
     "output_type": "display_data"
    },
    {
     "data": {
      "text/html": [
       "<pre>recommendations finished on 17000/43154 queries. users per second: 6564.71</pre>"
      ],
      "text/plain": [
       "recommendations finished on 17000/43154 queries. users per second: 6564.71"
      ]
     },
     "metadata": {},
     "output_type": "display_data"
    },
    {
     "data": {
      "text/html": [
       "<pre>recommendations finished on 18000/43154 queries. users per second: 6593.39</pre>"
      ],
      "text/plain": [
       "recommendations finished on 18000/43154 queries. users per second: 6593.39"
      ]
     },
     "metadata": {},
     "output_type": "display_data"
    },
    {
     "data": {
      "text/html": [
       "<pre>recommendations finished on 19000/43154 queries. users per second: 6548.1</pre>"
      ],
      "text/plain": [
       "recommendations finished on 19000/43154 queries. users per second: 6548.1"
      ]
     },
     "metadata": {},
     "output_type": "display_data"
    },
    {
     "data": {
      "text/html": [
       "<pre>recommendations finished on 20000/43154 queries. users per second: 6541.07</pre>"
      ],
      "text/plain": [
       "recommendations finished on 20000/43154 queries. users per second: 6541.07"
      ]
     },
     "metadata": {},
     "output_type": "display_data"
    },
    {
     "data": {
      "text/html": [
       "<pre>recommendations finished on 21000/43154 queries. users per second: 6534.72</pre>"
      ],
      "text/plain": [
       "recommendations finished on 21000/43154 queries. users per second: 6534.72"
      ]
     },
     "metadata": {},
     "output_type": "display_data"
    },
    {
     "data": {
      "text/html": [
       "<pre>recommendations finished on 22000/43154 queries. users per second: 6498.87</pre>"
      ],
      "text/plain": [
       "recommendations finished on 22000/43154 queries. users per second: 6498.87"
      ]
     },
     "metadata": {},
     "output_type": "display_data"
    },
    {
     "data": {
      "text/html": [
       "<pre>recommendations finished on 23000/43154 queries. users per second: 6523.7</pre>"
      ],
      "text/plain": [
       "recommendations finished on 23000/43154 queries. users per second: 6523.7"
      ]
     },
     "metadata": {},
     "output_type": "display_data"
    },
    {
     "data": {
      "text/html": [
       "<pre>recommendations finished on 24000/43154 queries. users per second: 6518.89</pre>"
      ],
      "text/plain": [
       "recommendations finished on 24000/43154 queries. users per second: 6518.89"
      ]
     },
     "metadata": {},
     "output_type": "display_data"
    },
    {
     "data": {
      "text/html": [
       "<pre>recommendations finished on 25000/43154 queries. users per second: 6541.07</pre>"
      ],
      "text/plain": [
       "recommendations finished on 25000/43154 queries. users per second: 6541.07"
      ]
     },
     "metadata": {},
     "output_type": "display_data"
    },
    {
     "data": {
      "text/html": [
       "<pre>recommendations finished on 26000/43154 queries. users per second: 6535.94</pre>"
      ],
      "text/plain": [
       "recommendations finished on 26000/43154 queries. users per second: 6535.94"
      ]
     },
     "metadata": {},
     "output_type": "display_data"
    },
    {
     "data": {
      "text/html": [
       "<pre>recommendations finished on 27000/43154 queries. users per second: 6531.19</pre>"
      ],
      "text/plain": [
       "recommendations finished on 27000/43154 queries. users per second: 6531.19"
      ]
     },
     "metadata": {},
     "output_type": "display_data"
    },
    {
     "data": {
      "text/html": [
       "<pre>recommendations finished on 28000/43154 queries. users per second: 6550.62</pre>"
      ],
      "text/plain": [
       "recommendations finished on 28000/43154 queries. users per second: 6550.62"
      ]
     },
     "metadata": {},
     "output_type": "display_data"
    },
    {
     "data": {
      "text/html": [
       "<pre>recommendations finished on 29000/43154 queries. users per second: 6545.67</pre>"
      ],
      "text/plain": [
       "recommendations finished on 29000/43154 queries. users per second: 6545.67"
      ]
     },
     "metadata": {},
     "output_type": "display_data"
    },
    {
     "data": {
      "text/html": [
       "<pre>recommendations finished on 30000/43154 queries. users per second: 6563.39</pre>"
      ],
      "text/plain": [
       "recommendations finished on 30000/43154 queries. users per second: 6563.39"
      ]
     },
     "metadata": {},
     "output_type": "display_data"
    },
    {
     "data": {
      "text/html": [
       "<pre>recommendations finished on 31000/43154 queries. users per second: 6580.05</pre>"
      ],
      "text/plain": [
       "recommendations finished on 31000/43154 queries. users per second: 6580.05"
      ]
     },
     "metadata": {},
     "output_type": "display_data"
    },
    {
     "data": {
      "text/html": [
       "<pre>recommendations finished on 32000/43154 queries. users per second: 6574.61</pre>"
      ],
      "text/plain": [
       "recommendations finished on 32000/43154 queries. users per second: 6574.61"
      ]
     },
     "metadata": {},
     "output_type": "display_data"
    },
    {
     "data": {
      "text/html": [
       "<pre>recommendations finished on 33000/43154 queries. users per second: 6569.51</pre>"
      ],
      "text/plain": [
       "recommendations finished on 33000/43154 queries. users per second: 6569.51"
      ]
     },
     "metadata": {},
     "output_type": "display_data"
    },
    {
     "data": {
      "text/html": [
       "<pre>recommendations finished on 34000/43154 queries. users per second: 6584.54</pre>"
      ],
      "text/plain": [
       "recommendations finished on 34000/43154 queries. users per second: 6584.54"
      ]
     },
     "metadata": {},
     "output_type": "display_data"
    },
    {
     "data": {
      "text/html": [
       "<pre>recommendations finished on 35000/43154 queries. users per second: 6598.78</pre>"
      ],
      "text/plain": [
       "recommendations finished on 35000/43154 queries. users per second: 6598.78"
      ]
     },
     "metadata": {},
     "output_type": "display_data"
    },
    {
     "data": {
      "text/html": [
       "<pre>recommendations finished on 36000/43154 queries. users per second: 6612.29</pre>"
      ],
      "text/plain": [
       "recommendations finished on 36000/43154 queries. users per second: 6612.29"
      ]
     },
     "metadata": {},
     "output_type": "display_data"
    },
    {
     "data": {
      "text/html": [
       "<pre>recommendations finished on 37000/43154 queries. users per second: 6606.66</pre>"
      ],
      "text/plain": [
       "recommendations finished on 37000/43154 queries. users per second: 6606.66"
      ]
     },
     "metadata": {},
     "output_type": "display_data"
    },
    {
     "data": {
      "text/html": [
       "<pre>recommendations finished on 38000/43154 queries. users per second: 6619.27</pre>"
      ],
      "text/plain": [
       "recommendations finished on 38000/43154 queries. users per second: 6619.27"
      ]
     },
     "metadata": {},
     "output_type": "display_data"
    },
    {
     "data": {
      "text/html": [
       "<pre>recommendations finished on 39000/43154 queries. users per second: 6631.29</pre>"
      ],
      "text/plain": [
       "recommendations finished on 39000/43154 queries. users per second: 6631.29"
      ]
     },
     "metadata": {},
     "output_type": "display_data"
    },
    {
     "data": {
      "text/html": [
       "<pre>recommendations finished on 40000/43154 queries. users per second: 6608.5</pre>"
      ],
      "text/plain": [
       "recommendations finished on 40000/43154 queries. users per second: 6608.5"
      ]
     },
     "metadata": {},
     "output_type": "display_data"
    },
    {
     "data": {
      "text/html": [
       "<pre>recommendations finished on 41000/43154 queries. users per second: 6554.12</pre>"
      ],
      "text/plain": [
       "recommendations finished on 41000/43154 queries. users per second: 6554.12"
      ]
     },
     "metadata": {},
     "output_type": "display_data"
    },
    {
     "data": {
      "text/html": [
       "<pre>recommendations finished on 42000/43154 queries. users per second: 6471.88</pre>"
      ],
      "text/plain": [
       "recommendations finished on 42000/43154 queries. users per second: 6471.88"
      ]
     },
     "metadata": {},
     "output_type": "display_data"
    },
    {
     "data": {
      "text/html": [
       "<pre>recommendations finished on 43000/43154 queries. users per second: 6365.83</pre>"
      ],
      "text/plain": [
       "recommendations finished on 43000/43154 queries. users per second: 6365.83"
      ]
     },
     "metadata": {},
     "output_type": "display_data"
    },
    {
     "name": "stdout",
     "output_type": "stream",
     "text": [
      "\n",
      "Precision and recall summary statistics by cutoff\n",
      "+--------+-------------------+-------------------+\n",
      "| cutoff |   mean_precision  |    mean_recall    |\n",
      "+--------+-------------------+-------------------+\n",
      "|   1    | 0.000579320572832 | 0.000283969067859 |\n",
      "|   2    | 0.000718357510312 | 0.000526208190846 |\n",
      "|   3    | 0.000641114767268 | 0.000597499410119 |\n",
      "|   4    | 0.000631459424387 | 0.000704736363739 |\n",
      "|   5    | 0.000667377299903 | 0.000788203265847 |\n",
      "|   6    | 0.000668149727333 |  0.00091931006487 |\n",
      "|   7    | 0.000668701461212 |  0.00107001125458 |\n",
      "|   8    | 0.000657528850165 |  0.00120696931768 |\n",
      "|   9    | 0.000646264283471 |  0.00134253035631 |\n",
      "|   10   | 0.000660425453029 |  0.0014967894069  |\n",
      "+--------+-------------------+-------------------+\n",
      "[10 rows x 3 columns]\n",
      "\n",
      "('\\nOverall RMSE: ', 0.9382628155741768)\n",
      "\n",
      "Per User RMSE (best)\n",
      "+---------+-------+------+\n",
      "| user_id | count | rmse |\n",
      "+---------+-------+------+\n",
      "|   8633  |   1   | 0.0  |\n",
      "+---------+-------+------+\n",
      "[1 rows x 3 columns]\n",
      "\n",
      "\n",
      "Per User RMSE (worst)\n",
      "+---------+-------+---------------+\n",
      "| user_id | count |      rmse     |\n",
      "+---------+-------+---------------+\n",
      "|  18211  |   1   | 3.33333333333 |\n",
      "+---------+-------+---------------+\n",
      "[1 rows x 3 columns]\n",
      "\n",
      "\n",
      "Per Item RMSE (best)\n",
      "+---------+-------+----------------+\n",
      "| book_id | count |      rmse      |\n",
      "+---------+-------+----------------+\n",
      "|   5207  |   30  | 0.331235507505 |\n",
      "+---------+-------+----------------+\n",
      "[1 rows x 3 columns]\n",
      "\n",
      "\n",
      "Per Item RMSE (worst)\n",
      "+---------+-------+---------------+\n",
      "| book_id | count |      rmse     |\n",
      "+---------+-------+---------------+\n",
      "|   464   |   18  | 1.81952564334 |\n",
      "+---------+-------+---------------+\n",
      "[1 rows x 3 columns]\n",
      "\n",
      "PROGRESS: Evaluate model item_sim_model_dense\n"
     ]
    },
    {
     "data": {
      "text/html": [
       "<pre>recommendations finished on 1000/43154 queries. users per second: 7122.51</pre>"
      ],
      "text/plain": [
       "recommendations finished on 1000/43154 queries. users per second: 7122.51"
      ]
     },
     "metadata": {},
     "output_type": "display_data"
    },
    {
     "data": {
      "text/html": [
       "<pre>recommendations finished on 2000/43154 queries. users per second: 7122.51</pre>"
      ],
      "text/plain": [
       "recommendations finished on 2000/43154 queries. users per second: 7122.51"
      ]
     },
     "metadata": {},
     "output_type": "display_data"
    },
    {
     "data": {
      "text/html": [
       "<pre>recommendations finished on 3000/43154 queries. users per second: 7122.49</pre>"
      ],
      "text/plain": [
       "recommendations finished on 3000/43154 queries. users per second: 7122.49"
      ]
     },
     "metadata": {},
     "output_type": "display_data"
    },
    {
     "data": {
      "text/html": [
       "<pre>recommendations finished on 4000/43154 queries. users per second: 7122.49</pre>"
      ],
      "text/plain": [
       "recommendations finished on 4000/43154 queries. users per second: 7122.49"
      ]
     },
     "metadata": {},
     "output_type": "display_data"
    },
    {
     "data": {
      "text/html": [
       "<pre>recommendations finished on 5000/43154 queries. users per second: 7122.5</pre>"
      ],
      "text/plain": [
       "recommendations finished on 5000/43154 queries. users per second: 7122.5"
      ]
     },
     "metadata": {},
     "output_type": "display_data"
    },
    {
     "data": {
      "text/html": [
       "<pre>recommendations finished on 6000/43154 queries. users per second: 7122.5</pre>"
      ],
      "text/plain": [
       "recommendations finished on 6000/43154 queries. users per second: 7122.5"
      ]
     },
     "metadata": {},
     "output_type": "display_data"
    },
    {
     "data": {
      "text/html": [
       "<pre>recommendations finished on 7000/43154 queries. users per second: 7011.2</pre>"
      ],
      "text/plain": [
       "recommendations finished on 7000/43154 queries. users per second: 7011.2"
      ]
     },
     "metadata": {},
     "output_type": "display_data"
    },
    {
     "data": {
      "text/html": [
       "<pre>recommendations finished on 8000/43154 queries. users per second: 6929.99</pre>"
      ],
      "text/plain": [
       "recommendations finished on 8000/43154 queries. users per second: 6929.99"
      ]
     },
     "metadata": {},
     "output_type": "display_data"
    },
    {
     "data": {
      "text/html": [
       "<pre>recommendations finished on 9000/43154 queries. users per second: 6868.12</pre>"
      ],
      "text/plain": [
       "recommendations finished on 9000/43154 queries. users per second: 6868.12"
      ]
     },
     "metadata": {},
     "output_type": "display_data"
    },
    {
     "data": {
      "text/html": [
       "<pre>recommendations finished on 10000/43154 queries. users per second: 6892.74</pre>"
      ],
      "text/plain": [
       "recommendations finished on 10000/43154 queries. users per second: 6892.74"
      ]
     },
     "metadata": {},
     "output_type": "display_data"
    },
    {
     "data": {
      "text/html": [
       "<pre>recommendations finished on 11000/43154 queries. users per second: 6913.01</pre>"
      ],
      "text/plain": [
       "recommendations finished on 11000/43154 queries. users per second: 6913.01"
      ]
     },
     "metadata": {},
     "output_type": "display_data"
    },
    {
     "data": {
      "text/html": [
       "<pre>recommendations finished on 12000/43154 queries. users per second: 6929.99</pre>"
      ],
      "text/plain": [
       "recommendations finished on 12000/43154 queries. users per second: 6929.99"
      ]
     },
     "metadata": {},
     "output_type": "display_data"
    },
    {
     "data": {
      "text/html": [
       "<pre>recommendations finished on 13000/43154 queries. users per second: 6887.04</pre>"
      ],
      "text/plain": [
       "recommendations finished on 13000/43154 queries. users per second: 6887.04"
      ]
     },
     "metadata": {},
     "output_type": "display_data"
    },
    {
     "data": {
      "text/html": [
       "<pre>recommendations finished on 14000/43154 queries. users per second: 6956.86</pre>"
      ],
      "text/plain": [
       "recommendations finished on 14000/43154 queries. users per second: 6956.86"
      ]
     },
     "metadata": {},
     "output_type": "display_data"
    },
    {
     "data": {
      "text/html": [
       "<pre>recommendations finished on 15000/43154 queries. users per second: 6868.12</pre>"
      ],
      "text/plain": [
       "recommendations finished on 15000/43154 queries. users per second: 6868.12"
      ]
     },
     "metadata": {},
     "output_type": "display_data"
    },
    {
     "data": {
      "text/html": [
       "<pre>recommendations finished on 16000/43154 queries. users per second: 6792.31</pre>"
      ],
      "text/plain": [
       "recommendations finished on 16000/43154 queries. users per second: 6792.31"
      ]
     },
     "metadata": {},
     "output_type": "display_data"
    },
    {
     "data": {
      "text/html": [
       "<pre>recommendations finished on 17000/43154 queries. users per second: 6768.58</pre>"
      ],
      "text/plain": [
       "recommendations finished on 17000/43154 queries. users per second: 6768.58"
      ]
     },
     "metadata": {},
     "output_type": "display_data"
    },
    {
     "data": {
      "text/html": [
       "<pre>recommendations finished on 18000/43154 queries. users per second: 6708.4</pre>"
      ],
      "text/plain": [
       "recommendations finished on 18000/43154 queries. users per second: 6708.4"
      ]
     },
     "metadata": {},
     "output_type": "display_data"
    },
    {
     "data": {
      "text/html": [
       "<pre>recommendations finished on 19000/43154 queries. users per second: 6583.5</pre>"
      ],
      "text/plain": [
       "recommendations finished on 19000/43154 queries. users per second: 6583.5"
      ]
     },
     "metadata": {},
     "output_type": "display_data"
    },
    {
     "data": {
      "text/html": [
       "<pre>recommendations finished on 20000/43154 queries. users per second: 6541.07</pre>"
      ],
      "text/plain": [
       "recommendations finished on 20000/43154 queries. users per second: 6541.07"
      ]
     },
     "metadata": {},
     "output_type": "display_data"
    },
    {
     "data": {
      "text/html": [
       "<pre>recommendations finished on 21000/43154 queries. users per second: 6471.88</pre>"
      ],
      "text/plain": [
       "recommendations finished on 21000/43154 queries. users per second: 6471.88"
      ]
     },
     "metadata": {},
     "output_type": "display_data"
    },
    {
     "data": {
      "text/html": [
       "<pre>recommendations finished on 22000/43154 queries. users per second: 6498.87</pre>"
      ],
      "text/plain": [
       "recommendations finished on 22000/43154 queries. users per second: 6498.87"
      ]
     },
     "metadata": {},
     "output_type": "display_data"
    },
    {
     "data": {
      "text/html": [
       "<pre>recommendations finished on 23000/43154 queries. users per second: 6466.48</pre>"
      ],
      "text/plain": [
       "recommendations finished on 23000/43154 queries. users per second: 6466.48"
      ]
     },
     "metadata": {},
     "output_type": "display_data"
    },
    {
     "data": {
      "text/html": [
       "<pre>recommendations finished on 24000/43154 queries. users per second: 6464.11</pre>"
      ],
      "text/plain": [
       "recommendations finished on 24000/43154 queries. users per second: 6464.11"
      ]
     },
     "metadata": {},
     "output_type": "display_data"
    },
    {
     "data": {
      "text/html": [
       "<pre>recommendations finished on 25000/43154 queries. users per second: 6435.99</pre>"
      ],
      "text/plain": [
       "recommendations finished on 25000/43154 queries. users per second: 6435.99"
      ]
     },
     "metadata": {},
     "output_type": "display_data"
    },
    {
     "data": {
      "text/html": [
       "<pre>recommendations finished on 26000/43154 queries. users per second: 6459.94</pre>"
      ],
      "text/plain": [
       "recommendations finished on 26000/43154 queries. users per second: 6459.94"
      ]
     },
     "metadata": {},
     "output_type": "display_data"
    },
    {
     "data": {
      "text/html": [
       "<pre>recommendations finished on 27000/43154 queries. users per second: 6458.08</pre>"
      ],
      "text/plain": [
       "recommendations finished on 27000/43154 queries. users per second: 6458.08"
      ]
     },
     "metadata": {},
     "output_type": "display_data"
    },
    {
     "data": {
      "text/html": [
       "<pre>recommendations finished on 28000/43154 queries. users per second: 6479.67</pre>"
      ],
      "text/plain": [
       "recommendations finished on 28000/43154 queries. users per second: 6479.67"
      ]
     },
     "metadata": {},
     "output_type": "display_data"
    },
    {
     "data": {
      "text/html": [
       "<pre>recommendations finished on 29000/43154 queries. users per second: 6499.9</pre>"
      ],
      "text/plain": [
       "recommendations finished on 29000/43154 queries. users per second: 6499.9"
      ]
     },
     "metadata": {},
     "output_type": "display_data"
    },
    {
     "data": {
      "text/html": [
       "<pre>recommendations finished on 30000/43154 queries. users per second: 6518.89</pre>"
      ],
      "text/plain": [
       "recommendations finished on 30000/43154 queries. users per second: 6518.89"
      ]
     },
     "metadata": {},
     "output_type": "display_data"
    },
    {
     "data": {
      "text/html": [
       "<pre>recommendations finished on 31000/43154 queries. users per second: 6472.89</pre>"
      ],
      "text/plain": [
       "recommendations finished on 31000/43154 queries. users per second: 6472.89"
      ]
     },
     "metadata": {},
     "output_type": "display_data"
    },
    {
     "data": {
      "text/html": [
       "<pre>recommendations finished on 32000/43154 queries. users per second: 6450.56</pre>"
      ],
      "text/plain": [
       "recommendations finished on 32000/43154 queries. users per second: 6450.56"
      ]
     },
     "metadata": {},
     "output_type": "display_data"
    },
    {
     "data": {
      "text/html": [
       "<pre>recommendations finished on 33000/43154 queries. users per second: 6429.73</pre>"
      ],
      "text/plain": [
       "recommendations finished on 33000/43154 queries. users per second: 6429.73"
      ]
     },
     "metadata": {},
     "output_type": "display_data"
    },
    {
     "data": {
      "text/html": [
       "<pre>recommendations finished on 34000/43154 queries. users per second: 6448.18</pre>"
      ],
      "text/plain": [
       "recommendations finished on 34000/43154 queries. users per second: 6448.18"
      ]
     },
     "metadata": {},
     "output_type": "display_data"
    },
    {
     "data": {
      "text/html": [
       "<pre>recommendations finished on 35000/43154 queries. users per second: 6465.67</pre>"
      ],
      "text/plain": [
       "recommendations finished on 35000/43154 queries. users per second: 6465.67"
      ]
     },
     "metadata": {},
     "output_type": "display_data"
    },
    {
     "data": {
      "text/html": [
       "<pre>recommendations finished on 36000/43154 queries. users per second: 6410.24</pre>"
      ],
      "text/plain": [
       "recommendations finished on 36000/43154 queries. users per second: 6410.24"
      ]
     },
     "metadata": {},
     "output_type": "display_data"
    },
    {
     "data": {
      "text/html": [
       "<pre>recommendations finished on 37000/43154 queries. users per second: 6358.69</pre>"
      ],
      "text/plain": [
       "recommendations finished on 37000/43154 queries. users per second: 6358.69"
      ]
     },
     "metadata": {},
     "output_type": "display_data"
    },
    {
     "data": {
      "text/html": [
       "<pre>recommendations finished on 38000/43154 queries. users per second: 6327</pre>"
      ],
      "text/plain": [
       "recommendations finished on 38000/43154 queries. users per second: 6327"
      ]
     },
     "metadata": {},
     "output_type": "display_data"
    },
    {
     "data": {
      "text/html": [
       "<pre>recommendations finished on 39000/43154 queries. users per second: 6265.65</pre>"
      ],
      "text/plain": [
       "recommendations finished on 39000/43154 queries. users per second: 6265.65"
      ]
     },
     "metadata": {},
     "output_type": "display_data"
    },
    {
     "data": {
      "text/html": [
       "<pre>recommendations finished on 40000/43154 queries. users per second: 6193.47</pre>"
      ],
      "text/plain": [
       "recommendations finished on 40000/43154 queries. users per second: 6193.47"
      ]
     },
     "metadata": {},
     "output_type": "display_data"
    },
    {
     "data": {
      "text/html": [
       "<pre>recommendations finished on 41000/43154 queries. users per second: 6014.19</pre>"
      ],
      "text/plain": [
       "recommendations finished on 41000/43154 queries. users per second: 6014.19"
      ]
     },
     "metadata": {},
     "output_type": "display_data"
    },
    {
     "data": {
      "text/html": [
       "<pre>recommendations finished on 42000/43154 queries. users per second: 5840.14</pre>"
      ],
      "text/plain": [
       "recommendations finished on 42000/43154 queries. users per second: 5840.14"
      ]
     },
     "metadata": {},
     "output_type": "display_data"
    },
    {
     "data": {
      "text/html": [
       "<pre>recommendations finished on 43000/43154 queries. users per second: 5683.31</pre>"
      ],
      "text/plain": [
       "recommendations finished on 43000/43154 queries. users per second: 5683.31"
      ]
     },
     "metadata": {},
     "output_type": "display_data"
    },
    {
     "name": "stdout",
     "output_type": "stream",
     "text": [
      "\n",
      "Precision and recall summary statistics by cutoff\n",
      "+--------+-------------------+-------------------+\n",
      "| cutoff |   mean_precision  |    mean_recall    |\n",
      "+--------+-------------------+-------------------+\n",
      "|   1    | 0.000579320572832 | 0.000283969067859 |\n",
      "|   2    | 0.000718357510312 | 0.000526208190846 |\n",
      "|   3    | 0.000641114767268 | 0.000597499410119 |\n",
      "|   4    | 0.000631459424387 | 0.000704736363739 |\n",
      "|   5    | 0.000667377299903 | 0.000788203265847 |\n",
      "|   6    | 0.000668149727333 |  0.00091931006487 |\n",
      "|   7    | 0.000668701461212 |  0.00107001125458 |\n",
      "|   8    | 0.000657528850165 |  0.00120696931768 |\n",
      "|   9    | 0.000646264283471 |  0.00134253035631 |\n",
      "|   10   | 0.000660425453029 |  0.0014967894069  |\n",
      "+--------+-------------------+-------------------+\n",
      "[10 rows x 3 columns]\n",
      "\n",
      "('\\nOverall RMSE: ', 0.9382632993360454)\n",
      "\n",
      "Per User RMSE (best)\n",
      "+---------+-------+------+\n",
      "| user_id | count | rmse |\n",
      "+---------+-------+------+\n",
      "|  32326  |   1   | 0.0  |\n",
      "+---------+-------+------+\n",
      "[1 rows x 3 columns]\n",
      "\n",
      "\n",
      "Per User RMSE (worst)\n",
      "+---------+-------+---------------+\n",
      "| user_id | count |      rmse     |\n",
      "+---------+-------+---------------+\n",
      "|  18211  |   1   | 3.33333333333 |\n",
      "+---------+-------+---------------+\n",
      "[1 rows x 3 columns]\n",
      "\n",
      "\n",
      "Per Item RMSE (best)\n",
      "+---------+-------+----------------+\n",
      "| book_id | count |      rmse      |\n",
      "+---------+-------+----------------+\n",
      "|   5207  |   30  | 0.331235507505 |\n",
      "+---------+-------+----------------+\n",
      "[1 rows x 3 columns]\n",
      "\n",
      "\n",
      "Per Item RMSE (worst)\n",
      "+---------+-------+---------------+\n",
      "| book_id | count |      rmse     |\n",
      "+---------+-------+---------------+\n",
      "|   464   |   18  | 1.81952564334 |\n",
      "+---------+-------+---------------+\n",
      "[1 rows x 3 columns]\n",
      "\n",
      "PROGRESS: Evaluate model item_sim_model_sparse\n"
     ]
    },
    {
     "data": {
      "text/html": [
       "<pre>recommendations finished on 1000/43154 queries. users per second: 6410.26</pre>"
      ],
      "text/plain": [
       "recommendations finished on 1000/43154 queries. users per second: 6410.26"
      ]
     },
     "metadata": {},
     "output_type": "display_data"
    },
    {
     "data": {
      "text/html": [
       "<pre>recommendations finished on 2000/43154 queries. users per second: 7122.51</pre>"
      ],
      "text/plain": [
       "recommendations finished on 2000/43154 queries. users per second: 7122.51"
      ]
     },
     "metadata": {},
     "output_type": "display_data"
    },
    {
     "data": {
      "text/html": [
       "<pre>recommendations finished on 3000/43154 queries. users per second: 6868.12</pre>"
      ],
      "text/plain": [
       "recommendations finished on 3000/43154 queries. users per second: 6868.12"
      ]
     },
     "metadata": {},
     "output_type": "display_data"
    },
    {
     "data": {
      "text/html": [
       "<pre>recommendations finished on 4000/43154 queries. users per second: 6747.63</pre>"
      ],
      "text/plain": [
       "recommendations finished on 4000/43154 queries. users per second: 6747.63"
      ]
     },
     "metadata": {},
     "output_type": "display_data"
    },
    {
     "data": {
      "text/html": [
       "<pre>recommendations finished on 5000/43154 queries. users per second: 6677.34</pre>"
      ],
      "text/plain": [
       "recommendations finished on 5000/43154 queries. users per second: 6677.34"
      ]
     },
     "metadata": {},
     "output_type": "display_data"
    },
    {
     "data": {
      "text/html": [
       "<pre>recommendations finished on 6000/43154 queries. users per second: 6747.62</pre>"
      ],
      "text/plain": [
       "recommendations finished on 6000/43154 queries. users per second: 6747.62"
      ]
     },
     "metadata": {},
     "output_type": "display_data"
    },
    {
     "data": {
      "text/html": [
       "<pre>recommendations finished on 7000/43154 queries. users per second: 6697.27</pre>"
      ],
      "text/plain": [
       "recommendations finished on 7000/43154 queries. users per second: 6697.27"
      ]
     },
     "metadata": {},
     "output_type": "display_data"
    },
    {
     "data": {
      "text/html": [
       "<pre>recommendations finished on 8000/43154 queries. users per second: 6660</pre>"
      ],
      "text/plain": [
       "recommendations finished on 8000/43154 queries. users per second: 6660"
      ]
     },
     "metadata": {},
     "output_type": "display_data"
    },
    {
     "data": {
      "text/html": [
       "<pre>recommendations finished on 9000/43154 queries. users per second: 6708.4</pre>"
      ],
      "text/plain": [
       "recommendations finished on 9000/43154 queries. users per second: 6708.4"
      ]
     },
     "metadata": {},
     "output_type": "display_data"
    },
    {
     "data": {
      "text/html": [
       "<pre>recommendations finished on 10000/43154 queries. users per second: 6608.5</pre>"
      ],
      "text/plain": [
       "recommendations finished on 10000/43154 queries. users per second: 6608.5"
      ]
     },
     "metadata": {},
     "output_type": "display_data"
    },
    {
     "data": {
      "text/html": [
       "<pre>recommendations finished on 11000/43154 queries. users per second: 6589.97</pre>"
      ],
      "text/plain": [
       "recommendations finished on 11000/43154 queries. users per second: 6589.97"
      ]
     },
     "metadata": {},
     "output_type": "display_data"
    },
    {
     "data": {
      "text/html": [
       "<pre>recommendations finished on 12000/43154 queries. users per second: 6574.61</pre>"
      ],
      "text/plain": [
       "recommendations finished on 12000/43154 queries. users per second: 6574.61"
      ]
     },
     "metadata": {},
     "output_type": "display_data"
    },
    {
     "data": {
      "text/html": [
       "<pre>recommendations finished on 13000/43154 queries. users per second: 6561.67</pre>"
      ],
      "text/plain": [
       "recommendations finished on 13000/43154 queries. users per second: 6561.67"
      ]
     },
     "metadata": {},
     "output_type": "display_data"
    },
    {
     "data": {
      "text/html": [
       "<pre>recommendations finished on 14000/43154 queries. users per second: 6550.61</pre>"
      ],
      "text/plain": [
       "recommendations finished on 14000/43154 queries. users per second: 6550.61"
      ]
     },
     "metadata": {},
     "output_type": "display_data"
    },
    {
     "data": {
      "text/html": [
       "<pre>recommendations finished on 15000/43154 queries. users per second: 6541.07</pre>"
      ],
      "text/plain": [
       "recommendations finished on 15000/43154 queries. users per second: 6541.07"
      ]
     },
     "metadata": {},
     "output_type": "display_data"
    },
    {
     "data": {
      "text/html": [
       "<pre>recommendations finished on 16000/43154 queries. users per second: 6617.03</pre>"
      ],
      "text/plain": [
       "recommendations finished on 16000/43154 queries. users per second: 6617.03"
      ]
     },
     "metadata": {},
     "output_type": "display_data"
    },
    {
     "data": {
      "text/html": [
       "<pre>recommendations finished on 17000/43154 queries. users per second: 6564.71</pre>"
      ],
      "text/plain": [
       "recommendations finished on 17000/43154 queries. users per second: 6564.71"
      ]
     },
     "metadata": {},
     "output_type": "display_data"
    },
    {
     "data": {
      "text/html": [
       "<pre>recommendations finished on 18000/43154 queries. users per second: 6339.8</pre>"
      ],
      "text/plain": [
       "recommendations finished on 18000/43154 queries. users per second: 6339.8"
      ]
     },
     "metadata": {},
     "output_type": "display_data"
    },
    {
     "data": {
      "text/html": [
       "<pre>recommendations finished on 19000/43154 queries. users per second: 6310.6</pre>"
      ],
      "text/plain": [
       "recommendations finished on 19000/43154 queries. users per second: 6310.6"
      ]
     },
     "metadata": {},
     "output_type": "display_data"
    },
    {
     "data": {
      "text/html": [
       "<pre>recommendations finished on 20000/43154 queries. users per second: 6284.55</pre>"
      ],
      "text/plain": [
       "recommendations finished on 20000/43154 queries. users per second: 6284.55"
      ]
     },
     "metadata": {},
     "output_type": "display_data"
    },
    {
     "data": {
      "text/html": [
       "<pre>recommendations finished on 21000/43154 queries. users per second: 6232.18</pre>"
      ],
      "text/plain": [
       "recommendations finished on 21000/43154 queries. users per second: 6232.18"
      ]
     },
     "metadata": {},
     "output_type": "display_data"
    },
    {
     "data": {
      "text/html": [
       "<pre>recommendations finished on 22000/43154 queries. users per second: 6185.32</pre>"
      ],
      "text/plain": [
       "recommendations finished on 22000/43154 queries. users per second: 6185.32"
      ]
     },
     "metadata": {},
     "output_type": "display_data"
    },
    {
     "data": {
      "text/html": [
       "<pre>recommendations finished on 23000/43154 queries. users per second: 6168.85</pre>"
      ],
      "text/plain": [
       "recommendations finished on 23000/43154 queries. users per second: 6168.85"
      ]
     },
     "metadata": {},
     "output_type": "display_data"
    },
    {
     "data": {
      "text/html": [
       "<pre>recommendations finished on 24000/43154 queries. users per second: 6080.86</pre>"
      ],
      "text/plain": [
       "recommendations finished on 24000/43154 queries. users per second: 6080.86"
      ]
     },
     "metadata": {},
     "output_type": "display_data"
    },
    {
     "data": {
      "text/html": [
       "<pre>recommendations finished on 25000/43154 queries. users per second: 6070.31</pre>"
      ],
      "text/plain": [
       "recommendations finished on 25000/43154 queries. users per second: 6070.31"
      ]
     },
     "metadata": {},
     "output_type": "display_data"
    },
    {
     "data": {
      "text/html": [
       "<pre>recommendations finished on 26000/43154 queries. users per second: 6060.59</pre>"
      ],
      "text/plain": [
       "recommendations finished on 26000/43154 queries. users per second: 6060.59"
      ]
     },
     "metadata": {},
     "output_type": "display_data"
    },
    {
     "data": {
      "text/html": [
       "<pre>recommendations finished on 27000/43154 queries. users per second: 6051.63</pre>"
      ],
      "text/plain": [
       "recommendations finished on 27000/43154 queries. users per second: 6051.63"
      ]
     },
     "metadata": {},
     "output_type": "display_data"
    },
    {
     "data": {
      "text/html": [
       "<pre>recommendations finished on 28000/43154 queries. users per second: 6043.33</pre>"
      ],
      "text/plain": [
       "recommendations finished on 28000/43154 queries. users per second: 6043.33"
      ]
     },
     "metadata": {},
     "output_type": "display_data"
    },
    {
     "data": {
      "text/html": [
       "<pre>recommendations finished on 29000/43154 queries. users per second: 6055.28</pre>"
      ],
      "text/plain": [
       "recommendations finished on 29000/43154 queries. users per second: 6055.28"
      ]
     },
     "metadata": {},
     "output_type": "display_data"
    },
    {
     "data": {
      "text/html": [
       "<pre>recommendations finished on 30000/43154 queries. users per second: 6028.44</pre>"
      ],
      "text/plain": [
       "recommendations finished on 30000/43154 queries. users per second: 6028.44"
      ]
     },
     "metadata": {},
     "output_type": "display_data"
    },
    {
     "data": {
      "text/html": [
       "<pre>recommendations finished on 31000/43154 queries. users per second: 6040.05</pre>"
      ],
      "text/plain": [
       "recommendations finished on 31000/43154 queries. users per second: 6040.05"
      ]
     },
     "metadata": {},
     "output_type": "display_data"
    },
    {
     "data": {
      "text/html": [
       "<pre>recommendations finished on 32000/43154 queries. users per second: 6068.87</pre>"
      ],
      "text/plain": [
       "recommendations finished on 32000/43154 queries. users per second: 6068.87"
      ]
     },
     "metadata": {},
     "output_type": "display_data"
    },
    {
     "data": {
      "text/html": [
       "<pre>recommendations finished on 33000/43154 queries. users per second: 6096.2</pre>"
      ],
      "text/plain": [
       "recommendations finished on 33000/43154 queries. users per second: 6096.2"
      ]
     },
     "metadata": {},
     "output_type": "display_data"
    },
    {
     "data": {
      "text/html": [
       "<pre>recommendations finished on 34000/43154 queries. users per second: 6122.14</pre>"
      ],
      "text/plain": [
       "recommendations finished on 34000/43154 queries. users per second: 6122.14"
      ]
     },
     "metadata": {},
     "output_type": "display_data"
    },
    {
     "data": {
      "text/html": [
       "<pre>recommendations finished on 35000/43154 queries. users per second: 6130.02</pre>"
      ],
      "text/plain": [
       "recommendations finished on 35000/43154 queries. users per second: 6130.02"
      ]
     },
     "metadata": {},
     "output_type": "display_data"
    },
    {
     "data": {
      "text/html": [
       "<pre>recommendations finished on 36000/43154 queries. users per second: 6153.84</pre>"
      ],
      "text/plain": [
       "recommendations finished on 36000/43154 queries. users per second: 6153.84"
      ]
     },
     "metadata": {},
     "output_type": "display_data"
    },
    {
     "data": {
      "text/html": [
       "<pre>recommendations finished on 37000/43154 queries. users per second: 6144.54</pre>"
      ],
      "text/plain": [
       "recommendations finished on 37000/43154 queries. users per second: 6144.54"
      ]
     },
     "metadata": {},
     "output_type": "display_data"
    },
    {
     "data": {
      "text/html": [
       "<pre>recommendations finished on 38000/43154 queries. users per second: 6120.33</pre>"
      ],
      "text/plain": [
       "recommendations finished on 38000/43154 queries. users per second: 6120.33"
      ]
     },
     "metadata": {},
     "output_type": "display_data"
    },
    {
     "data": {
      "text/html": [
       "<pre>recommendations finished on 39000/43154 queries. users per second: 6067.95</pre>"
      ],
      "text/plain": [
       "recommendations finished on 39000/43154 queries. users per second: 6067.95"
      ]
     },
     "metadata": {},
     "output_type": "display_data"
    },
    {
     "data": {
      "text/html": [
       "<pre>recommendations finished on 40000/43154 queries. users per second: 6019.01</pre>"
      ],
      "text/plain": [
       "recommendations finished on 40000/43154 queries. users per second: 6019.01"
      ]
     },
     "metadata": {},
     "output_type": "display_data"
    },
    {
     "data": {
      "text/html": [
       "<pre>recommendations finished on 41000/43154 queries. users per second: 5973.18</pre>"
      ],
      "text/plain": [
       "recommendations finished on 41000/43154 queries. users per second: 5973.18"
      ]
     },
     "metadata": {},
     "output_type": "display_data"
    },
    {
     "data": {
      "text/html": [
       "<pre>recommendations finished on 42000/43154 queries. users per second: 5840.14</pre>"
      ],
      "text/plain": [
       "recommendations finished on 42000/43154 queries. users per second: 5840.14"
      ]
     },
     "metadata": {},
     "output_type": "display_data"
    },
    {
     "data": {
      "text/html": [
       "<pre>recommendations finished on 43000/43154 queries. users per second: 5706.84</pre>"
      ],
      "text/plain": [
       "recommendations finished on 43000/43154 queries. users per second: 5706.84"
      ]
     },
     "metadata": {},
     "output_type": "display_data"
    },
    {
     "name": "stdout",
     "output_type": "stream",
     "text": [
      "\n",
      "Precision and recall summary statistics by cutoff\n",
      "+--------+-------------------+-------------------+\n",
      "| cutoff |   mean_precision  |    mean_recall    |\n",
      "+--------+-------------------+-------------------+\n",
      "|   1    | 0.000579320572832 | 0.000283969067859 |\n",
      "|   2    | 0.000718357510312 | 0.000526208190846 |\n",
      "|   3    | 0.000641114767268 | 0.000597499410119 |\n",
      "|   4    | 0.000631459424387 | 0.000704736363739 |\n",
      "|   5    | 0.000667377299903 | 0.000788203265847 |\n",
      "|   6    | 0.000668149727333 |  0.00091931006487 |\n",
      "|   7    | 0.000668701461212 |  0.00107001125458 |\n",
      "|   8    | 0.000657528850165 |  0.00120696931768 |\n",
      "|   9    | 0.000646264283471 |  0.00134253035631 |\n",
      "|   10   | 0.000660425453029 |  0.0014967894069  |\n",
      "+--------+-------------------+-------------------+\n",
      "[10 rows x 3 columns]\n",
      "\n",
      "('\\nOverall RMSE: ', 0.9383069988901788)\n",
      "\n",
      "Per User RMSE (best)\n",
      "+---------+-------+------+\n",
      "| user_id | count | rmse |\n",
      "+---------+-------+------+\n",
      "|  50736  |   1   | 0.0  |\n",
      "+---------+-------+------+\n",
      "[1 rows x 3 columns]\n",
      "\n",
      "\n",
      "Per User RMSE (worst)\n",
      "+---------+-------+---------------+\n",
      "| user_id | count |      rmse     |\n",
      "+---------+-------+---------------+\n",
      "|  18211  |   1   | 3.33333333333 |\n",
      "+---------+-------+---------------+\n",
      "[1 rows x 3 columns]\n",
      "\n",
      "\n",
      "Per Item RMSE (best)\n",
      "+---------+-------+----------------+\n",
      "| book_id | count |      rmse      |\n",
      "+---------+-------+----------------+\n",
      "|   5207  |   30  | 0.331222668324 |\n",
      "+---------+-------+----------------+\n",
      "[1 rows x 3 columns]\n",
      "\n",
      "\n",
      "Per Item RMSE (worst)\n",
      "+---------+-------+---------------+\n",
      "| book_id | count |      rmse     |\n",
      "+---------+-------+---------------+\n",
      "|   464   |   18  | 1.81952564334 |\n",
      "+---------+-------+---------------+\n",
      "[1 rows x 3 columns]\n",
      "\n",
      "PROGRESS: Evaluate model item_sim_model_nnsparse\n"
     ]
    },
    {
     "data": {
      "text/html": [
       "<pre>recommendations finished on 1000/43154 queries. users per second: 4930.97</pre>"
      ],
      "text/plain": [
       "recommendations finished on 1000/43154 queries. users per second: 4930.97"
      ]
     },
     "metadata": {},
     "output_type": "display_data"
    },
    {
     "data": {
      "text/html": [
       "<pre>recommendations finished on 2000/43154 queries. users per second: 5341.87</pre>"
      ],
      "text/plain": [
       "recommendations finished on 2000/43154 queries. users per second: 5341.87"
      ]
     },
     "metadata": {},
     "output_type": "display_data"
    },
    {
     "data": {
      "text/html": [
       "<pre>recommendations finished on 3000/43154 queries. users per second: 5494.5</pre>"
      ],
      "text/plain": [
       "recommendations finished on 3000/43154 queries. users per second: 5494.5"
      ]
     },
     "metadata": {},
     "output_type": "display_data"
    },
    {
     "data": {
      "text/html": [
       "<pre>recommendations finished on 4000/43154 queries. users per second: 5698</pre>"
      ],
      "text/plain": [
       "recommendations finished on 4000/43154 queries. users per second: 5698"
      ]
     },
     "metadata": {},
     "output_type": "display_data"
    },
    {
     "data": {
      "text/html": [
       "<pre>recommendations finished on 5000/43154 queries. users per second: 5827.5</pre>"
      ],
      "text/plain": [
       "recommendations finished on 5000/43154 queries. users per second: 5827.5"
      ]
     },
     "metadata": {},
     "output_type": "display_data"
    },
    {
     "data": {
      "text/html": [
       "<pre>recommendations finished on 6000/43154 queries. users per second: 5827.49</pre>"
      ],
      "text/plain": [
       "recommendations finished on 6000/43154 queries. users per second: 5827.49"
      ]
     },
     "metadata": {},
     "output_type": "display_data"
    },
    {
     "data": {
      "text/html": [
       "<pre>recommendations finished on 7000/43154 queries. users per second: 5904.17</pre>"
      ],
      "text/plain": [
       "recommendations finished on 7000/43154 queries. users per second: 5904.17"
      ]
     },
     "metadata": {},
     "output_type": "display_data"
    },
    {
     "data": {
      "text/html": [
       "<pre>recommendations finished on 8000/43154 queries. users per second: 5963.02</pre>"
      ],
      "text/plain": [
       "recommendations finished on 8000/43154 queries. users per second: 5963.02"
      ]
     },
     "metadata": {},
     "output_type": "display_data"
    },
    {
     "data": {
      "text/html": [
       "<pre>recommendations finished on 9000/43154 queries. users per second: 6009.6</pre>"
      ],
      "text/plain": [
       "recommendations finished on 9000/43154 queries. users per second: 6009.6"
      ]
     },
     "metadata": {},
     "output_type": "display_data"
    },
    {
     "data": {
      "text/html": [
       "<pre>recommendations finished on 10000/43154 queries. users per second: 6104.99</pre>"
      ],
      "text/plain": [
       "recommendations finished on 10000/43154 queries. users per second: 6104.99"
      ]
     },
     "metadata": {},
     "output_type": "display_data"
    },
    {
     "data": {
      "text/html": [
       "<pre>recommendations finished on 11000/43154 queries. users per second: 6026.73</pre>"
      ],
      "text/plain": [
       "recommendations finished on 11000/43154 queries. users per second: 6026.73"
      ]
     },
     "metadata": {},
     "output_type": "display_data"
    },
    {
     "data": {
      "text/html": [
       "<pre>recommendations finished on 12000/43154 queries. users per second: 6009.61</pre>"
      ],
      "text/plain": [
       "recommendations finished on 12000/43154 queries. users per second: 6009.61"
      ]
     },
     "metadata": {},
     "output_type": "display_data"
    },
    {
     "data": {
      "text/html": [
       "<pre>recommendations finished on 13000/43154 queries. users per second: 5995.19</pre>"
      ],
      "text/plain": [
       "recommendations finished on 13000/43154 queries. users per second: 5995.19"
      ]
     },
     "metadata": {},
     "output_type": "display_data"
    },
    {
     "data": {
      "text/html": [
       "<pre>recommendations finished on 14000/43154 queries. users per second: 6023.05</pre>"
      ],
      "text/plain": [
       "recommendations finished on 14000/43154 queries. users per second: 6023.05"
      ]
     },
     "metadata": {},
     "output_type": "display_data"
    },
    {
     "data": {
      "text/html": [
       "<pre>recommendations finished on 15000/43154 queries. users per second: 6124.44</pre>"
      ],
      "text/plain": [
       "recommendations finished on 15000/43154 queries. users per second: 6124.44"
      ]
     },
     "metadata": {},
     "output_type": "display_data"
    },
    {
     "data": {
      "text/html": [
       "<pre>recommendations finished on 16000/43154 queries. users per second: 6178.55</pre>"
      ],
      "text/plain": [
       "recommendations finished on 16000/43154 queries. users per second: 6178.55"
      ]
     },
     "metadata": {},
     "output_type": "display_data"
    },
    {
     "data": {
      "text/html": [
       "<pre>recommendations finished on 17000/43154 queries. users per second: 6227.09</pre>"
      ],
      "text/plain": [
       "recommendations finished on 17000/43154 queries. users per second: 6227.09"
      ]
     },
     "metadata": {},
     "output_type": "display_data"
    },
    {
     "data": {
      "text/html": [
       "<pre>recommendations finished on 18000/43154 queries. users per second: 6203.46</pre>"
      ],
      "text/plain": [
       "recommendations finished on 18000/43154 queries. users per second: 6203.46"
      ]
     },
     "metadata": {},
     "output_type": "display_data"
    },
    {
     "data": {
      "text/html": [
       "<pre>recommendations finished on 19000/43154 queries. users per second: 6214.01</pre>"
      ],
      "text/plain": [
       "recommendations finished on 19000/43154 queries. users per second: 6214.01"
      ]
     },
     "metadata": {},
     "output_type": "display_data"
    },
    {
     "data": {
      "text/html": [
       "<pre>recommendations finished on 20000/43154 queries. users per second: 6253.9</pre>"
      ],
      "text/plain": [
       "recommendations finished on 20000/43154 queries. users per second: 6253.9"
      ]
     },
     "metadata": {},
     "output_type": "display_data"
    },
    {
     "data": {
      "text/html": [
       "<pre>recommendations finished on 21000/43154 queries. users per second: 6261.17</pre>"
      ],
      "text/plain": [
       "recommendations finished on 21000/43154 queries. users per second: 6261.17"
      ]
     },
     "metadata": {},
     "output_type": "display_data"
    },
    {
     "data": {
      "text/html": [
       "<pre>recommendations finished on 22000/43154 queries. users per second: 6267.8</pre>"
      ],
      "text/plain": [
       "recommendations finished on 22000/43154 queries. users per second: 6267.8"
      ]
     },
     "metadata": {},
     "output_type": "display_data"
    },
    {
     "data": {
      "text/html": [
       "<pre>recommendations finished on 23000/43154 queries. users per second: 6300.67</pre>"
      ],
      "text/plain": [
       "recommendations finished on 23000/43154 queries. users per second: 6300.67"
      ]
     },
     "metadata": {},
     "output_type": "display_data"
    },
    {
     "data": {
      "text/html": [
       "<pre>recommendations finished on 24000/43154 queries. users per second: 6305.16</pre>"
      ],
      "text/plain": [
       "recommendations finished on 24000/43154 queries. users per second: 6305.16"
      ]
     },
     "metadata": {},
     "output_type": "display_data"
    },
    {
     "data": {
      "text/html": [
       "<pre>recommendations finished on 25000/43154 queries. users per second: 6309.3</pre>"
      ],
      "text/plain": [
       "recommendations finished on 25000/43154 queries. users per second: 6309.3"
      ]
     },
     "metadata": {},
     "output_type": "display_data"
    },
    {
     "data": {
      "text/html": [
       "<pre>recommendations finished on 26000/43154 queries. users per second: 6337.12</pre>"
      ],
      "text/plain": [
       "recommendations finished on 26000/43154 queries. users per second: 6337.12"
      ]
     },
     "metadata": {},
     "output_type": "display_data"
    },
    {
     "data": {
      "text/html": [
       "<pre>recommendations finished on 27000/43154 queries. users per second: 6339.8</pre>"
      ],
      "text/plain": [
       "recommendations finished on 27000/43154 queries. users per second: 6339.8"
      ]
     },
     "metadata": {},
     "output_type": "display_data"
    },
    {
     "data": {
      "text/html": [
       "<pre>recommendations finished on 28000/43154 queries. users per second: 6342.29</pre>"
      ],
      "text/plain": [
       "recommendations finished on 28000/43154 queries. users per second: 6342.29"
      ]
     },
     "metadata": {},
     "output_type": "display_data"
    },
    {
     "data": {
      "text/html": [
       "<pre>recommendations finished on 29000/43154 queries. users per second: 6344.61</pre>"
      ],
      "text/plain": [
       "recommendations finished on 29000/43154 queries. users per second: 6344.61"
      ]
     },
     "metadata": {},
     "output_type": "display_data"
    },
    {
     "data": {
      "text/html": [
       "<pre>recommendations finished on 30000/43154 queries. users per second: 6367.79</pre>"
      ],
      "text/plain": [
       "recommendations finished on 30000/43154 queries. users per second: 6367.79"
      ]
     },
     "metadata": {},
     "output_type": "display_data"
    },
    {
     "data": {
      "text/html": [
       "<pre>recommendations finished on 31000/43154 queries. users per second: 6410.25</pre>"
      ],
      "text/plain": [
       "recommendations finished on 31000/43154 queries. users per second: 6410.25"
      ]
     },
     "metadata": {},
     "output_type": "display_data"
    },
    {
     "data": {
      "text/html": [
       "<pre>recommendations finished on 32000/43154 queries. users per second: 6370.43</pre>"
      ],
      "text/plain": [
       "recommendations finished on 32000/43154 queries. users per second: 6370.43"
      ]
     },
     "metadata": {},
     "output_type": "display_data"
    },
    {
     "data": {
      "text/html": [
       "<pre>recommendations finished on 33000/43154 queries. users per second: 6371.63</pre>"
      ],
      "text/plain": [
       "recommendations finished on 33000/43154 queries. users per second: 6371.63"
      ]
     },
     "metadata": {},
     "output_type": "display_data"
    },
    {
     "data": {
      "text/html": [
       "<pre>recommendations finished on 34000/43154 queries. users per second: 6391.45</pre>"
      ],
      "text/plain": [
       "recommendations finished on 34000/43154 queries. users per second: 6391.45"
      ]
     },
     "metadata": {},
     "output_type": "display_data"
    },
    {
     "data": {
      "text/html": [
       "<pre>recommendations finished on 35000/43154 queries. users per second: 6337.81</pre>"
      ],
      "text/plain": [
       "recommendations finished on 35000/43154 queries. users per second: 6337.81"
      ]
     },
     "metadata": {},
     "output_type": "display_data"
    },
    {
     "data": {
      "text/html": [
       "<pre>recommendations finished on 36000/43154 queries. users per second: 6339.8</pre>"
      ],
      "text/plain": [
       "recommendations finished on 36000/43154 queries. users per second: 6339.8"
      ]
     },
     "metadata": {},
     "output_type": "display_data"
    },
    {
     "data": {
      "text/html": [
       "<pre>recommendations finished on 37000/43154 queries. users per second: 6358.69</pre>"
      ],
      "text/plain": [
       "recommendations finished on 37000/43154 queries. users per second: 6358.69"
      ]
     },
     "metadata": {},
     "output_type": "display_data"
    },
    {
     "data": {
      "text/html": [
       "<pre>recommendations finished on 38000/43154 queries. users per second: 6343.47</pre>"
      ],
      "text/plain": [
       "recommendations finished on 38000/43154 queries. users per second: 6343.47"
      ]
     },
     "metadata": {},
     "output_type": "display_data"
    },
    {
     "data": {
      "text/html": [
       "<pre>recommendations finished on 39000/43154 queries. users per second: 6329.1</pre>"
      ],
      "text/plain": [
       "recommendations finished on 39000/43154 queries. users per second: 6329.1"
      ]
     },
     "metadata": {},
     "output_type": "display_data"
    },
    {
     "data": {
      "text/html": [
       "<pre>recommendations finished on 40000/43154 queries. users per second: 6300</pre>"
      ],
      "text/plain": [
       "recommendations finished on 40000/43154 queries. users per second: 6300"
      ]
     },
     "metadata": {},
     "output_type": "display_data"
    },
    {
     "data": {
      "text/html": [
       "<pre>recommendations finished on 41000/43154 queries. users per second: 6227.96</pre>"
      ],
      "text/plain": [
       "recommendations finished on 41000/43154 queries. users per second: 6227.96"
      ]
     },
     "metadata": {},
     "output_type": "display_data"
    },
    {
     "data": {
      "text/html": [
       "<pre>recommendations finished on 42000/43154 queries. users per second: 6146.81</pre>"
      ],
      "text/plain": [
       "recommendations finished on 42000/43154 queries. users per second: 6146.81"
      ]
     },
     "metadata": {},
     "output_type": "display_data"
    },
    {
     "data": {
      "text/html": [
       "<pre>recommendations finished on 43000/43154 queries. users per second: 5966.25</pre>"
      ],
      "text/plain": [
       "recommendations finished on 43000/43154 queries. users per second: 5966.25"
      ]
     },
     "metadata": {},
     "output_type": "display_data"
    },
    {
     "name": "stdout",
     "output_type": "stream",
     "text": [
      "\n",
      "Precision and recall summary statistics by cutoff\n",
      "+--------+-------------------+-------------------+\n",
      "| cutoff |   mean_precision  |    mean_recall    |\n",
      "+--------+-------------------+-------------------+\n",
      "|   1    | 0.000579320572832 | 0.000283969067859 |\n",
      "|   2    | 0.000718357510312 | 0.000526208190846 |\n",
      "|   3    | 0.000641114767268 | 0.000597499410119 |\n",
      "|   4    | 0.000625666218659 | 0.000703191508878 |\n",
      "|   5    | 0.000667377299903 | 0.000788203265847 |\n",
      "|   6    | 0.000668149727333 |  0.00091931006487 |\n",
      "|   7    | 0.000668701461212 |  0.00107001125458 |\n",
      "|   8    | 0.000657528850165 |  0.00120696931768 |\n",
      "|   9    | 0.000646264283471 |  0.00134253035631 |\n",
      "|   10   | 0.000660425453029 |  0.0014967894069  |\n",
      "+--------+-------------------+-------------------+\n",
      "[10 rows x 3 columns]\n",
      "\n",
      "('\\nOverall RMSE: ', 0.9382930740041785)\n",
      "\n",
      "Per User RMSE (best)\n",
      "+---------+-------+------+\n",
      "| user_id | count | rmse |\n",
      "+---------+-------+------+\n",
      "|  40559  |   1   | 0.0  |\n",
      "+---------+-------+------+\n",
      "[1 rows x 3 columns]\n",
      "\n",
      "\n",
      "Per User RMSE (worst)\n",
      "+---------+-------+---------------+\n",
      "| user_id | count |      rmse     |\n",
      "+---------+-------+---------------+\n",
      "|  18211  |   1   | 3.33333333333 |\n",
      "+---------+-------+---------------+\n",
      "[1 rows x 3 columns]\n",
      "\n",
      "\n",
      "Per Item RMSE (best)\n",
      "+---------+-------+----------------+\n",
      "| book_id | count |      rmse      |\n",
      "+---------+-------+----------------+\n",
      "|   5207  |   30  | 0.331235507505 |\n",
      "+---------+-------+----------------+\n",
      "[1 rows x 3 columns]\n",
      "\n",
      "\n",
      "Per Item RMSE (worst)\n",
      "+---------+-------+---------------+\n",
      "| book_id | count |      rmse     |\n",
      "+---------+-------+---------------+\n",
      "|   464   |   18  | 1.81952564334 |\n",
      "+---------+-------+---------------+\n",
      "[1 rows x 3 columns]\n",
      "\n",
      "PROGRESS: Evaluate model item_sim_model_nndense\n"
     ]
    },
    {
     "data": {
      "text/html": [
       "<pre>recommendations finished on 1000/43154 queries. users per second: 5341.85</pre>"
      ],
      "text/plain": [
       "recommendations finished on 1000/43154 queries. users per second: 5341.85"
      ]
     },
     "metadata": {},
     "output_type": "display_data"
    },
    {
     "data": {
      "text/html": [
       "<pre>recommendations finished on 2000/43154 queries. users per second: 5827.49</pre>"
      ],
      "text/plain": [
       "recommendations finished on 2000/43154 queries. users per second: 5827.49"
      ]
     },
     "metadata": {},
     "output_type": "display_data"
    },
    {
     "data": {
      "text/html": [
       "<pre>recommendations finished on 3000/43154 queries. users per second: 6203.46</pre>"
      ],
      "text/plain": [
       "recommendations finished on 3000/43154 queries. users per second: 6203.46"
      ]
     },
     "metadata": {},
     "output_type": "display_data"
    },
    {
     "data": {
      "text/html": [
       "<pre>recommendations finished on 4000/43154 queries. users per second: 6105</pre>"
      ],
      "text/plain": [
       "recommendations finished on 4000/43154 queries. users per second: 6105"
      ]
     },
     "metadata": {},
     "output_type": "display_data"
    },
    {
     "data": {
      "text/html": [
       "<pre>recommendations finished on 5000/43154 queries. users per second: 6284.55</pre>"
      ],
      "text/plain": [
       "recommendations finished on 5000/43154 queries. users per second: 6284.55"
      ]
     },
     "metadata": {},
     "output_type": "display_data"
    },
    {
     "data": {
      "text/html": [
       "<pre>recommendations finished on 6000/43154 queries. users per second: 6203.46</pre>"
      ],
      "text/plain": [
       "recommendations finished on 6000/43154 queries. users per second: 6203.46"
      ]
     },
     "metadata": {},
     "output_type": "display_data"
    },
    {
     "data": {
      "text/html": [
       "<pre>recommendations finished on 7000/43154 queries. users per second: 6319.96</pre>"
      ],
      "text/plain": [
       "recommendations finished on 7000/43154 queries. users per second: 6319.96"
      ]
     },
     "metadata": {},
     "output_type": "display_data"
    },
    {
     "data": {
      "text/html": [
       "<pre>recommendations finished on 8000/43154 queries. users per second: 6178.55</pre>"
      ],
      "text/plain": [
       "recommendations finished on 8000/43154 queries. users per second: 6178.55"
      ]
     },
     "metadata": {},
     "output_type": "display_data"
    },
    {
     "data": {
      "text/html": [
       "<pre>recommendations finished on 9000/43154 queries. users per second: 6203.46</pre>"
      ],
      "text/plain": [
       "recommendations finished on 9000/43154 queries. users per second: 6203.46"
      ]
     },
     "metadata": {},
     "output_type": "display_data"
    },
    {
     "data": {
      "text/html": [
       "<pre>recommendations finished on 10000/43154 queries. users per second: 6284.55</pre>"
      ],
      "text/plain": [
       "recommendations finished on 10000/43154 queries. users per second: 6284.55"
      ]
     },
     "metadata": {},
     "output_type": "display_data"
    },
    {
     "data": {
      "text/html": [
       "<pre>recommendations finished on 11000/43154 queries. users per second: 6410.25</pre>"
      ],
      "text/plain": [
       "recommendations finished on 11000/43154 queries. users per second: 6410.25"
      ]
     },
     "metadata": {},
     "output_type": "display_data"
    },
    {
     "data": {
      "text/html": [
       "<pre>recommendations finished on 12000/43154 queries. users per second: 6253.9</pre>"
      ],
      "text/plain": [
       "recommendations finished on 12000/43154 queries. users per second: 6253.9"
      ]
     },
     "metadata": {},
     "output_type": "display_data"
    },
    {
     "data": {
      "text/html": [
       "<pre>recommendations finished on 13000/43154 queries. users per second: 6082.71</pre>"
      ],
      "text/plain": [
       "recommendations finished on 13000/43154 queries. users per second: 6082.71"
      ]
     },
     "metadata": {},
     "output_type": "display_data"
    },
    {
     "data": {
      "text/html": [
       "<pre>recommendations finished on 14000/43154 queries. users per second: 6063.75</pre>"
      ],
      "text/plain": [
       "recommendations finished on 14000/43154 queries. users per second: 6063.75"
      ]
     },
     "metadata": {},
     "output_type": "display_data"
    },
    {
     "data": {
      "text/html": [
       "<pre>recommendations finished on 15000/43154 queries. users per second: 5972.28</pre>"
      ],
      "text/plain": [
       "recommendations finished on 15000/43154 queries. users per second: 5972.28"
      ]
     },
     "metadata": {},
     "output_type": "display_data"
    },
    {
     "data": {
      "text/html": [
       "<pre>recommendations finished on 16000/43154 queries. users per second: 5928.55</pre>"
      ],
      "text/plain": [
       "recommendations finished on 16000/43154 queries. users per second: 5928.55"
      ]
     },
     "metadata": {},
     "output_type": "display_data"
    },
    {
     "data": {
      "text/html": [
       "<pre>recommendations finished on 17000/43154 queries. users per second: 5987.59</pre>"
      ],
      "text/plain": [
       "recommendations finished on 17000/43154 queries. users per second: 5987.59"
      ]
     },
     "metadata": {},
     "output_type": "display_data"
    },
    {
     "data": {
      "text/html": [
       "<pre>recommendations finished on 18000/43154 queries. users per second: 6009.6</pre>"
      ],
      "text/plain": [
       "recommendations finished on 18000/43154 queries. users per second: 6009.6"
      ]
     },
     "metadata": {},
     "output_type": "display_data"
    },
    {
     "data": {
      "text/html": [
       "<pre>recommendations finished on 19000/43154 queries. users per second: 6029.44</pre>"
      ],
      "text/plain": [
       "recommendations finished on 19000/43154 queries. users per second: 6029.44"
      ]
     },
     "metadata": {},
     "output_type": "display_data"
    },
    {
     "data": {
      "text/html": [
       "<pre>recommendations finished on 20000/43154 queries. users per second: 6076.06</pre>"
      ],
      "text/plain": [
       "recommendations finished on 20000/43154 queries. users per second: 6076.06"
      ]
     },
     "metadata": {},
     "output_type": "display_data"
    },
    {
     "data": {
      "text/html": [
       "<pre>recommendations finished on 21000/43154 queries. users per second: 6091.18</pre>"
      ],
      "text/plain": [
       "recommendations finished on 21000/43154 queries. users per second: 6091.18"
      ]
     },
     "metadata": {},
     "output_type": "display_data"
    },
    {
     "data": {
      "text/html": [
       "<pre>recommendations finished on 22000/43154 queries. users per second: 6104.99</pre>"
      ],
      "text/plain": [
       "recommendations finished on 22000/43154 queries. users per second: 6104.99"
      ]
     },
     "metadata": {},
     "output_type": "display_data"
    },
    {
     "data": {
      "text/html": [
       "<pre>recommendations finished on 23000/43154 queries. users per second: 6168.85</pre>"
      ],
      "text/plain": [
       "recommendations finished on 23000/43154 queries. users per second: 6168.85"
      ]
     },
     "metadata": {},
     "output_type": "display_data"
    },
    {
     "data": {
      "text/html": [
       "<pre>recommendations finished on 24000/43154 queries. users per second: 6153.84</pre>"
      ],
      "text/plain": [
       "recommendations finished on 24000/43154 queries. users per second: 6153.84"
      ]
     },
     "metadata": {},
     "output_type": "display_data"
    },
    {
     "data": {
      "text/html": [
       "<pre>recommendations finished on 25000/43154 queries. users per second: 6140.08</pre>"
      ],
      "text/plain": [
       "recommendations finished on 25000/43154 queries. users per second: 6140.08"
      ]
     },
     "metadata": {},
     "output_type": "display_data"
    },
    {
     "data": {
      "text/html": [
       "<pre>recommendations finished on 26000/43154 queries. users per second: 6150.05</pre>"
      ],
      "text/plain": [
       "recommendations finished on 26000/43154 queries. users per second: 6150.05"
      ]
     },
     "metadata": {},
     "output_type": "display_data"
    },
    {
     "data": {
      "text/html": [
       "<pre>recommendations finished on 27000/43154 queries. users per second: 6159.31</pre>"
      ],
      "text/plain": [
       "recommendations finished on 27000/43154 queries. users per second: 6159.31"
      ]
     },
     "metadata": {},
     "output_type": "display_data"
    },
    {
     "data": {
      "text/html": [
       "<pre>recommendations finished on 28000/43154 queries. users per second: 6167.93</pre>"
      ],
      "text/plain": [
       "recommendations finished on 28000/43154 queries. users per second: 6167.93"
      ]
     },
     "metadata": {},
     "output_type": "display_data"
    },
    {
     "data": {
      "text/html": [
       "<pre>recommendations finished on 29000/43154 queries. users per second: 6196.57</pre>"
      ],
      "text/plain": [
       "recommendations finished on 29000/43154 queries. users per second: 6196.57"
      ]
     },
     "metadata": {},
     "output_type": "display_data"
    },
    {
     "data": {
      "text/html": [
       "<pre>recommendations finished on 30000/43154 queries. users per second: 6183.52</pre>"
      ],
      "text/plain": [
       "recommendations finished on 30000/43154 queries. users per second: 6183.52"
      ]
     },
     "metadata": {},
     "output_type": "display_data"
    },
    {
     "data": {
      "text/html": [
       "<pre>recommendations finished on 31000/43154 queries. users per second: 6152.25</pre>"
      ],
      "text/plain": [
       "recommendations finished on 31000/43154 queries. users per second: 6152.25"
      ]
     },
     "metadata": {},
     "output_type": "display_data"
    },
    {
     "data": {
      "text/html": [
       "<pre>recommendations finished on 32000/43154 queries. users per second: 6123.22</pre>"
      ],
      "text/plain": [
       "recommendations finished on 32000/43154 queries. users per second: 6123.22"
      ]
     },
     "metadata": {},
     "output_type": "display_data"
    },
    {
     "data": {
      "text/html": [
       "<pre>recommendations finished on 33000/43154 queries. users per second: 6113.82</pre>"
      ],
      "text/plain": [
       "recommendations finished on 33000/43154 queries. users per second: 6113.82"
      ]
     },
     "metadata": {},
     "output_type": "display_data"
    },
    {
     "data": {
      "text/html": [
       "<pre>recommendations finished on 34000/43154 queries. users per second: 6122.14</pre>"
      ],
      "text/plain": [
       "recommendations finished on 34000/43154 queries. users per second: 6122.14"
      ]
     },
     "metadata": {},
     "output_type": "display_data"
    },
    {
     "data": {
      "text/html": [
       "<pre>recommendations finished on 35000/43154 queries. users per second: 6113.31</pre>"
      ],
      "text/plain": [
       "recommendations finished on 35000/43154 queries. users per second: 6113.31"
      ]
     },
     "metadata": {},
     "output_type": "display_data"
    },
    {
     "data": {
      "text/html": [
       "<pre>recommendations finished on 36000/43154 queries. users per second: 6104.99</pre>"
      ],
      "text/plain": [
       "recommendations finished on 36000/43154 queries. users per second: 6104.99"
      ]
     },
     "metadata": {},
     "output_type": "display_data"
    },
    {
     "data": {
      "text/html": [
       "<pre>recommendations finished on 37000/43154 queries. users per second: 6065.96</pre>"
      ],
      "text/plain": [
       "recommendations finished on 37000/43154 queries. users per second: 6065.96"
      ]
     },
     "metadata": {},
     "output_type": "display_data"
    },
    {
     "data": {
      "text/html": [
       "<pre>recommendations finished on 38000/43154 queries. users per second: 5999.74</pre>"
      ],
      "text/plain": [
       "recommendations finished on 38000/43154 queries. users per second: 5999.74"
      ]
     },
     "metadata": {},
     "output_type": "display_data"
    },
    {
     "data": {
      "text/html": [
       "<pre>recommendations finished on 39000/43154 queries. users per second: 5952.37</pre>"
      ],
      "text/plain": [
       "recommendations finished on 39000/43154 queries. users per second: 5952.37"
      ]
     },
     "metadata": {},
     "output_type": "display_data"
    },
    {
     "data": {
      "text/html": [
       "<pre>recommendations finished on 40000/43154 queries. users per second: 5908.06</pre>"
      ],
      "text/plain": [
       "recommendations finished on 40000/43154 queries. users per second: 5908.06"
      ]
     },
     "metadata": {},
     "output_type": "display_data"
    },
    {
     "data": {
      "text/html": [
       "<pre>recommendations finished on 41000/43154 queries. users per second: 5853.45</pre>"
      ],
      "text/plain": [
       "recommendations finished on 41000/43154 queries. users per second: 5853.45"
      ]
     },
     "metadata": {},
     "output_type": "display_data"
    },
    {
     "data": {
      "text/html": [
       "<pre>recommendations finished on 42000/43154 queries. users per second: 5814.91</pre>"
      ],
      "text/plain": [
       "recommendations finished on 42000/43154 queries. users per second: 5814.91"
      ]
     },
     "metadata": {},
     "output_type": "display_data"
    },
    {
     "data": {
      "text/html": [
       "<pre>recommendations finished on 43000/43154 queries. users per second: 5718.68</pre>"
      ],
      "text/plain": [
       "recommendations finished on 43000/43154 queries. users per second: 5718.68"
      ]
     },
     "metadata": {},
     "output_type": "display_data"
    },
    {
     "name": "stdout",
     "output_type": "stream",
     "text": [
      "\n",
      "Precision and recall summary statistics by cutoff\n",
      "+--------+-------------------+-------------------+\n",
      "| cutoff |   mean_precision  |    mean_recall    |\n",
      "+--------+-------------------+-------------------+\n",
      "|   1    | 0.000579320572832 | 0.000283969067859 |\n",
      "|   2    | 0.000718357510312 | 0.000526208190846 |\n",
      "|   3    | 0.000641114767268 | 0.000597499410119 |\n",
      "|   4    | 0.000631459424387 | 0.000704736363739 |\n",
      "|   5    | 0.000667377299903 | 0.000788203265847 |\n",
      "|   6    | 0.000668149727333 |  0.00091931006487 |\n",
      "|   7    | 0.000668701461212 |  0.00107001125458 |\n",
      "|   8    | 0.000657528850165 |  0.00120696931768 |\n",
      "|   9    | 0.000646264283471 |  0.00134253035631 |\n",
      "|   10   | 0.000660425453029 |  0.0014967894069  |\n",
      "+--------+-------------------+-------------------+\n",
      "[10 rows x 3 columns]\n",
      "\n",
      "('\\nOverall RMSE: ', 0.9382668172405365)\n",
      "\n",
      "Per User RMSE (best)\n",
      "+---------+-------+------+\n",
      "| user_id | count | rmse |\n",
      "+---------+-------+------+\n",
      "|  14042  |   1   | 0.0  |\n",
      "+---------+-------+------+\n",
      "[1 rows x 3 columns]\n",
      "\n",
      "\n",
      "Per User RMSE (worst)\n",
      "+---------+-------+---------------+\n",
      "| user_id | count |      rmse     |\n",
      "+---------+-------+---------------+\n",
      "|  18211  |   1   | 3.33333333333 |\n",
      "+---------+-------+---------------+\n",
      "[1 rows x 3 columns]\n",
      "\n",
      "\n",
      "Per Item RMSE (best)\n",
      "+---------+-------+----------------+\n",
      "| book_id | count |      rmse      |\n",
      "+---------+-------+----------------+\n",
      "|   5207  |   30  | 0.331235221287 |\n",
      "+---------+-------+----------------+\n",
      "[1 rows x 3 columns]\n",
      "\n",
      "\n",
      "Per Item RMSE (worst)\n",
      "+---------+-------+---------------+\n",
      "| book_id | count |      rmse     |\n",
      "+---------+-------+---------------+\n",
      "|   464   |   18  | 1.81952564334 |\n",
      "+---------+-------+---------------+\n",
      "[1 rows x 3 columns]\n",
      "\n"
     ]
    },
    {
     "data": {
      "text/plain": [
       "[{'precision_recall_by_user': Columns:\n",
       "  \tuser_id\tint\n",
       "  \tcutoff\tint\n",
       "  \tprecision\tfloat\n",
       "  \trecall\tfloat\n",
       "  \tcount\tint\n",
       "  \n",
       "  Rows: 776772\n",
       "  \n",
       "  Data:\n",
       "  +---------+--------+-----------+--------+-------+\n",
       "  | user_id | cutoff | precision | recall | count |\n",
       "  +---------+--------+-----------+--------+-------+\n",
       "  |    1    |   1    |    0.0    |  0.0   |   1   |\n",
       "  |    1    |   2    |    0.0    |  0.0   |   1   |\n",
       "  |    1    |   3    |    0.0    |  0.0   |   1   |\n",
       "  |    1    |   4    |    0.0    |  0.0   |   1   |\n",
       "  |    1    |   5    |    0.0    |  0.0   |   1   |\n",
       "  |    1    |   6    |    0.0    |  0.0   |   1   |\n",
       "  |    1    |   7    |    0.0    |  0.0   |   1   |\n",
       "  |    1    |   8    |    0.0    |  0.0   |   1   |\n",
       "  |    1    |   9    |    0.0    |  0.0   |   1   |\n",
       "  |    1    |   10   |    0.0    |  0.0   |   1   |\n",
       "  +---------+--------+-----------+--------+-------+\n",
       "  [776772 rows x 5 columns]\n",
       "  Note: Only the head of the SFrame is printed.\n",
       "  You can use print_rows(num_rows=m, num_columns=n) to print more rows and columns.,\n",
       "  'precision_recall_overall': Columns:\n",
       "  \tcutoff\tint\n",
       "  \tprecision\tfloat\n",
       "  \trecall\tfloat\n",
       "  \n",
       "  Rows: 18\n",
       "  \n",
       "  Data:\n",
       "  +--------+-------------------+-------------------+\n",
       "  | cutoff |     precision     |       recall      |\n",
       "  +--------+-------------------+-------------------+\n",
       "  |   1    | 0.000579320572832 | 0.000283969067859 |\n",
       "  |   2    | 0.000718357510312 | 0.000526208190846 |\n",
       "  |   3    | 0.000641114767268 | 0.000597499410119 |\n",
       "  |   4    | 0.000631459424387 | 0.000704736363739 |\n",
       "  |   5    | 0.000667377299903 | 0.000788203265847 |\n",
       "  |   6    | 0.000668149727333 |  0.00091931006487 |\n",
       "  |   7    | 0.000668701461212 |  0.00107001125458 |\n",
       "  |   8    | 0.000657528850165 |  0.00120696931768 |\n",
       "  |   9    | 0.000646264283471 |  0.00134253035631 |\n",
       "  |   10   | 0.000660425453029 |  0.0014967894069  |\n",
       "  +--------+-------------------+-------------------+\n",
       "  [18 rows x 3 columns]\n",
       "  Note: Only the head of the SFrame is printed.\n",
       "  You can use print_rows(num_rows=m, num_columns=n) to print more rows and columns.,\n",
       "  'rmse_by_item': Columns:\n",
       "  \tbook_id\tint\n",
       "  \tcount\tint\n",
       "  \trmse\tfloat\n",
       "  \n",
       "  Rows: 9999\n",
       "  \n",
       "  Data:\n",
       "  +---------+-------+----------------+\n",
       "  | book_id | count |      rmse      |\n",
       "  +---------+-------+----------------+\n",
       "  |   7899  |   27  | 0.824023086333 |\n",
       "  |   5288  |   22  | 0.73629333304  |\n",
       "  |   3143  |   27  | 0.903393413583 |\n",
       "  |   6769  |   26  | 0.93255113445  |\n",
       "  |   5684  |   28  | 0.92010804514  |\n",
       "  |   2779  |   23  | 0.857182412903 |\n",
       "  |   8455  |   24  | 0.815910098094 |\n",
       "  |   118   |   26  | 0.915673473259 |\n",
       "  |   3988  |   25  | 0.723939614945 |\n",
       "  |   5783  |   30  |  1.0255944881  |\n",
       "  +---------+-------+----------------+\n",
       "  [9999 rows x 3 columns]\n",
       "  Note: Only the head of the SFrame is printed.\n",
       "  You can use print_rows(num_rows=m, num_columns=n) to print more rows and columns.,\n",
       "  'rmse_by_user': Columns:\n",
       "  \tuser_id\tint\n",
       "  \tcount\tint\n",
       "  \trmse\tfloat\n",
       "  \n",
       "  Rows: 43154\n",
       "  \n",
       "  Data:\n",
       "  +---------+-------+-----------------+\n",
       "  | user_id | count |       rmse      |\n",
       "  +---------+-------+-----------------+\n",
       "  |  21855  |   11  |  0.81318687083  |\n",
       "  |   7899  |   1   |  0.738461538462 |\n",
       "  |  30621  |   1   |  0.507936507937 |\n",
       "  |  43116  |   1   | 0.0689333343115 |\n",
       "  |  27112  |   3   |  1.05938899984  |\n",
       "  |  26319  |   2   |  1.15293424859  |\n",
       "  |  26439  |   3   |  1.11813501468  |\n",
       "  |   5288  |   3   |  1.31044463415  |\n",
       "  |  19584  |   2   |  1.17599858176  |\n",
       "  |  22098  |   27  |  0.83927842546  |\n",
       "  +---------+-------+-----------------+\n",
       "  [43154 rows x 3 columns]\n",
       "  Note: Only the head of the SFrame is printed.\n",
       "  You can use print_rows(num_rows=m, num_columns=n) to print more rows and columns.,\n",
       "  'rmse_overall': 0.9382628155741768},\n",
       " {'precision_recall_by_user': Columns:\n",
       "  \tuser_id\tint\n",
       "  \tcutoff\tint\n",
       "  \tprecision\tfloat\n",
       "  \trecall\tfloat\n",
       "  \tcount\tint\n",
       "  \n",
       "  Rows: 776772\n",
       "  \n",
       "  Data:\n",
       "  +---------+--------+-----------+--------+-------+\n",
       "  | user_id | cutoff | precision | recall | count |\n",
       "  +---------+--------+-----------+--------+-------+\n",
       "  |    1    |   1    |    0.0    |  0.0   |   1   |\n",
       "  |    1    |   2    |    0.0    |  0.0   |   1   |\n",
       "  |    1    |   3    |    0.0    |  0.0   |   1   |\n",
       "  |    1    |   4    |    0.0    |  0.0   |   1   |\n",
       "  |    1    |   5    |    0.0    |  0.0   |   1   |\n",
       "  |    1    |   6    |    0.0    |  0.0   |   1   |\n",
       "  |    1    |   7    |    0.0    |  0.0   |   1   |\n",
       "  |    1    |   8    |    0.0    |  0.0   |   1   |\n",
       "  |    1    |   9    |    0.0    |  0.0   |   1   |\n",
       "  |    1    |   10   |    0.0    |  0.0   |   1   |\n",
       "  +---------+--------+-----------+--------+-------+\n",
       "  [776772 rows x 5 columns]\n",
       "  Note: Only the head of the SFrame is printed.\n",
       "  You can use print_rows(num_rows=m, num_columns=n) to print more rows and columns.,\n",
       "  'precision_recall_overall': Columns:\n",
       "  \tcutoff\tint\n",
       "  \tprecision\tfloat\n",
       "  \trecall\tfloat\n",
       "  \n",
       "  Rows: 18\n",
       "  \n",
       "  Data:\n",
       "  +--------+-------------------+-------------------+\n",
       "  | cutoff |     precision     |       recall      |\n",
       "  +--------+-------------------+-------------------+\n",
       "  |   1    | 0.000579320572832 | 0.000283969067859 |\n",
       "  |   2    | 0.000718357510312 | 0.000526208190846 |\n",
       "  |   3    | 0.000641114767268 | 0.000597499410119 |\n",
       "  |   4    | 0.000631459424387 | 0.000704736363739 |\n",
       "  |   5    | 0.000667377299903 | 0.000788203265847 |\n",
       "  |   6    | 0.000668149727333 |  0.00091931006487 |\n",
       "  |   7    | 0.000668701461212 |  0.00107001125458 |\n",
       "  |   8    | 0.000657528850165 |  0.00120696931768 |\n",
       "  |   9    | 0.000646264283471 |  0.00134253035631 |\n",
       "  |   10   | 0.000660425453029 |  0.0014967894069  |\n",
       "  +--------+-------------------+-------------------+\n",
       "  [18 rows x 3 columns]\n",
       "  Note: Only the head of the SFrame is printed.\n",
       "  You can use print_rows(num_rows=m, num_columns=n) to print more rows and columns.,\n",
       "  'rmse_by_item': Columns:\n",
       "  \tbook_id\tint\n",
       "  \tcount\tint\n",
       "  \trmse\tfloat\n",
       "  \n",
       "  Rows: 9999\n",
       "  \n",
       "  Data:\n",
       "  +---------+-------+----------------+\n",
       "  | book_id | count |      rmse      |\n",
       "  +---------+-------+----------------+\n",
       "  |   7899  |   27  | 0.824023086333 |\n",
       "  |   5288  |   22  | 0.73629333304  |\n",
       "  |   3143  |   27  | 0.903393413583 |\n",
       "  |   6769  |   26  | 0.93255113445  |\n",
       "  |   5684  |   28  | 0.92010804514  |\n",
       "  |   2779  |   23  | 0.857182412903 |\n",
       "  |   8455  |   24  | 0.815910098094 |\n",
       "  |   118   |   26  | 0.915673473279 |\n",
       "  |   3988  |   25  | 0.723953196234 |\n",
       "  |   5783  |   30  |  1.0255944881  |\n",
       "  +---------+-------+----------------+\n",
       "  [9999 rows x 3 columns]\n",
       "  Note: Only the head of the SFrame is printed.\n",
       "  You can use print_rows(num_rows=m, num_columns=n) to print more rows and columns.,\n",
       "  'rmse_by_user': Columns:\n",
       "  \tuser_id\tint\n",
       "  \tcount\tint\n",
       "  \trmse\tfloat\n",
       "  \n",
       "  Rows: 43154\n",
       "  \n",
       "  Data:\n",
       "  +---------+-------+-----------------+\n",
       "  | user_id | count |       rmse      |\n",
       "  +---------+-------+-----------------+\n",
       "  |  21855  |   11  |  0.81318687083  |\n",
       "  |   7899  |   1   |  0.738461538462 |\n",
       "  |  30621  |   1   |  0.507936507937 |\n",
       "  |  43116  |   1   | 0.0689333343115 |\n",
       "  |  27112  |   3   |  1.05938899984  |\n",
       "  |  26319  |   2   |  1.15293424859  |\n",
       "  |  26439  |   3   |  1.11813501468  |\n",
       "  |   5288  |   3   |  1.31044463415  |\n",
       "  |  19584  |   2   |  1.17599858176  |\n",
       "  |  22098  |   27  |  0.83927842546  |\n",
       "  +---------+-------+-----------------+\n",
       "  [43154 rows x 3 columns]\n",
       "  Note: Only the head of the SFrame is printed.\n",
       "  You can use print_rows(num_rows=m, num_columns=n) to print more rows and columns.,\n",
       "  'rmse_overall': 0.9382632993360454},\n",
       " {'precision_recall_by_user': Columns:\n",
       "  \tuser_id\tint\n",
       "  \tcutoff\tint\n",
       "  \tprecision\tfloat\n",
       "  \trecall\tfloat\n",
       "  \tcount\tint\n",
       "  \n",
       "  Rows: 776772\n",
       "  \n",
       "  Data:\n",
       "  +---------+--------+-----------+--------+-------+\n",
       "  | user_id | cutoff | precision | recall | count |\n",
       "  +---------+--------+-----------+--------+-------+\n",
       "  |    1    |   1    |    0.0    |  0.0   |   1   |\n",
       "  |    1    |   2    |    0.0    |  0.0   |   1   |\n",
       "  |    1    |   3    |    0.0    |  0.0   |   1   |\n",
       "  |    1    |   4    |    0.0    |  0.0   |   1   |\n",
       "  |    1    |   5    |    0.0    |  0.0   |   1   |\n",
       "  |    1    |   6    |    0.0    |  0.0   |   1   |\n",
       "  |    1    |   7    |    0.0    |  0.0   |   1   |\n",
       "  |    1    |   8    |    0.0    |  0.0   |   1   |\n",
       "  |    1    |   9    |    0.0    |  0.0   |   1   |\n",
       "  |    1    |   10   |    0.0    |  0.0   |   1   |\n",
       "  +---------+--------+-----------+--------+-------+\n",
       "  [776772 rows x 5 columns]\n",
       "  Note: Only the head of the SFrame is printed.\n",
       "  You can use print_rows(num_rows=m, num_columns=n) to print more rows and columns.,\n",
       "  'precision_recall_overall': Columns:\n",
       "  \tcutoff\tint\n",
       "  \tprecision\tfloat\n",
       "  \trecall\tfloat\n",
       "  \n",
       "  Rows: 18\n",
       "  \n",
       "  Data:\n",
       "  +--------+-------------------+-------------------+\n",
       "  | cutoff |     precision     |       recall      |\n",
       "  +--------+-------------------+-------------------+\n",
       "  |   1    | 0.000579320572832 | 0.000283969067859 |\n",
       "  |   2    | 0.000718357510312 | 0.000526208190846 |\n",
       "  |   3    | 0.000641114767268 | 0.000597499410119 |\n",
       "  |   4    | 0.000631459424387 | 0.000704736363739 |\n",
       "  |   5    | 0.000667377299903 | 0.000788203265847 |\n",
       "  |   6    | 0.000668149727333 |  0.00091931006487 |\n",
       "  |   7    | 0.000668701461212 |  0.00107001125458 |\n",
       "  |   8    | 0.000657528850165 |  0.00120696931768 |\n",
       "  |   9    | 0.000646264283471 |  0.00134253035631 |\n",
       "  |   10   | 0.000660425453029 |  0.0014967894069  |\n",
       "  +--------+-------------------+-------------------+\n",
       "  [18 rows x 3 columns]\n",
       "  Note: Only the head of the SFrame is printed.\n",
       "  You can use print_rows(num_rows=m, num_columns=n) to print more rows and columns.,\n",
       "  'rmse_by_item': Columns:\n",
       "  \tbook_id\tint\n",
       "  \tcount\tint\n",
       "  \trmse\tfloat\n",
       "  \n",
       "  Rows: 9999\n",
       "  \n",
       "  Data:\n",
       "  +---------+-------+----------------+\n",
       "  | book_id | count |      rmse      |\n",
       "  +---------+-------+----------------+\n",
       "  |   7899  |   27  | 0.824023086333 |\n",
       "  |   5288  |   22  | 0.736289213759 |\n",
       "  |   3143  |   27  | 0.903393413583 |\n",
       "  |   6769  |   26  | 0.93255113445  |\n",
       "  |   5684  |   28  | 0.921584256094 |\n",
       "  |   2779  |   23  | 0.857180551941 |\n",
       "  |   8455  |   24  | 0.815910098094 |\n",
       "  |   118   |   26  | 0.915673473258 |\n",
       "  |   3988  |   25  | 0.723953196234 |\n",
       "  |   5783  |   30  |  1.0255944881  |\n",
       "  +---------+-------+----------------+\n",
       "  [9999 rows x 3 columns]\n",
       "  Note: Only the head of the SFrame is printed.\n",
       "  You can use print_rows(num_rows=m, num_columns=n) to print more rows and columns.,\n",
       "  'rmse_by_user': Columns:\n",
       "  \tuser_id\tint\n",
       "  \tcount\tint\n",
       "  \trmse\tfloat\n",
       "  \n",
       "  Rows: 43154\n",
       "  \n",
       "  Data:\n",
       "  +---------+-------+-----------------+\n",
       "  | user_id | count |       rmse      |\n",
       "  +---------+-------+-----------------+\n",
       "  |  21855  |   11  |  0.81318687083  |\n",
       "  |   7899  |   1   |  0.738461538462 |\n",
       "  |  30621  |   1   |  0.507936507937 |\n",
       "  |  43116  |   1   | 0.0689333343115 |\n",
       "  |  27112  |   3   |  1.05938899984  |\n",
       "  |  26319  |   2   |  1.15293424859  |\n",
       "  |  26439  |   3   |  1.11813501468  |\n",
       "  |   5288  |   3   |  1.31044463415  |\n",
       "  |  19584  |   2   |  1.17599858176  |\n",
       "  |  22098  |   27  |  0.839278425449 |\n",
       "  +---------+-------+-----------------+\n",
       "  [43154 rows x 3 columns]\n",
       "  Note: Only the head of the SFrame is printed.\n",
       "  You can use print_rows(num_rows=m, num_columns=n) to print more rows and columns.,\n",
       "  'rmse_overall': 0.9383069988901788},\n",
       " {'precision_recall_by_user': Columns:\n",
       "  \tuser_id\tint\n",
       "  \tcutoff\tint\n",
       "  \tprecision\tfloat\n",
       "  \trecall\tfloat\n",
       "  \tcount\tint\n",
       "  \n",
       "  Rows: 776772\n",
       "  \n",
       "  Data:\n",
       "  +---------+--------+-----------+--------+-------+\n",
       "  | user_id | cutoff | precision | recall | count |\n",
       "  +---------+--------+-----------+--------+-------+\n",
       "  |    1    |   1    |    0.0    |  0.0   |   1   |\n",
       "  |    1    |   2    |    0.0    |  0.0   |   1   |\n",
       "  |    1    |   3    |    0.0    |  0.0   |   1   |\n",
       "  |    1    |   4    |    0.0    |  0.0   |   1   |\n",
       "  |    1    |   5    |    0.0    |  0.0   |   1   |\n",
       "  |    1    |   6    |    0.0    |  0.0   |   1   |\n",
       "  |    1    |   7    |    0.0    |  0.0   |   1   |\n",
       "  |    1    |   8    |    0.0    |  0.0   |   1   |\n",
       "  |    1    |   9    |    0.0    |  0.0   |   1   |\n",
       "  |    1    |   10   |    0.0    |  0.0   |   1   |\n",
       "  +---------+--------+-----------+--------+-------+\n",
       "  [776772 rows x 5 columns]\n",
       "  Note: Only the head of the SFrame is printed.\n",
       "  You can use print_rows(num_rows=m, num_columns=n) to print more rows and columns.,\n",
       "  'precision_recall_overall': Columns:\n",
       "  \tcutoff\tint\n",
       "  \tprecision\tfloat\n",
       "  \trecall\tfloat\n",
       "  \n",
       "  Rows: 18\n",
       "  \n",
       "  Data:\n",
       "  +--------+-------------------+-------------------+\n",
       "  | cutoff |     precision     |       recall      |\n",
       "  +--------+-------------------+-------------------+\n",
       "  |   1    | 0.000579320572832 | 0.000283969067859 |\n",
       "  |   2    | 0.000718357510312 | 0.000526208190846 |\n",
       "  |   3    | 0.000641114767268 | 0.000597499410119 |\n",
       "  |   4    | 0.000625666218659 | 0.000703191508878 |\n",
       "  |   5    | 0.000667377299903 | 0.000788203265847 |\n",
       "  |   6    | 0.000668149727333 |  0.00091931006487 |\n",
       "  |   7    | 0.000668701461212 |  0.00107001125458 |\n",
       "  |   8    | 0.000657528850165 |  0.00120696931768 |\n",
       "  |   9    | 0.000646264283471 |  0.00134253035631 |\n",
       "  |   10   | 0.000660425453029 |  0.0014967894069  |\n",
       "  +--------+-------------------+-------------------+\n",
       "  [18 rows x 3 columns]\n",
       "  Note: Only the head of the SFrame is printed.\n",
       "  You can use print_rows(num_rows=m, num_columns=n) to print more rows and columns.,\n",
       "  'rmse_by_item': Columns:\n",
       "  \tbook_id\tint\n",
       "  \tcount\tint\n",
       "  \trmse\tfloat\n",
       "  \n",
       "  Rows: 9999\n",
       "  \n",
       "  Data:\n",
       "  +---------+-------+----------------+\n",
       "  | book_id | count |      rmse      |\n",
       "  +---------+-------+----------------+\n",
       "  |   7899  |   27  | 0.824023086333 |\n",
       "  |   5288  |   22  | 0.73629212046  |\n",
       "  |   3143  |   27  | 0.903393413583 |\n",
       "  |   6769  |   26  | 0.93255113445  |\n",
       "  |   5684  |   28  | 0.920458081217 |\n",
       "  |   2779  |   23  | 0.857042256081 |\n",
       "  |   8455  |   24  | 0.815910098094 |\n",
       "  |   118   |   26  | 0.91587237381  |\n",
       "  |   3988  |   25  | 0.723953196261 |\n",
       "  |   5783  |   30  |  1.0255944881  |\n",
       "  +---------+-------+----------------+\n",
       "  [9999 rows x 3 columns]\n",
       "  Note: Only the head of the SFrame is printed.\n",
       "  You can use print_rows(num_rows=m, num_columns=n) to print more rows and columns.,\n",
       "  'rmse_by_user': Columns:\n",
       "  \tuser_id\tint\n",
       "  \tcount\tint\n",
       "  \trmse\tfloat\n",
       "  \n",
       "  Rows: 43154\n",
       "  \n",
       "  Data:\n",
       "  +---------+-------+-----------------+\n",
       "  | user_id | count |       rmse      |\n",
       "  +---------+-------+-----------------+\n",
       "  |  21855  |   11  |  0.81318687083  |\n",
       "  |   7899  |   1   |  0.738461538462 |\n",
       "  |  30621  |   1   |  0.507936507937 |\n",
       "  |  43116  |   1   | 0.0689333343115 |\n",
       "  |  27112  |   3   |  1.05938899984  |\n",
       "  |  26319  |   2   |  1.15293424859  |\n",
       "  |  26439  |   3   |  1.11813501468  |\n",
       "  |   5288  |   3   |  1.31044463415  |\n",
       "  |  19584  |   2   |  1.17599858176  |\n",
       "  |  22098  |   27  |  0.839273685242 |\n",
       "  +---------+-------+-----------------+\n",
       "  [43154 rows x 3 columns]\n",
       "  Note: Only the head of the SFrame is printed.\n",
       "  You can use print_rows(num_rows=m, num_columns=n) to print more rows and columns.,\n",
       "  'rmse_overall': 0.9382930740041785},\n",
       " {'precision_recall_by_user': Columns:\n",
       "  \tuser_id\tint\n",
       "  \tcutoff\tint\n",
       "  \tprecision\tfloat\n",
       "  \trecall\tfloat\n",
       "  \tcount\tint\n",
       "  \n",
       "  Rows: 776772\n",
       "  \n",
       "  Data:\n",
       "  +---------+--------+-----------+--------+-------+\n",
       "  | user_id | cutoff | precision | recall | count |\n",
       "  +---------+--------+-----------+--------+-------+\n",
       "  |    1    |   1    |    0.0    |  0.0   |   1   |\n",
       "  |    1    |   2    |    0.0    |  0.0   |   1   |\n",
       "  |    1    |   3    |    0.0    |  0.0   |   1   |\n",
       "  |    1    |   4    |    0.0    |  0.0   |   1   |\n",
       "  |    1    |   5    |    0.0    |  0.0   |   1   |\n",
       "  |    1    |   6    |    0.0    |  0.0   |   1   |\n",
       "  |    1    |   7    |    0.0    |  0.0   |   1   |\n",
       "  |    1    |   8    |    0.0    |  0.0   |   1   |\n",
       "  |    1    |   9    |    0.0    |  0.0   |   1   |\n",
       "  |    1    |   10   |    0.0    |  0.0   |   1   |\n",
       "  +---------+--------+-----------+--------+-------+\n",
       "  [776772 rows x 5 columns]\n",
       "  Note: Only the head of the SFrame is printed.\n",
       "  You can use print_rows(num_rows=m, num_columns=n) to print more rows and columns.,\n",
       "  'precision_recall_overall': Columns:\n",
       "  \tcutoff\tint\n",
       "  \tprecision\tfloat\n",
       "  \trecall\tfloat\n",
       "  \n",
       "  Rows: 18\n",
       "  \n",
       "  Data:\n",
       "  +--------+-------------------+-------------------+\n",
       "  | cutoff |     precision     |       recall      |\n",
       "  +--------+-------------------+-------------------+\n",
       "  |   1    | 0.000579320572832 | 0.000283969067859 |\n",
       "  |   2    | 0.000718357510312 | 0.000526208190846 |\n",
       "  |   3    | 0.000641114767268 | 0.000597499410119 |\n",
       "  |   4    | 0.000631459424387 | 0.000704736363739 |\n",
       "  |   5    | 0.000667377299903 | 0.000788203265847 |\n",
       "  |   6    | 0.000668149727333 |  0.00091931006487 |\n",
       "  |   7    | 0.000668701461212 |  0.00107001125458 |\n",
       "  |   8    | 0.000657528850165 |  0.00120696931768 |\n",
       "  |   9    | 0.000646264283471 |  0.00134253035631 |\n",
       "  |   10   | 0.000660425453029 |  0.0014967894069  |\n",
       "  +--------+-------------------+-------------------+\n",
       "  [18 rows x 3 columns]\n",
       "  Note: Only the head of the SFrame is printed.\n",
       "  You can use print_rows(num_rows=m, num_columns=n) to print more rows and columns.,\n",
       "  'rmse_by_item': Columns:\n",
       "  \tbook_id\tint\n",
       "  \tcount\tint\n",
       "  \trmse\tfloat\n",
       "  \n",
       "  Rows: 9999\n",
       "  \n",
       "  Data:\n",
       "  +---------+-------+----------------+\n",
       "  | book_id | count |      rmse      |\n",
       "  +---------+-------+----------------+\n",
       "  |   7899  |   27  | 0.824023086333 |\n",
       "  |   5288  |   22  | 0.73629333304  |\n",
       "  |   3143  |   27  | 0.903393413583 |\n",
       "  |   6769  |   26  | 0.93255113445  |\n",
       "  |   5684  |   28  | 0.92010804514  |\n",
       "  |   2779  |   23  | 0.857182412903 |\n",
       "  |   8455  |   24  | 0.815910098094 |\n",
       "  |   118   |   26  | 0.915673473242 |\n",
       "  |   3988  |   25  | 0.723953196261 |\n",
       "  |   5783  |   30  |  1.0255944881  |\n",
       "  +---------+-------+----------------+\n",
       "  [9999 rows x 3 columns]\n",
       "  Note: Only the head of the SFrame is printed.\n",
       "  You can use print_rows(num_rows=m, num_columns=n) to print more rows and columns.,\n",
       "  'rmse_by_user': Columns:\n",
       "  \tuser_id\tint\n",
       "  \tcount\tint\n",
       "  \trmse\tfloat\n",
       "  \n",
       "  Rows: 43154\n",
       "  \n",
       "  Data:\n",
       "  +---------+-------+-----------------+\n",
       "  | user_id | count |       rmse      |\n",
       "  +---------+-------+-----------------+\n",
       "  |  21855  |   11  |  0.81318687083  |\n",
       "  |   7899  |   1   |  0.738461538462 |\n",
       "  |  30621  |   1   |  0.507936507937 |\n",
       "  |  43116  |   1   | 0.0689333343115 |\n",
       "  |  27112  |   3   |  1.05938899984  |\n",
       "  |  26319  |   2   |  1.15293424859  |\n",
       "  |  26439  |   3   |  1.11813501468  |\n",
       "  |   5288  |   3   |  1.31044463415  |\n",
       "  |  19584  |   2   |  1.17599858176  |\n",
       "  |  22098  |   27  |  0.839278425449 |\n",
       "  +---------+-------+-----------------+\n",
       "  [43154 rows x 3 columns]\n",
       "  Note: Only the head of the SFrame is printed.\n",
       "  You can use print_rows(num_rows=m, num_columns=n) to print more rows and columns.,\n",
       "  'rmse_overall': 0.9382668172405365}]"
      ]
     },
     "execution_count": 10,
     "metadata": {},
     "output_type": "execute_result"
    }
   ],
   "source": [
    "graphlab.recommender.util.compare_models(test_data,[item_sim_model_auto,item_sim_model_dense,item_sim_model_sparse,item_sim_model_nnsparse,item_sim_model_nndense],model_names=[\"item_sim_model_auto\",\"item_sim_model_dense\",\"item_sim_model_sparse\",\"item_sim_model_nnsparse\",\"item_sim_model_nndense\"])"
   ]
  },
  {
   "cell_type": "code",
   "execution_count": 11,
   "metadata": {
    "collapsed": false
   },
   "outputs": [
    {
     "ename": "NameError",
     "evalue": "name 'item_sim_model' is not defined",
     "output_type": "error",
     "traceback": [
      "\u001b[1;31m---------------------------------------------------------------------------\u001b[0m",
      "\u001b[1;31mNameError\u001b[0m                                 Traceback (most recent call last)",
      "\u001b[1;32m<ipython-input-11-61c0c0f66d6f>\u001b[0m in \u001b[0;36m<module>\u001b[1;34m()\u001b[0m\n\u001b[0;32m      1\u001b[0m \u001b[1;31m#Make Recommendations:\u001b[0m\u001b[1;33m\u001b[0m\u001b[1;33m\u001b[0m\u001b[0m\n\u001b[1;32m----> 2\u001b[1;33m \u001b[0mitem_sim_recomm\u001b[0m \u001b[1;33m=\u001b[0m \u001b[0mitem_sim_model\u001b[0m\u001b[1;33m.\u001b[0m\u001b[0mrecommend\u001b[0m\u001b[1;33m(\u001b[0m\u001b[0mk\u001b[0m\u001b[1;33m=\u001b[0m\u001b[1;36m1\u001b[0m\u001b[1;33m)\u001b[0m\u001b[1;33m\u001b[0m\u001b[0m\n\u001b[0m\u001b[0;32m      3\u001b[0m \u001b[0mitem_sim_recomm\u001b[0m\u001b[1;33m.\u001b[0m\u001b[0mprint_rows\u001b[0m\u001b[1;33m(\u001b[0m\u001b[0mnum_rows\u001b[0m\u001b[1;33m=\u001b[0m\u001b[1;36m25\u001b[0m\u001b[1;33m)\u001b[0m\u001b[1;33m\u001b[0m\u001b[0m\n",
      "\u001b[1;31mNameError\u001b[0m: name 'item_sim_model' is not defined"
     ]
    }
   ],
   "source": [
    "#Make Recommendations:\n",
    "item_sim_recomm = item_sim_model.recommend(k=1)\n",
    "item_sim_recomm.print_rows(num_rows=25)"
   ]
  },
  {
   "cell_type": "code",
   "execution_count": 12,
   "metadata": {
    "collapsed": false
   },
   "outputs": [
    {
     "data": {
      "text/html": [
       "<pre>recommendations finished on 1000/52792 queries. users per second: 10683.8</pre>"
      ],
      "text/plain": [
       "recommendations finished on 1000/52792 queries. users per second: 10683.8"
      ]
     },
     "metadata": {},
     "output_type": "display_data"
    },
    {
     "data": {
      "text/html": [
       "<pre>recommendations finished on 2000/52792 queries. users per second: 10683.8</pre>"
      ],
      "text/plain": [
       "recommendations finished on 2000/52792 queries. users per second: 10683.8"
      ]
     },
     "metadata": {},
     "output_type": "display_data"
    },
    {
     "data": {
      "text/html": [
       "<pre>recommendations finished on 3000/52792 queries. users per second: 9615.38</pre>"
      ],
      "text/plain": [
       "recommendations finished on 3000/52792 queries. users per second: 9615.38"
      ]
     },
     "metadata": {},
     "output_type": "display_data"
    },
    {
     "data": {
      "text/html": [
       "<pre>recommendations finished on 4000/52792 queries. users per second: 9496.65</pre>"
      ],
      "text/plain": [
       "recommendations finished on 4000/52792 queries. users per second: 9496.65"
      ]
     },
     "metadata": {},
     "output_type": "display_data"
    },
    {
     "data": {
      "text/html": [
       "<pre>recommendations finished on 5000/52792 queries. users per second: 9426.83</pre>"
      ],
      "text/plain": [
       "recommendations finished on 5000/52792 queries. users per second: 9426.83"
      ]
     },
     "metadata": {},
     "output_type": "display_data"
    },
    {
     "data": {
      "text/html": [
       "<pre>recommendations finished on 6000/52792 queries. users per second: 9157.5</pre>"
      ],
      "text/plain": [
       "recommendations finished on 6000/52792 queries. users per second: 9157.5"
      ]
     },
     "metadata": {},
     "output_type": "display_data"
    },
    {
     "data": {
      "text/html": [
       "<pre>recommendations finished on 7000/52792 queries. users per second: 9157.5</pre>"
      ],
      "text/plain": [
       "recommendations finished on 7000/52792 queries. users per second: 9157.5"
      ]
     },
     "metadata": {},
     "output_type": "display_data"
    },
    {
     "data": {
      "text/html": [
       "<pre>recommendations finished on 8000/52792 queries. users per second: 9157.5</pre>"
      ],
      "text/plain": [
       "recommendations finished on 8000/52792 queries. users per second: 9157.5"
      ]
     },
     "metadata": {},
     "output_type": "display_data"
    },
    {
     "data": {
      "text/html": [
       "<pre>recommendations finished on 9000/52792 queries. users per second: 9457.74</pre>"
      ],
      "text/plain": [
       "recommendations finished on 9000/52792 queries. users per second: 9457.74"
      ]
     },
     "metadata": {},
     "output_type": "display_data"
    },
    {
     "data": {
      "text/html": [
       "<pre>recommendations finished on 10000/52792 queries. users per second: 9426.83</pre>"
      ],
      "text/plain": [
       "recommendations finished on 10000/52792 queries. users per second: 9426.83"
      ]
     },
     "metadata": {},
     "output_type": "display_data"
    },
    {
     "data": {
      "text/html": [
       "<pre>recommendations finished on 11000/52792 queries. users per second: 9401.69</pre>"
      ],
      "text/plain": [
       "recommendations finished on 11000/52792 queries. users per second: 9401.69"
      ]
     },
     "metadata": {},
     "output_type": "display_data"
    },
    {
     "data": {
      "text/html": [
       "<pre>recommendations finished on 12000/52792 queries. users per second: 9267.83</pre>"
      ],
      "text/plain": [
       "recommendations finished on 12000/52792 queries. users per second: 9267.83"
      ]
     },
     "metadata": {},
     "output_type": "display_data"
    },
    {
     "data": {
      "text/html": [
       "<pre>recommendations finished on 13000/52792 queries. users per second: 9363.28</pre>"
      ],
      "text/plain": [
       "recommendations finished on 13000/52792 queries. users per second: 9363.28"
      ]
     },
     "metadata": {},
     "output_type": "display_data"
    },
    {
     "data": {
      "text/html": [
       "<pre>recommendations finished on 14000/52792 queries. users per second: 9446.68</pre>"
      ],
      "text/plain": [
       "recommendations finished on 14000/52792 queries. users per second: 9446.68"
      ]
     },
     "metadata": {},
     "output_type": "display_data"
    },
    {
     "data": {
      "text/html": [
       "<pre>recommendations finished on 15000/52792 queries. users per second: 9426.83</pre>"
      ],
      "text/plain": [
       "recommendations finished on 15000/52792 queries. users per second: 9426.83"
      ]
     },
     "metadata": {},
     "output_type": "display_data"
    },
    {
     "data": {
      "text/html": [
       "<pre>recommendations finished on 16000/52792 queries. users per second: 9496.66</pre>"
      ],
      "text/plain": [
       "recommendations finished on 16000/52792 queries. users per second: 9496.66"
      ]
     },
     "metadata": {},
     "output_type": "display_data"
    },
    {
     "data": {
      "text/html": [
       "<pre>recommendations finished on 17000/52792 queries. users per second: 9476.02</pre>"
      ],
      "text/plain": [
       "recommendations finished on 17000/52792 queries. users per second: 9476.02"
      ]
     },
     "metadata": {},
     "output_type": "display_data"
    },
    {
     "data": {
      "text/html": [
       "<pre>recommendations finished on 18000/52792 queries. users per second: 9457.74</pre>"
      ],
      "text/plain": [
       "recommendations finished on 18000/52792 queries. users per second: 9457.74"
      ]
     },
     "metadata": {},
     "output_type": "display_data"
    },
    {
     "data": {
      "text/html": [
       "<pre>recommendations finished on 19000/52792 queries. users per second: 9590.13</pre>"
      ],
      "text/plain": [
       "recommendations finished on 19000/52792 queries. users per second: 9590.13"
      ]
     },
     "metadata": {},
     "output_type": "display_data"
    },
    {
     "data": {
      "text/html": [
       "<pre>recommendations finished on 20000/52792 queries. users per second: 9567.53</pre>"
      ],
      "text/plain": [
       "recommendations finished on 20000/52792 queries. users per second: 9567.53"
      ]
     },
     "metadata": {},
     "output_type": "display_data"
    },
    {
     "data": {
      "text/html": [
       "<pre>recommendations finished on 21000/52792 queries. users per second: 9547.17</pre>"
      ],
      "text/plain": [
       "recommendations finished on 21000/52792 queries. users per second: 9547.17"
      ]
     },
     "metadata": {},
     "output_type": "display_data"
    },
    {
     "data": {
      "text/html": [
       "<pre>recommendations finished on 22000/52792 queries. users per second: 9593.56</pre>"
      ],
      "text/plain": [
       "recommendations finished on 22000/52792 queries. users per second: 9593.56"
      ]
     },
     "metadata": {},
     "output_type": "display_data"
    },
    {
     "data": {
      "text/html": [
       "<pre>recommendations finished on 23000/52792 queries. users per second: 9573.74</pre>"
      ],
      "text/plain": [
       "recommendations finished on 23000/52792 queries. users per second: 9573.74"
      ]
     },
     "metadata": {},
     "output_type": "display_data"
    },
    {
     "data": {
      "text/html": [
       "<pre>recommendations finished on 24000/52792 queries. users per second: 9615.37</pre>"
      ],
      "text/plain": [
       "recommendations finished on 24000/52792 queries. users per second: 9615.37"
      ]
     },
     "metadata": {},
     "output_type": "display_data"
    },
    {
     "data": {
      "text/html": [
       "<pre>recommendations finished on 25000/52792 queries. users per second: 9653.99</pre>"
      ],
      "text/plain": [
       "recommendations finished on 25000/52792 queries. users per second: 9653.99"
      ]
     },
     "metadata": {},
     "output_type": "display_data"
    },
    {
     "data": {
      "text/html": [
       "<pre>recommendations finished on 26000/52792 queries. users per second: 9689.9</pre>"
      ],
      "text/plain": [
       "recommendations finished on 26000/52792 queries. users per second: 9689.9"
      ]
     },
     "metadata": {},
     "output_type": "display_data"
    },
    {
     "data": {
      "text/html": [
       "<pre>recommendations finished on 27000/52792 queries. users per second: 9669.08</pre>"
      ],
      "text/plain": [
       "recommendations finished on 27000/52792 queries. users per second: 9669.08"
      ]
     },
     "metadata": {},
     "output_type": "display_data"
    },
    {
     "data": {
      "text/html": [
       "<pre>recommendations finished on 28000/52792 queries. users per second: 9649.83</pre>"
      ],
      "text/plain": [
       "recommendations finished on 28000/52792 queries. users per second: 9649.83"
      ]
     },
     "metadata": {},
     "output_type": "display_data"
    },
    {
     "data": {
      "text/html": [
       "<pre>recommendations finished on 29000/52792 queries. users per second: 9682.14</pre>"
      ],
      "text/plain": [
       "recommendations finished on 29000/52792 queries. users per second: 9682.14"
      ]
     },
     "metadata": {},
     "output_type": "display_data"
    },
    {
     "data": {
      "text/html": [
       "<pre>recommendations finished on 30000/52792 queries. users per second: 9712.49</pre>"
      ],
      "text/plain": [
       "recommendations finished on 30000/52792 queries. users per second: 9712.49"
      ]
     },
     "metadata": {},
     "output_type": "display_data"
    },
    {
     "data": {
      "text/html": [
       "<pre>recommendations finished on 31000/52792 queries. users per second: 9741.06</pre>"
      ],
      "text/plain": [
       "recommendations finished on 31000/52792 queries. users per second: 9741.06"
      ]
     },
     "metadata": {},
     "output_type": "display_data"
    },
    {
     "data": {
      "text/html": [
       "<pre>recommendations finished on 32000/52792 queries. users per second: 9767.99</pre>"
      ],
      "text/plain": [
       "recommendations finished on 32000/52792 queries. users per second: 9767.99"
      ]
     },
     "metadata": {},
     "output_type": "display_data"
    },
    {
     "data": {
      "text/html": [
       "<pre>recommendations finished on 33000/52792 queries. users per second: 9748.3</pre>"
      ],
      "text/plain": [
       "recommendations finished on 33000/52792 queries. users per second: 9748.3"
      ]
     },
     "metadata": {},
     "output_type": "display_data"
    },
    {
     "data": {
      "text/html": [
       "<pre>recommendations finished on 34000/52792 queries. users per second: 9773.47</pre>"
      ],
      "text/plain": [
       "recommendations finished on 34000/52792 queries. users per second: 9773.47"
      ]
     },
     "metadata": {},
     "output_type": "display_data"
    },
    {
     "data": {
      "text/html": [
       "<pre>recommendations finished on 35000/52792 queries. users per second: 9754.72</pre>"
      ],
      "text/plain": [
       "recommendations finished on 35000/52792 queries. users per second: 9754.72"
      ]
     },
     "metadata": {},
     "output_type": "display_data"
    },
    {
     "data": {
      "text/html": [
       "<pre>recommendations finished on 36000/52792 queries. users per second: 9737.08</pre>"
      ],
      "text/plain": [
       "recommendations finished on 36000/52792 queries. users per second: 9737.08"
      ]
     },
     "metadata": {},
     "output_type": "display_data"
    },
    {
     "data": {
      "text/html": [
       "<pre>recommendations finished on 37000/52792 queries. users per second: 9680.78</pre>"
      ],
      "text/plain": [
       "recommendations finished on 37000/52792 queries. users per second: 9680.78"
      ]
     },
     "metadata": {},
     "output_type": "display_data"
    },
    {
     "data": {
      "text/html": [
       "<pre>recommendations finished on 38000/52792 queries. users per second: 9628.04</pre>"
      ],
      "text/plain": [
       "recommendations finished on 38000/52792 queries. users per second: 9628.04"
      ]
     },
     "metadata": {},
     "output_type": "display_data"
    },
    {
     "data": {
      "text/html": [
       "<pre>recommendations finished on 39000/52792 queries. users per second: 9652.49</pre>"
      ],
      "text/plain": [
       "recommendations finished on 39000/52792 queries. users per second: 9652.49"
      ]
     },
     "metadata": {},
     "output_type": "display_data"
    },
    {
     "data": {
      "text/html": [
       "<pre>recommendations finished on 40000/52792 queries. users per second: 9639.47</pre>"
      ],
      "text/plain": [
       "recommendations finished on 40000/52792 queries. users per second: 9639.47"
      ]
     },
     "metadata": {},
     "output_type": "display_data"
    },
    {
     "data": {
      "text/html": [
       "<pre>recommendations finished on 41000/52792 queries. users per second: 9591.97</pre>"
      ],
      "text/plain": [
       "recommendations finished on 41000/52792 queries. users per second: 9591.97"
      ]
     },
     "metadata": {},
     "output_type": "display_data"
    },
    {
     "data": {
      "text/html": [
       "<pre>recommendations finished on 42000/52792 queries. users per second: 9615.37</pre>"
      ],
      "text/plain": [
       "recommendations finished on 42000/52792 queries. users per second: 9615.37"
      ]
     },
     "metadata": {},
     "output_type": "display_data"
    },
    {
     "data": {
      "text/html": [
       "<pre>recommendations finished on 43000/52792 queries. users per second: 9604.2</pre>"
      ],
      "text/plain": [
       "recommendations finished on 43000/52792 queries. users per second: 9604.2"
      ]
     },
     "metadata": {},
     "output_type": "display_data"
    },
    {
     "data": {
      "text/html": [
       "<pre>recommendations finished on 44000/52792 queries. users per second: 9626.31</pre>"
      ],
      "text/plain": [
       "recommendations finished on 44000/52792 queries. users per second: 9626.31"
      ]
     },
     "metadata": {},
     "output_type": "display_data"
    },
    {
     "data": {
      "text/html": [
       "<pre>recommendations finished on 45000/52792 queries. users per second: 9615.37</pre>"
      ],
      "text/plain": [
       "recommendations finished on 45000/52792 queries. users per second: 9615.37"
      ]
     },
     "metadata": {},
     "output_type": "display_data"
    },
    {
     "data": {
      "text/html": [
       "<pre>recommendations finished on 46000/52792 queries. users per second: 9604.93</pre>"
      ],
      "text/plain": [
       "recommendations finished on 46000/52792 queries. users per second: 9604.93"
      ]
     },
     "metadata": {},
     "output_type": "display_data"
    },
    {
     "data": {
      "text/html": [
       "<pre>recommendations finished on 47000/52792 queries. users per second: 9534.22</pre>"
      ],
      "text/plain": [
       "recommendations finished on 47000/52792 queries. users per second: 9534.22"
      ]
     },
     "metadata": {},
     "output_type": "display_data"
    },
    {
     "data": {
      "text/html": [
       "<pre>recommendations finished on 48000/52792 queries. users per second: 9526.06</pre>"
      ],
      "text/plain": [
       "recommendations finished on 48000/52792 queries. users per second: 9526.06"
      ]
     },
     "metadata": {},
     "output_type": "display_data"
    },
    {
     "data": {
      "text/html": [
       "<pre>recommendations finished on 49000/52792 queries. users per second: 9518.24</pre>"
      ],
      "text/plain": [
       "recommendations finished on 49000/52792 queries. users per second: 9518.24"
      ]
     },
     "metadata": {},
     "output_type": "display_data"
    },
    {
     "data": {
      "text/html": [
       "<pre>recommendations finished on 50000/52792 queries. users per second: 9482.61</pre>"
      ],
      "text/plain": [
       "recommendations finished on 50000/52792 queries. users per second: 9482.61"
      ]
     },
     "metadata": {},
     "output_type": "display_data"
    },
    {
     "data": {
      "text/html": [
       "<pre>recommendations finished on 51000/52792 queries. users per second: 9476.02</pre>"
      ],
      "text/plain": [
       "recommendations finished on 51000/52792 queries. users per second: 9476.02"
      ]
     },
     "metadata": {},
     "output_type": "display_data"
    },
    {
     "data": {
      "text/html": [
       "<pre>recommendations finished on 52000/52792 queries. users per second: 9363.28</pre>"
      ],
      "text/plain": [
       "recommendations finished on 52000/52792 queries. users per second: 9363.28"
      ]
     },
     "metadata": {},
     "output_type": "display_data"
    },
    {
     "name": "stdout",
     "output_type": "stream",
     "text": [
      "+---------+---------+---------------+------+\n",
      "| user_id | book_id |     score     | rank |\n",
      "+---------+---------+---------------+------+\n",
      "|  20090  |   7947  | 4.84126984127 |  1   |\n",
      "|  20090  |   3275  | 4.78571428571 |  2   |\n",
      "|  20090  |   5580  | 4.78514383998 |  3   |\n",
      "|  20090  |   6361  | 4.78150926448 |  4   |\n",
      "|  20090  |   8978  | 4.76712328767 |  5   |\n",
      "|  20090  |   6920  |      4.76     |  6   |\n",
      "|  20090  |   6590  | 4.75362318841 |  7   |\n",
      "|  20090  |   9566  | 4.75342465753 |  8   |\n",
      "|  20090  |   3753  |     4.7375    |  9   |\n",
      "|  20090  |   4483  | 4.73740863549 |  10  |\n",
      "|  37939  |   7947  | 4.84126984127 |  1   |\n",
      "|  37939  |   3275  | 4.78571428571 |  2   |\n",
      "|  37939  |   5580  | 4.78481012658 |  3   |\n",
      "|  37939  |   6361  | 4.78082191781 |  4   |\n",
      "|  37939  |   3628  |     4.775     |  5   |\n",
      "|  37939  |   8978  | 4.76712328767 |  6   |\n",
      "|  37939  |   6920  |      4.76     |  7   |\n",
      "|  37939  |   6590  | 4.75362318841 |  8   |\n",
      "|  37939  |   9566  | 4.75342465753 |  9   |\n",
      "|  37939  |   3753  |     4.7375    |  10  |\n",
      "|  10588  |   7947  | 4.84126984127 |  1   |\n",
      "|  10588  |   3275  | 4.78571428571 |  2   |\n",
      "|  10588  |   5580  | 4.78481012658 |  3   |\n",
      "|  10588  |   6361  | 4.78082191781 |  4   |\n",
      "|  10588  |   3628  |     4.775     |  5   |\n",
      "|  10588  |   8978  | 4.76712328767 |  6   |\n",
      "|  10588  |   6920  |      4.76     |  7   |\n",
      "|  10588  |   6590  | 4.75362318841 |  8   |\n",
      "|  10588  |   9566  | 4.75342465753 |  9   |\n",
      "|  10588  |   3753  |     4.7375    |  10  |\n",
      "|  19618  |   7947  | 4.84126984127 |  1   |\n",
      "|  19618  |   3275  | 4.78571428571 |  2   |\n",
      "|  19618  |   5580  | 4.78481012658 |  3   |\n",
      "|  19618  |   6361  | 4.78082191781 |  4   |\n",
      "|  19618  |   3628  |     4.775     |  5   |\n",
      "|  19618  |   8978  | 4.76712328767 |  6   |\n",
      "|  19618  |   6920  |      4.76     |  7   |\n",
      "|  19618  |   6590  | 4.75362318841 |  8   |\n",
      "|  19618  |   9566  | 4.75342465753 |  9   |\n",
      "|  19618  |   3753  |     4.7375    |  10  |\n",
      "|   1713  |   7947  | 4.84126984127 |  1   |\n",
      "|   1713  |   3275  | 4.78571428571 |  2   |\n",
      "|   1713  |   5580  | 4.78481012658 |  3   |\n",
      "|   1713  |   6361  | 4.78082191781 |  4   |\n",
      "|   1713  |   3628  |     4.775     |  5   |\n",
      "|   1713  |   8978  | 4.76712328767 |  6   |\n",
      "|   1713  |   6920  |      4.76     |  7   |\n",
      "|   1713  |   6590  | 4.75362318841 |  8   |\n",
      "|   1713  |   9566  | 4.75342465753 |  9   |\n",
      "|   1713  |   3753  |     4.7375    |  10  |\n",
      "+---------+---------+---------------+------+\n",
      "[527920 rows x 4 columns]\n",
      "\n"
     ]
    }
   ],
   "source": [
    "item_sim_model_auto.predict(test_data)\n",
    "recom=item_sim_model_auto.recommend()\n",
    "recom.print_rows(num_rows=50)"
   ]
  },
  {
   "cell_type": "code",
   "execution_count": 13,
   "metadata": {
    "collapsed": false
   },
   "outputs": [
    {
     "data": {
      "text/html": [
       "<pre>recommendations finished on 1000/52792 queries. users per second: 10683.8</pre>"
      ],
      "text/plain": [
       "recommendations finished on 1000/52792 queries. users per second: 10683.8"
      ]
     },
     "metadata": {},
     "output_type": "display_data"
    },
    {
     "data": {
      "text/html": [
       "<pre>recommendations finished on 2000/52792 queries. users per second: 9861.93</pre>"
      ],
      "text/plain": [
       "recommendations finished on 2000/52792 queries. users per second: 9861.93"
      ]
     },
     "metadata": {},
     "output_type": "display_data"
    },
    {
     "data": {
      "text/html": [
       "<pre>recommendations finished on 3000/52792 queries. users per second: 10121.5</pre>"
      ],
      "text/plain": [
       "recommendations finished on 3000/52792 queries. users per second: 10121.5"
      ]
     },
     "metadata": {},
     "output_type": "display_data"
    },
    {
     "data": {
      "text/html": [
       "<pre>recommendations finished on 4000/52792 queries. users per second: 10256.4</pre>"
      ],
      "text/plain": [
       "recommendations finished on 4000/52792 queries. users per second: 10256.4"
      ]
     },
     "metadata": {},
     "output_type": "display_data"
    },
    {
     "data": {
      "text/html": [
       "<pre>recommendations finished on 5000/52792 queries. users per second: 10016</pre>"
      ],
      "text/plain": [
       "recommendations finished on 5000/52792 queries. users per second: 10016"
      ]
     },
     "metadata": {},
     "output_type": "display_data"
    },
    {
     "data": {
      "text/html": [
       "<pre>recommendations finished on 6000/52792 queries. users per second: 10121.4</pre>"
      ],
      "text/plain": [
       "recommendations finished on 6000/52792 queries. users per second: 10121.4"
      ]
     },
     "metadata": {},
     "output_type": "display_data"
    },
    {
     "data": {
      "text/html": [
       "<pre>recommendations finished on 7000/52792 queries. users per second: 10198.1</pre>"
      ],
      "text/plain": [
       "recommendations finished on 7000/52792 queries. users per second: 10198.1"
      ]
     },
     "metadata": {},
     "output_type": "display_data"
    },
    {
     "data": {
      "text/html": [
       "<pre>recommendations finished on 8000/52792 queries. users per second: 10055.3</pre>"
      ],
      "text/plain": [
       "recommendations finished on 8000/52792 queries. users per second: 10055.3"
      ]
     },
     "metadata": {},
     "output_type": "display_data"
    },
    {
     "data": {
      "text/html": [
       "<pre>recommendations finished on 9000/52792 queries. users per second: 10121.4</pre>"
      ],
      "text/plain": [
       "recommendations finished on 9000/52792 queries. users per second: 10121.4"
      ]
     },
     "metadata": {},
     "output_type": "display_data"
    },
    {
     "data": {
      "text/html": [
       "<pre>recommendations finished on 10000/52792 queries. users per second: 10175</pre>"
      ],
      "text/plain": [
       "recommendations finished on 10000/52792 queries. users per second: 10175"
      ]
     },
     "metadata": {},
     "output_type": "display_data"
    },
    {
     "data": {
      "text/html": [
       "<pre>recommendations finished on 11000/52792 queries. users per second: 10073.2</pre>"
      ],
      "text/plain": [
       "recommendations finished on 11000/52792 queries. users per second: 10073.2"
      ]
     },
     "metadata": {},
     "output_type": "display_data"
    },
    {
     "data": {
      "text/html": [
       "<pre>recommendations finished on 12000/52792 queries. users per second: 10121.4</pre>"
      ],
      "text/plain": [
       "recommendations finished on 12000/52792 queries. users per second: 10121.4"
      ]
     },
     "metadata": {},
     "output_type": "display_data"
    },
    {
     "data": {
      "text/html": [
       "<pre>recommendations finished on 13000/52792 queries. users per second: 10162.6</pre>"
      ],
      "text/plain": [
       "recommendations finished on 13000/52792 queries. users per second: 10162.6"
      ]
     },
     "metadata": {},
     "output_type": "display_data"
    },
    {
     "data": {
      "text/html": [
       "<pre>recommendations finished on 14000/52792 queries. users per second: 10198.1</pre>"
      ],
      "text/plain": [
       "recommendations finished on 14000/52792 queries. users per second: 10198.1"
      ]
     },
     "metadata": {},
     "output_type": "display_data"
    },
    {
     "data": {
      "text/html": [
       "<pre>recommendations finished on 15000/52792 queries. users per second: 10229.1</pre>"
      ],
      "text/plain": [
       "recommendations finished on 15000/52792 queries. users per second: 10229.1"
      ]
     },
     "metadata": {},
     "output_type": "display_data"
    },
    {
     "data": {
      "text/html": [
       "<pre>recommendations finished on 16000/52792 queries. users per second: 10154.8</pre>"
      ],
      "text/plain": [
       "recommendations finished on 16000/52792 queries. users per second: 10154.8"
      ]
     },
     "metadata": {},
     "output_type": "display_data"
    },
    {
     "data": {
      "text/html": [
       "<pre>recommendations finished on 17000/52792 queries. users per second: 10184.5</pre>"
      ],
      "text/plain": [
       "recommendations finished on 17000/52792 queries. users per second: 10184.5"
      ]
     },
     "metadata": {},
     "output_type": "display_data"
    },
    {
     "data": {
      "text/html": [
       "<pre>recommendations finished on 18000/52792 queries. users per second: 10211</pre>"
      ],
      "text/plain": [
       "recommendations finished on 18000/52792 queries. users per second: 10211"
      ]
     },
     "metadata": {},
     "output_type": "display_data"
    },
    {
     "data": {
      "text/html": [
       "<pre>recommendations finished on 19000/52792 queries. users per second: 10234.8</pre>"
      ],
      "text/plain": [
       "recommendations finished on 19000/52792 queries. users per second: 10234.8"
      ]
     },
     "metadata": {},
     "output_type": "display_data"
    },
    {
     "data": {
      "text/html": [
       "<pre>recommendations finished on 20000/52792 queries. users per second: 10175</pre>"
      ],
      "text/plain": [
       "recommendations finished on 20000/52792 queries. users per second: 10175"
      ]
     },
     "metadata": {},
     "output_type": "display_data"
    },
    {
     "data": {
      "text/html": [
       "<pre>recommendations finished on 21000/52792 queries. users per second: 10198.1</pre>"
      ],
      "text/plain": [
       "recommendations finished on 21000/52792 queries. users per second: 10198.1"
      ]
     },
     "metadata": {},
     "output_type": "display_data"
    },
    {
     "data": {
      "text/html": [
       "<pre>recommendations finished on 22000/52792 queries. users per second: 10219.2</pre>"
      ],
      "text/plain": [
       "recommendations finished on 22000/52792 queries. users per second: 10219.2"
      ]
     },
     "metadata": {},
     "output_type": "display_data"
    },
    {
     "data": {
      "text/html": [
       "<pre>recommendations finished on 23000/52792 queries. users per second: 10238.6</pre>"
      ],
      "text/plain": [
       "recommendations finished on 23000/52792 queries. users per second: 10238.6"
      ]
     },
     "metadata": {},
     "output_type": "display_data"
    },
    {
     "data": {
      "text/html": [
       "<pre>recommendations finished on 24000/52792 queries. users per second: 10256.4</pre>"
      ],
      "text/plain": [
       "recommendations finished on 24000/52792 queries. users per second: 10256.4"
      ]
     },
     "metadata": {},
     "output_type": "display_data"
    },
    {
     "data": {
      "text/html": [
       "<pre>recommendations finished on 25000/52792 queries. users per second: 10207.4</pre>"
      ],
      "text/plain": [
       "recommendations finished on 25000/52792 queries. users per second: 10207.4"
      ]
     },
     "metadata": {},
     "output_type": "display_data"
    },
    {
     "data": {
      "text/html": [
       "<pre>recommendations finished on 26000/52792 queries. users per second: 10224.9</pre>"
      ],
      "text/plain": [
       "recommendations finished on 26000/52792 queries. users per second: 10224.9"
      ]
     },
     "metadata": {},
     "output_type": "display_data"
    },
    {
     "data": {
      "text/html": [
       "<pre>recommendations finished on 27000/52792 queries. users per second: 10241.2</pre>"
      ],
      "text/plain": [
       "recommendations finished on 27000/52792 queries. users per second: 10241.2"
      ]
     },
     "metadata": {},
     "output_type": "display_data"
    },
    {
     "data": {
      "text/html": [
       "<pre>recommendations finished on 28000/52792 queries. users per second: 10256.4</pre>"
      ],
      "text/plain": [
       "recommendations finished on 28000/52792 queries. users per second: 10256.4"
      ]
     },
     "metadata": {},
     "output_type": "display_data"
    },
    {
     "data": {
      "text/html": [
       "<pre>recommendations finished on 29000/52792 queries. users per second: 10270.6</pre>"
      ],
      "text/plain": [
       "recommendations finished on 29000/52792 queries. users per second: 10270.6"
      ]
     },
     "metadata": {},
     "output_type": "display_data"
    },
    {
     "data": {
      "text/html": [
       "<pre>recommendations finished on 30000/52792 queries. users per second: 10283.8</pre>"
      ],
      "text/plain": [
       "recommendations finished on 30000/52792 queries. users per second: 10283.8"
      ]
     },
     "metadata": {},
     "output_type": "display_data"
    },
    {
     "data": {
      "text/html": [
       "<pre>recommendations finished on 31000/52792 queries. users per second: 10296.2</pre>"
      ],
      "text/plain": [
       "recommendations finished on 31000/52792 queries. users per second: 10296.2"
      ]
     },
     "metadata": {},
     "output_type": "display_data"
    },
    {
     "data": {
      "text/html": [
       "<pre>recommendations finished on 32000/52792 queries. users per second: 10307.9</pre>"
      ],
      "text/plain": [
       "recommendations finished on 32000/52792 queries. users per second: 10307.9"
      ]
     },
     "metadata": {},
     "output_type": "display_data"
    },
    {
     "data": {
      "text/html": [
       "<pre>recommendations finished on 33000/52792 queries. users per second: 10318.9</pre>"
      ],
      "text/plain": [
       "recommendations finished on 33000/52792 queries. users per second: 10318.9"
      ]
     },
     "metadata": {},
     "output_type": "display_data"
    },
    {
     "data": {
      "text/html": [
       "<pre>recommendations finished on 34000/52792 queries. users per second: 10329.3</pre>"
      ],
      "text/plain": [
       "recommendations finished on 34000/52792 queries. users per second: 10329.3"
      ]
     },
     "metadata": {},
     "output_type": "display_data"
    },
    {
     "data": {
      "text/html": [
       "<pre>recommendations finished on 35000/52792 queries. users per second: 10339.1</pre>"
      ],
      "text/plain": [
       "recommendations finished on 35000/52792 queries. users per second: 10339.1"
      ]
     },
     "metadata": {},
     "output_type": "display_data"
    },
    {
     "data": {
      "text/html": [
       "<pre>recommendations finished on 36000/52792 queries. users per second: 10302.2</pre>"
      ],
      "text/plain": [
       "recommendations finished on 36000/52792 queries. users per second: 10302.2"
      ]
     },
     "metadata": {},
     "output_type": "display_data"
    },
    {
     "data": {
      "text/html": [
       "<pre>recommendations finished on 37000/52792 queries. users per second: 10312.1</pre>"
      ],
      "text/plain": [
       "recommendations finished on 37000/52792 queries. users per second: 10312.1"
      ]
     },
     "metadata": {},
     "output_type": "display_data"
    },
    {
     "data": {
      "text/html": [
       "<pre>recommendations finished on 38000/52792 queries. users per second: 10321.6</pre>"
      ],
      "text/plain": [
       "recommendations finished on 38000/52792 queries. users per second: 10321.6"
      ]
     },
     "metadata": {},
     "output_type": "display_data"
    },
    {
     "data": {
      "text/html": [
       "<pre>recommendations finished on 39000/52792 queries. users per second: 10330.6</pre>"
      ],
      "text/plain": [
       "recommendations finished on 39000/52792 queries. users per second: 10330.6"
      ]
     },
     "metadata": {},
     "output_type": "display_data"
    },
    {
     "data": {
      "text/html": [
       "<pre>recommendations finished on 40000/52792 queries. users per second: 10339.1</pre>"
      ],
      "text/plain": [
       "recommendations finished on 40000/52792 queries. users per second: 10339.1"
      ]
     },
     "metadata": {},
     "output_type": "display_data"
    },
    {
     "data": {
      "text/html": [
       "<pre>recommendations finished on 41000/52792 queries. users per second: 10388.1</pre>"
      ],
      "text/plain": [
       "recommendations finished on 41000/52792 queries. users per second: 10388.1"
      ]
     },
     "metadata": {},
     "output_type": "display_data"
    },
    {
     "data": {
      "text/html": [
       "<pre>recommendations finished on 42000/52792 queries. users per second: 10355</pre>"
      ],
      "text/plain": [
       "recommendations finished on 42000/52792 queries. users per second: 10355"
      ]
     },
     "metadata": {},
     "output_type": "display_data"
    },
    {
     "data": {
      "text/html": [
       "<pre>recommendations finished on 43000/52792 queries. users per second: 10401.5</pre>"
      ],
      "text/plain": [
       "recommendations finished on 43000/52792 queries. users per second: 10401.5"
      ]
     },
     "metadata": {},
     "output_type": "display_data"
    },
    {
     "data": {
      "text/html": [
       "<pre>recommendations finished on 44000/52792 queries. users per second: 10369.5</pre>"
      ],
      "text/plain": [
       "recommendations finished on 44000/52792 queries. users per second: 10369.5"
      ]
     },
     "metadata": {},
     "output_type": "display_data"
    },
    {
     "data": {
      "text/html": [
       "<pre>recommendations finished on 45000/52792 queries. users per second: 10376.3</pre>"
      ],
      "text/plain": [
       "recommendations finished on 45000/52792 queries. users per second: 10376.3"
      ]
     },
     "metadata": {},
     "output_type": "display_data"
    },
    {
     "data": {
      "text/html": [
       "<pre>recommendations finished on 46000/52792 queries. users per second: 10346.4</pre>"
      ],
      "text/plain": [
       "recommendations finished on 46000/52792 queries. users per second: 10346.4"
      ]
     },
     "metadata": {},
     "output_type": "display_data"
    },
    {
     "data": {
      "text/html": [
       "<pre>recommendations finished on 47000/52792 queries. users per second: 10317.9</pre>"
      ],
      "text/plain": [
       "recommendations finished on 47000/52792 queries. users per second: 10317.9"
      ]
     },
     "metadata": {},
     "output_type": "display_data"
    },
    {
     "data": {
      "text/html": [
       "<pre>recommendations finished on 48000/52792 queries. users per second: 10325.2</pre>"
      ],
      "text/plain": [
       "recommendations finished on 48000/52792 queries. users per second: 10325.2"
      ]
     },
     "metadata": {},
     "output_type": "display_data"
    },
    {
     "data": {
      "text/html": [
       "<pre>recommendations finished on 49000/52792 queries. users per second: 10298.4</pre>"
      ],
      "text/plain": [
       "recommendations finished on 49000/52792 queries. users per second: 10298.4"
      ]
     },
     "metadata": {},
     "output_type": "display_data"
    },
    {
     "data": {
      "text/html": [
       "<pre>recommendations finished on 50000/52792 queries. users per second: 10272.8</pre>"
      ],
      "text/plain": [
       "recommendations finished on 50000/52792 queries. users per second: 10272.8"
      ]
     },
     "metadata": {},
     "output_type": "display_data"
    },
    {
     "data": {
      "text/html": [
       "<pre>recommendations finished on 51000/52792 queries. users per second: 10090.2</pre>"
      ],
      "text/plain": [
       "recommendations finished on 51000/52792 queries. users per second: 10090.2"
      ]
     },
     "metadata": {},
     "output_type": "display_data"
    },
    {
     "data": {
      "text/html": [
       "<pre>recommendations finished on 52000/52792 queries. users per second: 9891.18</pre>"
      ],
      "text/plain": [
       "recommendations finished on 52000/52792 queries. users per second: 9891.18"
      ]
     },
     "metadata": {},
     "output_type": "display_data"
    },
    {
     "name": "stdout",
     "output_type": "stream",
     "text": [
      "+---------+---------+---------------+------+\n",
      "| user_id | book_id |     score     | rank |\n",
      "+---------+---------+---------------+------+\n",
      "|  20090  |   7947  | 4.84126984127 |  1   |\n",
      "|  20090  |   3275  | 4.78571428571 |  2   |\n",
      "|  20090  |   5580  | 4.78514383998 |  3   |\n",
      "|  20090  |   6361  | 4.78150926448 |  4   |\n",
      "|  20090  |   8978  | 4.76712328767 |  5   |\n",
      "|  20090  |   6920  |      4.76     |  6   |\n",
      "|  20090  |   6590  | 4.75362318841 |  7   |\n",
      "|  20090  |   9566  | 4.75342465753 |  8   |\n",
      "|  20090  |   3753  |     4.7375    |  9   |\n",
      "|  20090  |   4483  | 4.73740863549 |  10  |\n",
      "|  37939  |   7947  | 4.84126984127 |  1   |\n",
      "|  37939  |   3275  | 4.78571428571 |  2   |\n",
      "|  37939  |   5580  | 4.78481012658 |  3   |\n",
      "|  37939  |   6361  | 4.78082191781 |  4   |\n",
      "|  37939  |   3628  |     4.775     |  5   |\n",
      "|  37939  |   8978  | 4.76712328767 |  6   |\n",
      "|  37939  |   6920  |      4.76     |  7   |\n",
      "|  37939  |   6590  | 4.75362318841 |  8   |\n",
      "|  37939  |   9566  | 4.75342465753 |  9   |\n",
      "|  37939  |   3753  |     4.7375    |  10  |\n",
      "|  10588  |   7947  | 4.84126984127 |  1   |\n",
      "|  10588  |   3275  | 4.78571428571 |  2   |\n",
      "|  10588  |   5580  | 4.78481012658 |  3   |\n",
      "|  10588  |   6361  | 4.78082191781 |  4   |\n",
      "|  10588  |   3628  |     4.775     |  5   |\n",
      "|  10588  |   8978  | 4.76712328767 |  6   |\n",
      "|  10588  |   6920  |      4.76     |  7   |\n",
      "|  10588  |   6590  | 4.75362318841 |  8   |\n",
      "|  10588  |   9566  | 4.75342465753 |  9   |\n",
      "|  10588  |   3753  |     4.7375    |  10  |\n",
      "|  19618  |   7947  | 4.84126984127 |  1   |\n",
      "|  19618  |   3275  | 4.78571428571 |  2   |\n",
      "|  19618  |   5580  | 4.78481012658 |  3   |\n",
      "|  19618  |   6361  | 4.78082191781 |  4   |\n",
      "|  19618  |   3628  |     4.775     |  5   |\n",
      "|  19618  |   8978  | 4.76712328767 |  6   |\n",
      "|  19618  |   6920  |      4.76     |  7   |\n",
      "|  19618  |   6590  | 4.75362318841 |  8   |\n",
      "|  19618  |   9566  | 4.75342465753 |  9   |\n",
      "|  19618  |   3753  |     4.7375    |  10  |\n",
      "|   1713  |   7947  | 4.84126984127 |  1   |\n",
      "|   1713  |   3275  | 4.78571428571 |  2   |\n",
      "|   1713  |   5580  | 4.78481012658 |  3   |\n",
      "|   1713  |   6361  | 4.78082191781 |  4   |\n",
      "|   1713  |   3628  |     4.775     |  5   |\n",
      "|   1713  |   8978  | 4.76712328767 |  6   |\n",
      "|   1713  |   6920  |      4.76     |  7   |\n",
      "|   1713  |   6590  | 4.75362318841 |  8   |\n",
      "|   1713  |   9566  | 4.75342465753 |  9   |\n",
      "|   1713  |   3753  |     4.7375    |  10  |\n",
      "+---------+---------+---------------+------+\n",
      "[527920 rows x 4 columns]\n",
      "\n"
     ]
    }
   ],
   "source": [
    "item_sim_model_dense.predict(test_data)\n",
    "recom=item_sim_model_dense.recommend()\n",
    "recom.print_rows(num_rows=50)"
   ]
  },
  {
   "cell_type": "code",
   "execution_count": null,
   "metadata": {
    "collapsed": false
   },
   "outputs": [],
   "source": []
  },
  {
   "cell_type": "code",
   "execution_count": 14,
   "metadata": {
    "collapsed": false
   },
   "outputs": [
    {
     "ename": "NameError",
     "evalue": "name 'item_sim_model' is not defined",
     "output_type": "error",
     "traceback": [
      "\u001b[1;31m---------------------------------------------------------------------------\u001b[0m",
      "\u001b[1;31mNameError\u001b[0m                                 Traceback (most recent call last)",
      "\u001b[1;32m<ipython-input-14-105ce0b6e130>\u001b[0m in \u001b[0;36m<module>\u001b[1;34m()\u001b[0m\n\u001b[1;32m----> 1\u001b[1;33m \u001b[0mitem_sim_model\u001b[0m\u001b[1;33m.\u001b[0m\u001b[0mevaluate_rmse\u001b[0m\u001b[1;33m(\u001b[0m\u001b[0mtest_data\u001b[0m\u001b[1;33m,\u001b[0m \u001b[0mtarget\u001b[0m\u001b[1;33m=\u001b[0m\u001b[1;34m'rating'\u001b[0m\u001b[1;33m)\u001b[0m\u001b[1;33m\u001b[0m\u001b[0m\n\u001b[0m",
      "\u001b[1;31mNameError\u001b[0m: name 'item_sim_model' is not defined"
     ]
    }
   ],
   "source": [
    "item_sim_model.evaluate_rmse(test_data, target='rating')"
   ]
  },
  {
   "cell_type": "code",
   "execution_count": null,
   "metadata": {
    "collapsed": false
   },
   "outputs": [],
   "source": [
    "item_sim_model.evaluate(test_data, target='rating')"
   ]
  },
  {
   "cell_type": "code",
   "execution_count": 15,
   "metadata": {
    "collapsed": false
   },
   "outputs": [
    {
     "name": "stdout",
     "output_type": "stream",
     "text": [
      "PROGRESS: Evaluate model M0\n"
     ]
    },
    {
     "data": {
      "text/html": [
       "<pre>recommendations finished on 1000/43154 queries. users per second: 5827.47</pre>"
      ],
      "text/plain": [
       "recommendations finished on 1000/43154 queries. users per second: 5827.47"
      ]
     },
     "metadata": {},
     "output_type": "display_data"
    },
    {
     "data": {
      "text/html": [
       "<pre>recommendations finished on 2000/43154 queries. users per second: 4930.95</pre>"
      ],
      "text/plain": [
       "recommendations finished on 2000/43154 queries. users per second: 4930.95"
      ]
     },
     "metadata": {},
     "output_type": "display_data"
    },
    {
     "data": {
      "text/html": [
       "<pre>recommendations finished on 3000/43154 queries. users per second: 5060.72</pre>"
      ],
      "text/plain": [
       "recommendations finished on 3000/43154 queries. users per second: 5060.72"
      ]
     },
     "metadata": {},
     "output_type": "display_data"
    },
    {
     "data": {
      "text/html": [
       "<pre>recommendations finished on 4000/43154 queries. users per second: 5232.85</pre>"
      ],
      "text/plain": [
       "recommendations finished on 4000/43154 queries. users per second: 5232.85"
      ]
     },
     "metadata": {},
     "output_type": "display_data"
    },
    {
     "data": {
      "text/html": [
       "<pre>recommendations finished on 5000/43154 queries. users per second: 5341.87</pre>"
      ],
      "text/plain": [
       "recommendations finished on 5000/43154 queries. users per second: 5341.87"
      ]
     },
     "metadata": {},
     "output_type": "display_data"
    },
    {
     "data": {
      "text/html": [
       "<pre>recommendations finished on 6000/43154 queries. users per second: 5574.13</pre>"
      ],
      "text/plain": [
       "recommendations finished on 6000/43154 queries. users per second: 5574.13"
      ]
     },
     "metadata": {},
     "output_type": "display_data"
    },
    {
     "data": {
      "text/html": [
       "<pre>recommendations finished on 7000/43154 queries. users per second: 5608.96</pre>"
      ],
      "text/plain": [
       "recommendations finished on 7000/43154 queries. users per second: 5608.96"
      ]
     },
     "metadata": {},
     "output_type": "display_data"
    },
    {
     "data": {
      "text/html": [
       "<pre>recommendations finished on 8000/43154 queries. users per second: 5762.02</pre>"
      ],
      "text/plain": [
       "recommendations finished on 8000/43154 queries. users per second: 5762.02"
      ]
     },
     "metadata": {},
     "output_type": "display_data"
    },
    {
     "data": {
      "text/html": [
       "<pre>recommendations finished on 9000/43154 queries. users per second: 5769.22</pre>"
      ],
      "text/plain": [
       "recommendations finished on 9000/43154 queries. users per second: 5769.22"
      ]
     },
     "metadata": {},
     "output_type": "display_data"
    },
    {
     "data": {
      "text/html": [
       "<pre>recommendations finished on 10000/43154 queries. users per second: 5775</pre>"
      ],
      "text/plain": [
       "recommendations finished on 10000/43154 queries. users per second: 5775"
      ]
     },
     "metadata": {},
     "output_type": "display_data"
    },
    {
     "data": {
      "text/html": [
       "<pre>recommendations finished on 11000/43154 queries. users per second: 5827.49</pre>"
      ],
      "text/plain": [
       "recommendations finished on 11000/43154 queries. users per second: 5827.49"
      ]
     },
     "metadata": {},
     "output_type": "display_data"
    },
    {
     "data": {
      "text/html": [
       "<pre>recommendations finished on 12000/43154 queries. users per second: 5827.49</pre>"
      ],
      "text/plain": [
       "recommendations finished on 12000/43154 queries. users per second: 5827.49"
      ]
     },
     "metadata": {},
     "output_type": "display_data"
    },
    {
     "data": {
      "text/html": [
       "<pre>recommendations finished on 13000/43154 queries. users per second: 5910.15</pre>"
      ],
      "text/plain": [
       "recommendations finished on 13000/43154 queries. users per second: 5910.15"
      ]
     },
     "metadata": {},
     "output_type": "display_data"
    },
    {
     "data": {
      "text/html": [
       "<pre>recommendations finished on 14000/43154 queries. users per second: 5943.27</pre>"
      ],
      "text/plain": [
       "recommendations finished on 14000/43154 queries. users per second: 5943.27"
      ]
     },
     "metadata": {},
     "output_type": "display_data"
    },
    {
     "data": {
      "text/html": [
       "<pre>recommendations finished on 15000/43154 queries. users per second: 5935.41</pre>"
      ],
      "text/plain": [
       "recommendations finished on 15000/43154 queries. users per second: 5935.41"
      ]
     },
     "metadata": {},
     "output_type": "display_data"
    },
    {
     "data": {
      "text/html": [
       "<pre>recommendations finished on 16000/43154 queries. users per second: 5963.02</pre>"
      ],
      "text/plain": [
       "recommendations finished on 16000/43154 queries. users per second: 5963.02"
      ]
     },
     "metadata": {},
     "output_type": "display_data"
    },
    {
     "data": {
      "text/html": [
       "<pre>recommendations finished on 17000/43154 queries. users per second: 5987.59</pre>"
      ],
      "text/plain": [
       "recommendations finished on 17000/43154 queries. users per second: 5987.59"
      ]
     },
     "metadata": {},
     "output_type": "display_data"
    },
    {
     "data": {
      "text/html": [
       "<pre>recommendations finished on 18000/43154 queries. users per second: 6009.6</pre>"
      ],
      "text/plain": [
       "recommendations finished on 18000/43154 queries. users per second: 6009.6"
      ]
     },
     "metadata": {},
     "output_type": "display_data"
    },
    {
     "data": {
      "text/html": [
       "<pre>recommendations finished on 19000/43154 queries. users per second: 5999.74</pre>"
      ],
      "text/plain": [
       "recommendations finished on 19000/43154 queries. users per second: 5999.74"
      ]
     },
     "metadata": {},
     "output_type": "display_data"
    },
    {
     "data": {
      "text/html": [
       "<pre>recommendations finished on 20000/43154 queries. users per second: 6019.01</pre>"
      ],
      "text/plain": [
       "recommendations finished on 20000/43154 queries. users per second: 6019.01"
      ]
     },
     "metadata": {},
     "output_type": "display_data"
    },
    {
     "data": {
      "text/html": [
       "<pre>recommendations finished on 21000/43154 queries. users per second: 6036.55</pre>"
      ],
      "text/plain": [
       "recommendations finished on 21000/43154 queries. users per second: 6036.55"
      ]
     },
     "metadata": {},
     "output_type": "display_data"
    },
    {
     "data": {
      "text/html": [
       "<pre>recommendations finished on 22000/43154 queries. users per second: 6026.73</pre>"
      ],
      "text/plain": [
       "recommendations finished on 22000/43154 queries. users per second: 6026.73"
      ]
     },
     "metadata": {},
     "output_type": "display_data"
    },
    {
     "data": {
      "text/html": [
       "<pre>recommendations finished on 23000/43154 queries. users per second: 6017.78</pre>"
      ],
      "text/plain": [
       "recommendations finished on 23000/43154 queries. users per second: 6017.78"
      ]
     },
     "metadata": {},
     "output_type": "display_data"
    },
    {
     "data": {
      "text/html": [
       "<pre>recommendations finished on 24000/43154 queries. users per second: 6056.92</pre>"
      ],
      "text/plain": [
       "recommendations finished on 24000/43154 queries. users per second: 6056.92"
      ]
     },
     "metadata": {},
     "output_type": "display_data"
    },
    {
     "data": {
      "text/html": [
       "<pre>recommendations finished on 25000/43154 queries. users per second: 6070.31</pre>"
      ],
      "text/plain": [
       "recommendations finished on 25000/43154 queries. users per second: 6070.31"
      ]
     },
     "metadata": {},
     "output_type": "display_data"
    },
    {
     "data": {
      "text/html": [
       "<pre>recommendations finished on 26000/43154 queries. users per second: 6060.59</pre>"
      ],
      "text/plain": [
       "recommendations finished on 26000/43154 queries. users per second: 6060.59"
      ]
     },
     "metadata": {},
     "output_type": "display_data"
    },
    {
     "data": {
      "text/html": [
       "<pre>recommendations finished on 27000/43154 queries. users per second: 6051.63</pre>"
      ],
      "text/plain": [
       "recommendations finished on 27000/43154 queries. users per second: 6051.63"
      ]
     },
     "metadata": {},
     "output_type": "display_data"
    },
    {
     "data": {
      "text/html": [
       "<pre>recommendations finished on 28000/43154 queries. users per second: 6063.75</pre>"
      ],
      "text/plain": [
       "recommendations finished on 28000/43154 queries. users per second: 6063.75"
      ]
     },
     "metadata": {},
     "output_type": "display_data"
    },
    {
     "data": {
      "text/html": [
       "<pre>recommendations finished on 29000/43154 queries. users per second: 6055.28</pre>"
      ],
      "text/plain": [
       "recommendations finished on 29000/43154 queries. users per second: 6055.28"
      ]
     },
     "metadata": {},
     "output_type": "display_data"
    },
    {
     "data": {
      "text/html": [
       "<pre>recommendations finished on 30000/43154 queries. users per second: 6066.48</pre>"
      ],
      "text/plain": [
       "recommendations finished on 30000/43154 queries. users per second: 6066.48"
      ]
     },
     "metadata": {},
     "output_type": "display_data"
    },
    {
     "data": {
      "text/html": [
       "<pre>recommendations finished on 31000/43154 queries. users per second: 6076.99</pre>"
      ],
      "text/plain": [
       "recommendations finished on 31000/43154 queries. users per second: 6076.99"
      ]
     },
     "metadata": {},
     "output_type": "display_data"
    },
    {
     "data": {
      "text/html": [
       "<pre>recommendations finished on 32000/43154 queries. users per second: 6068.87</pre>"
      ],
      "text/plain": [
       "recommendations finished on 32000/43154 queries. users per second: 6068.87"
      ]
     },
     "metadata": {},
     "output_type": "display_data"
    },
    {
     "data": {
      "text/html": [
       "<pre>recommendations finished on 33000/43154 queries. users per second: 6061.26</pre>"
      ],
      "text/plain": [
       "recommendations finished on 33000/43154 queries. users per second: 6061.26"
      ]
     },
     "metadata": {},
     "output_type": "display_data"
    },
    {
     "data": {
      "text/html": [
       "<pre>recommendations finished on 34000/43154 queries. users per second: 6054.12</pre>"
      ],
      "text/plain": [
       "recommendations finished on 34000/43154 queries. users per second: 6054.12"
      ]
     },
     "metadata": {},
     "output_type": "display_data"
    },
    {
     "data": {
      "text/html": [
       "<pre>recommendations finished on 35000/43154 queries. users per second: 6063.75</pre>"
      ],
      "text/plain": [
       "recommendations finished on 35000/43154 queries. users per second: 6063.75"
      ]
     },
     "metadata": {},
     "output_type": "display_data"
    },
    {
     "data": {
      "text/html": [
       "<pre>recommendations finished on 36000/43154 queries. users per second: 6056.92</pre>"
      ],
      "text/plain": [
       "recommendations finished on 36000/43154 queries. users per second: 6056.92"
      ]
     },
     "metadata": {},
     "output_type": "display_data"
    },
    {
     "data": {
      "text/html": [
       "<pre>recommendations finished on 37000/43154 queries. users per second: 6035.09</pre>"
      ],
      "text/plain": [
       "recommendations finished on 37000/43154 queries. users per second: 6035.09"
      ]
     },
     "metadata": {},
     "output_type": "display_data"
    },
    {
     "data": {
      "text/html": [
       "<pre>recommendations finished on 38000/43154 queries. users per second: 6029.44</pre>"
      ],
      "text/plain": [
       "recommendations finished on 38000/43154 queries. users per second: 6029.44"
      ]
     },
     "metadata": {},
     "output_type": "display_data"
    },
    {
     "data": {
      "text/html": [
       "<pre>recommendations finished on 39000/43154 queries. users per second: 5966.58</pre>"
      ],
      "text/plain": [
       "recommendations finished on 39000/43154 queries. users per second: 5966.58"
      ]
     },
     "metadata": {},
     "output_type": "display_data"
    },
    {
     "data": {
      "text/html": [
       "<pre>recommendations finished on 40000/43154 queries. users per second: 5894.48</pre>"
      ],
      "text/plain": [
       "recommendations finished on 40000/43154 queries. users per second: 5894.48"
      ]
     },
     "metadata": {},
     "output_type": "display_data"
    },
    {
     "data": {
      "text/html": [
       "<pre>recommendations finished on 41000/43154 queries. users per second: 5840.45</pre>"
      ],
      "text/plain": [
       "recommendations finished on 41000/43154 queries. users per second: 5840.45"
      ]
     },
     "metadata": {},
     "output_type": "display_data"
    },
    {
     "data": {
      "text/html": [
       "<pre>recommendations finished on 42000/43154 queries. users per second: 5802.38</pre>"
      ],
      "text/plain": [
       "recommendations finished on 42000/43154 queries. users per second: 5802.38"
      ]
     },
     "metadata": {},
     "output_type": "display_data"
    },
    {
     "data": {
      "text/html": [
       "<pre>recommendations finished on 43000/43154 queries. users per second: 5706.84</pre>"
      ],
      "text/plain": [
       "recommendations finished on 43000/43154 queries. users per second: 5706.84"
      ]
     },
     "metadata": {},
     "output_type": "display_data"
    },
    {
     "name": "stdout",
     "output_type": "stream",
     "text": [
      "\n",
      "Precision and recall summary statistics by cutoff\n",
      "+--------+-------------------+-------------------+\n",
      "| cutoff |   mean_precision  |    mean_recall    |\n",
      "+--------+-------------------+-------------------+\n",
      "|   1    | 0.000579320572832 | 0.000283969067859 |\n",
      "|   2    | 0.000718357510312 | 0.000526208190846 |\n",
      "|   3    | 0.000641114767268 | 0.000597499410119 |\n",
      "|   4    | 0.000631459424387 | 0.000704736363739 |\n",
      "|   5    | 0.000667377299903 | 0.000788203265847 |\n",
      "|   6    | 0.000668149727333 |  0.00091931006487 |\n",
      "|   7    | 0.000668701461212 |  0.00107001125458 |\n",
      "|   8    | 0.000657528850165 |  0.00120696931768 |\n",
      "|   9    | 0.000646264283471 |  0.00134253035631 |\n",
      "|   10   | 0.000660425453029 |  0.0014967894069  |\n",
      "+--------+-------------------+-------------------+\n",
      "[10 rows x 3 columns]\n",
      "\n",
      "PROGRESS: Evaluate model M1\n"
     ]
    },
    {
     "data": {
      "text/html": [
       "<pre>recommendations finished on 1000/43154 queries. users per second: 7122.51</pre>"
      ],
      "text/plain": [
       "recommendations finished on 1000/43154 queries. users per second: 7122.51"
      ]
     },
     "metadata": {},
     "output_type": "display_data"
    },
    {
     "data": {
      "text/html": [
       "<pre>recommendations finished on 2000/43154 queries. users per second: 6747.64</pre>"
      ],
      "text/plain": [
       "recommendations finished on 2000/43154 queries. users per second: 6747.64"
      ]
     },
     "metadata": {},
     "output_type": "display_data"
    },
    {
     "data": {
      "text/html": [
       "<pre>recommendations finished on 3000/43154 queries. users per second: 6410.26</pre>"
      ],
      "text/plain": [
       "recommendations finished on 3000/43154 queries. users per second: 6410.26"
      ]
     },
     "metadata": {},
     "output_type": "display_data"
    },
    {
     "data": {
      "text/html": [
       "<pre>recommendations finished on 4000/43154 queries. users per second: 6410.25</pre>"
      ],
      "text/plain": [
       "recommendations finished on 4000/43154 queries. users per second: 6410.25"
      ]
     },
     "metadata": {},
     "output_type": "display_data"
    },
    {
     "data": {
      "text/html": [
       "<pre>recommendations finished on 5000/43154 queries. users per second: 6284.56</pre>"
      ],
      "text/plain": [
       "recommendations finished on 5000/43154 queries. users per second: 6284.56"
      ]
     },
     "metadata": {},
     "output_type": "display_data"
    },
    {
     "data": {
      "text/html": [
       "<pre>recommendations finished on 6000/43154 queries. users per second: 6305.16</pre>"
      ],
      "text/plain": [
       "recommendations finished on 6000/43154 queries. users per second: 6305.16"
      ]
     },
     "metadata": {},
     "output_type": "display_data"
    },
    {
     "data": {
      "text/html": [
       "<pre>recommendations finished on 7000/43154 queries. users per second: 6319.96</pre>"
      ],
      "text/plain": [
       "recommendations finished on 7000/43154 queries. users per second: 6319.96"
      ]
     },
     "metadata": {},
     "output_type": "display_data"
    },
    {
     "data": {
      "text/html": [
       "<pre>recommendations finished on 8000/43154 queries. users per second: 6331.11</pre>"
      ],
      "text/plain": [
       "recommendations finished on 8000/43154 queries. users per second: 6331.11"
      ]
     },
     "metadata": {},
     "output_type": "display_data"
    },
    {
     "data": {
      "text/html": [
       "<pre>recommendations finished on 9000/43154 queries. users per second: 6203.47</pre>"
      ],
      "text/plain": [
       "recommendations finished on 9000/43154 queries. users per second: 6203.47"
      ]
     },
     "metadata": {},
     "output_type": "display_data"
    },
    {
     "data": {
      "text/html": [
       "<pre>recommendations finished on 10000/43154 queries. users per second: 6047.4</pre>"
      ],
      "text/plain": [
       "recommendations finished on 10000/43154 queries. users per second: 6047.4"
      ]
     },
     "metadata": {},
     "output_type": "display_data"
    },
    {
     "data": {
      "text/html": [
       "<pre>recommendations finished on 11000/43154 queries. users per second: 5975.65</pre>"
      ],
      "text/plain": [
       "recommendations finished on 11000/43154 queries. users per second: 5975.65"
      ]
     },
     "metadata": {},
     "output_type": "display_data"
    },
    {
     "data": {
      "text/html": [
       "<pre>recommendations finished on 12000/43154 queries. users per second: 5963.02</pre>"
      ],
      "text/plain": [
       "recommendations finished on 12000/43154 queries. users per second: 5963.02"
      ]
     },
     "metadata": {},
     "output_type": "display_data"
    },
    {
     "data": {
      "text/html": [
       "<pre>recommendations finished on 13000/43154 queries. users per second: 5910.16</pre>"
      ],
      "text/plain": [
       "recommendations finished on 13000/43154 queries. users per second: 5910.16"
      ]
     },
     "metadata": {},
     "output_type": "display_data"
    },
    {
     "data": {
      "text/html": [
       "<pre>recommendations finished on 14000/43154 queries. users per second: 5865.58</pre>"
      ],
      "text/plain": [
       "recommendations finished on 14000/43154 queries. users per second: 5865.58"
      ]
     },
     "metadata": {},
     "output_type": "display_data"
    },
    {
     "data": {
      "text/html": [
       "<pre>recommendations finished on 15000/43154 queries. users per second: 5863.03</pre>"
      ],
      "text/plain": [
       "recommendations finished on 15000/43154 queries. users per second: 5863.03"
      ]
     },
     "metadata": {},
     "output_type": "display_data"
    },
    {
     "data": {
      "text/html": [
       "<pre>recommendations finished on 16000/43154 queries. users per second: 5827.5</pre>"
      ],
      "text/plain": [
       "recommendations finished on 16000/43154 queries. users per second: 5827.5"
      ]
     },
     "metadata": {},
     "output_type": "display_data"
    },
    {
     "data": {
      "text/html": [
       "<pre>recommendations finished on 17000/43154 queries. users per second: 5796.5</pre>"
      ],
      "text/plain": [
       "recommendations finished on 17000/43154 queries. users per second: 5796.5"
      ]
     },
     "metadata": {},
     "output_type": "display_data"
    },
    {
     "data": {
      "text/html": [
       "<pre>recommendations finished on 18000/43154 queries. users per second: 5798.21</pre>"
      ],
      "text/plain": [
       "recommendations finished on 18000/43154 queries. users per second: 5798.21"
      ]
     },
     "metadata": {},
     "output_type": "display_data"
    },
    {
     "data": {
      "text/html": [
       "<pre>recommendations finished on 19000/43154 queries. users per second: 5772.26</pre>"
      ],
      "text/plain": [
       "recommendations finished on 19000/43154 queries. users per second: 5772.26"
      ]
     },
     "metadata": {},
     "output_type": "display_data"
    },
    {
     "data": {
      "text/html": [
       "<pre>recommendations finished on 20000/43154 queries. users per second: 5749.1</pre>"
      ],
      "text/plain": [
       "recommendations finished on 20000/43154 queries. users per second: 5749.1"
      ]
     },
     "metadata": {},
     "output_type": "display_data"
    },
    {
     "data": {
      "text/html": [
       "<pre>recommendations finished on 21000/43154 queries. users per second: 5656.1</pre>"
      ],
      "text/plain": [
       "recommendations finished on 21000/43154 queries. users per second: 5656.1"
      ]
     },
     "metadata": {},
     "output_type": "display_data"
    },
    {
     "data": {
      "text/html": [
       "<pre>recommendations finished on 22000/43154 queries. users per second: 5641.02</pre>"
      ],
      "text/plain": [
       "recommendations finished on 22000/43154 queries. users per second: 5641.02"
      ]
     },
     "metadata": {},
     "output_type": "display_data"
    },
    {
     "data": {
      "text/html": [
       "<pre>recommendations finished on 23000/43154 queries. users per second: 5670.6</pre>"
      ],
      "text/plain": [
       "recommendations finished on 23000/43154 queries. users per second: 5670.6"
      ]
     },
     "metadata": {},
     "output_type": "display_data"
    },
    {
     "data": {
      "text/html": [
       "<pre>recommendations finished on 24000/43154 queries. users per second: 5719.18</pre>"
      ],
      "text/plain": [
       "recommendations finished on 24000/43154 queries. users per second: 5719.18"
      ]
     },
     "metadata": {},
     "output_type": "display_data"
    },
    {
     "data": {
      "text/html": [
       "<pre>recommendations finished on 25000/43154 queries. users per second: 5764.61</pre>"
      ],
      "text/plain": [
       "recommendations finished on 25000/43154 queries. users per second: 5764.61"
      ]
     },
     "metadata": {},
     "output_type": "display_data"
    },
    {
     "data": {
      "text/html": [
       "<pre>recommendations finished on 26000/43154 queries. users per second: 5807.19</pre>"
      ],
      "text/plain": [
       "recommendations finished on 26000/43154 queries. users per second: 5807.19"
      ]
     },
     "metadata": {},
     "output_type": "display_data"
    },
    {
     "data": {
      "text/html": [
       "<pre>recommendations finished on 27000/43154 queries. users per second: 5867</pre>"
      ],
      "text/plain": [
       "recommendations finished on 27000/43154 queries. users per second: 5867"
      ]
     },
     "metadata": {},
     "output_type": "display_data"
    },
    {
     "data": {
      "text/html": [
       "<pre>recommendations finished on 28000/43154 queries. users per second: 5904.17</pre>"
      ],
      "text/plain": [
       "recommendations finished on 28000/43154 queries. users per second: 5904.17"
      ]
     },
     "metadata": {},
     "output_type": "display_data"
    },
    {
     "data": {
      "text/html": [
       "<pre>recommendations finished on 29000/43154 queries. users per second: 5920.29</pre>"
      ],
      "text/plain": [
       "recommendations finished on 29000/43154 queries. users per second: 5920.29"
      ]
     },
     "metadata": {},
     "output_type": "display_data"
    },
    {
     "data": {
      "text/html": [
       "<pre>recommendations finished on 30000/43154 queries. users per second: 5953.79</pre>"
      ],
      "text/plain": [
       "recommendations finished on 30000/43154 queries. users per second: 5953.79"
      ]
     },
     "metadata": {},
     "output_type": "display_data"
    },
    {
     "data": {
      "text/html": [
       "<pre>recommendations finished on 31000/43154 queries. users per second: 5985.47</pre>"
      ],
      "text/plain": [
       "recommendations finished on 31000/43154 queries. users per second: 5985.47"
      ]
     },
     "metadata": {},
     "output_type": "display_data"
    },
    {
     "data": {
      "text/html": [
       "<pre>recommendations finished on 32000/43154 queries. users per second: 6015.48</pre>"
      ],
      "text/plain": [
       "recommendations finished on 32000/43154 queries. users per second: 6015.48"
      ]
     },
     "metadata": {},
     "output_type": "display_data"
    },
    {
     "data": {
      "text/html": [
       "<pre>recommendations finished on 33000/43154 queries. users per second: 6026.73</pre>"
      ],
      "text/plain": [
       "recommendations finished on 33000/43154 queries. users per second: 6026.73"
      ]
     },
     "metadata": {},
     "output_type": "display_data"
    },
    {
     "data": {
      "text/html": [
       "<pre>recommendations finished on 34000/43154 queries. users per second: 6054.12</pre>"
      ],
      "text/plain": [
       "recommendations finished on 34000/43154 queries. users per second: 6054.12"
      ]
     },
     "metadata": {},
     "output_type": "display_data"
    },
    {
     "data": {
      "text/html": [
       "<pre>recommendations finished on 35000/43154 queries. users per second: 6063.75</pre>"
      ],
      "text/plain": [
       "recommendations finished on 35000/43154 queries. users per second: 6063.75"
      ]
     },
     "metadata": {},
     "output_type": "display_data"
    },
    {
     "data": {
      "text/html": [
       "<pre>recommendations finished on 36000/43154 queries. users per second: 6056.93</pre>"
      ],
      "text/plain": [
       "recommendations finished on 36000/43154 queries. users per second: 6056.93"
      ]
     },
     "metadata": {},
     "output_type": "display_data"
    },
    {
     "data": {
      "text/html": [
       "<pre>recommendations finished on 37000/43154 queries. users per second: 6065.96</pre>"
      ],
      "text/plain": [
       "recommendations finished on 37000/43154 queries. users per second: 6065.96"
      ]
     },
     "metadata": {},
     "output_type": "display_data"
    },
    {
     "data": {
      "text/html": [
       "<pre>recommendations finished on 38000/43154 queries. users per second: 6089.73</pre>"
      ],
      "text/plain": [
       "recommendations finished on 38000/43154 queries. users per second: 6089.73"
      ]
     },
     "metadata": {},
     "output_type": "display_data"
    },
    {
     "data": {
      "text/html": [
       "<pre>recommendations finished on 39000/43154 queries. users per second: 6053.26</pre>"
      ],
      "text/plain": [
       "recommendations finished on 39000/43154 queries. users per second: 6053.26"
      ]
     },
     "metadata": {},
     "output_type": "display_data"
    },
    {
     "data": {
      "text/html": [
       "<pre>recommendations finished on 40000/43154 queries. users per second: 6047.4</pre>"
      ],
      "text/plain": [
       "recommendations finished on 40000/43154 queries. users per second: 6047.4"
      ]
     },
     "metadata": {},
     "output_type": "display_data"
    },
    {
     "data": {
      "text/html": [
       "<pre>recommendations finished on 41000/43154 queries. users per second: 6027.98</pre>"
      ],
      "text/plain": [
       "recommendations finished on 41000/43154 queries. users per second: 6027.98"
      ]
     },
     "metadata": {},
     "output_type": "display_data"
    },
    {
     "data": {
      "text/html": [
       "<pre>recommendations finished on 42000/43154 queries. users per second: 5996.22</pre>"
      ],
      "text/plain": [
       "recommendations finished on 42000/43154 queries. users per second: 5996.22"
      ]
     },
     "metadata": {},
     "output_type": "display_data"
    },
    {
     "data": {
      "text/html": [
       "<pre>recommendations finished on 43000/43154 queries. users per second: 5889.76</pre>"
      ],
      "text/plain": [
       "recommendations finished on 43000/43154 queries. users per second: 5889.76"
      ]
     },
     "metadata": {},
     "output_type": "display_data"
    },
    {
     "name": "stdout",
     "output_type": "stream",
     "text": [
      "\n",
      "Precision and recall summary statistics by cutoff\n",
      "+--------+-------------------+-------------------+\n",
      "| cutoff |   mean_precision  |    mean_recall    |\n",
      "+--------+-------------------+-------------------+\n",
      "|   1    | 0.000579320572832 | 0.000283969067859 |\n",
      "|   2    | 0.000718357510312 | 0.000526208190846 |\n",
      "|   3    | 0.000641114767268 | 0.000597499410119 |\n",
      "|   4    | 0.000631459424387 | 0.000704736363739 |\n",
      "|   5    | 0.000667377299903 | 0.000788203265847 |\n",
      "|   6    | 0.000668149727333 |  0.00091931006487 |\n",
      "|   7    | 0.000668701461212 |  0.00107001125458 |\n",
      "|   8    | 0.000657528850165 |  0.00120696931768 |\n",
      "|   9    | 0.000646264283471 |  0.00134253035631 |\n",
      "|   10   | 0.000660425453029 |  0.0014967894069  |\n",
      "+--------+-------------------+-------------------+\n",
      "[10 rows x 3 columns]\n",
      "\n",
      "PROGRESS: Evaluate model M2\n"
     ]
    },
    {
     "data": {
      "text/html": [
       "<pre>recommendations finished on 1000/43154 queries. users per second: 6410.22</pre>"
      ],
      "text/plain": [
       "recommendations finished on 1000/43154 queries. users per second: 6410.22"
      ]
     },
     "metadata": {},
     "output_type": "display_data"
    },
    {
     "data": {
      "text/html": [
       "<pre>recommendations finished on 2000/43154 queries. users per second: 6104.99</pre>"
      ],
      "text/plain": [
       "recommendations finished on 2000/43154 queries. users per second: 6104.99"
      ]
     },
     "metadata": {},
     "output_type": "display_data"
    },
    {
     "data": {
      "text/html": [
       "<pre>recommendations finished on 3000/43154 queries. users per second: 5494.5</pre>"
      ],
      "text/plain": [
       "recommendations finished on 3000/43154 queries. users per second: 5494.5"
      ]
     },
     "metadata": {},
     "output_type": "display_data"
    },
    {
     "data": {
      "text/html": [
       "<pre>recommendations finished on 4000/43154 queries. users per second: 5574.12</pre>"
      ],
      "text/plain": [
       "recommendations finished on 4000/43154 queries. users per second: 5574.12"
      ]
     },
     "metadata": {},
     "output_type": "display_data"
    },
    {
     "data": {
      "text/html": [
       "<pre>recommendations finished on 5000/43154 queries. users per second: 5723.43</pre>"
      ],
      "text/plain": [
       "recommendations finished on 5000/43154 queries. users per second: 5723.43"
      ]
     },
     "metadata": {},
     "output_type": "display_data"
    },
    {
     "data": {
      "text/html": [
       "<pre>recommendations finished on 6000/43154 queries. users per second: 5740.52</pre>"
      ],
      "text/plain": [
       "recommendations finished on 6000/43154 queries. users per second: 5740.52"
      ]
     },
     "metadata": {},
     "output_type": "display_data"
    },
    {
     "data": {
      "text/html": [
       "<pre>recommendations finished on 7000/43154 queries. users per second: 5752.78</pre>"
      ],
      "text/plain": [
       "recommendations finished on 7000/43154 queries. users per second: 5752.78"
      ]
     },
     "metadata": {},
     "output_type": "display_data"
    },
    {
     "data": {
      "text/html": [
       "<pre>recommendations finished on 8000/43154 queries. users per second: 5827.49</pre>"
      ],
      "text/plain": [
       "recommendations finished on 8000/43154 queries. users per second: 5827.49"
      ]
     },
     "metadata": {},
     "output_type": "display_data"
    },
    {
     "data": {
      "text/html": [
       "<pre>recommendations finished on 9000/43154 queries. users per second: 5886.96</pre>"
      ],
      "text/plain": [
       "recommendations finished on 9000/43154 queries. users per second: 5886.96"
      ]
     },
     "metadata": {},
     "output_type": "display_data"
    },
    {
     "data": {
      "text/html": [
       "<pre>recommendations finished on 10000/43154 queries. users per second: 5935.41</pre>"
      ],
      "text/plain": [
       "recommendations finished on 10000/43154 queries. users per second: 5935.41"
      ]
     },
     "metadata": {},
     "output_type": "display_data"
    },
    {
     "data": {
      "text/html": [
       "<pre>recommendations finished on 11000/43154 queries. users per second: 5975.65</pre>"
      ],
      "text/plain": [
       "recommendations finished on 11000/43154 queries. users per second: 5975.65"
      ]
     },
     "metadata": {},
     "output_type": "display_data"
    },
    {
     "data": {
      "text/html": [
       "<pre>recommendations finished on 12000/43154 queries. users per second: 6056.92</pre>"
      ],
      "text/plain": [
       "recommendations finished on 12000/43154 queries. users per second: 6056.92"
      ]
     },
     "metadata": {},
     "output_type": "display_data"
    },
    {
     "data": {
      "text/html": [
       "<pre>recommendations finished on 13000/43154 queries. users per second: 6127.44</pre>"
      ],
      "text/plain": [
       "recommendations finished on 13000/43154 queries. users per second: 6127.44"
      ]
     },
     "metadata": {},
     "output_type": "display_data"
    },
    {
     "data": {
      "text/html": [
       "<pre>recommendations finished on 14000/43154 queries. users per second: 6146.81</pre>"
      ],
      "text/plain": [
       "recommendations finished on 14000/43154 queries. users per second: 6146.81"
      ]
     },
     "metadata": {},
     "output_type": "display_data"
    },
    {
     "data": {
      "text/html": [
       "<pre>recommendations finished on 15000/43154 queries. users per second: 6163.7</pre>"
      ],
      "text/plain": [
       "recommendations finished on 15000/43154 queries. users per second: 6163.7"
      ]
     },
     "metadata": {},
     "output_type": "display_data"
    },
    {
     "data": {
      "text/html": [
       "<pre>recommendations finished on 16000/43154 queries. users per second: 6178.55</pre>"
      ],
      "text/plain": [
       "recommendations finished on 16000/43154 queries. users per second: 6178.55"
      ]
     },
     "metadata": {},
     "output_type": "display_data"
    },
    {
     "data": {
      "text/html": [
       "<pre>recommendations finished on 17000/43154 queries. users per second: 6191.71</pre>"
      ],
      "text/plain": [
       "recommendations finished on 17000/43154 queries. users per second: 6191.71"
      ]
     },
     "metadata": {},
     "output_type": "display_data"
    },
    {
     "data": {
      "text/html": [
       "<pre>recommendations finished on 18000/43154 queries. users per second: 6236.99</pre>"
      ],
      "text/plain": [
       "recommendations finished on 18000/43154 queries. users per second: 6236.99"
      ]
     },
     "metadata": {},
     "output_type": "display_data"
    },
    {
     "data": {
      "text/html": [
       "<pre>recommendations finished on 19000/43154 queries. users per second: 6245.88</pre>"
      ],
      "text/plain": [
       "recommendations finished on 19000/43154 queries. users per second: 6245.88"
      ]
     },
     "metadata": {},
     "output_type": "display_data"
    },
    {
     "data": {
      "text/html": [
       "<pre>recommendations finished on 20000/43154 queries. users per second: 6284.55</pre>"
      ],
      "text/plain": [
       "recommendations finished on 20000/43154 queries. users per second: 6284.55"
      ]
     },
     "metadata": {},
     "output_type": "display_data"
    },
    {
     "data": {
      "text/html": [
       "<pre>recommendations finished on 21000/43154 queries. users per second: 6290.43</pre>"
      ],
      "text/plain": [
       "recommendations finished on 21000/43154 queries. users per second: 6290.43"
      ]
     },
     "metadata": {},
     "output_type": "display_data"
    },
    {
     "data": {
      "text/html": [
       "<pre>recommendations finished on 22000/43154 queries. users per second: 6324.01</pre>"
      ],
      "text/plain": [
       "recommendations finished on 22000/43154 queries. users per second: 6324.01"
      ]
     },
     "metadata": {},
     "output_type": "display_data"
    },
    {
     "data": {
      "text/html": [
       "<pre>recommendations finished on 23000/43154 queries. users per second: 6354.98</pre>"
      ],
      "text/plain": [
       "recommendations finished on 23000/43154 queries. users per second: 6354.98"
      ]
     },
     "metadata": {},
     "output_type": "display_data"
    },
    {
     "data": {
      "text/html": [
       "<pre>recommendations finished on 24000/43154 queries. users per second: 6331.11</pre>"
      ],
      "text/plain": [
       "recommendations finished on 24000/43154 queries. users per second: 6331.11"
      ]
     },
     "metadata": {},
     "output_type": "display_data"
    },
    {
     "data": {
      "text/html": [
       "<pre>recommendations finished on 25000/43154 queries. users per second: 6211.48</pre>"
      ],
      "text/plain": [
       "recommendations finished on 25000/43154 queries. users per second: 6211.48"
      ]
     },
     "metadata": {},
     "output_type": "display_data"
    },
    {
     "data": {
      "text/html": [
       "<pre>recommendations finished on 26000/43154 queries. users per second: 6218.89</pre>"
      ],
      "text/plain": [
       "recommendations finished on 26000/43154 queries. users per second: 6218.89"
      ]
     },
     "metadata": {},
     "output_type": "display_data"
    },
    {
     "data": {
      "text/html": [
       "<pre>recommendations finished on 27000/43154 queries. users per second: 6181.31</pre>"
      ],
      "text/plain": [
       "recommendations finished on 27000/43154 queries. users per second: 6181.31"
      ]
     },
     "metadata": {},
     "output_type": "display_data"
    },
    {
     "data": {
      "text/html": [
       "<pre>recommendations finished on 28000/43154 queries. users per second: 6146.81</pre>"
      ],
      "text/plain": [
       "recommendations finished on 28000/43154 queries. users per second: 6146.81"
      ]
     },
     "metadata": {},
     "output_type": "display_data"
    },
    {
     "data": {
      "text/html": [
       "<pre>recommendations finished on 29000/43154 queries. users per second: 6135.22</pre>"
      ],
      "text/plain": [
       "recommendations finished on 29000/43154 queries. users per second: 6135.22"
      ]
     },
     "metadata": {},
     "output_type": "display_data"
    },
    {
     "data": {
      "text/html": [
       "<pre>recommendations finished on 30000/43154 queries. users per second: 6124.44</pre>"
      ],
      "text/plain": [
       "recommendations finished on 30000/43154 queries. users per second: 6124.44"
      ]
     },
     "metadata": {},
     "output_type": "display_data"
    },
    {
     "data": {
      "text/html": [
       "<pre>recommendations finished on 31000/43154 queries. users per second: 6058.46</pre>"
      ],
      "text/plain": [
       "recommendations finished on 31000/43154 queries. users per second: 6058.46"
      ]
     },
     "metadata": {},
     "output_type": "display_data"
    },
    {
     "data": {
      "text/html": [
       "<pre>recommendations finished on 32000/43154 queries. users per second: 6068.87</pre>"
      ],
      "text/plain": [
       "recommendations finished on 32000/43154 queries. users per second: 6068.87"
      ]
     },
     "metadata": {},
     "output_type": "display_data"
    },
    {
     "data": {
      "text/html": [
       "<pre>recommendations finished on 33000/43154 queries. users per second: 6078.68</pre>"
      ],
      "text/plain": [
       "recommendations finished on 33000/43154 queries. users per second: 6078.68"
      ]
     },
     "metadata": {},
     "output_type": "display_data"
    },
    {
     "data": {
      "text/html": [
       "<pre>recommendations finished on 34000/43154 queries. users per second: 6087.94</pre>"
      ],
      "text/plain": [
       "recommendations finished on 34000/43154 queries. users per second: 6087.94"
      ]
     },
     "metadata": {},
     "output_type": "display_data"
    },
    {
     "data": {
      "text/html": [
       "<pre>recommendations finished on 35000/43154 queries. users per second: 6096.7</pre>"
      ],
      "text/plain": [
       "recommendations finished on 35000/43154 queries. users per second: 6096.7"
      ]
     },
     "metadata": {},
     "output_type": "display_data"
    },
    {
     "data": {
      "text/html": [
       "<pre>recommendations finished on 36000/43154 queries. users per second: 6104.99</pre>"
      ],
      "text/plain": [
       "recommendations finished on 36000/43154 queries. users per second: 6104.99"
      ]
     },
     "metadata": {},
     "output_type": "display_data"
    },
    {
     "data": {
      "text/html": [
       "<pre>recommendations finished on 37000/43154 queries. users per second: 6128.66</pre>"
      ],
      "text/plain": [
       "recommendations finished on 37000/43154 queries. users per second: 6128.66"
      ]
     },
     "metadata": {},
     "output_type": "display_data"
    },
    {
     "data": {
      "text/html": [
       "<pre>recommendations finished on 38000/43154 queries. users per second: 6151.25</pre>"
      ],
      "text/plain": [
       "recommendations finished on 38000/43154 queries. users per second: 6151.25"
      ]
     },
     "metadata": {},
     "output_type": "display_data"
    },
    {
     "data": {
      "text/html": [
       "<pre>recommendations finished on 39000/43154 queries. users per second: 6142.49</pre>"
      ],
      "text/plain": [
       "recommendations finished on 39000/43154 queries. users per second: 6142.49"
      ]
     },
     "metadata": {},
     "output_type": "display_data"
    },
    {
     "data": {
      "text/html": [
       "<pre>recommendations finished on 40000/43154 queries. users per second: 6076.06</pre>"
      ],
      "text/plain": [
       "recommendations finished on 40000/43154 queries. users per second: 6076.06"
      ]
     },
     "metadata": {},
     "output_type": "display_data"
    },
    {
     "data": {
      "text/html": [
       "<pre>recommendations finished on 41000/43154 queries. users per second: 5906.07</pre>"
      ],
      "text/plain": [
       "recommendations finished on 41000/43154 queries. users per second: 5906.07"
      ]
     },
     "metadata": {},
     "output_type": "display_data"
    },
    {
     "data": {
      "text/html": [
       "<pre>recommendations finished on 42000/43154 queries. users per second: 5752.78</pre>"
      ],
      "text/plain": [
       "recommendations finished on 42000/43154 queries. users per second: 5752.78"
      ]
     },
     "metadata": {},
     "output_type": "display_data"
    },
    {
     "data": {
      "text/html": [
       "<pre>recommendations finished on 43000/43154 queries. users per second: 5602.45</pre>"
      ],
      "text/plain": [
       "recommendations finished on 43000/43154 queries. users per second: 5602.45"
      ]
     },
     "metadata": {},
     "output_type": "display_data"
    },
    {
     "name": "stdout",
     "output_type": "stream",
     "text": [
      "\n",
      "Precision and recall summary statistics by cutoff\n",
      "+--------+-------------------+-------------------+\n",
      "| cutoff |   mean_precision  |    mean_recall    |\n",
      "+--------+-------------------+-------------------+\n",
      "|   1    | 0.000579320572832 | 0.000283969067859 |\n",
      "|   2    | 0.000718357510312 | 0.000526208190846 |\n",
      "|   3    | 0.000641114767268 | 0.000597499410119 |\n",
      "|   4    | 0.000631459424387 | 0.000704736363739 |\n",
      "|   5    | 0.000667377299903 | 0.000788203265847 |\n",
      "|   6    | 0.000668149727333 |  0.00091931006487 |\n",
      "|   7    | 0.000668701461212 |  0.00107001125458 |\n",
      "|   8    | 0.000657528850165 |  0.00120696931768 |\n",
      "|   9    | 0.000646264283471 |  0.00134253035631 |\n",
      "|   10   | 0.000660425453029 |  0.0014967894069  |\n",
      "+--------+-------------------+-------------------+\n",
      "[10 rows x 3 columns]\n",
      "\n",
      "PROGRESS: Evaluate model M3\n"
     ]
    },
    {
     "data": {
      "text/html": [
       "<pre>recommendations finished on 1000/43154 queries. users per second: 6410.26</pre>"
      ],
      "text/plain": [
       "recommendations finished on 1000/43154 queries. users per second: 6410.26"
      ]
     },
     "metadata": {},
     "output_type": "display_data"
    },
    {
     "data": {
      "text/html": [
       "<pre>recommendations finished on 2000/43154 queries. users per second: 6410.26</pre>"
      ],
      "text/plain": [
       "recommendations finished on 2000/43154 queries. users per second: 6410.26"
      ]
     },
     "metadata": {},
     "output_type": "display_data"
    },
    {
     "data": {
      "text/html": [
       "<pre>recommendations finished on 3000/43154 queries. users per second: 6631.3</pre>"
      ],
      "text/plain": [
       "recommendations finished on 3000/43154 queries. users per second: 6631.3"
      ]
     },
     "metadata": {},
     "output_type": "display_data"
    },
    {
     "data": {
      "text/html": [
       "<pre>recommendations finished on 4000/43154 queries. users per second: 6574.61</pre>"
      ],
      "text/plain": [
       "recommendations finished on 4000/43154 queries. users per second: 6574.61"
      ]
     },
     "metadata": {},
     "output_type": "display_data"
    },
    {
     "data": {
      "text/html": [
       "<pre>recommendations finished on 5000/43154 queries. users per second: 6541.07</pre>"
      ],
      "text/plain": [
       "recommendations finished on 5000/43154 queries. users per second: 6541.07"
      ]
     },
     "metadata": {},
     "output_type": "display_data"
    },
    {
     "data": {
      "text/html": [
       "<pre>recommendations finished on 6000/43154 queries. users per second: 6631.29</pre>"
      ],
      "text/plain": [
       "recommendations finished on 6000/43154 queries. users per second: 6631.29"
      ]
     },
     "metadata": {},
     "output_type": "display_data"
    },
    {
     "data": {
      "text/html": [
       "<pre>recommendations finished on 7000/43154 queries. users per second: 6697.28</pre>"
      ],
      "text/plain": [
       "recommendations finished on 7000/43154 queries. users per second: 6697.28"
      ]
     },
     "metadata": {},
     "output_type": "display_data"
    },
    {
     "data": {
      "text/html": [
       "<pre>recommendations finished on 8000/43154 queries. users per second: 6747.63</pre>"
      ],
      "text/plain": [
       "recommendations finished on 8000/43154 queries. users per second: 6747.63"
      ]
     },
     "metadata": {},
     "output_type": "display_data"
    },
    {
     "data": {
      "text/html": [
       "<pre>recommendations finished on 9000/43154 queries. users per second: 6787.32</pre>"
      ],
      "text/plain": [
       "recommendations finished on 9000/43154 queries. users per second: 6787.32"
      ]
     },
     "metadata": {},
     "output_type": "display_data"
    },
    {
     "data": {
      "text/html": [
       "<pre>recommendations finished on 10000/43154 queries. users per second: 6677.34</pre>"
      ],
      "text/plain": [
       "recommendations finished on 10000/43154 queries. users per second: 6677.34"
      ]
     },
     "metadata": {},
     "output_type": "display_data"
    },
    {
     "data": {
      "text/html": [
       "<pre>recommendations finished on 11000/43154 queries. users per second: 6652.14</pre>"
      ],
      "text/plain": [
       "recommendations finished on 11000/43154 queries. users per second: 6652.14"
      ]
     },
     "metadata": {},
     "output_type": "display_data"
    },
    {
     "data": {
      "text/html": [
       "<pre>recommendations finished on 12000/43154 queries. users per second: 6747.63</pre>"
      ],
      "text/plain": [
       "recommendations finished on 12000/43154 queries. users per second: 6747.63"
      ]
     },
     "metadata": {},
     "output_type": "display_data"
    },
    {
     "data": {
      "text/html": [
       "<pre>recommendations finished on 13000/43154 queries. users per second: 6613.75</pre>"
      ],
      "text/plain": [
       "recommendations finished on 13000/43154 queries. users per second: 6613.75"
      ]
     },
     "metadata": {},
     "output_type": "display_data"
    },
    {
     "data": {
      "text/html": [
       "<pre>recommendations finished on 14000/43154 queries. users per second: 6598.78</pre>"
      ],
      "text/plain": [
       "recommendations finished on 14000/43154 queries. users per second: 6598.78"
      ]
     },
     "metadata": {},
     "output_type": "display_data"
    },
    {
     "data": {
      "text/html": [
       "<pre>recommendations finished on 15000/43154 queries. users per second: 6585.87</pre>"
      ],
      "text/plain": [
       "recommendations finished on 15000/43154 queries. users per second: 6585.87"
      ]
     },
     "metadata": {},
     "output_type": "display_data"
    },
    {
     "data": {
      "text/html": [
       "<pre>recommendations finished on 16000/43154 queries. users per second: 6574.61</pre>"
      ],
      "text/plain": [
       "recommendations finished on 16000/43154 queries. users per second: 6574.61"
      ]
     },
     "metadata": {},
     "output_type": "display_data"
    },
    {
     "data": {
      "text/html": [
       "<pre>recommendations finished on 17000/43154 queries. users per second: 6644.77</pre>"
      ],
      "text/plain": [
       "recommendations finished on 17000/43154 queries. users per second: 6644.77"
      ]
     },
     "metadata": {},
     "output_type": "display_data"
    },
    {
     "data": {
      "text/html": [
       "<pre>recommendations finished on 18000/43154 queries. users per second: 6555.93</pre>"
      ],
      "text/plain": [
       "recommendations finished on 18000/43154 queries. users per second: 6555.93"
      ]
     },
     "metadata": {},
     "output_type": "display_data"
    },
    {
     "data": {
      "text/html": [
       "<pre>recommendations finished on 19000/43154 queries. users per second: 6548.1</pre>"
      ],
      "text/plain": [
       "recommendations finished on 19000/43154 queries. users per second: 6548.1"
      ]
     },
     "metadata": {},
     "output_type": "display_data"
    },
    {
     "data": {
      "text/html": [
       "<pre>recommendations finished on 20000/43154 queries. users per second: 6541.07</pre>"
      ],
      "text/plain": [
       "recommendations finished on 20000/43154 queries. users per second: 6541.07"
      ]
     },
     "metadata": {},
     "output_type": "display_data"
    },
    {
     "data": {
      "text/html": [
       "<pre>recommendations finished on 21000/43154 queries. users per second: 6503.15</pre>"
      ],
      "text/plain": [
       "recommendations finished on 21000/43154 queries. users per second: 6503.15"
      ]
     },
     "metadata": {},
     "output_type": "display_data"
    },
    {
     "data": {
      "text/html": [
       "<pre>recommendations finished on 22000/43154 queries. users per second: 6498.87</pre>"
      ],
      "text/plain": [
       "recommendations finished on 22000/43154 queries. users per second: 6498.87"
      ]
     },
     "metadata": {},
     "output_type": "display_data"
    },
    {
     "data": {
      "text/html": [
       "<pre>recommendations finished on 23000/43154 queries. users per second: 6466.48</pre>"
      ],
      "text/plain": [
       "recommendations finished on 23000/43154 queries. users per second: 6466.48"
      ]
     },
     "metadata": {},
     "output_type": "display_data"
    },
    {
     "data": {
      "text/html": [
       "<pre>recommendations finished on 24000/43154 queries. users per second: 6464.11</pre>"
      ],
      "text/plain": [
       "recommendations finished on 24000/43154 queries. users per second: 6464.11"
      ]
     },
     "metadata": {},
     "output_type": "display_data"
    },
    {
     "data": {
      "text/html": [
       "<pre>recommendations finished on 25000/43154 queries. users per second: 6461.94</pre>"
      ],
      "text/plain": [
       "recommendations finished on 25000/43154 queries. users per second: 6461.94"
      ]
     },
     "metadata": {},
     "output_type": "display_data"
    },
    {
     "data": {
      "text/html": [
       "<pre>recommendations finished on 26000/43154 queries. users per second: 6459.94</pre>"
      ],
      "text/plain": [
       "recommendations finished on 26000/43154 queries. users per second: 6459.94"
      ]
     },
     "metadata": {},
     "output_type": "display_data"
    },
    {
     "data": {
      "text/html": [
       "<pre>recommendations finished on 27000/43154 queries. users per second: 6482.27</pre>"
      ],
      "text/plain": [
       "recommendations finished on 27000/43154 queries. users per second: 6482.27"
      ]
     },
     "metadata": {},
     "output_type": "display_data"
    },
    {
     "data": {
      "text/html": [
       "<pre>recommendations finished on 28000/43154 queries. users per second: 6456.36</pre>"
      ],
      "text/plain": [
       "recommendations finished on 28000/43154 queries. users per second: 6456.36"
      ]
     },
     "metadata": {},
     "output_type": "display_data"
    },
    {
     "data": {
      "text/html": [
       "<pre>recommendations finished on 29000/43154 queries. users per second: 6454.76</pre>"
      ],
      "text/plain": [
       "recommendations finished on 29000/43154 queries. users per second: 6454.76"
      ]
     },
     "metadata": {},
     "output_type": "display_data"
    },
    {
     "data": {
      "text/html": [
       "<pre>recommendations finished on 30000/43154 queries. users per second: 6475</pre>"
      ],
      "text/plain": [
       "recommendations finished on 30000/43154 queries. users per second: 6475"
      ]
     },
     "metadata": {},
     "output_type": "display_data"
    },
    {
     "data": {
      "text/html": [
       "<pre>recommendations finished on 31000/43154 queries. users per second: 6430.99</pre>"
      ],
      "text/plain": [
       "recommendations finished on 31000/43154 queries. users per second: 6430.99"
      ]
     },
     "metadata": {},
     "output_type": "display_data"
    },
    {
     "data": {
      "text/html": [
       "<pre>recommendations finished on 32000/43154 queries. users per second: 6430.34</pre>"
      ],
      "text/plain": [
       "recommendations finished on 32000/43154 queries. users per second: 6430.34"
      ]
     },
     "metadata": {},
     "output_type": "display_data"
    },
    {
     "data": {
      "text/html": [
       "<pre>recommendations finished on 33000/43154 queries. users per second: 6410.25</pre>"
      ],
      "text/plain": [
       "recommendations finished on 33000/43154 queries. users per second: 6410.25"
      ]
     },
     "metadata": {},
     "output_type": "display_data"
    },
    {
     "data": {
      "text/html": [
       "<pre>recommendations finished on 34000/43154 queries. users per second: 6410.25</pre>"
      ],
      "text/plain": [
       "recommendations finished on 34000/43154 queries. users per second: 6410.25"
      ]
     },
     "metadata": {},
     "output_type": "display_data"
    },
    {
     "data": {
      "text/html": [
       "<pre>recommendations finished on 35000/43154 queries. users per second: 6428.61</pre>"
      ],
      "text/plain": [
       "recommendations finished on 35000/43154 queries. users per second: 6428.61"
      ]
     },
     "metadata": {},
     "output_type": "display_data"
    },
    {
     "data": {
      "text/html": [
       "<pre>recommendations finished on 36000/43154 queries. users per second: 6428.1</pre>"
      ],
      "text/plain": [
       "recommendations finished on 36000/43154 queries. users per second: 6428.1"
      ]
     },
     "metadata": {},
     "output_type": "display_data"
    },
    {
     "data": {
      "text/html": [
       "<pre>recommendations finished on 37000/43154 queries. users per second: 6392.97</pre>"
      ],
      "text/plain": [
       "recommendations finished on 37000/43154 queries. users per second: 6392.97"
      ]
     },
     "metadata": {},
     "output_type": "display_data"
    },
    {
     "data": {
      "text/html": [
       "<pre>recommendations finished on 38000/43154 queries. users per second: 6327</pre>"
      ],
      "text/plain": [
       "recommendations finished on 38000/43154 queries. users per second: 6327"
      ]
     },
     "metadata": {},
     "output_type": "display_data"
    },
    {
     "data": {
      "text/html": [
       "<pre>recommendations finished on 39000/43154 queries. users per second: 6249.99</pre>"
      ],
      "text/plain": [
       "recommendations finished on 39000/43154 queries. users per second: 6249.99"
      ]
     },
     "metadata": {},
     "output_type": "display_data"
    },
    {
     "data": {
      "text/html": [
       "<pre>recommendations finished on 40000/43154 queries. users per second: 6193.47</pre>"
      ],
      "text/plain": [
       "recommendations finished on 40000/43154 queries. users per second: 6193.47"
      ]
     },
     "metadata": {},
     "output_type": "display_data"
    },
    {
     "data": {
      "text/html": [
       "<pre>recommendations finished on 41000/43154 queries. users per second: 6126.34</pre>"
      ],
      "text/plain": [
       "recommendations finished on 41000/43154 queries. users per second: 6126.34"
      ]
     },
     "metadata": {},
     "output_type": "display_data"
    },
    {
     "data": {
      "text/html": [
       "<pre>recommendations finished on 42000/43154 queries. users per second: 6050.12</pre>"
      ],
      "text/plain": [
       "recommendations finished on 42000/43154 queries. users per second: 6050.12"
      ]
     },
     "metadata": {},
     "output_type": "display_data"
    },
    {
     "data": {
      "text/html": [
       "<pre>recommendations finished on 43000/43154 queries. users per second: 5877.2</pre>"
      ],
      "text/plain": [
       "recommendations finished on 43000/43154 queries. users per second: 5877.2"
      ]
     },
     "metadata": {},
     "output_type": "display_data"
    },
    {
     "name": "stdout",
     "output_type": "stream",
     "text": [
      "\n",
      "Precision and recall summary statistics by cutoff\n",
      "+--------+-------------------+-------------------+\n",
      "| cutoff |   mean_precision  |    mean_recall    |\n",
      "+--------+-------------------+-------------------+\n",
      "|   1    | 0.000579320572832 | 0.000283969067859 |\n",
      "|   2    | 0.000718357510312 | 0.000526208190846 |\n",
      "|   3    | 0.000641114767268 | 0.000597499410119 |\n",
      "|   4    | 0.000631459424387 | 0.000704736363739 |\n",
      "|   5    | 0.000667377299903 | 0.000788203265847 |\n",
      "|   6    | 0.000668149727333 |  0.00091931006487 |\n",
      "|   7    | 0.000668701461212 |  0.00107001125458 |\n",
      "|   8    | 0.000657528850165 |  0.00120696931768 |\n",
      "|   9    | 0.000646264283471 |  0.00134253035631 |\n",
      "|   10   | 0.000660425453029 |  0.0014967894069  |\n",
      "+--------+-------------------+-------------------+\n",
      "[10 rows x 3 columns]\n",
      "\n",
      "PROGRESS: Evaluate model M4\n"
     ]
    },
    {
     "data": {
      "text/html": [
       "<pre>recommendations finished on 1000/43154 queries. users per second: 5827.51</pre>"
      ],
      "text/plain": [
       "recommendations finished on 1000/43154 queries. users per second: 5827.51"
      ]
     },
     "metadata": {},
     "output_type": "display_data"
    },
    {
     "data": {
      "text/html": [
       "<pre>recommendations finished on 2000/43154 queries. users per second: 5827.49</pre>"
      ],
      "text/plain": [
       "recommendations finished on 2000/43154 queries. users per second: 5827.49"
      ]
     },
     "metadata": {},
     "output_type": "display_data"
    },
    {
     "data": {
      "text/html": [
       "<pre>recommendations finished on 3000/43154 queries. users per second: 6410.24</pre>"
      ],
      "text/plain": [
       "recommendations finished on 3000/43154 queries. users per second: 6410.24"
      ]
     },
     "metadata": {},
     "output_type": "display_data"
    },
    {
     "data": {
      "text/html": [
       "<pre>recommendations finished on 4000/43154 queries. users per second: 6105</pre>"
      ],
      "text/plain": [
       "recommendations finished on 4000/43154 queries. users per second: 6105"
      ]
     },
     "metadata": {},
     "output_type": "display_data"
    },
    {
     "data": {
      "text/html": [
       "<pre>recommendations finished on 5000/43154 queries. users per second: 6284.56</pre>"
      ],
      "text/plain": [
       "recommendations finished on 5000/43154 queries. users per second: 6284.56"
      ]
     },
     "metadata": {},
     "output_type": "display_data"
    },
    {
     "data": {
      "text/html": [
       "<pre>recommendations finished on 6000/43154 queries. users per second: 6104.99</pre>"
      ],
      "text/plain": [
       "recommendations finished on 6000/43154 queries. users per second: 6104.99"
      ]
     },
     "metadata": {},
     "output_type": "display_data"
    },
    {
     "data": {
      "text/html": [
       "<pre>recommendations finished on 7000/43154 queries. users per second: 6063.75</pre>"
      ],
      "text/plain": [
       "recommendations finished on 7000/43154 queries. users per second: 6063.75"
      ]
     },
     "metadata": {},
     "output_type": "display_data"
    },
    {
     "data": {
      "text/html": [
       "<pre>recommendations finished on 8000/43154 queries. users per second: 6105</pre>"
      ],
      "text/plain": [
       "recommendations finished on 8000/43154 queries. users per second: 6105"
      ]
     },
     "metadata": {},
     "output_type": "display_data"
    },
    {
     "data": {
      "text/html": [
       "<pre>recommendations finished on 9000/43154 queries. users per second: 6137.47</pre>"
      ],
      "text/plain": [
       "recommendations finished on 9000/43154 queries. users per second: 6137.47"
      ]
     },
     "metadata": {},
     "output_type": "display_data"
    },
    {
     "data": {
      "text/html": [
       "<pre>recommendations finished on 10000/43154 queries. users per second: 6047.4</pre>"
      ],
      "text/plain": [
       "recommendations finished on 10000/43154 queries. users per second: 6047.4"
      ]
     },
     "metadata": {},
     "output_type": "display_data"
    },
    {
     "data": {
      "text/html": [
       "<pre>recommendations finished on 11000/43154 queries. users per second: 6078.68</pre>"
      ],
      "text/plain": [
       "recommendations finished on 11000/43154 queries. users per second: 6078.68"
      ]
     },
     "metadata": {},
     "output_type": "display_data"
    },
    {
     "data": {
      "text/html": [
       "<pre>recommendations finished on 12000/43154 queries. users per second: 6105</pre>"
      ],
      "text/plain": [
       "recommendations finished on 12000/43154 queries. users per second: 6105"
      ]
     },
     "metadata": {},
     "output_type": "display_data"
    },
    {
     "data": {
      "text/html": [
       "<pre>recommendations finished on 13000/43154 queries. users per second: 6127.44</pre>"
      ],
      "text/plain": [
       "recommendations finished on 13000/43154 queries. users per second: 6127.44"
      ]
     },
     "metadata": {},
     "output_type": "display_data"
    },
    {
     "data": {
      "text/html": [
       "<pre>recommendations finished on 14000/43154 queries. users per second: 6146.81</pre>"
      ],
      "text/plain": [
       "recommendations finished on 14000/43154 queries. users per second: 6146.81"
      ]
     },
     "metadata": {},
     "output_type": "display_data"
    },
    {
     "data": {
      "text/html": [
       "<pre>recommendations finished on 15000/43154 queries. users per second: 6163.7</pre>"
      ],
      "text/plain": [
       "recommendations finished on 15000/43154 queries. users per second: 6163.7"
      ]
     },
     "metadata": {},
     "output_type": "display_data"
    },
    {
     "data": {
      "text/html": [
       "<pre>recommendations finished on 16000/43154 queries. users per second: 6178.55</pre>"
      ],
      "text/plain": [
       "recommendations finished on 16000/43154 queries. users per second: 6178.55"
      ]
     },
     "metadata": {},
     "output_type": "display_data"
    },
    {
     "data": {
      "text/html": [
       "<pre>recommendations finished on 17000/43154 queries. users per second: 6191.71</pre>"
      ],
      "text/plain": [
       "recommendations finished on 17000/43154 queries. users per second: 6191.71"
      ]
     },
     "metadata": {},
     "output_type": "display_data"
    },
    {
     "data": {
      "text/html": [
       "<pre>recommendations finished on 18000/43154 queries. users per second: 6203.46</pre>"
      ],
      "text/plain": [
       "recommendations finished on 18000/43154 queries. users per second: 6203.46"
      ]
     },
     "metadata": {},
     "output_type": "display_data"
    },
    {
     "data": {
      "text/html": [
       "<pre>recommendations finished on 19000/43154 queries. users per second: 6245.88</pre>"
      ],
      "text/plain": [
       "recommendations finished on 19000/43154 queries. users per second: 6245.88"
      ]
     },
     "metadata": {},
     "output_type": "display_data"
    },
    {
     "data": {
      "text/html": [
       "<pre>recommendations finished on 20000/43154 queries. users per second: 6284.55</pre>"
      ],
      "text/plain": [
       "recommendations finished on 20000/43154 queries. users per second: 6284.55"
      ]
     },
     "metadata": {},
     "output_type": "display_data"
    },
    {
     "data": {
      "text/html": [
       "<pre>recommendations finished on 21000/43154 queries. users per second: 6232.18</pre>"
      ],
      "text/plain": [
       "recommendations finished on 21000/43154 queries. users per second: 6232.18"
      ]
     },
     "metadata": {},
     "output_type": "display_data"
    },
    {
     "data": {
      "text/html": [
       "<pre>recommendations finished on 22000/43154 queries. users per second: 6240.06</pre>"
      ],
      "text/plain": [
       "recommendations finished on 22000/43154 queries. users per second: 6240.06"
      ]
     },
     "metadata": {},
     "output_type": "display_data"
    },
    {
     "data": {
      "text/html": [
       "<pre>recommendations finished on 23000/43154 queries. users per second: 6247.27</pre>"
      ],
      "text/plain": [
       "recommendations finished on 23000/43154 queries. users per second: 6247.27"
      ]
     },
     "metadata": {},
     "output_type": "display_data"
    },
    {
     "data": {
      "text/html": [
       "<pre>recommendations finished on 24000/43154 queries. users per second: 6228.58</pre>"
      ],
      "text/plain": [
       "recommendations finished on 24000/43154 queries. users per second: 6228.58"
      ]
     },
     "metadata": {},
     "output_type": "display_data"
    },
    {
     "data": {
      "text/html": [
       "<pre>recommendations finished on 25000/43154 queries. users per second: 6235.65</pre>"
      ],
      "text/plain": [
       "recommendations finished on 25000/43154 queries. users per second: 6235.65"
      ]
     },
     "metadata": {},
     "output_type": "display_data"
    },
    {
     "data": {
      "text/html": [
       "<pre>recommendations finished on 26000/43154 queries. users per second: 6242.19</pre>"
      ],
      "text/plain": [
       "recommendations finished on 26000/43154 queries. users per second: 6242.19"
      ]
     },
     "metadata": {},
     "output_type": "display_data"
    },
    {
     "data": {
      "text/html": [
       "<pre>recommendations finished on 27000/43154 queries. users per second: 6248.25</pre>"
      ],
      "text/plain": [
       "recommendations finished on 27000/43154 queries. users per second: 6248.25"
      ]
     },
     "metadata": {},
     "output_type": "display_data"
    },
    {
     "data": {
      "text/html": [
       "<pre>recommendations finished on 28000/43154 queries. users per second: 6253.9</pre>"
      ],
      "text/plain": [
       "recommendations finished on 28000/43154 queries. users per second: 6253.9"
      ]
     },
     "metadata": {},
     "output_type": "display_data"
    },
    {
     "data": {
      "text/html": [
       "<pre>recommendations finished on 29000/43154 queries. users per second: 6259.16</pre>"
      ],
      "text/plain": [
       "recommendations finished on 29000/43154 queries. users per second: 6259.16"
      ]
     },
     "metadata": {},
     "output_type": "display_data"
    },
    {
     "data": {
      "text/html": [
       "<pre>recommendations finished on 30000/43154 queries. users per second: 6264.08</pre>"
      ],
      "text/plain": [
       "recommendations finished on 30000/43154 queries. users per second: 6264.08"
      ]
     },
     "metadata": {},
     "output_type": "display_data"
    },
    {
     "data": {
      "text/html": [
       "<pre>recommendations finished on 31000/43154 queries. users per second: 6288.53</pre>"
      ],
      "text/plain": [
       "recommendations finished on 31000/43154 queries. users per second: 6288.53"
      ]
     },
     "metadata": {},
     "output_type": "display_data"
    },
    {
     "data": {
      "text/html": [
       "<pre>recommendations finished on 32000/43154 queries. users per second: 6311.63</pre>"
      ],
      "text/plain": [
       "recommendations finished on 32000/43154 queries. users per second: 6311.63"
      ]
     },
     "metadata": {},
     "output_type": "display_data"
    },
    {
     "data": {
      "text/html": [
       "<pre>recommendations finished on 33000/43154 queries. users per second: 6295.78</pre>"
      ],
      "text/plain": [
       "recommendations finished on 33000/43154 queries. users per second: 6295.78"
      ]
     },
     "metadata": {},
     "output_type": "display_data"
    },
    {
     "data": {
      "text/html": [
       "<pre>recommendations finished on 34000/43154 queries. users per second: 6299.09</pre>"
      ],
      "text/plain": [
       "recommendations finished on 34000/43154 queries. users per second: 6299.09"
      ]
     },
     "metadata": {},
     "output_type": "display_data"
    },
    {
     "data": {
      "text/html": [
       "<pre>recommendations finished on 35000/43154 queries. users per second: 6302.21</pre>"
      ],
      "text/plain": [
       "recommendations finished on 35000/43154 queries. users per second: 6302.21"
      ]
     },
     "metadata": {},
     "output_type": "display_data"
    },
    {
     "data": {
      "text/html": [
       "<pre>recommendations finished on 36000/43154 queries. users per second: 6305.16</pre>"
      ],
      "text/plain": [
       "recommendations finished on 36000/43154 queries. users per second: 6305.16"
      ]
     },
     "metadata": {},
     "output_type": "display_data"
    },
    {
     "data": {
      "text/html": [
       "<pre>recommendations finished on 37000/43154 queries. users per second: 6324.78</pre>"
      ],
      "text/plain": [
       "recommendations finished on 37000/43154 queries. users per second: 6324.78"
      ]
     },
     "metadata": {},
     "output_type": "display_data"
    },
    {
     "data": {
      "text/html": [
       "<pre>recommendations finished on 38000/43154 queries. users per second: 6310.6</pre>"
      ],
      "text/plain": [
       "recommendations finished on 38000/43154 queries. users per second: 6310.6"
      ]
     },
     "metadata": {},
     "output_type": "display_data"
    },
    {
     "data": {
      "text/html": [
       "<pre>recommendations finished on 39000/43154 queries. users per second: 6297.22</pre>"
      ],
      "text/plain": [
       "recommendations finished on 39000/43154 queries. users per second: 6297.22"
      ]
     },
     "metadata": {},
     "output_type": "display_data"
    },
    {
     "data": {
      "text/html": [
       "<pre>recommendations finished on 40000/43154 queries. users per second: 6253.9</pre>"
      ],
      "text/plain": [
       "recommendations finished on 40000/43154 queries. users per second: 6253.9"
      ]
     },
     "metadata": {},
     "output_type": "display_data"
    },
    {
     "data": {
      "text/html": [
       "<pre>recommendations finished on 41000/43154 queries. users per second: 6169.48</pre>"
      ],
      "text/plain": [
       "recommendations finished on 41000/43154 queries. users per second: 6169.48"
      ]
     },
     "metadata": {},
     "output_type": "display_data"
    },
    {
     "data": {
      "text/html": [
       "<pre>recommendations finished on 42000/43154 queries. users per second: 5982.9</pre>"
      ],
      "text/plain": [
       "recommendations finished on 42000/43154 queries. users per second: 5982.9"
      ]
     },
     "metadata": {},
     "output_type": "display_data"
    },
    {
     "data": {
      "text/html": [
       "<pre>recommendations finished on 43000/43154 queries. users per second: 5802.96</pre>"
      ],
      "text/plain": [
       "recommendations finished on 43000/43154 queries. users per second: 5802.96"
      ]
     },
     "metadata": {},
     "output_type": "display_data"
    },
    {
     "name": "stdout",
     "output_type": "stream",
     "text": [
      "\n",
      "Precision and recall summary statistics by cutoff\n",
      "+--------+-------------------+-------------------+\n",
      "| cutoff |   mean_precision  |    mean_recall    |\n",
      "+--------+-------------------+-------------------+\n",
      "|   1    | 0.000579320572832 | 0.000283969067859 |\n",
      "|   2    | 0.000718357510312 | 0.000526208190846 |\n",
      "|   3    | 0.000641114767268 | 0.000597499410119 |\n",
      "|   4    | 0.000625666218659 | 0.000703191508878 |\n",
      "|   5    | 0.000667377299903 | 0.000788203265847 |\n",
      "|   6    | 0.000668149727333 |  0.00091931006487 |\n",
      "|   7    | 0.000668701461212 |  0.00107001125458 |\n",
      "|   8    | 0.000657528850165 |  0.00120696931768 |\n",
      "|   9    | 0.000646264283471 |  0.00134253035631 |\n",
      "|   10   | 0.000660425453029 |  0.0014967894069  |\n",
      "+--------+-------------------+-------------------+\n",
      "[10 rows x 3 columns]\n",
      "\n",
      "Model compare metric: precision_recall\n"
     ]
    }
   ],
   "source": [
    "model_performance = graphlab.compare(test_data, [item_sim_model_auto,item_sim_model_dense,item_sim_model_sparse,item_sim_model_nndense,item_sim_model_nnsparse])"
   ]
  },
  {
   "cell_type": "code",
   "execution_count": 16,
   "metadata": {
    "collapsed": false
   },
   "outputs": [
    {
     "name": "stdout",
     "output_type": "stream",
     "text": [
      "Canvas is accessible via web browser at the URL: http://localhost:52579/index.html\n",
      "Opening Canvas in default web browser.\n"
     ]
    }
   ],
   "source": [
    "graphlab.show_comparison(model_performance,[item_sim_model_auto,item_sim_model_dense,item_sim_model_sparse,item_sim_model_nndense,item_sim_model_nnsparse])"
   ]
  },
  {
   "cell_type": "code",
   "execution_count": 17,
   "metadata": {
    "collapsed": false
   },
   "outputs": [
    {
     "ename": "AttributeError",
     "evalue": "'module' object has no attribute 'evalu'",
     "output_type": "error",
     "traceback": [
      "\u001b[1;31m---------------------------------------------------------------------------\u001b[0m",
      "\u001b[1;31mAttributeError\u001b[0m                            Traceback (most recent call last)",
      "\u001b[1;32m<ipython-input-17-99d4144cd319>\u001b[0m in \u001b[0;36m<module>\u001b[1;34m()\u001b[0m\n\u001b[1;32m----> 1\u001b[1;33m \u001b[0mgraphlab\u001b[0m\u001b[1;33m.\u001b[0m\u001b[0mitem_similarity_recommender\u001b[0m\u001b[1;33m.\u001b[0m\u001b[0mevalu\u001b[0m\u001b[1;33m(\u001b[0m\u001b[0mitem_sim_model\u001b[0m\u001b[1;33m)\u001b[0m\u001b[1;33m\u001b[0m\u001b[0m\n\u001b[0m",
      "\u001b[1;31mAttributeError\u001b[0m: 'module' object has no attribute 'evalu'"
     ]
    }
   ],
   "source": [
    "graphlab.item_similarity_recommender.evalu(item_sim_model)"
   ]
  },
  {
   "cell_type": "code",
   "execution_count": null,
   "metadata": {
    "collapsed": false
   },
   "outputs": [],
   "source": [
    "ism=graphlab.item_similarity_recommender.ItemSimilarityRecommender(item_sim_model)\n"
   ]
  },
  {
   "cell_type": "code",
   "execution_count": null,
   "metadata": {
    "collapsed": false
   },
   "outputs": [],
   "source": [
    "item_sim_model.evaluate_rmse(test_data)"
   ]
  },
  {
   "cell_type": "code",
   "execution_count": 19,
   "metadata": {
    "collapsed": false
   },
   "outputs": [],
   "source": [
    "item_sim_model_auto.save('C:/Users/SONY/Desktop/3rdsem/Machine Learning/project/Model/Collaborative')"
   ]
  },
  {
   "cell_type": "code",
   "execution_count": null,
   "metadata": {
    "collapsed": true
   },
   "outputs": [],
   "source": []
  },
  {
   "cell_type": "code",
   "execution_count": null,
   "metadata": {
    "collapsed": true
   },
   "outputs": [],
   "source": []
  },
  {
   "cell_type": "code",
   "execution_count": null,
   "metadata": {
    "collapsed": true
   },
   "outputs": [],
   "source": []
  }
 ],
 "metadata": {
  "kernelspec": {
   "display_name": "Python 2",
   "language": "python",
   "name": "python2"
  },
  "language_info": {
   "codemirror_mode": {
    "name": "ipython",
    "version": 2
   },
   "file_extension": ".py",
   "mimetype": "text/x-python",
   "name": "python",
   "nbconvert_exporter": "python",
   "pygments_lexer": "ipython2",
   "version": "2.7.13"
  }
 },
 "nbformat": 4,
 "nbformat_minor": 0
}
