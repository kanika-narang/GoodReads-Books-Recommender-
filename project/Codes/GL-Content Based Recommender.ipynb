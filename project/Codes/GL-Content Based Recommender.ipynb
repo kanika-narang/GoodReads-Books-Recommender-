{
 "cells": [
  {
   "cell_type": "code",
   "execution_count": 1,
   "metadata": {
    "collapsed": false
   },
   "outputs": [
    {
     "name": "stdout",
     "output_type": "stream",
     "text": [
      "This non-commercial license of GraphLab Create for academic use is assigned to kanika.narang@iiitb.org and will expire on October 13, 2018.\n"
     ]
    },
    {
     "name": "stderr",
     "output_type": "stream",
     "text": [
      "[INFO] graphlab.cython.cy_server: GraphLab Create v2.1 started. Logging: C:\\Users\\SONY\\AppData\\Local\\Temp\\graphlab_server_1508654068.log.0\n"
     ]
    }
   ],
   "source": [
    "import graphlab\n",
    "import csv\n",
    "import pandas as pd\n",
    "train_csv_data= pd.read_csv('C:/Users/SONY/Desktop/3rdsem/Machine Learning/project/DATA/training_data.csv', sep=',')\n",
    "test_csv_data=pd.read_csv('C:/Users/SONY/Desktop/3rdsem/Machine Learning/project/DATA/test_data.csv', sep=',')\n",
    "train_data = graphlab.SFrame(train_csv_data)\n",
    "test_data= graphlab.SFrame(test_csv_data)"
   ]
  },
  {
   "cell_type": "code",
   "execution_count": 2,
   "metadata": {
    "collapsed": false
   },
   "outputs": [],
   "source": [
    "Bookdata_csv = pd.read_csv('C:/Users/SONY/Desktop/3rdsem/Machine Learning/project/DATA/mergefullnewdata.csv', sep=',')"
   ]
  },
  {
   "cell_type": "code",
   "execution_count": 3,
   "metadata": {
    "collapsed": false
   },
   "outputs": [
    {
     "data": {
      "text/html": [
       "<div>\n",
       "<table border=\"1\" class=\"dataframe\">\n",
       "  <thead>\n",
       "    <tr style=\"text-align: right;\">\n",
       "      <th></th>\n",
       "      <th>Unnamed: 0</th>\n",
       "      <th>author</th>\n",
       "      <th>description0</th>\n",
       "      <th>Language</th>\n",
       "      <th>NumberofRatings</th>\n",
       "      <th>GoodReadAverageRating</th>\n",
       "      <th>book_id</th>\n",
       "      <th>description1</th>\n",
       "      <th>title</th>\n",
       "      <th>book_id.1</th>\n",
       "      <th>goodreads_title</th>\n",
       "      <th>goodreads_book_id</th>\n",
       "      <th>goodreads_work_id</th>\n",
       "    </tr>\n",
       "  </thead>\n",
       "  <tbody>\n",
       "    <tr>\n",
       "      <th>0</th>\n",
       "      <td>0</td>\n",
       "      <td>J.K. Rowling</td>\n",
       "      <td>Harry Potter's life is miserable. His parents ...</td>\n",
       "      <td>English</td>\n",
       "      <td>4879247</td>\n",
       "      <td>4.44</td>\n",
       "      <td>3</td>\n",
       "      <td>Harry Potter's life is miserable. His parents ...</td>\n",
       "      <td>Harry Potter and the Philosopher's Stone</td>\n",
       "      <td>2</td>\n",
       "      <td>Harry Potter and the Sorcerer's Stone (Harry P...</td>\n",
       "      <td>3</td>\n",
       "      <td>4640799</td>\n",
       "    </tr>\n",
       "    <tr>\n",
       "      <th>1</th>\n",
       "      <td>1</td>\n",
       "      <td>Harper Lee</td>\n",
       "      <td>The unforgettable novel of a childhood in a sl...</td>\n",
       "      <td>English</td>\n",
       "      <td>3368077</td>\n",
       "      <td>4.26</td>\n",
       "      <td>2657</td>\n",
       "      <td>Compassionate, dramatic, and deepl</td>\n",
       "      <td>To Kill a Mockingbird</td>\n",
       "      <td>4</td>\n",
       "      <td>To Kill a Mockingbird (To Kill a Mockingbird #1)</td>\n",
       "      <td>2657</td>\n",
       "      <td>3275794</td>\n",
       "    </tr>\n",
       "    <tr>\n",
       "      <th>2</th>\n",
       "      <td>2</td>\n",
       "      <td>F. Scott Fitzgerald</td>\n",
       "      <td>, F. Scott Fitzgerald’s third book, stands as ...</td>\n",
       "      <td>English</td>\n",
       "      <td>2807803</td>\n",
       "      <td>3.89</td>\n",
       "      <td>4671</td>\n",
       "      <td>, F. Scott Fitzgerald’s third book, stands as ...</td>\n",
       "      <td>The Great Gatsby</td>\n",
       "      <td>5</td>\n",
       "      <td>The Great Gatsby</td>\n",
       "      <td>4671</td>\n",
       "      <td>245494</td>\n",
       "    </tr>\n",
       "    <tr>\n",
       "      <th>3</th>\n",
       "      <td>3</td>\n",
       "      <td>Stephenie Meyer</td>\n",
       "      <td>In the first book of the Twilight Saga, intern...</td>\n",
       "      <td>English</td>\n",
       "      <td>3951638</td>\n",
       "      <td>3.57</td>\n",
       "      <td>41865</td>\n",
       "      <td>In the first book of the Twilight Saga, intern...</td>\n",
       "      <td>Twilight</td>\n",
       "      <td>3</td>\n",
       "      <td>Twilight (Twilight, #1)</td>\n",
       "      <td>41865</td>\n",
       "      <td>3212258</td>\n",
       "    </tr>\n",
       "    <tr>\n",
       "      <th>4</th>\n",
       "      <td>4</td>\n",
       "      <td>John Green</td>\n",
       "      <td>\"I fell in love the way you fall asleep: slowl...</td>\n",
       "      <td>English</td>\n",
       "      <td>2518520</td>\n",
       "      <td>4.26</td>\n",
       "      <td>11870085</td>\n",
       "      <td>Despite the tumor-shrinking medical miracle th...</td>\n",
       "      <td>The Fault in Our Stars</td>\n",
       "      <td>6</td>\n",
       "      <td>The Fault in Our Stars</td>\n",
       "      <td>11870085</td>\n",
       "      <td>16827462</td>\n",
       "    </tr>\n",
       "  </tbody>\n",
       "</table>\n",
       "</div>"
      ],
      "text/plain": [
       "   Unnamed: 0               author  \\\n",
       "0           0         J.K. Rowling   \n",
       "1           1           Harper Lee   \n",
       "2           2  F. Scott Fitzgerald   \n",
       "3           3      Stephenie Meyer   \n",
       "4           4           John Green   \n",
       "\n",
       "                                        description0 Language  \\\n",
       "0  Harry Potter's life is miserable. His parents ...  English   \n",
       "1  The unforgettable novel of a childhood in a sl...  English   \n",
       "2  , F. Scott Fitzgerald’s third book, stands as ...  English   \n",
       "3  In the first book of the Twilight Saga, intern...  English   \n",
       "4  \"I fell in love the way you fall asleep: slowl...  English   \n",
       "\n",
       "   NumberofRatings  GoodReadAverageRating   book_id  \\\n",
       "0          4879247                   4.44         3   \n",
       "1          3368077                   4.26      2657   \n",
       "2          2807803                   3.89      4671   \n",
       "3          3951638                   3.57     41865   \n",
       "4          2518520                   4.26  11870085   \n",
       "\n",
       "                                        description1  \\\n",
       "0  Harry Potter's life is miserable. His parents ...   \n",
       "1                 Compassionate, dramatic, and deepl   \n",
       "2  , F. Scott Fitzgerald’s third book, stands as ...   \n",
       "3  In the first book of the Twilight Saga, intern...   \n",
       "4  Despite the tumor-shrinking medical miracle th...   \n",
       "\n",
       "                                      title  book_id.1  \\\n",
       "0  Harry Potter and the Philosopher's Stone          2   \n",
       "1                     To Kill a Mockingbird          4   \n",
       "2                          The Great Gatsby          5   \n",
       "3                                  Twilight          3   \n",
       "4                    The Fault in Our Stars          6   \n",
       "\n",
       "                                     goodreads_title  goodreads_book_id  \\\n",
       "0  Harry Potter and the Sorcerer's Stone (Harry P...                  3   \n",
       "1   To Kill a Mockingbird (To Kill a Mockingbird #1)               2657   \n",
       "2                                   The Great Gatsby               4671   \n",
       "3                            Twilight (Twilight, #1)              41865   \n",
       "4                             The Fault in Our Stars           11870085   \n",
       "\n",
       "   goodreads_work_id  \n",
       "0            4640799  \n",
       "1            3275794  \n",
       "2             245494  \n",
       "3            3212258  \n",
       "4           16827462  "
      ]
     },
     "execution_count": 3,
     "metadata": {},
     "output_type": "execute_result"
    }
   ],
   "source": [
    "Bookdata_csv.head()"
   ]
  },
  {
   "cell_type": "code",
   "execution_count": 4,
   "metadata": {
    "collapsed": false
   },
   "outputs": [],
   "source": [
    "book_data= graphlab.SFrame(Bookdata_csv)"
   ]
  },
  {
   "cell_type": "code",
   "execution_count": 5,
   "metadata": {
    "collapsed": false
   },
   "outputs": [
    {
     "name": "stdout",
     "output_type": "stream",
     "text": [
      "WARNING: The ItemContentRecommender model is still in beta.\n",
      "WARNING: This feature transformer is still in beta, and some interpretation rules may change in the future.\n",
      "('Applying transform:\\n', Class             : AutoVectorizer\n",
      "\n",
      "Model Fields\n",
      "------------\n",
      "Features          : ['Unnamed: 0', 'author', 'description0', 'Language', 'NumberofRatings', 'GoodReadAverageRating', 'description1', 'title', 'book_id.1', 'goodreads_title', 'goodreads_book_id', 'goodreads_work_id']\n",
      "Excluded Features : ['book_id']\n",
      "\n",
      "Column                 Type   Interpretation  Transforms                         Output Type\n",
      "---------------------  -----  --------------  ---------------------------------  -----------\n",
      "Unnamed: 0             int    numerical       None                               int        \n",
      "author                 str    categorical     None                               str        \n",
      "description0           str    long_text       2-Word NGram Counts -> TFIDF       dict       \n",
      "Language               str    categorical     None                               str        \n",
      "NumberofRatings        int    numerical       None                               int        \n",
      "GoodReadAverageRating  float  numerical       None                               float      \n",
      "description1           str    long_text       2-Word NGram Counts -> TFIDF       dict       \n",
      "title                  str    short_text      3-Character NGram Counts -> TFIDF  dict       \n",
      "book_id.1              int    numerical       None                               int        \n",
      "goodreads_title        str    short_text      3-Character NGram Counts -> TFIDF  dict       \n",
      "goodreads_book_id      int    numerical       None                               int        \n",
      "goodreads_work_id      int    numerical       None                               int        \n",
      "\n",
      ")\n"
     ]
    },
    {
     "data": {
      "text/html": [
       "<pre>Recsys training: model = item_content_recommender</pre>"
      ],
      "text/plain": [
       "Recsys training: model = item_content_recommender"
      ]
     },
     "metadata": {},
     "output_type": "display_data"
    },
    {
     "name": "stdout",
     "output_type": "stream",
     "text": [
      "Defaulting to brute force instead of ball tree because there are multiple distance components.\n"
     ]
    },
    {
     "data": {
      "text/html": [
       "<pre>Starting brute force nearest neighbors model training.</pre>"
      ],
      "text/plain": [
       "Starting brute force nearest neighbors model training."
      ]
     },
     "metadata": {},
     "output_type": "display_data"
    },
    {
     "data": {
      "text/html": [
       "<pre>Starting pairwise querying.</pre>"
      ],
      "text/plain": [
       "Starting pairwise querying."
      ]
     },
     "metadata": {},
     "output_type": "display_data"
    },
    {
     "data": {
      "text/html": [
       "<pre>+--------------+---------+-------------+--------------+</pre>"
      ],
      "text/plain": [
       "+--------------+---------+-------------+--------------+"
      ]
     },
     "metadata": {},
     "output_type": "display_data"
    },
    {
     "data": {
      "text/html": [
       "<pre>| Query points | # Pairs | % Complete. | Elapsed Time |</pre>"
      ],
      "text/plain": [
       "| Query points | # Pairs | % Complete. | Elapsed Time |"
      ]
     },
     "metadata": {},
     "output_type": "display_data"
    },
    {
     "data": {
      "text/html": [
       "<pre>+--------------+---------+-------------+--------------+</pre>"
      ],
      "text/plain": [
       "+--------------+---------+-------------+--------------+"
      ]
     },
     "metadata": {},
     "output_type": "display_data"
    },
    {
     "data": {
      "text/html": [
       "<pre>| 1            | 9593    | 0.0104243   | 78ms         |</pre>"
      ],
      "text/plain": [
       "| 1            | 9593    | 0.0104243   | 78ms         |"
      ]
     },
     "metadata": {},
     "output_type": "display_data"
    },
    {
     "data": {
      "text/html": [
       "<pre>| 140          | 1343020 | 1.4594      | 1.09s        |</pre>"
      ],
      "text/plain": [
       "| 140          | 1343020 | 1.4594      | 1.09s        |"
      ]
     },
     "metadata": {},
     "output_type": "display_data"
    },
    {
     "data": {
      "text/html": [
       "<pre>| 282          | 2705226 | 2.93964     | 2.10s        |</pre>"
      ],
      "text/plain": [
       "| 282          | 2705226 | 2.93964     | 2.10s        |"
      ]
     },
     "metadata": {},
     "output_type": "display_data"
    },
    {
     "data": {
      "text/html": [
       "<pre>| 422          | 4048246 | 4.39904     | 3.10s        |</pre>"
      ],
      "text/plain": [
       "| 422          | 4048246 | 4.39904     | 3.10s        |"
      ]
     },
     "metadata": {},
     "output_type": "display_data"
    },
    {
     "data": {
      "text/html": [
       "<pre>| 575          | 5515975 | 5.99395     | 4.16s        |</pre>"
      ],
      "text/plain": [
       "| 575          | 5515975 | 5.99395     | 4.16s        |"
      ]
     },
     "metadata": {},
     "output_type": "display_data"
    },
    {
     "data": {
      "text/html": [
       "<pre>| 717          | 6878181 | 7.4742      | 5.13s        |</pre>"
      ],
      "text/plain": [
       "| 717          | 6878181 | 7.4742      | 5.13s        |"
      ]
     },
     "metadata": {},
     "output_type": "display_data"
    },
    {
     "data": {
      "text/html": [
       "<pre>| 861          | 8259573 | 8.97529     | 6.13s        |</pre>"
      ],
      "text/plain": [
       "| 861          | 8259573 | 8.97529     | 6.13s        |"
      ]
     },
     "metadata": {},
     "output_type": "display_data"
    },
    {
     "data": {
      "text/html": [
       "<pre>| 1008         | 9669744 | 10.5077     | 7.14s        |</pre>"
      ],
      "text/plain": [
       "| 1008         | 9669744 | 10.5077     | 7.14s        |"
      ]
     },
     "metadata": {},
     "output_type": "display_data"
    },
    {
     "data": {
      "text/html": [
       "<pre>| 1158         | 1e+007  | 12.0713     | 8.14s        |</pre>"
      ],
      "text/plain": [
       "| 1158         | 1e+007  | 12.0713     | 8.14s        |"
      ]
     },
     "metadata": {},
     "output_type": "display_data"
    },
    {
     "data": {
      "text/html": [
       "<pre>| 1309         | 1e+007  | 13.6454     | 9.15s        |</pre>"
      ],
      "text/plain": [
       "| 1309         | 1e+007  | 13.6454     | 9.15s        |"
      ]
     },
     "metadata": {},
     "output_type": "display_data"
    },
    {
     "data": {
      "text/html": [
       "<pre>| 1450         | 1e+007  | 15.1152     | 10.15s       |</pre>"
      ],
      "text/plain": [
       "| 1450         | 1e+007  | 15.1152     | 10.15s       |"
      ]
     },
     "metadata": {},
     "output_type": "display_data"
    },
    {
     "data": {
      "text/html": [
       "<pre>| 1601         | 2e+007  | 16.6893     | 11.16s       |</pre>"
      ],
      "text/plain": [
       "| 1601         | 2e+007  | 16.6893     | 11.16s       |"
      ]
     },
     "metadata": {},
     "output_type": "display_data"
    },
    {
     "data": {
      "text/html": [
       "<pre>| 1740         | 2e+007  | 18.1382     | 12.16s       |</pre>"
      ],
      "text/plain": [
       "| 1740         | 2e+007  | 18.1382     | 12.16s       |"
      ]
     },
     "metadata": {},
     "output_type": "display_data"
    },
    {
     "data": {
      "text/html": [
       "<pre>| 1888         | 2e+007  | 19.681      | 13.19s       |</pre>"
      ],
      "text/plain": [
       "| 1888         | 2e+007  | 19.681      | 13.19s       |"
      ]
     },
     "metadata": {},
     "output_type": "display_data"
    },
    {
     "data": {
      "text/html": [
       "<pre>| 2035         | 2e+007  | 21.2134     | 14.18s       |</pre>"
      ],
      "text/plain": [
       "| 2035         | 2e+007  | 21.2134     | 14.18s       |"
      ]
     },
     "metadata": {},
     "output_type": "display_data"
    },
    {
     "data": {
      "text/html": [
       "<pre>| 2180         | 2e+007  | 22.7249     | 15.19s       |</pre>"
      ],
      "text/plain": [
       "| 2180         | 2e+007  | 22.7249     | 15.19s       |"
      ]
     },
     "metadata": {},
     "output_type": "display_data"
    },
    {
     "data": {
      "text/html": [
       "<pre>| 2333         | 2e+007  | 24.3198     | 16.19s       |</pre>"
      ],
      "text/plain": [
       "| 2333         | 2e+007  | 24.3198     | 16.19s       |"
      ]
     },
     "metadata": {},
     "output_type": "display_data"
    },
    {
     "data": {
      "text/html": [
       "<pre>| 2515         | 2e+007  | 26.217      | 17.22s       |</pre>"
      ],
      "text/plain": [
       "| 2515         | 2e+007  | 26.217      | 17.22s       |"
      ]
     },
     "metadata": {},
     "output_type": "display_data"
    },
    {
     "data": {
      "text/html": [
       "<pre>| 2693         | 3e+007  | 28.0726     | 18.20s       |</pre>"
      ],
      "text/plain": [
       "| 2693         | 3e+007  | 28.0726     | 18.20s       |"
      ]
     },
     "metadata": {},
     "output_type": "display_data"
    },
    {
     "data": {
      "text/html": [
       "<pre>| 2871         | 3e+007  | 29.9281     | 19.21s       |</pre>"
      ],
      "text/plain": [
       "| 2871         | 3e+007  | 29.9281     | 19.21s       |"
      ]
     },
     "metadata": {},
     "output_type": "display_data"
    },
    {
     "data": {
      "text/html": [
       "<pre>| 3042         | 3e+007  | 31.7106     | 20.23s       |</pre>"
      ],
      "text/plain": [
       "| 3042         | 3e+007  | 31.7106     | 20.23s       |"
      ]
     },
     "metadata": {},
     "output_type": "display_data"
    },
    {
     "data": {
      "text/html": [
       "<pre>| 3212         | 3e+007  | 33.4827     | 21.23s       |</pre>"
      ],
      "text/plain": [
       "| 3212         | 3e+007  | 33.4827     | 21.23s       |"
      ]
     },
     "metadata": {},
     "output_type": "display_data"
    },
    {
     "data": {
      "text/html": [
       "<pre>| 3388         | 3e+007  | 35.3174     | 22.24s       |</pre>"
      ],
      "text/plain": [
       "| 3388         | 3e+007  | 35.3174     | 22.24s       |"
      ]
     },
     "metadata": {},
     "output_type": "display_data"
    },
    {
     "data": {
      "text/html": [
       "<pre>| 3559         | 3e+007  | 37.1        | 23.24s       |</pre>"
      ],
      "text/plain": [
       "| 3559         | 3e+007  | 37.1        | 23.24s       |"
      ]
     },
     "metadata": {},
     "output_type": "display_data"
    },
    {
     "data": {
      "text/html": [
       "<pre>| 3736         | 4e+007  | 38.9451     | 24.25s       |</pre>"
      ],
      "text/plain": [
       "| 3736         | 4e+007  | 38.9451     | 24.25s       |"
      ]
     },
     "metadata": {},
     "output_type": "display_data"
    },
    {
     "data": {
      "text/html": [
       "<pre>| 3915         | 4e+007  | 40.811      | 25.25s       |</pre>"
      ],
      "text/plain": [
       "| 3915         | 4e+007  | 40.811      | 25.25s       |"
      ]
     },
     "metadata": {},
     "output_type": "display_data"
    },
    {
     "data": {
      "text/html": [
       "<pre>| 4094         | 4e+007  | 42.677      | 26.27s       |</pre>"
      ],
      "text/plain": [
       "| 4094         | 4e+007  | 42.677      | 26.27s       |"
      ]
     },
     "metadata": {},
     "output_type": "display_data"
    },
    {
     "data": {
      "text/html": [
       "<pre>| 4271         | 4e+007  | 44.522      | 27.28s       |</pre>"
      ],
      "text/plain": [
       "| 4271         | 4e+007  | 44.522      | 27.28s       |"
      ]
     },
     "metadata": {},
     "output_type": "display_data"
    },
    {
     "data": {
      "text/html": [
       "<pre>| 4448         | 4e+007  | 46.3671     | 28.28s       |</pre>"
      ],
      "text/plain": [
       "| 4448         | 4e+007  | 46.3671     | 28.28s       |"
      ]
     },
     "metadata": {},
     "output_type": "display_data"
    },
    {
     "data": {
      "text/html": [
       "<pre>| 4623         | 4e+007  | 48.1914     | 29.29s       |</pre>"
      ],
      "text/plain": [
       "| 4623         | 4e+007  | 48.1914     | 29.29s       |"
      ]
     },
     "metadata": {},
     "output_type": "display_data"
    },
    {
     "data": {
      "text/html": [
       "<pre>| 4800         | 5e+007  | 50.0365     | 30.29s       |</pre>"
      ],
      "text/plain": [
       "| 4800         | 5e+007  | 50.0365     | 30.29s       |"
      ]
     },
     "metadata": {},
     "output_type": "display_data"
    },
    {
     "data": {
      "text/html": [
       "<pre>| 4975         | 5e+007  | 51.8607     | 31.30s       |</pre>"
      ],
      "text/plain": [
       "| 4975         | 5e+007  | 51.8607     | 31.30s       |"
      ]
     },
     "metadata": {},
     "output_type": "display_data"
    },
    {
     "data": {
      "text/html": [
       "<pre>| 5153         | 5e+007  | 53.7163     | 32.30s       |</pre>"
      ],
      "text/plain": [
       "| 5153         | 5e+007  | 53.7163     | 32.30s       |"
      ]
     },
     "metadata": {},
     "output_type": "display_data"
    },
    {
     "data": {
      "text/html": [
       "<pre>| 5324         | 5e+007  | 55.4988     | 33.32s       |</pre>"
      ],
      "text/plain": [
       "| 5324         | 5e+007  | 55.4988     | 33.32s       |"
      ]
     },
     "metadata": {},
     "output_type": "display_data"
    },
    {
     "data": {
      "text/html": [
       "<pre>| 5500         | 5e+007  | 57.3335     | 34.32s       |</pre>"
      ],
      "text/plain": [
       "| 5500         | 5e+007  | 57.3335     | 34.32s       |"
      ]
     },
     "metadata": {},
     "output_type": "display_data"
    },
    {
     "data": {
      "text/html": [
       "<pre>| 5679         | 5e+007  | 59.1994     | 35.33s       |</pre>"
      ],
      "text/plain": [
       "| 5679         | 5e+007  | 59.1994     | 35.33s       |"
      ]
     },
     "metadata": {},
     "output_type": "display_data"
    },
    {
     "data": {
      "text/html": [
       "<pre>| 5849         | 6e+007  | 60.9715     | 36.34s       |</pre>"
      ],
      "text/plain": [
       "| 5849         | 6e+007  | 60.9715     | 36.34s       |"
      ]
     },
     "metadata": {},
     "output_type": "display_data"
    },
    {
     "data": {
      "text/html": [
       "<pre>| 6026         | 6e+007  | 62.8166     | 37.36s       |</pre>"
      ],
      "text/plain": [
       "| 6026         | 6e+007  | 62.8166     | 37.36s       |"
      ]
     },
     "metadata": {},
     "output_type": "display_data"
    },
    {
     "data": {
      "text/html": [
       "<pre>| 6205         | 6e+007  | 64.6826     | 38.36s       |</pre>"
      ],
      "text/plain": [
       "| 6205         | 6e+007  | 64.6826     | 38.36s       |"
      ]
     },
     "metadata": {},
     "output_type": "display_data"
    },
    {
     "data": {
      "text/html": [
       "<pre>| 6380         | 6e+007  | 66.5068     | 39.35s       |</pre>"
      ],
      "text/plain": [
       "| 6380         | 6e+007  | 66.5068     | 39.35s       |"
      ]
     },
     "metadata": {},
     "output_type": "display_data"
    },
    {
     "data": {
      "text/html": [
       "<pre>| 6556         | 6e+007  | 68.3415     | 40.37s       |</pre>"
      ],
      "text/plain": [
       "| 6556         | 6e+007  | 68.3415     | 40.37s       |"
      ]
     },
     "metadata": {},
     "output_type": "display_data"
    },
    {
     "data": {
      "text/html": [
       "<pre>| 6729         | 6e+007  | 70.1449     | 41.38s       |</pre>"
      ],
      "text/plain": [
       "| 6729         | 6e+007  | 70.1449     | 41.38s       |"
      ]
     },
     "metadata": {},
     "output_type": "display_data"
    },
    {
     "data": {
      "text/html": [
       "<pre>| 6908         | 7e+007  | 72.0108     | 42.38s       |</pre>"
      ],
      "text/plain": [
       "| 6908         | 7e+007  | 72.0108     | 42.38s       |"
      ]
     },
     "metadata": {},
     "output_type": "display_data"
    },
    {
     "data": {
      "text/html": [
       "<pre>| 7086         | 7e+007  | 73.8664     | 43.39s       |</pre>"
      ],
      "text/plain": [
       "| 7086         | 7e+007  | 73.8664     | 43.39s       |"
      ]
     },
     "metadata": {},
     "output_type": "display_data"
    },
    {
     "data": {
      "text/html": [
       "<pre>| 7260         | 7e+007  | 75.6802     | 44.39s       |</pre>"
      ],
      "text/plain": [
       "| 7260         | 7e+007  | 75.6802     | 44.39s       |"
      ]
     },
     "metadata": {},
     "output_type": "display_data"
    },
    {
     "data": {
      "text/html": [
       "<pre>| 7431         | 7e+007  | 77.4627     | 45.41s       |</pre>"
      ],
      "text/plain": [
       "| 7431         | 7e+007  | 77.4627     | 45.41s       |"
      ]
     },
     "metadata": {},
     "output_type": "display_data"
    },
    {
     "data": {
      "text/html": [
       "<pre>| 7610         | 7e+007  | 79.3287     | 46.41s       |</pre>"
      ],
      "text/plain": [
       "| 7610         | 7e+007  | 79.3287     | 46.41s       |"
      ]
     },
     "metadata": {},
     "output_type": "display_data"
    },
    {
     "data": {
      "text/html": [
       "<pre>| 7785         | 7e+007  | 81.1529     | 47.43s       |</pre>"
      ],
      "text/plain": [
       "| 7785         | 7e+007  | 81.1529     | 47.43s       |"
      ]
     },
     "metadata": {},
     "output_type": "display_data"
    },
    {
     "data": {
      "text/html": [
       "<pre>| 7964         | 8e+007  | 83.0189     | 48.43s       |</pre>"
      ],
      "text/plain": [
       "| 7964         | 8e+007  | 83.0189     | 48.43s       |"
      ]
     },
     "metadata": {},
     "output_type": "display_data"
    },
    {
     "data": {
      "text/html": [
       "<pre>| 8138         | 8e+007  | 84.8327     | 49.43s       |</pre>"
      ],
      "text/plain": [
       "| 8138         | 8e+007  | 84.8327     | 49.43s       |"
      ]
     },
     "metadata": {},
     "output_type": "display_data"
    },
    {
     "data": {
      "text/html": [
       "<pre>| 8316         | 8e+007  | 86.6882     | 50.45s       |</pre>"
      ],
      "text/plain": [
       "| 8316         | 8e+007  | 86.6882     | 50.45s       |"
      ]
     },
     "metadata": {},
     "output_type": "display_data"
    },
    {
     "data": {
      "text/html": [
       "<pre>| 8491         | 8e+007  | 88.5125     | 51.44s       |</pre>"
      ],
      "text/plain": [
       "| 8491         | 8e+007  | 88.5125     | 51.44s       |"
      ]
     },
     "metadata": {},
     "output_type": "display_data"
    },
    {
     "data": {
      "text/html": [
       "<pre>| 8646         | 8e+007  | 90.1282     | 52.46s       |</pre>"
      ],
      "text/plain": [
       "| 8646         | 8e+007  | 90.1282     | 52.46s       |"
      ]
     },
     "metadata": {},
     "output_type": "display_data"
    },
    {
     "data": {
      "text/html": [
       "<pre>| 8798         | 8e+007  | 91.7127     | 53.46s       |</pre>"
      ],
      "text/plain": [
       "| 8798         | 8e+007  | 91.7127     | 53.46s       |"
      ]
     },
     "metadata": {},
     "output_type": "display_data"
    },
    {
     "data": {
      "text/html": [
       "<pre>| 8952         | 9e+007  | 93.318      | 54.47s       |</pre>"
      ],
      "text/plain": [
       "| 8952         | 9e+007  | 93.318      | 54.47s       |"
      ]
     },
     "metadata": {},
     "output_type": "display_data"
    },
    {
     "data": {
      "text/html": [
       "<pre>| 9089         | 9e+007  | 94.7462     | 55.48s       |</pre>"
      ],
      "text/plain": [
       "| 9089         | 9e+007  | 94.7462     | 55.48s       |"
      ]
     },
     "metadata": {},
     "output_type": "display_data"
    },
    {
     "data": {
      "text/html": [
       "<pre>| 9174         | 9e+007  | 95.6322     | 56.50s       |</pre>"
      ],
      "text/plain": [
       "| 9174         | 9e+007  | 95.6322     | 56.50s       |"
      ]
     },
     "metadata": {},
     "output_type": "display_data"
    },
    {
     "data": {
      "text/html": [
       "<pre>| 9235         | 9e+007  | 96.2681     | 57.48s       |</pre>"
      ],
      "text/plain": [
       "| 9235         | 9e+007  | 96.2681     | 57.48s       |"
      ]
     },
     "metadata": {},
     "output_type": "display_data"
    },
    {
     "data": {
      "text/html": [
       "<pre>| 9298         | 9e+007  | 96.9248     | 58.51s       |</pre>"
      ],
      "text/plain": [
       "| 9298         | 9e+007  | 96.9248     | 58.51s       |"
      ]
     },
     "metadata": {},
     "output_type": "display_data"
    },
    {
     "data": {
      "text/html": [
       "<pre>| 9360         | 9e+007  | 97.5711     | 59.51s       |</pre>"
      ],
      "text/plain": [
       "| 9360         | 9e+007  | 97.5711     | 59.51s       |"
      ]
     },
     "metadata": {},
     "output_type": "display_data"
    },
    {
     "data": {
      "text/html": [
       "<pre>| 9422         | 9e+007  | 98.2175     | 1m 0s        |</pre>"
      ],
      "text/plain": [
       "| 9422         | 9e+007  | 98.2175     | 1m 0s        |"
      ]
     },
     "metadata": {},
     "output_type": "display_data"
    },
    {
     "data": {
      "text/html": [
       "<pre>| 9486         | 9e+007  | 98.8846     | 1m 1s        |</pre>"
      ],
      "text/plain": [
       "| 9486         | 9e+007  | 98.8846     | 1m 1s        |"
      ]
     },
     "metadata": {},
     "output_type": "display_data"
    },
    {
     "data": {
      "text/html": [
       "<pre>| 9548         | 9e+007  | 99.5309     | 1m 2s        |</pre>"
      ],
      "text/plain": [
       "| 9548         | 9e+007  | 99.5309     | 1m 2s        |"
      ]
     },
     "metadata": {},
     "output_type": "display_data"
    },
    {
     "data": {
      "text/html": [
       "<pre>| Done         |         | 100         | 1m 3s        |</pre>"
      ],
      "text/plain": [
       "| Done         |         | 100         | 1m 3s        |"
      ]
     },
     "metadata": {},
     "output_type": "display_data"
    },
    {
     "data": {
      "text/html": [
       "<pre>+--------------+---------+-------------+--------------+</pre>"
      ],
      "text/plain": [
       "+--------------+---------+-------------+--------------+"
      ]
     },
     "metadata": {},
     "output_type": "display_data"
    },
    {
     "data": {
      "text/html": [
       "<pre>Warning: Ignoring columns Unnamed: 0;</pre>"
      ],
      "text/plain": [
       "Warning: Ignoring columns Unnamed: 0;"
      ]
     },
     "metadata": {},
     "output_type": "display_data"
    },
    {
     "data": {
      "text/html": [
       "<pre>    To use these columns in scoring predictions, use a model that allows the use of additional features.</pre>"
      ],
      "text/plain": [
       "    To use these columns in scoring predictions, use a model that allows the use of additional features."
      ]
     },
     "metadata": {},
     "output_type": "display_data"
    },
    {
     "data": {
      "text/html": [
       "<pre>Preparing data set.</pre>"
      ],
      "text/plain": [
       "Preparing data set."
      ]
     },
     "metadata": {},
     "output_type": "display_data"
    },
    {
     "data": {
      "text/html": [
       "<pre>    Data has 736317 observations with 52792 users and 18799 items.</pre>"
      ],
      "text/plain": [
       "    Data has 736317 observations with 52792 users and 18799 items."
      ]
     },
     "metadata": {},
     "output_type": "display_data"
    },
    {
     "data": {
      "text/html": [
       "<pre>    Data prepared in: 12.168s</pre>"
      ],
      "text/plain": [
       "    Data prepared in: 12.168s"
      ]
     },
     "metadata": {},
     "output_type": "display_data"
    },
    {
     "data": {
      "text/html": [
       "<pre>Loading user-provided nearest items.</pre>"
      ],
      "text/plain": [
       "Loading user-provided nearest items."
      ]
     },
     "metadata": {},
     "output_type": "display_data"
    },
    {
     "data": {
      "text/html": [
       "<pre>Generating candidate set for working with new users.</pre>"
      ],
      "text/plain": [
       "Generating candidate set for working with new users."
      ]
     },
     "metadata": {},
     "output_type": "display_data"
    },
    {
     "data": {
      "text/html": [
       "<pre>Finished training in 0.1248s</pre>"
      ],
      "text/plain": [
       "Finished training in 0.1248s"
      ]
     },
     "metadata": {},
     "output_type": "display_data"
    }
   ],
   "source": [
    "content_based_model=graphlab.recommender.item_content_recommender.create(book_data,item_id='book_id',observation_data=train_data,user_id='user_id',target='rating',similarity_metrics='pearson')"
   ]
  },
  {
   "cell_type": "code",
   "execution_count": 6,
   "metadata": {
    "collapsed": false
   },
   "outputs": [
    {
     "data": {
      "text/plain": [
       "Class                            : ItemContentRecommender\n",
       "\n",
       "Schema\n",
       "------\n",
       "User ID                          : user_id\n",
       "Item ID                          : book_id\n",
       "Target                           : rating\n",
       "Additional observation features  : 0\n",
       "User side features               : []\n",
       "Item side features               : ['Unnamed: 0', 'author', 'description0', 'Language', 'NumberofRatings', 'GoodReadAverageRating', 'book_id', 'description1', 'title', 'book_id.1', 'goodreads_title', 'goodreads_book_id', 'goodreads_work_id']\n",
       "\n",
       "Statistics\n",
       "----------\n",
       "Number of observations           : 736317\n",
       "Number of users                  : 52792\n",
       "Number of items                  : 18799\n",
       "\n",
       "Training summary\n",
       "----------------\n",
       "Training time                    : 0.1248\n",
       "\n",
       "Model Parameters\n",
       "----------------\n",
       "Model class                      : ItemContentRecommender\n",
       "threshold                        : 0.0001\n",
       "similarity_type                  : cosine\n",
       "training_method                  : auto\n",
       "\n",
       "Other Settings\n",
       "--------------\n",
       "degree_approximation_threshold   : 4096\n",
       "sparse_density_estimation_sample_size : 4096\n",
       "max_data_passes                  : 4096\n",
       "target_memory_usage              : 8589934592\n",
       "seed_item_set_size               : 50\n",
       "nearest_neighbors_interaction_proportion_threshold : 0.05\n",
       "max_item_neighborhood_size       : 64"
      ]
     },
     "execution_count": 6,
     "metadata": {},
     "output_type": "execute_result"
    }
   ],
   "source": [
    "content_based_model"
   ]
  },
  {
   "cell_type": "code",
   "execution_count": 7,
   "metadata": {
    "collapsed": false
   },
   "outputs": [
    {
     "data": {
      "text/html": [
       "<div style=\"max-height:1000px;max-width:1500px;overflow:auto;\"><table frame=\"box\" rules=\"cols\">\n",
       "    <tr>\n",
       "        <th style=\"padding-left: 1em; padding-right: 1em; text-align: center\">book_id</th>\n",
       "        <th style=\"padding-left: 1em; padding-right: 1em; text-align: center\">score</th>\n",
       "        <th style=\"padding-left: 1em; padding-right: 1em; text-align: center\">rank</th>\n",
       "    </tr>\n",
       "    <tr>\n",
       "        <td style=\"padding-left: 1em; padding-right: 1em; text-align: center; vertical-align: top\">7069</td>\n",
       "        <td style=\"padding-left: 1em; padding-right: 1em; text-align: center; vertical-align: top\">0.0185021674633</td>\n",
       "        <td style=\"padding-left: 1em; padding-right: 1em; text-align: center; vertical-align: top\">1</td>\n",
       "    </tr>\n",
       "    <tr>\n",
       "        <td style=\"padding-left: 1em; padding-right: 1em; text-align: center; vertical-align: top\">5890</td>\n",
       "        <td style=\"padding-left: 1em; padding-right: 1em; text-align: center; vertical-align: top\">0.0183962965012</td>\n",
       "        <td style=\"padding-left: 1em; padding-right: 1em; text-align: center; vertical-align: top\">2</td>\n",
       "    </tr>\n",
       "    <tr>\n",
       "        <td style=\"padding-left: 1em; padding-right: 1em; text-align: center; vertical-align: top\">6708</td>\n",
       "        <td style=\"padding-left: 1em; padding-right: 1em; text-align: center; vertical-align: top\">0.012253793478</td>\n",
       "        <td style=\"padding-left: 1em; padding-right: 1em; text-align: center; vertical-align: top\">3</td>\n",
       "    </tr>\n",
       "    <tr>\n",
       "        <td style=\"padding-left: 1em; padding-right: 1em; text-align: center; vertical-align: top\">18630</td>\n",
       "        <td style=\"padding-left: 1em; padding-right: 1em; text-align: center; vertical-align: top\">0.0121876251698</td>\n",
       "        <td style=\"padding-left: 1em; padding-right: 1em; text-align: center; vertical-align: top\">4</td>\n",
       "    </tr>\n",
       "    <tr>\n",
       "        <td style=\"padding-left: 1em; padding-right: 1em; text-align: center; vertical-align: top\">122</td>\n",
       "        <td style=\"padding-left: 1em; padding-right: 1em; text-align: center; vertical-align: top\">0.0120815753937</td>\n",
       "        <td style=\"padding-left: 1em; padding-right: 1em; text-align: center; vertical-align: top\">5</td>\n",
       "    </tr>\n",
       "    <tr>\n",
       "        <td style=\"padding-left: 1em; padding-right: 1em; text-align: center; vertical-align: top\">35519</td>\n",
       "        <td style=\"padding-left: 1em; padding-right: 1em; text-align: center; vertical-align: top\">0.0120615124702</td>\n",
       "        <td style=\"padding-left: 1em; padding-right: 1em; text-align: center; vertical-align: top\">6</td>\n",
       "    </tr>\n",
       "    <tr>\n",
       "        <td style=\"padding-left: 1em; padding-right: 1em; text-align: center; vertical-align: top\">68984</td>\n",
       "        <td style=\"padding-left: 1em; padding-right: 1em; text-align: center; vertical-align: top\">0.0118309521675</td>\n",
       "        <td style=\"padding-left: 1em; padding-right: 1em; text-align: center; vertical-align: top\">7</td>\n",
       "    </tr>\n",
       "    <tr>\n",
       "        <td style=\"padding-left: 1em; padding-right: 1em; text-align: center; vertical-align: top\">833253</td>\n",
       "        <td style=\"padding-left: 1em; padding-right: 1em; text-align: center; vertical-align: top\">0.0118222403526</td>\n",
       "        <td style=\"padding-left: 1em; padding-right: 1em; text-align: center; vertical-align: top\">8</td>\n",
       "    </tr>\n",
       "    <tr>\n",
       "        <td style=\"padding-left: 1em; padding-right: 1em; text-align: center; vertical-align: top\">184655</td>\n",
       "        <td style=\"padding-left: 1em; padding-right: 1em; text-align: center; vertical-align: top\">0.0116377055645</td>\n",
       "        <td style=\"padding-left: 1em; padding-right: 1em; text-align: center; vertical-align: top\">9</td>\n",
       "    </tr>\n",
       "    <tr>\n",
       "        <td style=\"padding-left: 1em; padding-right: 1em; text-align: center; vertical-align: top\">452157</td>\n",
       "        <td style=\"padding-left: 1em; padding-right: 1em; text-align: center; vertical-align: top\">0.0115057611465</td>\n",
       "        <td style=\"padding-left: 1em; padding-right: 1em; text-align: center; vertical-align: top\">10</td>\n",
       "    </tr>\n",
       "</table>\n",
       "[10 rows x 3 columns]<br/>\n",
       "</div>"
      ],
      "text/plain": [
       "Columns:\n",
       "\tbook_id\tint\n",
       "\tscore\tfloat\n",
       "\trank\tint\n",
       "\n",
       "Rows: 10\n",
       "\n",
       "Data:\n",
       "+---------+-----------------+------+\n",
       "| book_id |      score      | rank |\n",
       "+---------+-----------------+------+\n",
       "|   7069  | 0.0185021674633 |  1   |\n",
       "|   5890  | 0.0183962965012 |  2   |\n",
       "|   6708  |  0.012253793478 |  3   |\n",
       "|  18630  | 0.0121876251698 |  4   |\n",
       "|   122   | 0.0120815753937 |  5   |\n",
       "|  35519  | 0.0120615124702 |  6   |\n",
       "|  68984  | 0.0118309521675 |  7   |\n",
       "|  833253 | 0.0118222403526 |  8   |\n",
       "|  184655 | 0.0116377055645 |  9   |\n",
       "|  452157 | 0.0115057611465 |  10  |\n",
       "+---------+-----------------+------+\n",
       "[10 rows x 3 columns]"
      ]
     },
     "execution_count": 7,
     "metadata": {},
     "output_type": "execute_result"
    }
   ],
   "source": [
    "content_based_model.recommend_from_interactions([0])"
   ]
  },
  {
   "cell_type": "code",
   "execution_count": 8,
   "metadata": {
    "collapsed": false
   },
   "outputs": [
    {
     "data": {
      "text/plain": [
       "dtype: float\n",
       "Rows: 736317\n",
       "[0.0, 0.0, 0.0, 0.0, 0.0, 0.0, 0.0, 0.0, 0.0, 0.0, 0.0, 0.0, 0.0, 0.0, 0.0, 0.0, 0.0, 0.0, 0.0, 0.0, 0.0, 0.0, 0.0, 0.0, 0.0, 0.0, 0.0, 0.0, 0.0, 0.0, 0.0, 0.0, 0.0, 0.0, 0.0, 0.0, 0.0, 0.0, 0.0, 0.0, 0.0, 0.0, 0.0, 0.0, 0.0, 0.0, 0.0, 0.0, 0.0, 0.0, 0.0, 0.0, 0.0, 0.0, 0.0, 0.0, 0.0, 0.0, 0.0, 0.0, 0.0, 0.0, 0.0, 0.0, 0.0, 0.0, 0.0, 0.0, 0.0, 0.0, 0.0, 0.0, 0.0, 0.0, 0.0, 0.0, 0.022938155210935153, 0.0, 0.0, 0.0, 0.0, 0.0, 0.0, 0.0, 0.0, 0.0, 0.0, 0.0, 0.0, 0.0, 0.0, 0.0, 0.0, 0.0, 0.0, 0.0, 0.0, 0.04291834249052891, 0.0, 0.0, ... ]"
      ]
     },
     "execution_count": 8,
     "metadata": {},
     "output_type": "execute_result"
    }
   ],
   "source": [
    "content_based_model.predict(train_data)"
   ]
  },
  {
   "cell_type": "code",
   "execution_count": 9,
   "metadata": {
    "collapsed": false
   },
   "outputs": [
    {
     "data": {
      "text/html": [
       "<pre>recommendations finished on 1000/52792 queries. users per second: 8012.82</pre>"
      ],
      "text/plain": [
       "recommendations finished on 1000/52792 queries. users per second: 8012.82"
      ]
     },
     "metadata": {},
     "output_type": "display_data"
    },
    {
     "data": {
      "text/html": [
       "<pre>recommendations finished on 2000/52792 queries. users per second: 8012.82</pre>"
      ],
      "text/plain": [
       "recommendations finished on 2000/52792 queries. users per second: 8012.82"
      ]
     },
     "metadata": {},
     "output_type": "display_data"
    },
    {
     "data": {
      "text/html": [
       "<pre>recommendations finished on 3000/52792 queries. users per second: 8012.82</pre>"
      ],
      "text/plain": [
       "recommendations finished on 3000/52792 queries. users per second: 8012.82"
      ]
     },
     "metadata": {},
     "output_type": "display_data"
    },
    {
     "data": {
      "text/html": [
       "<pre>recommendations finished on 4000/52792 queries. users per second: 8012.8</pre>"
      ],
      "text/plain": [
       "recommendations finished on 4000/52792 queries. users per second: 8012.8"
      ]
     },
     "metadata": {},
     "output_type": "display_data"
    },
    {
     "data": {
      "text/html": [
       "<pre>recommendations finished on 5000/52792 queries. users per second: 8012.81</pre>"
      ],
      "text/plain": [
       "recommendations finished on 5000/52792 queries. users per second: 8012.81"
      ]
     },
     "metadata": {},
     "output_type": "display_data"
    },
    {
     "data": {
      "text/html": [
       "<pre>recommendations finished on 6000/52792 queries. users per second: 7849.28</pre>"
      ],
      "text/plain": [
       "recommendations finished on 6000/52792 queries. users per second: 7849.28"
      ]
     },
     "metadata": {},
     "output_type": "display_data"
    },
    {
     "data": {
      "text/html": [
       "<pre>recommendations finished on 7000/52792 queries. users per second: 7872.24</pre>"
      ],
      "text/plain": [
       "recommendations finished on 7000/52792 queries. users per second: 7872.24"
      ]
     },
     "metadata": {},
     "output_type": "display_data"
    },
    {
     "data": {
      "text/html": [
       "<pre>recommendations finished on 8000/52792 queries. users per second: 7889.54</pre>"
      ],
      "text/plain": [
       "recommendations finished on 8000/52792 queries. users per second: 7889.54"
      ]
     },
     "metadata": {},
     "output_type": "display_data"
    },
    {
     "data": {
      "text/html": [
       "<pre>recommendations finished on 9000/52792 queries. users per second: 7796.24</pre>"
      ],
      "text/plain": [
       "recommendations finished on 9000/52792 queries. users per second: 7796.24"
      ]
     },
     "metadata": {},
     "output_type": "display_data"
    },
    {
     "data": {
      "text/html": [
       "<pre>recommendations finished on 10000/52792 queries. users per second: 7817.37</pre>"
      ],
      "text/plain": [
       "recommendations finished on 10000/52792 queries. users per second: 7817.37"
      ]
     },
     "metadata": {},
     "output_type": "display_data"
    },
    {
     "data": {
      "text/html": [
       "<pre>recommendations finished on 11000/52792 queries. users per second: 7748.65</pre>"
      ],
      "text/plain": [
       "recommendations finished on 11000/52792 queries. users per second: 7748.65"
      ]
     },
     "metadata": {},
     "output_type": "display_data"
    },
    {
     "data": {
      "text/html": [
       "<pre>recommendations finished on 12000/52792 queries. users per second: 7770</pre>"
      ],
      "text/plain": [
       "recommendations finished on 12000/52792 queries. users per second: 7770"
      ]
     },
     "metadata": {},
     "output_type": "display_data"
    },
    {
     "data": {
      "text/html": [
       "<pre>recommendations finished on 13000/52792 queries. users per second: 7716.04</pre>"
      ],
      "text/plain": [
       "recommendations finished on 13000/52792 queries. users per second: 7716.04"
      ]
     },
     "metadata": {},
     "output_type": "display_data"
    },
    {
     "data": {
      "text/html": [
       "<pre>recommendations finished on 14000/52792 queries. users per second: 7736.5</pre>"
      ],
      "text/plain": [
       "recommendations finished on 14000/52792 queries. users per second: 7736.5"
      ]
     },
     "metadata": {},
     "output_type": "display_data"
    },
    {
     "data": {
      "text/html": [
       "<pre>recommendations finished on 15000/52792 queries. users per second: 7692.3</pre>"
      ],
      "text/plain": [
       "recommendations finished on 15000/52792 queries. users per second: 7692.3"
      ]
     },
     "metadata": {},
     "output_type": "display_data"
    },
    {
     "data": {
      "text/html": [
       "<pre>recommendations finished on 16000/52792 queries. users per second: 7654.03</pre>"
      ],
      "text/plain": [
       "recommendations finished on 16000/52792 queries. users per second: 7654.03"
      ]
     },
     "metadata": {},
     "output_type": "display_data"
    },
    {
     "data": {
      "text/html": [
       "<pre>recommendations finished on 17000/52792 queries. users per second: 7620.57</pre>"
      ],
      "text/plain": [
       "recommendations finished on 17000/52792 queries. users per second: 7620.57"
      ]
     },
     "metadata": {},
     "output_type": "display_data"
    },
    {
     "data": {
      "text/html": [
       "<pre>recommendations finished on 18000/52792 queries. users per second: 7641.35</pre>"
      ],
      "text/plain": [
       "recommendations finished on 18000/52792 queries. users per second: 7641.35"
      ]
     },
     "metadata": {},
     "output_type": "display_data"
    },
    {
     "data": {
      "text/html": [
       "<pre>recommendations finished on 19000/52792 queries. users per second: 7612.17</pre>"
      ],
      "text/plain": [
       "recommendations finished on 19000/52792 queries. users per second: 7612.17"
      ]
     },
     "metadata": {},
     "output_type": "display_data"
    },
    {
     "data": {
      "text/html": [
       "<pre>recommendations finished on 20000/52792 queries. users per second: 7631.25</pre>"
      ],
      "text/plain": [
       "recommendations finished on 20000/52792 queries. users per second: 7631.25"
      ]
     },
     "metadata": {},
     "output_type": "display_data"
    },
    {
     "data": {
      "text/html": [
       "<pre>recommendations finished on 21000/52792 queries. users per second: 7648.59</pre>"
      ],
      "text/plain": [
       "recommendations finished on 21000/52792 queries. users per second: 7648.59"
      ]
     },
     "metadata": {},
     "output_type": "display_data"
    },
    {
     "data": {
      "text/html": [
       "<pre>recommendations finished on 22000/52792 queries. users per second: 7622.99</pre>"
      ],
      "text/plain": [
       "recommendations finished on 22000/52792 queries. users per second: 7622.99"
      ]
     },
     "metadata": {},
     "output_type": "display_data"
    },
    {
     "data": {
      "text/html": [
       "<pre>recommendations finished on 23000/52792 queries. users per second: 7639.15</pre>"
      ],
      "text/plain": [
       "recommendations finished on 23000/52792 queries. users per second: 7639.15"
      ]
     },
     "metadata": {},
     "output_type": "display_data"
    },
    {
     "data": {
      "text/html": [
       "<pre>recommendations finished on 24000/52792 queries. users per second: 7616.13</pre>"
      ],
      "text/plain": [
       "recommendations finished on 24000/52792 queries. users per second: 7616.13"
      ]
     },
     "metadata": {},
     "output_type": "display_data"
    },
    {
     "data": {
      "text/html": [
       "<pre>recommendations finished on 25000/52792 queries. users per second: 7595.08</pre>"
      ],
      "text/plain": [
       "recommendations finished on 25000/52792 queries. users per second: 7595.08"
      ]
     },
     "metadata": {},
     "output_type": "display_data"
    },
    {
     "data": {
      "text/html": [
       "<pre>recommendations finished on 26000/52792 queries. users per second: 7610.34</pre>"
      ],
      "text/plain": [
       "recommendations finished on 26000/52792 queries. users per second: 7610.34"
      ]
     },
     "metadata": {},
     "output_type": "display_data"
    },
    {
     "data": {
      "text/html": [
       "<pre>recommendations finished on 27000/52792 queries. users per second: 7624.52</pre>"
      ],
      "text/plain": [
       "recommendations finished on 27000/52792 queries. users per second: 7624.52"
      ]
     },
     "metadata": {},
     "output_type": "display_data"
    },
    {
     "data": {
      "text/html": [
       "<pre>recommendations finished on 28000/52792 queries. users per second: 7605.38</pre>"
      ],
      "text/plain": [
       "recommendations finished on 28000/52792 queries. users per second: 7605.38"
      ]
     },
     "metadata": {},
     "output_type": "display_data"
    },
    {
     "data": {
      "text/html": [
       "<pre>recommendations finished on 29000/52792 queries. users per second: 7618.74</pre>"
      ],
      "text/plain": [
       "recommendations finished on 29000/52792 queries. users per second: 7618.74"
      ]
     },
     "metadata": {},
     "output_type": "display_data"
    },
    {
     "data": {
      "text/html": [
       "<pre>recommendations finished on 30000/52792 queries. users per second: 7601.08</pre>"
      ],
      "text/plain": [
       "recommendations finished on 30000/52792 queries. users per second: 7601.08"
      ]
     },
     "metadata": {},
     "output_type": "display_data"
    },
    {
     "data": {
      "text/html": [
       "<pre>recommendations finished on 31000/52792 queries. users per second: 7613.7</pre>"
      ],
      "text/plain": [
       "recommendations finished on 31000/52792 queries. users per second: 7613.7"
      ]
     },
     "metadata": {},
     "output_type": "display_data"
    },
    {
     "data": {
      "text/html": [
       "<pre>recommendations finished on 32000/52792 queries. users per second: 7597.33</pre>"
      ],
      "text/plain": [
       "recommendations finished on 32000/52792 queries. users per second: 7597.33"
      ]
     },
     "metadata": {},
     "output_type": "display_data"
    },
    {
     "data": {
      "text/html": [
       "<pre>recommendations finished on 33000/52792 queries. users per second: 7609.28</pre>"
      ],
      "text/plain": [
       "recommendations finished on 33000/52792 queries. users per second: 7609.28"
      ]
     },
     "metadata": {},
     "output_type": "display_data"
    },
    {
     "data": {
      "text/html": [
       "<pre>recommendations finished on 34000/52792 queries. users per second: 7594.02</pre>"
      ],
      "text/plain": [
       "recommendations finished on 34000/52792 queries. users per second: 7594.02"
      ]
     },
     "metadata": {},
     "output_type": "display_data"
    },
    {
     "data": {
      "text/html": [
       "<pre>recommendations finished on 35000/52792 queries. users per second: 7579.68</pre>"
      ],
      "text/plain": [
       "recommendations finished on 35000/52792 queries. users per second: 7579.68"
      ]
     },
     "metadata": {},
     "output_type": "display_data"
    },
    {
     "data": {
      "text/html": [
       "<pre>recommendations finished on 36000/52792 queries. users per second: 7591.08</pre>"
      ],
      "text/plain": [
       "recommendations finished on 36000/52792 queries. users per second: 7591.08"
      ]
     },
     "metadata": {},
     "output_type": "display_data"
    },
    {
     "data": {
      "text/html": [
       "<pre>recommendations finished on 37000/52792 queries. users per second: 7577.61</pre>"
      ],
      "text/plain": [
       "recommendations finished on 37000/52792 queries. users per second: 7577.61"
      ]
     },
     "metadata": {},
     "output_type": "display_data"
    },
    {
     "data": {
      "text/html": [
       "<pre>recommendations finished on 38000/52792 queries. users per second: 7564.89</pre>"
      ],
      "text/plain": [
       "recommendations finished on 38000/52792 queries. users per second: 7564.89"
      ]
     },
     "metadata": {},
     "output_type": "display_data"
    },
    {
     "data": {
      "text/html": [
       "<pre>recommendations finished on 39000/52792 queries. users per second: 7552.86</pre>"
      ],
      "text/plain": [
       "recommendations finished on 39000/52792 queries. users per second: 7552.86"
      ]
     },
     "metadata": {},
     "output_type": "display_data"
    },
    {
     "data": {
      "text/html": [
       "<pre>recommendations finished on 40000/52792 queries. users per second: 7541.47</pre>"
      ],
      "text/plain": [
       "recommendations finished on 40000/52792 queries. users per second: 7541.47"
      ]
     },
     "metadata": {},
     "output_type": "display_data"
    },
    {
     "data": {
      "text/html": [
       "<pre>recommendations finished on 41000/52792 queries. users per second: 7552.3</pre>"
      ],
      "text/plain": [
       "recommendations finished on 41000/52792 queries. users per second: 7552.3"
      ]
     },
     "metadata": {},
     "output_type": "display_data"
    },
    {
     "data": {
      "text/html": [
       "<pre>recommendations finished on 42000/52792 queries. users per second: 7541.47</pre>"
      ],
      "text/plain": [
       "recommendations finished on 42000/52792 queries. users per second: 7541.47"
      ]
     },
     "metadata": {},
     "output_type": "display_data"
    },
    {
     "data": {
      "text/html": [
       "<pre>recommendations finished on 43000/52792 queries. users per second: 7510.64</pre>"
      ],
      "text/plain": [
       "recommendations finished on 43000/52792 queries. users per second: 7510.64"
      ]
     },
     "metadata": {},
     "output_type": "display_data"
    },
    {
     "data": {
      "text/html": [
       "<pre>recommendations finished on 44000/52792 queries. users per second: 7521.35</pre>"
      ],
      "text/plain": [
       "recommendations finished on 44000/52792 queries. users per second: 7521.35"
      ]
     },
     "metadata": {},
     "output_type": "display_data"
    },
    {
     "data": {
      "text/html": [
       "<pre>recommendations finished on 45000/52792 queries. users per second: 7512.01</pre>"
      ],
      "text/plain": [
       "recommendations finished on 45000/52792 queries. users per second: 7512.01"
      ]
     },
     "metadata": {},
     "output_type": "display_data"
    },
    {
     "data": {
      "text/html": [
       "<pre>recommendations finished on 46000/52792 queries. users per second: 7503.09</pre>"
      ],
      "text/plain": [
       "recommendations finished on 46000/52792 queries. users per second: 7503.09"
      ]
     },
     "metadata": {},
     "output_type": "display_data"
    },
    {
     "data": {
      "text/html": [
       "<pre>recommendations finished on 47000/52792 queries. users per second: 7475.97</pre>"
      ],
      "text/plain": [
       "recommendations finished on 47000/52792 queries. users per second: 7475.97"
      ]
     },
     "metadata": {},
     "output_type": "display_data"
    },
    {
     "data": {
      "text/html": [
       "<pre>recommendations finished on 48000/52792 queries. users per second: 7450.16</pre>"
      ],
      "text/plain": [
       "recommendations finished on 48000/52792 queries. users per second: 7450.16"
      ]
     },
     "metadata": {},
     "output_type": "display_data"
    },
    {
     "data": {
      "text/html": [
       "<pre>recommendations finished on 49000/52792 queries. users per second: 7425.58</pre>"
      ],
      "text/plain": [
       "recommendations finished on 49000/52792 queries. users per second: 7425.58"
      ]
     },
     "metadata": {},
     "output_type": "display_data"
    },
    {
     "data": {
      "text/html": [
       "<pre>recommendations finished on 50000/52792 queries. users per second: 7317.63</pre>"
      ],
      "text/plain": [
       "recommendations finished on 50000/52792 queries. users per second: 7317.63"
      ]
     },
     "metadata": {},
     "output_type": "display_data"
    },
    {
     "data": {
      "text/html": [
       "<pre>recommendations finished on 51000/52792 queries. users per second: 7091.6</pre>"
      ],
      "text/plain": [
       "recommendations finished on 51000/52792 queries. users per second: 7091.6"
      ]
     },
     "metadata": {},
     "output_type": "display_data"
    },
    {
     "data": {
      "text/html": [
       "<pre>recommendations finished on 52000/52792 queries. users per second: 6830.59</pre>"
      ],
      "text/plain": [
       "recommendations finished on 52000/52792 queries. users per second: 6830.59"
      ]
     },
     "metadata": {},
     "output_type": "display_data"
    }
   ],
   "source": [
    "recom=content_based_model.recommend()"
   ]
  },
  {
   "cell_type": "code",
   "execution_count": 10,
   "metadata": {
    "collapsed": false
   },
   "outputs": [
    {
     "name": "stdout",
     "output_type": "stream",
     "text": [
      "+---------+---------+-----------------+------+\n",
      "| user_id | book_id |      score      | rank |\n",
      "+---------+---------+-----------------+------+\n",
      "|  20090  |   6420  |  0.092180741917 |  1   |\n",
      "|  20090  |   5845  |  0.092123967951 |  2   |\n",
      "|  20090  |  527862 | 0.0917508439584 |  3   |\n",
      "|  20090  |  40320  | 0.0898888241161 |  4   |\n",
      "|  20090  |   5352  | 0.0898487134413 |  5   |\n",
      "|  20090  | 3216451 |  0.089791979573 |  6   |\n",
      "|  20090  |  31357  | 0.0878054120324 |  7   |\n",
      "|  20090  | 2722413 | 0.0874978238886 |  8   |\n",
      "|  20090  |  20253  |  0.087200125781 |  9   |\n",
      "|  20090  |  60211  | 0.0870437827977 |  10  |\n",
      "|  37939  |   5354  | 0.0780126517234 |  1   |\n",
      "|  37939  |   5355  | 0.0731144391972 |  2   |\n",
      "|  37939  |   5348  | 0.0727735978106 |  3   |\n",
      "|  37939  |   5351  | 0.0725376670775 |  4   |\n",
      "|  37939  |   5345  | 0.0725338964359 |  5   |\n",
      "|  37939  |   5356  | 0.0723513896051 |  6   |\n",
      "|  37939  |  18999  | 0.0719370660575 |  7   |\n",
      "|  37939  |   5346  | 0.0714693963528 |  8   |\n",
      "|  37939  |  93722  |  0.071334152118 |  9   |\n",
      "|  37939  |   5360  | 0.0711158695428 |  10  |\n",
      "|  10588  |   7069  | 0.0185021674633 |  1   |\n",
      "|  10588  |   5890  | 0.0183962965012 |  2   |\n",
      "|  10588  |   6708  |  0.012253793478 |  3   |\n",
      "|  10588  |  18630  | 0.0121876251698 |  4   |\n",
      "|  10588  |   122   | 0.0120815753937 |  5   |\n",
      "+---------+---------+-----------------+------+\n",
      "[527920 rows x 4 columns]\n",
      "\n"
     ]
    }
   ],
   "source": [
    "recom.print_rows(num_rows=25)"
   ]
  },
  {
   "cell_type": "code",
   "execution_count": 11,
   "metadata": {
    "collapsed": false
   },
   "outputs": [
    {
     "data": {
      "text/html": [
       "<pre>recommendations finished on 1000/43154 queries. users per second: 5827.47</pre>"
      ],
      "text/plain": [
       "recommendations finished on 1000/43154 queries. users per second: 5827.47"
      ]
     },
     "metadata": {},
     "output_type": "display_data"
    },
    {
     "data": {
      "text/html": [
       "<pre>recommendations finished on 2000/43154 queries. users per second: 5827.49</pre>"
      ],
      "text/plain": [
       "recommendations finished on 2000/43154 queries. users per second: 5827.49"
      ]
     },
     "metadata": {},
     "output_type": "display_data"
    },
    {
     "data": {
      "text/html": [
       "<pre>recommendations finished on 3000/43154 queries. users per second: 5656.1</pre>"
      ],
      "text/plain": [
       "recommendations finished on 3000/43154 queries. users per second: 5656.1"
      ]
     },
     "metadata": {},
     "output_type": "display_data"
    },
    {
     "data": {
      "text/html": [
       "<pre>recommendations finished on 4000/43154 queries. users per second: 5697.99</pre>"
      ],
      "text/plain": [
       "recommendations finished on 4000/43154 queries. users per second: 5697.99"
      ]
     },
     "metadata": {},
     "output_type": "display_data"
    },
    {
     "data": {
      "text/html": [
       "<pre>recommendations finished on 5000/43154 queries. users per second: 5526.07</pre>"
      ],
      "text/plain": [
       "recommendations finished on 5000/43154 queries. users per second: 5526.07"
      ]
     },
     "metadata": {},
     "output_type": "display_data"
    },
    {
     "data": {
      "text/html": [
       "<pre>recommendations finished on 6000/43154 queries. users per second: 5574.13</pre>"
      ],
      "text/plain": [
       "recommendations finished on 6000/43154 queries. users per second: 5574.13"
      ]
     },
     "metadata": {},
     "output_type": "display_data"
    },
    {
     "data": {
      "text/html": [
       "<pre>recommendations finished on 7000/43154 queries. users per second: 5539.71</pre>"
      ],
      "text/plain": [
       "recommendations finished on 7000/43154 queries. users per second: 5539.71"
      ]
     },
     "metadata": {},
     "output_type": "display_data"
    },
    {
     "data": {
      "text/html": [
       "<pre>recommendations finished on 8000/43154 queries. users per second: 5398.1</pre>"
      ],
      "text/plain": [
       "recommendations finished on 8000/43154 queries. users per second: 5398.1"
      ]
     },
     "metadata": {},
     "output_type": "display_data"
    },
    {
     "data": {
      "text/html": [
       "<pre>recommendations finished on 9000/43154 queries. users per second: 5292.86</pre>"
      ],
      "text/plain": [
       "recommendations finished on 9000/43154 queries. users per second: 5292.86"
      ]
     },
     "metadata": {},
     "output_type": "display_data"
    },
    {
     "data": {
      "text/html": [
       "<pre>recommendations finished on 10000/43154 queries. users per second: 5254.3</pre>"
      ],
      "text/plain": [
       "recommendations finished on 10000/43154 queries. users per second: 5254.3"
      ]
     },
     "metadata": {},
     "output_type": "display_data"
    },
    {
     "data": {
      "text/html": [
       "<pre>recommendations finished on 11000/43154 queries. users per second: 5184.76</pre>"
      ],
      "text/plain": [
       "recommendations finished on 11000/43154 queries. users per second: 5184.76"
      ]
     },
     "metadata": {},
     "output_type": "display_data"
    },
    {
     "data": {
      "text/html": [
       "<pre>recommendations finished on 12000/43154 queries. users per second: 5128.2</pre>"
      ],
      "text/plain": [
       "recommendations finished on 12000/43154 queries. users per second: 5128.2"
      ]
     },
     "metadata": {},
     "output_type": "display_data"
    },
    {
     "data": {
      "text/html": [
       "<pre>recommendations finished on 13000/43154 queries. users per second: 5050.5</pre>"
      ],
      "text/plain": [
       "recommendations finished on 13000/43154 queries. users per second: 5050.5"
      ]
     },
     "metadata": {},
     "output_type": "display_data"
    },
    {
     "data": {
      "text/html": [
       "<pre>recommendations finished on 14000/43154 queries. users per second: 5013.6</pre>"
      ],
      "text/plain": [
       "recommendations finished on 14000/43154 queries. users per second: 5013.6"
      ]
     },
     "metadata": {},
     "output_type": "display_data"
    },
    {
     "data": {
      "text/html": [
       "<pre>recommendations finished on 15000/43154 queries. users per second: 4982.05</pre>"
      ],
      "text/plain": [
       "recommendations finished on 15000/43154 queries. users per second: 4982.05"
      ]
     },
     "metadata": {},
     "output_type": "display_data"
    },
    {
     "data": {
      "text/html": [
       "<pre>recommendations finished on 16000/43154 queries. users per second: 4930.96</pre>"
      ],
      "text/plain": [
       "recommendations finished on 16000/43154 queries. users per second: 4930.96"
      ]
     },
     "metadata": {},
     "output_type": "display_data"
    },
    {
     "data": {
      "text/html": [
       "<pre>recommendations finished on 17000/43154 queries. users per second: 4953.37</pre>"
      ],
      "text/plain": [
       "recommendations finished on 17000/43154 queries. users per second: 4953.37"
      ]
     },
     "metadata": {},
     "output_type": "display_data"
    },
    {
     "data": {
      "text/html": [
       "<pre>recommendations finished on 18000/43154 queries. users per second: 4909.97</pre>"
      ],
      "text/plain": [
       "recommendations finished on 18000/43154 queries. users per second: 4909.97"
      ]
     },
     "metadata": {},
     "output_type": "display_data"
    },
    {
     "data": {
      "text/html": [
       "<pre>recommendations finished on 19000/43154 queries. users per second: 4891.35</pre>"
      ],
      "text/plain": [
       "recommendations finished on 19000/43154 queries. users per second: 4891.35"
      ]
     },
     "metadata": {},
     "output_type": "display_data"
    },
    {
     "data": {
      "text/html": [
       "<pre>recommendations finished on 20000/43154 queries. users per second: 4893.32</pre>"
      ],
      "text/plain": [
       "recommendations finished on 20000/43154 queries. users per second: 4893.32"
      ]
     },
     "metadata": {},
     "output_type": "display_data"
    },
    {
     "data": {
      "text/html": [
       "<pre>recommendations finished on 21000/43154 queries. users per second: 4895.1</pre>"
      ],
      "text/plain": [
       "recommendations finished on 21000/43154 queries. users per second: 4895.1"
      ]
     },
     "metadata": {},
     "output_type": "display_data"
    },
    {
     "data": {
      "text/html": [
       "<pre>recommendations finished on 22000/43154 queries. users per second: 4879.77</pre>"
      ],
      "text/plain": [
       "recommendations finished on 22000/43154 queries. users per second: 4879.77"
      ]
     },
     "metadata": {},
     "output_type": "display_data"
    },
    {
     "data": {
      "text/html": [
       "<pre>recommendations finished on 23000/43154 queries. users per second: 4865.86</pre>"
      ],
      "text/plain": [
       "recommendations finished on 23000/43154 queries. users per second: 4865.86"
      ]
     },
     "metadata": {},
     "output_type": "display_data"
    },
    {
     "data": {
      "text/html": [
       "<pre>recommendations finished on 24000/43154 queries. users per second: 4853.18</pre>"
      ],
      "text/plain": [
       "recommendations finished on 24000/43154 queries. users per second: 4853.18"
      ]
     },
     "metadata": {},
     "output_type": "display_data"
    },
    {
     "data": {
      "text/html": [
       "<pre>recommendations finished on 25000/43154 queries. users per second: 4841.57</pre>"
      ],
      "text/plain": [
       "recommendations finished on 25000/43154 queries. users per second: 4841.57"
      ]
     },
     "metadata": {},
     "output_type": "display_data"
    },
    {
     "data": {
      "text/html": [
       "<pre>recommendations finished on 26000/43154 queries. users per second: 4830.91</pre>"
      ],
      "text/plain": [
       "recommendations finished on 26000/43154 queries. users per second: 4830.91"
      ]
     },
     "metadata": {},
     "output_type": "display_data"
    },
    {
     "data": {
      "text/html": [
       "<pre>recommendations finished on 27000/43154 queries. users per second: 4807.68</pre>"
      ],
      "text/plain": [
       "recommendations finished on 27000/43154 queries. users per second: 4807.68"
      ]
     },
     "metadata": {},
     "output_type": "display_data"
    },
    {
     "data": {
      "text/html": [
       "<pre>recommendations finished on 28000/43154 queries. users per second: 4799.11</pre>"
      ],
      "text/plain": [
       "recommendations finished on 28000/43154 queries. users per second: 4799.11"
      ]
     },
     "metadata": {},
     "output_type": "display_data"
    },
    {
     "data": {
      "text/html": [
       "<pre>recommendations finished on 29000/43154 queries. users per second: 4803.54</pre>"
      ],
      "text/plain": [
       "recommendations finished on 29000/43154 queries. users per second: 4803.54"
      ]
     },
     "metadata": {},
     "output_type": "display_data"
    },
    {
     "data": {
      "text/html": [
       "<pre>recommendations finished on 30000/43154 queries. users per second: 4795.69</pre>"
      ],
      "text/plain": [
       "recommendations finished on 30000/43154 queries. users per second: 4795.69"
      ]
     },
     "metadata": {},
     "output_type": "display_data"
    },
    {
     "data": {
      "text/html": [
       "<pre>recommendations finished on 31000/43154 queries. users per second: 4799.94</pre>"
      ],
      "text/plain": [
       "recommendations finished on 31000/43154 queries. users per second: 4799.94"
      ]
     },
     "metadata": {},
     "output_type": "display_data"
    },
    {
     "data": {
      "text/html": [
       "<pre>recommendations finished on 32000/43154 queries. users per second: 4803.93</pre>"
      ],
      "text/plain": [
       "recommendations finished on 32000/43154 queries. users per second: 4803.93"
      ]
     },
     "metadata": {},
     "output_type": "display_data"
    },
    {
     "data": {
      "text/html": [
       "<pre>recommendations finished on 33000/43154 queries. users per second: 4807.68</pre>"
      ],
      "text/plain": [
       "recommendations finished on 33000/43154 queries. users per second: 4807.68"
      ]
     },
     "metadata": {},
     "output_type": "display_data"
    },
    {
     "data": {
      "text/html": [
       "<pre>recommendations finished on 34000/43154 queries. users per second: 4811.22</pre>"
      ],
      "text/plain": [
       "recommendations finished on 34000/43154 queries. users per second: 4811.22"
      ]
     },
     "metadata": {},
     "output_type": "display_data"
    },
    {
     "data": {
      "text/html": [
       "<pre>recommendations finished on 35000/43154 queries. users per second: 4804.25</pre>"
      ],
      "text/plain": [
       "recommendations finished on 35000/43154 queries. users per second: 4804.25"
      ]
     },
     "metadata": {},
     "output_type": "display_data"
    },
    {
     "data": {
      "text/html": [
       "<pre>recommendations finished on 36000/43154 queries. users per second: 4807.68</pre>"
      ],
      "text/plain": [
       "recommendations finished on 36000/43154 queries. users per second: 4807.68"
      ]
     },
     "metadata": {},
     "output_type": "display_data"
    },
    {
     "data": {
      "text/html": [
       "<pre>recommendations finished on 37000/43154 queries. users per second: 4810.93</pre>"
      ],
      "text/plain": [
       "recommendations finished on 37000/43154 queries. users per second: 4810.93"
      ]
     },
     "metadata": {},
     "output_type": "display_data"
    },
    {
     "data": {
      "text/html": [
       "<pre>recommendations finished on 38000/43154 queries. users per second: 4814.02</pre>"
      ],
      "text/plain": [
       "recommendations finished on 38000/43154 queries. users per second: 4814.02"
      ]
     },
     "metadata": {},
     "output_type": "display_data"
    },
    {
     "data": {
      "text/html": [
       "<pre>recommendations finished on 39000/43154 queries. users per second: 4807.68</pre>"
      ],
      "text/plain": [
       "recommendations finished on 39000/43154 queries. users per second: 4807.68"
      ]
     },
     "metadata": {},
     "output_type": "display_data"
    },
    {
     "data": {
      "text/html": [
       "<pre>recommendations finished on 40000/43154 queries. users per second: 4801.68</pre>"
      ],
      "text/plain": [
       "recommendations finished on 40000/43154 queries. users per second: 4801.68"
      ]
     },
     "metadata": {},
     "output_type": "display_data"
    },
    {
     "data": {
      "text/html": [
       "<pre>recommendations finished on 41000/43154 queries. users per second: 4778.55</pre>"
      ],
      "text/plain": [
       "recommendations finished on 41000/43154 queries. users per second: 4778.55"
      ]
     },
     "metadata": {},
     "output_type": "display_data"
    },
    {
     "data": {
      "text/html": [
       "<pre>recommendations finished on 42000/43154 queries. users per second: 4748.33</pre>"
      ],
      "text/plain": [
       "recommendations finished on 42000/43154 queries. users per second: 4748.33"
      ]
     },
     "metadata": {},
     "output_type": "display_data"
    },
    {
     "data": {
      "text/html": [
       "<pre>recommendations finished on 43000/43154 queries. users per second: 4727.97</pre>"
      ],
      "text/plain": [
       "recommendations finished on 43000/43154 queries. users per second: 4727.97"
      ]
     },
     "metadata": {},
     "output_type": "display_data"
    },
    {
     "name": "stdout",
     "output_type": "stream",
     "text": [
      "\n",
      "Precision and recall summary statistics by cutoff\n",
      "+--------+-------------------+-------------------+\n",
      "| cutoff |   mean_precision  |    mean_recall    |\n",
      "+--------+-------------------+-------------------+\n",
      "|   1    | 0.000718357510312 | 0.000200967337052 |\n",
      "|   2    | 0.000637252630115 | 0.000249539862666 |\n",
      "|   3    | 0.000602493395745 | 0.000337378424941 |\n",
      "|   4    | 0.000544561338462 | 0.000358247054087 |\n",
      "|   5    | 0.000491263845762 | 0.000371120325228 |\n",
      "|   6    | 0.000475042869722 | 0.000396407552233 |\n",
      "|   7    | 0.000430352425532 | 0.000405479021652 |\n",
      "|   8    | 0.000408421003847 | 0.000417652600107 |\n",
      "|   9    | 0.000381064199019 | 0.000436454795513 |\n",
      "|   10   | 0.000361496037447 | 0.000450333428821 |\n",
      "+--------+-------------------+-------------------+\n",
      "[10 rows x 3 columns]\n",
      "\n",
      "('\\nOverall RMSE: ', 3.9786308819515557)\n",
      "\n",
      "Per User RMSE (best)\n",
      "+---------+-------+------+\n",
      "| user_id | count | rmse |\n",
      "+---------+-------+------+\n",
      "|  45629  |   1   | 1.0  |\n",
      "+---------+-------+------+\n",
      "[1 rows x 3 columns]\n",
      "\n",
      "\n",
      "Per User RMSE (worst)\n",
      "+---------+-------+------+\n",
      "| user_id | count | rmse |\n",
      "+---------+-------+------+\n",
      "|  26319  |   2   | 5.0  |\n",
      "+---------+-------+------+\n",
      "[1 rows x 3 columns]\n",
      "\n",
      "\n",
      "Per Item RMSE (best)\n",
      "+---------+-------+---------------+\n",
      "| book_id | count |      rmse     |\n",
      "+---------+-------+---------------+\n",
      "|   1793  |   34  | 2.33892886495 |\n",
      "+---------+-------+---------------+\n",
      "[1 rows x 3 columns]\n",
      "\n",
      "\n",
      "Per Item RMSE (worst)\n",
      "+---------+-------+------+\n",
      "| book_id | count | rmse |\n",
      "+---------+-------+------+\n",
      "|   9486  |   3   | 5.0  |\n",
      "+---------+-------+------+\n",
      "[1 rows x 3 columns]\n",
      "\n"
     ]
    },
    {
     "data": {
      "text/plain": [
       "{'precision_recall_by_user': Columns:\n",
       " \tuser_id\tint\n",
       " \tcutoff\tint\n",
       " \tprecision\tfloat\n",
       " \trecall\tfloat\n",
       " \tcount\tint\n",
       " \n",
       " Rows: 776772\n",
       " \n",
       " Data:\n",
       " +---------+--------+-----------+--------+-------+\n",
       " | user_id | cutoff | precision | recall | count |\n",
       " +---------+--------+-----------+--------+-------+\n",
       " |    1    |   1    |    0.0    |  0.0   |   1   |\n",
       " |    1    |   2    |    0.0    |  0.0   |   1   |\n",
       " |    1    |   3    |    0.0    |  0.0   |   1   |\n",
       " |    1    |   4    |    0.0    |  0.0   |   1   |\n",
       " |    1    |   5    |    0.0    |  0.0   |   1   |\n",
       " |    1    |   6    |    0.0    |  0.0   |   1   |\n",
       " |    1    |   7    |    0.0    |  0.0   |   1   |\n",
       " |    1    |   8    |    0.0    |  0.0   |   1   |\n",
       " |    1    |   9    |    0.0    |  0.0   |   1   |\n",
       " |    1    |   10   |    0.0    |  0.0   |   1   |\n",
       " +---------+--------+-----------+--------+-------+\n",
       " [776772 rows x 5 columns]\n",
       " Note: Only the head of the SFrame is printed.\n",
       " You can use print_rows(num_rows=m, num_columns=n) to print more rows and columns.,\n",
       " 'precision_recall_overall': Columns:\n",
       " \tcutoff\tint\n",
       " \tprecision\tfloat\n",
       " \trecall\tfloat\n",
       " \n",
       " Rows: 18\n",
       " \n",
       " Data:\n",
       " +--------+-------------------+-------------------+\n",
       " | cutoff |     precision     |       recall      |\n",
       " +--------+-------------------+-------------------+\n",
       " |   1    | 0.000718357510312 | 0.000200967337052 |\n",
       " |   2    | 0.000637252630115 | 0.000249539862666 |\n",
       " |   3    | 0.000602493395745 | 0.000337378424941 |\n",
       " |   4    | 0.000544561338462 | 0.000358247054087 |\n",
       " |   5    | 0.000491263845762 | 0.000371120325228 |\n",
       " |   6    | 0.000475042869722 | 0.000396407552233 |\n",
       " |   7    | 0.000430352425532 | 0.000405479021652 |\n",
       " |   8    | 0.000408421003847 | 0.000417652600107 |\n",
       " |   9    | 0.000381064199018 | 0.000436454795513 |\n",
       " |   10   | 0.000361496037447 | 0.000450333428821 |\n",
       " +--------+-------------------+-------------------+\n",
       " [18 rows x 3 columns]\n",
       " Note: Only the head of the SFrame is printed.\n",
       " You can use print_rows(num_rows=m, num_columns=n) to print more rows and columns.,\n",
       " 'rmse_by_item': Columns:\n",
       " \tbook_id\tint\n",
       " \tcount\tint\n",
       " \trmse\tfloat\n",
       " \n",
       " Rows: 9999\n",
       " \n",
       " Data:\n",
       " +---------+-------+---------------+\n",
       " | book_id | count |      rmse     |\n",
       " +---------+-------+---------------+\n",
       " |   7899  |   27  | 4.30331482912 |\n",
       " |   5288  |   22  | 3.84353057393 |\n",
       " |   3143  |   27  | 4.33333333333 |\n",
       " |   6769  |   26  | 3.88290137358 |\n",
       " |   5684  |   28  | 4.01337051082 |\n",
       " |   2779  |   23  | 3.92317528895 |\n",
       " |   8455  |   24  | 4.53229154696 |\n",
       " |   118   |   26  | 4.17870057094 |\n",
       " |   3988  |   25  | 4.61302503787 |\n",
       " |   5783  |   30  | 3.71034589583 |\n",
       " +---------+-------+---------------+\n",
       " [9999 rows x 3 columns]\n",
       " Note: Only the head of the SFrame is printed.\n",
       " You can use print_rows(num_rows=m, num_columns=n) to print more rows and columns.,\n",
       " 'rmse_by_user': Columns:\n",
       " \tuser_id\tint\n",
       " \tcount\tint\n",
       " \trmse\tfloat\n",
       " \n",
       " Rows: 43154\n",
       " \n",
       " Data:\n",
       " +---------+-------+---------------+\n",
       " | user_id | count |      rmse     |\n",
       " +---------+-------+---------------+\n",
       " |  21855  |   11  | 4.11206650105 |\n",
       " |   7899  |   1   |      3.0      |\n",
       " |  30621  |   1   |      3.0      |\n",
       " |  43116  |   1   |      4.0      |\n",
       " |  27112  |   3   | 4.08248290464 |\n",
       " |  26319  |   2   |      5.0      |\n",
       " |  26439  |   3   | 4.87063715137 |\n",
       " |   5288  |   3   | 2.70801280155 |\n",
       " |  19584  |   2   |      5.0      |\n",
       " |  22098  |   27  | 3.66161267851 |\n",
       " +---------+-------+---------------+\n",
       " [43154 rows x 3 columns]\n",
       " Note: Only the head of the SFrame is printed.\n",
       " You can use print_rows(num_rows=m, num_columns=n) to print more rows and columns.,\n",
       " 'rmse_overall': 3.9786308819515557}"
      ]
     },
     "execution_count": 11,
     "metadata": {},
     "output_type": "execute_result"
    }
   ],
   "source": [
    " content_based_model.evaluate(test_data)"
   ]
  },
  {
   "cell_type": "code",
   "execution_count": 13,
   "metadata": {
    "collapsed": true
   },
   "outputs": [],
   "source": [
    " content_based_model.save('C:/Users/SONY/Desktop/3rdsem/Machine Learning/project/Models/Content based')"
   ]
  },
  {
   "cell_type": "code",
   "execution_count": null,
   "metadata": {
    "collapsed": true
   },
   "outputs": [],
   "source": [
    "\n"
   ]
  },
  {
   "cell_type": "code",
   "execution_count": null,
   "metadata": {
    "collapsed": true
   },
   "outputs": [],
   "source": []
  },
  {
   "cell_type": "code",
   "execution_count": null,
   "metadata": {
    "collapsed": true
   },
   "outputs": [],
   "source": []
  },
  {
   "cell_type": "code",
   "execution_count": null,
   "metadata": {
    "collapsed": true
   },
   "outputs": [],
   "source": []
  },
  {
   "cell_type": "code",
   "execution_count": null,
   "metadata": {
    "collapsed": true
   },
   "outputs": [],
   "source": []
  }
 ],
 "metadata": {
  "kernelspec": {
   "display_name": "Python 2",
   "language": "python",
   "name": "python2"
  },
  "language_info": {
   "codemirror_mode": {
    "name": "ipython",
    "version": 2
   },
   "file_extension": ".py",
   "mimetype": "text/x-python",
   "name": "python",
   "nbconvert_exporter": "python",
   "pygments_lexer": "ipython2",
   "version": "2.7.13"
  }
 },
 "nbformat": 4,
 "nbformat_minor": 0
}
