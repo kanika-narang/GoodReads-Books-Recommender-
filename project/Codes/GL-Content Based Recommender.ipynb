{
 "cells": [
  {
   "cell_type": "code",
   "execution_count": 1,
   "metadata": {
    "collapsed": false
   },
   "outputs": [
    {
     "name": "stdout",
     "output_type": "stream",
     "text": [
      "This non-commercial license of GraphLab Create for academic use is assigned to kanika.narang@iiitb.org and will expire on October 13, 2018.\n"
     ]
    },
    {
     "name": "stderr",
     "output_type": "stream",
     "text": [
      "[INFO] graphlab.cython.cy_server: GraphLab Create v2.1 started. Logging: /tmp/graphlab_server_1508074739.log\n"
     ]
    }
   ],
   "source": [
    "import graphlab\n",
    "import csv\n",
    "import pandas as pd\n",
    "train_csv_data= pd.read_csv('/home/kanika/Documents/3rdsem/Machine Learning/project/DATA/training_data.csv', sep=',')\n",
    "test_csv_data=pd.read_csv('/home/kanika/Documents/3rdsem/Machine Learning/project/DATA/test_data.csv', sep=',')\n",
    "train_data = graphlab.SFrame(train_csv_data)\n",
    "test_data= graphlab.SFrame(test_csv_data)"
   ]
  },
  {
   "cell_type": "code",
   "execution_count": 9,
   "metadata": {
    "collapsed": true
   },
   "outputs": [],
   "source": [
    "Bookdata_csv = pd.read_csv('/home/kanika/Documents/3rdsem/Machine Learning/project/DATA/mergefullnewdata.csv', sep=',')"
   ]
  },
  {
   "cell_type": "code",
   "execution_count": 10,
   "metadata": {
    "collapsed": false
   },
   "outputs": [],
   "source": [
    "book_data= graphlab.SFrame(Bookdata_csv)"
   ]
  },
  {
   "cell_type": "code",
   "execution_count": 11,
   "metadata": {
    "collapsed": false
   },
   "outputs": [
    {
     "name": "stdout",
     "output_type": "stream",
     "text": [
      "WARNING: The ItemContentRecommender model is still in beta.\n",
      "WARNING: This feature transformer is still in beta, and some interpretation rules may change in the future.\n",
      "('Applying transform:\\n', Class             : AutoVectorizer\n",
      "\n",
      "Model Fields\n",
      "------------\n",
      "Features          : ['Unnamed: 0', 'author', 'description0', 'Language', 'NumberofRatings', 'GoodReadAverageRating', 'description1', 'title', 'book_id', 'goodreads_title', 'goodreads_book_id', 'goodreads_work_id']\n",
      "Excluded Features : ['id']\n",
      "\n",
      "Column                 Type   Interpretation  Transforms                         Output Type\n",
      "---------------------  -----  --------------  ---------------------------------  -----------\n",
      "Unnamed: 0             int    numerical       None                               int        \n",
      "author                 str    categorical     None                               str        \n",
      "description0           str    long_text       2-Word NGram Counts -> TFIDF       dict       \n",
      "Language               str    categorical     None                               str        \n",
      "NumberofRatings        int    numerical       None                               int        \n",
      "GoodReadAverageRating  float  numerical       None                               float      \n",
      "description1           str    long_text       2-Word NGram Counts -> TFIDF       dict       \n",
      "title                  str    short_text      3-Character NGram Counts -> TFIDF  dict       \n",
      "book_id                int    numerical       None                               int        \n",
      "goodreads_title        str    short_text      3-Character NGram Counts -> TFIDF  dict       \n",
      "goodreads_book_id      int    numerical       None                               int        \n",
      "goodreads_work_id      int    numerical       None                               int        \n",
      "\n",
      ")\n"
     ]
    },
    {
     "data": {
      "text/html": [
       "<pre>Recsys training: model = item_content_recommender</pre>"
      ],
      "text/plain": [
       "Recsys training: model = item_content_recommender"
      ]
     },
     "metadata": {},
     "output_type": "display_data"
    },
    {
     "name": "stdout",
     "output_type": "stream",
     "text": [
      "Defaulting to brute force instead of ball tree because there are multiple distance components.\n"
     ]
    },
    {
     "data": {
      "text/html": [
       "<pre>Starting brute force nearest neighbors model training.</pre>"
      ],
      "text/plain": [
       "Starting brute force nearest neighbors model training."
      ]
     },
     "metadata": {},
     "output_type": "display_data"
    },
    {
     "data": {
      "text/html": [
       "<pre>Starting pairwise querying.</pre>"
      ],
      "text/plain": [
       "Starting pairwise querying."
      ]
     },
     "metadata": {},
     "output_type": "display_data"
    },
    {
     "data": {
      "text/html": [
       "<pre>+--------------+---------+-------------+--------------+</pre>"
      ],
      "text/plain": [
       "+--------------+---------+-------------+--------------+"
      ]
     },
     "metadata": {},
     "output_type": "display_data"
    },
    {
     "data": {
      "text/html": [
       "<pre>| Query points | # Pairs | % Complete. | Elapsed Time |</pre>"
      ],
      "text/plain": [
       "| Query points | # Pairs | % Complete. | Elapsed Time |"
      ]
     },
     "metadata": {},
     "output_type": "display_data"
    },
    {
     "data": {
      "text/html": [
       "<pre>+--------------+---------+-------------+--------------+</pre>"
      ],
      "text/plain": [
       "+--------------+---------+-------------+--------------+"
      ]
     },
     "metadata": {},
     "output_type": "display_data"
    },
    {
     "data": {
      "text/html": [
       "<pre>| 1            | 9593    | 0.0104243   | 184.867ms    |</pre>"
      ],
      "text/plain": [
       "| 1            | 9593    | 0.0104243   | 184.867ms    |"
      ]
     },
     "metadata": {},
     "output_type": "display_data"
    },
    {
     "data": {
      "text/html": [
       "<pre>| 158          | 1515694 | 1.64703     | 1.18s        |</pre>"
      ],
      "text/plain": [
       "| 158          | 1515694 | 1.64703     | 1.18s        |"
      ]
     },
     "metadata": {},
     "output_type": "display_data"
    },
    {
     "data": {
      "text/html": [
       "<pre>| 313          | 3002609 | 3.2628      | 2.18s        |</pre>"
      ],
      "text/plain": [
       "| 313          | 3002609 | 3.2628      | 2.18s        |"
      ]
     },
     "metadata": {},
     "output_type": "display_data"
    },
    {
     "data": {
      "text/html": [
       "<pre>| 473          | 4537489 | 4.93068     | 3.19s        |</pre>"
      ],
      "text/plain": [
       "| 473          | 4537489 | 4.93068     | 3.19s        |"
      ]
     },
     "metadata": {},
     "output_type": "display_data"
    },
    {
     "data": {
      "text/html": [
       "<pre>| 633          | 6072369 | 6.59856     | 4.19s        |</pre>"
      ],
      "text/plain": [
       "| 633          | 6072369 | 6.59856     | 4.19s        |"
      ]
     },
     "metadata": {},
     "output_type": "display_data"
    },
    {
     "data": {
      "text/html": [
       "<pre>| 795          | 7626435 | 8.28729     | 5.18s        |</pre>"
      ],
      "text/plain": [
       "| 795          | 7626435 | 8.28729     | 5.18s        |"
      ]
     },
     "metadata": {},
     "output_type": "display_data"
    },
    {
     "data": {
      "text/html": [
       "<pre>| 956          | 9170908 | 9.9656      | 6.20s        |</pre>"
      ],
      "text/plain": [
       "| 956          | 9170908 | 9.9656      | 6.20s        |"
      ]
     },
     "metadata": {},
     "output_type": "display_data"
    },
    {
     "data": {
      "text/html": [
       "<pre>| 1116         | 1.1e+07 | 11.6335     | 7.18s        |</pre>"
      ],
      "text/plain": [
       "| 1116         | 1.1e+07 | 11.6335     | 7.18s        |"
      ]
     },
     "metadata": {},
     "output_type": "display_data"
    },
    {
     "data": {
      "text/html": [
       "<pre>| 1280         | 1.2e+07 | 13.3431     | 8.19s        |</pre>"
      ],
      "text/plain": [
       "| 1280         | 1.2e+07 | 13.3431     | 8.19s        |"
      ]
     },
     "metadata": {},
     "output_type": "display_data"
    },
    {
     "data": {
      "text/html": [
       "<pre>| 1442         | 1.4e+07 | 15.0318     | 9.18s        |</pre>"
      ],
      "text/plain": [
       "| 1442         | 1.4e+07 | 15.0318     | 9.18s        |"
      ]
     },
     "metadata": {},
     "output_type": "display_data"
    },
    {
     "data": {
      "text/html": [
       "<pre>| 1606         | 1.5e+07 | 16.7414     | 10.19s       |</pre>"
      ],
      "text/plain": [
       "| 1606         | 1.5e+07 | 16.7414     | 10.19s       |"
      ]
     },
     "metadata": {},
     "output_type": "display_data"
    },
    {
     "data": {
      "text/html": [
       "<pre>| 1756         | 1.7e+07 | 18.305      | 11.18s       |</pre>"
      ],
      "text/plain": [
       "| 1756         | 1.7e+07 | 18.305      | 11.18s       |"
      ]
     },
     "metadata": {},
     "output_type": "display_data"
    },
    {
     "data": {
      "text/html": [
       "<pre>| 1899         | 1.8e+07 | 19.7957     | 12.18s       |</pre>"
      ],
      "text/plain": [
       "| 1899         | 1.8e+07 | 19.7957     | 12.18s       |"
      ]
     },
     "metadata": {},
     "output_type": "display_data"
    },
    {
     "data": {
      "text/html": [
       "<pre>| 2055         | 2e+07   | 21.4219     | 13.18s       |</pre>"
      ],
      "text/plain": [
       "| 2055         | 2e+07   | 21.4219     | 13.18s       |"
      ]
     },
     "metadata": {},
     "output_type": "display_data"
    },
    {
     "data": {
      "text/html": [
       "<pre>| 2193         | 2.1e+07 | 22.8604     | 14.19s       |</pre>"
      ],
      "text/plain": [
       "| 2193         | 2.1e+07 | 22.8604     | 14.19s       |"
      ]
     },
     "metadata": {},
     "output_type": "display_data"
    },
    {
     "data": {
      "text/html": [
       "<pre>| 2342         | 2.2e+07 | 24.4136     | 15.19s       |</pre>"
      ],
      "text/plain": [
       "| 2342         | 2.2e+07 | 24.4136     | 15.19s       |"
      ]
     },
     "metadata": {},
     "output_type": "display_data"
    },
    {
     "data": {
      "text/html": [
       "<pre>| 2503         | 2.4e+07 | 26.0919     | 16.19s       |</pre>"
      ],
      "text/plain": [
       "| 2503         | 2.4e+07 | 26.0919     | 16.19s       |"
      ]
     },
     "metadata": {},
     "output_type": "display_data"
    },
    {
     "data": {
      "text/html": [
       "<pre>| 2666         | 2.6e+07 | 27.7911     | 17.18s       |</pre>"
      ],
      "text/plain": [
       "| 2666         | 2.6e+07 | 27.7911     | 17.18s       |"
      ]
     },
     "metadata": {},
     "output_type": "display_data"
    },
    {
     "data": {
      "text/html": [
       "<pre>| 2833         | 2.7e+07 | 29.532      | 18.19s       |</pre>"
      ],
      "text/plain": [
       "| 2833         | 2.7e+07 | 29.532      | 18.19s       |"
      ]
     },
     "metadata": {},
     "output_type": "display_data"
    },
    {
     "data": {
      "text/html": [
       "<pre>| 2986         | 2.9e+07 | 31.1269     | 19.20s       |</pre>"
      ],
      "text/plain": [
       "| 2986         | 2.9e+07 | 31.1269     | 19.20s       |"
      ]
     },
     "metadata": {},
     "output_type": "display_data"
    },
    {
     "data": {
      "text/html": [
       "<pre>| 3137         | 3e+07   | 32.7009     | 20.20s       |</pre>"
      ],
      "text/plain": [
       "| 3137         | 3e+07   | 32.7009     | 20.20s       |"
      ]
     },
     "metadata": {},
     "output_type": "display_data"
    },
    {
     "data": {
      "text/html": [
       "<pre>| 3297         | 3.2e+07 | 34.3688     | 21.19s       |</pre>"
      ],
      "text/plain": [
       "| 3297         | 3.2e+07 | 34.3688     | 21.19s       |"
      ]
     },
     "metadata": {},
     "output_type": "display_data"
    },
    {
     "data": {
      "text/html": [
       "<pre>| 3456         | 3.3e+07 | 36.0263     | 22.19s       |</pre>"
      ],
      "text/plain": [
       "| 3456         | 3.3e+07 | 36.0263     | 22.19s       |"
      ]
     },
     "metadata": {},
     "output_type": "display_data"
    },
    {
     "data": {
      "text/html": [
       "<pre>| 3620         | 3.5e+07 | 37.7358     | 23.19s       |</pre>"
      ],
      "text/plain": [
       "| 3620         | 3.5e+07 | 37.7358     | 23.19s       |"
      ]
     },
     "metadata": {},
     "output_type": "display_data"
    },
    {
     "data": {
      "text/html": [
       "<pre>| 3781         | 3.6e+07 | 39.4142     | 24.18s       |</pre>"
      ],
      "text/plain": [
       "| 3781         | 3.6e+07 | 39.4142     | 24.18s       |"
      ]
     },
     "metadata": {},
     "output_type": "display_data"
    },
    {
     "data": {
      "text/html": [
       "<pre>| 3945         | 3.8e+07 | 41.1237     | 25.18s       |</pre>"
      ],
      "text/plain": [
       "| 3945         | 3.8e+07 | 41.1237     | 25.18s       |"
      ]
     },
     "metadata": {},
     "output_type": "display_data"
    },
    {
     "data": {
      "text/html": [
       "<pre>| 4107         | 3.9e+07 | 42.8125     | 26.19s       |</pre>"
      ],
      "text/plain": [
       "| 4107         | 3.9e+07 | 42.8125     | 26.19s       |"
      ]
     },
     "metadata": {},
     "output_type": "display_data"
    },
    {
     "data": {
      "text/html": [
       "<pre>| 4273         | 4.1e+07 | 44.5429     | 27.19s       |</pre>"
      ],
      "text/plain": [
       "| 4273         | 4.1e+07 | 44.5429     | 27.19s       |"
      ]
     },
     "metadata": {},
     "output_type": "display_data"
    },
    {
     "data": {
      "text/html": [
       "<pre>| 4437         | 4.3e+07 | 46.2525     | 28.19s       |</pre>"
      ],
      "text/plain": [
       "| 4437         | 4.3e+07 | 46.2525     | 28.19s       |"
      ]
     },
     "metadata": {},
     "output_type": "display_data"
    },
    {
     "data": {
      "text/html": [
       "<pre>| 4599         | 4.4e+07 | 47.9412     | 29.19s       |</pre>"
      ],
      "text/plain": [
       "| 4599         | 4.4e+07 | 47.9412     | 29.19s       |"
      ]
     },
     "metadata": {},
     "output_type": "display_data"
    },
    {
     "data": {
      "text/html": [
       "<pre>| 4761         | 4.6e+07 | 49.6299     | 30.18s       |</pre>"
      ],
      "text/plain": [
       "| 4761         | 4.6e+07 | 49.6299     | 30.18s       |"
      ]
     },
     "metadata": {},
     "output_type": "display_data"
    },
    {
     "data": {
      "text/html": [
       "<pre>| 4924         | 4.7e+07 | 51.3291     | 31.19s       |</pre>"
      ],
      "text/plain": [
       "| 4924         | 4.7e+07 | 51.3291     | 31.19s       |"
      ]
     },
     "metadata": {},
     "output_type": "display_data"
    },
    {
     "data": {
      "text/html": [
       "<pre>| 5089         | 4.9e+07 | 53.0491     | 32.20s       |</pre>"
      ],
      "text/plain": [
       "| 5089         | 4.9e+07 | 53.0491     | 32.20s       |"
      ]
     },
     "metadata": {},
     "output_type": "display_data"
    },
    {
     "data": {
      "text/html": [
       "<pre>| 5251         | 5e+07   | 54.7378     | 33.19s       |</pre>"
      ],
      "text/plain": [
       "| 5251         | 5e+07   | 54.7378     | 33.19s       |"
      ]
     },
     "metadata": {},
     "output_type": "display_data"
    },
    {
     "data": {
      "text/html": [
       "<pre>| 5417         | 5.2e+07 | 56.4683     | 34.19s       |</pre>"
      ],
      "text/plain": [
       "| 5417         | 5.2e+07 | 56.4683     | 34.19s       |"
      ]
     },
     "metadata": {},
     "output_type": "display_data"
    },
    {
     "data": {
      "text/html": [
       "<pre>| 5576         | 5.3e+07 | 58.1257     | 35.19s       |</pre>"
      ],
      "text/plain": [
       "| 5576         | 5.3e+07 | 58.1257     | 35.19s       |"
      ]
     },
     "metadata": {},
     "output_type": "display_data"
    },
    {
     "data": {
      "text/html": [
       "<pre>| 5737         | 5.5e+07 | 59.804      | 36.19s       |</pre>"
      ],
      "text/plain": [
       "| 5737         | 5.5e+07 | 59.804      | 36.19s       |"
      ]
     },
     "metadata": {},
     "output_type": "display_data"
    },
    {
     "data": {
      "text/html": [
       "<pre>| 5892         | 5.7e+07 | 61.4198     | 37.19s       |</pre>"
      ],
      "text/plain": [
       "| 5892         | 5.7e+07 | 61.4198     | 37.19s       |"
      ]
     },
     "metadata": {},
     "output_type": "display_data"
    },
    {
     "data": {
      "text/html": [
       "<pre>| 6055         | 5.8e+07 | 63.1189     | 38.18s       |</pre>"
      ],
      "text/plain": [
       "| 6055         | 5.8e+07 | 63.1189     | 38.18s       |"
      ]
     },
     "metadata": {},
     "output_type": "display_data"
    },
    {
     "data": {
      "text/html": [
       "<pre>| 6216         | 6e+07   | 64.7972     | 39.19s       |</pre>"
      ],
      "text/plain": [
       "| 6216         | 6e+07   | 64.7972     | 39.19s       |"
      ]
     },
     "metadata": {},
     "output_type": "display_data"
    },
    {
     "data": {
      "text/html": [
       "<pre>| 6375         | 6.1e+07 | 66.4547     | 40.19s       |</pre>"
      ],
      "text/plain": [
       "| 6375         | 6.1e+07 | 66.4547     | 40.19s       |"
      ]
     },
     "metadata": {},
     "output_type": "display_data"
    },
    {
     "data": {
      "text/html": [
       "<pre>| 6540         | 6.3e+07 | 68.1747     | 41.18s       |</pre>"
      ],
      "text/plain": [
       "| 6540         | 6.3e+07 | 68.1747     | 41.18s       |"
      ]
     },
     "metadata": {},
     "output_type": "display_data"
    },
    {
     "data": {
      "text/html": [
       "<pre>| 6707         | 6.4e+07 | 69.9156     | 42.18s       |</pre>"
      ],
      "text/plain": [
       "| 6707         | 6.4e+07 | 69.9156     | 42.18s       |"
      ]
     },
     "metadata": {},
     "output_type": "display_data"
    },
    {
     "data": {
      "text/html": [
       "<pre>| 6873         | 6.6e+07 | 71.646      | 43.19s       |</pre>"
      ],
      "text/plain": [
       "| 6873         | 6.6e+07 | 71.646      | 43.19s       |"
      ]
     },
     "metadata": {},
     "output_type": "display_data"
    },
    {
     "data": {
      "text/html": [
       "<pre>| 7033         | 6.7e+07 | 73.3139     | 44.18s       |</pre>"
      ],
      "text/plain": [
       "| 7033         | 6.7e+07 | 73.3139     | 44.18s       |"
      ]
     },
     "metadata": {},
     "output_type": "display_data"
    },
    {
     "data": {
      "text/html": [
       "<pre>| 7199         | 6.9e+07 | 75.0443     | 45.20s       |</pre>"
      ],
      "text/plain": [
       "| 7199         | 6.9e+07 | 75.0443     | 45.20s       |"
      ]
     },
     "metadata": {},
     "output_type": "display_data"
    },
    {
     "data": {
      "text/html": [
       "<pre>| 7357         | 7.1e+07 | 76.6913     | 46.19s       |</pre>"
      ],
      "text/plain": [
       "| 7357         | 7.1e+07 | 76.6913     | 46.19s       |"
      ]
     },
     "metadata": {},
     "output_type": "display_data"
    },
    {
     "data": {
      "text/html": [
       "<pre>| 7526         | 7.2e+07 | 78.453      | 47.21s       |</pre>"
      ],
      "text/plain": [
       "| 7526         | 7.2e+07 | 78.453      | 47.21s       |"
      ]
     },
     "metadata": {},
     "output_type": "display_data"
    },
    {
     "data": {
      "text/html": [
       "<pre>| 7684         | 7.4e+07 | 80.1001     | 48.19s       |</pre>"
      ],
      "text/plain": [
       "| 7684         | 7.4e+07 | 80.1001     | 48.19s       |"
      ]
     },
     "metadata": {},
     "output_type": "display_data"
    },
    {
     "data": {
      "text/html": [
       "<pre>| 7846         | 7.5e+07 | 81.7888     | 49.19s       |</pre>"
      ],
      "text/plain": [
       "| 7846         | 7.5e+07 | 81.7888     | 49.19s       |"
      ]
     },
     "metadata": {},
     "output_type": "display_data"
    },
    {
     "data": {
      "text/html": [
       "<pre>| 8007         | 7.7e+07 | 83.4671     | 50.19s       |</pre>"
      ],
      "text/plain": [
       "| 8007         | 7.7e+07 | 83.4671     | 50.19s       |"
      ]
     },
     "metadata": {},
     "output_type": "display_data"
    },
    {
     "data": {
      "text/html": [
       "<pre>| 8168         | 7.8e+07 | 85.1454     | 51.19s       |</pre>"
      ],
      "text/plain": [
       "| 8168         | 7.8e+07 | 85.1454     | 51.19s       |"
      ]
     },
     "metadata": {},
     "output_type": "display_data"
    },
    {
     "data": {
      "text/html": [
       "<pre>| 8333         | 8e+07   | 86.8654     | 52.19s       |</pre>"
      ],
      "text/plain": [
       "| 8333         | 8e+07   | 86.8654     | 52.19s       |"
      ]
     },
     "metadata": {},
     "output_type": "display_data"
    },
    {
     "data": {
      "text/html": [
       "<pre>| 8494         | 8.1e+07 | 88.5437     | 53.20s       |</pre>"
      ],
      "text/plain": [
       "| 8494         | 8.1e+07 | 88.5437     | 53.20s       |"
      ]
     },
     "metadata": {},
     "output_type": "display_data"
    },
    {
     "data": {
      "text/html": [
       "<pre>| 8656         | 8.3e+07 | 90.2325     | 54.19s       |</pre>"
      ],
      "text/plain": [
       "| 8656         | 8.3e+07 | 90.2325     | 54.19s       |"
      ]
     },
     "metadata": {},
     "output_type": "display_data"
    },
    {
     "data": {
      "text/html": [
       "<pre>| 8822         | 8.5e+07 | 91.9629     | 55.20s       |</pre>"
      ],
      "text/plain": [
       "| 8822         | 8.5e+07 | 91.9629     | 55.20s       |"
      ]
     },
     "metadata": {},
     "output_type": "display_data"
    },
    {
     "data": {
      "text/html": [
       "<pre>| 8986         | 8.6e+07 | 93.6725     | 56.19s       |</pre>"
      ],
      "text/plain": [
       "| 8986         | 8.6e+07 | 93.6725     | 56.19s       |"
      ]
     },
     "metadata": {},
     "output_type": "display_data"
    },
    {
     "data": {
      "text/html": [
       "<pre>| 9153         | 8.8e+07 | 95.4133     | 57.19s       |</pre>"
      ],
      "text/plain": [
       "| 9153         | 8.8e+07 | 95.4133     | 57.19s       |"
      ]
     },
     "metadata": {},
     "output_type": "display_data"
    },
    {
     "data": {
      "text/html": [
       "<pre>| 9319         | 8.9e+07 | 97.1438     | 58.19s       |</pre>"
      ],
      "text/plain": [
       "| 9319         | 8.9e+07 | 97.1438     | 58.19s       |"
      ]
     },
     "metadata": {},
     "output_type": "display_data"
    },
    {
     "data": {
      "text/html": [
       "<pre>| 9483         | 9.1e+07 | 98.8533     | 59.19s       |</pre>"
      ],
      "text/plain": [
       "| 9483         | 9.1e+07 | 98.8533     | 59.19s       |"
      ]
     },
     "metadata": {},
     "output_type": "display_data"
    },
    {
     "data": {
      "text/html": [
       "<pre>| Done         |         | 100         | 1m 0s        |</pre>"
      ],
      "text/plain": [
       "| Done         |         | 100         | 1m 0s        |"
      ]
     },
     "metadata": {},
     "output_type": "display_data"
    },
    {
     "data": {
      "text/html": [
       "<pre>+--------------+---------+-------------+--------------+</pre>"
      ],
      "text/plain": [
       "+--------------+---------+-------------+--------------+"
      ]
     },
     "metadata": {},
     "output_type": "display_data"
    },
    {
     "data": {
      "text/html": [
       "<pre>Preparing data set.</pre>"
      ],
      "text/plain": [
       "Preparing data set."
      ]
     },
     "metadata": {},
     "output_type": "display_data"
    },
    {
     "data": {
      "text/html": [
       "<pre>    Data has 0 observations with 0 users and 9593 items.</pre>"
      ],
      "text/plain": [
       "    Data has 0 observations with 0 users and 9593 items."
      ]
     },
     "metadata": {},
     "output_type": "display_data"
    },
    {
     "data": {
      "text/html": [
       "<pre>    Data prepared in: 2.06865s</pre>"
      ],
      "text/plain": [
       "    Data prepared in: 2.06865s"
      ]
     },
     "metadata": {},
     "output_type": "display_data"
    },
    {
     "data": {
      "text/html": [
       "<pre>Loading user-provided nearest items.</pre>"
      ],
      "text/plain": [
       "Loading user-provided nearest items."
      ]
     },
     "metadata": {},
     "output_type": "display_data"
    },
    {
     "data": {
      "text/html": [
       "<pre>Generating candidate set for working with new users.</pre>"
      ],
      "text/plain": [
       "Generating candidate set for working with new users."
      ]
     },
     "metadata": {},
     "output_type": "display_data"
    },
    {
     "data": {
      "text/html": [
       "<pre>Finished training in 3.20631s</pre>"
      ],
      "text/plain": [
       "Finished training in 3.20631s"
      ]
     },
     "metadata": {},
     "output_type": "display_data"
    }
   ],
   "source": [
    "content_based_model=graphlab.recommender.item_content_recommender.create(book_data,'id')"
   ]
  },
  {
   "cell_type": "code",
   "execution_count": 12,
   "metadata": {
    "collapsed": false
   },
   "outputs": [
    {
     "data": {
      "text/plain": [
       "Class                            : ItemContentRecommender\n",
       "\n",
       "Schema\n",
       "------\n",
       "User ID                          : __implicit_user__\n",
       "Item ID                          : id\n",
       "Target                           : None\n",
       "Additional observation features  : 0\n",
       "User side features               : []\n",
       "Item side features               : ['Unnamed: 0', 'author', 'description0', 'Language', 'NumberofRatings', 'GoodReadAverageRating', 'id', 'description1', 'title', 'book_id', 'goodreads_title', 'goodreads_book_id', 'goodreads_work_id']\n",
       "\n",
       "Statistics\n",
       "----------\n",
       "Number of observations           : 0\n",
       "Number of users                  : 0\n",
       "Number of items                  : 9593\n",
       "\n",
       "Training summary\n",
       "----------------\n",
       "Training time                    : 3.2064\n",
       "\n",
       "Model Parameters\n",
       "----------------\n",
       "Model class                      : ItemContentRecommender\n",
       "threshold                        : 0.0001\n",
       "similarity_type                  : cosine\n",
       "training_method                  : auto\n",
       "\n",
       "Other Settings\n",
       "--------------\n",
       "degree_approximation_threshold   : 4096\n",
       "sparse_density_estimation_sample_size : 4096\n",
       "max_data_passes                  : 4096\n",
       "target_memory_usage              : 8589934592\n",
       "seed_item_set_size               : 50\n",
       "nearest_neighbors_interaction_proportion_threshold : 0.05\n",
       "max_item_neighborhood_size       : 64"
      ]
     },
     "execution_count": 12,
     "metadata": {},
     "output_type": "execute_result"
    }
   ],
   "source": [
    "content_based_model"
   ]
  },
  {
   "cell_type": "code",
   "execution_count": 13,
   "metadata": {
    "collapsed": false
   },
   "outputs": [
    {
     "data": {
      "text/html": [
       "<div style=\"max-height:1000px;max-width:1500px;overflow:auto;\"><table frame=\"box\" rules=\"cols\">\n",
       "    <tr>\n",
       "        <th style=\"padding-left: 1em; padding-right: 1em; text-align: center\">id</th>\n",
       "        <th style=\"padding-left: 1em; padding-right: 1em; text-align: center\">score</th>\n",
       "        <th style=\"padding-left: 1em; padding-right: 1em; text-align: center\">rank</th>\n",
       "    </tr>\n",
       "    <tr>\n",
       "        <td style=\"padding-left: 1em; padding-right: 1em; text-align: center; vertical-align: top\">5470</td>\n",
       "        <td style=\"padding-left: 1em; padding-right: 1em; text-align: center; vertical-align: top\">0.0</td>\n",
       "        <td style=\"padding-left: 1em; padding-right: 1em; text-align: center; vertical-align: top\">1</td>\n",
       "    </tr>\n",
       "    <tr>\n",
       "        <td style=\"padding-left: 1em; padding-right: 1em; text-align: center; vertical-align: top\">1885</td>\n",
       "        <td style=\"padding-left: 1em; padding-right: 1em; text-align: center; vertical-align: top\">0.0</td>\n",
       "        <td style=\"padding-left: 1em; padding-right: 1em; text-align: center; vertical-align: top\">2</td>\n",
       "    </tr>\n",
       "    <tr>\n",
       "        <td style=\"padding-left: 1em; padding-right: 1em; text-align: center; vertical-align: top\">77203</td>\n",
       "        <td style=\"padding-left: 1em; padding-right: 1em; text-align: center; vertical-align: top\">0.0</td>\n",
       "        <td style=\"padding-left: 1em; padding-right: 1em; text-align: center; vertical-align: top\">3</td>\n",
       "    </tr>\n",
       "    <tr>\n",
       "        <td style=\"padding-left: 1em; padding-right: 1em; text-align: center; vertical-align: top\">5107</td>\n",
       "        <td style=\"padding-left: 1em; padding-right: 1em; text-align: center; vertical-align: top\">0.0</td>\n",
       "        <td style=\"padding-left: 1em; padding-right: 1em; text-align: center; vertical-align: top\">4</td>\n",
       "    </tr>\n",
       "    <tr>\n",
       "        <td style=\"padding-left: 1em; padding-right: 1em; text-align: center; vertical-align: top\">13335037</td>\n",
       "        <td style=\"padding-left: 1em; padding-right: 1em; text-align: center; vertical-align: top\">0.0</td>\n",
       "        <td style=\"padding-left: 1em; padding-right: 1em; text-align: center; vertical-align: top\">5</td>\n",
       "    </tr>\n",
       "    <tr>\n",
       "        <td style=\"padding-left: 1em; padding-right: 1em; text-align: center; vertical-align: top\">11870085</td>\n",
       "        <td style=\"padding-left: 1em; padding-right: 1em; text-align: center; vertical-align: top\">0.0</td>\n",
       "        <td style=\"padding-left: 1em; padding-right: 1em; text-align: center; vertical-align: top\">6</td>\n",
       "    </tr>\n",
       "    <tr>\n",
       "        <td style=\"padding-left: 1em; padding-right: 1em; text-align: center; vertical-align: top\">41865</td>\n",
       "        <td style=\"padding-left: 1em; padding-right: 1em; text-align: center; vertical-align: top\">0.0</td>\n",
       "        <td style=\"padding-left: 1em; padding-right: 1em; text-align: center; vertical-align: top\">7</td>\n",
       "    </tr>\n",
       "    <tr>\n",
       "        <td style=\"padding-left: 1em; padding-right: 1em; text-align: center; vertical-align: top\">4671</td>\n",
       "        <td style=\"padding-left: 1em; padding-right: 1em; text-align: center; vertical-align: top\">0.0</td>\n",
       "        <td style=\"padding-left: 1em; padding-right: 1em; text-align: center; vertical-align: top\">8</td>\n",
       "    </tr>\n",
       "    <tr>\n",
       "        <td style=\"padding-left: 1em; padding-right: 1em; text-align: center; vertical-align: top\">2657</td>\n",
       "        <td style=\"padding-left: 1em; padding-right: 1em; text-align: center; vertical-align: top\">0.0</td>\n",
       "        <td style=\"padding-left: 1em; padding-right: 1em; text-align: center; vertical-align: top\">9</td>\n",
       "    </tr>\n",
       "    <tr>\n",
       "        <td style=\"padding-left: 1em; padding-right: 1em; text-align: center; vertical-align: top\">3</td>\n",
       "        <td style=\"padding-left: 1em; padding-right: 1em; text-align: center; vertical-align: top\">0.0</td>\n",
       "        <td style=\"padding-left: 1em; padding-right: 1em; text-align: center; vertical-align: top\">10</td>\n",
       "    </tr>\n",
       "</table>\n",
       "[10 rows x 3 columns]<br/>\n",
       "</div>"
      ],
      "text/plain": [
       "Columns:\n",
       "\tid\tint\n",
       "\tscore\tfloat\n",
       "\trank\tint\n",
       "\n",
       "Rows: 10\n",
       "\n",
       "Data:\n",
       "+----------+-------+------+\n",
       "|    id    | score | rank |\n",
       "+----------+-------+------+\n",
       "|   5470   |  0.0  |  1   |\n",
       "|   1885   |  0.0  |  2   |\n",
       "|  77203   |  0.0  |  3   |\n",
       "|   5107   |  0.0  |  4   |\n",
       "| 13335037 |  0.0  |  5   |\n",
       "| 11870085 |  0.0  |  6   |\n",
       "|  41865   |  0.0  |  7   |\n",
       "|   4671   |  0.0  |  8   |\n",
       "|   2657   |  0.0  |  9   |\n",
       "|    3     |  0.0  |  10  |\n",
       "+----------+-------+------+\n",
       "[10 rows x 3 columns]"
      ]
     },
     "execution_count": 13,
     "metadata": {},
     "output_type": "execute_result"
    }
   ],
   "source": [
    "content_based_model.recommend_from_interactions([0])"
   ]
  },
  {
   "cell_type": "code",
   "execution_count": null,
   "metadata": {
    "collapsed": true
   },
   "outputs": [],
   "source": []
  }
 ],
 "metadata": {
  "kernelspec": {
   "display_name": "Python 2",
   "language": "python",
   "name": "python2"
  },
  "language_info": {
   "codemirror_mode": {
    "name": "ipython",
    "version": 2
   },
   "file_extension": ".py",
   "mimetype": "text/x-python",
   "name": "python",
   "nbconvert_exporter": "python",
   "pygments_lexer": "ipython2",
   "version": "2.7.11"
  }
 },
 "nbformat": 4,
 "nbformat_minor": 0
}
