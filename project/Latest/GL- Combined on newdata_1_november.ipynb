{
 "cells": [
  {
   "cell_type": "code",
   "execution_count": 1,
   "metadata": {
    "collapsed": true
   },
   "outputs": [],
   "source": [
    "import graphlab\n",
    "import csv\n",
    "import pandas as pd\n",
    "import pickle"
   ]
  },
  {
   "cell_type": "code",
   "execution_count": 2,
   "metadata": {
    "collapsed": false
   },
   "outputs": [],
   "source": [
    "# loading total rating data\n",
    "from sklearn import cross_validation as cv\n",
    "total_rating_csv_data= pd.read_csv('C:/Users/IIITB/Desktop/project/DATA/ratings.csv', sep=',')"
   ]
  },
  {
   "cell_type": "code",
   "execution_count": 3,
   "metadata": {
    "collapsed": false
   },
   "outputs": [],
   "source": [
    "#splitting data into training and testing \n",
    "from sklearn import cross_validation as cv\n",
    "train_data, test_data = cv.train_test_split(total_rating_csv_data, test_size=0.30)"
   ]
  },
  {
   "cell_type": "code",
   "execution_count": 4,
   "metadata": {
    "collapsed": true
   },
   "outputs": [],
   "source": [
    "#loading total books data\n",
    "total_Bookdata_csv = pd.read_csv('C:/Users/IIITB/Desktop/project/DATA/mergefullnewdata.csv', sep=',')"
   ]
  },
  {
   "cell_type": "code",
   "execution_count": 5,
   "metadata": {
    "collapsed": false
   },
   "outputs": [
    {
     "name": "stdout",
     "output_type": "stream",
     "text": [
      "This non-commercial license of GraphLab Create for academic use is assigned to tehreem.ansari@iiitb.org and will expire on October 24, 2018.\n"
     ]
    },
    {
     "name": "stderr",
     "output_type": "stream",
     "text": [
      "[INFO] graphlab.cython.cy_server: GraphLab Create v2.1 started. Logging: C:\\Users\\IIITB\\AppData\\Local\\Temp\\graphlab_server_1509676069.log.0\n"
     ]
    }
   ],
   "source": [
    "#Converting them to SFrame\n",
    "rating_data=graphlab.SFrame(total_rating_csv_data)\n",
    "book_data= graphlab.SFrame(total_Bookdata_csv)"
   ]
  },
  {
   "cell_type": "code",
   "execution_count": 6,
   "metadata": {
    "collapsed": false
   },
   "outputs": [],
   "source": [
    "#Converting them to SFrame\n",
    "train=graphlab.SFrame(train_data)\n",
    "test=graphlab.SFrame(test_data)\n",
    "book_data= graphlab.SFrame(total_Bookdata_csv)"
   ]
  },
  {
   "cell_type": "code",
   "execution_count": 7,
   "metadata": {
    "collapsed": false
   },
   "outputs": [
    {
     "data": {
      "text/html": [
       "<pre>Recsys training: model = item_similarity</pre>"
      ],
      "text/plain": [
       "Recsys training: model = item_similarity"
      ]
     },
     "metadata": {},
     "output_type": "display_data"
    },
    {
     "data": {
      "text/html": [
       "<pre>Preparing data set.</pre>"
      ],
      "text/plain": [
       "Preparing data set."
      ]
     },
     "metadata": {},
     "output_type": "display_data"
    },
    {
     "data": {
      "text/html": [
       "<pre>    Data has 687229 observations with 52532 users and 10000 items.</pre>"
      ],
      "text/plain": [
       "    Data has 687229 observations with 52532 users and 10000 items."
      ]
     },
     "metadata": {},
     "output_type": "display_data"
    },
    {
     "data": {
      "text/html": [
       "<pre>    Data prepared in: 0.756607s</pre>"
      ],
      "text/plain": [
       "    Data prepared in: 0.756607s"
      ]
     },
     "metadata": {},
     "output_type": "display_data"
    },
    {
     "data": {
      "text/html": [
       "<pre>Training model from provided data.</pre>"
      ],
      "text/plain": [
       "Training model from provided data."
      ]
     },
     "metadata": {},
     "output_type": "display_data"
    },
    {
     "data": {
      "text/html": [
       "<pre>Gathering per-item and per-user statistics.</pre>"
      ],
      "text/plain": [
       "Gathering per-item and per-user statistics."
      ]
     },
     "metadata": {},
     "output_type": "display_data"
    },
    {
     "data": {
      "text/html": [
       "<pre>+--------------------------------+------------+</pre>"
      ],
      "text/plain": [
       "+--------------------------------+------------+"
      ]
     },
     "metadata": {},
     "output_type": "display_data"
    },
    {
     "data": {
      "text/html": [
       "<pre>| Elapsed Time (Item Statistics) | % Complete |</pre>"
      ],
      "text/plain": [
       "| Elapsed Time (Item Statistics) | % Complete |"
      ]
     },
     "metadata": {},
     "output_type": "display_data"
    },
    {
     "data": {
      "text/html": [
       "<pre>+--------------------------------+------------+</pre>"
      ],
      "text/plain": [
       "+--------------------------------+------------+"
      ]
     },
     "metadata": {},
     "output_type": "display_data"
    },
    {
     "data": {
      "text/html": [
       "<pre>| 31.2ms                         | 1.75       |</pre>"
      ],
      "text/plain": [
       "| 31.2ms                         | 1.75       |"
      ]
     },
     "metadata": {},
     "output_type": "display_data"
    },
    {
     "data": {
      "text/html": [
       "<pre>| 119.003ms                      | 100        |</pre>"
      ],
      "text/plain": [
       "| 119.003ms                      | 100        |"
      ]
     },
     "metadata": {},
     "output_type": "display_data"
    },
    {
     "data": {
      "text/html": [
       "<pre>+--------------------------------+------------+</pre>"
      ],
      "text/plain": [
       "+--------------------------------+------------+"
      ]
     },
     "metadata": {},
     "output_type": "display_data"
    },
    {
     "data": {
      "text/html": [
       "<pre>Setting up lookup tables.</pre>"
      ],
      "text/plain": [
       "Setting up lookup tables."
      ]
     },
     "metadata": {},
     "output_type": "display_data"
    },
    {
     "data": {
      "text/html": [
       "<pre>Processing data in one pass using dense lookup tables.</pre>"
      ],
      "text/plain": [
       "Processing data in one pass using dense lookup tables."
      ]
     },
     "metadata": {},
     "output_type": "display_data"
    },
    {
     "data": {
      "text/html": [
       "<pre>+-------------------------------------+------------------+-----------------+</pre>"
      ],
      "text/plain": [
       "+-------------------------------------+------------------+-----------------+"
      ]
     },
     "metadata": {},
     "output_type": "display_data"
    },
    {
     "data": {
      "text/html": [
       "<pre>| Elapsed Time (Constructing Lookups) | Total % Complete | Items Processed |</pre>"
      ],
      "text/plain": [
       "| Elapsed Time (Constructing Lookups) | Total % Complete | Items Processed |"
      ]
     },
     "metadata": {},
     "output_type": "display_data"
    },
    {
     "data": {
      "text/html": [
       "<pre>+-------------------------------------+------------------+-----------------+</pre>"
      ],
      "text/plain": [
       "+-------------------------------------+------------------+-----------------+"
      ]
     },
     "metadata": {},
     "output_type": "display_data"
    },
    {
     "data": {
      "text/html": [
       "<pre>| 319.812ms                           | 0                | 1               |</pre>"
      ],
      "text/plain": [
       "| 319.812ms                           | 0                | 1               |"
      ]
     },
     "metadata": {},
     "output_type": "display_data"
    },
    {
     "data": {
      "text/html": [
       "<pre>| 1.94s                               | 100              | 10000           |</pre>"
      ],
      "text/plain": [
       "| 1.94s                               | 100              | 10000           |"
      ]
     },
     "metadata": {},
     "output_type": "display_data"
    },
    {
     "data": {
      "text/html": [
       "<pre>+-------------------------------------+------------------+-----------------+</pre>"
      ],
      "text/plain": [
       "+-------------------------------------+------------------+-----------------+"
      ]
     },
     "metadata": {},
     "output_type": "display_data"
    },
    {
     "data": {
      "text/html": [
       "<pre>Finalizing lookup tables.</pre>"
      ],
      "text/plain": [
       "Finalizing lookup tables."
      ]
     },
     "metadata": {},
     "output_type": "display_data"
    },
    {
     "data": {
      "text/html": [
       "<pre>Generating candidate set for working with new users.</pre>"
      ],
      "text/plain": [
       "Generating candidate set for working with new users."
      ]
     },
     "metadata": {},
     "output_type": "display_data"
    },
    {
     "data": {
      "text/html": [
       "<pre>Finished training in 3.06704s</pre>"
      ],
      "text/plain": [
       "Finished training in 3.06704s"
      ]
     },
     "metadata": {},
     "output_type": "display_data"
    }
   ],
   "source": [
    "#creating collaborative model\n",
    "item_sim_model = graphlab.item_similarity_recommender.create(train, user_id='user_id', item_id='book_id', target='rating', similarity_type='pearson')"
   ]
  },
  {
   "cell_type": "code",
   "execution_count": 10,
   "metadata": {
    "collapsed": true
   },
   "outputs": [],
   "source": [
    "#to save the model\n",
    "item_sim_model.save('C:/Users/IIITB/Desktop/1_november_ML_project/tehreem_Model/Collaborative')"
   ]
  },
  {
   "cell_type": "code",
   "execution_count": 8,
   "metadata": {
    "collapsed": false
   },
   "outputs": [
    {
     "data": {
      "text/html": [
       "<pre>recommendations finished on 1000/45321 queries. users per second: 7122.51</pre>"
      ],
      "text/plain": [
       "recommendations finished on 1000/45321 queries. users per second: 7122.51"
      ]
     },
     "metadata": {},
     "output_type": "display_data"
    },
    {
     "data": {
      "text/html": [
       "<pre>recommendations finished on 2000/45321 queries. users per second: 6596.24</pre>"
      ],
      "text/plain": [
       "recommendations finished on 2000/45321 queries. users per second: 6596.24"
      ]
     },
     "metadata": {},
     "output_type": "display_data"
    },
    {
     "data": {
      "text/html": [
       "<pre>recommendations finished on 3000/45321 queries. users per second: 7560.43</pre>"
      ],
      "text/plain": [
       "recommendations finished on 3000/45321 queries. users per second: 7560.43"
      ]
     },
     "metadata": {},
     "output_type": "display_data"
    },
    {
     "data": {
      "text/html": [
       "<pre>recommendations finished on 4000/45321 queries. users per second: 7393.65</pre>"
      ],
      "text/plain": [
       "recommendations finished on 4000/45321 queries. users per second: 7393.65"
      ]
     },
     "metadata": {},
     "output_type": "display_data"
    },
    {
     "data": {
      "text/html": [
       "<pre>recommendations finished on 5000/45321 queries. users per second: 7530.03</pre>"
      ],
      "text/plain": [
       "recommendations finished on 5000/45321 queries. users per second: 7530.03"
      ]
     },
     "metadata": {},
     "output_type": "display_data"
    },
    {
     "data": {
      "text/html": [
       "<pre>recommendations finished on 6000/45321 queries. users per second: 7315.19</pre>"
      ],
      "text/plain": [
       "recommendations finished on 6000/45321 queries. users per second: 7315.19"
      ]
     },
     "metadata": {},
     "output_type": "display_data"
    },
    {
     "data": {
      "text/html": [
       "<pre>recommendations finished on 7000/45321 queries. users per second: 7432.47</pre>"
      ],
      "text/plain": [
       "recommendations finished on 7000/45321 queries. users per second: 7432.47"
      ]
     },
     "metadata": {},
     "output_type": "display_data"
    },
    {
     "data": {
      "text/html": [
       "<pre>recommendations finished on 8000/45321 queries. users per second: 7381.33</pre>"
      ],
      "text/plain": [
       "recommendations finished on 8000/45321 queries. users per second: 7381.33"
      ]
     },
     "metadata": {},
     "output_type": "display_data"
    },
    {
     "data": {
      "text/html": [
       "<pre>recommendations finished on 9000/45321 queries. users per second: 7378.11</pre>"
      ],
      "text/plain": [
       "recommendations finished on 9000/45321 queries. users per second: 7378.11"
      ]
     },
     "metadata": {},
     "output_type": "display_data"
    },
    {
     "data": {
      "text/html": [
       "<pre>recommendations finished on 10000/45321 queries. users per second: 7421.56</pre>"
      ],
      "text/plain": [
       "recommendations finished on 10000/45321 queries. users per second: 7421.56"
      ]
     },
     "metadata": {},
     "output_type": "display_data"
    },
    {
     "data": {
      "text/html": [
       "<pre>recommendations finished on 11000/45321 queries. users per second: 7408.25</pre>"
      ],
      "text/plain": [
       "recommendations finished on 11000/45321 queries. users per second: 7408.25"
      ]
     },
     "metadata": {},
     "output_type": "display_data"
    },
    {
     "data": {
      "text/html": [
       "<pre>recommendations finished on 12000/45321 queries. users per second: 7443.09</pre>"
      ],
      "text/plain": [
       "recommendations finished on 12000/45321 queries. users per second: 7443.09"
      ]
     },
     "metadata": {},
     "output_type": "display_data"
    },
    {
     "data": {
      "text/html": [
       "<pre>recommendations finished on 13000/45321 queries. users per second: 7551.84</pre>"
      ],
      "text/plain": [
       "recommendations finished on 13000/45321 queries. users per second: 7551.84"
      ]
     },
     "metadata": {},
     "output_type": "display_data"
    },
    {
     "data": {
      "text/html": [
       "<pre>recommendations finished on 14000/45321 queries. users per second: 7469.71</pre>"
      ],
      "text/plain": [
       "recommendations finished on 14000/45321 queries. users per second: 7469.71"
      ]
     },
     "metadata": {},
     "output_type": "display_data"
    },
    {
     "data": {
      "text/html": [
       "<pre>recommendations finished on 15000/45321 queries. users per second: 7430.01</pre>"
      ],
      "text/plain": [
       "recommendations finished on 15000/45321 queries. users per second: 7430.01"
      ]
     },
     "metadata": {},
     "output_type": "display_data"
    },
    {
     "data": {
      "text/html": [
       "<pre>recommendations finished on 16000/45321 queries. users per second: 7325.2</pre>"
      ],
      "text/plain": [
       "recommendations finished on 16000/45321 queries. users per second: 7325.2"
      ]
     },
     "metadata": {},
     "output_type": "display_data"
    },
    {
     "data": {
      "text/html": [
       "<pre>recommendations finished on 17000/45321 queries. users per second: 7236.99</pre>"
      ],
      "text/plain": [
       "recommendations finished on 17000/45321 queries. users per second: 7236.99"
      ]
     },
     "metadata": {},
     "output_type": "display_data"
    },
    {
     "data": {
      "text/html": [
       "<pre>recommendations finished on 18000/45321 queries. users per second: 7286.13</pre>"
      ],
      "text/plain": [
       "recommendations finished on 18000/45321 queries. users per second: 7286.13"
      ]
     },
     "metadata": {},
     "output_type": "display_data"
    },
    {
     "data": {
      "text/html": [
       "<pre>recommendations finished on 19000/45321 queries. users per second: 7301.94</pre>"
      ],
      "text/plain": [
       "recommendations finished on 19000/45321 queries. users per second: 7301.94"
      ]
     },
     "metadata": {},
     "output_type": "display_data"
    },
    {
     "data": {
      "text/html": [
       "<pre>recommendations finished on 20000/45321 queries. users per second: 7352.8</pre>"
      ],
      "text/plain": [
       "recommendations finished on 20000/45321 queries. users per second: 7352.8"
      ]
     },
     "metadata": {},
     "output_type": "display_data"
    },
    {
     "data": {
      "text/html": [
       "<pre>recommendations finished on 21000/45321 queries. users per second: 7337.89</pre>"
      ],
      "text/plain": [
       "recommendations finished on 21000/45321 queries. users per second: 7337.89"
      ]
     },
     "metadata": {},
     "output_type": "display_data"
    },
    {
     "data": {
      "text/html": [
       "<pre>recommendations finished on 22000/45321 queries. users per second: 7316.11</pre>"
      ],
      "text/plain": [
       "recommendations finished on 22000/45321 queries. users per second: 7316.11"
      ]
     },
     "metadata": {},
     "output_type": "display_data"
    },
    {
     "data": {
      "text/html": [
       "<pre>recommendations finished on 23000/45321 queries. users per second: 7362.2</pre>"
      ],
      "text/plain": [
       "recommendations finished on 23000/45321 queries. users per second: 7362.2"
      ]
     },
     "metadata": {},
     "output_type": "display_data"
    },
    {
     "data": {
      "text/html": [
       "<pre>recommendations finished on 24000/45321 queries. users per second: 7320.93</pre>"
      ],
      "text/plain": [
       "recommendations finished on 24000/45321 queries. users per second: 7320.93"
      ]
     },
     "metadata": {},
     "output_type": "display_data"
    },
    {
     "data": {
      "text/html": [
       "<pre>recommendations finished on 25000/45321 queries. users per second: 7292.28</pre>"
      ],
      "text/plain": [
       "recommendations finished on 25000/45321 queries. users per second: 7292.28"
      ]
     },
     "metadata": {},
     "output_type": "display_data"
    },
    {
     "data": {
      "text/html": [
       "<pre>recommendations finished on 26000/45321 queries. users per second: 7060.81</pre>"
      ],
      "text/plain": [
       "recommendations finished on 26000/45321 queries. users per second: 7060.81"
      ]
     },
     "metadata": {},
     "output_type": "display_data"
    },
    {
     "data": {
      "text/html": [
       "<pre>recommendations finished on 27000/45321 queries. users per second: 6843.57</pre>"
      ],
      "text/plain": [
       "recommendations finished on 27000/45321 queries. users per second: 6843.57"
      ]
     },
     "metadata": {},
     "output_type": "display_data"
    },
    {
     "data": {
      "text/html": [
       "<pre>recommendations finished on 28000/45321 queries. users per second: 6852.13</pre>"
      ],
      "text/plain": [
       "recommendations finished on 28000/45321 queries. users per second: 6852.13"
      ]
     },
     "metadata": {},
     "output_type": "display_data"
    },
    {
     "data": {
      "text/html": [
       "<pre>recommendations finished on 29000/45321 queries. users per second: 6884.89</pre>"
      ],
      "text/plain": [
       "recommendations finished on 29000/45321 queries. users per second: 6884.89"
      ]
     },
     "metadata": {},
     "output_type": "display_data"
    },
    {
     "data": {
      "text/html": [
       "<pre>recommendations finished on 30000/45321 queries. users per second: 6877.06</pre>"
      ],
      "text/plain": [
       "recommendations finished on 30000/45321 queries. users per second: 6877.06"
      ]
     },
     "metadata": {},
     "output_type": "display_data"
    },
    {
     "data": {
      "text/html": [
       "<pre>recommendations finished on 31000/45321 queries. users per second: 6871.58</pre>"
      ],
      "text/plain": [
       "recommendations finished on 31000/45321 queries. users per second: 6871.58"
      ]
     },
     "metadata": {},
     "output_type": "display_data"
    },
    {
     "data": {
      "text/html": [
       "<pre>recommendations finished on 32000/45321 queries. users per second: 6763.4</pre>"
      ],
      "text/plain": [
       "recommendations finished on 32000/45321 queries. users per second: 6763.4"
      ]
     },
     "metadata": {},
     "output_type": "display_data"
    },
    {
     "data": {
      "text/html": [
       "<pre>recommendations finished on 33000/45321 queries. users per second: 6774.29</pre>"
      ],
      "text/plain": [
       "recommendations finished on 33000/45321 queries. users per second: 6774.29"
      ]
     },
     "metadata": {},
     "output_type": "display_data"
    },
    {
     "data": {
      "text/html": [
       "<pre>recommendations finished on 34000/45321 queries. users per second: 6792.71</pre>"
      ],
      "text/plain": [
       "recommendations finished on 34000/45321 queries. users per second: 6792.71"
      ]
     },
     "metadata": {},
     "output_type": "display_data"
    },
    {
     "data": {
      "text/html": [
       "<pre>recommendations finished on 35000/45321 queries. users per second: 6799.59</pre>"
      ],
      "text/plain": [
       "recommendations finished on 35000/45321 queries. users per second: 6799.59"
      ]
     },
     "metadata": {},
     "output_type": "display_data"
    },
    {
     "data": {
      "text/html": [
       "<pre>recommendations finished on 36000/45321 queries. users per second: 6807.38</pre>"
      ],
      "text/plain": [
       "recommendations finished on 36000/45321 queries. users per second: 6807.38"
      ]
     },
     "metadata": {},
     "output_type": "display_data"
    },
    {
     "data": {
      "text/html": [
       "<pre>recommendations finished on 37000/45321 queries. users per second: 6819.79</pre>"
      ],
      "text/plain": [
       "recommendations finished on 37000/45321 queries. users per second: 6819.79"
      ]
     },
     "metadata": {},
     "output_type": "display_data"
    },
    {
     "data": {
      "text/html": [
       "<pre>recommendations finished on 38000/45321 queries. users per second: 6798.59</pre>"
      ],
      "text/plain": [
       "recommendations finished on 38000/45321 queries. users per second: 6798.59"
      ]
     },
     "metadata": {},
     "output_type": "display_data"
    },
    {
     "data": {
      "text/html": [
       "<pre>recommendations finished on 39000/45321 queries. users per second: 6705.17</pre>"
      ],
      "text/plain": [
       "recommendations finished on 39000/45321 queries. users per second: 6705.17"
      ]
     },
     "metadata": {},
     "output_type": "display_data"
    },
    {
     "data": {
      "text/html": [
       "<pre>recommendations finished on 40000/45321 queries. users per second: 6628.64</pre>"
      ],
      "text/plain": [
       "recommendations finished on 40000/45321 queries. users per second: 6628.64"
      ]
     },
     "metadata": {},
     "output_type": "display_data"
    },
    {
     "data": {
      "text/html": [
       "<pre>recommendations finished on 41000/45321 queries. users per second: 6422.87</pre>"
      ],
      "text/plain": [
       "recommendations finished on 41000/45321 queries. users per second: 6422.87"
      ]
     },
     "metadata": {},
     "output_type": "display_data"
    },
    {
     "data": {
      "text/html": [
       "<pre>recommendations finished on 42000/45321 queries. users per second: 6206.54</pre>"
      ],
      "text/plain": [
       "recommendations finished on 42000/45321 queries. users per second: 6206.54"
      ]
     },
     "metadata": {},
     "output_type": "display_data"
    },
    {
     "data": {
      "text/html": [
       "<pre>recommendations finished on 43000/45321 queries. users per second: 5987.8</pre>"
      ],
      "text/plain": [
       "recommendations finished on 43000/45321 queries. users per second: 5987.8"
      ]
     },
     "metadata": {},
     "output_type": "display_data"
    },
    {
     "data": {
      "text/html": [
       "<pre>recommendations finished on 44000/45321 queries. users per second: 5827.59</pre>"
      ],
      "text/plain": [
       "recommendations finished on 44000/45321 queries. users per second: 5827.59"
      ]
     },
     "metadata": {},
     "output_type": "display_data"
    },
    {
     "data": {
      "text/html": [
       "<pre>recommendations finished on 45000/45321 queries. users per second: 5682.31</pre>"
      ],
      "text/plain": [
       "recommendations finished on 45000/45321 queries. users per second: 5682.31"
      ]
     },
     "metadata": {},
     "output_type": "display_data"
    },
    {
     "data": {
      "text/html": [
       "<pre>recommendations finished on 1000/45321 queries. users per second: 7122.51</pre>"
      ],
      "text/plain": [
       "recommendations finished on 1000/45321 queries. users per second: 7122.51"
      ]
     },
     "metadata": {},
     "output_type": "display_data"
    },
    {
     "data": {
      "text/html": [
       "<pre>recommendations finished on 2000/45321 queries. users per second: 5668.87</pre>"
      ],
      "text/plain": [
       "recommendations finished on 2000/45321 queries. users per second: 5668.87"
      ]
     },
     "metadata": {},
     "output_type": "display_data"
    },
    {
     "data": {
      "text/html": [
       "<pre>recommendations finished on 3000/45321 queries. users per second: 6493.45</pre>"
      ],
      "text/plain": [
       "recommendations finished on 3000/45321 queries. users per second: 6493.45"
      ]
     },
     "metadata": {},
     "output_type": "display_data"
    },
    {
     "data": {
      "text/html": [
       "<pre>recommendations finished on 4000/45321 queries. users per second: 6343.07</pre>"
      ],
      "text/plain": [
       "recommendations finished on 4000/45321 queries. users per second: 6343.07"
      ]
     },
     "metadata": {},
     "output_type": "display_data"
    },
    {
     "data": {
      "text/html": [
       "<pre>recommendations finished on 5000/45321 queries. users per second: 6904.08</pre>"
      ],
      "text/plain": [
       "recommendations finished on 5000/45321 queries. users per second: 6904.08"
      ]
     },
     "metadata": {},
     "output_type": "display_data"
    },
    {
     "data": {
      "text/html": [
       "<pre>recommendations finished on 6000/45321 queries. users per second: 7043.78</pre>"
      ],
      "text/plain": [
       "recommendations finished on 6000/45321 queries. users per second: 7043.78"
      ]
     },
     "metadata": {},
     "output_type": "display_data"
    },
    {
     "data": {
      "text/html": [
       "<pre>recommendations finished on 7000/45321 queries. users per second: 7198.56</pre>"
      ],
      "text/plain": [
       "recommendations finished on 7000/45321 queries. users per second: 7198.56"
      ]
     },
     "metadata": {},
     "output_type": "display_data"
    },
    {
     "data": {
      "text/html": [
       "<pre>recommendations finished on 8000/45321 queries. users per second: 7394.95</pre>"
      ],
      "text/plain": [
       "recommendations finished on 8000/45321 queries. users per second: 7394.95"
      ]
     },
     "metadata": {},
     "output_type": "display_data"
    },
    {
     "data": {
      "text/html": [
       "<pre>recommendations finished on 9000/45321 queries. users per second: 7656.84</pre>"
      ],
      "text/plain": [
       "recommendations finished on 9000/45321 queries. users per second: 7656.84"
      ]
     },
     "metadata": {},
     "output_type": "display_data"
    },
    {
     "data": {
      "text/html": [
       "<pre>recommendations finished on 10000/45321 queries. users per second: 7599.79</pre>"
      ],
      "text/plain": [
       "recommendations finished on 10000/45321 queries. users per second: 7599.79"
      ]
     },
     "metadata": {},
     "output_type": "display_data"
    },
    {
     "data": {
      "text/html": [
       "<pre>recommendations finished on 11000/45321 queries. users per second: 7665.34</pre>"
      ],
      "text/plain": [
       "recommendations finished on 11000/45321 queries. users per second: 7665.34"
      ]
     },
     "metadata": {},
     "output_type": "display_data"
    },
    {
     "data": {
      "text/html": [
       "<pre>recommendations finished on 12000/45321 queries. users per second: 7667.57</pre>"
      ],
      "text/plain": [
       "recommendations finished on 12000/45321 queries. users per second: 7667.57"
      ]
     },
     "metadata": {},
     "output_type": "display_data"
    },
    {
     "data": {
      "text/html": [
       "<pre>recommendations finished on 13000/45321 queries. users per second: 7636.11</pre>"
      ],
      "text/plain": [
       "recommendations finished on 13000/45321 queries. users per second: 7636.11"
      ]
     },
     "metadata": {},
     "output_type": "display_data"
    },
    {
     "data": {
      "text/html": [
       "<pre>recommendations finished on 14000/45321 queries. users per second: 7691.29</pre>"
      ],
      "text/plain": [
       "recommendations finished on 14000/45321 queries. users per second: 7691.29"
      ]
     },
     "metadata": {},
     "output_type": "display_data"
    },
    {
     "data": {
      "text/html": [
       "<pre>recommendations finished on 15000/45321 queries. users per second: 7687.38</pre>"
      ],
      "text/plain": [
       "recommendations finished on 15000/45321 queries. users per second: 7687.38"
      ]
     },
     "metadata": {},
     "output_type": "display_data"
    },
    {
     "data": {
      "text/html": [
       "<pre>recommendations finished on 16000/45321 queries. users per second: 7702.47</pre>"
      ],
      "text/plain": [
       "recommendations finished on 16000/45321 queries. users per second: 7702.47"
      ]
     },
     "metadata": {},
     "output_type": "display_data"
    },
    {
     "data": {
      "text/html": [
       "<pre>recommendations finished on 17000/45321 queries. users per second: 7292.16</pre>"
      ],
      "text/plain": [
       "recommendations finished on 17000/45321 queries. users per second: 7292.16"
      ]
     },
     "metadata": {},
     "output_type": "display_data"
    },
    {
     "data": {
      "text/html": [
       "<pre>recommendations finished on 18000/45321 queries. users per second: 7213.62</pre>"
      ],
      "text/plain": [
       "recommendations finished on 18000/45321 queries. users per second: 7213.62"
      ]
     },
     "metadata": {},
     "output_type": "display_data"
    },
    {
     "data": {
      "text/html": [
       "<pre>recommendations finished on 19000/45321 queries. users per second: 7259.43</pre>"
      ],
      "text/plain": [
       "recommendations finished on 19000/45321 queries. users per second: 7259.43"
      ]
     },
     "metadata": {},
     "output_type": "display_data"
    },
    {
     "data": {
      "text/html": [
       "<pre>recommendations finished on 20000/45321 queries. users per second: 6839.23</pre>"
      ],
      "text/plain": [
       "recommendations finished on 20000/45321 queries. users per second: 6839.23"
      ]
     },
     "metadata": {},
     "output_type": "display_data"
    },
    {
     "data": {
      "text/html": [
       "<pre>recommendations finished on 21000/45321 queries. users per second: 6877.78</pre>"
      ],
      "text/plain": [
       "recommendations finished on 21000/45321 queries. users per second: 6877.78"
      ]
     },
     "metadata": {},
     "output_type": "display_data"
    },
    {
     "data": {
      "text/html": [
       "<pre>recommendations finished on 22000/45321 queries. users per second: 6926.26</pre>"
      ],
      "text/plain": [
       "recommendations finished on 22000/45321 queries. users per second: 6926.26"
      ]
     },
     "metadata": {},
     "output_type": "display_data"
    },
    {
     "data": {
      "text/html": [
       "<pre>recommendations finished on 23000/45321 queries. users per second: 6981.7</pre>"
      ],
      "text/plain": [
       "recommendations finished on 23000/45321 queries. users per second: 6981.7"
      ]
     },
     "metadata": {},
     "output_type": "display_data"
    },
    {
     "data": {
      "text/html": [
       "<pre>recommendations finished on 24000/45321 queries. users per second: 7025.08</pre>"
      ],
      "text/plain": [
       "recommendations finished on 24000/45321 queries. users per second: 7025.08"
      ]
     },
     "metadata": {},
     "output_type": "display_data"
    },
    {
     "data": {
      "text/html": [
       "<pre>recommendations finished on 25000/45321 queries. users per second: 7077.46</pre>"
      ],
      "text/plain": [
       "recommendations finished on 25000/45321 queries. users per second: 7077.46"
      ]
     },
     "metadata": {},
     "output_type": "display_data"
    },
    {
     "data": {
      "text/html": [
       "<pre>recommendations finished on 26000/45321 queries. users per second: 7136.3</pre>"
      ],
      "text/plain": [
       "recommendations finished on 26000/45321 queries. users per second: 7136.3"
      ]
     },
     "metadata": {},
     "output_type": "display_data"
    },
    {
     "data": {
      "text/html": [
       "<pre>recommendations finished on 27000/45321 queries. users per second: 7144.08</pre>"
      ],
      "text/plain": [
       "recommendations finished on 27000/45321 queries. users per second: 7144.08"
      ]
     },
     "metadata": {},
     "output_type": "display_data"
    },
    {
     "data": {
      "text/html": [
       "<pre>recommendations finished on 28000/45321 queries. users per second: 7197.28</pre>"
      ],
      "text/plain": [
       "recommendations finished on 28000/45321 queries. users per second: 7197.28"
      ]
     },
     "metadata": {},
     "output_type": "display_data"
    },
    {
     "data": {
      "text/html": [
       "<pre>recommendations finished on 29000/45321 queries. users per second: 7245.71</pre>"
      ],
      "text/plain": [
       "recommendations finished on 29000/45321 queries. users per second: 7245.71"
      ]
     },
     "metadata": {},
     "output_type": "display_data"
    },
    {
     "data": {
      "text/html": [
       "<pre>recommendations finished on 30000/45321 queries. users per second: 7287.97</pre>"
      ],
      "text/plain": [
       "recommendations finished on 30000/45321 queries. users per second: 7287.97"
      ]
     },
     "metadata": {},
     "output_type": "display_data"
    },
    {
     "data": {
      "text/html": [
       "<pre>recommendations finished on 31000/45321 queries. users per second: 7340.09</pre>"
      ],
      "text/plain": [
       "recommendations finished on 31000/45321 queries. users per second: 7340.09"
      ]
     },
     "metadata": {},
     "output_type": "display_data"
    },
    {
     "data": {
      "text/html": [
       "<pre>recommendations finished on 32000/45321 queries. users per second: 7023.09</pre>"
      ],
      "text/plain": [
       "recommendations finished on 32000/45321 queries. users per second: 7023.09"
      ]
     },
     "metadata": {},
     "output_type": "display_data"
    },
    {
     "data": {
      "text/html": [
       "<pre>recommendations finished on 33000/45321 queries. users per second: 7068.8</pre>"
      ],
      "text/plain": [
       "recommendations finished on 33000/45321 queries. users per second: 7068.8"
      ]
     },
     "metadata": {},
     "output_type": "display_data"
    },
    {
     "data": {
      "text/html": [
       "<pre>recommendations finished on 34000/45321 queries. users per second: 7136.25</pre>"
      ],
      "text/plain": [
       "recommendations finished on 34000/45321 queries. users per second: 7136.25"
      ]
     },
     "metadata": {},
     "output_type": "display_data"
    },
    {
     "data": {
      "text/html": [
       "<pre>recommendations finished on 35000/45321 queries. users per second: 7223.63</pre>"
      ],
      "text/plain": [
       "recommendations finished on 35000/45321 queries. users per second: 7223.63"
      ]
     },
     "metadata": {},
     "output_type": "display_data"
    },
    {
     "data": {
      "text/html": [
       "<pre>recommendations finished on 36000/45321 queries. users per second: 7283.6</pre>"
      ],
      "text/plain": [
       "recommendations finished on 36000/45321 queries. users per second: 7283.6"
      ]
     },
     "metadata": {},
     "output_type": "display_data"
    },
    {
     "data": {
      "text/html": [
       "<pre>recommendations finished on 37000/45321 queries. users per second: 7333.68</pre>"
      ],
      "text/plain": [
       "recommendations finished on 37000/45321 queries. users per second: 7333.68"
      ]
     },
     "metadata": {},
     "output_type": "display_data"
    },
    {
     "data": {
      "text/html": [
       "<pre>recommendations finished on 38000/45321 queries. users per second: 7365.46</pre>"
      ],
      "text/plain": [
       "recommendations finished on 38000/45321 queries. users per second: 7365.46"
      ]
     },
     "metadata": {},
     "output_type": "display_data"
    },
    {
     "data": {
      "text/html": [
       "<pre>recommendations finished on 39000/45321 queries. users per second: 7324.47</pre>"
      ],
      "text/plain": [
       "recommendations finished on 39000/45321 queries. users per second: 7324.47"
      ]
     },
     "metadata": {},
     "output_type": "display_data"
    },
    {
     "data": {
      "text/html": [
       "<pre>recommendations finished on 40000/45321 queries. users per second: 7326.79</pre>"
      ],
      "text/plain": [
       "recommendations finished on 40000/45321 queries. users per second: 7326.79"
      ]
     },
     "metadata": {},
     "output_type": "display_data"
    },
    {
     "data": {
      "text/html": [
       "<pre>recommendations finished on 41000/45321 queries. users per second: 7212.95</pre>"
      ],
      "text/plain": [
       "recommendations finished on 41000/45321 queries. users per second: 7212.95"
      ]
     },
     "metadata": {},
     "output_type": "display_data"
    },
    {
     "data": {
      "text/html": [
       "<pre>recommendations finished on 42000/45321 queries. users per second: 7059.03</pre>"
      ],
      "text/plain": [
       "recommendations finished on 42000/45321 queries. users per second: 7059.03"
      ]
     },
     "metadata": {},
     "output_type": "display_data"
    },
    {
     "data": {
      "text/html": [
       "<pre>recommendations finished on 43000/45321 queries. users per second: 6945.99</pre>"
      ],
      "text/plain": [
       "recommendations finished on 43000/45321 queries. users per second: 6945.99"
      ]
     },
     "metadata": {},
     "output_type": "display_data"
    },
    {
     "data": {
      "text/html": [
       "<pre>recommendations finished on 44000/45321 queries. users per second: 6845.66</pre>"
      ],
      "text/plain": [
       "recommendations finished on 44000/45321 queries. users per second: 6845.66"
      ]
     },
     "metadata": {},
     "output_type": "display_data"
    },
    {
     "data": {
      "text/html": [
       "<pre>recommendations finished on 45000/45321 queries. users per second: 6757.54</pre>"
      ],
      "text/plain": [
       "recommendations finished on 45000/45321 queries. users per second: 6757.54"
      ]
     },
     "metadata": {},
     "output_type": "display_data"
    },
    {
     "data": {
      "text/html": [
       "<pre>recommendations finished on 1000/45321 queries. users per second: 9157.43</pre>"
      ],
      "text/plain": [
       "recommendations finished on 1000/45321 queries. users per second: 9157.43"
      ]
     },
     "metadata": {},
     "output_type": "display_data"
    },
    {
     "data": {
      "text/html": [
       "<pre>recommendations finished on 2000/45321 queries. users per second: 9157.47</pre>"
      ],
      "text/plain": [
       "recommendations finished on 2000/45321 queries. users per second: 9157.47"
      ]
     },
     "metadata": {},
     "output_type": "display_data"
    },
    {
     "data": {
      "text/html": [
       "<pre>recommendations finished on 3000/45321 queries. users per second: 9615.35</pre>"
      ],
      "text/plain": [
       "recommendations finished on 3000/45321 queries. users per second: 9615.35"
      ]
     },
     "metadata": {},
     "output_type": "display_data"
    },
    {
     "data": {
      "text/html": [
       "<pre>recommendations finished on 4000/45321 queries. users per second: 9496.65</pre>"
      ],
      "text/plain": [
       "recommendations finished on 4000/45321 queries. users per second: 9496.65"
      ]
     },
     "metadata": {},
     "output_type": "display_data"
    },
    {
     "data": {
      "text/html": [
       "<pre>recommendations finished on 5000/45321 queries. users per second: 9712.49</pre>"
      ],
      "text/plain": [
       "recommendations finished on 5000/45321 queries. users per second: 9712.49"
      ]
     },
     "metadata": {},
     "output_type": "display_data"
    },
    {
     "data": {
      "text/html": [
       "<pre>recommendations finished on 6000/45321 queries. users per second: 9615.37</pre>"
      ],
      "text/plain": [
       "recommendations finished on 6000/45321 queries. users per second: 9615.37"
      ]
     },
     "metadata": {},
     "output_type": "display_data"
    },
    {
     "data": {
      "text/html": [
       "<pre>recommendations finished on 7000/45321 queries. users per second: 9521.14</pre>"
      ],
      "text/plain": [
       "recommendations finished on 7000/45321 queries. users per second: 9521.14"
      ]
     },
     "metadata": {},
     "output_type": "display_data"
    },
    {
     "data": {
      "text/html": [
       "<pre>recommendations finished on 8000/45321 queries. users per second: 9647.73</pre>"
      ],
      "text/plain": [
       "recommendations finished on 8000/45321 queries. users per second: 9647.73"
      ]
     },
     "metadata": {},
     "output_type": "display_data"
    },
    {
     "data": {
      "text/html": [
       "<pre>recommendations finished on 9000/45321 queries. users per second: 9590.67</pre>"
      ],
      "text/plain": [
       "recommendations finished on 9000/45321 queries. users per second: 9590.67"
      ]
     },
     "metadata": {},
     "output_type": "display_data"
    },
    {
     "data": {
      "text/html": [
       "<pre>recommendations finished on 10000/45321 queries. users per second: 9260.84</pre>"
      ],
      "text/plain": [
       "recommendations finished on 10000/45321 queries. users per second: 9260.84"
      ]
     },
     "metadata": {},
     "output_type": "display_data"
    },
    {
     "data": {
      "text/html": [
       "<pre>recommendations finished on 11000/45321 queries. users per second: 8787.16</pre>"
      ],
      "text/plain": [
       "recommendations finished on 11000/45321 queries. users per second: 8787.16"
      ]
     },
     "metadata": {},
     "output_type": "display_data"
    },
    {
     "data": {
      "text/html": [
       "<pre>recommendations finished on 12000/45321 queries. users per second: 8728.33</pre>"
      ],
      "text/plain": [
       "recommendations finished on 12000/45321 queries. users per second: 8728.33"
      ]
     },
     "metadata": {},
     "output_type": "display_data"
    },
    {
     "data": {
      "text/html": [
       "<pre>recommendations finished on 13000/45321 queries. users per second: 8759.91</pre>"
      ],
      "text/plain": [
       "recommendations finished on 13000/45321 queries. users per second: 8759.91"
      ]
     },
     "metadata": {},
     "output_type": "display_data"
    },
    {
     "data": {
      "text/html": [
       "<pre>recommendations finished on 14000/45321 queries. users per second: 8787.16</pre>"
      ],
      "text/plain": [
       "recommendations finished on 14000/45321 queries. users per second: 8787.16"
      ]
     },
     "metadata": {},
     "output_type": "display_data"
    },
    {
     "data": {
      "text/html": [
       "<pre>recommendations finished on 15000/45321 queries. users per second: 8892.4</pre>"
      ],
      "text/plain": [
       "recommendations finished on 15000/45321 queries. users per second: 8892.4"
      ]
     },
     "metadata": {},
     "output_type": "display_data"
    },
    {
     "data": {
      "text/html": [
       "<pre>recommendations finished on 16000/45321 queries. users per second: 8908.52</pre>"
      ],
      "text/plain": [
       "recommendations finished on 16000/45321 queries. users per second: 8908.52"
      ]
     },
     "metadata": {},
     "output_type": "display_data"
    },
    {
     "data": {
      "text/html": [
       "<pre>recommendations finished on 17000/45321 queries. users per second: 8996.45</pre>"
      ],
      "text/plain": [
       "recommendations finished on 17000/45321 queries. users per second: 8996.45"
      ]
     },
     "metadata": {},
     "output_type": "display_data"
    },
    {
     "data": {
      "text/html": [
       "<pre>recommendations finished on 18000/45321 queries. users per second: 9005.25</pre>"
      ],
      "text/plain": [
       "recommendations finished on 18000/45321 queries. users per second: 9005.25"
      ]
     },
     "metadata": {},
     "output_type": "display_data"
    },
    {
     "data": {
      "text/html": [
       "<pre>recommendations finished on 19000/45321 queries. users per second: 9080.33</pre>"
      ],
      "text/plain": [
       "recommendations finished on 19000/45321 queries. users per second: 9080.33"
      ]
     },
     "metadata": {},
     "output_type": "display_data"
    },
    {
     "data": {
      "text/html": [
       "<pre>recommendations finished on 20000/45321 queries. users per second: 9084.16</pre>"
      ],
      "text/plain": [
       "recommendations finished on 20000/45321 queries. users per second: 9084.16"
      ]
     },
     "metadata": {},
     "output_type": "display_data"
    },
    {
     "data": {
      "text/html": [
       "<pre>recommendations finished on 21000/45321 queries. users per second: 8966.56</pre>"
      ],
      "text/plain": [
       "recommendations finished on 21000/45321 queries. users per second: 8966.56"
      ]
     },
     "metadata": {},
     "output_type": "display_data"
    },
    {
     "data": {
      "text/html": [
       "<pre>recommendations finished on 22000/45321 queries. users per second: 9032.55</pre>"
      ],
      "text/plain": [
       "recommendations finished on 22000/45321 queries. users per second: 9032.55"
      ]
     },
     "metadata": {},
     "output_type": "display_data"
    },
    {
     "data": {
      "text/html": [
       "<pre>recommendations finished on 23000/45321 queries. users per second: 9037.91</pre>"
      ],
      "text/plain": [
       "recommendations finished on 23000/45321 queries. users per second: 9037.91"
      ]
     },
     "metadata": {},
     "output_type": "display_data"
    },
    {
     "data": {
      "text/html": [
       "<pre>recommendations finished on 24000/45321 queries. users per second: 9096.3</pre>"
      ],
      "text/plain": [
       "recommendations finished on 24000/45321 queries. users per second: 9096.3"
      ]
     },
     "metadata": {},
     "output_type": "display_data"
    },
    {
     "data": {
      "text/html": [
       "<pre>recommendations finished on 25000/45321 queries. users per second: 9150.68</pre>"
      ],
      "text/plain": [
       "recommendations finished on 25000/45321 queries. users per second: 9150.68"
      ]
     },
     "metadata": {},
     "output_type": "display_data"
    },
    {
     "data": {
      "text/html": [
       "<pre>recommendations finished on 26000/45321 queries. users per second: 9100.98</pre>"
      ],
      "text/plain": [
       "recommendations finished on 26000/45321 queries. users per second: 9100.98"
      ]
     },
     "metadata": {},
     "output_type": "display_data"
    },
    {
     "data": {
      "text/html": [
       "<pre>recommendations finished on 27000/45321 queries. users per second: 9055.43</pre>"
      ],
      "text/plain": [
       "recommendations finished on 27000/45321 queries. users per second: 9055.43"
      ]
     },
     "metadata": {},
     "output_type": "display_data"
    },
    {
     "data": {
      "text/html": [
       "<pre>recommendations finished on 28000/45321 queries. users per second: 9059.04</pre>"
      ],
      "text/plain": [
       "recommendations finished on 28000/45321 queries. users per second: 9059.04"
      ]
     },
     "metadata": {},
     "output_type": "display_data"
    },
    {
     "data": {
      "text/html": [
       "<pre>recommendations finished on 29000/45321 queries. users per second: 9106.79</pre>"
      ],
      "text/plain": [
       "recommendations finished on 29000/45321 queries. users per second: 9106.79"
      ]
     },
     "metadata": {},
     "output_type": "display_data"
    },
    {
     "data": {
      "text/html": [
       "<pre>recommendations finished on 30000/45321 queries. users per second: 9108.47</pre>"
      ],
      "text/plain": [
       "recommendations finished on 30000/45321 queries. users per second: 9108.47"
      ]
     },
     "metadata": {},
     "output_type": "display_data"
    },
    {
     "data": {
      "text/html": [
       "<pre>recommendations finished on 31000/45321 queries. users per second: 9152</pre>"
      ],
      "text/plain": [
       "recommendations finished on 31000/45321 queries. users per second: 9152"
      ]
     },
     "metadata": {},
     "output_type": "display_data"
    },
    {
     "data": {
      "text/html": [
       "<pre>recommendations finished on 32000/45321 queries. users per second: 9152.17</pre>"
      ],
      "text/plain": [
       "recommendations finished on 32000/45321 queries. users per second: 9152.17"
      ]
     },
     "metadata": {},
     "output_type": "display_data"
    },
    {
     "data": {
      "text/html": [
       "<pre>recommendations finished on 33000/45321 queries. users per second: 9170.65</pre>"
      ],
      "text/plain": [
       "recommendations finished on 33000/45321 queries. users per second: 9170.65"
      ]
     },
     "metadata": {},
     "output_type": "display_data"
    },
    {
     "data": {
      "text/html": [
       "<pre>recommendations finished on 34000/45321 queries. users per second: 9045.81</pre>"
      ],
      "text/plain": [
       "recommendations finished on 34000/45321 queries. users per second: 9045.81"
      ]
     },
     "metadata": {},
     "output_type": "display_data"
    },
    {
     "data": {
      "text/html": [
       "<pre>recommendations finished on 35000/45321 queries. users per second: 9012.13</pre>"
      ],
      "text/plain": [
       "recommendations finished on 35000/45321 queries. users per second: 9012.13"
      ]
     },
     "metadata": {},
     "output_type": "display_data"
    },
    {
     "data": {
      "text/html": [
       "<pre>recommendations finished on 36000/45321 queries. users per second: 9032.38</pre>"
      ],
      "text/plain": [
       "recommendations finished on 36000/45321 queries. users per second: 9032.38"
      ]
     },
     "metadata": {},
     "output_type": "display_data"
    },
    {
     "data": {
      "text/html": [
       "<pre>recommendations finished on 37000/45321 queries. users per second: 9053.84</pre>"
      ],
      "text/plain": [
       "recommendations finished on 37000/45321 queries. users per second: 9053.84"
      ]
     },
     "metadata": {},
     "output_type": "display_data"
    },
    {
     "data": {
      "text/html": [
       "<pre>recommendations finished on 38000/45321 queries. users per second: 9069.93</pre>"
      ],
      "text/plain": [
       "recommendations finished on 38000/45321 queries. users per second: 9069.93"
      ]
     },
     "metadata": {},
     "output_type": "display_data"
    },
    {
     "data": {
      "text/html": [
       "<pre>recommendations finished on 39000/45321 queries. users per second: 9083.13</pre>"
      ],
      "text/plain": [
       "recommendations finished on 39000/45321 queries. users per second: 9083.13"
      ]
     },
     "metadata": {},
     "output_type": "display_data"
    },
    {
     "data": {
      "text/html": [
       "<pre>recommendations finished on 40000/45321 queries. users per second: 9101.91</pre>"
      ],
      "text/plain": [
       "recommendations finished on 40000/45321 queries. users per second: 9101.91"
      ]
     },
     "metadata": {},
     "output_type": "display_data"
    },
    {
     "data": {
      "text/html": [
       "<pre>recommendations finished on 41000/45321 queries. users per second: 9115.79</pre>"
      ],
      "text/plain": [
       "recommendations finished on 41000/45321 queries. users per second: 9115.79"
      ]
     },
     "metadata": {},
     "output_type": "display_data"
    },
    {
     "data": {
      "text/html": [
       "<pre>recommendations finished on 42000/45321 queries. users per second: 9129.06</pre>"
      ],
      "text/plain": [
       "recommendations finished on 42000/45321 queries. users per second: 9129.06"
      ]
     },
     "metadata": {},
     "output_type": "display_data"
    },
    {
     "data": {
      "text/html": [
       "<pre>recommendations finished on 43000/45321 queries. users per second: 9145.63</pre>"
      ],
      "text/plain": [
       "recommendations finished on 43000/45321 queries. users per second: 9145.63"
      ]
     },
     "metadata": {},
     "output_type": "display_data"
    },
    {
     "data": {
      "text/html": [
       "<pre>recommendations finished on 44000/45321 queries. users per second: 9048.45</pre>"
      ],
      "text/plain": [
       "recommendations finished on 44000/45321 queries. users per second: 9048.45"
      ]
     },
     "metadata": {},
     "output_type": "display_data"
    },
    {
     "data": {
      "text/html": [
       "<pre>recommendations finished on 45000/45321 queries. users per second: 8792.63</pre>"
      ],
      "text/plain": [
       "recommendations finished on 45000/45321 queries. users per second: 8792.63"
      ]
     },
     "metadata": {},
     "output_type": "display_data"
    },
    {
     "data": {
      "text/html": [
       "<pre>recommendations finished on 1000/45321 queries. users per second: 10351.9</pre>"
      ],
      "text/plain": [
       "recommendations finished on 1000/45321 queries. users per second: 10351.9"
      ]
     },
     "metadata": {},
     "output_type": "display_data"
    },
    {
     "data": {
      "text/html": [
       "<pre>recommendations finished on 2000/45321 queries. users per second: 11454.7</pre>"
      ],
      "text/plain": [
       "recommendations finished on 2000/45321 queries. users per second: 11454.7"
      ]
     },
     "metadata": {},
     "output_type": "display_data"
    },
    {
     "data": {
      "text/html": [
       "<pre>recommendations finished on 3000/45321 queries. users per second: 11185.6</pre>"
      ],
      "text/plain": [
       "recommendations finished on 3000/45321 queries. users per second: 11185.6"
      ]
     },
     "metadata": {},
     "output_type": "display_data"
    },
    {
     "data": {
      "text/html": [
       "<pre>recommendations finished on 4000/45321 queries. users per second: 11554</pre>"
      ],
      "text/plain": [
       "recommendations finished on 4000/45321 queries. users per second: 11554"
      ]
     },
     "metadata": {},
     "output_type": "display_data"
    },
    {
     "data": {
      "text/html": [
       "<pre>recommendations finished on 5000/45321 queries. users per second: 11368.8</pre>"
      ],
      "text/plain": [
       "recommendations finished on 5000/45321 queries. users per second: 11368.8"
      ]
     },
     "metadata": {},
     "output_type": "display_data"
    },
    {
     "data": {
      "text/html": [
       "<pre>recommendations finished on 6000/45321 queries. users per second: 11587.5</pre>"
      ],
      "text/plain": [
       "recommendations finished on 6000/45321 queries. users per second: 11587.5"
      ]
     },
     "metadata": {},
     "output_type": "display_data"
    },
    {
     "data": {
      "text/html": [
       "<pre>recommendations finished on 7000/45321 queries. users per second: 11348.8</pre>"
      ],
      "text/plain": [
       "recommendations finished on 7000/45321 queries. users per second: 11348.8"
      ]
     },
     "metadata": {},
     "output_type": "display_data"
    },
    {
     "data": {
      "text/html": [
       "<pre>recommendations finished on 8000/45321 queries. users per second: 11261.2</pre>"
      ],
      "text/plain": [
       "recommendations finished on 8000/45321 queries. users per second: 11261.2"
      ]
     },
     "metadata": {},
     "output_type": "display_data"
    },
    {
     "data": {
      "text/html": [
       "<pre>recommendations finished on 9000/45321 queries. users per second: 11415.5</pre>"
      ],
      "text/plain": [
       "recommendations finished on 9000/45321 queries. users per second: 11415.5"
      ]
     },
     "metadata": {},
     "output_type": "display_data"
    },
    {
     "data": {
      "text/html": [
       "<pre>recommendations finished on 10000/45321 queries. users per second: 11542</pre>"
      ],
      "text/plain": [
       "recommendations finished on 10000/45321 queries. users per second: 11542"
      ]
     },
     "metadata": {},
     "output_type": "display_data"
    },
    {
     "data": {
      "text/html": [
       "<pre>recommendations finished on 11000/45321 queries. users per second: 11458.3</pre>"
      ],
      "text/plain": [
       "recommendations finished on 11000/45321 queries. users per second: 11458.3"
      ]
     },
     "metadata": {},
     "output_type": "display_data"
    },
    {
     "data": {
      "text/html": [
       "<pre>recommendations finished on 12000/45321 queries. users per second: 11389.5</pre>"
      ],
      "text/plain": [
       "recommendations finished on 12000/45321 queries. users per second: 11389.5"
      ]
     },
     "metadata": {},
     "output_type": "display_data"
    },
    {
     "data": {
      "text/html": [
       "<pre>recommendations finished on 13000/45321 queries. users per second: 11331.9</pre>"
      ],
      "text/plain": [
       "recommendations finished on 13000/45321 queries. users per second: 11331.9"
      ]
     },
     "metadata": {},
     "output_type": "display_data"
    },
    {
     "data": {
      "text/html": [
       "<pre>recommendations finished on 14000/45321 queries. users per second: 11426.7</pre>"
      ],
      "text/plain": [
       "recommendations finished on 14000/45321 queries. users per second: 11426.7"
      ]
     },
     "metadata": {},
     "output_type": "display_data"
    },
    {
     "data": {
      "text/html": [
       "<pre>recommendations finished on 15000/45321 queries. users per second: 11510.1</pre>"
      ],
      "text/plain": [
       "recommendations finished on 15000/45321 queries. users per second: 11510.1"
      ]
     },
     "metadata": {},
     "output_type": "display_data"
    },
    {
     "data": {
      "text/html": [
       "<pre>recommendations finished on 16000/45321 queries. users per second: 11584.1</pre>"
      ],
      "text/plain": [
       "recommendations finished on 16000/45321 queries. users per second: 11584.1"
      ]
     },
     "metadata": {},
     "output_type": "display_data"
    },
    {
     "data": {
      "text/html": [
       "<pre>recommendations finished on 17000/45321 queries. users per second: 11527</pre>"
      ],
      "text/plain": [
       "recommendations finished on 17000/45321 queries. users per second: 11527"
      ]
     },
     "metadata": {},
     "output_type": "display_data"
    },
    {
     "data": {
      "text/html": [
       "<pre>recommendations finished on 18000/45321 queries. users per second: 11591.9</pre>"
      ],
      "text/plain": [
       "recommendations finished on 18000/45321 queries. users per second: 11591.9"
      ]
     },
     "metadata": {},
     "output_type": "display_data"
    },
    {
     "data": {
      "text/html": [
       "<pre>recommendations finished on 19000/45321 queries. users per second: 11502.6</pre>"
      ],
      "text/plain": [
       "recommendations finished on 19000/45321 queries. users per second: 11502.6"
      ]
     },
     "metadata": {},
     "output_type": "display_data"
    },
    {
     "data": {
      "text/html": [
       "<pre>recommendations finished on 20000/45321 queries. users per second: 11364.9</pre>"
      ],
      "text/plain": [
       "recommendations finished on 20000/45321 queries. users per second: 11364.9"
      ]
     },
     "metadata": {},
     "output_type": "display_data"
    },
    {
     "data": {
      "text/html": [
       "<pre>recommendations finished on 21000/45321 queries. users per second: 11118.1</pre>"
      ],
      "text/plain": [
       "recommendations finished on 21000/45321 queries. users per second: 11118.1"
      ]
     },
     "metadata": {},
     "output_type": "display_data"
    },
    {
     "data": {
      "text/html": [
       "<pre>recommendations finished on 22000/45321 queries. users per second: 11095.3</pre>"
      ],
      "text/plain": [
       "recommendations finished on 22000/45321 queries. users per second: 11095.3"
      ]
     },
     "metadata": {},
     "output_type": "display_data"
    },
    {
     "data": {
      "text/html": [
       "<pre>recommendations finished on 23000/45321 queries. users per second: 10933.5</pre>"
      ],
      "text/plain": [
       "recommendations finished on 23000/45321 queries. users per second: 10933.5"
      ]
     },
     "metadata": {},
     "output_type": "display_data"
    },
    {
     "data": {
      "text/html": [
       "<pre>recommendations finished on 24000/45321 queries. users per second: 10802.9</pre>"
      ],
      "text/plain": [
       "recommendations finished on 24000/45321 queries. users per second: 10802.9"
      ]
     },
     "metadata": {},
     "output_type": "display_data"
    },
    {
     "data": {
      "text/html": [
       "<pre>recommendations finished on 25000/45321 queries. users per second: 10809.2</pre>"
      ],
      "text/plain": [
       "recommendations finished on 25000/45321 queries. users per second: 10809.2"
      ]
     },
     "metadata": {},
     "output_type": "display_data"
    },
    {
     "data": {
      "text/html": [
       "<pre>recommendations finished on 26000/45321 queries. users per second: 10874.9</pre>"
      ],
      "text/plain": [
       "recommendations finished on 26000/45321 queries. users per second: 10874.9"
      ]
     },
     "metadata": {},
     "output_type": "display_data"
    },
    {
     "data": {
      "text/html": [
       "<pre>recommendations finished on 27000/45321 queries. users per second: 10936.3</pre>"
      ],
      "text/plain": [
       "recommendations finished on 27000/45321 queries. users per second: 10936.3"
      ]
     },
     "metadata": {},
     "output_type": "display_data"
    },
    {
     "data": {
      "text/html": [
       "<pre>recommendations finished on 28000/45321 queries. users per second: 10994</pre>"
      ],
      "text/plain": [
       "recommendations finished on 28000/45321 queries. users per second: 10994"
      ]
     },
     "metadata": {},
     "output_type": "display_data"
    },
    {
     "data": {
      "text/html": [
       "<pre>recommendations finished on 29000/45321 queries. users per second: 10983</pre>"
      ],
      "text/plain": [
       "recommendations finished on 29000/45321 queries. users per second: 10983"
      ]
     },
     "metadata": {},
     "output_type": "display_data"
    },
    {
     "data": {
      "text/html": [
       "<pre>recommendations finished on 30000/45321 queries. users per second: 11035.8</pre>"
      ],
      "text/plain": [
       "recommendations finished on 30000/45321 queries. users per second: 11035.8"
      ]
     },
     "metadata": {},
     "output_type": "display_data"
    },
    {
     "data": {
      "text/html": [
       "<pre>recommendations finished on 31000/45321 queries. users per second: 11016.2</pre>"
      ],
      "text/plain": [
       "recommendations finished on 31000/45321 queries. users per second: 11016.2"
      ]
     },
     "metadata": {},
     "output_type": "display_data"
    },
    {
     "data": {
      "text/html": [
       "<pre>recommendations finished on 32000/45321 queries. users per second: 10891.6</pre>"
      ],
      "text/plain": [
       "recommendations finished on 32000/45321 queries. users per second: 10891.6"
      ]
     },
     "metadata": {},
     "output_type": "display_data"
    },
    {
     "data": {
      "text/html": [
       "<pre>recommendations finished on 33000/45321 queries. users per second: 10848</pre>"
      ],
      "text/plain": [
       "recommendations finished on 33000/45321 queries. users per second: 10848"
      ]
     },
     "metadata": {},
     "output_type": "display_data"
    },
    {
     "data": {
      "text/html": [
       "<pre>recommendations finished on 34000/45321 queries. users per second: 10872.9</pre>"
      ],
      "text/plain": [
       "recommendations finished on 34000/45321 queries. users per second: 10872.9"
      ]
     },
     "metadata": {},
     "output_type": "display_data"
    },
    {
     "data": {
      "text/html": [
       "<pre>recommendations finished on 35000/45321 queries. users per second: 10939.4</pre>"
      ],
      "text/plain": [
       "recommendations finished on 35000/45321 queries. users per second: 10939.4"
      ]
     },
     "metadata": {},
     "output_type": "display_data"
    },
    {
     "data": {
      "text/html": [
       "<pre>recommendations finished on 36000/45321 queries. users per second: 10984.1</pre>"
      ],
      "text/plain": [
       "recommendations finished on 36000/45321 queries. users per second: 10984.1"
      ]
     },
     "metadata": {},
     "output_type": "display_data"
    },
    {
     "data": {
      "text/html": [
       "<pre>recommendations finished on 37000/45321 queries. users per second: 10975.8</pre>"
      ],
      "text/plain": [
       "recommendations finished on 37000/45321 queries. users per second: 10975.8"
      ]
     },
     "metadata": {},
     "output_type": "display_data"
    },
    {
     "data": {
      "text/html": [
       "<pre>recommendations finished on 38000/45321 queries. users per second: 11017.5</pre>"
      ],
      "text/plain": [
       "recommendations finished on 38000/45321 queries. users per second: 11017.5"
      ]
     },
     "metadata": {},
     "output_type": "display_data"
    },
    {
     "data": {
      "text/html": [
       "<pre>recommendations finished on 39000/45321 queries. users per second: 11057.4</pre>"
      ],
      "text/plain": [
       "recommendations finished on 39000/45321 queries. users per second: 11057.4"
      ]
     },
     "metadata": {},
     "output_type": "display_data"
    },
    {
     "data": {
      "text/html": [
       "<pre>recommendations finished on 40000/45321 queries. users per second: 11047.7</pre>"
      ],
      "text/plain": [
       "recommendations finished on 40000/45321 queries. users per second: 11047.7"
      ]
     },
     "metadata": {},
     "output_type": "display_data"
    },
    {
     "data": {
      "text/html": [
       "<pre>recommendations finished on 41000/45321 queries. users per second: 11085.1</pre>"
      ],
      "text/plain": [
       "recommendations finished on 41000/45321 queries. users per second: 11085.1"
      ]
     },
     "metadata": {},
     "output_type": "display_data"
    },
    {
     "data": {
      "text/html": [
       "<pre>recommendations finished on 42000/45321 queries. users per second: 11033.3</pre>"
      ],
      "text/plain": [
       "recommendations finished on 42000/45321 queries. users per second: 11033.3"
      ]
     },
     "metadata": {},
     "output_type": "display_data"
    },
    {
     "data": {
      "text/html": [
       "<pre>recommendations finished on 43000/45321 queries. users per second: 11078.3</pre>"
      ],
      "text/plain": [
       "recommendations finished on 43000/45321 queries. users per second: 11078.3"
      ]
     },
     "metadata": {},
     "output_type": "display_data"
    },
    {
     "data": {
      "text/html": [
       "<pre>recommendations finished on 44000/45321 queries. users per second: 11063.5</pre>"
      ],
      "text/plain": [
       "recommendations finished on 44000/45321 queries. users per second: 11063.5"
      ]
     },
     "metadata": {},
     "output_type": "display_data"
    },
    {
     "data": {
      "text/html": [
       "<pre>recommendations finished on 45000/45321 queries. users per second: 10970.6</pre>"
      ],
      "text/plain": [
       "recommendations finished on 45000/45321 queries. users per second: 10970.6"
      ]
     },
     "metadata": {},
     "output_type": "display_data"
    }
   ],
   "source": [
    "view_collab_overview = item_sim_model.views.overview(\n",
    "        validation_set=test)\n",
    "view_collab_overview.show()"
   ]
  },
  {
   "cell_type": "code",
   "execution_count": 9,
   "metadata": {
    "collapsed": false
   },
   "outputs": [
    {
     "name": "stdout",
     "output_type": "stream",
     "text": [
      "WARNING: The ItemContentRecommender model is still in beta.\n",
      "WARNING: This feature transformer is still in beta, and some interpretation rules may change in the future.\n",
      "('Applying transform:\\n', Class             : AutoVectorizer\n",
      "\n",
      "Model Fields\n",
      "------------\n",
      "Features          : ['Unnamed: 0', 'author', 'description0', 'Language', 'NumberofRatings', 'GoodReadAverageRating', 'book_id_original', 'description1', 'title', 'goodreads_title', 'goodreads_book_id', 'goodreads_work_id']\n",
      "Excluded Features : ['book_id']\n",
      "\n",
      "Column                 Type   Interpretation  Transforms                         Output Type\n",
      "---------------------  -----  --------------  ---------------------------------  -----------\n",
      "Unnamed: 0             int    numerical       None                               int        \n",
      "author                 str    categorical     None                               str        \n",
      "description0           str    long_text       2-Word NGram Counts -> TFIDF       dict       \n",
      "Language               str    categorical     None                               str        \n",
      "NumberofRatings        int    numerical       None                               int        \n",
      "GoodReadAverageRating  float  numerical       None                               float      \n",
      "book_id_original       int    numerical       None                               int        \n",
      "description1           str    long_text       2-Word NGram Counts -> TFIDF       dict       \n",
      "title                  str    short_text      3-Character NGram Counts -> TFIDF  dict       \n",
      "goodreads_title        str    short_text      3-Character NGram Counts -> TFIDF  dict       \n",
      "goodreads_book_id      int    numerical       None                               int        \n",
      "goodreads_work_id      int    numerical       None                               int        \n",
      "\n",
      ")\n"
     ]
    },
    {
     "data": {
      "text/html": [
       "<pre>Recsys training: model = item_content_recommender</pre>"
      ],
      "text/plain": [
       "Recsys training: model = item_content_recommender"
      ]
     },
     "metadata": {},
     "output_type": "display_data"
    },
    {
     "name": "stdout",
     "output_type": "stream",
     "text": [
      "Defaulting to brute force instead of ball tree because there are multiple distance components.\n"
     ]
    },
    {
     "data": {
      "text/html": [
       "<pre>Starting brute force nearest neighbors model training.</pre>"
      ],
      "text/plain": [
       "Starting brute force nearest neighbors model training."
      ]
     },
     "metadata": {},
     "output_type": "display_data"
    },
    {
     "data": {
      "text/html": [
       "<pre>Starting pairwise querying.</pre>"
      ],
      "text/plain": [
       "Starting pairwise querying."
      ]
     },
     "metadata": {},
     "output_type": "display_data"
    },
    {
     "data": {
      "text/html": [
       "<pre>+--------------+---------+-------------+--------------+</pre>"
      ],
      "text/plain": [
       "+--------------+---------+-------------+--------------+"
      ]
     },
     "metadata": {},
     "output_type": "display_data"
    },
    {
     "data": {
      "text/html": [
       "<pre>| Query points | # Pairs | % Complete. | Elapsed Time |</pre>"
      ],
      "text/plain": [
       "| Query points | # Pairs | % Complete. | Elapsed Time |"
      ]
     },
     "metadata": {},
     "output_type": "display_data"
    },
    {
     "data": {
      "text/html": [
       "<pre>+--------------+---------+-------------+--------------+</pre>"
      ],
      "text/plain": [
       "+--------------+---------+-------------+--------------+"
      ]
     },
     "metadata": {},
     "output_type": "display_data"
    },
    {
     "data": {
      "text/html": [
       "<pre>| 1            | 9593    | 0.0104243   | 67.801ms     |</pre>"
      ],
      "text/plain": [
       "| 1            | 9593    | 0.0104243   | 67.801ms     |"
      ]
     },
     "metadata": {},
     "output_type": "display_data"
    },
    {
     "data": {
      "text/html": [
       "<pre>| 136          | 1304648 | 1.4177      | 1.06s        |</pre>"
      ],
      "text/plain": [
       "| 136          | 1304648 | 1.4177      | 1.06s        |"
      ]
     },
     "metadata": {},
     "output_type": "display_data"
    },
    {
     "data": {
      "text/html": [
       "<pre>| 313          | 3002609 | 3.2628      | 2.06s        |</pre>"
      ],
      "text/plain": [
       "| 313          | 3002609 | 3.2628      | 2.06s        |"
      ]
     },
     "metadata": {},
     "output_type": "display_data"
    },
    {
     "data": {
      "text/html": [
       "<pre>| 505          | 4844465 | 5.26426     | 3.05s        |</pre>"
      ],
      "text/plain": [
       "| 505          | 4844465 | 5.26426     | 3.05s        |"
      ]
     },
     "metadata": {},
     "output_type": "display_data"
    },
    {
     "data": {
      "text/html": [
       "<pre>| 691          | 6628763 | 7.20317     | 4.04s        |</pre>"
      ],
      "text/plain": [
       "| 691          | 6628763 | 7.20317     | 4.04s        |"
      ]
     },
     "metadata": {},
     "output_type": "display_data"
    },
    {
     "data": {
      "text/html": [
       "<pre>| 891          | 8547363 | 9.28802     | 5.03s        |</pre>"
      ],
      "text/plain": [
       "| 891          | 8547363 | 9.28802     | 5.03s        |"
      ]
     },
     "metadata": {},
     "output_type": "display_data"
    },
    {
     "data": {
      "text/html": [
       "<pre>| 1105         | 1e+007  | 11.5188     | 6.02s        |</pre>"
      ],
      "text/plain": [
       "| 1105         | 1e+007  | 11.5188     | 6.02s        |"
      ]
     },
     "metadata": {},
     "output_type": "display_data"
    },
    {
     "data": {
      "text/html": [
       "<pre>| 1299         | 1e+007  | 13.5411     | 7.03s        |</pre>"
      ],
      "text/plain": [
       "| 1299         | 1e+007  | 13.5411     | 7.03s        |"
      ]
     },
     "metadata": {},
     "output_type": "display_data"
    },
    {
     "data": {
      "text/html": [
       "<pre>| 1471         | 1e+007  | 15.3341     | 8.02s        |</pre>"
      ],
      "text/plain": [
       "| 1471         | 1e+007  | 15.3341     | 8.02s        |"
      ]
     },
     "metadata": {},
     "output_type": "display_data"
    },
    {
     "data": {
      "text/html": [
       "<pre>| 1635         | 2e+007  | 17.0437     | 9.03s        |</pre>"
      ],
      "text/plain": [
       "| 1635         | 2e+007  | 17.0437     | 9.03s        |"
      ]
     },
     "metadata": {},
     "output_type": "display_data"
    },
    {
     "data": {
      "text/html": [
       "<pre>| 1840         | 2e+007  | 19.1807     | 10.02s       |</pre>"
      ],
      "text/plain": [
       "| 1840         | 2e+007  | 19.1807     | 10.02s       |"
      ]
     },
     "metadata": {},
     "output_type": "display_data"
    },
    {
     "data": {
      "text/html": [
       "<pre>| 2034         | 2e+007  | 21.203      | 11.02s       |</pre>"
      ],
      "text/plain": [
       "| 2034         | 2e+007  | 21.203      | 11.02s       |"
      ]
     },
     "metadata": {},
     "output_type": "display_data"
    },
    {
     "data": {
      "text/html": [
       "<pre>| 2225         | 2e+007  | 23.194      | 12.01s       |</pre>"
      ],
      "text/plain": [
       "| 2225         | 2e+007  | 23.194      | 12.01s       |"
      ]
     },
     "metadata": {},
     "output_type": "display_data"
    },
    {
     "data": {
      "text/html": [
       "<pre>| 2441         | 2e+007  | 25.4456     | 13.00s       |</pre>"
      ],
      "text/plain": [
       "| 2441         | 2e+007  | 25.4456     | 13.00s       |"
      ]
     },
     "metadata": {},
     "output_type": "display_data"
    },
    {
     "data": {
      "text/html": [
       "<pre>| 2661         | 3e+007  | 27.739      | 14.00s       |</pre>"
      ],
      "text/plain": [
       "| 2661         | 3e+007  | 27.739      | 14.00s       |"
      ]
     },
     "metadata": {},
     "output_type": "display_data"
    },
    {
     "data": {
      "text/html": [
       "<pre>| 2893         | 3e+007  | 30.1574     | 14.99s       |</pre>"
      ],
      "text/plain": [
       "| 2893         | 3e+007  | 30.1574     | 14.99s       |"
      ]
     },
     "metadata": {},
     "output_type": "display_data"
    },
    {
     "data": {
      "text/html": [
       "<pre>| 3115         | 3e+007  | 32.4716     | 16.00s       |</pre>"
      ],
      "text/plain": [
       "| 3115         | 3e+007  | 32.4716     | 16.00s       |"
      ]
     },
     "metadata": {},
     "output_type": "display_data"
    },
    {
     "data": {
      "text/html": [
       "<pre>| 3335         | 3e+007  | 34.7649     | 16.99s       |</pre>"
      ],
      "text/plain": [
       "| 3335         | 3e+007  | 34.7649     | 16.99s       |"
      ]
     },
     "metadata": {},
     "output_type": "display_data"
    },
    {
     "data": {
      "text/html": [
       "<pre>| 3501         | 3e+007  | 36.4954     | 17.99s       |</pre>"
      ],
      "text/plain": [
       "| 3501         | 3e+007  | 36.4954     | 17.99s       |"
      ]
     },
     "metadata": {},
     "output_type": "display_data"
    },
    {
     "data": {
      "text/html": [
       "<pre>| 3723         | 4e+007  | 38.8095     | 18.98s       |</pre>"
      ],
      "text/plain": [
       "| 3723         | 4e+007  | 38.8095     | 18.98s       |"
      ]
     },
     "metadata": {},
     "output_type": "display_data"
    },
    {
     "data": {
      "text/html": [
       "<pre>| 3944         | 4e+007  | 41.1133     | 19.97s       |</pre>"
      ],
      "text/plain": [
       "| 3944         | 4e+007  | 41.1133     | 19.97s       |"
      ]
     },
     "metadata": {},
     "output_type": "display_data"
    },
    {
     "data": {
      "text/html": [
       "<pre>| 4175         | 4e+007  | 43.5213     | 20.98s       |</pre>"
      ],
      "text/plain": [
       "| 4175         | 4e+007  | 43.5213     | 20.98s       |"
      ]
     },
     "metadata": {},
     "output_type": "display_data"
    },
    {
     "data": {
      "text/html": [
       "<pre>| 4411         | 4e+007  | 45.9814     | 21.97s       |</pre>"
      ],
      "text/plain": [
       "| 4411         | 4e+007  | 45.9814     | 21.97s       |"
      ]
     },
     "metadata": {},
     "output_type": "display_data"
    },
    {
     "data": {
      "text/html": [
       "<pre>| 4640         | 4e+007  | 48.3686     | 22.96s       |</pre>"
      ],
      "text/plain": [
       "| 4640         | 4e+007  | 48.3686     | 22.96s       |"
      ]
     },
     "metadata": {},
     "output_type": "display_data"
    },
    {
     "data": {
      "text/html": [
       "<pre>| 4883         | 5e+007  | 50.9017     | 23.95s       |</pre>"
      ],
      "text/plain": [
       "| 4883         | 5e+007  | 50.9017     | 23.95s       |"
      ]
     },
     "metadata": {},
     "output_type": "display_data"
    },
    {
     "data": {
      "text/html": [
       "<pre>| 5107         | 5e+007  | 53.2367     | 24.95s       |</pre>"
      ],
      "text/plain": [
       "| 5107         | 5e+007  | 53.2367     | 24.95s       |"
      ]
     },
     "metadata": {},
     "output_type": "display_data"
    },
    {
     "data": {
      "text/html": [
       "<pre>| 5260         | 5e+007  | 54.8316     | 25.94s       |</pre>"
      ],
      "text/plain": [
       "| 5260         | 5e+007  | 54.8316     | 25.94s       |"
      ]
     },
     "metadata": {},
     "output_type": "display_data"
    },
    {
     "data": {
      "text/html": [
       "<pre>| 5468         | 5e+007  | 56.9999     | 26.94s       |</pre>"
      ],
      "text/plain": [
       "| 5468         | 5e+007  | 56.9999     | 26.94s       |"
      ]
     },
     "metadata": {},
     "output_type": "display_data"
    },
    {
     "data": {
      "text/html": [
       "<pre>| 5653         | 5e+007  | 58.9284     | 27.94s       |</pre>"
      ],
      "text/plain": [
       "| 5653         | 5e+007  | 58.9284     | 27.94s       |"
      ]
     },
     "metadata": {},
     "output_type": "display_data"
    },
    {
     "data": {
      "text/html": [
       "<pre>| 5857         | 6e+007  | 61.0549     | 28.94s       |</pre>"
      ],
      "text/plain": [
       "| 5857         | 6e+007  | 61.0549     | 28.94s       |"
      ]
     },
     "metadata": {},
     "output_type": "display_data"
    },
    {
     "data": {
      "text/html": [
       "<pre>| 6024         | 6e+007  | 62.7958     | 29.93s       |</pre>"
      ],
      "text/plain": [
       "| 6024         | 6e+007  | 62.7958     | 29.93s       |"
      ]
     },
     "metadata": {},
     "output_type": "display_data"
    },
    {
     "data": {
      "text/html": [
       "<pre>| 6209         | 6e+007  | 64.7243     | 30.93s       |</pre>"
      ],
      "text/plain": [
       "| 6209         | 6e+007  | 64.7243     | 30.93s       |"
      ]
     },
     "metadata": {},
     "output_type": "display_data"
    },
    {
     "data": {
      "text/html": [
       "<pre>| 6386         | 6e+007  | 66.5694     | 31.92s       |</pre>"
      ],
      "text/plain": [
       "| 6386         | 6e+007  | 66.5694     | 31.92s       |"
      ]
     },
     "metadata": {},
     "output_type": "display_data"
    },
    {
     "data": {
      "text/html": [
       "<pre>| 6569         | 6e+007  | 68.477      | 32.91s       |</pre>"
      ],
      "text/plain": [
       "| 6569         | 6e+007  | 68.477      | 32.91s       |"
      ]
     },
     "metadata": {},
     "output_type": "display_data"
    },
    {
     "data": {
      "text/html": [
       "<pre>| 6743         | 6e+007  | 70.2908     | 33.92s       |</pre>"
      ],
      "text/plain": [
       "| 6743         | 6e+007  | 70.2908     | 33.92s       |"
      ]
     },
     "metadata": {},
     "output_type": "display_data"
    },
    {
     "data": {
      "text/html": [
       "<pre>| 6929         | 7e+007  | 72.2298     | 34.90s       |</pre>"
      ],
      "text/plain": [
       "| 6929         | 7e+007  | 72.2298     | 34.90s       |"
      ]
     },
     "metadata": {},
     "output_type": "display_data"
    },
    {
     "data": {
      "text/html": [
       "<pre>| 7106         | 7e+007  | 74.0748     | 35.90s       |</pre>"
      ],
      "text/plain": [
       "| 7106         | 7e+007  | 74.0748     | 35.90s       |"
      ]
     },
     "metadata": {},
     "output_type": "display_data"
    },
    {
     "data": {
      "text/html": [
       "<pre>| 7280         | 7e+007  | 75.8887     | 36.90s       |</pre>"
      ],
      "text/plain": [
       "| 7280         | 7e+007  | 75.8887     | 36.90s       |"
      ]
     },
     "metadata": {},
     "output_type": "display_data"
    },
    {
     "data": {
      "text/html": [
       "<pre>| 7458         | 7e+007  | 77.7442     | 37.90s       |</pre>"
      ],
      "text/plain": [
       "| 7458         | 7e+007  | 77.7442     | 37.90s       |"
      ]
     },
     "metadata": {},
     "output_type": "display_data"
    },
    {
     "data": {
      "text/html": [
       "<pre>| 7636         | 7e+007  | 79.5997     | 38.89s       |</pre>"
      ],
      "text/plain": [
       "| 7636         | 7e+007  | 79.5997     | 38.89s       |"
      ]
     },
     "metadata": {},
     "output_type": "display_data"
    },
    {
     "data": {
      "text/html": [
       "<pre>| 7817         | 7e+007  | 81.4865     | 39.88s       |</pre>"
      ],
      "text/plain": [
       "| 7817         | 7e+007  | 81.4865     | 39.88s       |"
      ]
     },
     "metadata": {},
     "output_type": "display_data"
    },
    {
     "data": {
      "text/html": [
       "<pre>| 8042         | 8e+007  | 83.832      | 40.88s       |</pre>"
      ],
      "text/plain": [
       "| 8042         | 8e+007  | 83.832      | 40.88s       |"
      ]
     },
     "metadata": {},
     "output_type": "display_data"
    },
    {
     "data": {
      "text/html": [
       "<pre>| 8273         | 8e+007  | 86.24       | 41.87s       |</pre>"
      ],
      "text/plain": [
       "| 8273         | 8e+007  | 86.24       | 41.87s       |"
      ]
     },
     "metadata": {},
     "output_type": "display_data"
    },
    {
     "data": {
      "text/html": [
       "<pre>| 8456         | 8e+007  | 88.1476     | 42.87s       |</pre>"
      ],
      "text/plain": [
       "| 8456         | 8e+007  | 88.1476     | 42.87s       |"
      ]
     },
     "metadata": {},
     "output_type": "display_data"
    },
    {
     "data": {
      "text/html": [
       "<pre>| 8625         | 8e+007  | 89.9093     | 43.87s       |</pre>"
      ],
      "text/plain": [
       "| 8625         | 8e+007  | 89.9093     | 43.87s       |"
      ]
     },
     "metadata": {},
     "output_type": "display_data"
    },
    {
     "data": {
      "text/html": [
       "<pre>| 8797         | 8e+007  | 91.7023     | 44.87s       |</pre>"
      ],
      "text/plain": [
       "| 8797         | 8e+007  | 91.7023     | 44.87s       |"
      ]
     },
     "metadata": {},
     "output_type": "display_data"
    },
    {
     "data": {
      "text/html": [
       "<pre>| 8946         | 9e+007  | 93.2555     | 45.86s       |</pre>"
      ],
      "text/plain": [
       "| 8946         | 9e+007  | 93.2555     | 45.86s       |"
      ]
     },
     "metadata": {},
     "output_type": "display_data"
    },
    {
     "data": {
      "text/html": [
       "<pre>| 9050         | 9e+007  | 94.3396     | 46.85s       |</pre>"
      ],
      "text/plain": [
       "| 9050         | 9e+007  | 94.3396     | 46.85s       |"
      ]
     },
     "metadata": {},
     "output_type": "display_data"
    },
    {
     "data": {
      "text/html": [
       "<pre>| 9155         | 9e+007  | 95.4342     | 47.86s       |</pre>"
      ],
      "text/plain": [
       "| 9155         | 9e+007  | 95.4342     | 47.86s       |"
      ]
     },
     "metadata": {},
     "output_type": "display_data"
    },
    {
     "data": {
      "text/html": [
       "<pre>| 9210         | 9e+007  | 96.0075     | 48.84s       |</pre>"
      ],
      "text/plain": [
       "| 9210         | 9e+007  | 96.0075     | 48.84s       |"
      ]
     },
     "metadata": {},
     "output_type": "display_data"
    },
    {
     "data": {
      "text/html": [
       "<pre>| 9283         | 9e+007  | 96.7685     | 49.84s       |</pre>"
      ],
      "text/plain": [
       "| 9283         | 9e+007  | 96.7685     | 49.84s       |"
      ]
     },
     "metadata": {},
     "output_type": "display_data"
    },
    {
     "data": {
      "text/html": [
       "<pre>| 9352         | 9e+007  | 97.4878     | 50.84s       |</pre>"
      ],
      "text/plain": [
       "| 9352         | 9e+007  | 97.4878     | 50.84s       |"
      ]
     },
     "metadata": {},
     "output_type": "display_data"
    },
    {
     "data": {
      "text/html": [
       "<pre>| 9414         | 9e+007  | 98.1341     | 51.83s       |</pre>"
      ],
      "text/plain": [
       "| 9414         | 9e+007  | 98.1341     | 51.83s       |"
      ]
     },
     "metadata": {},
     "output_type": "display_data"
    },
    {
     "data": {
      "text/html": [
       "<pre>| 9476         | 9e+007  | 98.7804     | 52.83s       |</pre>"
      ],
      "text/plain": [
       "| 9476         | 9e+007  | 98.7804     | 52.83s       |"
      ]
     },
     "metadata": {},
     "output_type": "display_data"
    },
    {
     "data": {
      "text/html": [
       "<pre>| 9539         | 9e+007  | 99.4371     | 53.82s       |</pre>"
      ],
      "text/plain": [
       "| 9539         | 9e+007  | 99.4371     | 53.82s       |"
      ]
     },
     "metadata": {},
     "output_type": "display_data"
    },
    {
     "data": {
      "text/html": [
       "<pre>| Done         |         | 100         | 54.81s       |</pre>"
      ],
      "text/plain": [
       "| Done         |         | 100         | 54.81s       |"
      ]
     },
     "metadata": {},
     "output_type": "display_data"
    },
    {
     "data": {
      "text/html": [
       "<pre>+--------------+---------+-------------+--------------+</pre>"
      ],
      "text/plain": [
       "+--------------+---------+-------------+--------------+"
      ]
     },
     "metadata": {},
     "output_type": "display_data"
    },
    {
     "data": {
      "text/html": [
       "<pre>Preparing data set.</pre>"
      ],
      "text/plain": [
       "Preparing data set."
      ]
     },
     "metadata": {},
     "output_type": "display_data"
    },
    {
     "data": {
      "text/html": [
       "<pre>    Data has 687229 observations with 52532 users and 10000 items.</pre>"
      ],
      "text/plain": [
       "    Data has 687229 observations with 52532 users and 10000 items."
      ]
     },
     "metadata": {},
     "output_type": "display_data"
    },
    {
     "data": {
      "text/html": [
       "<pre>    Data prepared in: 1.24406s</pre>"
      ],
      "text/plain": [
       "    Data prepared in: 1.24406s"
      ]
     },
     "metadata": {},
     "output_type": "display_data"
    },
    {
     "data": {
      "text/html": [
       "<pre>Loading user-provided nearest items.</pre>"
      ],
      "text/plain": [
       "Loading user-provided nearest items."
      ]
     },
     "metadata": {},
     "output_type": "display_data"
    },
    {
     "data": {
      "text/html": [
       "<pre>Generating candidate set for working with new users.</pre>"
      ],
      "text/plain": [
       "Generating candidate set for working with new users."
      ]
     },
     "metadata": {},
     "output_type": "display_data"
    },
    {
     "data": {
      "text/html": [
       "<pre>Finished training in 0.222608s</pre>"
      ],
      "text/plain": [
       "Finished training in 0.222608s"
      ]
     },
     "metadata": {},
     "output_type": "display_data"
    }
   ],
   "source": [
    "#Creating Content based Model\n",
    "content_based_model=graphlab.recommender.item_content_recommender.create(book_data,item_id='book_id',observation_data=train,user_id='user_id',target='rating',similarity_metrics='pearson')"
   ]
  },
  {
   "cell_type": "code",
   "execution_count": 10,
   "metadata": {
    "collapsed": false
   },
   "outputs": [
    {
     "data": {
      "text/html": [
       "<pre>recommendations finished on 1000/45321 queries. users per second: 11904.1</pre>"
      ],
      "text/plain": [
       "recommendations finished on 1000/45321 queries. users per second: 11904.1"
      ]
     },
     "metadata": {},
     "output_type": "display_data"
    },
    {
     "data": {
      "text/html": [
       "<pre>recommendations finished on 2000/45321 queries. users per second: 12120.5</pre>"
      ],
      "text/plain": [
       "recommendations finished on 2000/45321 queries. users per second: 12120.5"
      ]
     },
     "metadata": {},
     "output_type": "display_data"
    },
    {
     "data": {
      "text/html": [
       "<pre>recommendations finished on 3000/45321 queries. users per second: 12096.1</pre>"
      ],
      "text/plain": [
       "recommendations finished on 3000/45321 queries. users per second: 12096.1"
      ]
     },
     "metadata": {},
     "output_type": "display_data"
    },
    {
     "data": {
      "text/html": [
       "<pre>recommendations finished on 4000/45321 queries. users per second: 12194.4</pre>"
      ],
      "text/plain": [
       "recommendations finished on 4000/45321 queries. users per second: 12194.4"
      ]
     },
     "metadata": {},
     "output_type": "display_data"
    },
    {
     "data": {
      "text/html": [
       "<pre>recommendations finished on 5000/45321 queries. users per second: 12314.6</pre>"
      ],
      "text/plain": [
       "recommendations finished on 5000/45321 queries. users per second: 12314.6"
      ]
     },
     "metadata": {},
     "output_type": "display_data"
    },
    {
     "data": {
      "text/html": [
       "<pre>recommendations finished on 6000/45321 queries. users per second: 12096.1</pre>"
      ],
      "text/plain": [
       "recommendations finished on 6000/45321 queries. users per second: 12096.1"
      ]
     },
     "metadata": {},
     "output_type": "display_data"
    },
    {
     "data": {
      "text/html": [
       "<pre>recommendations finished on 7000/45321 queries. users per second: 12068.3</pre>"
      ],
      "text/plain": [
       "recommendations finished on 7000/45321 queries. users per second: 12068.3"
      ]
     },
     "metadata": {},
     "output_type": "display_data"
    },
    {
     "data": {
      "text/html": [
       "<pre>recommendations finished on 8000/45321 queries. users per second: 12120.5</pre>"
      ],
      "text/plain": [
       "recommendations finished on 8000/45321 queries. users per second: 12120.5"
      ]
     },
     "metadata": {},
     "output_type": "display_data"
    },
    {
     "data": {
      "text/html": [
       "<pre>recommendations finished on 9000/45321 queries. users per second: 12177.9</pre>"
      ],
      "text/plain": [
       "recommendations finished on 9000/45321 queries. users per second: 12177.9"
      ]
     },
     "metadata": {},
     "output_type": "display_data"
    },
    {
     "data": {
      "text/html": [
       "<pre>recommendations finished on 10000/45321 queries. users per second: 12194.4</pre>"
      ],
      "text/plain": [
       "recommendations finished on 10000/45321 queries. users per second: 12194.4"
      ]
     },
     "metadata": {},
     "output_type": "display_data"
    },
    {
     "data": {
      "text/html": [
       "<pre>recommendations finished on 11000/45321 queries. users per second: 12281.6</pre>"
      ],
      "text/plain": [
       "recommendations finished on 11000/45321 queries. users per second: 12281.6"
      ]
     },
     "metadata": {},
     "output_type": "display_data"
    },
    {
     "data": {
      "text/html": [
       "<pre>recommendations finished on 12000/45321 queries. users per second: 12324.7</pre>"
      ],
      "text/plain": [
       "recommendations finished on 12000/45321 queries. users per second: 12324.7"
      ]
     },
     "metadata": {},
     "output_type": "display_data"
    },
    {
     "data": {
      "text/html": [
       "<pre>recommendations finished on 13000/45321 queries. users per second: 12361.5</pre>"
      ],
      "text/plain": [
       "recommendations finished on 13000/45321 queries. users per second: 12361.5"
      ]
     },
     "metadata": {},
     "output_type": "display_data"
    },
    {
     "data": {
      "text/html": [
       "<pre>recommendations finished on 14000/45321 queries. users per second: 12393.2</pre>"
      ],
      "text/plain": [
       "recommendations finished on 14000/45321 queries. users per second: 12393.2"
      ]
     },
     "metadata": {},
     "output_type": "display_data"
    },
    {
     "data": {
      "text/html": [
       "<pre>recommendations finished on 15000/45321 queries. users per second: 12420.8</pre>"
      ],
      "text/plain": [
       "recommendations finished on 15000/45321 queries. users per second: 12420.8"
      ]
     },
     "metadata": {},
     "output_type": "display_data"
    },
    {
     "data": {
      "text/html": [
       "<pre>recommendations finished on 16000/45321 queries. users per second: 12445.1</pre>"
      ],
      "text/plain": [
       "recommendations finished on 16000/45321 queries. users per second: 12445.1"
      ]
     },
     "metadata": {},
     "output_type": "display_data"
    },
    {
     "data": {
      "text/html": [
       "<pre>recommendations finished on 17000/45321 queries. users per second: 11798.5</pre>"
      ],
      "text/plain": [
       "recommendations finished on 17000/45321 queries. users per second: 11798.5"
      ]
     },
     "metadata": {},
     "output_type": "display_data"
    },
    {
     "data": {
      "text/html": [
       "<pre>recommendations finished on 18000/45321 queries. users per second: 11539.5</pre>"
      ],
      "text/plain": [
       "recommendations finished on 18000/45321 queries. users per second: 11539.5"
      ]
     },
     "metadata": {},
     "output_type": "display_data"
    },
    {
     "data": {
      "text/html": [
       "<pre>recommendations finished on 19000/45321 queries. users per second: 11432.9</pre>"
      ],
      "text/plain": [
       "recommendations finished on 19000/45321 queries. users per second: 11432.9"
      ]
     },
     "metadata": {},
     "output_type": "display_data"
    },
    {
     "data": {
      "text/html": [
       "<pre>recommendations finished on 20000/45321 queries. users per second: 11293.8</pre>"
      ],
      "text/plain": [
       "recommendations finished on 20000/45321 queries. users per second: 11293.8"
      ]
     },
     "metadata": {},
     "output_type": "display_data"
    },
    {
     "data": {
      "text/html": [
       "<pre>recommendations finished on 21000/45321 queries. users per second: 11230.6</pre>"
      ],
      "text/plain": [
       "recommendations finished on 21000/45321 queries. users per second: 11230.6"
      ]
     },
     "metadata": {},
     "output_type": "display_data"
    },
    {
     "data": {
      "text/html": [
       "<pre>recommendations finished on 22000/45321 queries. users per second: 11259.6</pre>"
      ],
      "text/plain": [
       "recommendations finished on 22000/45321 queries. users per second: 11259.6"
      ]
     },
     "metadata": {},
     "output_type": "display_data"
    },
    {
     "data": {
      "text/html": [
       "<pre>recommendations finished on 23000/45321 queries. users per second: 11308.4</pre>"
      ],
      "text/plain": [
       "recommendations finished on 23000/45321 queries. users per second: 11308.4"
      ]
     },
     "metadata": {},
     "output_type": "display_data"
    },
    {
     "data": {
      "text/html": [
       "<pre>recommendations finished on 24000/45321 queries. users per second: 11337.3</pre>"
      ],
      "text/plain": [
       "recommendations finished on 24000/45321 queries. users per second: 11337.3"
      ]
     },
     "metadata": {},
     "output_type": "display_data"
    },
    {
     "data": {
      "text/html": [
       "<pre>recommendations finished on 25000/45321 queries. users per second: 11369.3</pre>"
      ],
      "text/plain": [
       "recommendations finished on 25000/45321 queries. users per second: 11369.3"
      ]
     },
     "metadata": {},
     "output_type": "display_data"
    },
    {
     "data": {
      "text/html": [
       "<pre>recommendations finished on 26000/45321 queries. users per second: 11404</pre>"
      ],
      "text/plain": [
       "recommendations finished on 26000/45321 queries. users per second: 11404"
      ]
     },
     "metadata": {},
     "output_type": "display_data"
    },
    {
     "data": {
      "text/html": [
       "<pre>recommendations finished on 27000/45321 queries. users per second: 11407.3</pre>"
      ],
      "text/plain": [
       "recommendations finished on 27000/45321 queries. users per second: 11407.3"
      ]
     },
     "metadata": {},
     "output_type": "display_data"
    },
    {
     "data": {
      "text/html": [
       "<pre>recommendations finished on 28000/45321 queries. users per second: 11160.2</pre>"
      ],
      "text/plain": [
       "recommendations finished on 28000/45321 queries. users per second: 11160.2"
      ]
     },
     "metadata": {},
     "output_type": "display_data"
    },
    {
     "data": {
      "text/html": [
       "<pre>recommendations finished on 29000/45321 queries. users per second: 11141.3</pre>"
      ],
      "text/plain": [
       "recommendations finished on 29000/45321 queries. users per second: 11141.3"
      ]
     },
     "metadata": {},
     "output_type": "display_data"
    },
    {
     "data": {
      "text/html": [
       "<pre>recommendations finished on 30000/45321 queries. users per second: 11078.6</pre>"
      ],
      "text/plain": [
       "recommendations finished on 30000/45321 queries. users per second: 11078.6"
      ]
     },
     "metadata": {},
     "output_type": "display_data"
    },
    {
     "data": {
      "text/html": [
       "<pre>recommendations finished on 31000/45321 queries. users per second: 11004.9</pre>"
      ],
      "text/plain": [
       "recommendations finished on 31000/45321 queries. users per second: 11004.9"
      ]
     },
     "metadata": {},
     "output_type": "display_data"
    },
    {
     "data": {
      "text/html": [
       "<pre>recommendations finished on 32000/45321 queries. users per second: 10966.6</pre>"
      ],
      "text/plain": [
       "recommendations finished on 32000/45321 queries. users per second: 10966.6"
      ]
     },
     "metadata": {},
     "output_type": "display_data"
    },
    {
     "data": {
      "text/html": [
       "<pre>recommendations finished on 33000/45321 queries. users per second: 10960</pre>"
      ],
      "text/plain": [
       "recommendations finished on 33000/45321 queries. users per second: 10960"
      ]
     },
     "metadata": {},
     "output_type": "display_data"
    },
    {
     "data": {
      "text/html": [
       "<pre>recommendations finished on 34000/45321 queries. users per second: 10964.4</pre>"
      ],
      "text/plain": [
       "recommendations finished on 34000/45321 queries. users per second: 10964.4"
      ]
     },
     "metadata": {},
     "output_type": "display_data"
    },
    {
     "data": {
      "text/html": [
       "<pre>recommendations finished on 35000/45321 queries. users per second: 10944.5</pre>"
      ],
      "text/plain": [
       "recommendations finished on 35000/45321 queries. users per second: 10944.5"
      ]
     },
     "metadata": {},
     "output_type": "display_data"
    },
    {
     "data": {
      "text/html": [
       "<pre>recommendations finished on 36000/45321 queries. users per second: 10850</pre>"
      ],
      "text/plain": [
       "recommendations finished on 36000/45321 queries. users per second: 10850"
      ]
     },
     "metadata": {},
     "output_type": "display_data"
    },
    {
     "data": {
      "text/html": [
       "<pre>recommendations finished on 37000/45321 queries. users per second: 10793.6</pre>"
      ],
      "text/plain": [
       "recommendations finished on 37000/45321 queries. users per second: 10793.6"
      ]
     },
     "metadata": {},
     "output_type": "display_data"
    },
    {
     "data": {
      "text/html": [
       "<pre>recommendations finished on 38000/45321 queries. users per second: 10590.9</pre>"
      ],
      "text/plain": [
       "recommendations finished on 38000/45321 queries. users per second: 10590.9"
      ]
     },
     "metadata": {},
     "output_type": "display_data"
    },
    {
     "data": {
      "text/html": [
       "<pre>recommendations finished on 39000/45321 queries. users per second: 10526.3</pre>"
      ],
      "text/plain": [
       "recommendations finished on 39000/45321 queries. users per second: 10526.3"
      ]
     },
     "metadata": {},
     "output_type": "display_data"
    },
    {
     "data": {
      "text/html": [
       "<pre>recommendations finished on 40000/45321 queries. users per second: 10543</pre>"
      ],
      "text/plain": [
       "recommendations finished on 40000/45321 queries. users per second: 10543"
      ]
     },
     "metadata": {},
     "output_type": "display_data"
    },
    {
     "data": {
      "text/html": [
       "<pre>recommendations finished on 41000/45321 queries. users per second: 10588.9</pre>"
      ],
      "text/plain": [
       "recommendations finished on 41000/45321 queries. users per second: 10588.9"
      ]
     },
     "metadata": {},
     "output_type": "display_data"
    },
    {
     "data": {
      "text/html": [
       "<pre>recommendations finished on 42000/45321 queries. users per second: 10619.5</pre>"
      ],
      "text/plain": [
       "recommendations finished on 42000/45321 queries. users per second: 10619.5"
      ]
     },
     "metadata": {},
     "output_type": "display_data"
    },
    {
     "data": {
      "text/html": [
       "<pre>recommendations finished on 43000/45321 queries. users per second: 10409.1</pre>"
      ],
      "text/plain": [
       "recommendations finished on 43000/45321 queries. users per second: 10409.1"
      ]
     },
     "metadata": {},
     "output_type": "display_data"
    },
    {
     "data": {
      "text/html": [
       "<pre>recommendations finished on 44000/45321 queries. users per second: 10180.4</pre>"
      ],
      "text/plain": [
       "recommendations finished on 44000/45321 queries. users per second: 10180.4"
      ]
     },
     "metadata": {},
     "output_type": "display_data"
    },
    {
     "data": {
      "text/html": [
       "<pre>recommendations finished on 45000/45321 queries. users per second: 9938.09</pre>"
      ],
      "text/plain": [
       "recommendations finished on 45000/45321 queries. users per second: 9938.09"
      ]
     },
     "metadata": {},
     "output_type": "display_data"
    },
    {
     "data": {
      "text/html": [
       "<pre>recommendations finished on 1000/45321 queries. users per second: 9433.43</pre>"
      ],
      "text/plain": [
       "recommendations finished on 1000/45321 queries. users per second: 9433.43"
      ]
     },
     "metadata": {},
     "output_type": "display_data"
    },
    {
     "data": {
      "text/html": [
       "<pre>recommendations finished on 2000/45321 queries. users per second: 10151.7</pre>"
      ],
      "text/plain": [
       "recommendations finished on 2000/45321 queries. users per second: 10151.7"
      ]
     },
     "metadata": {},
     "output_type": "display_data"
    },
    {
     "data": {
      "text/html": [
       "<pre>recommendations finished on 3000/45321 queries. users per second: 10908.5</pre>"
      ],
      "text/plain": [
       "recommendations finished on 3000/45321 queries. users per second: 10908.5"
      ]
     },
     "metadata": {},
     "output_type": "display_data"
    },
    {
     "data": {
      "text/html": [
       "<pre>recommendations finished on 4000/45321 queries. users per second: 11427.9</pre>"
      ],
      "text/plain": [
       "recommendations finished on 4000/45321 queries. users per second: 11427.9"
      ]
     },
     "metadata": {},
     "output_type": "display_data"
    },
    {
     "data": {
      "text/html": [
       "<pre>recommendations finished on 5000/45321 queries. users per second: 11764</pre>"
      ],
      "text/plain": [
       "recommendations finished on 5000/45321 queries. users per second: 11764"
      ]
     },
     "metadata": {},
     "output_type": "display_data"
    },
    {
     "data": {
      "text/html": [
       "<pre>recommendations finished on 6000/45321 queries. users per second: 11904.1</pre>"
      ],
      "text/plain": [
       "recommendations finished on 6000/45321 queries. users per second: 11904.1"
      ]
     },
     "metadata": {},
     "output_type": "display_data"
    },
    {
     "data": {
      "text/html": [
       "<pre>recommendations finished on 7000/45321 queries. users per second: 12131</pre>"
      ],
      "text/plain": [
       "recommendations finished on 7000/45321 queries. users per second: 12131"
      ]
     },
     "metadata": {},
     "output_type": "display_data"
    },
    {
     "data": {
      "text/html": [
       "<pre>recommendations finished on 8000/45321 queries. users per second: 12326</pre>"
      ],
      "text/plain": [
       "recommendations finished on 8000/45321 queries. users per second: 12326"
      ]
     },
     "metadata": {},
     "output_type": "display_data"
    },
    {
     "data": {
      "text/html": [
       "<pre>recommendations finished on 9000/45321 queries. users per second: 12464.7</pre>"
      ],
      "text/plain": [
       "recommendations finished on 9000/45321 queries. users per second: 12464.7"
      ]
     },
     "metadata": {},
     "output_type": "display_data"
    },
    {
     "data": {
      "text/html": [
       "<pre>recommendations finished on 10000/45321 queries. users per second: 12562.1</pre>"
      ],
      "text/plain": [
       "recommendations finished on 10000/45321 queries. users per second: 12562.1"
      ]
     },
     "metadata": {},
     "output_type": "display_data"
    },
    {
     "data": {
      "text/html": [
       "<pre>recommendations finished on 11000/45321 queries. users per second: 12470.9</pre>"
      ],
      "text/plain": [
       "recommendations finished on 11000/45321 queries. users per second: 12470.9"
      ]
     },
     "metadata": {},
     "output_type": "display_data"
    },
    {
     "data": {
      "text/html": [
       "<pre>recommendations finished on 12000/45321 queries. users per second: 12564.7</pre>"
      ],
      "text/plain": [
       "recommendations finished on 12000/45321 queries. users per second: 12564.7"
      ]
     },
     "metadata": {},
     "output_type": "display_data"
    },
    {
     "data": {
      "text/html": [
       "<pre>recommendations finished on 13000/45321 queries. users per second: 12620.6</pre>"
      ],
      "text/plain": [
       "recommendations finished on 13000/45321 queries. users per second: 12620.6"
      ]
     },
     "metadata": {},
     "output_type": "display_data"
    },
    {
     "data": {
      "text/html": [
       "<pre>recommendations finished on 14000/45321 queries. users per second: 12703.4</pre>"
      ],
      "text/plain": [
       "recommendations finished on 14000/45321 queries. users per second: 12703.4"
      ]
     },
     "metadata": {},
     "output_type": "display_data"
    },
    {
     "data": {
      "text/html": [
       "<pre>recommendations finished on 15000/45321 queries. users per second: 12776.1</pre>"
      ],
      "text/plain": [
       "recommendations finished on 15000/45321 queries. users per second: 12776.1"
      ]
     },
     "metadata": {},
     "output_type": "display_data"
    },
    {
     "data": {
      "text/html": [
       "<pre>recommendations finished on 16000/45321 queries. users per second: 12952.6</pre>"
      ],
      "text/plain": [
       "recommendations finished on 16000/45321 queries. users per second: 12952.6"
      ]
     },
     "metadata": {},
     "output_type": "display_data"
    },
    {
     "data": {
      "text/html": [
       "<pre>recommendations finished on 17000/45321 queries. users per second: 12944.8</pre>"
      ],
      "text/plain": [
       "recommendations finished on 17000/45321 queries. users per second: 12944.8"
      ]
     },
     "metadata": {},
     "output_type": "display_data"
    },
    {
     "data": {
      "text/html": [
       "<pre>recommendations finished on 18000/45321 queries. users per second: 12937.8</pre>"
      ],
      "text/plain": [
       "recommendations finished on 18000/45321 queries. users per second: 12937.8"
      ]
     },
     "metadata": {},
     "output_type": "display_data"
    },
    {
     "data": {
      "text/html": [
       "<pre>recommendations finished on 19000/45321 queries. users per second: 13070.4</pre>"
      ],
      "text/plain": [
       "recommendations finished on 19000/45321 queries. users per second: 13070.4"
      ]
     },
     "metadata": {},
     "output_type": "display_data"
    },
    {
     "data": {
      "text/html": [
       "<pre>recommendations finished on 20000/45321 queries. users per second: 13057.7</pre>"
      ],
      "text/plain": [
       "recommendations finished on 20000/45321 queries. users per second: 13057.7"
      ]
     },
     "metadata": {},
     "output_type": "display_data"
    },
    {
     "data": {
      "text/html": [
       "<pre>recommendations finished on 21000/45321 queries. users per second: 13046.2</pre>"
      ],
      "text/plain": [
       "recommendations finished on 21000/45321 queries. users per second: 13046.2"
      ]
     },
     "metadata": {},
     "output_type": "display_data"
    },
    {
     "data": {
      "text/html": [
       "<pre>recommendations finished on 22000/45321 queries. users per second: 13035.7</pre>"
      ],
      "text/plain": [
       "recommendations finished on 22000/45321 queries. users per second: 13035.7"
      ]
     },
     "metadata": {},
     "output_type": "display_data"
    },
    {
     "data": {
      "text/html": [
       "<pre>recommendations finished on 23000/45321 queries. users per second: 13026.2</pre>"
      ],
      "text/plain": [
       "recommendations finished on 23000/45321 queries. users per second: 13026.2"
      ]
     },
     "metadata": {},
     "output_type": "display_data"
    },
    {
     "data": {
      "text/html": [
       "<pre>recommendations finished on 24000/45321 queries. users per second: 13128.6</pre>"
      ],
      "text/plain": [
       "recommendations finished on 24000/45321 queries. users per second: 13128.6"
      ]
     },
     "metadata": {},
     "output_type": "display_data"
    },
    {
     "data": {
      "text/html": [
       "<pre>recommendations finished on 25000/45321 queries. users per second: 13224.2</pre>"
      ],
      "text/plain": [
       "recommendations finished on 25000/45321 queries. users per second: 13224.2"
      ]
     },
     "metadata": {},
     "output_type": "display_data"
    },
    {
     "data": {
      "text/html": [
       "<pre>recommendations finished on 26000/45321 queries. users per second: 13208.2</pre>"
      ],
      "text/plain": [
       "recommendations finished on 26000/45321 queries. users per second: 13208.2"
      ]
     },
     "metadata": {},
     "output_type": "display_data"
    },
    {
     "data": {
      "text/html": [
       "<pre>recommendations finished on 27000/45321 queries. users per second: 13294.8</pre>"
      ],
      "text/plain": [
       "recommendations finished on 27000/45321 queries. users per second: 13294.8"
      ]
     },
     "metadata": {},
     "output_type": "display_data"
    },
    {
     "data": {
      "text/html": [
       "<pre>recommendations finished on 28000/45321 queries. users per second: 13277.3</pre>"
      ],
      "text/plain": [
       "recommendations finished on 28000/45321 queries. users per second: 13277.3"
      ]
     },
     "metadata": {},
     "output_type": "display_data"
    },
    {
     "data": {
      "text/html": [
       "<pre>recommendations finished on 29000/45321 queries. users per second: 13356.2</pre>"
      ],
      "text/plain": [
       "recommendations finished on 29000/45321 queries. users per second: 13356.2"
      ]
     },
     "metadata": {},
     "output_type": "display_data"
    },
    {
     "data": {
      "text/html": [
       "<pre>recommendations finished on 30000/45321 queries. users per second: 13337.7</pre>"
      ],
      "text/plain": [
       "recommendations finished on 30000/45321 queries. users per second: 13337.7"
      ]
     },
     "metadata": {},
     "output_type": "display_data"
    },
    {
     "data": {
      "text/html": [
       "<pre>recommendations finished on 31000/45321 queries. users per second: 13300.9</pre>"
      ],
      "text/plain": [
       "recommendations finished on 31000/45321 queries. users per second: 13300.9"
      ]
     },
     "metadata": {},
     "output_type": "display_data"
    },
    {
     "data": {
      "text/html": [
       "<pre>recommendations finished on 32000/45321 queries. users per second: 13138</pre>"
      ],
      "text/plain": [
       "recommendations finished on 32000/45321 queries. users per second: 13138"
      ]
     },
     "metadata": {},
     "output_type": "display_data"
    },
    {
     "data": {
      "text/html": [
       "<pre>recommendations finished on 33000/45321 queries. users per second: 13065.8</pre>"
      ],
      "text/plain": [
       "recommendations finished on 33000/45321 queries. users per second: 13065.8"
      ]
     },
     "metadata": {},
     "output_type": "display_data"
    },
    {
     "data": {
      "text/html": [
       "<pre>recommendations finished on 34000/45321 queries. users per second: 12919.5</pre>"
      ],
      "text/plain": [
       "recommendations finished on 34000/45321 queries. users per second: 12919.5"
      ]
     },
     "metadata": {},
     "output_type": "display_data"
    },
    {
     "data": {
      "text/html": [
       "<pre>recommendations finished on 35000/45321 queries. users per second: 12831.4</pre>"
      ],
      "text/plain": [
       "recommendations finished on 35000/45321 queries. users per second: 12831.4"
      ]
     },
     "metadata": {},
     "output_type": "display_data"
    },
    {
     "data": {
      "text/html": [
       "<pre>recommendations finished on 36000/45321 queries. users per second: 12758.3</pre>"
      ],
      "text/plain": [
       "recommendations finished on 36000/45321 queries. users per second: 12758.3"
      ]
     },
     "metadata": {},
     "output_type": "display_data"
    },
    {
     "data": {
      "text/html": [
       "<pre>recommendations finished on 37000/45321 queries. users per second: 12689.9</pre>"
      ],
      "text/plain": [
       "recommendations finished on 37000/45321 queries. users per second: 12689.9"
      ]
     },
     "metadata": {},
     "output_type": "display_data"
    },
    {
     "data": {
      "text/html": [
       "<pre>recommendations finished on 38000/45321 queries. users per second: 12646.8</pre>"
      ],
      "text/plain": [
       "recommendations finished on 38000/45321 queries. users per second: 12646.8"
      ]
     },
     "metadata": {},
     "output_type": "display_data"
    },
    {
     "data": {
      "text/html": [
       "<pre>recommendations finished on 39000/45321 queries. users per second: 12667.6</pre>"
      ],
      "text/plain": [
       "recommendations finished on 39000/45321 queries. users per second: 12667.6"
      ]
     },
     "metadata": {},
     "output_type": "display_data"
    },
    {
     "data": {
      "text/html": [
       "<pre>recommendations finished on 40000/45321 queries. users per second: 12703.6</pre>"
      ],
      "text/plain": [
       "recommendations finished on 40000/45321 queries. users per second: 12703.6"
      ]
     },
     "metadata": {},
     "output_type": "display_data"
    },
    {
     "data": {
      "text/html": [
       "<pre>recommendations finished on 41000/45321 queries. users per second: 12702.5</pre>"
      ],
      "text/plain": [
       "recommendations finished on 41000/45321 queries. users per second: 12702.5"
      ]
     },
     "metadata": {},
     "output_type": "display_data"
    },
    {
     "data": {
      "text/html": [
       "<pre>recommendations finished on 42000/45321 queries. users per second: 12709.1</pre>"
      ],
      "text/plain": [
       "recommendations finished on 42000/45321 queries. users per second: 12709.1"
      ]
     },
     "metadata": {},
     "output_type": "display_data"
    },
    {
     "data": {
      "text/html": [
       "<pre>recommendations finished on 43000/45321 queries. users per second: 12730.4</pre>"
      ],
      "text/plain": [
       "recommendations finished on 43000/45321 queries. users per second: 12730.4"
      ]
     },
     "metadata": {},
     "output_type": "display_data"
    },
    {
     "data": {
      "text/html": [
       "<pre>recommendations finished on 44000/45321 queries. users per second: 12608.4</pre>"
      ],
      "text/plain": [
       "recommendations finished on 44000/45321 queries. users per second: 12608.4"
      ]
     },
     "metadata": {},
     "output_type": "display_data"
    },
    {
     "data": {
      "text/html": [
       "<pre>recommendations finished on 45000/45321 queries. users per second: 12130.2</pre>"
      ],
      "text/plain": [
       "recommendations finished on 45000/45321 queries. users per second: 12130.2"
      ]
     },
     "metadata": {},
     "output_type": "display_data"
    },
    {
     "data": {
      "text/html": [
       "<pre>recommendations finished on 1000/45321 queries. users per second: 12658.2</pre>"
      ],
      "text/plain": [
       "recommendations finished on 1000/45321 queries. users per second: 12658.2"
      ]
     },
     "metadata": {},
     "output_type": "display_data"
    },
    {
     "data": {
      "text/html": [
       "<pre>recommendations finished on 2000/45321 queries. users per second: 12738.9</pre>"
      ],
      "text/plain": [
       "recommendations finished on 2000/45321 queries. users per second: 12738.9"
      ]
     },
     "metadata": {},
     "output_type": "display_data"
    },
    {
     "data": {
      "text/html": [
       "<pre>recommendations finished on 3000/45321 queries. users per second: 12766</pre>"
      ],
      "text/plain": [
       "recommendations finished on 3000/45321 queries. users per second: 12766"
      ]
     },
     "metadata": {},
     "output_type": "display_data"
    },
    {
     "data": {
      "text/html": [
       "<pre>recommendations finished on 4000/45321 queries. users per second: 13449.9</pre>"
      ],
      "text/plain": [
       "recommendations finished on 4000/45321 queries. users per second: 13449.9"
      ]
     },
     "metadata": {},
     "output_type": "display_data"
    },
    {
     "data": {
      "text/html": [
       "<pre>recommendations finished on 5000/45321 queries. users per second: 13319.1</pre>"
      ],
      "text/plain": [
       "recommendations finished on 5000/45321 queries. users per second: 13319.1"
      ]
     },
     "metadata": {},
     "output_type": "display_data"
    },
    {
     "data": {
      "text/html": [
       "<pre>recommendations finished on 6000/45321 queries. users per second: 13233.3</pre>"
      ],
      "text/plain": [
       "recommendations finished on 6000/45321 queries. users per second: 13233.3"
      ]
     },
     "metadata": {},
     "output_type": "display_data"
    },
    {
     "data": {
      "text/html": [
       "<pre>recommendations finished on 7000/45321 queries. users per second: 12769</pre>"
      ],
      "text/plain": [
       "recommendations finished on 7000/45321 queries. users per second: 12769"
      ]
     },
     "metadata": {},
     "output_type": "display_data"
    },
    {
     "data": {
      "text/html": [
       "<pre>recommendations finished on 8000/45321 queries. users per second: 12795.7</pre>"
      ],
      "text/plain": [
       "recommendations finished on 8000/45321 queries. users per second: 12795.7"
      ]
     },
     "metadata": {},
     "output_type": "display_data"
    },
    {
     "data": {
      "text/html": [
       "<pre>recommendations finished on 9000/45321 queries. users per second: 12834.9</pre>"
      ],
      "text/plain": [
       "recommendations finished on 9000/45321 queries. users per second: 12834.9"
      ]
     },
     "metadata": {},
     "output_type": "display_data"
    },
    {
     "data": {
      "text/html": [
       "<pre>recommendations finished on 10000/45321 queries. users per second: 12833.5</pre>"
      ],
      "text/plain": [
       "recommendations finished on 10000/45321 queries. users per second: 12833.5"
      ]
     },
     "metadata": {},
     "output_type": "display_data"
    },
    {
     "data": {
      "text/html": [
       "<pre>recommendations finished on 11000/45321 queries. users per second: 12772.7</pre>"
      ],
      "text/plain": [
       "recommendations finished on 11000/45321 queries. users per second: 12772.7"
      ]
     },
     "metadata": {},
     "output_type": "display_data"
    },
    {
     "data": {
      "text/html": [
       "<pre>recommendations finished on 12000/45321 queries. users per second: 12458.2</pre>"
      ],
      "text/plain": [
       "recommendations finished on 12000/45321 queries. users per second: 12458.2"
      ]
     },
     "metadata": {},
     "output_type": "display_data"
    },
    {
     "data": {
      "text/html": [
       "<pre>recommendations finished on 13000/45321 queries. users per second: 12001.2</pre>"
      ],
      "text/plain": [
       "recommendations finished on 13000/45321 queries. users per second: 12001.2"
      ]
     },
     "metadata": {},
     "output_type": "display_data"
    },
    {
     "data": {
      "text/html": [
       "<pre>recommendations finished on 14000/45321 queries. users per second: 11703.4</pre>"
      ],
      "text/plain": [
       "recommendations finished on 14000/45321 queries. users per second: 11703.4"
      ]
     },
     "metadata": {},
     "output_type": "display_data"
    },
    {
     "data": {
      "text/html": [
       "<pre>recommendations finished on 15000/45321 queries. users per second: 11848</pre>"
      ],
      "text/plain": [
       "recommendations finished on 15000/45321 queries. users per second: 11848"
      ]
     },
     "metadata": {},
     "output_type": "display_data"
    },
    {
     "data": {
      "text/html": [
       "<pre>recommendations finished on 16000/45321 queries. users per second: 11904.5</pre>"
      ],
      "text/plain": [
       "recommendations finished on 16000/45321 queries. users per second: 11904.5"
      ]
     },
     "metadata": {},
     "output_type": "display_data"
    },
    {
     "data": {
      "text/html": [
       "<pre>recommendations finished on 17000/45321 queries. users per second: 11954.7</pre>"
      ],
      "text/plain": [
       "recommendations finished on 17000/45321 queries. users per second: 11954.7"
      ]
     },
     "metadata": {},
     "output_type": "display_data"
    },
    {
     "data": {
      "text/html": [
       "<pre>recommendations finished on 18000/45321 queries. users per second: 12125.8</pre>"
      ],
      "text/plain": [
       "recommendations finished on 18000/45321 queries. users per second: 12125.8"
      ]
     },
     "metadata": {},
     "output_type": "display_data"
    },
    {
     "data": {
      "text/html": [
       "<pre>recommendations finished on 19000/45321 queries. users per second: 12160.5</pre>"
      ],
      "text/plain": [
       "recommendations finished on 19000/45321 queries. users per second: 12160.5"
      ]
     },
     "metadata": {},
     "output_type": "display_data"
    },
    {
     "data": {
      "text/html": [
       "<pre>recommendations finished on 20000/45321 queries. users per second: 12077</pre>"
      ],
      "text/plain": [
       "recommendations finished on 20000/45321 queries. users per second: 12077"
      ]
     },
     "metadata": {},
     "output_type": "display_data"
    },
    {
     "data": {
      "text/html": [
       "<pre>recommendations finished on 21000/45321 queries. users per second: 12110.5</pre>"
      ],
      "text/plain": [
       "recommendations finished on 21000/45321 queries. users per second: 12110.5"
      ]
     },
     "metadata": {},
     "output_type": "display_data"
    },
    {
     "data": {
      "text/html": [
       "<pre>recommendations finished on 22000/45321 queries. users per second: 12141.1</pre>"
      ],
      "text/plain": [
       "recommendations finished on 22000/45321 queries. users per second: 12141.1"
      ]
     },
     "metadata": {},
     "output_type": "display_data"
    },
    {
     "data": {
      "text/html": [
       "<pre>recommendations finished on 23000/45321 queries. users per second: 12169.1</pre>"
      ],
      "text/plain": [
       "recommendations finished on 23000/45321 queries. users per second: 12169.1"
      ]
     },
     "metadata": {},
     "output_type": "display_data"
    },
    {
     "data": {
      "text/html": [
       "<pre>recommendations finished on 24000/45321 queries. users per second: 12194.9</pre>"
      ],
      "text/plain": [
       "recommendations finished on 24000/45321 queries. users per second: 12194.9"
      ]
     },
     "metadata": {},
     "output_type": "display_data"
    },
    {
     "data": {
      "text/html": [
       "<pre>recommendations finished on 25000/45321 queries. users per second: 12218.8</pre>"
      ],
      "text/plain": [
       "recommendations finished on 25000/45321 queries. users per second: 12218.8"
      ]
     },
     "metadata": {},
     "output_type": "display_data"
    },
    {
     "data": {
      "text/html": [
       "<pre>recommendations finished on 26000/45321 queries. users per second: 12331.4</pre>"
      ],
      "text/plain": [
       "recommendations finished on 26000/45321 queries. users per second: 12331.4"
      ]
     },
     "metadata": {},
     "output_type": "display_data"
    },
    {
     "data": {
      "text/html": [
       "<pre>recommendations finished on 27000/45321 queries. users per second: 12348.9</pre>"
      ],
      "text/plain": [
       "recommendations finished on 27000/45321 queries. users per second: 12348.9"
      ]
     },
     "metadata": {},
     "output_type": "display_data"
    },
    {
     "data": {
      "text/html": [
       "<pre>recommendations finished on 28000/45321 queries. users per second: 12365.1</pre>"
      ],
      "text/plain": [
       "recommendations finished on 28000/45321 queries. users per second: 12365.1"
      ]
     },
     "metadata": {},
     "output_type": "display_data"
    },
    {
     "data": {
      "text/html": [
       "<pre>recommendations finished on 29000/45321 queries. users per second: 12380.3</pre>"
      ],
      "text/plain": [
       "recommendations finished on 29000/45321 queries. users per second: 12380.3"
      ]
     },
     "metadata": {},
     "output_type": "display_data"
    },
    {
     "data": {
      "text/html": [
       "<pre>recommendations finished on 30000/45321 queries. users per second: 12394.5</pre>"
      ],
      "text/plain": [
       "recommendations finished on 30000/45321 queries. users per second: 12394.5"
      ]
     },
     "metadata": {},
     "output_type": "display_data"
    },
    {
     "data": {
      "text/html": [
       "<pre>recommendations finished on 31000/45321 queries. users per second: 12332.7</pre>"
      ],
      "text/plain": [
       "recommendations finished on 31000/45321 queries. users per second: 12332.7"
      ]
     },
     "metadata": {},
     "output_type": "display_data"
    },
    {
     "data": {
      "text/html": [
       "<pre>recommendations finished on 32000/45321 queries. users per second: 12285.7</pre>"
      ],
      "text/plain": [
       "recommendations finished on 32000/45321 queries. users per second: 12285.7"
      ]
     },
     "metadata": {},
     "output_type": "display_data"
    },
    {
     "data": {
      "text/html": [
       "<pre>recommendations finished on 33000/45321 queries. users per second: 12260.1</pre>"
      ],
      "text/plain": [
       "recommendations finished on 33000/45321 queries. users per second: 12260.1"
      ]
     },
     "metadata": {},
     "output_type": "display_data"
    },
    {
     "data": {
      "text/html": [
       "<pre>recommendations finished on 34000/45321 queries. users per second: 12187.9</pre>"
      ],
      "text/plain": [
       "recommendations finished on 34000/45321 queries. users per second: 12187.9"
      ]
     },
     "metadata": {},
     "output_type": "display_data"
    },
    {
     "data": {
      "text/html": [
       "<pre>recommendations finished on 35000/45321 queries. users per second: 12162.7</pre>"
      ],
      "text/plain": [
       "recommendations finished on 35000/45321 queries. users per second: 12162.7"
      ]
     },
     "metadata": {},
     "output_type": "display_data"
    },
    {
     "data": {
      "text/html": [
       "<pre>recommendations finished on 36000/45321 queries. users per second: 12138.9</pre>"
      ],
      "text/plain": [
       "recommendations finished on 36000/45321 queries. users per second: 12138.9"
      ]
     },
     "metadata": {},
     "output_type": "display_data"
    },
    {
     "data": {
      "text/html": [
       "<pre>recommendations finished on 37000/45321 queries. users per second: 12152.4</pre>"
      ],
      "text/plain": [
       "recommendations finished on 37000/45321 queries. users per second: 12152.4"
      ]
     },
     "metadata": {},
     "output_type": "display_data"
    },
    {
     "data": {
      "text/html": [
       "<pre>recommendations finished on 38000/45321 queries. users per second: 11984.8</pre>"
      ],
      "text/plain": [
       "recommendations finished on 38000/45321 queries. users per second: 11984.8"
      ]
     },
     "metadata": {},
     "output_type": "display_data"
    },
    {
     "data": {
      "text/html": [
       "<pre>recommendations finished on 39000/45321 queries. users per second: 11968</pre>"
      ],
      "text/plain": [
       "recommendations finished on 39000/45321 queries. users per second: 11968"
      ]
     },
     "metadata": {},
     "output_type": "display_data"
    },
    {
     "data": {
      "text/html": [
       "<pre>recommendations finished on 40000/45321 queries. users per second: 12012.4</pre>"
      ],
      "text/plain": [
       "recommendations finished on 40000/45321 queries. users per second: 12012.4"
      ]
     },
     "metadata": {},
     "output_type": "display_data"
    },
    {
     "data": {
      "text/html": [
       "<pre>recommendations finished on 41000/45321 queries. users per second: 12030.9</pre>"
      ],
      "text/plain": [
       "recommendations finished on 41000/45321 queries. users per second: 12030.9"
      ]
     },
     "metadata": {},
     "output_type": "display_data"
    },
    {
     "data": {
      "text/html": [
       "<pre>recommendations finished on 42000/45321 queries. users per second: 12045.1</pre>"
      ],
      "text/plain": [
       "recommendations finished on 42000/45321 queries. users per second: 12045.1"
      ]
     },
     "metadata": {},
     "output_type": "display_data"
    },
    {
     "data": {
      "text/html": [
       "<pre>recommendations finished on 43000/45321 queries. users per second: 12058.7</pre>"
      ],
      "text/plain": [
       "recommendations finished on 43000/45321 queries. users per second: 12058.7"
      ]
     },
     "metadata": {},
     "output_type": "display_data"
    },
    {
     "data": {
      "text/html": [
       "<pre>recommendations finished on 44000/45321 queries. users per second: 11995.3</pre>"
      ],
      "text/plain": [
       "recommendations finished on 44000/45321 queries. users per second: 11995.3"
      ]
     },
     "metadata": {},
     "output_type": "display_data"
    },
    {
     "data": {
      "text/html": [
       "<pre>recommendations finished on 45000/45321 queries. users per second: 11898.2</pre>"
      ],
      "text/plain": [
       "recommendations finished on 45000/45321 queries. users per second: 11898.2"
      ]
     },
     "metadata": {},
     "output_type": "display_data"
    },
    {
     "data": {
      "text/html": [
       "<pre>recommendations finished on 1000/45321 queries. users per second: 11764</pre>"
      ],
      "text/plain": [
       "recommendations finished on 1000/45321 queries. users per second: 11764"
      ]
     },
     "metadata": {},
     "output_type": "display_data"
    },
    {
     "data": {
      "text/html": [
       "<pre>recommendations finished on 2000/45321 queries. users per second: 11695.2</pre>"
      ],
      "text/plain": [
       "recommendations finished on 2000/45321 queries. users per second: 11695.2"
      ]
     },
     "metadata": {},
     "output_type": "display_data"
    },
    {
     "data": {
      "text/html": [
       "<pre>recommendations finished on 3000/45321 queries. users per second: 11904.1</pre>"
      ],
      "text/plain": [
       "recommendations finished on 3000/45321 queries. users per second: 11904.1"
      ]
     },
     "metadata": {},
     "output_type": "display_data"
    },
    {
     "data": {
      "text/html": [
       "<pre>recommendations finished on 4000/45321 queries. users per second: 12120.5</pre>"
      ],
      "text/plain": [
       "recommendations finished on 4000/45321 queries. users per second: 12120.5"
      ]
     },
     "metadata": {},
     "output_type": "display_data"
    },
    {
     "data": {
      "text/html": [
       "<pre>recommendations finished on 5000/45321 queries. users per second: 12345</pre>"
      ],
      "text/plain": [
       "recommendations finished on 5000/45321 queries. users per second: 12345"
      ]
     },
     "metadata": {},
     "output_type": "display_data"
    },
    {
     "data": {
      "text/html": [
       "<pre>recommendations finished on 6000/45321 queries. users per second: 12345</pre>"
      ],
      "text/plain": [
       "recommendations finished on 6000/45321 queries. users per second: 12345"
      ]
     },
     "metadata": {},
     "output_type": "display_data"
    },
    {
     "data": {
      "text/html": [
       "<pre>recommendations finished on 7000/45321 queries. users per second: 12454.8</pre>"
      ],
      "text/plain": [
       "recommendations finished on 7000/45321 queries. users per second: 12454.8"
      ]
     },
     "metadata": {},
     "output_type": "display_data"
    },
    {
     "data": {
      "text/html": [
       "<pre>recommendations finished on 8000/45321 queries. users per second: 12637.5</pre>"
      ],
      "text/plain": [
       "recommendations finished on 8000/45321 queries. users per second: 12637.5"
      ]
     },
     "metadata": {},
     "output_type": "display_data"
    },
    {
     "data": {
      "text/html": [
       "<pre>recommendations finished on 9000/45321 queries. users per second: 12693.2</pre>"
      ],
      "text/plain": [
       "recommendations finished on 9000/45321 queries. users per second: 12693.2"
      ]
     },
     "metadata": {},
     "output_type": "display_data"
    },
    {
     "data": {
      "text/html": [
       "<pre>recommendations finished on 10000/45321 queries. users per second: 12345</pre>"
      ],
      "text/plain": [
       "recommendations finished on 10000/45321 queries. users per second: 12345"
      ]
     },
     "metadata": {},
     "output_type": "display_data"
    },
    {
     "data": {
      "text/html": [
       "<pre>recommendations finished on 11000/45321 queries. users per second: 12372.7</pre>"
      ],
      "text/plain": [
       "recommendations finished on 11000/45321 queries. users per second: 12372.7"
      ]
     },
     "metadata": {},
     "output_type": "display_data"
    },
    {
     "data": {
      "text/html": [
       "<pre>recommendations finished on 12000/45321 queries. users per second: 12591.1</pre>"
      ],
      "text/plain": [
       "recommendations finished on 12000/45321 queries. users per second: 12591.1"
      ]
     },
     "metadata": {},
     "output_type": "display_data"
    },
    {
     "data": {
      "text/html": [
       "<pre>recommendations finished on 13000/45321 queries. users per second: 12608.4</pre>"
      ],
      "text/plain": [
       "recommendations finished on 13000/45321 queries. users per second: 12608.4"
      ]
     },
     "metadata": {},
     "output_type": "display_data"
    },
    {
     "data": {
      "text/html": [
       "<pre>recommendations finished on 14000/45321 queries. users per second: 12477</pre>"
      ],
      "text/plain": [
       "recommendations finished on 14000/45321 queries. users per second: 12477"
      ]
     },
     "metadata": {},
     "output_type": "display_data"
    },
    {
     "data": {
      "text/html": [
       "<pre>recommendations finished on 15000/45321 queries. users per second: 12345</pre>"
      ],
      "text/plain": [
       "recommendations finished on 15000/45321 queries. users per second: 12345"
      ]
     },
     "metadata": {},
     "output_type": "display_data"
    },
    {
     "data": {
      "text/html": [
       "<pre>recommendations finished on 16000/45321 queries. users per second: 12421.6</pre>"
      ],
      "text/plain": [
       "recommendations finished on 16000/45321 queries. users per second: 12421.6"
      ]
     },
     "metadata": {},
     "output_type": "display_data"
    },
    {
     "data": {
      "text/html": [
       "<pre>recommendations finished on 17000/45321 queries. users per second: 12444.4</pre>"
      ],
      "text/plain": [
       "recommendations finished on 17000/45321 queries. users per second: 12444.4"
      ]
     },
     "metadata": {},
     "output_type": "display_data"
    },
    {
     "data": {
      "text/html": [
       "<pre>recommendations finished on 18000/45321 queries. users per second: 12387.5</pre>"
      ],
      "text/plain": [
       "recommendations finished on 18000/45321 queries. users per second: 12387.5"
      ]
     },
     "metadata": {},
     "output_type": "display_data"
    },
    {
     "data": {
      "text/html": [
       "<pre>recommendations finished on 19000/45321 queries. users per second: 12139.9</pre>"
      ],
      "text/plain": [
       "recommendations finished on 19000/45321 queries. users per second: 12139.9"
      ]
     },
     "metadata": {},
     "output_type": "display_data"
    },
    {
     "data": {
      "text/html": [
       "<pre>recommendations finished on 20000/45321 queries. users per second: 12062</pre>"
      ],
      "text/plain": [
       "recommendations finished on 20000/45321 queries. users per second: 12062"
      ]
     },
     "metadata": {},
     "output_type": "display_data"
    },
    {
     "data": {
      "text/html": [
       "<pre>recommendations finished on 21000/45321 queries. users per second: 12040.6</pre>"
      ],
      "text/plain": [
       "recommendations finished on 21000/45321 queries. users per second: 12040.6"
      ]
     },
     "metadata": {},
     "output_type": "display_data"
    },
    {
     "data": {
      "text/html": [
       "<pre>recommendations finished on 22000/45321 queries. users per second: 12107.2</pre>"
      ],
      "text/plain": [
       "recommendations finished on 22000/45321 queries. users per second: 12107.2"
      ]
     },
     "metadata": {},
     "output_type": "display_data"
    },
    {
     "data": {
      "text/html": [
       "<pre>recommendations finished on 23000/45321 queries. users per second: 12207.4</pre>"
      ],
      "text/plain": [
       "recommendations finished on 23000/45321 queries. users per second: 12207.4"
      ]
     },
     "metadata": {},
     "output_type": "display_data"
    },
    {
     "data": {
      "text/html": [
       "<pre>recommendations finished on 24000/45321 queries. users per second: 12307</pre>"
      ],
      "text/plain": [
       "recommendations finished on 24000/45321 queries. users per second: 12307"
      ]
     },
     "metadata": {},
     "output_type": "display_data"
    },
    {
     "data": {
      "text/html": [
       "<pre>recommendations finished on 25000/45321 queries. users per second: 12400.1</pre>"
      ],
      "text/plain": [
       "recommendations finished on 25000/45321 queries. users per second: 12400.1"
      ]
     },
     "metadata": {},
     "output_type": "display_data"
    },
    {
     "data": {
      "text/html": [
       "<pre>recommendations finished on 26000/45321 queries. users per second: 12487.3</pre>"
      ],
      "text/plain": [
       "recommendations finished on 26000/45321 queries. users per second: 12487.3"
      ]
     },
     "metadata": {},
     "output_type": "display_data"
    },
    {
     "data": {
      "text/html": [
       "<pre>recommendations finished on 27000/45321 queries. users per second: 12563.3</pre>"
      ],
      "text/plain": [
       "recommendations finished on 27000/45321 queries. users per second: 12563.3"
      ]
     },
     "metadata": {},
     "output_type": "display_data"
    },
    {
     "data": {
      "text/html": [
       "<pre>recommendations finished on 28000/45321 queries. users per second: 12600.5</pre>"
      ],
      "text/plain": [
       "recommendations finished on 28000/45321 queries. users per second: 12600.5"
      ]
     },
     "metadata": {},
     "output_type": "display_data"
    },
    {
     "data": {
      "text/html": [
       "<pre>recommendations finished on 29000/45321 queries. users per second: 12635.4</pre>"
      ],
      "text/plain": [
       "recommendations finished on 29000/45321 queries. users per second: 12635.4"
      ]
     },
     "metadata": {},
     "output_type": "display_data"
    },
    {
     "data": {
      "text/html": [
       "<pre>recommendations finished on 30000/45321 queries. users per second: 12668.2</pre>"
      ],
      "text/plain": [
       "recommendations finished on 30000/45321 queries. users per second: 12668.2"
      ]
     },
     "metadata": {},
     "output_type": "display_data"
    },
    {
     "data": {
      "text/html": [
       "<pre>recommendations finished on 31000/45321 queries. users per second: 12678.2</pre>"
      ],
      "text/plain": [
       "recommendations finished on 31000/45321 queries. users per second: 12678.2"
      ]
     },
     "metadata": {},
     "output_type": "display_data"
    },
    {
     "data": {
      "text/html": [
       "<pre>recommendations finished on 32000/45321 queries. users per second: 12702.7</pre>"
      ],
      "text/plain": [
       "recommendations finished on 32000/45321 queries. users per second: 12702.7"
      ]
     },
     "metadata": {},
     "output_type": "display_data"
    },
    {
     "data": {
      "text/html": [
       "<pre>recommendations finished on 33000/45321 queries. users per second: 12720.9</pre>"
      ],
      "text/plain": [
       "recommendations finished on 33000/45321 queries. users per second: 12720.9"
      ]
     },
     "metadata": {},
     "output_type": "display_data"
    },
    {
     "data": {
      "text/html": [
       "<pre>recommendations finished on 34000/45321 queries. users per second: 12559.3</pre>"
      ],
      "text/plain": [
       "recommendations finished on 34000/45321 queries. users per second: 12559.3"
      ]
     },
     "metadata": {},
     "output_type": "display_data"
    },
    {
     "data": {
      "text/html": [
       "<pre>recommendations finished on 35000/45321 queries. users per second: 12494.8</pre>"
      ],
      "text/plain": [
       "recommendations finished on 35000/45321 queries. users per second: 12494.8"
      ]
     },
     "metadata": {},
     "output_type": "display_data"
    },
    {
     "data": {
      "text/html": [
       "<pre>recommendations finished on 36000/45321 queries. users per second: 12560.3</pre>"
      ],
      "text/plain": [
       "recommendations finished on 36000/45321 queries. users per second: 12560.3"
      ]
     },
     "metadata": {},
     "output_type": "display_data"
    },
    {
     "data": {
      "text/html": [
       "<pre>recommendations finished on 37000/45321 queries. users per second: 12623</pre>"
      ],
      "text/plain": [
       "recommendations finished on 37000/45321 queries. users per second: 12623"
      ]
     },
     "metadata": {},
     "output_type": "display_data"
    },
    {
     "data": {
      "text/html": [
       "<pre>recommendations finished on 38000/45321 queries. users per second: 12586.2</pre>"
      ],
      "text/plain": [
       "recommendations finished on 38000/45321 queries. users per second: 12586.2"
      ]
     },
     "metadata": {},
     "output_type": "display_data"
    },
    {
     "data": {
      "text/html": [
       "<pre>recommendations finished on 39000/45321 queries. users per second: 12575.9</pre>"
      ],
      "text/plain": [
       "recommendations finished on 39000/45321 queries. users per second: 12575.9"
      ]
     },
     "metadata": {},
     "output_type": "display_data"
    },
    {
     "data": {
      "text/html": [
       "<pre>recommendations finished on 40000/45321 queries. users per second: 12577.9</pre>"
      ],
      "text/plain": [
       "recommendations finished on 40000/45321 queries. users per second: 12577.9"
      ]
     },
     "metadata": {},
     "output_type": "display_data"
    },
    {
     "data": {
      "text/html": [
       "<pre>recommendations finished on 41000/45321 queries. users per second: 12583.7</pre>"
      ],
      "text/plain": [
       "recommendations finished on 41000/45321 queries. users per second: 12583.7"
      ]
     },
     "metadata": {},
     "output_type": "display_data"
    },
    {
     "data": {
      "text/html": [
       "<pre>recommendations finished on 42000/45321 queries. users per second: 12544.1</pre>"
      ],
      "text/plain": [
       "recommendations finished on 42000/45321 queries. users per second: 12544.1"
      ]
     },
     "metadata": {},
     "output_type": "display_data"
    },
    {
     "data": {
      "text/html": [
       "<pre>recommendations finished on 43000/45321 queries. users per second: 12546.7</pre>"
      ],
      "text/plain": [
       "recommendations finished on 43000/45321 queries. users per second: 12546.7"
      ]
     },
     "metadata": {},
     "output_type": "display_data"
    },
    {
     "data": {
      "text/html": [
       "<pre>recommendations finished on 44000/45321 queries. users per second: 12570.7</pre>"
      ],
      "text/plain": [
       "recommendations finished on 44000/45321 queries. users per second: 12570.7"
      ]
     },
     "metadata": {},
     "output_type": "display_data"
    },
    {
     "data": {
      "text/html": [
       "<pre>recommendations finished on 45000/45321 queries. users per second: 12494.4</pre>"
      ],
      "text/plain": [
       "recommendations finished on 45000/45321 queries. users per second: 12494.4"
      ]
     },
     "metadata": {},
     "output_type": "display_data"
    }
   ],
   "source": [
    "view_content_overview = content_based_model.views.overview(\n",
    "        validation_set=test)\n",
    "view_content_overview.show()"
   ]
  },
  {
   "cell_type": "code",
   "execution_count": 11,
   "metadata": {
    "collapsed": false
   },
   "outputs": [
    {
     "data": {
      "text/html": [
       "<pre>Recsys training: model = ranking_factorization_recommender</pre>"
      ],
      "text/plain": [
       "Recsys training: model = ranking_factorization_recommender"
      ]
     },
     "metadata": {},
     "output_type": "display_data"
    },
    {
     "data": {
      "text/html": [
       "<pre>Preparing data set.</pre>"
      ],
      "text/plain": [
       "Preparing data set."
      ]
     },
     "metadata": {},
     "output_type": "display_data"
    },
    {
     "data": {
      "text/html": [
       "<pre>    Data has 687229 observations with 52532 users and 10000 items.</pre>"
      ],
      "text/plain": [
       "    Data has 687229 observations with 52532 users and 10000 items."
      ]
     },
     "metadata": {},
     "output_type": "display_data"
    },
    {
     "data": {
      "text/html": [
       "<pre>    Data prepared in: 0.820211s</pre>"
      ],
      "text/plain": [
       "    Data prepared in: 0.820211s"
      ]
     },
     "metadata": {},
     "output_type": "display_data"
    },
    {
     "data": {
      "text/html": [
       "<pre>Training ranking_factorization_recommender for recommendations.</pre>"
      ],
      "text/plain": [
       "Training ranking_factorization_recommender for recommendations."
      ]
     },
     "metadata": {},
     "output_type": "display_data"
    },
    {
     "data": {
      "text/html": [
       "<pre>+--------------------------------+--------------------------------------------------+----------+</pre>"
      ],
      "text/plain": [
       "+--------------------------------+--------------------------------------------------+----------+"
      ]
     },
     "metadata": {},
     "output_type": "display_data"
    },
    {
     "data": {
      "text/html": [
       "<pre>| Parameter                      | Description                                      | Value    |</pre>"
      ],
      "text/plain": [
       "| Parameter                      | Description                                      | Value    |"
      ]
     },
     "metadata": {},
     "output_type": "display_data"
    },
    {
     "data": {
      "text/html": [
       "<pre>+--------------------------------+--------------------------------------------------+----------+</pre>"
      ],
      "text/plain": [
       "+--------------------------------+--------------------------------------------------+----------+"
      ]
     },
     "metadata": {},
     "output_type": "display_data"
    },
    {
     "data": {
      "text/html": [
       "<pre>| num_factors                    | Factor Dimension                                 | 32       |</pre>"
      ],
      "text/plain": [
       "| num_factors                    | Factor Dimension                                 | 32       |"
      ]
     },
     "metadata": {},
     "output_type": "display_data"
    },
    {
     "data": {
      "text/html": [
       "<pre>| regularization                 | L2 Regularization on Factors                     | 1e-009   |</pre>"
      ],
      "text/plain": [
       "| regularization                 | L2 Regularization on Factors                     | 1e-009   |"
      ]
     },
     "metadata": {},
     "output_type": "display_data"
    },
    {
     "data": {
      "text/html": [
       "<pre>| solver                         | Solver used for training                         | adagrad  |</pre>"
      ],
      "text/plain": [
       "| solver                         | Solver used for training                         | adagrad  |"
      ]
     },
     "metadata": {},
     "output_type": "display_data"
    },
    {
     "data": {
      "text/html": [
       "<pre>| linear_regularization          | L2 Regularization on Linear Coefficients         | 1e-009   |</pre>"
      ],
      "text/plain": [
       "| linear_regularization          | L2 Regularization on Linear Coefficients         | 1e-009   |"
      ]
     },
     "metadata": {},
     "output_type": "display_data"
    },
    {
     "data": {
      "text/html": [
       "<pre>| ranking_regularization         | Rank-based Regularization Weight                 | 0.25     |</pre>"
      ],
      "text/plain": [
       "| ranking_regularization         | Rank-based Regularization Weight                 | 0.25     |"
      ]
     },
     "metadata": {},
     "output_type": "display_data"
    },
    {
     "data": {
      "text/html": [
       "<pre>| side_data_factorization        | Assign Factors for Side Data                     | True     |</pre>"
      ],
      "text/plain": [
       "| side_data_factorization        | Assign Factors for Side Data                     | True     |"
      ]
     },
     "metadata": {},
     "output_type": "display_data"
    },
    {
     "data": {
      "text/html": [
       "<pre>| max_iterations                 | Maximum Number of Iterations                     | 25       |</pre>"
      ],
      "text/plain": [
       "| max_iterations                 | Maximum Number of Iterations                     | 25       |"
      ]
     },
     "metadata": {},
     "output_type": "display_data"
    },
    {
     "data": {
      "text/html": [
       "<pre>+--------------------------------+--------------------------------------------------+----------+</pre>"
      ],
      "text/plain": [
       "+--------------------------------+--------------------------------------------------+----------+"
      ]
     },
     "metadata": {},
     "output_type": "display_data"
    },
    {
     "data": {
      "text/html": [
       "<pre>  Optimizing model using SGD; tuning step size.</pre>"
      ],
      "text/plain": [
       "  Optimizing model using SGD; tuning step size."
      ]
     },
     "metadata": {},
     "output_type": "display_data"
    },
    {
     "data": {
      "text/html": [
       "<pre>  Using 85903 / 687229 points for tuning the step size.</pre>"
      ],
      "text/plain": [
       "  Using 85903 / 687229 points for tuning the step size."
      ]
     },
     "metadata": {},
     "output_type": "display_data"
    },
    {
     "data": {
      "text/html": [
       "<pre>+---------+-------------------+------------------------------------------+</pre>"
      ],
      "text/plain": [
       "+---------+-------------------+------------------------------------------+"
      ]
     },
     "metadata": {},
     "output_type": "display_data"
    },
    {
     "data": {
      "text/html": [
       "<pre>| Attempt | Initial Step Size | Estimated Objective Value                |</pre>"
      ],
      "text/plain": [
       "| Attempt | Initial Step Size | Estimated Objective Value                |"
      ]
     },
     "metadata": {},
     "output_type": "display_data"
    },
    {
     "data": {
      "text/html": [
       "<pre>+---------+-------------------+------------------------------------------+</pre>"
      ],
      "text/plain": [
       "+---------+-------------------+------------------------------------------+"
      ]
     },
     "metadata": {},
     "output_type": "display_data"
    },
    {
     "data": {
      "text/html": [
       "<pre>| 0       | 3.57143           | Not Viable                               |</pre>"
      ],
      "text/plain": [
       "| 0       | 3.57143           | Not Viable                               |"
      ]
     },
     "metadata": {},
     "output_type": "display_data"
    },
    {
     "data": {
      "text/html": [
       "<pre>| 1       | 0.892857          | Not Viable                               |</pre>"
      ],
      "text/plain": [
       "| 1       | 0.892857          | Not Viable                               |"
      ]
     },
     "metadata": {},
     "output_type": "display_data"
    },
    {
     "data": {
      "text/html": [
       "<pre>| 2       | 0.223214          | Not Viable                               |</pre>"
      ],
      "text/plain": [
       "| 2       | 0.223214          | Not Viable                               |"
      ]
     },
     "metadata": {},
     "output_type": "display_data"
    },
    {
     "data": {
      "text/html": [
       "<pre>| 3       | 0.0558036         | 1.27931                                  |</pre>"
      ],
      "text/plain": [
       "| 3       | 0.0558036         | 1.27931                                  |"
      ]
     },
     "metadata": {},
     "output_type": "display_data"
    },
    {
     "data": {
      "text/html": [
       "<pre>| 4       | 0.0279018         | 1.467                                    |</pre>"
      ],
      "text/plain": [
       "| 4       | 0.0279018         | 1.467                                    |"
      ]
     },
     "metadata": {},
     "output_type": "display_data"
    },
    {
     "data": {
      "text/html": [
       "<pre>| 5       | 0.0139509         | 1.60848                                  |</pre>"
      ],
      "text/plain": [
       "| 5       | 0.0139509         | 1.60848                                  |"
      ]
     },
     "metadata": {},
     "output_type": "display_data"
    },
    {
     "data": {
      "text/html": [
       "<pre>| 6       | 0.00697545        | No Decrease (2.81247 >= 1.89704)         |</pre>"
      ],
      "text/plain": [
       "| 6       | 0.00697545        | No Decrease (2.81247 >= 1.89704)         |"
      ]
     },
     "metadata": {},
     "output_type": "display_data"
    },
    {
     "data": {
      "text/html": [
       "<pre>+---------+-------------------+------------------------------------------+</pre>"
      ],
      "text/plain": [
       "+---------+-------------------+------------------------------------------+"
      ]
     },
     "metadata": {},
     "output_type": "display_data"
    },
    {
     "data": {
      "text/html": [
       "<pre>| Final   | 0.0558036         | 1.27931                                  |</pre>"
      ],
      "text/plain": [
       "| Final   | 0.0558036         | 1.27931                                  |"
      ]
     },
     "metadata": {},
     "output_type": "display_data"
    },
    {
     "data": {
      "text/html": [
       "<pre>+---------+-------------------+------------------------------------------+</pre>"
      ],
      "text/plain": [
       "+---------+-------------------+------------------------------------------+"
      ]
     },
     "metadata": {},
     "output_type": "display_data"
    },
    {
     "data": {
      "text/html": [
       "<pre>Starting Optimization.</pre>"
      ],
      "text/plain": [
       "Starting Optimization."
      ]
     },
     "metadata": {},
     "output_type": "display_data"
    },
    {
     "data": {
      "text/html": [
       "<pre>+---------+--------------+-------------------+-----------------------+-------------+</pre>"
      ],
      "text/plain": [
       "+---------+--------------+-------------------+-----------------------+-------------+"
      ]
     },
     "metadata": {},
     "output_type": "display_data"
    },
    {
     "data": {
      "text/html": [
       "<pre>| Iter.   | Elapsed Time | Approx. Objective | Approx. Training RMSE | Step Size   |</pre>"
      ],
      "text/plain": [
       "| Iter.   | Elapsed Time | Approx. Objective | Approx. Training RMSE | Step Size   |"
      ]
     },
     "metadata": {},
     "output_type": "display_data"
    },
    {
     "data": {
      "text/html": [
       "<pre>+---------+--------------+-------------------+-----------------------+-------------+</pre>"
      ],
      "text/plain": [
       "+---------+--------------+-------------------+-----------------------+-------------+"
      ]
     },
     "metadata": {},
     "output_type": "display_data"
    },
    {
     "data": {
      "text/html": [
       "<pre>| Initial | 0us          | 1.89836           | 0.983798              |             |</pre>"
      ],
      "text/plain": [
       "| Initial | 0us          | 1.89836           | 0.983798              |             |"
      ]
     },
     "metadata": {},
     "output_type": "display_data"
    },
    {
     "data": {
      "text/html": [
       "<pre>+---------+--------------+-------------------+-----------------------+-------------+</pre>"
      ],
      "text/plain": [
       "+---------+--------------+-------------------+-----------------------+-------------+"
      ]
     },
     "metadata": {},
     "output_type": "display_data"
    },
    {
     "data": {
      "text/html": [
       "<pre>| 1       | 4.45s        | 2.04157           | 1.15592               | 0.0558036   |</pre>"
      ],
      "text/plain": [
       "| 1       | 4.45s        | 2.04157           | 1.15592               | 0.0558036   |"
      ]
     },
     "metadata": {},
     "output_type": "display_data"
    },
    {
     "data": {
      "text/html": [
       "<pre>| 2       | 10.93s       | DIVERGED          | DIVERGED              | 0.0558036   |</pre>"
      ],
      "text/plain": [
       "| 2       | 10.93s       | DIVERGED          | DIVERGED              | 0.0558036   |"
      ]
     },
     "metadata": {},
     "output_type": "display_data"
    },
    {
     "data": {
      "text/html": [
       "<pre>| RESET   | 12.92s       | 1.8987            | 0.983803              |             |</pre>"
      ],
      "text/plain": [
       "| RESET   | 12.92s       | 1.8987            | 0.983803              |             |"
      ]
     },
     "metadata": {},
     "output_type": "display_data"
    },
    {
     "data": {
      "text/html": [
       "<pre>| 1       | 17.27s       | 2.98222           | 1.44289               | 0.0279018   |</pre>"
      ],
      "text/plain": [
       "| 1       | 17.27s       | 2.98222           | 1.44289               | 0.0279018   |"
      ]
     },
     "metadata": {},
     "output_type": "display_data"
    },
    {
     "data": {
      "text/html": [
       "<pre>| 2       | 21.63s       | 1.91464           | 1.08658               | 0.0279018   |</pre>"
      ],
      "text/plain": [
       "| 2       | 21.63s       | 1.91464           | 1.08658               | 0.0279018   |"
      ]
     },
     "metadata": {},
     "output_type": "display_data"
    },
    {
     "data": {
      "text/html": [
       "<pre>| 3       | 26.02s       | 1.74285           | 1.01119               | 0.0279018   |</pre>"
      ],
      "text/plain": [
       "| 3       | 26.02s       | 1.74285           | 1.01119               | 0.0279018   |"
      ]
     },
     "metadata": {},
     "output_type": "display_data"
    },
    {
     "data": {
      "text/html": [
       "<pre>| 4       | 31.67s       | 1.69803           | 0.995298              | 0.0279018   |</pre>"
      ],
      "text/plain": [
       "| 4       | 31.67s       | 1.69803           | 0.995298              | 0.0279018   |"
      ]
     },
     "metadata": {},
     "output_type": "display_data"
    },
    {
     "data": {
      "text/html": [
       "<pre>| 5       | 36.77s       | 1.66622           | 0.986494              | 0.0279018   |</pre>"
      ],
      "text/plain": [
       "| 5       | 36.77s       | 1.66622           | 0.986494              | 0.0279018   |"
      ]
     },
     "metadata": {},
     "output_type": "display_data"
    },
    {
     "data": {
      "text/html": [
       "<pre>| 6       | 41.32s       | 1.65018           | 0.981361              | 0.0279018   |</pre>"
      ],
      "text/plain": [
       "| 6       | 41.32s       | 1.65018           | 0.981361              | 0.0279018   |"
      ]
     },
     "metadata": {},
     "output_type": "display_data"
    },
    {
     "data": {
      "text/html": [
       "<pre>| 7       | 47.00s       | DIVERGED          | DIVERGED              | 0.0279018   |</pre>"
      ],
      "text/plain": [
       "| 7       | 47.00s       | DIVERGED          | DIVERGED              | 0.0279018   |"
      ]
     },
     "metadata": {},
     "output_type": "display_data"
    },
    {
     "data": {
      "text/html": [
       "<pre>| RESET   | 48.83s       | 1.89817           | 0.983841              |             |</pre>"
      ],
      "text/plain": [
       "| RESET   | 48.83s       | 1.89817           | 0.983841              |             |"
      ]
     },
     "metadata": {},
     "output_type": "display_data"
    },
    {
     "data": {
      "text/html": [
       "<pre>| 1       | 52.86s       | 1.86523           | 1.07736               | 0.0139509   |</pre>"
      ],
      "text/plain": [
       "| 1       | 52.86s       | 1.86523           | 1.07736               | 0.0139509   |"
      ]
     },
     "metadata": {},
     "output_type": "display_data"
    },
    {
     "data": {
      "text/html": [
       "<pre>| 2       | 58.69s       | 1.71379           | 0.996256              | 0.0139509   |</pre>"
      ],
      "text/plain": [
       "| 2       | 58.69s       | 1.71379           | 0.996256              | 0.0139509   |"
      ]
     },
     "metadata": {},
     "output_type": "display_data"
    },
    {
     "data": {
      "text/html": [
       "<pre>| 3       | 1m 3s        | 1.64872           | 0.974693              | 0.0139509   |</pre>"
      ],
      "text/plain": [
       "| 3       | 1m 3s        | 1.64872           | 0.974693              | 0.0139509   |"
      ]
     },
     "metadata": {},
     "output_type": "display_data"
    },
    {
     "data": {
      "text/html": [
       "<pre>| 4       | 1m 9s        | 1.62084           | 0.967267              | 0.0139509   |</pre>"
      ],
      "text/plain": [
       "| 4       | 1m 9s        | 1.62084           | 0.967267              | 0.0139509   |"
      ]
     },
     "metadata": {},
     "output_type": "display_data"
    },
    {
     "data": {
      "text/html": [
       "<pre>| 5       | 1m 15s       | 1.60472           | 0.960846              | 0.0139509   |</pre>"
      ],
      "text/plain": [
       "| 5       | 1m 15s       | 1.60472           | 0.960846              | 0.0139509   |"
      ]
     },
     "metadata": {},
     "output_type": "display_data"
    },
    {
     "data": {
      "text/html": [
       "<pre>| 6       | 1m 19s       | 1.59455           | 0.959067              | 0.0139509   |</pre>"
      ],
      "text/plain": [
       "| 6       | 1m 19s       | 1.59455           | 0.959067              | 0.0139509   |"
      ]
     },
     "metadata": {},
     "output_type": "display_data"
    },
    {
     "data": {
      "text/html": [
       "<pre>| 7       | 1m 23s       | 1.58527           | 0.956311              | 0.0139509   |</pre>"
      ],
      "text/plain": [
       "| 7       | 1m 23s       | 1.58527           | 0.956311              | 0.0139509   |"
      ]
     },
     "metadata": {},
     "output_type": "display_data"
    },
    {
     "data": {
      "text/html": [
       "<pre>| 8       | 1m 30s       | 1.58147           | 0.95438               | 0.0139509   |</pre>"
      ],
      "text/plain": [
       "| 8       | 1m 30s       | 1.58147           | 0.95438               | 0.0139509   |"
      ]
     },
     "metadata": {},
     "output_type": "display_data"
    },
    {
     "data": {
      "text/html": [
       "<pre>| 9       | 1m 37s       | 1.57697           | 0.952928              | 0.0139509   |</pre>"
      ],
      "text/plain": [
       "| 9       | 1m 37s       | 1.57697           | 0.952928              | 0.0139509   |"
      ]
     },
     "metadata": {},
     "output_type": "display_data"
    },
    {
     "data": {
      "text/html": [
       "<pre>| 10      | 1m 42s       | 1.5676            | 0.952139              | 0.0139509   |</pre>"
      ],
      "text/plain": [
       "| 10      | 1m 42s       | 1.5676            | 0.952139              | 0.0139509   |"
      ]
     },
     "metadata": {},
     "output_type": "display_data"
    },
    {
     "data": {
      "text/html": [
       "<pre>| 11      | 1m 47s       | 1.56236           | 0.952129              | 0.0139509   |</pre>"
      ],
      "text/plain": [
       "| 11      | 1m 47s       | 1.56236           | 0.952129              | 0.0139509   |"
      ]
     },
     "metadata": {},
     "output_type": "display_data"
    },
    {
     "data": {
      "text/html": [
       "<pre>| 12      | 1m 51s       | 1.56298           | 0.950288              | 0.0139509   |</pre>"
      ],
      "text/plain": [
       "| 12      | 1m 51s       | 1.56298           | 0.950288              | 0.0139509   |"
      ]
     },
     "metadata": {},
     "output_type": "display_data"
    },
    {
     "data": {
      "text/html": [
       "<pre>| 13      | 1m 56s       | 1.56057           | 0.949874              | 0.0139509   |</pre>"
      ],
      "text/plain": [
       "| 13      | 1m 56s       | 1.56057           | 0.949874              | 0.0139509   |"
      ]
     },
     "metadata": {},
     "output_type": "display_data"
    },
    {
     "data": {
      "text/html": [
       "<pre>| 14      | 2m 0s        | 1.55405           | 0.948702              | 0.0139509   |</pre>"
      ],
      "text/plain": [
       "| 14      | 2m 0s        | 1.55405           | 0.948702              | 0.0139509   |"
      ]
     },
     "metadata": {},
     "output_type": "display_data"
    },
    {
     "data": {
      "text/html": [
       "<pre>| 15      | 2m 4s        | 1.55222           | 0.948107              | 0.0139509   |</pre>"
      ],
      "text/plain": [
       "| 15      | 2m 4s        | 1.55222           | 0.948107              | 0.0139509   |"
      ]
     },
     "metadata": {},
     "output_type": "display_data"
    },
    {
     "data": {
      "text/html": [
       "<pre>| 16      | 2m 8s        | 1.5474            | 0.947705              | 0.0139509   |</pre>"
      ],
      "text/plain": [
       "| 16      | 2m 8s        | 1.5474            | 0.947705              | 0.0139509   |"
      ]
     },
     "metadata": {},
     "output_type": "display_data"
    },
    {
     "data": {
      "text/html": [
       "<pre>| 17      | 2m 12s       | 1.54388           | 0.946465              | 0.0139509   |</pre>"
      ],
      "text/plain": [
       "| 17      | 2m 12s       | 1.54388           | 0.946465              | 0.0139509   |"
      ]
     },
     "metadata": {},
     "output_type": "display_data"
    },
    {
     "data": {
      "text/html": [
       "<pre>| 18      | 2m 17s       | 1.54082           | 0.94551               | 0.0139509   |</pre>"
      ],
      "text/plain": [
       "| 18      | 2m 17s       | 1.54082           | 0.94551               | 0.0139509   |"
      ]
     },
     "metadata": {},
     "output_type": "display_data"
    },
    {
     "data": {
      "text/html": [
       "<pre>| 19      | 2m 21s       | 1.5378            | 0.945114              | 0.0139509   |</pre>"
      ],
      "text/plain": [
       "| 19      | 2m 21s       | 1.5378            | 0.945114              | 0.0139509   |"
      ]
     },
     "metadata": {},
     "output_type": "display_data"
    },
    {
     "data": {
      "text/html": [
       "<pre>| 20      | 2m 25s       | 1.53618           | 0.94456               | 0.0139509   |</pre>"
      ],
      "text/plain": [
       "| 20      | 2m 25s       | 1.53618           | 0.94456               | 0.0139509   |"
      ]
     },
     "metadata": {},
     "output_type": "display_data"
    },
    {
     "data": {
      "text/html": [
       "<pre>| 21      | 2m 29s       | 1.53508           | 0.944785              | 0.0139509   |</pre>"
      ],
      "text/plain": [
       "| 21      | 2m 29s       | 1.53508           | 0.944785              | 0.0139509   |"
      ]
     },
     "metadata": {},
     "output_type": "display_data"
    },
    {
     "data": {
      "text/html": [
       "<pre>+---------+--------------+-------------------+-----------------------+-------------+</pre>"
      ],
      "text/plain": [
       "+---------+--------------+-------------------+-----------------------+-------------+"
      ]
     },
     "metadata": {},
     "output_type": "display_data"
    },
    {
     "data": {
      "text/html": [
       "<pre>Optimization Complete: Maximum number of passes through the data reached (hard limit).</pre>"
      ],
      "text/plain": [
       "Optimization Complete: Maximum number of passes through the data reached (hard limit)."
      ]
     },
     "metadata": {},
     "output_type": "display_data"
    },
    {
     "data": {
      "text/html": [
       "<pre>Computing final objective value and training RMSE.</pre>"
      ],
      "text/plain": [
       "Computing final objective value and training RMSE."
      ]
     },
     "metadata": {},
     "output_type": "display_data"
    },
    {
     "data": {
      "text/html": [
       "<pre>       Final objective value: 1.53637</pre>"
      ],
      "text/plain": [
       "       Final objective value: 1.53637"
      ]
     },
     "metadata": {},
     "output_type": "display_data"
    },
    {
     "data": {
      "text/html": [
       "<pre>       Final training RMSE: 0.940443</pre>"
      ],
      "text/plain": [
       "       Final training RMSE: 0.940443"
      ]
     },
     "metadata": {},
     "output_type": "display_data"
    }
   ],
   "source": [
    "# Creating Matrix Factorization model\n",
    "matrix_factorization = graphlab.ranking_factorization_recommender.create(train,user_id='user_id',item_id='book_id', target='rating',item_data=book_data)"
   ]
  },
  {
   "cell_type": "code",
   "execution_count": 13,
   "metadata": {
    "collapsed": false
   },
   "outputs": [
    {
     "data": {
      "text/html": [
       "<pre>Recsys training: model = ranking_factorization_recommender</pre>"
      ],
      "text/plain": [
       "Recsys training: model = ranking_factorization_recommender"
      ]
     },
     "metadata": {},
     "output_type": "display_data"
    },
    {
     "data": {
      "text/html": [
       "<pre>Preparing data set.</pre>"
      ],
      "text/plain": [
       "Preparing data set."
      ]
     },
     "metadata": {},
     "output_type": "display_data"
    },
    {
     "data": {
      "text/html": [
       "<pre>    Data has 687229 observations with 52541 users and 10000 items.</pre>"
      ],
      "text/plain": [
       "    Data has 687229 observations with 52541 users and 10000 items."
      ]
     },
     "metadata": {},
     "output_type": "display_data"
    },
    {
     "data": {
      "text/html": [
       "<pre>    Data prepared in: 0.69341s</pre>"
      ],
      "text/plain": [
       "    Data prepared in: 0.69341s"
      ]
     },
     "metadata": {},
     "output_type": "display_data"
    },
    {
     "data": {
      "text/html": [
       "<pre>Training ranking_factorization_recommender for recommendations.</pre>"
      ],
      "text/plain": [
       "Training ranking_factorization_recommender for recommendations."
      ]
     },
     "metadata": {},
     "output_type": "display_data"
    },
    {
     "data": {
      "text/html": [
       "<pre>+--------------------------------+--------------------------------------------------+----------+</pre>"
      ],
      "text/plain": [
       "+--------------------------------+--------------------------------------------------+----------+"
      ]
     },
     "metadata": {},
     "output_type": "display_data"
    },
    {
     "data": {
      "text/html": [
       "<pre>| Parameter                      | Description                                      | Value    |</pre>"
      ],
      "text/plain": [
       "| Parameter                      | Description                                      | Value    |"
      ]
     },
     "metadata": {},
     "output_type": "display_data"
    },
    {
     "data": {
      "text/html": [
       "<pre>+--------------------------------+--------------------------------------------------+----------+</pre>"
      ],
      "text/plain": [
       "+--------------------------------+--------------------------------------------------+----------+"
      ]
     },
     "metadata": {},
     "output_type": "display_data"
    },
    {
     "data": {
      "text/html": [
       "<pre>| num_factors                    | Factor Dimension                                 | 32       |</pre>"
      ],
      "text/plain": [
       "| num_factors                    | Factor Dimension                                 | 32       |"
      ]
     },
     "metadata": {},
     "output_type": "display_data"
    },
    {
     "data": {
      "text/html": [
       "<pre>| regularization                 | L2 Regularization on Factors                     | 1e-009   |</pre>"
      ],
      "text/plain": [
       "| regularization                 | L2 Regularization on Factors                     | 1e-009   |"
      ]
     },
     "metadata": {},
     "output_type": "display_data"
    },
    {
     "data": {
      "text/html": [
       "<pre>| solver                         | Solver used for training                         | adagrad  |</pre>"
      ],
      "text/plain": [
       "| solver                         | Solver used for training                         | adagrad  |"
      ]
     },
     "metadata": {},
     "output_type": "display_data"
    },
    {
     "data": {
      "text/html": [
       "<pre>| linear_regularization          | L2 Regularization on Linear Coefficients         | 1e-009   |</pre>"
      ],
      "text/plain": [
       "| linear_regularization          | L2 Regularization on Linear Coefficients         | 1e-009   |"
      ]
     },
     "metadata": {},
     "output_type": "display_data"
    },
    {
     "data": {
      "text/html": [
       "<pre>| ranking_regularization         | Rank-based Regularization Weight                 | 0.1      |</pre>"
      ],
      "text/plain": [
       "| ranking_regularization         | Rank-based Regularization Weight                 | 0.1      |"
      ]
     },
     "metadata": {},
     "output_type": "display_data"
    },
    {
     "data": {
      "text/html": [
       "<pre>| unobserved_rating_value        | Ranking Target Rating for Unobserved Interacti...| 1        |</pre>"
      ],
      "text/plain": [
       "| unobserved_rating_value        | Ranking Target Rating for Unobserved Interacti...| 1        |"
      ]
     },
     "metadata": {},
     "output_type": "display_data"
    },
    {
     "data": {
      "text/html": [
       "<pre>| side_data_factorization        | Assign Factors for Side Data                     | True     |</pre>"
      ],
      "text/plain": [
       "| side_data_factorization        | Assign Factors for Side Data                     | True     |"
      ]
     },
     "metadata": {},
     "output_type": "display_data"
    },
    {
     "data": {
      "text/html": [
       "<pre>| max_iterations                 | Maximum Number of Iterations                     | 25       |</pre>"
      ],
      "text/plain": [
       "| max_iterations                 | Maximum Number of Iterations                     | 25       |"
      ]
     },
     "metadata": {},
     "output_type": "display_data"
    },
    {
     "data": {
      "text/html": [
       "<pre>+--------------------------------+--------------------------------------------------+----------+</pre>"
      ],
      "text/plain": [
       "+--------------------------------+--------------------------------------------------+----------+"
      ]
     },
     "metadata": {},
     "output_type": "display_data"
    },
    {
     "data": {
      "text/html": [
       "<pre>  Optimizing model using SGD; tuning step size.</pre>"
      ],
      "text/plain": [
       "  Optimizing model using SGD; tuning step size."
      ]
     },
     "metadata": {},
     "output_type": "display_data"
    },
    {
     "data": {
      "text/html": [
       "<pre>  Using 85903 / 687229 points for tuning the step size.</pre>"
      ],
      "text/plain": [
       "  Using 85903 / 687229 points for tuning the step size."
      ]
     },
     "metadata": {},
     "output_type": "display_data"
    },
    {
     "data": {
      "text/html": [
       "<pre>+---------+-------------------+------------------------------------------+</pre>"
      ],
      "text/plain": [
       "+---------+-------------------+------------------------------------------+"
      ]
     },
     "metadata": {},
     "output_type": "display_data"
    },
    {
     "data": {
      "text/html": [
       "<pre>| Attempt | Initial Step Size | Estimated Objective Value                |</pre>"
      ],
      "text/plain": [
       "| Attempt | Initial Step Size | Estimated Objective Value                |"
      ]
     },
     "metadata": {},
     "output_type": "display_data"
    },
    {
     "data": {
      "text/html": [
       "<pre>+---------+-------------------+------------------------------------------+</pre>"
      ],
      "text/plain": [
       "+---------+-------------------+------------------------------------------+"
      ]
     },
     "metadata": {},
     "output_type": "display_data"
    },
    {
     "data": {
      "text/html": [
       "<pre>| 0       | 3.57143           | Not Viable                               |</pre>"
      ],
      "text/plain": [
       "| 0       | 3.57143           | Not Viable                               |"
      ]
     },
     "metadata": {},
     "output_type": "display_data"
    },
    {
     "data": {
      "text/html": [
       "<pre>| 1       | 0.892857          | Not Viable                               |</pre>"
      ],
      "text/plain": [
       "| 1       | 0.892857          | Not Viable                               |"
      ]
     },
     "metadata": {},
     "output_type": "display_data"
    },
    {
     "data": {
      "text/html": [
       "<pre>| 2       | 0.223214          | Not Viable                               |</pre>"
      ],
      "text/plain": [
       "| 2       | 0.223214          | Not Viable                               |"
      ]
     },
     "metadata": {},
     "output_type": "display_data"
    },
    {
     "data": {
      "text/html": [
       "<pre>| 3       | 0.0558036         | 1.0719                                   |</pre>"
      ],
      "text/plain": [
       "| 3       | 0.0558036         | 1.0719                                   |"
      ]
     },
     "metadata": {},
     "output_type": "display_data"
    },
    {
     "data": {
      "text/html": [
       "<pre>| 4       | 0.0279018         | 1.44236                                  |</pre>"
      ],
      "text/plain": [
       "| 4       | 0.0279018         | 1.44236                                  |"
      ]
     },
     "metadata": {},
     "output_type": "display_data"
    },
    {
     "data": {
      "text/html": [
       "<pre>| 5       | 0.0139509         | 1.47468                                  |</pre>"
      ],
      "text/plain": [
       "| 5       | 0.0139509         | 1.47468                                  |"
      ]
     },
     "metadata": {},
     "output_type": "display_data"
    },
    {
     "data": {
      "text/html": [
       "<pre>| 6       | 0.00697545        | No Decrease (2.02268 >= 1.79279)         |</pre>"
      ],
      "text/plain": [
       "| 6       | 0.00697545        | No Decrease (2.02268 >= 1.79279)         |"
      ]
     },
     "metadata": {},
     "output_type": "display_data"
    },
    {
     "data": {
      "text/html": [
       "<pre>+---------+-------------------+------------------------------------------+</pre>"
      ],
      "text/plain": [
       "+---------+-------------------+------------------------------------------+"
      ]
     },
     "metadata": {},
     "output_type": "display_data"
    },
    {
     "data": {
      "text/html": [
       "<pre>| Final   | 0.0558036         | 1.0719                                   |</pre>"
      ],
      "text/plain": [
       "| Final   | 0.0558036         | 1.0719                                   |"
      ]
     },
     "metadata": {},
     "output_type": "display_data"
    },
    {
     "data": {
      "text/html": [
       "<pre>+---------+-------------------+------------------------------------------+</pre>"
      ],
      "text/plain": [
       "+---------+-------------------+------------------------------------------+"
      ]
     },
     "metadata": {},
     "output_type": "display_data"
    },
    {
     "data": {
      "text/html": [
       "<pre>Starting Optimization.</pre>"
      ],
      "text/plain": [
       "Starting Optimization."
      ]
     },
     "metadata": {},
     "output_type": "display_data"
    },
    {
     "data": {
      "text/html": [
       "<pre>+---------+--------------+-------------------+-----------------------+-------------+</pre>"
      ],
      "text/plain": [
       "+---------+--------------+-------------------+-----------------------+-------------+"
      ]
     },
     "metadata": {},
     "output_type": "display_data"
    },
    {
     "data": {
      "text/html": [
       "<pre>| Iter.   | Elapsed Time | Approx. Objective | Approx. Training RMSE | Step Size   |</pre>"
      ],
      "text/plain": [
       "| Iter.   | Elapsed Time | Approx. Objective | Approx. Training RMSE | Step Size   |"
      ]
     },
     "metadata": {},
     "output_type": "display_data"
    },
    {
     "data": {
      "text/html": [
       "<pre>+---------+--------------+-------------------+-----------------------+-------------+</pre>"
      ],
      "text/plain": [
       "+---------+--------------+-------------------+-----------------------+-------------+"
      ]
     },
     "metadata": {},
     "output_type": "display_data"
    },
    {
     "data": {
      "text/html": [
       "<pre>| Initial | 0us          | 1.78573           | 0.984338              |             |</pre>"
      ],
      "text/plain": [
       "| Initial | 0us          | 1.78573           | 0.984338              |             |"
      ]
     },
     "metadata": {},
     "output_type": "display_data"
    },
    {
     "data": {
      "text/html": [
       "<pre>+---------+--------------+-------------------+-----------------------+-------------+</pre>"
      ],
      "text/plain": [
       "+---------+--------------+-------------------+-----------------------+-------------+"
      ]
     },
     "metadata": {},
     "output_type": "display_data"
    },
    {
     "data": {
      "text/html": [
       "<pre>| 1       | 4.68s        | 1.81452           | 1.04067               | 0.0558036   |</pre>"
      ],
      "text/plain": [
       "| 1       | 4.68s        | 1.81452           | 1.04067               | 0.0558036   |"
      ]
     },
     "metadata": {},
     "output_type": "display_data"
    },
    {
     "data": {
      "text/html": [
       "<pre>| 2       | 9.95s        | 1.43923           | 0.835926              | 0.0558036   |</pre>"
      ],
      "text/plain": [
       "| 2       | 9.95s        | 1.43923           | 0.835926              | 0.0558036   |"
      ]
     },
     "metadata": {},
     "output_type": "display_data"
    },
    {
     "data": {
      "text/html": [
       "<pre>| 3       | 15.37s       | 1.31531           | 0.764024              | 0.0558036   |</pre>"
      ],
      "text/plain": [
       "| 3       | 15.37s       | 1.31531           | 0.764024              | 0.0558036   |"
      ]
     },
     "metadata": {},
     "output_type": "display_data"
    },
    {
     "data": {
      "text/html": [
       "<pre>| 4       | 20.14s       | 1.2196            | 0.712663              | 0.0558036   |</pre>"
      ],
      "text/plain": [
       "| 4       | 20.14s       | 1.2196            | 0.712663              | 0.0558036   |"
      ]
     },
     "metadata": {},
     "output_type": "display_data"
    },
    {
     "data": {
      "text/html": [
       "<pre>| 5       | 24.74s       | 1.1464            | 0.666777              | 0.0558036   |</pre>"
      ],
      "text/plain": [
       "| 5       | 24.74s       | 1.1464            | 0.666777              | 0.0558036   |"
      ]
     },
     "metadata": {},
     "output_type": "display_data"
    },
    {
     "data": {
      "text/html": [
       "<pre>| 6       | 29.16s       | 1.09055           | 0.634363              | 0.0558036   |</pre>"
      ],
      "text/plain": [
       "| 6       | 29.16s       | 1.09055           | 0.634363              | 0.0558036   |"
      ]
     },
     "metadata": {},
     "output_type": "display_data"
    },
    {
     "data": {
      "text/html": [
       "<pre>| 7       | 33.39s       | 1.0436            | 0.606893              | 0.0558036   |</pre>"
      ],
      "text/plain": [
       "| 7       | 33.39s       | 1.0436            | 0.606893              | 0.0558036   |"
      ]
     },
     "metadata": {},
     "output_type": "display_data"
    },
    {
     "data": {
      "text/html": [
       "<pre>| 8       | 37.71s       | 1.00483           | 0.585907              | 0.0558036   |</pre>"
      ],
      "text/plain": [
       "| 8       | 37.71s       | 1.00483           | 0.585907              | 0.0558036   |"
      ]
     },
     "metadata": {},
     "output_type": "display_data"
    },
    {
     "data": {
      "text/html": [
       "<pre>| 9       | 41.93s       | 0.968909          | 0.56688               | 0.0558036   |</pre>"
      ],
      "text/plain": [
       "| 9       | 41.93s       | 0.968909          | 0.56688               | 0.0558036   |"
      ]
     },
     "metadata": {},
     "output_type": "display_data"
    },
    {
     "data": {
      "text/html": [
       "<pre>| 10      | 46.44s       | 0.939792          | 0.550809              | 0.0558036   |</pre>"
      ],
      "text/plain": [
       "| 10      | 46.44s       | 0.939792          | 0.550809              | 0.0558036   |"
      ]
     },
     "metadata": {},
     "output_type": "display_data"
    },
    {
     "data": {
      "text/html": [
       "<pre>| 11      | 51.10s       | 0.914917          | 0.538559              | 0.0558036   |</pre>"
      ],
      "text/plain": [
       "| 11      | 51.10s       | 0.914917          | 0.538559              | 0.0558036   |"
      ]
     },
     "metadata": {},
     "output_type": "display_data"
    },
    {
     "data": {
      "text/html": [
       "<pre>| 12      | 56.00s       | 0.889199          | 0.525852              | 0.0558036   |</pre>"
      ],
      "text/plain": [
       "| 12      | 56.00s       | 0.889199          | 0.525852              | 0.0558036   |"
      ]
     },
     "metadata": {},
     "output_type": "display_data"
    },
    {
     "data": {
      "text/html": [
       "<pre>| 13      | 1m 1s        | 0.868318          | 0.516381              | 0.0558036   |</pre>"
      ],
      "text/plain": [
       "| 13      | 1m 1s        | 0.868318          | 0.516381              | 0.0558036   |"
      ]
     },
     "metadata": {},
     "output_type": "display_data"
    },
    {
     "data": {
      "text/html": [
       "<pre>| 14      | 1m 6s        | 0.849624          | 0.508167              | 0.0558036   |</pre>"
      ],
      "text/plain": [
       "| 14      | 1m 6s        | 0.849624          | 0.508167              | 0.0558036   |"
      ]
     },
     "metadata": {},
     "output_type": "display_data"
    },
    {
     "data": {
      "text/html": [
       "<pre>| 15      | 1m 11s       | 0.83225           | 0.501731              | 0.0558036   |</pre>"
      ],
      "text/plain": [
       "| 15      | 1m 11s       | 0.83225           | 0.501731              | 0.0558036   |"
      ]
     },
     "metadata": {},
     "output_type": "display_data"
    },
    {
     "data": {
      "text/html": [
       "<pre>| 16      | 1m 16s       | 0.81637           | 0.494866              | 0.0558036   |</pre>"
      ],
      "text/plain": [
       "| 16      | 1m 16s       | 0.81637           | 0.494866              | 0.0558036   |"
      ]
     },
     "metadata": {},
     "output_type": "display_data"
    },
    {
     "data": {
      "text/html": [
       "<pre>| 17      | 1m 20s       | 0.801396          | 0.489071              | 0.0558036   |</pre>"
      ],
      "text/plain": [
       "| 17      | 1m 20s       | 0.801396          | 0.489071              | 0.0558036   |"
      ]
     },
     "metadata": {},
     "output_type": "display_data"
    },
    {
     "data": {
      "text/html": [
       "<pre>| 18      | 1m 24s       | 0.7888            | 0.486175              | 0.0558036   |</pre>"
      ],
      "text/plain": [
       "| 18      | 1m 24s       | 0.7888            | 0.486175              | 0.0558036   |"
      ]
     },
     "metadata": {},
     "output_type": "display_data"
    },
    {
     "data": {
      "text/html": [
       "<pre>| 19      | 1m 28s       | 0.775249          | 0.480376              | 0.0558036   |</pre>"
      ],
      "text/plain": [
       "| 19      | 1m 28s       | 0.775249          | 0.480376              | 0.0558036   |"
      ]
     },
     "metadata": {},
     "output_type": "display_data"
    },
    {
     "data": {
      "text/html": [
       "<pre>| 20      | 1m 33s       | 0.763387          | 0.475947              | 0.0558036   |</pre>"
      ],
      "text/plain": [
       "| 20      | 1m 33s       | 0.763387          | 0.475947              | 0.0558036   |"
      ]
     },
     "metadata": {},
     "output_type": "display_data"
    },
    {
     "data": {
      "text/html": [
       "<pre>| 21      | 1m 37s       | 0.75106           | 0.471243              | 0.0558036   |</pre>"
      ],
      "text/plain": [
       "| 21      | 1m 37s       | 0.75106           | 0.471243              | 0.0558036   |"
      ]
     },
     "metadata": {},
     "output_type": "display_data"
    },
    {
     "data": {
      "text/html": [
       "<pre>| 22      | 1m 42s       | 0.742158          | 0.469317              | 0.0558036   |</pre>"
      ],
      "text/plain": [
       "| 22      | 1m 42s       | 0.742158          | 0.469317              | 0.0558036   |"
      ]
     },
     "metadata": {},
     "output_type": "display_data"
    },
    {
     "data": {
      "text/html": [
       "<pre>| 23      | 1m 46s       | 0.730107          | 0.464352              | 0.0558036   |</pre>"
      ],
      "text/plain": [
       "| 23      | 1m 46s       | 0.730107          | 0.464352              | 0.0558036   |"
      ]
     },
     "metadata": {},
     "output_type": "display_data"
    },
    {
     "data": {
      "text/html": [
       "<pre>| 24      | 1m 50s       | 0.721749          | 0.462671              | 0.0558036   |</pre>"
      ],
      "text/plain": [
       "| 24      | 1m 50s       | 0.721749          | 0.462671              | 0.0558036   |"
      ]
     },
     "metadata": {},
     "output_type": "display_data"
    },
    {
     "data": {
      "text/html": [
       "<pre>| 25      | 1m 55s       | 0.711171          | 0.457793              | 0.0558036   |</pre>"
      ],
      "text/plain": [
       "| 25      | 1m 55s       | 0.711171          | 0.457793              | 0.0558036   |"
      ]
     },
     "metadata": {},
     "output_type": "display_data"
    },
    {
     "data": {
      "text/html": [
       "<pre>+---------+--------------+-------------------+-----------------------+-------------+</pre>"
      ],
      "text/plain": [
       "+---------+--------------+-------------------+-----------------------+-------------+"
      ]
     },
     "metadata": {},
     "output_type": "display_data"
    },
    {
     "data": {
      "text/html": [
       "<pre>Optimization Complete: Maximum number of passes through the data reached.</pre>"
      ],
      "text/plain": [
       "Optimization Complete: Maximum number of passes through the data reached."
      ]
     },
     "metadata": {},
     "output_type": "display_data"
    },
    {
     "data": {
      "text/html": [
       "<pre>Computing final objective value and training RMSE.</pre>"
      ],
      "text/plain": [
       "Computing final objective value and training RMSE."
      ]
     },
     "metadata": {},
     "output_type": "display_data"
    },
    {
     "data": {
      "text/html": [
       "<pre>       Final objective value: 0.706661</pre>"
      ],
      "text/plain": [
       "       Final objective value: 0.706661"
      ]
     },
     "metadata": {},
     "output_type": "display_data"
    },
    {
     "data": {
      "text/html": [
       "<pre>       Final training RMSE: 0.441345</pre>"
      ],
      "text/plain": [
       "       Final training RMSE: 0.441345"
      ]
     },
     "metadata": {},
     "output_type": "display_data"
    }
   ],
   "source": [
    "# Creating Matrix Factorization model\n",
    "modified_matrix_factorization = graphlab.ranking_factorization_recommender.create(train,user_id='user_id',item_id='book_id', target='rating',item_data=book_data,ranking_regularization = 0.1,unobserved_rating_value = 1)"
   ]
  },
  {
   "cell_type": "code",
   "execution_count": 12,
   "metadata": {
    "collapsed": false
   },
   "outputs": [
    {
     "ename": "NameError",
     "evalue": "name 'modified_matrix_factorization' is not defined",
     "output_type": "error",
     "traceback": [
      "\u001b[1;31m---------------------------------------------------------------------------\u001b[0m",
      "\u001b[1;31mNameError\u001b[0m                                 Traceback (most recent call last)",
      "\u001b[1;32m<ipython-input-12-1b290b793a58>\u001b[0m in \u001b[0;36m<module>\u001b[1;34m()\u001b[0m\n\u001b[1;32m----> 1\u001b[1;33m view_matrix_overview = modified_matrix_factorization.views.overview(\n\u001b[0m\u001b[0;32m      2\u001b[0m         validation_set=test)\n\u001b[0;32m      3\u001b[0m \u001b[0mview_matrix_overview\u001b[0m\u001b[1;33m.\u001b[0m\u001b[0mshow\u001b[0m\u001b[1;33m(\u001b[0m\u001b[1;33m)\u001b[0m\u001b[1;33m\u001b[0m\u001b[0m\n",
      "\u001b[1;31mNameError\u001b[0m: name 'modified_matrix_factorization' is not defined"
     ]
    }
   ],
   "source": [
    "view_modified_matrix_overview = modified_matrix_factorization.views.overview(\n",
    "        validation_set=test)\n",
    "view_matrix_overview.show()"
   ]
  },
  {
   "cell_type": "code",
   "execution_count": 13,
   "metadata": {
    "collapsed": false
   },
   "outputs": [
    {
     "data": {
      "text/html": [
       "<pre>recommendations finished on 1000/45321 queries. users per second: 302.279</pre>"
      ],
      "text/plain": [
       "recommendations finished on 1000/45321 queries. users per second: 302.279"
      ]
     },
     "metadata": {},
     "output_type": "display_data"
    },
    {
     "data": {
      "text/html": [
       "<pre>recommendations finished on 2000/45321 queries. users per second: 301.068</pre>"
      ],
      "text/plain": [
       "recommendations finished on 2000/45321 queries. users per second: 301.068"
      ]
     },
     "metadata": {},
     "output_type": "display_data"
    },
    {
     "data": {
      "text/html": [
       "<pre>recommendations finished on 3000/45321 queries. users per second: 300.095</pre>"
      ],
      "text/plain": [
       "recommendations finished on 3000/45321 queries. users per second: 300.095"
      ]
     },
     "metadata": {},
     "output_type": "display_data"
    },
    {
     "data": {
      "text/html": [
       "<pre>recommendations finished on 4000/45321 queries. users per second: 298.975</pre>"
      ],
      "text/plain": [
       "recommendations finished on 4000/45321 queries. users per second: 298.975"
      ]
     },
     "metadata": {},
     "output_type": "display_data"
    },
    {
     "data": {
      "text/html": [
       "<pre>recommendations finished on 5000/45321 queries. users per second: 299.16</pre>"
      ],
      "text/plain": [
       "recommendations finished on 5000/45321 queries. users per second: 299.16"
      ]
     },
     "metadata": {},
     "output_type": "display_data"
    },
    {
     "data": {
      "text/html": [
       "<pre>recommendations finished on 6000/45321 queries. users per second: 299.29</pre>"
      ],
      "text/plain": [
       "recommendations finished on 6000/45321 queries. users per second: 299.29"
      ]
     },
     "metadata": {},
     "output_type": "display_data"
    },
    {
     "data": {
      "text/html": [
       "<pre>recommendations finished on 7000/45321 queries. users per second: 298.968</pre>"
      ],
      "text/plain": [
       "recommendations finished on 7000/45321 queries. users per second: 298.968"
      ]
     },
     "metadata": {},
     "output_type": "display_data"
    },
    {
     "data": {
      "text/html": [
       "<pre>recommendations finished on 8000/45321 queries. users per second: 299.094</pre>"
      ],
      "text/plain": [
       "recommendations finished on 8000/45321 queries. users per second: 299.094"
      ]
     },
     "metadata": {},
     "output_type": "display_data"
    },
    {
     "data": {
      "text/html": [
       "<pre>recommendations finished on 9000/45321 queries. users per second: 299.124</pre>"
      ],
      "text/plain": [
       "recommendations finished on 9000/45321 queries. users per second: 299.124"
      ]
     },
     "metadata": {},
     "output_type": "display_data"
    },
    {
     "data": {
      "text/html": [
       "<pre>recommendations finished on 10000/45321 queries. users per second: 299.06</pre>"
      ],
      "text/plain": [
       "recommendations finished on 10000/45321 queries. users per second: 299.06"
      ]
     },
     "metadata": {},
     "output_type": "display_data"
    },
    {
     "data": {
      "text/html": [
       "<pre>recommendations finished on 11000/45321 queries. users per second: 299.073</pre>"
      ],
      "text/plain": [
       "recommendations finished on 11000/45321 queries. users per second: 299.073"
      ]
     },
     "metadata": {},
     "output_type": "display_data"
    },
    {
     "data": {
      "text/html": [
       "<pre>recommendations finished on 12000/45321 queries. users per second: 299.066</pre>"
      ],
      "text/plain": [
       "recommendations finished on 12000/45321 queries. users per second: 299.066"
      ]
     },
     "metadata": {},
     "output_type": "display_data"
    },
    {
     "data": {
      "text/html": [
       "<pre>recommendations finished on 13000/45321 queries. users per second: 298.91</pre>"
      ],
      "text/plain": [
       "recommendations finished on 13000/45321 queries. users per second: 298.91"
      ]
     },
     "metadata": {},
     "output_type": "display_data"
    },
    {
     "data": {
      "text/html": [
       "<pre>recommendations finished on 14000/45321 queries. users per second: 298.994</pre>"
      ],
      "text/plain": [
       "recommendations finished on 14000/45321 queries. users per second: 298.994"
      ]
     },
     "metadata": {},
     "output_type": "display_data"
    },
    {
     "data": {
      "text/html": [
       "<pre>recommendations finished on 15000/45321 queries. users per second: 298.935</pre>"
      ],
      "text/plain": [
       "recommendations finished on 15000/45321 queries. users per second: 298.935"
      ]
     },
     "metadata": {},
     "output_type": "display_data"
    },
    {
     "data": {
      "text/html": [
       "<pre>recommendations finished on 16000/45321 queries. users per second: 296.715</pre>"
      ],
      "text/plain": [
       "recommendations finished on 16000/45321 queries. users per second: 296.715"
      ]
     },
     "metadata": {},
     "output_type": "display_data"
    },
    {
     "data": {
      "text/html": [
       "<pre>recommendations finished on 17000/45321 queries. users per second: 295.007</pre>"
      ],
      "text/plain": [
       "recommendations finished on 17000/45321 queries. users per second: 295.007"
      ]
     },
     "metadata": {},
     "output_type": "display_data"
    },
    {
     "data": {
      "text/html": [
       "<pre>recommendations finished on 18000/45321 queries. users per second: 295.082</pre>"
      ],
      "text/plain": [
       "recommendations finished on 18000/45321 queries. users per second: 295.082"
      ]
     },
     "metadata": {},
     "output_type": "display_data"
    },
    {
     "data": {
      "text/html": [
       "<pre>recommendations finished on 19000/45321 queries. users per second: 295.207</pre>"
      ],
      "text/plain": [
       "recommendations finished on 19000/45321 queries. users per second: 295.207"
      ]
     },
     "metadata": {},
     "output_type": "display_data"
    },
    {
     "data": {
      "text/html": [
       "<pre>recommendations finished on 20000/45321 queries. users per second: 295.42</pre>"
      ],
      "text/plain": [
       "recommendations finished on 20000/45321 queries. users per second: 295.42"
      ]
     },
     "metadata": {},
     "output_type": "display_data"
    },
    {
     "data": {
      "text/html": [
       "<pre>recommendations finished on 21000/45321 queries. users per second: 295.412</pre>"
      ],
      "text/plain": [
       "recommendations finished on 21000/45321 queries. users per second: 295.412"
      ]
     },
     "metadata": {},
     "output_type": "display_data"
    },
    {
     "data": {
      "text/html": [
       "<pre>recommendations finished on 22000/45321 queries. users per second: 295.51</pre>"
      ],
      "text/plain": [
       "recommendations finished on 22000/45321 queries. users per second: 295.51"
      ]
     },
     "metadata": {},
     "output_type": "display_data"
    },
    {
     "data": {
      "text/html": [
       "<pre>recommendations finished on 23000/45321 queries. users per second: 295.591</pre>"
      ],
      "text/plain": [
       "recommendations finished on 23000/45321 queries. users per second: 295.591"
      ]
     },
     "metadata": {},
     "output_type": "display_data"
    },
    {
     "data": {
      "text/html": [
       "<pre>recommendations finished on 24000/45321 queries. users per second: 295.74</pre>"
      ],
      "text/plain": [
       "recommendations finished on 24000/45321 queries. users per second: 295.74"
      ]
     },
     "metadata": {},
     "output_type": "display_data"
    },
    {
     "data": {
      "text/html": [
       "<pre>recommendations finished on 25000/45321 queries. users per second: 295.583</pre>"
      ],
      "text/plain": [
       "recommendations finished on 25000/45321 queries. users per second: 295.583"
      ]
     },
     "metadata": {},
     "output_type": "display_data"
    },
    {
     "data": {
      "text/html": [
       "<pre>recommendations finished on 26000/45321 queries. users per second: 295.515</pre>"
      ],
      "text/plain": [
       "recommendations finished on 26000/45321 queries. users per second: 295.515"
      ]
     },
     "metadata": {},
     "output_type": "display_data"
    },
    {
     "data": {
      "text/html": [
       "<pre>recommendations finished on 27000/45321 queries. users per second: 295.421</pre>"
      ],
      "text/plain": [
       "recommendations finished on 27000/45321 queries. users per second: 295.421"
      ]
     },
     "metadata": {},
     "output_type": "display_data"
    },
    {
     "data": {
      "text/html": [
       "<pre>recommendations finished on 28000/45321 queries. users per second: 295.237</pre>"
      ],
      "text/plain": [
       "recommendations finished on 28000/45321 queries. users per second: 295.237"
      ]
     },
     "metadata": {},
     "output_type": "display_data"
    },
    {
     "data": {
      "text/html": [
       "<pre>recommendations finished on 29000/45321 queries. users per second: 295.196</pre>"
      ],
      "text/plain": [
       "recommendations finished on 29000/45321 queries. users per second: 295.196"
      ]
     },
     "metadata": {},
     "output_type": "display_data"
    },
    {
     "data": {
      "text/html": [
       "<pre>recommendations finished on 30000/45321 queries. users per second: 295.116</pre>"
      ],
      "text/plain": [
       "recommendations finished on 30000/45321 queries. users per second: 295.116"
      ]
     },
     "metadata": {},
     "output_type": "display_data"
    },
    {
     "data": {
      "text/html": [
       "<pre>recommendations finished on 31000/45321 queries. users per second: 295.04</pre>"
      ],
      "text/plain": [
       "recommendations finished on 31000/45321 queries. users per second: 295.04"
      ]
     },
     "metadata": {},
     "output_type": "display_data"
    },
    {
     "data": {
      "text/html": [
       "<pre>recommendations finished on 32000/45321 queries. users per second: 294.914</pre>"
      ],
      "text/plain": [
       "recommendations finished on 32000/45321 queries. users per second: 294.914"
      ]
     },
     "metadata": {},
     "output_type": "display_data"
    },
    {
     "data": {
      "text/html": [
       "<pre>recommendations finished on 33000/45321 queries. users per second: 294.828</pre>"
      ],
      "text/plain": [
       "recommendations finished on 33000/45321 queries. users per second: 294.828"
      ]
     },
     "metadata": {},
     "output_type": "display_data"
    },
    {
     "data": {
      "text/html": [
       "<pre>recommendations finished on 34000/45321 queries. users per second: 294.73</pre>"
      ],
      "text/plain": [
       "recommendations finished on 34000/45321 queries. users per second: 294.73"
      ]
     },
     "metadata": {},
     "output_type": "display_data"
    },
    {
     "data": {
      "text/html": [
       "<pre>recommendations finished on 35000/45321 queries. users per second: 294.669</pre>"
      ],
      "text/plain": [
       "recommendations finished on 35000/45321 queries. users per second: 294.669"
      ]
     },
     "metadata": {},
     "output_type": "display_data"
    },
    {
     "data": {
      "text/html": [
       "<pre>recommendations finished on 36000/45321 queries. users per second: 294.619</pre>"
      ],
      "text/plain": [
       "recommendations finished on 36000/45321 queries. users per second: 294.619"
      ]
     },
     "metadata": {},
     "output_type": "display_data"
    },
    {
     "data": {
      "text/html": [
       "<pre>recommendations finished on 37000/45321 queries. users per second: 294.591</pre>"
      ],
      "text/plain": [
       "recommendations finished on 37000/45321 queries. users per second: 294.591"
      ]
     },
     "metadata": {},
     "output_type": "display_data"
    },
    {
     "data": {
      "text/html": [
       "<pre>recommendations finished on 38000/45321 queries. users per second: 294.501</pre>"
      ],
      "text/plain": [
       "recommendations finished on 38000/45321 queries. users per second: 294.501"
      ]
     },
     "metadata": {},
     "output_type": "display_data"
    },
    {
     "data": {
      "text/html": [
       "<pre>recommendations finished on 39000/45321 queries. users per second: 294.423</pre>"
      ],
      "text/plain": [
       "recommendations finished on 39000/45321 queries. users per second: 294.423"
      ]
     },
     "metadata": {},
     "output_type": "display_data"
    },
    {
     "data": {
      "text/html": [
       "<pre>recommendations finished on 40000/45321 queries. users per second: 294.346</pre>"
      ],
      "text/plain": [
       "recommendations finished on 40000/45321 queries. users per second: 294.346"
      ]
     },
     "metadata": {},
     "output_type": "display_data"
    },
    {
     "data": {
      "text/html": [
       "<pre>recommendations finished on 41000/45321 queries. users per second: 294.333</pre>"
      ],
      "text/plain": [
       "recommendations finished on 41000/45321 queries. users per second: 294.333"
      ]
     },
     "metadata": {},
     "output_type": "display_data"
    },
    {
     "data": {
      "text/html": [
       "<pre>recommendations finished on 42000/45321 queries. users per second: 294.124</pre>"
      ],
      "text/plain": [
       "recommendations finished on 42000/45321 queries. users per second: 294.124"
      ]
     },
     "metadata": {},
     "output_type": "display_data"
    },
    {
     "data": {
      "text/html": [
       "<pre>recommendations finished on 43000/45321 queries. users per second: 294.111</pre>"
      ],
      "text/plain": [
       "recommendations finished on 43000/45321 queries. users per second: 294.111"
      ]
     },
     "metadata": {},
     "output_type": "display_data"
    },
    {
     "data": {
      "text/html": [
       "<pre>recommendations finished on 44000/45321 queries. users per second: 294.021</pre>"
      ],
      "text/plain": [
       "recommendations finished on 44000/45321 queries. users per second: 294.021"
      ]
     },
     "metadata": {},
     "output_type": "display_data"
    },
    {
     "data": {
      "text/html": [
       "<pre>recommendations finished on 45000/45321 queries. users per second: 292.342</pre>"
      ],
      "text/plain": [
       "recommendations finished on 45000/45321 queries. users per second: 292.342"
      ]
     },
     "metadata": {},
     "output_type": "display_data"
    },
    {
     "data": {
      "text/html": [
       "<pre>recommendations finished on 1000/45321 queries. users per second: 16025.6</pre>"
      ],
      "text/plain": [
       "recommendations finished on 1000/45321 queries. users per second: 16025.6"
      ]
     },
     "metadata": {},
     "output_type": "display_data"
    },
    {
     "data": {
      "text/html": [
       "<pre>recommendations finished on 2000/45321 queries. users per second: 11573.9</pre>"
      ],
      "text/plain": [
       "recommendations finished on 2000/45321 queries. users per second: 11573.9"
      ]
     },
     "metadata": {},
     "output_type": "display_data"
    },
    {
     "data": {
      "text/html": [
       "<pre>recommendations finished on 3000/45321 queries. users per second: 10210.7</pre>"
      ],
      "text/plain": [
       "recommendations finished on 3000/45321 queries. users per second: 10210.7"
      ]
     },
     "metadata": {},
     "output_type": "display_data"
    },
    {
     "data": {
      "text/html": [
       "<pre>recommendations finished on 4000/45321 queries. users per second: 9808.44</pre>"
      ],
      "text/plain": [
       "recommendations finished on 4000/45321 queries. users per second: 9808.44"
      ]
     },
     "metadata": {},
     "output_type": "display_data"
    },
    {
     "data": {
      "text/html": [
       "<pre>recommendations finished on 5000/45321 queries. users per second: 8830.52</pre>"
      ],
      "text/plain": [
       "recommendations finished on 5000/45321 queries. users per second: 8830.52"
      ]
     },
     "metadata": {},
     "output_type": "display_data"
    },
    {
     "data": {
      "text/html": [
       "<pre>recommendations finished on 6000/45321 queries. users per second: 9096.15</pre>"
      ],
      "text/plain": [
       "recommendations finished on 6000/45321 queries. users per second: 9096.15"
      ]
     },
     "metadata": {},
     "output_type": "display_data"
    },
    {
     "data": {
      "text/html": [
       "<pre>recommendations finished on 7000/45321 queries. users per second: 9293.43</pre>"
      ],
      "text/plain": [
       "recommendations finished on 7000/45321 queries. users per second: 9293.43"
      ]
     },
     "metadata": {},
     "output_type": "display_data"
    },
    {
     "data": {
      "text/html": [
       "<pre>recommendations finished on 8000/45321 queries. users per second: 9453.8</pre>"
      ],
      "text/plain": [
       "recommendations finished on 8000/45321 queries. users per second: 9453.8"
      ]
     },
     "metadata": {},
     "output_type": "display_data"
    },
    {
     "data": {
      "text/html": [
       "<pre>recommendations finished on 9000/45321 queries. users per second: 9363.02</pre>"
      ],
      "text/plain": [
       "recommendations finished on 9000/45321 queries. users per second: 9363.02"
      ]
     },
     "metadata": {},
     "output_type": "display_data"
    },
    {
     "data": {
      "text/html": [
       "<pre>recommendations finished on 10000/45321 queries. users per second: 9158.9</pre>"
      ],
      "text/plain": [
       "recommendations finished on 10000/45321 queries. users per second: 9158.9"
      ]
     },
     "metadata": {},
     "output_type": "display_data"
    },
    {
     "data": {
      "text/html": [
       "<pre>recommendations finished on 11000/45321 queries. users per second: 9201.64</pre>"
      ],
      "text/plain": [
       "recommendations finished on 11000/45321 queries. users per second: 9201.64"
      ]
     },
     "metadata": {},
     "output_type": "display_data"
    },
    {
     "data": {
      "text/html": [
       "<pre>recommendations finished on 12000/45321 queries. users per second: 9234.71</pre>"
      ],
      "text/plain": [
       "recommendations finished on 12000/45321 queries. users per second: 9234.71"
      ]
     },
     "metadata": {},
     "output_type": "display_data"
    },
    {
     "data": {
      "text/html": [
       "<pre>recommendations finished on 13000/45321 queries. users per second: 9376.47</pre>"
      ],
      "text/plain": [
       "recommendations finished on 13000/45321 queries. users per second: 9376.47"
      ]
     },
     "metadata": {},
     "output_type": "display_data"
    },
    {
     "data": {
      "text/html": [
       "<pre>recommendations finished on 14000/45321 queries. users per second: 9501.48</pre>"
      ],
      "text/plain": [
       "recommendations finished on 14000/45321 queries. users per second: 9501.48"
      ]
     },
     "metadata": {},
     "output_type": "display_data"
    },
    {
     "data": {
      "text/html": [
       "<pre>recommendations finished on 15000/45321 queries. users per second: 9606.39</pre>"
      ],
      "text/plain": [
       "recommendations finished on 15000/45321 queries. users per second: 9606.39"
      ]
     },
     "metadata": {},
     "output_type": "display_data"
    },
    {
     "data": {
      "text/html": [
       "<pre>recommendations finished on 16000/45321 queries. users per second: 9717.79</pre>"
      ],
      "text/plain": [
       "recommendations finished on 16000/45321 queries. users per second: 9717.79"
      ]
     },
     "metadata": {},
     "output_type": "display_data"
    },
    {
     "data": {
      "text/html": [
       "<pre>recommendations finished on 17000/45321 queries. users per second: 9767.48</pre>"
      ],
      "text/plain": [
       "recommendations finished on 17000/45321 queries. users per second: 9767.48"
      ]
     },
     "metadata": {},
     "output_type": "display_data"
    },
    {
     "data": {
      "text/html": [
       "<pre>recommendations finished on 18000/45321 queries. users per second: 9785.4</pre>"
      ],
      "text/plain": [
       "recommendations finished on 18000/45321 queries. users per second: 9785.4"
      ]
     },
     "metadata": {},
     "output_type": "display_data"
    },
    {
     "data": {
      "text/html": [
       "<pre>recommendations finished on 19000/45321 queries. users per second: 9852.31</pre>"
      ],
      "text/plain": [
       "recommendations finished on 19000/45321 queries. users per second: 9852.31"
      ]
     },
     "metadata": {},
     "output_type": "display_data"
    },
    {
     "data": {
      "text/html": [
       "<pre>recommendations finished on 20000/45321 queries. users per second: 9918.24</pre>"
      ],
      "text/plain": [
       "recommendations finished on 20000/45321 queries. users per second: 9918.24"
      ]
     },
     "metadata": {},
     "output_type": "display_data"
    },
    {
     "data": {
      "text/html": [
       "<pre>recommendations finished on 21000/45321 queries. users per second: 9940.87</pre>"
      ],
      "text/plain": [
       "recommendations finished on 21000/45321 queries. users per second: 9940.87"
      ]
     },
     "metadata": {},
     "output_type": "display_data"
    },
    {
     "data": {
      "text/html": [
       "<pre>recommendations finished on 22000/45321 queries. users per second: 9939.02</pre>"
      ],
      "text/plain": [
       "recommendations finished on 22000/45321 queries. users per second: 9939.02"
      ]
     },
     "metadata": {},
     "output_type": "display_data"
    },
    {
     "data": {
      "text/html": [
       "<pre>recommendations finished on 23000/45321 queries. users per second: 9993.47</pre>"
      ],
      "text/plain": [
       "recommendations finished on 23000/45321 queries. users per second: 9993.47"
      ]
     },
     "metadata": {},
     "output_type": "display_data"
    },
    {
     "data": {
      "text/html": [
       "<pre>recommendations finished on 24000/45321 queries. users per second: 10043.9</pre>"
      ],
      "text/plain": [
       "recommendations finished on 24000/45321 queries. users per second: 10043.9"
      ]
     },
     "metadata": {},
     "output_type": "display_data"
    },
    {
     "data": {
      "text/html": [
       "<pre>recommendations finished on 25000/45321 queries. users per second: 10050.2</pre>"
      ],
      "text/plain": [
       "recommendations finished on 25000/45321 queries. users per second: 10050.2"
      ]
     },
     "metadata": {},
     "output_type": "display_data"
    },
    {
     "data": {
      "text/html": [
       "<pre>recommendations finished on 26000/45321 queries. users per second: 9971.16</pre>"
      ],
      "text/plain": [
       "recommendations finished on 26000/45321 queries. users per second: 9971.16"
      ]
     },
     "metadata": {},
     "output_type": "display_data"
    },
    {
     "data": {
      "text/html": [
       "<pre>recommendations finished on 27000/45321 queries. users per second: 9986.96</pre>"
      ],
      "text/plain": [
       "recommendations finished on 27000/45321 queries. users per second: 9986.96"
      ]
     },
     "metadata": {},
     "output_type": "display_data"
    },
    {
     "data": {
      "text/html": [
       "<pre>recommendations finished on 28000/45321 queries. users per second: 10044.7</pre>"
      ],
      "text/plain": [
       "recommendations finished on 28000/45321 queries. users per second: 10044.7"
      ]
     },
     "metadata": {},
     "output_type": "display_data"
    },
    {
     "data": {
      "text/html": [
       "<pre>recommendations finished on 29000/45321 queries. users per second: 10036.2</pre>"
      ],
      "text/plain": [
       "recommendations finished on 29000/45321 queries. users per second: 10036.2"
      ]
     },
     "metadata": {},
     "output_type": "display_data"
    },
    {
     "data": {
      "text/html": [
       "<pre>recommendations finished on 30000/45321 queries. users per second: 10061.9</pre>"
      ],
      "text/plain": [
       "recommendations finished on 30000/45321 queries. users per second: 10061.9"
      ]
     },
     "metadata": {},
     "output_type": "display_data"
    },
    {
     "data": {
      "text/html": [
       "<pre>recommendations finished on 31000/45321 queries. users per second: 10163.5</pre>"
      ],
      "text/plain": [
       "recommendations finished on 31000/45321 queries. users per second: 10163.5"
      ]
     },
     "metadata": {},
     "output_type": "display_data"
    },
    {
     "data": {
      "text/html": [
       "<pre>recommendations finished on 32000/45321 queries. users per second: 10158.9</pre>"
      ],
      "text/plain": [
       "recommendations finished on 32000/45321 queries. users per second: 10158.9"
      ]
     },
     "metadata": {},
     "output_type": "display_data"
    },
    {
     "data": {
      "text/html": [
       "<pre>recommendations finished on 33000/45321 queries. users per second: 10214.3</pre>"
      ],
      "text/plain": [
       "recommendations finished on 33000/45321 queries. users per second: 10214.3"
      ]
     },
     "metadata": {},
     "output_type": "display_data"
    },
    {
     "data": {
      "text/html": [
       "<pre>recommendations finished on 34000/45321 queries. users per second: 10251.6</pre>"
      ],
      "text/plain": [
       "recommendations finished on 34000/45321 queries. users per second: 10251.6"
      ]
     },
     "metadata": {},
     "output_type": "display_data"
    },
    {
     "data": {
      "text/html": [
       "<pre>recommendations finished on 35000/45321 queries. users per second: 10291.2</pre>"
      ],
      "text/plain": [
       "recommendations finished on 35000/45321 queries. users per second: 10291.2"
      ]
     },
     "metadata": {},
     "output_type": "display_data"
    },
    {
     "data": {
      "text/html": [
       "<pre>recommendations finished on 36000/45321 queries. users per second: 10315.3</pre>"
      ],
      "text/plain": [
       "recommendations finished on 36000/45321 queries. users per second: 10315.3"
      ]
     },
     "metadata": {},
     "output_type": "display_data"
    },
    {
     "data": {
      "text/html": [
       "<pre>recommendations finished on 37000/45321 queries. users per second: 10349.8</pre>"
      ],
      "text/plain": [
       "recommendations finished on 37000/45321 queries. users per second: 10349.8"
      ]
     },
     "metadata": {},
     "output_type": "display_data"
    },
    {
     "data": {
      "text/html": [
       "<pre>recommendations finished on 38000/45321 queries. users per second: 10322.8</pre>"
      ],
      "text/plain": [
       "recommendations finished on 38000/45321 queries. users per second: 10322.8"
      ]
     },
     "metadata": {},
     "output_type": "display_data"
    },
    {
     "data": {
      "text/html": [
       "<pre>recommendations finished on 39000/45321 queries. users per second: 10278.9</pre>"
      ],
      "text/plain": [
       "recommendations finished on 39000/45321 queries. users per second: 10278.9"
      ]
     },
     "metadata": {},
     "output_type": "display_data"
    },
    {
     "data": {
      "text/html": [
       "<pre>recommendations finished on 40000/45321 queries. users per second: 10139.5</pre>"
      ],
      "text/plain": [
       "recommendations finished on 40000/45321 queries. users per second: 10139.5"
      ]
     },
     "metadata": {},
     "output_type": "display_data"
    },
    {
     "data": {
      "text/html": [
       "<pre>recommendations finished on 41000/45321 queries. users per second: 9980.6</pre>"
      ],
      "text/plain": [
       "recommendations finished on 41000/45321 queries. users per second: 9980.6"
      ]
     },
     "metadata": {},
     "output_type": "display_data"
    },
    {
     "data": {
      "text/html": [
       "<pre>recommendations finished on 42000/45321 queries. users per second: 9752.54</pre>"
      ],
      "text/plain": [
       "recommendations finished on 42000/45321 queries. users per second: 9752.54"
      ]
     },
     "metadata": {},
     "output_type": "display_data"
    },
    {
     "data": {
      "text/html": [
       "<pre>recommendations finished on 43000/45321 queries. users per second: 9598.27</pre>"
      ],
      "text/plain": [
       "recommendations finished on 43000/45321 queries. users per second: 9598.27"
      ]
     },
     "metadata": {},
     "output_type": "display_data"
    },
    {
     "data": {
      "text/html": [
       "<pre>recommendations finished on 44000/45321 queries. users per second: 9436.44</pre>"
      ],
      "text/plain": [
       "recommendations finished on 44000/45321 queries. users per second: 9436.44"
      ]
     },
     "metadata": {},
     "output_type": "display_data"
    },
    {
     "data": {
      "text/html": [
       "<pre>recommendations finished on 45000/45321 queries. users per second: 9299.87</pre>"
      ],
      "text/plain": [
       "recommendations finished on 45000/45321 queries. users per second: 9299.87"
      ]
     },
     "metadata": {},
     "output_type": "display_data"
    }
   ],
   "source": [
    "view_matrix_overview = matrix_factorization.views.overview(\n",
    "        validation_set=test)\n",
    "view_matrix_overview.show()"
   ]
  },
  {
   "cell_type": "code",
   "execution_count": 14,
   "metadata": {
    "collapsed": true
   },
   "outputs": [],
   "source": [
    "#To save the model\n",
    "content_based_model.save('C:/Users/IIITB/Desktop/project/tehreem_Model/Content based')"
   ]
  },
  {
   "cell_type": "code",
   "execution_count": 15,
   "metadata": {
    "collapsed": true
   },
   "outputs": [],
   "source": [
    "#saving the model\n",
    "matrix_factorization.save('C:/Users/IIITB/Desktop/project/tehreem_Model/Matrix Facorization')"
   ]
  },
  {
   "cell_type": "code",
   "execution_count": 17,
   "metadata": {
    "collapsed": true
   },
   "outputs": [],
   "source": [
    "modified_matrix_factorization.save('C:/Users/IIITB/Desktop/project/tehreem_Model/Modified Matrix Facorization')"
   ]
  },
  {
   "cell_type": "code",
   "execution_count": 24,
   "metadata": {
    "collapsed": false
   },
   "outputs": [
    {
     "name": "stdout",
     "output_type": "stream",
     "text": [
      "PROGRESS: Evaluate model M0\n"
     ]
    },
    {
     "data": {
      "text/html": [
       "<pre>recommendations finished on 1000/45165 queries. users per second: 9708.46</pre>"
      ],
      "text/plain": [
       "recommendations finished on 1000/45165 queries. users per second: 9708.46"
      ]
     },
     "metadata": {},
     "output_type": "display_data"
    },
    {
     "data": {
      "text/html": [
       "<pre>recommendations finished on 2000/45165 queries. users per second: 10151.8</pre>"
      ],
      "text/plain": [
       "recommendations finished on 2000/45165 queries. users per second: 10151.8"
      ]
     },
     "metadata": {},
     "output_type": "display_data"
    },
    {
     "data": {
      "text/html": [
       "<pre>recommendations finished on 3000/45165 queries. users per second: 10273.5</pre>"
      ],
      "text/plain": [
       "recommendations finished on 3000/45165 queries. users per second: 10273.5"
      ]
     },
     "metadata": {},
     "output_type": "display_data"
    },
    {
     "data": {
      "text/html": [
       "<pre>recommendations finished on 4000/45165 queries. users per second: 9999.5</pre>"
      ],
      "text/plain": [
       "recommendations finished on 4000/45165 queries. users per second: 9999.5"
      ]
     },
     "metadata": {},
     "output_type": "display_data"
    },
    {
     "data": {
      "text/html": [
       "<pre>recommendations finished on 5000/45165 queries. users per second: 9803.4</pre>"
      ],
      "text/plain": [
       "recommendations finished on 5000/45165 queries. users per second: 9803.4"
      ]
     },
     "metadata": {},
     "output_type": "display_data"
    },
    {
     "data": {
      "text/html": [
       "<pre>recommendations finished on 6000/45165 queries. users per second: 9771.46</pre>"
      ],
      "text/plain": [
       "recommendations finished on 6000/45165 queries. users per second: 9771.46"
      ]
     },
     "metadata": {},
     "output_type": "display_data"
    },
    {
     "data": {
      "text/html": [
       "<pre>recommendations finished on 7000/45165 queries. users per second: 9970.97</pre>"
      ],
      "text/plain": [
       "recommendations finished on 7000/45165 queries. users per second: 9970.97"
      ]
     },
     "metadata": {},
     "output_type": "display_data"
    },
    {
     "data": {
      "text/html": [
       "<pre>recommendations finished on 8000/45165 queries. users per second: 10049.7</pre>"
      ],
      "text/plain": [
       "recommendations finished on 8000/45165 queries. users per second: 10049.7"
      ]
     },
     "metadata": {},
     "output_type": "display_data"
    },
    {
     "data": {
      "text/html": [
       "<pre>recommendations finished on 9000/45165 queries. users per second: 10077.8</pre>"
      ],
      "text/plain": [
       "recommendations finished on 9000/45165 queries. users per second: 10077.8"
      ]
     },
     "metadata": {},
     "output_type": "display_data"
    },
    {
     "data": {
      "text/html": [
       "<pre>recommendations finished on 10000/45165 queries. users per second: 10080.1</pre>"
      ],
      "text/plain": [
       "recommendations finished on 10000/45165 queries. users per second: 10080.1"
      ]
     },
     "metadata": {},
     "output_type": "display_data"
    },
    {
     "data": {
      "text/html": [
       "<pre>recommendations finished on 11000/45165 queries. users per second: 10035.9</pre>"
      ],
      "text/plain": [
       "recommendations finished on 11000/45165 queries. users per second: 10035.9"
      ]
     },
     "metadata": {},
     "output_type": "display_data"
    },
    {
     "data": {
      "text/html": [
       "<pre>recommendations finished on 12000/45165 queries. users per second: 9941.45</pre>"
      ],
      "text/plain": [
       "recommendations finished on 12000/45165 queries. users per second: 9941.45"
      ]
     },
     "metadata": {},
     "output_type": "display_data"
    },
    {
     "data": {
      "text/html": [
       "<pre>recommendations finished on 13000/45165 queries. users per second: 9930.7</pre>"
      ],
      "text/plain": [
       "recommendations finished on 13000/45165 queries. users per second: 9930.7"
      ]
     },
     "metadata": {},
     "output_type": "display_data"
    },
    {
     "data": {
      "text/html": [
       "<pre>recommendations finished on 14000/45165 queries. users per second: 9803.38</pre>"
      ],
      "text/plain": [
       "recommendations finished on 14000/45165 queries. users per second: 9803.38"
      ]
     },
     "metadata": {},
     "output_type": "display_data"
    },
    {
     "data": {
      "text/html": [
       "<pre>recommendations finished on 15000/45165 queries. users per second: 9777.82</pre>"
      ],
      "text/plain": [
       "recommendations finished on 15000/45165 queries. users per second: 9777.82"
      ]
     },
     "metadata": {},
     "output_type": "display_data"
    },
    {
     "data": {
      "text/html": [
       "<pre>recommendations finished on 16000/45165 queries. users per second: 9638.01</pre>"
      ],
      "text/plain": [
       "recommendations finished on 16000/45165 queries. users per second: 9638.01"
      ]
     },
     "metadata": {},
     "output_type": "display_data"
    },
    {
     "data": {
      "text/html": [
       "<pre>recommendations finished on 17000/45165 queries. users per second: 9486.08</pre>"
      ],
      "text/plain": [
       "recommendations finished on 17000/45165 queries. users per second: 9486.08"
      ]
     },
     "metadata": {},
     "output_type": "display_data"
    },
    {
     "data": {
      "text/html": [
       "<pre>recommendations finished on 18000/45165 queries. users per second: 9389.15</pre>"
      ],
      "text/plain": [
       "recommendations finished on 18000/45165 queries. users per second: 9389.15"
      ]
     },
     "metadata": {},
     "output_type": "display_data"
    },
    {
     "data": {
      "text/html": [
       "<pre>recommendations finished on 19000/45165 queries. users per second: 9276.82</pre>"
      ],
      "text/plain": [
       "recommendations finished on 19000/45165 queries. users per second: 9276.82"
      ]
     },
     "metadata": {},
     "output_type": "display_data"
    },
    {
     "data": {
      "text/html": [
       "<pre>recommendations finished on 20000/45165 queries. users per second: 9271.62</pre>"
      ],
      "text/plain": [
       "recommendations finished on 20000/45165 queries. users per second: 9271.62"
      ]
     },
     "metadata": {},
     "output_type": "display_data"
    },
    {
     "data": {
      "text/html": [
       "<pre>recommendations finished on 21000/45165 queries. users per second: 9230.25</pre>"
      ],
      "text/plain": [
       "recommendations finished on 21000/45165 queries. users per second: 9230.25"
      ]
     },
     "metadata": {},
     "output_type": "display_data"
    },
    {
     "data": {
      "text/html": [
       "<pre>recommendations finished on 22000/45165 queries. users per second: 9189.12</pre>"
      ],
      "text/plain": [
       "recommendations finished on 22000/45165 queries. users per second: 9189.12"
      ]
     },
     "metadata": {},
     "output_type": "display_data"
    },
    {
     "data": {
      "text/html": [
       "<pre>recommendations finished on 23000/45165 queries. users per second: 9151.89</pre>"
      ],
      "text/plain": [
       "recommendations finished on 23000/45165 queries. users per second: 9151.89"
      ]
     },
     "metadata": {},
     "output_type": "display_data"
    },
    {
     "data": {
      "text/html": [
       "<pre>recommendations finished on 24000/45165 queries. users per second: 9180.82</pre>"
      ],
      "text/plain": [
       "recommendations finished on 24000/45165 queries. users per second: 9180.82"
      ]
     },
     "metadata": {},
     "output_type": "display_data"
    },
    {
     "data": {
      "text/html": [
       "<pre>recommendations finished on 25000/45165 queries. users per second: 9133.57</pre>"
      ],
      "text/plain": [
       "recommendations finished on 25000/45165 queries. users per second: 9133.57"
      ]
     },
     "metadata": {},
     "output_type": "display_data"
    },
    {
     "data": {
      "text/html": [
       "<pre>recommendations finished on 26000/45165 queries. users per second: 9106.32</pre>"
      ],
      "text/plain": [
       "recommendations finished on 26000/45165 queries. users per second: 9106.32"
      ]
     },
     "metadata": {},
     "output_type": "display_data"
    },
    {
     "data": {
      "text/html": [
       "<pre>recommendations finished on 27000/45165 queries. users per second: 8800.03</pre>"
      ],
      "text/plain": [
       "recommendations finished on 27000/45165 queries. users per second: 8800.03"
      ]
     },
     "metadata": {},
     "output_type": "display_data"
    },
    {
     "data": {
      "text/html": [
       "<pre>recommendations finished on 28000/45165 queries. users per second: 8818.4</pre>"
      ],
      "text/plain": [
       "recommendations finished on 28000/45165 queries. users per second: 8818.4"
      ]
     },
     "metadata": {},
     "output_type": "display_data"
    },
    {
     "data": {
      "text/html": [
       "<pre>recommendations finished on 29000/45165 queries. users per second: 8838.27</pre>"
      ],
      "text/plain": [
       "recommendations finished on 29000/45165 queries. users per second: 8838.27"
      ]
     },
     "metadata": {},
     "output_type": "display_data"
    },
    {
     "data": {
      "text/html": [
       "<pre>recommendations finished on 30000/45165 queries. users per second: 8561.16</pre>"
      ],
      "text/plain": [
       "recommendations finished on 30000/45165 queries. users per second: 8561.16"
      ]
     },
     "metadata": {},
     "output_type": "display_data"
    },
    {
     "data": {
      "text/html": [
       "<pre>recommendations finished on 31000/45165 queries. users per second: 8563.05</pre>"
      ],
      "text/plain": [
       "recommendations finished on 31000/45165 queries. users per second: 8563.05"
      ]
     },
     "metadata": {},
     "output_type": "display_data"
    },
    {
     "data": {
      "text/html": [
       "<pre>recommendations finished on 32000/45165 queries. users per second: 8580.9</pre>"
      ],
      "text/plain": [
       "recommendations finished on 32000/45165 queries. users per second: 8580.9"
      ]
     },
     "metadata": {},
     "output_type": "display_data"
    },
    {
     "data": {
      "text/html": [
       "<pre>recommendations finished on 33000/45165 queries. users per second: 8588.79</pre>"
      ],
      "text/plain": [
       "recommendations finished on 33000/45165 queries. users per second: 8588.79"
      ]
     },
     "metadata": {},
     "output_type": "display_data"
    },
    {
     "data": {
      "text/html": [
       "<pre>recommendations finished on 34000/45165 queries. users per second: 8594.05</pre>"
      ],
      "text/plain": [
       "recommendations finished on 34000/45165 queries. users per second: 8594.05"
      ]
     },
     "metadata": {},
     "output_type": "display_data"
    },
    {
     "data": {
      "text/html": [
       "<pre>recommendations finished on 35000/45165 queries. users per second: 8603.25</pre>"
      ],
      "text/plain": [
       "recommendations finished on 35000/45165 queries. users per second: 8603.25"
      ]
     },
     "metadata": {},
     "output_type": "display_data"
    },
    {
     "data": {
      "text/html": [
       "<pre>recommendations finished on 36000/45165 queries. users per second: 8544.5</pre>"
      ],
      "text/plain": [
       "recommendations finished on 36000/45165 queries. users per second: 8544.5"
      ]
     },
     "metadata": {},
     "output_type": "display_data"
    },
    {
     "data": {
      "text/html": [
       "<pre>recommendations finished on 37000/45165 queries. users per second: 8476.04</pre>"
      ],
      "text/plain": [
       "recommendations finished on 37000/45165 queries. users per second: 8476.04"
      ]
     },
     "metadata": {},
     "output_type": "display_data"
    },
    {
     "data": {
      "text/html": [
       "<pre>recommendations finished on 38000/45165 queries. users per second: 8459.01</pre>"
      ],
      "text/plain": [
       "recommendations finished on 38000/45165 queries. users per second: 8459.01"
      ]
     },
     "metadata": {},
     "output_type": "display_data"
    },
    {
     "data": {
      "text/html": [
       "<pre>recommendations finished on 39000/45165 queries. users per second: 8423.78</pre>"
      ],
      "text/plain": [
       "recommendations finished on 39000/45165 queries. users per second: 8423.78"
      ]
     },
     "metadata": {},
     "output_type": "display_data"
    },
    {
     "data": {
      "text/html": [
       "<pre>recommendations finished on 40000/45165 queries. users per second: 8417.94</pre>"
      ],
      "text/plain": [
       "recommendations finished on 40000/45165 queries. users per second: 8417.94"
      ]
     },
     "metadata": {},
     "output_type": "display_data"
    },
    {
     "data": {
      "text/html": [
       "<pre>recommendations finished on 41000/45165 queries. users per second: 8395.18</pre>"
      ],
      "text/plain": [
       "recommendations finished on 41000/45165 queries. users per second: 8395.18"
      ]
     },
     "metadata": {},
     "output_type": "display_data"
    },
    {
     "data": {
      "text/html": [
       "<pre>recommendations finished on 42000/45165 queries. users per second: 8265.67</pre>"
      ],
      "text/plain": [
       "recommendations finished on 42000/45165 queries. users per second: 8265.67"
      ]
     },
     "metadata": {},
     "output_type": "display_data"
    },
    {
     "data": {
      "text/html": [
       "<pre>recommendations finished on 43000/45165 queries. users per second: 8118.94</pre>"
      ],
      "text/plain": [
       "recommendations finished on 43000/45165 queries. users per second: 8118.94"
      ]
     },
     "metadata": {},
     "output_type": "display_data"
    },
    {
     "data": {
      "text/html": [
       "<pre>recommendations finished on 44000/45165 queries. users per second: 8016.38</pre>"
      ],
      "text/plain": [
       "recommendations finished on 44000/45165 queries. users per second: 8016.38"
      ]
     },
     "metadata": {},
     "output_type": "display_data"
    },
    {
     "data": {
      "text/html": [
       "<pre>recommendations finished on 45000/45165 queries. users per second: 7924.26</pre>"
      ],
      "text/plain": [
       "recommendations finished on 45000/45165 queries. users per second: 7924.26"
      ]
     },
     "metadata": {},
     "output_type": "display_data"
    },
    {
     "name": "stdout",
     "output_type": "stream",
     "text": [
      "\n",
      "Precision and recall summary statistics by cutoff\n",
      "+--------+-----------------+-----------------+\n",
      "| cutoff |  mean_precision |   mean_recall   |\n",
      "+--------+-----------------+-----------------+\n",
      "|   1    |  0.128395881767 | 0.0304821034295 |\n",
      "|   2    |  0.110140595594 | 0.0463740896054 |\n",
      "|   3    |  0.097383667294 | 0.0572506303561 |\n",
      "|   4    | 0.0871969445367 | 0.0651014580463 |\n",
      "|   5    | 0.0794066201705 | 0.0715526729598 |\n",
      "|   6    | 0.0729953134802 | 0.0768805780554 |\n",
      "|   7    | 0.0678085116478 | 0.0813390217056 |\n",
      "|   8    | 0.0633814900919 | 0.0852080375889 |\n",
      "|   9    | 0.0595372522971 | 0.0885236214538 |\n",
      "|   10   |  0.056313517104 | 0.0917278882874 |\n",
      "+--------+-----------------+-----------------+\n",
      "[10 rows x 3 columns]\n",
      "\n",
      "PROGRESS: Evaluate model M1\n"
     ]
    },
    {
     "data": {
      "text/html": [
       "<pre>recommendations finished on 1000/45165 queries. users per second: 252.67</pre>"
      ],
      "text/plain": [
       "recommendations finished on 1000/45165 queries. users per second: 252.67"
      ]
     },
     "metadata": {},
     "output_type": "display_data"
    },
    {
     "data": {
      "text/html": [
       "<pre>recommendations finished on 2000/45165 queries. users per second: 251.321</pre>"
      ],
      "text/plain": [
       "recommendations finished on 2000/45165 queries. users per second: 251.321"
      ]
     },
     "metadata": {},
     "output_type": "display_data"
    },
    {
     "data": {
      "text/html": [
       "<pre>recommendations finished on 3000/45165 queries. users per second: 251.78</pre>"
      ],
      "text/plain": [
       "recommendations finished on 3000/45165 queries. users per second: 251.78"
      ]
     },
     "metadata": {},
     "output_type": "display_data"
    },
    {
     "data": {
      "text/html": [
       "<pre>recommendations finished on 4000/45165 queries. users per second: 252.153</pre>"
      ],
      "text/plain": [
       "recommendations finished on 4000/45165 queries. users per second: 252.153"
      ]
     },
     "metadata": {},
     "output_type": "display_data"
    },
    {
     "data": {
      "text/html": [
       "<pre>recommendations finished on 5000/45165 queries. users per second: 252.097</pre>"
      ],
      "text/plain": [
       "recommendations finished on 5000/45165 queries. users per second: 252.097"
      ]
     },
     "metadata": {},
     "output_type": "display_data"
    },
    {
     "data": {
      "text/html": [
       "<pre>recommendations finished on 6000/45165 queries. users per second: 252.198</pre>"
      ],
      "text/plain": [
       "recommendations finished on 6000/45165 queries. users per second: 252.198"
      ]
     },
     "metadata": {},
     "output_type": "display_data"
    },
    {
     "data": {
      "text/html": [
       "<pre>recommendations finished on 7000/45165 queries. users per second: 252.288</pre>"
      ],
      "text/plain": [
       "recommendations finished on 7000/45165 queries. users per second: 252.288"
      ]
     },
     "metadata": {},
     "output_type": "display_data"
    },
    {
     "data": {
      "text/html": [
       "<pre>recommendations finished on 8000/45165 queries. users per second: 252.141</pre>"
      ],
      "text/plain": [
       "recommendations finished on 8000/45165 queries. users per second: 252.141"
      ]
     },
     "metadata": {},
     "output_type": "display_data"
    },
    {
     "data": {
      "text/html": [
       "<pre>recommendations finished on 9000/45165 queries. users per second: 251.857</pre>"
      ],
      "text/plain": [
       "recommendations finished on 9000/45165 queries. users per second: 251.857"
      ]
     },
     "metadata": {},
     "output_type": "display_data"
    },
    {
     "data": {
      "text/html": [
       "<pre>recommendations finished on 10000/45165 queries. users per second: 249.883</pre>"
      ],
      "text/plain": [
       "recommendations finished on 10000/45165 queries. users per second: 249.883"
      ]
     },
     "metadata": {},
     "output_type": "display_data"
    },
    {
     "data": {
      "text/html": [
       "<pre>recommendations finished on 11000/45165 queries. users per second: 246.272</pre>"
      ],
      "text/plain": [
       "recommendations finished on 11000/45165 queries. users per second: 246.272"
      ]
     },
     "metadata": {},
     "output_type": "display_data"
    },
    {
     "data": {
      "text/html": [
       "<pre>recommendations finished on 12000/45165 queries. users per second: 246.243</pre>"
      ],
      "text/plain": [
       "recommendations finished on 12000/45165 queries. users per second: 246.243"
      ]
     },
     "metadata": {},
     "output_type": "display_data"
    },
    {
     "data": {
      "text/html": [
       "<pre>recommendations finished on 13000/45165 queries. users per second: 243.813</pre>"
      ],
      "text/plain": [
       "recommendations finished on 13000/45165 queries. users per second: 243.813"
      ]
     },
     "metadata": {},
     "output_type": "display_data"
    },
    {
     "data": {
      "text/html": [
       "<pre>recommendations finished on 14000/45165 queries. users per second: 244.436</pre>"
      ],
      "text/plain": [
       "recommendations finished on 14000/45165 queries. users per second: 244.436"
      ]
     },
     "metadata": {},
     "output_type": "display_data"
    },
    {
     "data": {
      "text/html": [
       "<pre>recommendations finished on 15000/45165 queries. users per second: 245.018</pre>"
      ],
      "text/plain": [
       "recommendations finished on 15000/45165 queries. users per second: 245.018"
      ]
     },
     "metadata": {},
     "output_type": "display_data"
    },
    {
     "data": {
      "text/html": [
       "<pre>recommendations finished on 16000/45165 queries. users per second: 245.533</pre>"
      ],
      "text/plain": [
       "recommendations finished on 16000/45165 queries. users per second: 245.533"
      ]
     },
     "metadata": {},
     "output_type": "display_data"
    },
    {
     "data": {
      "text/html": [
       "<pre>recommendations finished on 17000/45165 queries. users per second: 246.026</pre>"
      ],
      "text/plain": [
       "recommendations finished on 17000/45165 queries. users per second: 246.026"
      ]
     },
     "metadata": {},
     "output_type": "display_data"
    },
    {
     "data": {
      "text/html": [
       "<pre>recommendations finished on 18000/45165 queries. users per second: 245.45</pre>"
      ],
      "text/plain": [
       "recommendations finished on 18000/45165 queries. users per second: 245.45"
      ]
     },
     "metadata": {},
     "output_type": "display_data"
    },
    {
     "data": {
      "text/html": [
       "<pre>recommendations finished on 19000/45165 queries. users per second: 245.105</pre>"
      ],
      "text/plain": [
       "recommendations finished on 19000/45165 queries. users per second: 245.105"
      ]
     },
     "metadata": {},
     "output_type": "display_data"
    },
    {
     "data": {
      "text/html": [
       "<pre>recommendations finished on 20000/45165 queries. users per second: 245.492</pre>"
      ],
      "text/plain": [
       "recommendations finished on 20000/45165 queries. users per second: 245.492"
      ]
     },
     "metadata": {},
     "output_type": "display_data"
    },
    {
     "data": {
      "text/html": [
       "<pre>recommendations finished on 21000/45165 queries. users per second: 245.869</pre>"
      ],
      "text/plain": [
       "recommendations finished on 21000/45165 queries. users per second: 245.869"
      ]
     },
     "metadata": {},
     "output_type": "display_data"
    },
    {
     "data": {
      "text/html": [
       "<pre>recommendations finished on 22000/45165 queries. users per second: 246.193</pre>"
      ],
      "text/plain": [
       "recommendations finished on 22000/45165 queries. users per second: 246.193"
      ]
     },
     "metadata": {},
     "output_type": "display_data"
    },
    {
     "data": {
      "text/html": [
       "<pre>recommendations finished on 23000/45165 queries. users per second: 246.689</pre>"
      ],
      "text/plain": [
       "recommendations finished on 23000/45165 queries. users per second: 246.689"
      ]
     },
     "metadata": {},
     "output_type": "display_data"
    },
    {
     "data": {
      "text/html": [
       "<pre>recommendations finished on 24000/45165 queries. users per second: 246.771</pre>"
      ],
      "text/plain": [
       "recommendations finished on 24000/45165 queries. users per second: 246.771"
      ]
     },
     "metadata": {},
     "output_type": "display_data"
    },
    {
     "data": {
      "text/html": [
       "<pre>recommendations finished on 25000/45165 queries. users per second: 246.567</pre>"
      ],
      "text/plain": [
       "recommendations finished on 25000/45165 queries. users per second: 246.567"
      ]
     },
     "metadata": {},
     "output_type": "display_data"
    },
    {
     "data": {
      "text/html": [
       "<pre>recommendations finished on 26000/45165 queries. users per second: 246.351</pre>"
      ],
      "text/plain": [
       "recommendations finished on 26000/45165 queries. users per second: 246.351"
      ]
     },
     "metadata": {},
     "output_type": "display_data"
    },
    {
     "data": {
      "text/html": [
       "<pre>recommendations finished on 27000/45165 queries. users per second: 245.808</pre>"
      ],
      "text/plain": [
       "recommendations finished on 27000/45165 queries. users per second: 245.808"
      ]
     },
     "metadata": {},
     "output_type": "display_data"
    },
    {
     "data": {
      "text/html": [
       "<pre>recommendations finished on 28000/45165 queries. users per second: 244.989</pre>"
      ],
      "text/plain": [
       "recommendations finished on 28000/45165 queries. users per second: 244.989"
      ]
     },
     "metadata": {},
     "output_type": "display_data"
    },
    {
     "data": {
      "text/html": [
       "<pre>recommendations finished on 29000/45165 queries. users per second: 244.233</pre>"
      ],
      "text/plain": [
       "recommendations finished on 29000/45165 queries. users per second: 244.233"
      ]
     },
     "metadata": {},
     "output_type": "display_data"
    },
    {
     "data": {
      "text/html": [
       "<pre>recommendations finished on 30000/45165 queries. users per second: 243.561</pre>"
      ],
      "text/plain": [
       "recommendations finished on 30000/45165 queries. users per second: 243.561"
      ]
     },
     "metadata": {},
     "output_type": "display_data"
    },
    {
     "data": {
      "text/html": [
       "<pre>recommendations finished on 31000/45165 queries. users per second: 242.919</pre>"
      ],
      "text/plain": [
       "recommendations finished on 31000/45165 queries. users per second: 242.919"
      ]
     },
     "metadata": {},
     "output_type": "display_data"
    },
    {
     "data": {
      "text/html": [
       "<pre>recommendations finished on 32000/45165 queries. users per second: 242.294</pre>"
      ],
      "text/plain": [
       "recommendations finished on 32000/45165 queries. users per second: 242.294"
      ]
     },
     "metadata": {},
     "output_type": "display_data"
    },
    {
     "data": {
      "text/html": [
       "<pre>recommendations finished on 33000/45165 queries. users per second: 241.721</pre>"
      ],
      "text/plain": [
       "recommendations finished on 33000/45165 queries. users per second: 241.721"
      ]
     },
     "metadata": {},
     "output_type": "display_data"
    },
    {
     "data": {
      "text/html": [
       "<pre>recommendations finished on 34000/45165 queries. users per second: 241.17</pre>"
      ],
      "text/plain": [
       "recommendations finished on 34000/45165 queries. users per second: 241.17"
      ]
     },
     "metadata": {},
     "output_type": "display_data"
    },
    {
     "data": {
      "text/html": [
       "<pre>recommendations finished on 35000/45165 queries. users per second: 240.658</pre>"
      ],
      "text/plain": [
       "recommendations finished on 35000/45165 queries. users per second: 240.658"
      ]
     },
     "metadata": {},
     "output_type": "display_data"
    },
    {
     "data": {
      "text/html": [
       "<pre>recommendations finished on 36000/45165 queries. users per second: 240.094</pre>"
      ],
      "text/plain": [
       "recommendations finished on 36000/45165 queries. users per second: 240.094"
      ]
     },
     "metadata": {},
     "output_type": "display_data"
    },
    {
     "data": {
      "text/html": [
       "<pre>recommendations finished on 37000/45165 queries. users per second: 239.651</pre>"
      ],
      "text/plain": [
       "recommendations finished on 37000/45165 queries. users per second: 239.651"
      ]
     },
     "metadata": {},
     "output_type": "display_data"
    },
    {
     "data": {
      "text/html": [
       "<pre>recommendations finished on 38000/45165 queries. users per second: 238.898</pre>"
      ],
      "text/plain": [
       "recommendations finished on 38000/45165 queries. users per second: 238.898"
      ]
     },
     "metadata": {},
     "output_type": "display_data"
    },
    {
     "data": {
      "text/html": [
       "<pre>recommendations finished on 39000/45165 queries. users per second: 237.647</pre>"
      ],
      "text/plain": [
       "recommendations finished on 39000/45165 queries. users per second: 237.647"
      ]
     },
     "metadata": {},
     "output_type": "display_data"
    },
    {
     "data": {
      "text/html": [
       "<pre>recommendations finished on 40000/45165 queries. users per second: 236.448</pre>"
      ],
      "text/plain": [
       "recommendations finished on 40000/45165 queries. users per second: 236.448"
      ]
     },
     "metadata": {},
     "output_type": "display_data"
    },
    {
     "data": {
      "text/html": [
       "<pre>recommendations finished on 41000/45165 queries. users per second: 235.112</pre>"
      ],
      "text/plain": [
       "recommendations finished on 41000/45165 queries. users per second: 235.112"
      ]
     },
     "metadata": {},
     "output_type": "display_data"
    },
    {
     "data": {
      "text/html": [
       "<pre>recommendations finished on 42000/45165 queries. users per second: 233.917</pre>"
      ],
      "text/plain": [
       "recommendations finished on 42000/45165 queries. users per second: 233.917"
      ]
     },
     "metadata": {},
     "output_type": "display_data"
    },
    {
     "data": {
      "text/html": [
       "<pre>recommendations finished on 43000/45165 queries. users per second: 232.165</pre>"
      ],
      "text/plain": [
       "recommendations finished on 43000/45165 queries. users per second: 232.165"
      ]
     },
     "metadata": {},
     "output_type": "display_data"
    },
    {
     "data": {
      "text/html": [
       "<pre>recommendations finished on 44000/45165 queries. users per second: 228.578</pre>"
      ],
      "text/plain": [
       "recommendations finished on 44000/45165 queries. users per second: 228.578"
      ]
     },
     "metadata": {},
     "output_type": "display_data"
    },
    {
     "data": {
      "text/html": [
       "<pre>recommendations finished on 45000/45165 queries. users per second: 224.439</pre>"
      ],
      "text/plain": [
       "recommendations finished on 45000/45165 queries. users per second: 224.439"
      ]
     },
     "metadata": {},
     "output_type": "display_data"
    },
    {
     "name": "stdout",
     "output_type": "stream",
     "text": [
      "\n",
      "Precision and recall summary statistics by cutoff\n",
      "+--------+------------------+-------------------+\n",
      "| cutoff |  mean_precision  |    mean_recall    |\n",
      "+--------+------------------+-------------------+\n",
      "|   1    | 0.00148344957379 | 0.000301796053395 |\n",
      "|   2    | 0.0016605778811  | 0.000737212170665 |\n",
      "|   3    | 0.00151297095834 |  0.00103587340072 |\n",
      "|   4    | 0.00146684379497 |  0.00127854708283 |\n",
      "|   5    | 0.00150116240452 |  0.00151396121257 |\n",
      "|   6    | 0.00148713974685 |  0.00178679147033 |\n",
      "|   7    | 0.0014802865683  |  0.00198380800876 |\n",
      "|   8    | 0.00148621720359 |  0.00214277668883 |\n",
      "|   9    | 0.0014932900353  |  0.00239985256265 |\n",
      "|   10   | 0.00149452009299 |  0.00260290511815 |\n",
      "+--------+------------------+-------------------+\n",
      "[10 rows x 3 columns]\n",
      "\n",
      "PROGRESS: Evaluate model M2\n"
     ]
    },
    {
     "data": {
      "text/html": [
       "<pre>recommendations finished on 1000/45165 queries. users per second: 218.471</pre>"
      ],
      "text/plain": [
       "recommendations finished on 1000/45165 queries. users per second: 218.471"
      ]
     },
     "metadata": {},
     "output_type": "display_data"
    },
    {
     "data": {
      "text/html": [
       "<pre>recommendations finished on 2000/45165 queries. users per second: 220.884</pre>"
      ],
      "text/plain": [
       "recommendations finished on 2000/45165 queries. users per second: 220.884"
      ]
     },
     "metadata": {},
     "output_type": "display_data"
    },
    {
     "data": {
      "text/html": [
       "<pre>recommendations finished on 3000/45165 queries. users per second: 223.734</pre>"
      ],
      "text/plain": [
       "recommendations finished on 3000/45165 queries. users per second: 223.734"
      ]
     },
     "metadata": {},
     "output_type": "display_data"
    },
    {
     "data": {
      "text/html": [
       "<pre>recommendations finished on 4000/45165 queries. users per second: 225.111</pre>"
      ],
      "text/plain": [
       "recommendations finished on 4000/45165 queries. users per second: 225.111"
      ]
     },
     "metadata": {},
     "output_type": "display_data"
    },
    {
     "data": {
      "text/html": [
       "<pre>recommendations finished on 5000/45165 queries. users per second: 226.088</pre>"
      ],
      "text/plain": [
       "recommendations finished on 5000/45165 queries. users per second: 226.088"
      ]
     },
     "metadata": {},
     "output_type": "display_data"
    },
    {
     "data": {
      "text/html": [
       "<pre>recommendations finished on 6000/45165 queries. users per second: 226.77</pre>"
      ],
      "text/plain": [
       "recommendations finished on 6000/45165 queries. users per second: 226.77"
      ]
     },
     "metadata": {},
     "output_type": "display_data"
    },
    {
     "data": {
      "text/html": [
       "<pre>recommendations finished on 7000/45165 queries. users per second: 227.208</pre>"
      ],
      "text/plain": [
       "recommendations finished on 7000/45165 queries. users per second: 227.208"
      ]
     },
     "metadata": {},
     "output_type": "display_data"
    },
    {
     "data": {
      "text/html": [
       "<pre>recommendations finished on 8000/45165 queries. users per second: 227.914</pre>"
      ],
      "text/plain": [
       "recommendations finished on 8000/45165 queries. users per second: 227.914"
      ]
     },
     "metadata": {},
     "output_type": "display_data"
    },
    {
     "data": {
      "text/html": [
       "<pre>recommendations finished on 9000/45165 queries. users per second: 228.396</pre>"
      ],
      "text/plain": [
       "recommendations finished on 9000/45165 queries. users per second: 228.396"
      ]
     },
     "metadata": {},
     "output_type": "display_data"
    },
    {
     "data": {
      "text/html": [
       "<pre>recommendations finished on 10000/45165 queries. users per second: 228.804</pre>"
      ],
      "text/plain": [
       "recommendations finished on 10000/45165 queries. users per second: 228.804"
      ]
     },
     "metadata": {},
     "output_type": "display_data"
    },
    {
     "data": {
      "text/html": [
       "<pre>recommendations finished on 11000/45165 queries. users per second: 229.154</pre>"
      ],
      "text/plain": [
       "recommendations finished on 11000/45165 queries. users per second: 229.154"
      ]
     },
     "metadata": {},
     "output_type": "display_data"
    },
    {
     "data": {
      "text/html": [
       "<pre>recommendations finished on 12000/45165 queries. users per second: 229.393</pre>"
      ],
      "text/plain": [
       "recommendations finished on 12000/45165 queries. users per second: 229.393"
      ]
     },
     "metadata": {},
     "output_type": "display_data"
    },
    {
     "data": {
      "text/html": [
       "<pre>recommendations finished on 13000/45165 queries. users per second: 229.64</pre>"
      ],
      "text/plain": [
       "recommendations finished on 13000/45165 queries. users per second: 229.64"
      ]
     },
     "metadata": {},
     "output_type": "display_data"
    },
    {
     "data": {
      "text/html": [
       "<pre>recommendations finished on 14000/45165 queries. users per second: 229.823</pre>"
      ],
      "text/plain": [
       "recommendations finished on 14000/45165 queries. users per second: 229.823"
      ]
     },
     "metadata": {},
     "output_type": "display_data"
    },
    {
     "data": {
      "text/html": [
       "<pre>recommendations finished on 15000/45165 queries. users per second: 230.002</pre>"
      ],
      "text/plain": [
       "recommendations finished on 15000/45165 queries. users per second: 230.002"
      ]
     },
     "metadata": {},
     "output_type": "display_data"
    },
    {
     "data": {
      "text/html": [
       "<pre>recommendations finished on 16000/45165 queries. users per second: 229.677</pre>"
      ],
      "text/plain": [
       "recommendations finished on 16000/45165 queries. users per second: 229.677"
      ]
     },
     "metadata": {},
     "output_type": "display_data"
    },
    {
     "data": {
      "text/html": [
       "<pre>recommendations finished on 17000/45165 queries. users per second: 228.881</pre>"
      ],
      "text/plain": [
       "recommendations finished on 17000/45165 queries. users per second: 228.881"
      ]
     },
     "metadata": {},
     "output_type": "display_data"
    },
    {
     "data": {
      "text/html": [
       "<pre>recommendations finished on 18000/45165 queries. users per second: 228.222</pre>"
      ],
      "text/plain": [
       "recommendations finished on 18000/45165 queries. users per second: 228.222"
      ]
     },
     "metadata": {},
     "output_type": "display_data"
    },
    {
     "data": {
      "text/html": [
       "<pre>recommendations finished on 19000/45165 queries. users per second: 227.619</pre>"
      ],
      "text/plain": [
       "recommendations finished on 19000/45165 queries. users per second: 227.619"
      ]
     },
     "metadata": {},
     "output_type": "display_data"
    },
    {
     "data": {
      "text/html": [
       "<pre>recommendations finished on 20000/45165 queries. users per second: 227.084</pre>"
      ],
      "text/plain": [
       "recommendations finished on 20000/45165 queries. users per second: 227.084"
      ]
     },
     "metadata": {},
     "output_type": "display_data"
    },
    {
     "data": {
      "text/html": [
       "<pre>recommendations finished on 21000/45165 queries. users per second: 226.539</pre>"
      ],
      "text/plain": [
       "recommendations finished on 21000/45165 queries. users per second: 226.539"
      ]
     },
     "metadata": {},
     "output_type": "display_data"
    },
    {
     "data": {
      "text/html": [
       "<pre>recommendations finished on 22000/45165 queries. users per second: 226.048</pre>"
      ],
      "text/plain": [
       "recommendations finished on 22000/45165 queries. users per second: 226.048"
      ]
     },
     "metadata": {},
     "output_type": "display_data"
    },
    {
     "data": {
      "text/html": [
       "<pre>recommendations finished on 23000/45165 queries. users per second: 225.661</pre>"
      ],
      "text/plain": [
       "recommendations finished on 23000/45165 queries. users per second: 225.661"
      ]
     },
     "metadata": {},
     "output_type": "display_data"
    },
    {
     "data": {
      "text/html": [
       "<pre>recommendations finished on 24000/45165 queries. users per second: 225.354</pre>"
      ],
      "text/plain": [
       "recommendations finished on 24000/45165 queries. users per second: 225.354"
      ]
     },
     "metadata": {},
     "output_type": "display_data"
    },
    {
     "data": {
      "text/html": [
       "<pre>recommendations finished on 25000/45165 queries. users per second: 225.04</pre>"
      ],
      "text/plain": [
       "recommendations finished on 25000/45165 queries. users per second: 225.04"
      ]
     },
     "metadata": {},
     "output_type": "display_data"
    },
    {
     "data": {
      "text/html": [
       "<pre>recommendations finished on 26000/45165 queries. users per second: 224.803</pre>"
      ],
      "text/plain": [
       "recommendations finished on 26000/45165 queries. users per second: 224.803"
      ]
     },
     "metadata": {},
     "output_type": "display_data"
    },
    {
     "data": {
      "text/html": [
       "<pre>recommendations finished on 27000/45165 queries. users per second: 224.508</pre>"
      ],
      "text/plain": [
       "recommendations finished on 27000/45165 queries. users per second: 224.508"
      ]
     },
     "metadata": {},
     "output_type": "display_data"
    },
    {
     "data": {
      "text/html": [
       "<pre>recommendations finished on 28000/45165 queries. users per second: 224.253</pre>"
      ],
      "text/plain": [
       "recommendations finished on 28000/45165 queries. users per second: 224.253"
      ]
     },
     "metadata": {},
     "output_type": "display_data"
    },
    {
     "data": {
      "text/html": [
       "<pre>recommendations finished on 29000/45165 queries. users per second: 224.034</pre>"
      ],
      "text/plain": [
       "recommendations finished on 29000/45165 queries. users per second: 224.034"
      ]
     },
     "metadata": {},
     "output_type": "display_data"
    },
    {
     "data": {
      "text/html": [
       "<pre>recommendations finished on 30000/45165 queries. users per second: 223.803</pre>"
      ],
      "text/plain": [
       "recommendations finished on 30000/45165 queries. users per second: 223.803"
      ]
     },
     "metadata": {},
     "output_type": "display_data"
    },
    {
     "data": {
      "text/html": [
       "<pre>recommendations finished on 31000/45165 queries. users per second: 223.601</pre>"
      ],
      "text/plain": [
       "recommendations finished on 31000/45165 queries. users per second: 223.601"
      ]
     },
     "metadata": {},
     "output_type": "display_data"
    },
    {
     "data": {
      "text/html": [
       "<pre>recommendations finished on 32000/45165 queries. users per second: 223.417</pre>"
      ],
      "text/plain": [
       "recommendations finished on 32000/45165 queries. users per second: 223.417"
      ]
     },
     "metadata": {},
     "output_type": "display_data"
    },
    {
     "data": {
      "text/html": [
       "<pre>recommendations finished on 33000/45165 queries. users per second: 223.271</pre>"
      ],
      "text/plain": [
       "recommendations finished on 33000/45165 queries. users per second: 223.271"
      ]
     },
     "metadata": {},
     "output_type": "display_data"
    },
    {
     "data": {
      "text/html": [
       "<pre>recommendations finished on 34000/45165 queries. users per second: 223.265</pre>"
      ],
      "text/plain": [
       "recommendations finished on 34000/45165 queries. users per second: 223.265"
      ]
     },
     "metadata": {},
     "output_type": "display_data"
    },
    {
     "data": {
      "text/html": [
       "<pre>recommendations finished on 35000/45165 queries. users per second: 222.632</pre>"
      ],
      "text/plain": [
       "recommendations finished on 35000/45165 queries. users per second: 222.632"
      ]
     },
     "metadata": {},
     "output_type": "display_data"
    },
    {
     "data": {
      "text/html": [
       "<pre>recommendations finished on 36000/45165 queries. users per second: 220.877</pre>"
      ],
      "text/plain": [
       "recommendations finished on 36000/45165 queries. users per second: 220.877"
      ]
     },
     "metadata": {},
     "output_type": "display_data"
    },
    {
     "data": {
      "text/html": [
       "<pre>recommendations finished on 37000/45165 queries. users per second: 219.261</pre>"
      ],
      "text/plain": [
       "recommendations finished on 37000/45165 queries. users per second: 219.261"
      ]
     },
     "metadata": {},
     "output_type": "display_data"
    },
    {
     "data": {
      "text/html": [
       "<pre>recommendations finished on 38000/45165 queries. users per second: 218.089</pre>"
      ],
      "text/plain": [
       "recommendations finished on 38000/45165 queries. users per second: 218.089"
      ]
     },
     "metadata": {},
     "output_type": "display_data"
    },
    {
     "data": {
      "text/html": [
       "<pre>recommendations finished on 39000/45165 queries. users per second: 217.619</pre>"
      ],
      "text/plain": [
       "recommendations finished on 39000/45165 queries. users per second: 217.619"
      ]
     },
     "metadata": {},
     "output_type": "display_data"
    },
    {
     "data": {
      "text/html": [
       "<pre>recommendations finished on 40000/45165 queries. users per second: 217.031</pre>"
      ],
      "text/plain": [
       "recommendations finished on 40000/45165 queries. users per second: 217.031"
      ]
     },
     "metadata": {},
     "output_type": "display_data"
    },
    {
     "data": {
      "text/html": [
       "<pre>recommendations finished on 41000/45165 queries. users per second: 216.573</pre>"
      ],
      "text/plain": [
       "recommendations finished on 41000/45165 queries. users per second: 216.573"
      ]
     },
     "metadata": {},
     "output_type": "display_data"
    },
    {
     "data": {
      "text/html": [
       "<pre>recommendations finished on 42000/45165 queries. users per second: 215.693</pre>"
      ],
      "text/plain": [
       "recommendations finished on 42000/45165 queries. users per second: 215.693"
      ]
     },
     "metadata": {},
     "output_type": "display_data"
    },
    {
     "data": {
      "text/html": [
       "<pre>recommendations finished on 43000/45165 queries. users per second: 214.321</pre>"
      ],
      "text/plain": [
       "recommendations finished on 43000/45165 queries. users per second: 214.321"
      ]
     },
     "metadata": {},
     "output_type": "display_data"
    },
    {
     "data": {
      "text/html": [
       "<pre>recommendations finished on 44000/45165 queries. users per second: 211.801</pre>"
      ],
      "text/plain": [
       "recommendations finished on 44000/45165 queries. users per second: 211.801"
      ]
     },
     "metadata": {},
     "output_type": "display_data"
    },
    {
     "data": {
      "text/html": [
       "<pre>recommendations finished on 45000/45165 queries. users per second: 208.531</pre>"
      ],
      "text/plain": [
       "recommendations finished on 45000/45165 queries. users per second: 208.531"
      ]
     },
     "metadata": {},
     "output_type": "display_data"
    },
    {
     "name": "stdout",
     "output_type": "stream",
     "text": [
      "\n",
      "Precision and recall summary statistics by cutoff\n",
      "+--------+-----------------+------------------+\n",
      "| cutoff |  mean_precision |   mean_recall    |\n",
      "+--------+-----------------+------------------+\n",
      "|   1    | 0.0197719473043 | 0.00368700156572 |\n",
      "|   2    | 0.0191852097863 | 0.0070964705279  |\n",
      "|   3    | 0.0180966087309 | 0.00971671899807 |\n",
      "|   4    | 0.0171703752906 | 0.0121790086666  |\n",
      "|   5    | 0.0166544890955 | 0.0144672646951  |\n",
      "|   6    | 0.0160374921584 |  0.016361887856  |\n",
      "|   7    | 0.0155556609891 | 0.0182321369456  |\n",
      "|   8    | 0.0152219639101 | 0.0199683348505  |\n",
      "|   9    | 0.0148074344687 | 0.0214328721947  |\n",
      "|   10   | 0.0144913096424 | 0.0229103749964  |\n",
      "+--------+-----------------+------------------+\n",
      "[10 rows x 3 columns]\n",
      "\n",
      "PROGRESS: Evaluate model M3\n"
     ]
    },
    {
     "data": {
      "text/html": [
       "<pre>recommendations finished on 1000/45165 queries. users per second: 7604.22</pre>"
      ],
      "text/plain": [
       "recommendations finished on 1000/45165 queries. users per second: 7604.22"
      ]
     },
     "metadata": {},
     "output_type": "display_data"
    },
    {
     "data": {
      "text/html": [
       "<pre>recommendations finished on 2000/45165 queries. users per second: 8456.23</pre>"
      ],
      "text/plain": [
       "recommendations finished on 2000/45165 queries. users per second: 8456.23"
      ]
     },
     "metadata": {},
     "output_type": "display_data"
    },
    {
     "data": {
      "text/html": [
       "<pre>recommendations finished on 3000/45165 queries. users per second: 8733.17</pre>"
      ],
      "text/plain": [
       "recommendations finished on 3000/45165 queries. users per second: 8733.17"
      ]
     },
     "metadata": {},
     "output_type": "display_data"
    },
    {
     "data": {
      "text/html": [
       "<pre>recommendations finished on 4000/45165 queries. users per second: 8761.84</pre>"
      ],
      "text/plain": [
       "recommendations finished on 4000/45165 queries. users per second: 8761.84"
      ]
     },
     "metadata": {},
     "output_type": "display_data"
    },
    {
     "data": {
      "text/html": [
       "<pre>recommendations finished on 5000/45165 queries. users per second: 8825.64</pre>"
      ],
      "text/plain": [
       "recommendations finished on 5000/45165 queries. users per second: 8825.64"
      ]
     },
     "metadata": {},
     "output_type": "display_data"
    },
    {
     "data": {
      "text/html": [
       "<pre>recommendations finished on 6000/45165 queries. users per second: 8803.62</pre>"
      ],
      "text/plain": [
       "recommendations finished on 6000/45165 queries. users per second: 8803.62"
      ]
     },
     "metadata": {},
     "output_type": "display_data"
    },
    {
     "data": {
      "text/html": [
       "<pre>recommendations finished on 7000/45165 queries. users per second: 8877.12</pre>"
      ],
      "text/plain": [
       "recommendations finished on 7000/45165 queries. users per second: 8877.12"
      ]
     },
     "metadata": {},
     "output_type": "display_data"
    },
    {
     "data": {
      "text/html": [
       "<pre>recommendations finished on 8000/45165 queries. users per second: 8913.15</pre>"
      ],
      "text/plain": [
       "recommendations finished on 8000/45165 queries. users per second: 8913.15"
      ]
     },
     "metadata": {},
     "output_type": "display_data"
    },
    {
     "data": {
      "text/html": [
       "<pre>recommendations finished on 9000/45165 queries. users per second: 8870.87</pre>"
      ],
      "text/plain": [
       "recommendations finished on 9000/45165 queries. users per second: 8870.87"
      ]
     },
     "metadata": {},
     "output_type": "display_data"
    },
    {
     "data": {
      "text/html": [
       "<pre>recommendations finished on 10000/45165 queries. users per second: 8908.19</pre>"
      ],
      "text/plain": [
       "recommendations finished on 10000/45165 queries. users per second: 8908.19"
      ]
     },
     "metadata": {},
     "output_type": "display_data"
    },
    {
     "data": {
      "text/html": [
       "<pre>recommendations finished on 11000/45165 queries. users per second: 8881.21</pre>"
      ],
      "text/plain": [
       "recommendations finished on 11000/45165 queries. users per second: 8881.21"
      ]
     },
     "metadata": {},
     "output_type": "display_data"
    },
    {
     "data": {
      "text/html": [
       "<pre>recommendations finished on 12000/45165 queries. users per second: 8865.41</pre>"
      ],
      "text/plain": [
       "recommendations finished on 12000/45165 queries. users per second: 8865.41"
      ]
     },
     "metadata": {},
     "output_type": "display_data"
    },
    {
     "data": {
      "text/html": [
       "<pre>recommendations finished on 13000/45165 queries. users per second: 8888.39</pre>"
      ],
      "text/plain": [
       "recommendations finished on 13000/45165 queries. users per second: 8888.39"
      ]
     },
     "metadata": {},
     "output_type": "display_data"
    },
    {
     "data": {
      "text/html": [
       "<pre>recommendations finished on 14000/45165 queries. users per second: 8763.2</pre>"
      ],
      "text/plain": [
       "recommendations finished on 14000/45165 queries. users per second: 8763.2"
      ]
     },
     "metadata": {},
     "output_type": "display_data"
    },
    {
     "data": {
      "text/html": [
       "<pre>recommendations finished on 15000/45165 queries. users per second: 8789.43</pre>"
      ],
      "text/plain": [
       "recommendations finished on 15000/45165 queries. users per second: 8789.43"
      ]
     },
     "metadata": {},
     "output_type": "display_data"
    },
    {
     "data": {
      "text/html": [
       "<pre>recommendations finished on 16000/45165 queries. users per second: 8807.65</pre>"
      ],
      "text/plain": [
       "recommendations finished on 16000/45165 queries. users per second: 8807.65"
      ]
     },
     "metadata": {},
     "output_type": "display_data"
    },
    {
     "data": {
      "text/html": [
       "<pre>recommendations finished on 17000/45165 queries. users per second: 8823.79</pre>"
      ],
      "text/plain": [
       "recommendations finished on 17000/45165 queries. users per second: 8823.79"
      ]
     },
     "metadata": {},
     "output_type": "display_data"
    },
    {
     "data": {
      "text/html": [
       "<pre>recommendations finished on 18000/45165 queries. users per second: 8812.23</pre>"
      ],
      "text/plain": [
       "recommendations finished on 18000/45165 queries. users per second: 8812.23"
      ]
     },
     "metadata": {},
     "output_type": "display_data"
    },
    {
     "data": {
      "text/html": [
       "<pre>recommendations finished on 19000/45165 queries. users per second: 8797.84</pre>"
      ],
      "text/plain": [
       "recommendations finished on 19000/45165 queries. users per second: 8797.84"
      ]
     },
     "metadata": {},
     "output_type": "display_data"
    },
    {
     "data": {
      "text/html": [
       "<pre>recommendations finished on 20000/45165 queries. users per second: 8800.38</pre>"
      ],
      "text/plain": [
       "recommendations finished on 20000/45165 queries. users per second: 8800.38"
      ]
     },
     "metadata": {},
     "output_type": "display_data"
    },
    {
     "data": {
      "text/html": [
       "<pre>recommendations finished on 21000/45165 queries. users per second: 8821.18</pre>"
      ],
      "text/plain": [
       "recommendations finished on 21000/45165 queries. users per second: 8821.18"
      ]
     },
     "metadata": {},
     "output_type": "display_data"
    },
    {
     "data": {
      "text/html": [
       "<pre>recommendations finished on 22000/45165 queries. users per second: 8829.52</pre>"
      ],
      "text/plain": [
       "recommendations finished on 22000/45165 queries. users per second: 8829.52"
      ]
     },
     "metadata": {},
     "output_type": "display_data"
    },
    {
     "data": {
      "text/html": [
       "<pre>recommendations finished on 23000/45165 queries. users per second: 8823.59</pre>"
      ],
      "text/plain": [
       "recommendations finished on 23000/45165 queries. users per second: 8823.59"
      ]
     },
     "metadata": {},
     "output_type": "display_data"
    },
    {
     "data": {
      "text/html": [
       "<pre>recommendations finished on 24000/45165 queries. users per second: 8867.04</pre>"
      ],
      "text/plain": [
       "recommendations finished on 24000/45165 queries. users per second: 8867.04"
      ]
     },
     "metadata": {},
     "output_type": "display_data"
    },
    {
     "data": {
      "text/html": [
       "<pre>recommendations finished on 25000/45165 queries. users per second: 8863.17</pre>"
      ],
      "text/plain": [
       "recommendations finished on 25000/45165 queries. users per second: 8863.17"
      ]
     },
     "metadata": {},
     "output_type": "display_data"
    },
    {
     "data": {
      "text/html": [
       "<pre>recommendations finished on 26000/45165 queries. users per second: 8853.57</pre>"
      ],
      "text/plain": [
       "recommendations finished on 26000/45165 queries. users per second: 8853.57"
      ]
     },
     "metadata": {},
     "output_type": "display_data"
    },
    {
     "data": {
      "text/html": [
       "<pre>recommendations finished on 27000/45165 queries. users per second: 8867.95</pre>"
      ],
      "text/plain": [
       "recommendations finished on 27000/45165 queries. users per second: 8867.95"
      ]
     },
     "metadata": {},
     "output_type": "display_data"
    },
    {
     "data": {
      "text/html": [
       "<pre>recommendations finished on 28000/45165 queries. users per second: 8878.52</pre>"
      ],
      "text/plain": [
       "recommendations finished on 28000/45165 queries. users per second: 8878.52"
      ]
     },
     "metadata": {},
     "output_type": "display_data"
    },
    {
     "data": {
      "text/html": [
       "<pre>recommendations finished on 29000/45165 queries. users per second: 8863.93</pre>"
      ],
      "text/plain": [
       "recommendations finished on 29000/45165 queries. users per second: 8863.93"
      ]
     },
     "metadata": {},
     "output_type": "display_data"
    },
    {
     "data": {
      "text/html": [
       "<pre>recommendations finished on 30000/45165 queries. users per second: 8871.3</pre>"
      ],
      "text/plain": [
       "recommendations finished on 30000/45165 queries. users per second: 8871.3"
      ]
     },
     "metadata": {},
     "output_type": "display_data"
    },
    {
     "data": {
      "text/html": [
       "<pre>recommendations finished on 31000/45165 queries. users per second: 8875.66</pre>"
      ],
      "text/plain": [
       "recommendations finished on 31000/45165 queries. users per second: 8875.66"
      ]
     },
     "metadata": {},
     "output_type": "display_data"
    },
    {
     "data": {
      "text/html": [
       "<pre>recommendations finished on 32000/45165 queries. users per second: 8867.45</pre>"
      ],
      "text/plain": [
       "recommendations finished on 32000/45165 queries. users per second: 8867.45"
      ]
     },
     "metadata": {},
     "output_type": "display_data"
    },
    {
     "data": {
      "text/html": [
       "<pre>recommendations finished on 33000/45165 queries. users per second: 8876.43</pre>"
      ],
      "text/plain": [
       "recommendations finished on 33000/45165 queries. users per second: 8876.43"
      ]
     },
     "metadata": {},
     "output_type": "display_data"
    },
    {
     "data": {
      "text/html": [
       "<pre>recommendations finished on 34000/45165 queries. users per second: 8889.54</pre>"
      ],
      "text/plain": [
       "recommendations finished on 34000/45165 queries. users per second: 8889.54"
      ]
     },
     "metadata": {},
     "output_type": "display_data"
    },
    {
     "data": {
      "text/html": [
       "<pre>recommendations finished on 35000/45165 queries. users per second: 8874.86</pre>"
      ],
      "text/plain": [
       "recommendations finished on 35000/45165 queries. users per second: 8874.86"
      ]
     },
     "metadata": {},
     "output_type": "display_data"
    },
    {
     "data": {
      "text/html": [
       "<pre>recommendations finished on 36000/45165 queries. users per second: 8887.28</pre>"
      ],
      "text/plain": [
       "recommendations finished on 36000/45165 queries. users per second: 8887.28"
      ]
     },
     "metadata": {},
     "output_type": "display_data"
    },
    {
     "data": {
      "text/html": [
       "<pre>recommendations finished on 37000/45165 queries. users per second: 8881.98</pre>"
      ],
      "text/plain": [
       "recommendations finished on 37000/45165 queries. users per second: 8881.98"
      ]
     },
     "metadata": {},
     "output_type": "display_data"
    },
    {
     "data": {
      "text/html": [
       "<pre>recommendations finished on 38000/45165 queries. users per second: 8881.11</pre>"
      ],
      "text/plain": [
       "recommendations finished on 38000/45165 queries. users per second: 8881.11"
      ]
     },
     "metadata": {},
     "output_type": "display_data"
    },
    {
     "data": {
      "text/html": [
       "<pre>recommendations finished on 39000/45165 queries. users per second: 8880.29</pre>"
      ],
      "text/plain": [
       "recommendations finished on 39000/45165 queries. users per second: 8880.29"
      ]
     },
     "metadata": {},
     "output_type": "display_data"
    },
    {
     "data": {
      "text/html": [
       "<pre>recommendations finished on 40000/45165 queries. users per second: 8881.48</pre>"
      ],
      "text/plain": [
       "recommendations finished on 40000/45165 queries. users per second: 8881.48"
      ]
     },
     "metadata": {},
     "output_type": "display_data"
    },
    {
     "data": {
      "text/html": [
       "<pre>recommendations finished on 41000/45165 queries. users per second: 8884.53</pre>"
      ],
      "text/plain": [
       "recommendations finished on 41000/45165 queries. users per second: 8884.53"
      ]
     },
     "metadata": {},
     "output_type": "display_data"
    },
    {
     "data": {
      "text/html": [
       "<pre>recommendations finished on 42000/45165 queries. users per second: 8889.32</pre>"
      ],
      "text/plain": [
       "recommendations finished on 42000/45165 queries. users per second: 8889.32"
      ]
     },
     "metadata": {},
     "output_type": "display_data"
    },
    {
     "data": {
      "text/html": [
       "<pre>recommendations finished on 43000/45165 queries. users per second: 8860.91</pre>"
      ],
      "text/plain": [
       "recommendations finished on 43000/45165 queries. users per second: 8860.91"
      ]
     },
     "metadata": {},
     "output_type": "display_data"
    },
    {
     "data": {
      "text/html": [
       "<pre>recommendations finished on 44000/45165 queries. users per second: 8674.6</pre>"
      ],
      "text/plain": [
       "recommendations finished on 44000/45165 queries. users per second: 8674.6"
      ]
     },
     "metadata": {},
     "output_type": "display_data"
    },
    {
     "data": {
      "text/html": [
       "<pre>recommendations finished on 45000/45165 queries. users per second: 8466.95</pre>"
      ],
      "text/plain": [
       "recommendations finished on 45000/45165 queries. users per second: 8466.95"
      ]
     },
     "metadata": {},
     "output_type": "display_data"
    },
    {
     "name": "stdout",
     "output_type": "stream",
     "text": [
      "\n",
      "Precision and recall summary statistics by cutoff\n",
      "+--------+-------------------+-------------------+\n",
      "| cutoff |   mean_precision  |    mean_recall    |\n",
      "+--------+-------------------+-------------------+\n",
      "|   1    | 0.000664231152441 | 0.000297615892601 |\n",
      "|   2    | 0.000619949075612 | 0.000377502834291 |\n",
      "|   3    | 0.000612568729473 | 0.000551068459533 |\n",
      "|   4    | 0.000636554854423 | 0.000664615298917 |\n",
      "|   5    | 0.000597808037197 | 0.000740377469815 |\n",
      "|   6    | 0.000645780287095 | 0.000844897028752 |\n",
      "|   7    | 0.000699024212807 |  0.00100789426792 |\n",
      "|   8    | 0.000719583748478 |  0.00112395974869 |\n",
      "|   9    | 0.000676531729338 |  0.00120437769886 |\n",
      "|   10   | 0.000690800398539 |  0.00149510678085 |\n",
      "+--------+-------------------+-------------------+\n",
      "[10 rows x 3 columns]\n",
      "\n",
      "Model compare metric: precision_recall\n"
     ]
    }
   ],
   "source": [
    "model_performance = graphlab.compare(test, [content_based_model,matrix_factorization,modified_matrix_factorization,item_sim_model])"
   ]
  },
  {
   "cell_type": "code",
   "execution_count": 25,
   "metadata": {
    "collapsed": false
   },
   "outputs": [
    {
     "name": "stdout",
     "output_type": "stream",
     "text": [
      "Canvas is accessible via web browser at the URL: http://localhost:50363/index.html\n",
      "Opening Canvas in default web browser.\n"
     ]
    }
   ],
   "source": [
    "graphlab.show_comparison(model_performance,[content_based_model,matrix_factorization,modified_matrix_factorization,item_sim_model])"
   ]
  },
  {
   "cell_type": "code",
   "execution_count": 26,
   "metadata": {
    "collapsed": false
   },
   "outputs": [
    {
     "data": {
      "text/plain": [
       "Class                            : ItemContentRecommender\n",
       "\n",
       "Schema\n",
       "------\n",
       "User ID                          : user_id\n",
       "Item ID                          : book_id\n",
       "Target                           : rating\n",
       "Additional observation features  : 0\n",
       "User side features               : []\n",
       "Item side features               : ['Unnamed: 0', 'author', 'description0', 'Language', 'NumberofRatings', 'GoodReadAverageRating', 'book_id_original', 'description1', 'title', 'book_id', 'goodreads_title', 'goodreads_book_id', 'goodreads_work_id']\n",
       "\n",
       "Statistics\n",
       "----------\n",
       "Number of observations           : 687229\n",
       "Number of users                  : 52541\n",
       "Number of items                  : 10000\n",
       "\n",
       "Training summary\n",
       "----------------\n",
       "Training time                    : 0.2718\n",
       "\n",
       "Model Parameters\n",
       "----------------\n",
       "Model class                      : ItemContentRecommender\n",
       "threshold                        : 0.0001\n",
       "similarity_type                  : cosine\n",
       "training_method                  : auto\n",
       "\n",
       "Other Settings\n",
       "--------------\n",
       "degree_approximation_threshold   : 4096\n",
       "sparse_density_estimation_sample_size : 4096\n",
       "max_data_passes                  : 4096\n",
       "target_memory_usage              : 8589934592\n",
       "seed_item_set_size               : 50\n",
       "nearest_neighbors_interaction_proportion_threshold : 0.05\n",
       "max_item_neighborhood_size       : 64"
      ]
     },
     "execution_count": 26,
     "metadata": {},
     "output_type": "execute_result"
    }
   ],
   "source": [
    "content_based_model"
   ]
  },
  {
   "cell_type": "code",
   "execution_count": 27,
   "metadata": {
    "collapsed": false
   },
   "outputs": [
    {
     "data": {
      "text/plain": [
       "Class                            : RankingFactorizationRecommender\n",
       "\n",
       "Schema\n",
       "------\n",
       "User ID                          : user_id\n",
       "Item ID                          : book_id\n",
       "Target                           : rating\n",
       "Additional observation features  : 0\n",
       "User side features               : []\n",
       "Item side features               : ['Unnamed: 0', 'author', 'description0', 'Language', 'NumberofRatings', 'GoodReadAverageRating', 'book_id_original', 'description1', 'title', 'book_id', 'goodreads_title', 'goodreads_book_id', 'goodreads_work_id']\n",
       "\n",
       "Statistics\n",
       "----------\n",
       "Number of observations           : 687229\n",
       "Number of users                  : 52541\n",
       "Number of items                  : 10000\n",
       "\n",
       "Training summary\n",
       "----------------\n",
       "Training time                    : 131.3826\n",
       "\n",
       "Model Parameters\n",
       "----------------\n",
       "Model class                      : RankingFactorizationRecommender\n",
       "num_factors                      : 32\n",
       "binary_target                    : 0\n",
       "side_data_factorization          : 1\n",
       "solver                           : auto\n",
       "nmf                              : 0\n",
       "max_iterations                   : 25\n",
       "\n",
       "Regularization Settings\n",
       "-----------------------\n",
       "regularization                   : 0.0\n",
       "regularization_type              : normal\n",
       "linear_regularization            : 0.0\n",
       "ranking_regularization           : 0.25\n",
       "unobserved_rating_value          : -1.79769313486e+308\n",
       "num_sampled_negative_examples    : 4\n",
       "ials_confidence_scaling_type     : auto\n",
       "ials_confidence_scaling_factor   : 1\n",
       "\n",
       "Optimization Settings\n",
       "---------------------\n",
       "init_random_sigma                : 0.01\n",
       "sgd_convergence_interval         : 4\n",
       "sgd_convergence_threshold        : 0.0\n",
       "sgd_max_trial_iterations         : 5\n",
       "sgd_sampling_block_size          : 131072\n",
       "sgd_step_adjustment_interval     : 4\n",
       "sgd_step_size                    : 0.0\n",
       "sgd_trial_sample_minimum_size    : 10000\n",
       "sgd_trial_sample_proportion      : 0.125\n",
       "step_size_decrease_rate          : 0.75\n",
       "additional_iterations_if_unhealthy : 5\n",
       "adagrad_momentum_weighting       : 0.9\n",
       "num_tempering_iterations         : 4\n",
       "tempering_regularization_start_value : 0.0\n",
       "track_exact_loss                 : 0"
      ]
     },
     "execution_count": 27,
     "metadata": {},
     "output_type": "execute_result"
    }
   ],
   "source": [
    "matrix_factorization"
   ]
  },
  {
   "cell_type": "code",
   "execution_count": 28,
   "metadata": {
    "collapsed": false
   },
   "outputs": [
    {
     "data": {
      "text/plain": [
       "Class                            : RankingFactorizationRecommender\n",
       "\n",
       "Schema\n",
       "------\n",
       "User ID                          : user_id\n",
       "Item ID                          : book_id\n",
       "Target                           : rating\n",
       "Additional observation features  : 0\n",
       "User side features               : []\n",
       "Item side features               : ['Unnamed: 0', 'author', 'description0', 'Language', 'NumberofRatings', 'GoodReadAverageRating', 'book_id_original', 'description1', 'title', 'book_id', 'goodreads_title', 'goodreads_book_id', 'goodreads_work_id']\n",
       "\n",
       "Statistics\n",
       "----------\n",
       "Number of observations           : 687229\n",
       "Number of users                  : 52541\n",
       "Number of items                  : 10000\n",
       "\n",
       "Training summary\n",
       "----------------\n",
       "Training time                    : 135.3418\n",
       "\n",
       "Model Parameters\n",
       "----------------\n",
       "Model class                      : RankingFactorizationRecommender\n",
       "num_factors                      : 32\n",
       "binary_target                    : 0\n",
       "side_data_factorization          : 1\n",
       "solver                           : auto\n",
       "nmf                              : 0\n",
       "max_iterations                   : 25\n",
       "\n",
       "Regularization Settings\n",
       "-----------------------\n",
       "regularization                   : 0.0\n",
       "regularization_type              : normal\n",
       "linear_regularization            : 0.0\n",
       "ranking_regularization           : 0.1\n",
       "unobserved_rating_value          : 1.0\n",
       "num_sampled_negative_examples    : 4\n",
       "ials_confidence_scaling_type     : auto\n",
       "ials_confidence_scaling_factor   : 1\n",
       "\n",
       "Optimization Settings\n",
       "---------------------\n",
       "init_random_sigma                : 0.01\n",
       "sgd_convergence_interval         : 4\n",
       "sgd_convergence_threshold        : 0.0\n",
       "sgd_max_trial_iterations         : 5\n",
       "sgd_sampling_block_size          : 131072\n",
       "sgd_step_adjustment_interval     : 4\n",
       "sgd_step_size                    : 0.0\n",
       "sgd_trial_sample_minimum_size    : 10000\n",
       "sgd_trial_sample_proportion      : 0.125\n",
       "step_size_decrease_rate          : 0.75\n",
       "additional_iterations_if_unhealthy : 5\n",
       "adagrad_momentum_weighting       : 0.9\n",
       "num_tempering_iterations         : 4\n",
       "tempering_regularization_start_value : 0.0\n",
       "track_exact_loss                 : 0"
      ]
     },
     "execution_count": 28,
     "metadata": {},
     "output_type": "execute_result"
    }
   ],
   "source": [
    "modified_matrix_factorization"
   ]
  },
  {
   "cell_type": "code",
   "execution_count": 29,
   "metadata": {
    "collapsed": false
   },
   "outputs": [
    {
     "data": {
      "text/plain": [
       "Class                            : ItemSimilarityRecommender\n",
       "\n",
       "Schema\n",
       "------\n",
       "User ID                          : user_id\n",
       "Item ID                          : book_id\n",
       "Target                           : rating\n",
       "Additional observation features  : 0\n",
       "User side features               : []\n",
       "Item side features               : []\n",
       "\n",
       "Statistics\n",
       "----------\n",
       "Number of observations           : 687229\n",
       "Number of users                  : 52541\n",
       "Number of items                  : 10000\n",
       "\n",
       "Training summary\n",
       "----------------\n",
       "Training time                    : 3.8427\n",
       "\n",
       "Model Parameters\n",
       "----------------\n",
       "Model class                      : ItemSimilarityRecommender\n",
       "threshold                        : 0.001\n",
       "similarity_type                  : pearson\n",
       "training_method                  : auto\n",
       "\n",
       "Other Settings\n",
       "--------------\n",
       "degree_approximation_threshold   : 4096\n",
       "sparse_density_estimation_sample_size : 4096\n",
       "max_data_passes                  : 4096\n",
       "target_memory_usage              : 8589934592\n",
       "seed_item_set_size               : 50\n",
       "nearest_neighbors_interaction_proportion_threshold : 0.05\n",
       "max_item_neighborhood_size       : 64"
      ]
     },
     "execution_count": 29,
     "metadata": {},
     "output_type": "execute_result"
    }
   ],
   "source": [
    "item_sim_model"
   ]
  },
  {
   "cell_type": "code",
   "execution_count": 35,
   "metadata": {
    "collapsed": false
   },
   "outputs": [
    {
     "data": {
      "text/html": [
       "<pre>recommendations finished on 1000/52541 queries. users per second: 2374.16</pre>"
      ],
      "text/plain": [
       "recommendations finished on 1000/52541 queries. users per second: 2374.16"
      ]
     },
     "metadata": {},
     "output_type": "display_data"
    },
    {
     "data": {
      "text/html": [
       "<pre>recommendations finished on 2000/52541 queries. users per second: 3277.6</pre>"
      ],
      "text/plain": [
       "recommendations finished on 2000/52541 queries. users per second: 3277.6"
      ]
     },
     "metadata": {},
     "output_type": "display_data"
    },
    {
     "data": {
      "text/html": [
       "<pre>recommendations finished on 3000/52541 queries. users per second: 4008.52</pre>"
      ],
      "text/plain": [
       "recommendations finished on 3000/52541 queries. users per second: 4008.52"
      ]
     },
     "metadata": {},
     "output_type": "display_data"
    },
    {
     "data": {
      "text/html": [
       "<pre>recommendations finished on 4000/52541 queries. users per second: 4701.42</pre>"
      ],
      "text/plain": [
       "recommendations finished on 4000/52541 queries. users per second: 4701.42"
      ]
     },
     "metadata": {},
     "output_type": "display_data"
    },
    {
     "data": {
      "text/html": [
       "<pre>recommendations finished on 5000/52541 queries. users per second: 5254.25</pre>"
      ],
      "text/plain": [
       "recommendations finished on 5000/52541 queries. users per second: 5254.25"
      ]
     },
     "metadata": {},
     "output_type": "display_data"
    },
    {
     "data": {
      "text/html": [
       "<pre>recommendations finished on 6000/52541 queries. users per second: 5617.9</pre>"
      ],
      "text/plain": [
       "recommendations finished on 6000/52541 queries. users per second: 5617.9"
      ]
     },
     "metadata": {},
     "output_type": "display_data"
    },
    {
     "data": {
      "text/html": [
       "<pre>recommendations finished on 7000/52541 queries. users per second: 5967.53</pre>"
      ],
      "text/plain": [
       "recommendations finished on 7000/52541 queries. users per second: 5967.53"
      ]
     },
     "metadata": {},
     "output_type": "display_data"
    },
    {
     "data": {
      "text/html": [
       "<pre>recommendations finished on 8000/52541 queries. users per second: 6164.2</pre>"
      ],
      "text/plain": [
       "recommendations finished on 8000/52541 queries. users per second: 6164.2"
      ]
     },
     "metadata": {},
     "output_type": "display_data"
    },
    {
     "data": {
      "text/html": [
       "<pre>recommendations finished on 9000/52541 queries. users per second: 6326.37</pre>"
      ],
      "text/plain": [
       "recommendations finished on 9000/52541 queries. users per second: 6326.37"
      ]
     },
     "metadata": {},
     "output_type": "display_data"
    },
    {
     "data": {
      "text/html": [
       "<pre>recommendations finished on 10000/52541 queries. users per second: 6528.2</pre>"
      ],
      "text/plain": [
       "recommendations finished on 10000/52541 queries. users per second: 6528.2"
      ]
     },
     "metadata": {},
     "output_type": "display_data"
    },
    {
     "data": {
      "text/html": [
       "<pre>recommendations finished on 11000/52541 queries. users per second: 6767.5</pre>"
      ],
      "text/plain": [
       "recommendations finished on 11000/52541 queries. users per second: 6767.5"
      ]
     },
     "metadata": {},
     "output_type": "display_data"
    },
    {
     "data": {
      "text/html": [
       "<pre>recommendations finished on 12000/52541 queries. users per second: 6898.05</pre>"
      ],
      "text/plain": [
       "recommendations finished on 12000/52541 queries. users per second: 6898.05"
      ]
     },
     "metadata": {},
     "output_type": "display_data"
    },
    {
     "data": {
      "text/html": [
       "<pre>recommendations finished on 13000/52541 queries. users per second: 7009.49</pre>"
      ],
      "text/plain": [
       "recommendations finished on 13000/52541 queries. users per second: 7009.49"
      ]
     },
     "metadata": {},
     "output_type": "display_data"
    },
    {
     "data": {
      "text/html": [
       "<pre>recommendations finished on 14000/52541 queries. users per second: 7126.01</pre>"
      ],
      "text/plain": [
       "recommendations finished on 14000/52541 queries. users per second: 7126.01"
      ]
     },
     "metadata": {},
     "output_type": "display_data"
    },
    {
     "data": {
      "text/html": [
       "<pre>recommendations finished on 15000/52541 queries. users per second: 7251.14</pre>"
      ],
      "text/plain": [
       "recommendations finished on 15000/52541 queries. users per second: 7251.14"
      ]
     },
     "metadata": {},
     "output_type": "display_data"
    },
    {
     "data": {
      "text/html": [
       "<pre>recommendations finished on 16000/52541 queries. users per second: 7354.14</pre>"
      ],
      "text/plain": [
       "recommendations finished on 16000/52541 queries. users per second: 7354.14"
      ]
     },
     "metadata": {},
     "output_type": "display_data"
    },
    {
     "data": {
      "text/html": [
       "<pre>recommendations finished on 17000/52541 queries. users per second: 7473.67</pre>"
      ],
      "text/plain": [
       "recommendations finished on 17000/52541 queries. users per second: 7473.67"
      ]
     },
     "metadata": {},
     "output_type": "display_data"
    },
    {
     "data": {
      "text/html": [
       "<pre>recommendations finished on 18000/52541 queries. users per second: 7535.61</pre>"
      ],
      "text/plain": [
       "recommendations finished on 18000/52541 queries. users per second: 7535.61"
      ]
     },
     "metadata": {},
     "output_type": "display_data"
    },
    {
     "data": {
      "text/html": [
       "<pre>recommendations finished on 19000/52541 queries. users per second: 7549.67</pre>"
      ],
      "text/plain": [
       "recommendations finished on 19000/52541 queries. users per second: 7549.67"
      ]
     },
     "metadata": {},
     "output_type": "display_data"
    },
    {
     "data": {
      "text/html": [
       "<pre>recommendations finished on 20000/52541 queries. users per second: 7573.83</pre>"
      ],
      "text/plain": [
       "recommendations finished on 20000/52541 queries. users per second: 7573.83"
      ]
     },
     "metadata": {},
     "output_type": "display_data"
    },
    {
     "data": {
      "text/html": [
       "<pre>recommendations finished on 21000/52541 queries. users per second: 7642.81</pre>"
      ],
      "text/plain": [
       "recommendations finished on 21000/52541 queries. users per second: 7642.81"
      ]
     },
     "metadata": {},
     "output_type": "display_data"
    },
    {
     "data": {
      "text/html": [
       "<pre>recommendations finished on 22000/52541 queries. users per second: 7712.03</pre>"
      ],
      "text/plain": [
       "recommendations finished on 22000/52541 queries. users per second: 7712.03"
      ]
     },
     "metadata": {},
     "output_type": "display_data"
    },
    {
     "data": {
      "text/html": [
       "<pre>recommendations finished on 23000/52541 queries. users per second: 7654.69</pre>"
      ],
      "text/plain": [
       "recommendations finished on 23000/52541 queries. users per second: 7654.69"
      ]
     },
     "metadata": {},
     "output_type": "display_data"
    },
    {
     "data": {
      "text/html": [
       "<pre>recommendations finished on 24000/52541 queries. users per second: 7446.72</pre>"
      ],
      "text/plain": [
       "recommendations finished on 24000/52541 queries. users per second: 7446.72"
      ]
     },
     "metadata": {},
     "output_type": "display_data"
    },
    {
     "data": {
      "text/html": [
       "<pre>recommendations finished on 25000/52541 queries. users per second: 7333.75</pre>"
      ],
      "text/plain": [
       "recommendations finished on 25000/52541 queries. users per second: 7333.75"
      ]
     },
     "metadata": {},
     "output_type": "display_data"
    },
    {
     "data": {
      "text/html": [
       "<pre>recommendations finished on 26000/52541 queries. users per second: 7332</pre>"
      ],
      "text/plain": [
       "recommendations finished on 26000/52541 queries. users per second: 7332"
      ]
     },
     "metadata": {},
     "output_type": "display_data"
    },
    {
     "data": {
      "text/html": [
       "<pre>recommendations finished on 27000/52541 queries. users per second: 7367.98</pre>"
      ],
      "text/plain": [
       "recommendations finished on 27000/52541 queries. users per second: 7367.98"
      ]
     },
     "metadata": {},
     "output_type": "display_data"
    },
    {
     "data": {
      "text/html": [
       "<pre>recommendations finished on 28000/52541 queries. users per second: 7399.76</pre>"
      ],
      "text/plain": [
       "recommendations finished on 28000/52541 queries. users per second: 7399.76"
      ]
     },
     "metadata": {},
     "output_type": "display_data"
    },
    {
     "data": {
      "text/html": [
       "<pre>recommendations finished on 29000/52541 queries. users per second: 7439.12</pre>"
      ],
      "text/plain": [
       "recommendations finished on 29000/52541 queries. users per second: 7439.12"
      ]
     },
     "metadata": {},
     "output_type": "display_data"
    },
    {
     "data": {
      "text/html": [
       "<pre>recommendations finished on 30000/52541 queries. users per second: 7504.29</pre>"
      ],
      "text/plain": [
       "recommendations finished on 30000/52541 queries. users per second: 7504.29"
      ]
     },
     "metadata": {},
     "output_type": "display_data"
    },
    {
     "data": {
      "text/html": [
       "<pre>recommendations finished on 31000/52541 queries. users per second: 7535.04</pre>"
      ],
      "text/plain": [
       "recommendations finished on 31000/52541 queries. users per second: 7535.04"
      ]
     },
     "metadata": {},
     "output_type": "display_data"
    },
    {
     "data": {
      "text/html": [
       "<pre>recommendations finished on 32000/52541 queries. users per second: 7583.81</pre>"
      ],
      "text/plain": [
       "recommendations finished on 32000/52541 queries. users per second: 7583.81"
      ]
     },
     "metadata": {},
     "output_type": "display_data"
    },
    {
     "data": {
      "text/html": [
       "<pre>recommendations finished on 33000/52541 queries. users per second: 7580.42</pre>"
      ],
      "text/plain": [
       "recommendations finished on 33000/52541 queries. users per second: 7580.42"
      ]
     },
     "metadata": {},
     "output_type": "display_data"
    },
    {
     "data": {
      "text/html": [
       "<pre>recommendations finished on 34000/52541 queries. users per second: 7590.09</pre>"
      ],
      "text/plain": [
       "recommendations finished on 34000/52541 queries. users per second: 7590.09"
      ]
     },
     "metadata": {},
     "output_type": "display_data"
    },
    {
     "data": {
      "text/html": [
       "<pre>recommendations finished on 35000/52541 queries. users per second: 7616.1</pre>"
      ],
      "text/plain": [
       "recommendations finished on 35000/52541 queries. users per second: 7616.1"
      ]
     },
     "metadata": {},
     "output_type": "display_data"
    },
    {
     "data": {
      "text/html": [
       "<pre>recommendations finished on 36000/52541 queries. users per second: 7345.84</pre>"
      ],
      "text/plain": [
       "recommendations finished on 36000/52541 queries. users per second: 7345.84"
      ]
     },
     "metadata": {},
     "output_type": "display_data"
    },
    {
     "data": {
      "text/html": [
       "<pre>recommendations finished on 37000/52541 queries. users per second: 7385.33</pre>"
      ],
      "text/plain": [
       "recommendations finished on 37000/52541 queries. users per second: 7385.33"
      ]
     },
     "metadata": {},
     "output_type": "display_data"
    },
    {
     "data": {
      "text/html": [
       "<pre>recommendations finished on 38000/52541 queries. users per second: 7167.72</pre>"
      ],
      "text/plain": [
       "recommendations finished on 38000/52541 queries. users per second: 7167.72"
      ]
     },
     "metadata": {},
     "output_type": "display_data"
    },
    {
     "data": {
      "text/html": [
       "<pre>recommendations finished on 39000/52541 queries. users per second: 6782.18</pre>"
      ],
      "text/plain": [
       "recommendations finished on 39000/52541 queries. users per second: 6782.18"
      ]
     },
     "metadata": {},
     "output_type": "display_data"
    },
    {
     "data": {
      "text/html": [
       "<pre>recommendations finished on 40000/52541 queries. users per second: 6839.28</pre>"
      ],
      "text/plain": [
       "recommendations finished on 40000/52541 queries. users per second: 6839.28"
      ]
     },
     "metadata": {},
     "output_type": "display_data"
    },
    {
     "data": {
      "text/html": [
       "<pre>recommendations finished on 41000/52541 queries. users per second: 6862.41</pre>"
      ],
      "text/plain": [
       "recommendations finished on 41000/52541 queries. users per second: 6862.41"
      ]
     },
     "metadata": {},
     "output_type": "display_data"
    },
    {
     "data": {
      "text/html": [
       "<pre>recommendations finished on 42000/52541 queries. users per second: 6869.95</pre>"
      ],
      "text/plain": [
       "recommendations finished on 42000/52541 queries. users per second: 6869.95"
      ]
     },
     "metadata": {},
     "output_type": "display_data"
    },
    {
     "data": {
      "text/html": [
       "<pre>recommendations finished on 43000/52541 queries. users per second: 6697.21</pre>"
      ],
      "text/plain": [
       "recommendations finished on 43000/52541 queries. users per second: 6697.21"
      ]
     },
     "metadata": {},
     "output_type": "display_data"
    },
    {
     "data": {
      "text/html": [
       "<pre>recommendations finished on 44000/52541 queries. users per second: 6662.03</pre>"
      ],
      "text/plain": [
       "recommendations finished on 44000/52541 queries. users per second: 6662.03"
      ]
     },
     "metadata": {},
     "output_type": "display_data"
    },
    {
     "data": {
      "text/html": [
       "<pre>recommendations finished on 45000/52541 queries. users per second: 6647.76</pre>"
      ],
      "text/plain": [
       "recommendations finished on 45000/52541 queries. users per second: 6647.76"
      ]
     },
     "metadata": {},
     "output_type": "display_data"
    },
    {
     "data": {
      "text/html": [
       "<pre>recommendations finished on 46000/52541 queries. users per second: 6654.13</pre>"
      ],
      "text/plain": [
       "recommendations finished on 46000/52541 queries. users per second: 6654.13"
      ]
     },
     "metadata": {},
     "output_type": "display_data"
    },
    {
     "data": {
      "text/html": [
       "<pre>recommendations finished on 47000/52541 queries. users per second: 6644.24</pre>"
      ],
      "text/plain": [
       "recommendations finished on 47000/52541 queries. users per second: 6644.24"
      ]
     },
     "metadata": {},
     "output_type": "display_data"
    },
    {
     "data": {
      "text/html": [
       "<pre>recommendations finished on 48000/52541 queries. users per second: 6616.31</pre>"
      ],
      "text/plain": [
       "recommendations finished on 48000/52541 queries. users per second: 6616.31"
      ]
     },
     "metadata": {},
     "output_type": "display_data"
    },
    {
     "data": {
      "text/html": [
       "<pre>recommendations finished on 49000/52541 queries. users per second: 6602.7</pre>"
      ],
      "text/plain": [
       "recommendations finished on 49000/52541 queries. users per second: 6602.7"
      ]
     },
     "metadata": {},
     "output_type": "display_data"
    },
    {
     "data": {
      "text/html": [
       "<pre>recommendations finished on 50000/52541 queries. users per second: 6588.83</pre>"
      ],
      "text/plain": [
       "recommendations finished on 50000/52541 queries. users per second: 6588.83"
      ]
     },
     "metadata": {},
     "output_type": "display_data"
    },
    {
     "data": {
      "text/html": [
       "<pre>recommendations finished on 51000/52541 queries. users per second: 6507.25</pre>"
      ],
      "text/plain": [
       "recommendations finished on 51000/52541 queries. users per second: 6507.25"
      ]
     },
     "metadata": {},
     "output_type": "display_data"
    },
    {
     "data": {
      "text/html": [
       "<pre>recommendations finished on 52000/52541 queries. users per second: 6431.02</pre>"
      ],
      "text/plain": [
       "recommendations finished on 52000/52541 queries. users per second: 6431.02"
      ]
     },
     "metadata": {},
     "output_type": "display_data"
    },
    {
     "name": "stdout",
     "output_type": "stream",
     "text": [
      "\n",
      "Precision and recall summary statistics by cutoff\n",
      "+--------+----------------+-------------+\n",
      "| cutoff | mean_precision | mean_recall |\n",
      "+--------+----------------+-------------+\n",
      "|   1    |      0.0       |     0.0     |\n",
      "|   2    |      0.0       |     0.0     |\n",
      "|   3    |      0.0       |     0.0     |\n",
      "|   4    |      0.0       |     0.0     |\n",
      "|   5    |      0.0       |     0.0     |\n",
      "|   6    |      0.0       |     0.0     |\n",
      "|   7    |      0.0       |     0.0     |\n",
      "|   8    |      0.0       |     0.0     |\n",
      "|   9    |      0.0       |     0.0     |\n",
      "|   10   |      0.0       |     0.0     |\n",
      "+--------+----------------+-------------+\n",
      "[10 rows x 3 columns]\n",
      "\n",
      "('\\nOverall RMSE: ', 0.9212731630778016)\n",
      "\n",
      "Per User RMSE (best)\n",
      "+---------+-------+------+\n",
      "| user_id | count | rmse |\n",
      "+---------+-------+------+\n",
      "|  12132  |   1   | 0.0  |\n",
      "+---------+-------+------+\n",
      "[1 rows x 3 columns]\n",
      "\n",
      "\n",
      "Per User RMSE (worst)\n",
      "+---------+-------+----------+\n",
      "| user_id | count |   rmse   |\n",
      "+---------+-------+----------+\n",
      "|  47436  |   1   | 3.515625 |\n",
      "+---------+-------+----------+\n",
      "[1 rows x 3 columns]\n",
      "\n",
      "\n",
      "Per Item RMSE (best)\n",
      "+---------+-------+----------------+\n",
      "| book_id | count |      rmse      |\n",
      "+---------+-------+----------------+\n",
      "|   5207  |   68  | 0.359151107789 |\n",
      "+---------+-------+----------------+\n",
      "[1 rows x 3 columns]\n",
      "\n",
      "\n",
      "Per Item RMSE (worst)\n",
      "+---------+-------+---------------+\n",
      "| book_id | count |      rmse     |\n",
      "+---------+-------+---------------+\n",
      "|   1338  |   73  | 1.69192112068 |\n",
      "+---------+-------+---------------+\n",
      "[1 rows x 3 columns]\n",
      "\n"
     ]
    }
   ],
   "source": [
    "result_item_sim_model= item_sim_model.evaluate(train)"
   ]
  },
  {
   "cell_type": "code",
   "execution_count": 31,
   "metadata": {
    "collapsed": false
   },
   "outputs": [
    {
     "data": {
      "text/html": [
       "<pre>recommendations finished on 1000/52541 queries. users per second: 252.32</pre>"
      ],
      "text/plain": [
       "recommendations finished on 1000/52541 queries. users per second: 252.32"
      ]
     },
     "metadata": {},
     "output_type": "display_data"
    },
    {
     "data": {
      "text/html": [
       "<pre>recommendations finished on 2000/52541 queries. users per second: 253.369</pre>"
      ],
      "text/plain": [
       "recommendations finished on 2000/52541 queries. users per second: 253.369"
      ]
     },
     "metadata": {},
     "output_type": "display_data"
    },
    {
     "data": {
      "text/html": [
       "<pre>recommendations finished on 3000/52541 queries. users per second: 255.274</pre>"
      ],
      "text/plain": [
       "recommendations finished on 3000/52541 queries. users per second: 255.274"
      ]
     },
     "metadata": {},
     "output_type": "display_data"
    },
    {
     "data": {
      "text/html": [
       "<pre>recommendations finished on 4000/52541 queries. users per second: 256.906</pre>"
      ],
      "text/plain": [
       "recommendations finished on 4000/52541 queries. users per second: 256.906"
      ]
     },
     "metadata": {},
     "output_type": "display_data"
    },
    {
     "data": {
      "text/html": [
       "<pre>recommendations finished on 5000/52541 queries. users per second: 257.797</pre>"
      ],
      "text/plain": [
       "recommendations finished on 5000/52541 queries. users per second: 257.797"
      ]
     },
     "metadata": {},
     "output_type": "display_data"
    },
    {
     "data": {
      "text/html": [
       "<pre>recommendations finished on 6000/52541 queries. users per second: 258.13</pre>"
      ],
      "text/plain": [
       "recommendations finished on 6000/52541 queries. users per second: 258.13"
      ]
     },
     "metadata": {},
     "output_type": "display_data"
    },
    {
     "data": {
      "text/html": [
       "<pre>recommendations finished on 7000/52541 queries. users per second: 258.465</pre>"
      ],
      "text/plain": [
       "recommendations finished on 7000/52541 queries. users per second: 258.465"
      ]
     },
     "metadata": {},
     "output_type": "display_data"
    },
    {
     "data": {
      "text/html": [
       "<pre>recommendations finished on 8000/52541 queries. users per second: 258.989</pre>"
      ],
      "text/plain": [
       "recommendations finished on 8000/52541 queries. users per second: 258.989"
      ]
     },
     "metadata": {},
     "output_type": "display_data"
    },
    {
     "data": {
      "text/html": [
       "<pre>recommendations finished on 9000/52541 queries. users per second: 257.829</pre>"
      ],
      "text/plain": [
       "recommendations finished on 9000/52541 queries. users per second: 257.829"
      ]
     },
     "metadata": {},
     "output_type": "display_data"
    },
    {
     "data": {
      "text/html": [
       "<pre>recommendations finished on 10000/52541 queries. users per second: 258.156</pre>"
      ],
      "text/plain": [
       "recommendations finished on 10000/52541 queries. users per second: 258.156"
      ]
     },
     "metadata": {},
     "output_type": "display_data"
    },
    {
     "data": {
      "text/html": [
       "<pre>recommendations finished on 11000/52541 queries. users per second: 258.454</pre>"
      ],
      "text/plain": [
       "recommendations finished on 11000/52541 queries. users per second: 258.454"
      ]
     },
     "metadata": {},
     "output_type": "display_data"
    },
    {
     "data": {
      "text/html": [
       "<pre>recommendations finished on 12000/52541 queries. users per second: 258.687</pre>"
      ],
      "text/plain": [
       "recommendations finished on 12000/52541 queries. users per second: 258.687"
      ]
     },
     "metadata": {},
     "output_type": "display_data"
    },
    {
     "data": {
      "text/html": [
       "<pre>recommendations finished on 13000/52541 queries. users per second: 258.87</pre>"
      ],
      "text/plain": [
       "recommendations finished on 13000/52541 queries. users per second: 258.87"
      ]
     },
     "metadata": {},
     "output_type": "display_data"
    },
    {
     "data": {
      "text/html": [
       "<pre>recommendations finished on 14000/52541 queries. users per second: 258.438</pre>"
      ],
      "text/plain": [
       "recommendations finished on 14000/52541 queries. users per second: 258.438"
      ]
     },
     "metadata": {},
     "output_type": "display_data"
    },
    {
     "data": {
      "text/html": [
       "<pre>recommendations finished on 15000/52541 queries. users per second: 257.52</pre>"
      ],
      "text/plain": [
       "recommendations finished on 15000/52541 queries. users per second: 257.52"
      ]
     },
     "metadata": {},
     "output_type": "display_data"
    },
    {
     "data": {
      "text/html": [
       "<pre>recommendations finished on 16000/52541 queries. users per second: 255.063</pre>"
      ],
      "text/plain": [
       "recommendations finished on 16000/52541 queries. users per second: 255.063"
      ]
     },
     "metadata": {},
     "output_type": "display_data"
    },
    {
     "data": {
      "text/html": [
       "<pre>recommendations finished on 17000/52541 queries. users per second: 253.785</pre>"
      ],
      "text/plain": [
       "recommendations finished on 17000/52541 queries. users per second: 253.785"
      ]
     },
     "metadata": {},
     "output_type": "display_data"
    },
    {
     "data": {
      "text/html": [
       "<pre>recommendations finished on 18000/52541 queries. users per second: 252.457</pre>"
      ],
      "text/plain": [
       "recommendations finished on 18000/52541 queries. users per second: 252.457"
      ]
     },
     "metadata": {},
     "output_type": "display_data"
    },
    {
     "data": {
      "text/html": [
       "<pre>recommendations finished on 19000/52541 queries. users per second: 251.545</pre>"
      ],
      "text/plain": [
       "recommendations finished on 19000/52541 queries. users per second: 251.545"
      ]
     },
     "metadata": {},
     "output_type": "display_data"
    },
    {
     "data": {
      "text/html": [
       "<pre>recommendations finished on 20000/52541 queries. users per second: 250.748</pre>"
      ],
      "text/plain": [
       "recommendations finished on 20000/52541 queries. users per second: 250.748"
      ]
     },
     "metadata": {},
     "output_type": "display_data"
    },
    {
     "data": {
      "text/html": [
       "<pre>recommendations finished on 21000/52541 queries. users per second: 249.985</pre>"
      ],
      "text/plain": [
       "recommendations finished on 21000/52541 queries. users per second: 249.985"
      ]
     },
     "metadata": {},
     "output_type": "display_data"
    },
    {
     "data": {
      "text/html": [
       "<pre>recommendations finished on 22000/52541 queries. users per second: 249.332</pre>"
      ],
      "text/plain": [
       "recommendations finished on 22000/52541 queries. users per second: 249.332"
      ]
     },
     "metadata": {},
     "output_type": "display_data"
    },
    {
     "data": {
      "text/html": [
       "<pre>recommendations finished on 23000/52541 queries. users per second: 248.744</pre>"
      ],
      "text/plain": [
       "recommendations finished on 23000/52541 queries. users per second: 248.744"
      ]
     },
     "metadata": {},
     "output_type": "display_data"
    },
    {
     "data": {
      "text/html": [
       "<pre>recommendations finished on 24000/52541 queries. users per second: 248.175</pre>"
      ],
      "text/plain": [
       "recommendations finished on 24000/52541 queries. users per second: 248.175"
      ]
     },
     "metadata": {},
     "output_type": "display_data"
    },
    {
     "data": {
      "text/html": [
       "<pre>recommendations finished on 25000/52541 queries. users per second: 247.64</pre>"
      ],
      "text/plain": [
       "recommendations finished on 25000/52541 queries. users per second: 247.64"
      ]
     },
     "metadata": {},
     "output_type": "display_data"
    },
    {
     "data": {
      "text/html": [
       "<pre>recommendations finished on 26000/52541 queries. users per second: 247.113</pre>"
      ],
      "text/plain": [
       "recommendations finished on 26000/52541 queries. users per second: 247.113"
      ]
     },
     "metadata": {},
     "output_type": "display_data"
    },
    {
     "data": {
      "text/html": [
       "<pre>recommendations finished on 27000/52541 queries. users per second: 246.584</pre>"
      ],
      "text/plain": [
       "recommendations finished on 27000/52541 queries. users per second: 246.584"
      ]
     },
     "metadata": {},
     "output_type": "display_data"
    },
    {
     "data": {
      "text/html": [
       "<pre>recommendations finished on 28000/52541 queries. users per second: 246.112</pre>"
      ],
      "text/plain": [
       "recommendations finished on 28000/52541 queries. users per second: 246.112"
      ]
     },
     "metadata": {},
     "output_type": "display_data"
    },
    {
     "data": {
      "text/html": [
       "<pre>recommendations finished on 29000/52541 queries. users per second: 245.698</pre>"
      ],
      "text/plain": [
       "recommendations finished on 29000/52541 queries. users per second: 245.698"
      ]
     },
     "metadata": {},
     "output_type": "display_data"
    },
    {
     "data": {
      "text/html": [
       "<pre>recommendations finished on 30000/52541 queries. users per second: 245.318</pre>"
      ],
      "text/plain": [
       "recommendations finished on 30000/52541 queries. users per second: 245.318"
      ]
     },
     "metadata": {},
     "output_type": "display_data"
    },
    {
     "data": {
      "text/html": [
       "<pre>recommendations finished on 31000/52541 queries. users per second: 244.928</pre>"
      ],
      "text/plain": [
       "recommendations finished on 31000/52541 queries. users per second: 244.928"
      ]
     },
     "metadata": {},
     "output_type": "display_data"
    },
    {
     "data": {
      "text/html": [
       "<pre>recommendations finished on 32000/52541 queries. users per second: 244.566</pre>"
      ],
      "text/plain": [
       "recommendations finished on 32000/52541 queries. users per second: 244.566"
      ]
     },
     "metadata": {},
     "output_type": "display_data"
    },
    {
     "data": {
      "text/html": [
       "<pre>recommendations finished on 33000/52541 queries. users per second: 244.232</pre>"
      ],
      "text/plain": [
       "recommendations finished on 33000/52541 queries. users per second: 244.232"
      ]
     },
     "metadata": {},
     "output_type": "display_data"
    },
    {
     "data": {
      "text/html": [
       "<pre>recommendations finished on 34000/52541 queries. users per second: 243.94</pre>"
      ],
      "text/plain": [
       "recommendations finished on 34000/52541 queries. users per second: 243.94"
      ]
     },
     "metadata": {},
     "output_type": "display_data"
    },
    {
     "data": {
      "text/html": [
       "<pre>recommendations finished on 35000/52541 queries. users per second: 243.631</pre>"
      ],
      "text/plain": [
       "recommendations finished on 35000/52541 queries. users per second: 243.631"
      ]
     },
     "metadata": {},
     "output_type": "display_data"
    },
    {
     "data": {
      "text/html": [
       "<pre>recommendations finished on 36000/52541 queries. users per second: 243.357</pre>"
      ],
      "text/plain": [
       "recommendations finished on 36000/52541 queries. users per second: 243.357"
      ]
     },
     "metadata": {},
     "output_type": "display_data"
    },
    {
     "data": {
      "text/html": [
       "<pre>recommendations finished on 37000/52541 queries. users per second: 243.114</pre>"
      ],
      "text/plain": [
       "recommendations finished on 37000/52541 queries. users per second: 243.114"
      ]
     },
     "metadata": {},
     "output_type": "display_data"
    },
    {
     "data": {
      "text/html": [
       "<pre>recommendations finished on 38000/52541 queries. users per second: 242.865</pre>"
      ],
      "text/plain": [
       "recommendations finished on 38000/52541 queries. users per second: 242.865"
      ]
     },
     "metadata": {},
     "output_type": "display_data"
    },
    {
     "data": {
      "text/html": [
       "<pre>recommendations finished on 39000/52541 queries. users per second: 242.65</pre>"
      ],
      "text/plain": [
       "recommendations finished on 39000/52541 queries. users per second: 242.65"
      ]
     },
     "metadata": {},
     "output_type": "display_data"
    },
    {
     "data": {
      "text/html": [
       "<pre>recommendations finished on 40000/52541 queries. users per second: 242.415</pre>"
      ],
      "text/plain": [
       "recommendations finished on 40000/52541 queries. users per second: 242.415"
      ]
     },
     "metadata": {},
     "output_type": "display_data"
    },
    {
     "data": {
      "text/html": [
       "<pre>recommendations finished on 41000/52541 queries. users per second: 242.206</pre>"
      ],
      "text/plain": [
       "recommendations finished on 41000/52541 queries. users per second: 242.206"
      ]
     },
     "metadata": {},
     "output_type": "display_data"
    },
    {
     "data": {
      "text/html": [
       "<pre>recommendations finished on 42000/52541 queries. users per second: 242.001</pre>"
      ],
      "text/plain": [
       "recommendations finished on 42000/52541 queries. users per second: 242.001"
      ]
     },
     "metadata": {},
     "output_type": "display_data"
    },
    {
     "data": {
      "text/html": [
       "<pre>recommendations finished on 43000/52541 queries. users per second: 241.657</pre>"
      ],
      "text/plain": [
       "recommendations finished on 43000/52541 queries. users per second: 241.657"
      ]
     },
     "metadata": {},
     "output_type": "display_data"
    },
    {
     "data": {
      "text/html": [
       "<pre>recommendations finished on 44000/52541 queries. users per second: 239.069</pre>"
      ],
      "text/plain": [
       "recommendations finished on 44000/52541 queries. users per second: 239.069"
      ]
     },
     "metadata": {},
     "output_type": "display_data"
    },
    {
     "data": {
      "text/html": [
       "<pre>recommendations finished on 45000/52541 queries. users per second: 238.122</pre>"
      ],
      "text/plain": [
       "recommendations finished on 45000/52541 queries. users per second: 238.122"
      ]
     },
     "metadata": {},
     "output_type": "display_data"
    },
    {
     "data": {
      "text/html": [
       "<pre>recommendations finished on 46000/52541 queries. users per second: 237.116</pre>"
      ],
      "text/plain": [
       "recommendations finished on 46000/52541 queries. users per second: 237.116"
      ]
     },
     "metadata": {},
     "output_type": "display_data"
    },
    {
     "data": {
      "text/html": [
       "<pre>recommendations finished on 47000/52541 queries. users per second: 234.319</pre>"
      ],
      "text/plain": [
       "recommendations finished on 47000/52541 queries. users per second: 234.319"
      ]
     },
     "metadata": {},
     "output_type": "display_data"
    },
    {
     "data": {
      "text/html": [
       "<pre>recommendations finished on 48000/52541 queries. users per second: 232.627</pre>"
      ],
      "text/plain": [
       "recommendations finished on 48000/52541 queries. users per second: 232.627"
      ]
     },
     "metadata": {},
     "output_type": "display_data"
    },
    {
     "data": {
      "text/html": [
       "<pre>recommendations finished on 49000/52541 queries. users per second: 230.535</pre>"
      ],
      "text/plain": [
       "recommendations finished on 49000/52541 queries. users per second: 230.535"
      ]
     },
     "metadata": {},
     "output_type": "display_data"
    },
    {
     "data": {
      "text/html": [
       "<pre>recommendations finished on 50000/52541 queries. users per second: 228.746</pre>"
      ],
      "text/plain": [
       "recommendations finished on 50000/52541 queries. users per second: 228.746"
      ]
     },
     "metadata": {},
     "output_type": "display_data"
    },
    {
     "data": {
      "text/html": [
       "<pre>recommendations finished on 51000/52541 queries. users per second: 225.959</pre>"
      ],
      "text/plain": [
       "recommendations finished on 51000/52541 queries. users per second: 225.959"
      ]
     },
     "metadata": {},
     "output_type": "display_data"
    },
    {
     "data": {
      "text/html": [
       "<pre>recommendations finished on 52000/52541 queries. users per second: 222.504</pre>"
      ],
      "text/plain": [
       "recommendations finished on 52000/52541 queries. users per second: 222.504"
      ]
     },
     "metadata": {},
     "output_type": "display_data"
    },
    {
     "name": "stdout",
     "output_type": "stream",
     "text": [
      "\n",
      "Precision and recall summary statistics by cutoff\n",
      "+--------+----------------+-------------+\n",
      "| cutoff | mean_precision | mean_recall |\n",
      "+--------+----------------+-------------+\n",
      "|   1    |      0.0       |     0.0     |\n",
      "|   2    |      0.0       |     0.0     |\n",
      "|   3    |      0.0       |     0.0     |\n",
      "|   4    |      0.0       |     0.0     |\n",
      "|   5    |      0.0       |     0.0     |\n",
      "|   6    |      0.0       |     0.0     |\n",
      "|   7    |      0.0       |     0.0     |\n",
      "|   8    |      0.0       |     0.0     |\n",
      "|   9    |      0.0       |     0.0     |\n",
      "|   10   |      0.0       |     0.0     |\n",
      "+--------+----------------+-------------+\n",
      "[10 rows x 3 columns]\n",
      "\n",
      "('\\nOverall RMSE: ', 0.44134239691598026)\n",
      "\n",
      "Per User RMSE (best)\n",
      "+---------+-------+------------------+\n",
      "| user_id | count |       rmse       |\n",
      "+---------+-------+------------------+\n",
      "|  14109  |   1   | 0.00094001218705 |\n",
      "+---------+-------+------------------+\n",
      "[1 rows x 3 columns]\n",
      "\n",
      "\n",
      "Per User RMSE (worst)\n",
      "+---------+-------+---------------+\n",
      "| user_id | count |      rmse     |\n",
      "+---------+-------+---------------+\n",
      "|  52153  |   1   | 1.35965613819 |\n",
      "+---------+-------+---------------+\n",
      "[1 rows x 3 columns]\n",
      "\n",
      "\n",
      "Per Item RMSE (best)\n",
      "+---------+-------+----------------+\n",
      "| book_id | count |      rmse      |\n",
      "+---------+-------+----------------+\n",
      "|   6989  |   67  | 0.155977367858 |\n",
      "+---------+-------+----------------+\n",
      "[1 rows x 3 columns]\n",
      "\n",
      "\n",
      "Per Item RMSE (worst)\n",
      "+---------+-------+---------------+\n",
      "| book_id | count |      rmse     |\n",
      "+---------+-------+---------------+\n",
      "|    6    |   63  | 1.25382395795 |\n",
      "+---------+-------+---------------+\n",
      "[1 rows x 3 columns]\n",
      "\n"
     ]
    }
   ],
   "source": [
    "result_modified_matrix_factorization=modified_matrix_factorization.evaluate(train)"
   ]
  },
  {
   "cell_type": "code",
   "execution_count": 32,
   "metadata": {
    "collapsed": false
   },
   "outputs": [
    {
     "data": {
      "text/html": [
       "<pre>recommendations finished on 1000/52541 queries. users per second: 249.649</pre>"
      ],
      "text/plain": [
       "recommendations finished on 1000/52541 queries. users per second: 249.649"
      ]
     },
     "metadata": {},
     "output_type": "display_data"
    },
    {
     "data": {
      "text/html": [
       "<pre>recommendations finished on 2000/52541 queries. users per second: 253.227</pre>"
      ],
      "text/plain": [
       "recommendations finished on 2000/52541 queries. users per second: 253.227"
      ]
     },
     "metadata": {},
     "output_type": "display_data"
    },
    {
     "data": {
      "text/html": [
       "<pre>recommendations finished on 3000/52541 queries. users per second: 252.703</pre>"
      ],
      "text/plain": [
       "recommendations finished on 3000/52541 queries. users per second: 252.703"
      ]
     },
     "metadata": {},
     "output_type": "display_data"
    },
    {
     "data": {
      "text/html": [
       "<pre>recommendations finished on 4000/52541 queries. users per second: 250.6</pre>"
      ],
      "text/plain": [
       "recommendations finished on 4000/52541 queries. users per second: 250.6"
      ]
     },
     "metadata": {},
     "output_type": "display_data"
    },
    {
     "data": {
      "text/html": [
       "<pre>recommendations finished on 5000/52541 queries. users per second: 249.607</pre>"
      ],
      "text/plain": [
       "recommendations finished on 5000/52541 queries. users per second: 249.607"
      ]
     },
     "metadata": {},
     "output_type": "display_data"
    },
    {
     "data": {
      "text/html": [
       "<pre>recommendations finished on 6000/52541 queries. users per second: 248.631</pre>"
      ],
      "text/plain": [
       "recommendations finished on 6000/52541 queries. users per second: 248.631"
      ]
     },
     "metadata": {},
     "output_type": "display_data"
    },
    {
     "data": {
      "text/html": [
       "<pre>recommendations finished on 7000/52541 queries. users per second: 248.164</pre>"
      ],
      "text/plain": [
       "recommendations finished on 7000/52541 queries. users per second: 248.164"
      ]
     },
     "metadata": {},
     "output_type": "display_data"
    },
    {
     "data": {
      "text/html": [
       "<pre>recommendations finished on 8000/52541 queries. users per second: 247.76</pre>"
      ],
      "text/plain": [
       "recommendations finished on 8000/52541 queries. users per second: 247.76"
      ]
     },
     "metadata": {},
     "output_type": "display_data"
    },
    {
     "data": {
      "text/html": [
       "<pre>recommendations finished on 9000/52541 queries. users per second: 247.443</pre>"
      ],
      "text/plain": [
       "recommendations finished on 9000/52541 queries. users per second: 247.443"
      ]
     },
     "metadata": {},
     "output_type": "display_data"
    },
    {
     "data": {
      "text/html": [
       "<pre>recommendations finished on 10000/52541 queries. users per second: 247.208</pre>"
      ],
      "text/plain": [
       "recommendations finished on 10000/52541 queries. users per second: 247.208"
      ]
     },
     "metadata": {},
     "output_type": "display_data"
    },
    {
     "data": {
      "text/html": [
       "<pre>recommendations finished on 11000/52541 queries. users per second: 247.002</pre>"
      ],
      "text/plain": [
       "recommendations finished on 11000/52541 queries. users per second: 247.002"
      ]
     },
     "metadata": {},
     "output_type": "display_data"
    },
    {
     "data": {
      "text/html": [
       "<pre>recommendations finished on 12000/52541 queries. users per second: 246.888</pre>"
      ],
      "text/plain": [
       "recommendations finished on 12000/52541 queries. users per second: 246.888"
      ]
     },
     "metadata": {},
     "output_type": "display_data"
    },
    {
     "data": {
      "text/html": [
       "<pre>recommendations finished on 13000/52541 queries. users per second: 246.7</pre>"
      ],
      "text/plain": [
       "recommendations finished on 13000/52541 queries. users per second: 246.7"
      ]
     },
     "metadata": {},
     "output_type": "display_data"
    },
    {
     "data": {
      "text/html": [
       "<pre>recommendations finished on 14000/52541 queries. users per second: 246.55</pre>"
      ],
      "text/plain": [
       "recommendations finished on 14000/52541 queries. users per second: 246.55"
      ]
     },
     "metadata": {},
     "output_type": "display_data"
    },
    {
     "data": {
      "text/html": [
       "<pre>recommendations finished on 15000/52541 queries. users per second: 246.512</pre>"
      ],
      "text/plain": [
       "recommendations finished on 15000/52541 queries. users per second: 246.512"
      ]
     },
     "metadata": {},
     "output_type": "display_data"
    },
    {
     "data": {
      "text/html": [
       "<pre>recommendations finished on 16000/52541 queries. users per second: 246.347</pre>"
      ],
      "text/plain": [
       "recommendations finished on 16000/52541 queries. users per second: 246.347"
      ]
     },
     "metadata": {},
     "output_type": "display_data"
    },
    {
     "data": {
      "text/html": [
       "<pre>recommendations finished on 17000/52541 queries. users per second: 246.222</pre>"
      ],
      "text/plain": [
       "recommendations finished on 17000/52541 queries. users per second: 246.222"
      ]
     },
     "metadata": {},
     "output_type": "display_data"
    },
    {
     "data": {
      "text/html": [
       "<pre>recommendations finished on 18000/52541 queries. users per second: 246.113</pre>"
      ],
      "text/plain": [
       "recommendations finished on 18000/52541 queries. users per second: 246.113"
      ]
     },
     "metadata": {},
     "output_type": "display_data"
    },
    {
     "data": {
      "text/html": [
       "<pre>recommendations finished on 19000/52541 queries. users per second: 246.049</pre>"
      ],
      "text/plain": [
       "recommendations finished on 19000/52541 queries. users per second: 246.049"
      ]
     },
     "metadata": {},
     "output_type": "display_data"
    },
    {
     "data": {
      "text/html": [
       "<pre>recommendations finished on 20000/52541 queries. users per second: 245.978</pre>"
      ],
      "text/plain": [
       "recommendations finished on 20000/52541 queries. users per second: 245.978"
      ]
     },
     "metadata": {},
     "output_type": "display_data"
    },
    {
     "data": {
      "text/html": [
       "<pre>recommendations finished on 21000/52541 queries. users per second: 245.909</pre>"
      ],
      "text/plain": [
       "recommendations finished on 21000/52541 queries. users per second: 245.909"
      ]
     },
     "metadata": {},
     "output_type": "display_data"
    },
    {
     "data": {
      "text/html": [
       "<pre>recommendations finished on 22000/52541 queries. users per second: 245.809</pre>"
      ],
      "text/plain": [
       "recommendations finished on 22000/52541 queries. users per second: 245.809"
      ]
     },
     "metadata": {},
     "output_type": "display_data"
    },
    {
     "data": {
      "text/html": [
       "<pre>recommendations finished on 23000/52541 queries. users per second: 245.737</pre>"
      ],
      "text/plain": [
       "recommendations finished on 23000/52541 queries. users per second: 245.737"
      ]
     },
     "metadata": {},
     "output_type": "display_data"
    },
    {
     "data": {
      "text/html": [
       "<pre>recommendations finished on 24000/52541 queries. users per second: 245.669</pre>"
      ],
      "text/plain": [
       "recommendations finished on 24000/52541 queries. users per second: 245.669"
      ]
     },
     "metadata": {},
     "output_type": "display_data"
    },
    {
     "data": {
      "text/html": [
       "<pre>recommendations finished on 25000/52541 queries. users per second: 245.613</pre>"
      ],
      "text/plain": [
       "recommendations finished on 25000/52541 queries. users per second: 245.613"
      ]
     },
     "metadata": {},
     "output_type": "display_data"
    },
    {
     "data": {
      "text/html": [
       "<pre>recommendations finished on 26000/52541 queries. users per second: 245.506</pre>"
      ],
      "text/plain": [
       "recommendations finished on 26000/52541 queries. users per second: 245.506"
      ]
     },
     "metadata": {},
     "output_type": "display_data"
    },
    {
     "data": {
      "text/html": [
       "<pre>recommendations finished on 27000/52541 queries. users per second: 245.372</pre>"
      ],
      "text/plain": [
       "recommendations finished on 27000/52541 queries. users per second: 245.372"
      ]
     },
     "metadata": {},
     "output_type": "display_data"
    },
    {
     "data": {
      "text/html": [
       "<pre>recommendations finished on 28000/52541 queries. users per second: 245.277</pre>"
      ],
      "text/plain": [
       "recommendations finished on 28000/52541 queries. users per second: 245.277"
      ]
     },
     "metadata": {},
     "output_type": "display_data"
    },
    {
     "data": {
      "text/html": [
       "<pre>recommendations finished on 29000/52541 queries. users per second: 245.159</pre>"
      ],
      "text/plain": [
       "recommendations finished on 29000/52541 queries. users per second: 245.159"
      ]
     },
     "metadata": {},
     "output_type": "display_data"
    },
    {
     "data": {
      "text/html": [
       "<pre>recommendations finished on 30000/52541 queries. users per second: 245.067</pre>"
      ],
      "text/plain": [
       "recommendations finished on 30000/52541 queries. users per second: 245.067"
      ]
     },
     "metadata": {},
     "output_type": "display_data"
    },
    {
     "data": {
      "text/html": [
       "<pre>recommendations finished on 31000/52541 queries. users per second: 244.969</pre>"
      ],
      "text/plain": [
       "recommendations finished on 31000/52541 queries. users per second: 244.969"
      ]
     },
     "metadata": {},
     "output_type": "display_data"
    },
    {
     "data": {
      "text/html": [
       "<pre>recommendations finished on 32000/52541 queries. users per second: 244.898</pre>"
      ],
      "text/plain": [
       "recommendations finished on 32000/52541 queries. users per second: 244.898"
      ]
     },
     "metadata": {},
     "output_type": "display_data"
    },
    {
     "data": {
      "text/html": [
       "<pre>recommendations finished on 33000/52541 queries. users per second: 244.822</pre>"
      ],
      "text/plain": [
       "recommendations finished on 33000/52541 queries. users per second: 244.822"
      ]
     },
     "metadata": {},
     "output_type": "display_data"
    },
    {
     "data": {
      "text/html": [
       "<pre>recommendations finished on 34000/52541 queries. users per second: 244.756</pre>"
      ],
      "text/plain": [
       "recommendations finished on 34000/52541 queries. users per second: 244.756"
      ]
     },
     "metadata": {},
     "output_type": "display_data"
    },
    {
     "data": {
      "text/html": [
       "<pre>recommendations finished on 35000/52541 queries. users per second: 244.654</pre>"
      ],
      "text/plain": [
       "recommendations finished on 35000/52541 queries. users per second: 244.654"
      ]
     },
     "metadata": {},
     "output_type": "display_data"
    },
    {
     "data": {
      "text/html": [
       "<pre>recommendations finished on 36000/52541 queries. users per second: 244.585</pre>"
      ],
      "text/plain": [
       "recommendations finished on 36000/52541 queries. users per second: 244.585"
      ]
     },
     "metadata": {},
     "output_type": "display_data"
    },
    {
     "data": {
      "text/html": [
       "<pre>recommendations finished on 37000/52541 queries. users per second: 244.499</pre>"
      ],
      "text/plain": [
       "recommendations finished on 37000/52541 queries. users per second: 244.499"
      ]
     },
     "metadata": {},
     "output_type": "display_data"
    },
    {
     "data": {
      "text/html": [
       "<pre>recommendations finished on 38000/52541 queries. users per second: 244.344</pre>"
      ],
      "text/plain": [
       "recommendations finished on 38000/52541 queries. users per second: 244.344"
      ]
     },
     "metadata": {},
     "output_type": "display_data"
    },
    {
     "data": {
      "text/html": [
       "<pre>recommendations finished on 39000/52541 queries. users per second: 244.265</pre>"
      ],
      "text/plain": [
       "recommendations finished on 39000/52541 queries. users per second: 244.265"
      ]
     },
     "metadata": {},
     "output_type": "display_data"
    },
    {
     "data": {
      "text/html": [
       "<pre>recommendations finished on 40000/52541 queries. users per second: 244.042</pre>"
      ],
      "text/plain": [
       "recommendations finished on 40000/52541 queries. users per second: 244.042"
      ]
     },
     "metadata": {},
     "output_type": "display_data"
    },
    {
     "data": {
      "text/html": [
       "<pre>recommendations finished on 41000/52541 queries. users per second: 243.991</pre>"
      ],
      "text/plain": [
       "recommendations finished on 41000/52541 queries. users per second: 243.991"
      ]
     },
     "metadata": {},
     "output_type": "display_data"
    },
    {
     "data": {
      "text/html": [
       "<pre>recommendations finished on 42000/52541 queries. users per second: 243.934</pre>"
      ],
      "text/plain": [
       "recommendations finished on 42000/52541 queries. users per second: 243.934"
      ]
     },
     "metadata": {},
     "output_type": "display_data"
    },
    {
     "data": {
      "text/html": [
       "<pre>recommendations finished on 43000/52541 queries. users per second: 242.858</pre>"
      ],
      "text/plain": [
       "recommendations finished on 43000/52541 queries. users per second: 242.858"
      ]
     },
     "metadata": {},
     "output_type": "display_data"
    },
    {
     "data": {
      "text/html": [
       "<pre>recommendations finished on 44000/52541 queries. users per second: 241.889</pre>"
      ],
      "text/plain": [
       "recommendations finished on 44000/52541 queries. users per second: 241.889"
      ]
     },
     "metadata": {},
     "output_type": "display_data"
    },
    {
     "data": {
      "text/html": [
       "<pre>recommendations finished on 45000/52541 queries. users per second: 240.424</pre>"
      ],
      "text/plain": [
       "recommendations finished on 45000/52541 queries. users per second: 240.424"
      ]
     },
     "metadata": {},
     "output_type": "display_data"
    },
    {
     "data": {
      "text/html": [
       "<pre>recommendations finished on 46000/52541 queries. users per second: 239.642</pre>"
      ],
      "text/plain": [
       "recommendations finished on 46000/52541 queries. users per second: 239.642"
      ]
     },
     "metadata": {},
     "output_type": "display_data"
    },
    {
     "data": {
      "text/html": [
       "<pre>recommendations finished on 47000/52541 queries. users per second: 238.932</pre>"
      ],
      "text/plain": [
       "recommendations finished on 47000/52541 queries. users per second: 238.932"
      ]
     },
     "metadata": {},
     "output_type": "display_data"
    },
    {
     "data": {
      "text/html": [
       "<pre>recommendations finished on 48000/52541 queries. users per second: 237.4</pre>"
      ],
      "text/plain": [
       "recommendations finished on 48000/52541 queries. users per second: 237.4"
      ]
     },
     "metadata": {},
     "output_type": "display_data"
    },
    {
     "data": {
      "text/html": [
       "<pre>recommendations finished on 49000/52541 queries. users per second: 235.719</pre>"
      ],
      "text/plain": [
       "recommendations finished on 49000/52541 queries. users per second: 235.719"
      ]
     },
     "metadata": {},
     "output_type": "display_data"
    },
    {
     "data": {
      "text/html": [
       "<pre>recommendations finished on 50000/52541 queries. users per second: 234.178</pre>"
      ],
      "text/plain": [
       "recommendations finished on 50000/52541 queries. users per second: 234.178"
      ]
     },
     "metadata": {},
     "output_type": "display_data"
    },
    {
     "data": {
      "text/html": [
       "<pre>recommendations finished on 51000/52541 queries. users per second: 232.668</pre>"
      ],
      "text/plain": [
       "recommendations finished on 51000/52541 queries. users per second: 232.668"
      ]
     },
     "metadata": {},
     "output_type": "display_data"
    },
    {
     "data": {
      "text/html": [
       "<pre>recommendations finished on 52000/52541 queries. users per second: 229.787</pre>"
      ],
      "text/plain": [
       "recommendations finished on 52000/52541 queries. users per second: 229.787"
      ]
     },
     "metadata": {},
     "output_type": "display_data"
    },
    {
     "name": "stdout",
     "output_type": "stream",
     "text": [
      "\n",
      "Precision and recall summary statistics by cutoff\n",
      "+--------+----------------+-------------+\n",
      "| cutoff | mean_precision | mean_recall |\n",
      "+--------+----------------+-------------+\n",
      "|   1    |      0.0       |     0.0     |\n",
      "|   2    |      0.0       |     0.0     |\n",
      "|   3    |      0.0       |     0.0     |\n",
      "|   4    |      0.0       |     0.0     |\n",
      "|   5    |      0.0       |     0.0     |\n",
      "|   6    |      0.0       |     0.0     |\n",
      "|   7    |      0.0       |     0.0     |\n",
      "|   8    |      0.0       |     0.0     |\n",
      "|   9    |      0.0       |     0.0     |\n",
      "|   10   |      0.0       |     0.0     |\n",
      "+--------+----------------+-------------+\n",
      "[10 rows x 3 columns]\n",
      "\n",
      "('\\nOverall RMSE: ', 0.9194270710853149)\n",
      "\n",
      "Per User RMSE (best)\n",
      "+---------+-------+-------------------+\n",
      "| user_id | count |        rmse       |\n",
      "+---------+-------+-------------------+\n",
      "|  38957  |   1   | 0.000401033706595 |\n",
      "+---------+-------+-------------------+\n",
      "[1 rows x 3 columns]\n",
      "\n",
      "\n",
      "Per User RMSE (worst)\n",
      "+---------+-------+---------------+\n",
      "| user_id | count |      rmse     |\n",
      "+---------+-------+---------------+\n",
      "|   8884  |   2   | 2.57148252451 |\n",
      "+---------+-------+---------------+\n",
      "[1 rows x 3 columns]\n",
      "\n",
      "\n",
      "Per Item RMSE (best)\n",
      "+---------+-------+----------------+\n",
      "| book_id | count |      rmse      |\n",
      "+---------+-------+----------------+\n",
      "|   9700  |   61  | 0.326601966698 |\n",
      "+---------+-------+----------------+\n",
      "[1 rows x 3 columns]\n",
      "\n",
      "\n",
      "Per Item RMSE (worst)\n",
      "+---------+-------+---------------+\n",
      "| book_id | count |      rmse     |\n",
      "+---------+-------+---------------+\n",
      "|    61   |   60  | 3.12193007854 |\n",
      "+---------+-------+---------------+\n",
      "[1 rows x 3 columns]\n",
      "\n"
     ]
    }
   ],
   "source": [
    "result_matrix_factorization=matrix_factorization.evaluate(train)"
   ]
  },
  {
   "cell_type": "code",
   "execution_count": 37,
   "metadata": {
    "collapsed": false
   },
   "outputs": [
    {
     "data": {
      "text/html": [
       "<pre>recommendations finished on 1000/52541 queries. users per second: 10683.8</pre>"
      ],
      "text/plain": [
       "recommendations finished on 1000/52541 queries. users per second: 10683.8"
      ]
     },
     "metadata": {},
     "output_type": "display_data"
    },
    {
     "data": {
      "text/html": [
       "<pre>recommendations finished on 2000/52541 queries. users per second: 11312</pre>"
      ],
      "text/plain": [
       "recommendations finished on 2000/52541 queries. users per second: 11312"
      ]
     },
     "metadata": {},
     "output_type": "display_data"
    },
    {
     "data": {
      "text/html": [
       "<pre>recommendations finished on 3000/52541 queries. users per second: 10489.3</pre>"
      ],
      "text/plain": [
       "recommendations finished on 3000/52541 queries. users per second: 10489.3"
      ]
     },
     "metadata": {},
     "output_type": "display_data"
    },
    {
     "data": {
      "text/html": [
       "<pre>recommendations finished on 4000/52541 queries. users per second: 10203.7</pre>"
      ],
      "text/plain": [
       "recommendations finished on 4000/52541 queries. users per second: 10203.7"
      ]
     },
     "metadata": {},
     "output_type": "display_data"
    },
    {
     "data": {
      "text/html": [
       "<pre>recommendations finished on 5000/52541 queries. users per second: 10266.5</pre>"
      ],
      "text/plain": [
       "recommendations finished on 5000/52541 queries. users per second: 10266.5"
      ]
     },
     "metadata": {},
     "output_type": "display_data"
    },
    {
     "data": {
      "text/html": [
       "<pre>recommendations finished on 6000/52541 queries. users per second: 10016.3</pre>"
      ],
      "text/plain": [
       "recommendations finished on 6000/52541 queries. users per second: 10016.3"
      ]
     },
     "metadata": {},
     "output_type": "display_data"
    },
    {
     "data": {
      "text/html": [
       "<pre>recommendations finished on 7000/52541 queries. users per second: 10159.2</pre>"
      ],
      "text/plain": [
       "recommendations finished on 7000/52541 queries. users per second: 10159.2"
      ]
     },
     "metadata": {},
     "output_type": "display_data"
    },
    {
     "data": {
      "text/html": [
       "<pre>recommendations finished on 8000/52541 queries. users per second: 10367.6</pre>"
      ],
      "text/plain": [
       "recommendations finished on 8000/52541 queries. users per second: 10367.6"
      ]
     },
     "metadata": {},
     "output_type": "display_data"
    },
    {
     "data": {
      "text/html": [
       "<pre>recommendations finished on 9000/52541 queries. users per second: 10498.8</pre>"
      ],
      "text/plain": [
       "recommendations finished on 9000/52541 queries. users per second: 10498.8"
      ]
     },
     "metadata": {},
     "output_type": "display_data"
    },
    {
     "data": {
      "text/html": [
       "<pre>recommendations finished on 10000/52541 queries. users per second: 10464.2</pre>"
      ],
      "text/plain": [
       "recommendations finished on 10000/52541 queries. users per second: 10464.2"
      ]
     },
     "metadata": {},
     "output_type": "display_data"
    },
    {
     "data": {
      "text/html": [
       "<pre>recommendations finished on 11000/52541 queries. users per second: 10430</pre>"
      ],
      "text/plain": [
       "recommendations finished on 11000/52541 queries. users per second: 10430"
      ]
     },
     "metadata": {},
     "output_type": "display_data"
    },
    {
     "data": {
      "text/html": [
       "<pre>recommendations finished on 12000/52541 queries. users per second: 10566.7</pre>"
      ],
      "text/plain": [
       "recommendations finished on 12000/52541 queries. users per second: 10566.7"
      ]
     },
     "metadata": {},
     "output_type": "display_data"
    },
    {
     "data": {
      "text/html": [
       "<pre>recommendations finished on 13000/52541 queries. users per second: 10485.1</pre>"
      ],
      "text/plain": [
       "recommendations finished on 13000/52541 queries. users per second: 10485.1"
      ]
     },
     "metadata": {},
     "output_type": "display_data"
    },
    {
     "data": {
      "text/html": [
       "<pre>recommendations finished on 14000/52541 queries. users per second: 10573.6</pre>"
      ],
      "text/plain": [
       "recommendations finished on 14000/52541 queries. users per second: 10573.6"
      ]
     },
     "metadata": {},
     "output_type": "display_data"
    },
    {
     "data": {
      "text/html": [
       "<pre>recommendations finished on 15000/52541 queries. users per second: 10563</pre>"
      ],
      "text/plain": [
       "recommendations finished on 15000/52541 queries. users per second: 10563"
      ]
     },
     "metadata": {},
     "output_type": "display_data"
    },
    {
     "data": {
      "text/html": [
       "<pre>recommendations finished on 16000/52541 queries. users per second: 10612.5</pre>"
      ],
      "text/plain": [
       "recommendations finished on 16000/52541 queries. users per second: 10612.5"
      ]
     },
     "metadata": {},
     "output_type": "display_data"
    },
    {
     "data": {
      "text/html": [
       "<pre>recommendations finished on 17000/52541 queries. users per second: 10584.9</pre>"
      ],
      "text/plain": [
       "recommendations finished on 17000/52541 queries. users per second: 10584.9"
      ]
     },
     "metadata": {},
     "output_type": "display_data"
    },
    {
     "data": {
      "text/html": [
       "<pre>recommendations finished on 18000/52541 queries. users per second: 10563</pre>"
      ],
      "text/plain": [
       "recommendations finished on 18000/52541 queries. users per second: 10563"
      ]
     },
     "metadata": {},
     "output_type": "display_data"
    },
    {
     "data": {
      "text/html": [
       "<pre>recommendations finished on 19000/52541 queries. users per second: 10525.9</pre>"
      ],
      "text/plain": [
       "recommendations finished on 19000/52541 queries. users per second: 10525.9"
      ]
     },
     "metadata": {},
     "output_type": "display_data"
    },
    {
     "data": {
      "text/html": [
       "<pre>recommendations finished on 20000/52541 queries. users per second: 10529.3</pre>"
      ],
      "text/plain": [
       "recommendations finished on 20000/52541 queries. users per second: 10529.3"
      ]
     },
     "metadata": {},
     "output_type": "display_data"
    },
    {
     "data": {
      "text/html": [
       "<pre>recommendations finished on 21000/52541 queries. users per second: 10545</pre>"
      ],
      "text/plain": [
       "recommendations finished on 21000/52541 queries. users per second: 10545"
      ]
     },
     "metadata": {},
     "output_type": "display_data"
    },
    {
     "data": {
      "text/html": [
       "<pre>recommendations finished on 22000/52541 queries. users per second: 10530</pre>"
      ],
      "text/plain": [
       "recommendations finished on 22000/52541 queries. users per second: 10530"
      ]
     },
     "metadata": {},
     "output_type": "display_data"
    },
    {
     "data": {
      "text/html": [
       "<pre>recommendations finished on 23000/52541 queries. users per second: 10513.4</pre>"
      ],
      "text/plain": [
       "recommendations finished on 23000/52541 queries. users per second: 10513.4"
      ]
     },
     "metadata": {},
     "output_type": "display_data"
    },
    {
     "data": {
      "text/html": [
       "<pre>recommendations finished on 24000/52541 queries. users per second: 10480.9</pre>"
      ],
      "text/plain": [
       "recommendations finished on 24000/52541 queries. users per second: 10480.9"
      ]
     },
     "metadata": {},
     "output_type": "display_data"
    },
    {
     "data": {
      "text/html": [
       "<pre>recommendations finished on 25000/52541 queries. users per second: 10390.3</pre>"
      ],
      "text/plain": [
       "recommendations finished on 25000/52541 queries. users per second: 10390.3"
      ]
     },
     "metadata": {},
     "output_type": "display_data"
    },
    {
     "data": {
      "text/html": [
       "<pre>recommendations finished on 26000/52541 queries. users per second: 10270.6</pre>"
      ],
      "text/plain": [
       "recommendations finished on 26000/52541 queries. users per second: 10270.6"
      ]
     },
     "metadata": {},
     "output_type": "display_data"
    },
    {
     "data": {
      "text/html": [
       "<pre>recommendations finished on 27000/52541 queries. users per second: 10217.6</pre>"
      ],
      "text/plain": [
       "recommendations finished on 27000/52541 queries. users per second: 10217.6"
      ]
     },
     "metadata": {},
     "output_type": "display_data"
    },
    {
     "data": {
      "text/html": [
       "<pre>recommendations finished on 28000/52541 queries. users per second: 10183.7</pre>"
      ],
      "text/plain": [
       "recommendations finished on 28000/52541 queries. users per second: 10183.7"
      ]
     },
     "metadata": {},
     "output_type": "display_data"
    },
    {
     "data": {
      "text/html": [
       "<pre>recommendations finished on 29000/52541 queries. users per second: 10088.7</pre>"
      ],
      "text/plain": [
       "recommendations finished on 29000/52541 queries. users per second: 10088.7"
      ]
     },
     "metadata": {},
     "output_type": "display_data"
    },
    {
     "data": {
      "text/html": [
       "<pre>recommendations finished on 30000/52541 queries. users per second: 10065.4</pre>"
      ],
      "text/plain": [
       "recommendations finished on 30000/52541 queries. users per second: 10065.4"
      ]
     },
     "metadata": {},
     "output_type": "display_data"
    },
    {
     "data": {
      "text/html": [
       "<pre>recommendations finished on 31000/52541 queries. users per second: 10024.2</pre>"
      ],
      "text/plain": [
       "recommendations finished on 31000/52541 queries. users per second: 10024.2"
      ]
     },
     "metadata": {},
     "output_type": "display_data"
    },
    {
     "data": {
      "text/html": [
       "<pre>recommendations finished on 32000/52541 queries. users per second: 9982.75</pre>"
      ],
      "text/plain": [
       "recommendations finished on 32000/52541 queries. users per second: 9982.75"
      ]
     },
     "metadata": {},
     "output_type": "display_data"
    },
    {
     "data": {
      "text/html": [
       "<pre>recommendations finished on 33000/52541 queries. users per second: 9962.16</pre>"
      ],
      "text/plain": [
       "recommendations finished on 33000/52541 queries. users per second: 9962.16"
      ]
     },
     "metadata": {},
     "output_type": "display_data"
    },
    {
     "data": {
      "text/html": [
       "<pre>recommendations finished on 34000/52541 queries. users per second: 9919.65</pre>"
      ],
      "text/plain": [
       "recommendations finished on 34000/52541 queries. users per second: 9919.65"
      ]
     },
     "metadata": {},
     "output_type": "display_data"
    },
    {
     "data": {
      "text/html": [
       "<pre>recommendations finished on 35000/52541 queries. users per second: 9877.11</pre>"
      ],
      "text/plain": [
       "recommendations finished on 35000/52541 queries. users per second: 9877.11"
      ]
     },
     "metadata": {},
     "output_type": "display_data"
    },
    {
     "data": {
      "text/html": [
       "<pre>recommendations finished on 36000/52541 queries. users per second: 9826.52</pre>"
      ],
      "text/plain": [
       "recommendations finished on 36000/52541 queries. users per second: 9826.52"
      ]
     },
     "metadata": {},
     "output_type": "display_data"
    },
    {
     "data": {
      "text/html": [
       "<pre>recommendations finished on 37000/52541 queries. users per second: 9815.47</pre>"
      ],
      "text/plain": [
       "recommendations finished on 37000/52541 queries. users per second: 9815.47"
      ]
     },
     "metadata": {},
     "output_type": "display_data"
    },
    {
     "data": {
      "text/html": [
       "<pre>recommendations finished on 38000/52541 queries. users per second: 9789.86</pre>"
      ],
      "text/plain": [
       "recommendations finished on 38000/52541 queries. users per second: 9789.86"
      ]
     },
     "metadata": {},
     "output_type": "display_data"
    },
    {
     "data": {
      "text/html": [
       "<pre>recommendations finished on 39000/52541 queries. users per second: 9787.75</pre>"
      ],
      "text/plain": [
       "recommendations finished on 39000/52541 queries. users per second: 9787.75"
      ]
     },
     "metadata": {},
     "output_type": "display_data"
    },
    {
     "data": {
      "text/html": [
       "<pre>recommendations finished on 40000/52541 queries. users per second: 9809.75</pre>"
      ],
      "text/plain": [
       "recommendations finished on 40000/52541 queries. users per second: 9809.75"
      ]
     },
     "metadata": {},
     "output_type": "display_data"
    },
    {
     "data": {
      "text/html": [
       "<pre>recommendations finished on 41000/52541 queries. users per second: 9707.39</pre>"
      ],
      "text/plain": [
       "recommendations finished on 41000/52541 queries. users per second: 9707.39"
      ]
     },
     "metadata": {},
     "output_type": "display_data"
    },
    {
     "data": {
      "text/html": [
       "<pre>recommendations finished on 42000/52541 queries. users per second: 9514.77</pre>"
      ],
      "text/plain": [
       "recommendations finished on 42000/52541 queries. users per second: 9514.77"
      ]
     },
     "metadata": {},
     "output_type": "display_data"
    },
    {
     "data": {
      "text/html": [
       "<pre>recommendations finished on 43000/52541 queries. users per second: 9360.45</pre>"
      ],
      "text/plain": [
       "recommendations finished on 43000/52541 queries. users per second: 9360.45"
      ]
     },
     "metadata": {},
     "output_type": "display_data"
    },
    {
     "data": {
      "text/html": [
       "<pre>recommendations finished on 44000/52541 queries. users per second: 9168.94</pre>"
      ],
      "text/plain": [
       "recommendations finished on 44000/52541 queries. users per second: 9168.94"
      ]
     },
     "metadata": {},
     "output_type": "display_data"
    },
    {
     "data": {
      "text/html": [
       "<pre>recommendations finished on 45000/52541 queries. users per second: 9094.56</pre>"
      ],
      "text/plain": [
       "recommendations finished on 45000/52541 queries. users per second: 9094.56"
      ]
     },
     "metadata": {},
     "output_type": "display_data"
    },
    {
     "data": {
      "text/html": [
       "<pre>recommendations finished on 46000/52541 queries. users per second: 9022.06</pre>"
      ],
      "text/plain": [
       "recommendations finished on 46000/52541 queries. users per second: 9022.06"
      ]
     },
     "metadata": {},
     "output_type": "display_data"
    },
    {
     "data": {
      "text/html": [
       "<pre>recommendations finished on 47000/52541 queries. users per second: 8958.5</pre>"
      ],
      "text/plain": [
       "recommendations finished on 47000/52541 queries. users per second: 8958.5"
      ]
     },
     "metadata": {},
     "output_type": "display_data"
    },
    {
     "data": {
      "text/html": [
       "<pre>recommendations finished on 48000/52541 queries. users per second: 8703.49</pre>"
      ],
      "text/plain": [
       "recommendations finished on 48000/52541 queries. users per second: 8703.49"
      ]
     },
     "metadata": {},
     "output_type": "display_data"
    },
    {
     "data": {
      "text/html": [
       "<pre>recommendations finished on 49000/52541 queries. users per second: 8549.34</pre>"
      ],
      "text/plain": [
       "recommendations finished on 49000/52541 queries. users per second: 8549.34"
      ]
     },
     "metadata": {},
     "output_type": "display_data"
    },
    {
     "data": {
      "text/html": [
       "<pre>recommendations finished on 50000/52541 queries. users per second: 8413.21</pre>"
      ],
      "text/plain": [
       "recommendations finished on 50000/52541 queries. users per second: 8413.21"
      ]
     },
     "metadata": {},
     "output_type": "display_data"
    },
    {
     "data": {
      "text/html": [
       "<pre>recommendations finished on 51000/52541 queries. users per second: 8278.36</pre>"
      ],
      "text/plain": [
       "recommendations finished on 51000/52541 queries. users per second: 8278.36"
      ]
     },
     "metadata": {},
     "output_type": "display_data"
    },
    {
     "data": {
      "text/html": [
       "<pre>recommendations finished on 52000/52541 queries. users per second: 8072.21</pre>"
      ],
      "text/plain": [
       "recommendations finished on 52000/52541 queries. users per second: 8072.21"
      ]
     },
     "metadata": {},
     "output_type": "display_data"
    },
    {
     "name": "stdout",
     "output_type": "stream",
     "text": [
      "\n",
      "Precision and recall summary statistics by cutoff\n",
      "+--------+----------------+-------------+\n",
      "| cutoff | mean_precision | mean_recall |\n",
      "+--------+----------------+-------------+\n",
      "|   1    |      0.0       |     0.0     |\n",
      "|   2    |      0.0       |     0.0     |\n",
      "|   3    |      0.0       |     0.0     |\n",
      "|   4    |      0.0       |     0.0     |\n",
      "|   5    |      0.0       |     0.0     |\n",
      "|   6    |      0.0       |     0.0     |\n",
      "|   7    |      0.0       |     0.0     |\n",
      "|   8    |      0.0       |     0.0     |\n",
      "|   9    |      0.0       |     0.0     |\n",
      "|   10   |      0.0       |     0.0     |\n",
      "+--------+----------------+-------------+\n",
      "[10 rows x 3 columns]\n",
      "\n",
      "('\\nOverall RMSE: ', 3.8522969118467896)\n",
      "\n",
      "Per User RMSE (best)\n",
      "+---------+-------+----------------+\n",
      "| user_id | count |      rmse      |\n",
      "+---------+-------+----------------+\n",
      "|  16716  |   6   | 0.453176687963 |\n",
      "+---------+-------+----------------+\n",
      "[1 rows x 3 columns]\n",
      "\n",
      "\n",
      "Per User RMSE (worst)\n",
      "+---------+-------+------+\n",
      "| user_id | count | rmse |\n",
      "+---------+-------+------+\n",
      "|  51816  |   2   | 5.0  |\n",
      "+---------+-------+------+\n",
      "[1 rows x 3 columns]\n",
      "\n",
      "\n",
      "Per Item RMSE (best)\n",
      "+---------+-------+--------------+\n",
      "| book_id | count |     rmse     |\n",
      "+---------+-------+--------------+\n",
      "|   1793  |   77  | 2.0332026646 |\n",
      "+---------+-------+--------------+\n",
      "[1 rows x 3 columns]\n",
      "\n",
      "\n",
      "Per Item RMSE (worst)\n",
      "+---------+-------+--------------+\n",
      "| book_id | count |     rmse     |\n",
      "+---------+-------+--------------+\n",
      "|   7947  |   62  | 4.9104891025 |\n",
      "+---------+-------+--------------+\n",
      "[1 rows x 3 columns]\n",
      "\n"
     ]
    }
   ],
   "source": [
    "result_content_based_model=content_based_model.evaluate(train)"
   ]
  },
  {
   "cell_type": "code",
   "execution_count": 41,
   "metadata": {
    "collapsed": false
   },
   "outputs": [
    {
     "data": {
      "text/plain": [
       "{'rmse_by_item': Columns:\n",
       " \tbook_id\tint\n",
       " \tcount\tint\n",
       " \trmse\tfloat\n",
       " \n",
       " Rows: 10000\n",
       " \n",
       " Data:\n",
       " +---------+-------+----------------+\n",
       " | book_id | count |      rmse      |\n",
       " +---------+-------+----------------+\n",
       " |   7899  |   67  | 0.888952259834 |\n",
       " |   5288  |   64  | 0.869091207133 |\n",
       " |   3143  |   77  | 0.965856074377 |\n",
       " |   6769  |   70  | 1.02169764462  |\n",
       " |   5684  |   75  | 1.02639261971  |\n",
       " |   2779  |   72  | 0.828348740059 |\n",
       " |   8455  |   76  | 0.75907606104  |\n",
       " |   118   |   75  | 0.910829060991 |\n",
       " |   3988  |   71  | 0.857205430317 |\n",
       " |   5783  |   74  | 1.04903384449  |\n",
       " +---------+-------+----------------+\n",
       " [10000 rows x 3 columns]\n",
       " Note: Only the head of the SFrame is printed.\n",
       " You can use print_rows(num_rows=m, num_columns=n) to print more rows and columns.,\n",
       " 'rmse_by_user': Columns:\n",
       " \tuser_id\tint\n",
       " \tcount\tint\n",
       " \trmse\tfloat\n",
       " \n",
       " Rows: 52541\n",
       " \n",
       " Data:\n",
       " +---------+-------+----------------+\n",
       " | user_id | count |      rmse      |\n",
       " +---------+-------+----------------+\n",
       " |  21855  |   34  | 0.823398979758 |\n",
       " |   7899  |   5   | 0.983141107307 |\n",
       " |  25263  |   5   | 0.730632569144 |\n",
       " |  30621  |   2   | 0.368615395099 |\n",
       " |  43116  |   4   | 0.576003508384 |\n",
       " |  27112  |   10  | 0.797864040607 |\n",
       " |  26319  |   12  | 0.821870981806 |\n",
       " |  26439  |   7   | 1.06144468229  |\n",
       " |   5288  |   8   | 0.985597973085 |\n",
       " |  19584  |   12  | 0.808195891733 |\n",
       " +---------+-------+----------------+\n",
       " [52541 rows x 3 columns]\n",
       " Note: Only the head of the SFrame is printed.\n",
       " You can use print_rows(num_rows=m, num_columns=n) to print more rows and columns.,\n",
       " 'rmse_overall': 0.9212731630778016}"
      ]
     },
     "execution_count": 41,
     "metadata": {},
     "output_type": "execute_result"
    }
   ],
   "source": [
    "result_item_sim_model_rmse= item_sim_model.evaluate_rmse(train,target='rating')\n",
    "result_item_sim_model_rmse"
   ]
  },
  {
   "cell_type": "code",
   "execution_count": 44,
   "metadata": {
    "collapsed": false
   },
   "outputs": [
    {
     "data": {
      "text/plain": [
       "{'rmse_by_item': Columns:\n",
       " \tbook_id\tint\n",
       " \tcount\tint\n",
       " \trmse\tfloat\n",
       " \n",
       " Rows: 10000\n",
       " \n",
       " Data:\n",
       " +---------+-------+---------------+\n",
       " | book_id | count |      rmse     |\n",
       " +---------+-------+---------------+\n",
       " |   7899  |   67  | 4.20381940443 |\n",
       " |   5288  |   64  | 3.89139008642 |\n",
       " |   3143  |   77  | 4.01749592802 |\n",
       " |   6769  |   70  | 3.84582933278 |\n",
       " |   5684  |   75  | 3.53127294884 |\n",
       " |   2779  |   72  | 3.47124063528 |\n",
       " |   8455  |   76  | 4.47360681048 |\n",
       " |   118   |   75  | 3.89701294588 |\n",
       " |   3988  |   71  | 4.43315605024 |\n",
       " |   5783  |   74  | 3.68706296726 |\n",
       " +---------+-------+---------------+\n",
       " [10000 rows x 3 columns]\n",
       " Note: Only the head of the SFrame is printed.\n",
       " You can use print_rows(num_rows=m, num_columns=n) to print more rows and columns.,\n",
       " 'rmse_by_user': Columns:\n",
       " \tuser_id\tint\n",
       " \tcount\tint\n",
       " \trmse\tfloat\n",
       " \n",
       " Rows: 52541\n",
       " \n",
       " Data:\n",
       " +---------+-------+---------------+\n",
       " | user_id | count |      rmse     |\n",
       " +---------+-------+---------------+\n",
       " |  21855  |   34  | 3.97791105792 |\n",
       " |   7899  |   5   | 4.54769152867 |\n",
       " |  25263  |   5   | 4.04969134626 |\n",
       " |  30621  |   2   | 3.53553390593 |\n",
       " |  43116  |   4   | 3.53553390593 |\n",
       " |  27112  |   10  | 4.29290533687 |\n",
       " |  26319  |   12  | 4.54348444874 |\n",
       " |  26439  |   7   | 4.48199054742 |\n",
       " |   5288  |   8   | 3.22102468168 |\n",
       " |  19584  |   12  | 4.49197803133 |\n",
       " +---------+-------+---------------+\n",
       " [52541 rows x 3 columns]\n",
       " Note: Only the head of the SFrame is printed.\n",
       " You can use print_rows(num_rows=m, num_columns=n) to print more rows and columns.,\n",
       " 'rmse_overall': 3.8522969118467896}"
      ]
     },
     "execution_count": 44,
     "metadata": {},
     "output_type": "execute_result"
    }
   ],
   "source": [
    "result_content_based_model_rmse=content_based_model.evaluate_rmse(train,target='rating')\n",
    "result_content_based_model_rmse"
   ]
  },
  {
   "cell_type": "code",
   "execution_count": 45,
   "metadata": {
    "collapsed": false
   },
   "outputs": [
    {
     "data": {
      "text/plain": [
       "{'rmse_by_item': Columns:\n",
       " \tbook_id\tint\n",
       " \tcount\tint\n",
       " \trmse\tfloat\n",
       " \n",
       " Rows: 10000\n",
       " \n",
       " Data:\n",
       " +---------+-------+----------------+\n",
       " | book_id | count |      rmse      |\n",
       " +---------+-------+----------------+\n",
       " |   7899  |   67  | 1.03160482913  |\n",
       " |   5288  |   64  | 0.725938130425 |\n",
       " |   3143  |   77  | 0.960482143555 |\n",
       " |   6769  |   70  | 0.832345813752 |\n",
       " |   5684  |   75  | 0.66167798272  |\n",
       " |   2779  |   72  | 0.772415361718 |\n",
       " |   8455  |   76  | 1.09803673816  |\n",
       " |   118   |   75  | 0.89550939311  |\n",
       " |   3988  |   71  | 0.918804410876 |\n",
       " |   5783  |   74  | 0.993482976627 |\n",
       " +---------+-------+----------------+\n",
       " [10000 rows x 3 columns]\n",
       " Note: Only the head of the SFrame is printed.\n",
       " You can use print_rows(num_rows=m, num_columns=n) to print more rows and columns.,\n",
       " 'rmse_by_user': Columns:\n",
       " \tuser_id\tint\n",
       " \tcount\tint\n",
       " \trmse\tfloat\n",
       " \n",
       " Rows: 52541\n",
       " \n",
       " Data:\n",
       " +---------+-------+----------------+\n",
       " | user_id | count |      rmse      |\n",
       " +---------+-------+----------------+\n",
       " |  21855  |   34  | 0.996324694381 |\n",
       " |   7899  |   5   | 1.03979407777  |\n",
       " |  25263  |   5   | 0.830511286458 |\n",
       " |  30621  |   2   | 0.286689778694 |\n",
       " |  43116  |   4   | 0.499125568377 |\n",
       " |  27112  |   10  | 0.859021744041 |\n",
       " |  26319  |   12  | 0.970330927512 |\n",
       " |  26439  |   7   | 1.22677487365  |\n",
       " |   5288  |   8   | 0.855449931775 |\n",
       " |  19584  |   12  | 0.762254099479 |\n",
       " +---------+-------+----------------+\n",
       " [52541 rows x 3 columns]\n",
       " Note: Only the head of the SFrame is printed.\n",
       " You can use print_rows(num_rows=m, num_columns=n) to print more rows and columns.,\n",
       " 'rmse_overall': 0.9194270710853149}"
      ]
     },
     "execution_count": 45,
     "metadata": {},
     "output_type": "execute_result"
    }
   ],
   "source": [
    "result_matrix_factorization_rmse=matrix_factorization.evaluate_rmse(train,target='rating')\n",
    "result_matrix_factorization_rmse"
   ]
  },
  {
   "cell_type": "code",
   "execution_count": 46,
   "metadata": {
    "collapsed": false
   },
   "outputs": [
    {
     "data": {
      "text/plain": [
       "{'rmse_by_item': Columns:\n",
       " \tbook_id\tint\n",
       " \tcount\tint\n",
       " \trmse\tfloat\n",
       " \n",
       " Rows: 10000\n",
       " \n",
       " Data:\n",
       " +---------+-------+----------------+\n",
       " | book_id | count |      rmse      |\n",
       " +---------+-------+----------------+\n",
       " |   7899  |   67  | 0.38665150047  |\n",
       " |   5288  |   64  | 0.418765306732 |\n",
       " |   3143  |   77  | 0.44503389263  |\n",
       " |   6769  |   70  | 0.787515479694 |\n",
       " |   5684  |   75  | 0.354922787498 |\n",
       " |   2779  |   72  | 0.329263011998 |\n",
       " |   8455  |   76  | 0.598009628585 |\n",
       " |   118   |   75  | 0.640676594304 |\n",
       " |   3988  |   71  | 0.438874594612 |\n",
       " |   5783  |   74  | 0.513500106971 |\n",
       " +---------+-------+----------------+\n",
       " [10000 rows x 3 columns]\n",
       " Note: Only the head of the SFrame is printed.\n",
       " You can use print_rows(num_rows=m, num_columns=n) to print more rows and columns.,\n",
       " 'rmse_by_user': Columns:\n",
       " \tuser_id\tint\n",
       " \tcount\tint\n",
       " \trmse\tfloat\n",
       " \n",
       " Rows: 52541\n",
       " \n",
       " Data:\n",
       " +---------+-------+----------------+\n",
       " | user_id | count |      rmse      |\n",
       " +---------+-------+----------------+\n",
       " |  21855  |   34  | 0.325955820994 |\n",
       " |   7899  |   5   | 0.324614423486 |\n",
       " |  25263  |   5   | 0.319320213973 |\n",
       " |  30621  |   2   | 0.272512211628 |\n",
       " |  43116  |   4   | 0.240823884173 |\n",
       " |  27112  |   10  | 0.354957726407 |\n",
       " |  26319  |   12  | 0.436806161062 |\n",
       " |  26439  |   7   | 0.210233720923 |\n",
       " |   5288  |   8   |  0.3404995129  |\n",
       " |  19584  |   12  | 0.349956719757 |\n",
       " +---------+-------+----------------+\n",
       " [52541 rows x 3 columns]\n",
       " Note: Only the head of the SFrame is printed.\n",
       " You can use print_rows(num_rows=m, num_columns=n) to print more rows and columns.,\n",
       " 'rmse_overall': 0.44134239691598026}"
      ]
     },
     "execution_count": 46,
     "metadata": {},
     "output_type": "execute_result"
    }
   ],
   "source": [
    "result_modified_matrix_factorization_rmse=modified_matrix_factorization.evaluate_rmse(train,target='rating')\n",
    "result_modified_matrix_factorization_rmse"
   ]
  },
  {
   "cell_type": "code",
   "execution_count": null,
   "metadata": {
    "collapsed": true
   },
   "outputs": [],
   "source": []
  }
 ],
 "metadata": {
  "kernelspec": {
   "display_name": "Python 2",
   "language": "python",
   "name": "python2"
  },
  "language_info": {
   "codemirror_mode": {
    "name": "ipython",
    "version": 2
   },
   "file_extension": ".py",
   "mimetype": "text/x-python",
   "name": "python",
   "nbconvert_exporter": "python",
   "pygments_lexer": "ipython2",
   "version": "2.7.13"
  }
 },
 "nbformat": 4,
 "nbformat_minor": 0
}
